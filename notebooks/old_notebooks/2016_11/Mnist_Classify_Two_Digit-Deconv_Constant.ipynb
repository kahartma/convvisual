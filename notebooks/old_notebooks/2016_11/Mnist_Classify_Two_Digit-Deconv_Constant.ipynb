{
 "cells": [
  {
   "cell_type": "markdown",
   "metadata": {},
   "source": [
    "### checking of theano flags"
   ]
  },
  {
   "cell_type": "code",
   "execution_count": 2,
   "metadata": {
    "collapsed": false
   },
   "outputs": [],
   "source": [
    "import os\n",
    "assert 'THEANO_FLAGS' in os.environ\n",
    "# in case you want to switch to cpu, to be able to use more than one notebook\n",
    "#os.environ['THEANO_FLAGS'] = 'floatX=float32,device=cpu,nvcc.fastmath=True'\n",
    "\n",
    "# always good to reload in case you are changing python code files\n",
    "%load_ext autoreload\n",
    "%autoreload 2"
   ]
  },
  {
   "cell_type": "code",
   "execution_count": 3,
   "metadata": {
    "collapsed": false
   },
   "outputs": [
    {
     "name": "stderr",
     "output_type": "stream",
     "text": [
      "Using gpu device 0: GeForce GTX 780 (CNMeM is disabled, cuDNN 5005)\n"
     ]
    }
   ],
   "source": [
    "import numpy as np\n",
    "import theano\n",
    "import theano.tensor as T\n",
    "import lasagne\n",
    "\n",
    "import matplotlib.pyplot as plt\n",
    "%matplotlib inline\n",
    "\n",
    "import gzip\n",
    "import pickle\n",
    "import logging\n",
    "log = logging.getLogger()\n",
    "log.setLevel(\"DEBUG\")"
   ]
  },
  {
   "cell_type": "markdown",
   "metadata": {},
   "source": [
    "### Dataset loading"
   ]
  },
  {
   "cell_type": "markdown",
   "metadata": {},
   "source": [
    "I assume somehow you downloaded this dataset onto the cluster:"
   ]
  },
  {
   "cell_type": "code",
   "execution_count": 4,
   "metadata": {
    "collapsed": false
   },
   "outputs": [],
   "source": [
    "#!wget -N http://deeplearning.net/data/mnist/mnist.pkl.gz\n",
    "# have to do from commandline, otherwise blocked by firewall"
   ]
  },
  {
   "cell_type": "code",
   "execution_count": 5,
   "metadata": {
    "collapsed": false
   },
   "outputs": [
    {
     "name": "stdout",
     "output_type": "stream",
     "text": [
      "(50000, 784) (10000, 784)\n",
      "[5 0 4 ..., 8 4 8] [3 8 6 ..., 5 6 8]\n"
     ]
    }
   ],
   "source": [
    "train, val, test = pickle.load(gzip.open('/home/hartmank/data/mnist/mnist.pkl.gz'))\n",
    "\n",
    "X_train, y_train = train\n",
    "X_val, y_val = val\n",
    "print X_train.shape, X_val.shape\n",
    "print y_train, y_val"
   ]
  },
  {
   "cell_type": "markdown",
   "metadata": {},
   "source": [
    "### Create the two-digit dataset "
   ]
  },
  {
   "cell_type": "code",
   "execution_count": 6,
   "metadata": {
    "collapsed": false
   },
   "outputs": [
    {
     "name": "stdout",
     "output_type": "stream",
     "text": [
      "(50000, 28, 28)\n"
     ]
    }
   ],
   "source": [
    "\n",
    "# Create new dataset: \n",
    "# always two digits next to each other,\n",
    "# model should predict if one of them is smaller than 3\n",
    "X_train_topo = X_train.reshape(X_train.shape[0], 28,28)\n",
    "print X_train_topo.shape\n",
    "X_val_topo = X_val.reshape(X_val.shape[0], 28,28)"
   ]
  },
  {
   "cell_type": "code",
   "execution_count": 7,
   "metadata": {
    "collapsed": false
   },
   "outputs": [
    {
     "name": "stdout",
     "output_type": "stream",
     "text": [
      "(50000, 28, 56)\n",
      "(50000, 1568)\n"
     ]
    }
   ],
   "source": [
    "from numpy.random import RandomState\n",
    "\n",
    "\n",
    "rng = RandomState(98787)\n",
    "random_inds = range(len(X_train))\n",
    "rng.shuffle(random_inds)\n",
    "\n",
    "X_train_topo_both = np.concatenate([X_train_topo, X_train_topo[random_inds]], axis=2)\n",
    "print X_train_topo_both.shape\n",
    "X_train_flat_both = X_train_topo_both.reshape(X_train_topo_both.shape[0],-1)\n",
    "y_train = y_train.astype(np.int32)\n",
    "\n",
    "rng = RandomState(987837)\n",
    "random_val_inds = range(len(X_val))\n",
    "rng.shuffle(random_val_inds)\n",
    "X_val_topo_both = np.concatenate([X_val_topo, X_val_topo[random_val_inds]], axis=2)\n",
    "X_val_flat_both = X_val_topo_both.reshape(X_val_topo_both.shape[0],-1)\n",
    "y_val = y_val.astype(np.int32)\n",
    "\n",
    "print X_train_flat_both.shape\n"
   ]
  },
  {
   "cell_type": "markdown",
   "metadata": {},
   "source": [
    "### Quick check of dataset"
   ]
  },
  {
   "cell_type": "code",
   "execution_count": 8,
   "metadata": {
    "collapsed": false
   },
   "outputs": [
    {
     "data": {
      "text/plain": [
       "<matplotlib.image.AxesImage at 0x7f1540036a50>"
      ]
     },
     "execution_count": 8,
     "metadata": {},
     "output_type": "execute_result"
    },
    {
     "data": {
      "image/png": "[encoded data removed]",
      "text/plain": [
       "<matplotlib.figure.Figure at 0x7f1542145910>"
      ]
     },
     "metadata": {},
     "output_type": "display_data"
    }
   ],
   "source": [
    "from matplotlib import  cm\n",
    "plt.imshow(X_train_topo[0], interpolation='nearest', cmap=cm.Greys)"
   ]
  },
  {
   "cell_type": "markdown",
   "metadata": {},
   "source": [
    "#### Function for creating balanced batches"
   ]
  },
  {
   "cell_type": "code",
   "execution_count": 9,
   "metadata": {
    "collapsed": true
   },
   "outputs": [],
   "source": [
    "from numpy.random import RandomState"
   ]
  },
  {
   "cell_type": "code",
   "execution_count": 10,
   "metadata": {
    "collapsed": true
   },
   "outputs": [],
   "source": [
    "def get_balanced_batches(n_trials, rng, shuffle, n_batches=None, batch_size=None):\n",
    "    \"\"\"Create indices for batches balanced in size (batches will have maximum size difference of 1).\n",
    "    Supply either batch size or number of batches. Resulting batches\n",
    "    will not have the given batch size but rather the next largest batch size\n",
    "    that allows to split the set into balanced batches (maximum size difference 1).\n",
    "\n",
    "    Parameters\n",
    "    ----------\n",
    "    n_trials : int\n",
    "        Size of set.\n",
    "    rng :\n",
    "        \n",
    "    shuffle :\n",
    "        Whether to shuffle indices before splitting set.\n",
    "    n_batches :\n",
    "         (Default value = None)\n",
    "    batch_size :\n",
    "         (Default value = None)\n",
    "\n",
    "    Returns\n",
    "    -------\n",
    "\n",
    "    \"\"\"\n",
    "    assert batch_size is not None or n_batches is not None\n",
    "    if n_batches is None:\n",
    "        n_batches = int(np.round(n_trials / float(batch_size)))\n",
    "    \n",
    "    if n_batches > 0:\n",
    "        min_batch_size = n_trials // n_batches\n",
    "        n_batches_with_extra_trial =  n_trials % n_batches\n",
    "    else:\n",
    "        n_batches = 1\n",
    "        min_batch_size = n_trials\n",
    "        n_batches_with_extra_trial = 0\n",
    "    assert n_batches_with_extra_trial < n_batches\n",
    "    all_inds = np.array(range(n_trials))\n",
    "    if shuffle:\n",
    "        rng.shuffle(all_inds)\n",
    "    i_trial = 0\n",
    "    end_trial = 0\n",
    "    batches = []\n",
    "    for i_batch in xrange(n_batches):\n",
    "        end_trial += min_batch_size\n",
    "        if i_batch < n_batches_with_extra_trial:\n",
    "            end_trial += 1\n",
    "        batch_inds = all_inds[range(i_trial, end_trial)]\n",
    "        batches.append(batch_inds)\n",
    "        i_trial = end_trial\n",
    "    assert i_trial == n_trials\n",
    "    return batches"
   ]
  },
  {
   "cell_type": "markdown",
   "metadata": {},
   "source": [
    "### Model"
   ]
  },
  {
   "cell_type": "markdown",
   "metadata": {},
   "source": [
    "You could also replace final dense layer by ConvLayer with filter size same as input and sliceLayer to get just two outputs."
   ]
  },
  {
   "cell_type": "code",
   "execution_count": 33,
   "metadata": {
    "collapsed": false
   },
   "outputs": [],
   "source": [
    "# set random seed for reproducibility\n",
    "from numpy.random import RandomState\n",
    "lasagne.random.set_rng(RandomState(38473847))\n",
    "\n",
    "# We need to reshape from a 1D feature vector to a 1 channel 2D image.\n",
    "# Then we apply 3 convolutional filters with 3x3 kernel size.\n",
    "l_in = lasagne.layers.InputLayer((None, 28*56))\n",
    "\n",
    "l_shape = lasagne.layers.ReshapeLayer(l_in, (-1, 1, 28, 56))\n",
    "\n",
    "l_conv = lasagne.layers.Conv2DLayer(l_shape, num_filters=3, filter_size=3,\n",
    "                                    nonlinearity=lasagne.nonlinearities.elu)\n",
    "l_pool = lasagne.layers.Pool2DLayer(l_conv, pool_size=2, stride=2)\n",
    "l_conv2 = lasagne.layers.Conv2DLayer(l_pool, num_filters=3, filter_size=2,\n",
    "                                    nonlinearity=lasagne.nonlinearities.elu)\n",
    "l_pool2 = lasagne.layers.Pool2DLayer(l_conv2, pool_size=2, stride=2)\n",
    "l_conv3 = lasagne.layers.Conv2DLayer(l_pool2, num_filters=3, filter_size=(3,2),\n",
    "                                    nonlinearity=lasagne.nonlinearities.elu)\n",
    "l_pool3 = lasagne.layers.Pool2DLayer(l_conv3, pool_size=2, stride=2)\n",
    "\n",
    "l_out = lasagne.layers.Conv2DLayer(l_pool3, num_filters=10, filter_size=(2,6))\n",
    "\n",
    "l_out_shape = lasagne.layers.FlattenLayer(l_out, 2)\n",
    "l_out_final = lasagne.layers.NonlinearityLayer(l_out_shape,\n",
    "                                               nonlinearity=lasagne.nonlinearities.softmax)"
   ]
  },
  {
   "cell_type": "code",
   "execution_count": 34,
   "metadata": {
    "collapsed": false
   },
   "outputs": [],
   "source": [
    "l_in_deconv = lasagne.layers.InputLayer((None, 10))\n",
    "l_in_deconv_shape = lasagne.layers.ReshapeLayer(l_in_deconv, (-1, 10, 1, 1))\n",
    "l_pool3_deconv = lasagne.layers.TransposedConv2DLayer(l_in_deconv_shape,l_out.input_shape[1],\n",
    "                                                    l_out.filter_size, stride=l_out.stride, crop=l_out.pad,\n",
    "                                                    W=lasagne.init.Constant(1), flip_filters=not l_out.flip_filters)\n",
    "l_conv3_upscale = lasagne.layers.Upscale2DLayer(l_pool3_deconv, 2)\n",
    "l_pool2_deconv = lasagne.layers.TransposedConv2DLayer(l_conv3_upscale,l_conv3.input_shape[1],\n",
    "                                                    l_conv3.filter_size, stride=l_conv3.stride, crop=l_conv3.pad,\n",
    "                                                    W=lasagne.init.Constant(1), flip_filters=not l_conv3.flip_filters)\n",
    "l_conv2_upscale = lasagne.layers.Upscale2DLayer(l_pool2_deconv, 2)\n",
    "l_pool_deconv = lasagne.layers.TransposedConv2DLayer(l_conv2_upscale,l_conv2.input_shape[1],\n",
    "                                                    l_conv2.filter_size, stride=l_conv2.stride, crop=l_conv2.pad,\n",
    "                                                    W=lasagne.init.Constant(1), flip_filters=not l_conv2.flip_filters)\n",
    "l_conv_upscale = lasagne.layers.Upscale2DLayer(l_pool_deconv, 2)\n",
    "l_shape_deconv = lasagne.layers.TransposedConv2DLayer(l_conv_upscale,l_conv.input_shape[1],\n",
    "                                                    l_conv.filter_size, stride=l_conv.stride, crop=l_conv.pad,\n",
    "                                                    W=lasagne.init.Constant(1), flip_filters=not l_conv.flip_filters)"
   ]
  },
  {
   "cell_type": "markdown",
   "metadata": {},
   "source": [
    "### Printing model - not necessarily needed"
   ]
  },
  {
   "cell_type": "code",
   "execution_count": 35,
   "metadata": {
    "collapsed": false
   },
   "outputs": [],
   "source": [
    "from braindecode.veganlasagne.layer_util import print_layers"
   ]
  },
  {
   "cell_type": "code",
   "execution_count": 36,
   "metadata": {
    "collapsed": false
   },
   "outputs": [
    {
     "name": "stdout",
     "output_type": "stream",
     "text": [
      " 0-InputLayer                                                         (None, 1568)\n",
      " 1-ReshapeLayer                                                       (None, 1, 28, 56)\n",
      " 2-Conv2DLayer              3x3                       elu             (None, 3, 26, 54)\n",
      " 3-Pool2DLayer              2x2 ::2 ::2               max             (None, 3, 13, 27)\n",
      " 4-Conv2DLayer              2x2                       elu             (None, 3, 12, 26)\n",
      " 5-Pool2DLayer              2x2 ::2 ::2               max             (None, 3, 6, 13)\n",
      " 6-Conv2DLayer              3x2                       elu             (None, 3, 4, 12)\n",
      " 7-Pool2DLayer              2x2 ::2 ::2               max             (None, 3, 2, 6)\n",
      " 8-Conv2DLayer              2x6                       rectify         (None, 10, 1, 1)\n",
      " 9-FlattenLayer                                                       (None, 10)\n",
      "10-NonlinearityLayer                                  softmax        \n",
      "\n",
      " 0-InputLayer                                                         (None, 10)\n",
      " 1-ReshapeLayer                                                       (None, 10, 1, 1)\n",
      " 2-TransposedConv2DLayer    2x6                       rectify         (None, 3, 2, 6)\n",
      " 3-Upscale2DLayer                                                     (None, 3, 4, 12)\n",
      " 4-TransposedConv2DLayer    3x2                       rectify         (None, 3, 6, 13)\n",
      " 5-Upscale2DLayer                                                     (None, 3, 12, 26)\n",
      " 6-TransposedConv2DLayer    2x2                       rectify         (None, 3, 13, 27)\n",
      " 7-Upscale2DLayer                                                     (None, 3, 26, 54)\n",
      " 8-TransposedConv2DLayer    3x3                       rectify         (None, 1, 28, 56)\n",
      "\n"
     ]
    }
   ],
   "source": [
    "print_layers(l_out_final)\n",
    "print_layers(l_shape_deconv)"
   ]
  },
  {
   "cell_type": "markdown",
   "metadata": {},
   "source": [
    "### Compile network functions"
   ]
  },
  {
   "cell_type": "code",
   "execution_count": 37,
   "metadata": {
    "collapsed": false
   },
   "outputs": [
    {
     "name": "stderr",
     "output_type": "stream",
     "text": [
      "/home/hartmank/braindecode/vienv/local/lib/python2.7/site-packages/lasagne/layers/pool.py:266: UserWarning: DEPRECATION: the 'ds' parameter is not going to exist anymore as it is going to be replaced by the parameter 'ws'.\n",
      "  mode=self.mode,\n",
      "/home/hartmank/braindecode/vienv/local/lib/python2.7/site-packages/lasagne/layers/pool.py:266: UserWarning: DEPRECATION: the 'st' parameter is not going to exist anymore as it is going to be replaced by the parameter 'stride'.\n",
      "  mode=self.mode,\n",
      "/home/hartmank/braindecode/vienv/local/lib/python2.7/site-packages/lasagne/layers/pool.py:266: UserWarning: DEPRECATION: the 'padding' parameter is not going to exist anymore as it is going to be replaced by the parameter 'pad'.\n",
      "  mode=self.mode,\n"
     ]
    }
   ],
   "source": [
    "# Compile and train the network.\n",
    "X_sym = T.matrix()\n",
    "y_sym = T.ivector()\n",
    "\n",
    "# not strictly necessary in this case but just to encourage good practice\n",
    "# I use deterministic=True for test preds\n",
    "# and false for train preds, this is necessary for dropout etc.\n",
    "train_output = lasagne.layers.get_output(l_out_final, X_sym, deterministic=False)\n",
    "test_output = lasagne.layers.get_output(l_out_final, X_sym, deterministic=True)\n",
    "train_pred = train_output.argmax(-1)\n",
    "test_pred = test_output.argmax(-1)\n",
    "\n",
    "train_loss = T.mean(lasagne.objectives.categorical_crossentropy(train_output, y_sym))\n",
    "test_loss = T.mean(lasagne.objectives.categorical_crossentropy(test_output, y_sym))\n",
    "\n",
    "test_acc = T.mean(T.eq(test_pred, y_sym))\n",
    "\n",
    "params = lasagne.layers.get_all_params(l_out_final)\n",
    "\n",
    "grad = T.grad(train_loss, params)\n",
    "updates = lasagne.updates.adam(grad, params, learning_rate=0.005)\n",
    "\n",
    "f_train = theano.function([X_sym, y_sym], updates=updates)\n",
    "f_val = theano.function([X_sym, y_sym], [test_loss, test_acc])\n",
    "f_output = theano.function([X_sym], test_output)"
   ]
  },
  {
   "cell_type": "code",
   "execution_count": 38,
   "metadata": {
    "collapsed": false
   },
   "outputs": [],
   "source": [
    "# Compile and train the network.\n",
    "y_sym_deconv = T.matrix()\n",
    "\n",
    "output_deconv = lasagne.layers.get_output(l_shape_deconv, y_sym_deconv, deterministic=True)\n",
    "\n",
    "f_output_deconv = theano.function([y_sym_deconv], output_deconv)"
   ]
  },
  {
   "cell_type": "markdown",
   "metadata": {},
   "source": [
    "### Run training"
   ]
  },
  {
   "cell_type": "code",
   "execution_count": 39,
   "metadata": {
    "collapsed": true
   },
   "outputs": [],
   "source": [
    "# just define as local function here... not really nice\n",
    "# should be one function that accepts input and output and compiled functions and does the same\n",
    "# so no code dupication for valid and train\n",
    "def print_loss_acc(i_epoch):\n",
    "    train_batches_inds_sorted = get_balanced_batches(len(X_train_flat_both), rng,batch_size=1000, shuffle=False)\n",
    "    train_loss_sum = 0\n",
    "    train_acc_sum = 0\n",
    "    for batch_inds in train_batches_inds_sorted:\n",
    "        X_batch = X_train_flat_both[batch_inds]\n",
    "        y_batch = y_train[batch_inds]\n",
    "        loss, acc = f_val(X_batch, y_batch)\n",
    "        train_loss_sum += (loss * len(batch_inds))\n",
    "        train_acc_sum += (acc * len(batch_inds))\n",
    "    train_loss = train_loss_sum / float(len(X_train_flat_both))\n",
    "    train_acc= train_acc_sum / float(len(X_train_flat_both))\n",
    "    log.info(\"Epoch {:d}\".format(i_epoch))\n",
    "    log.info(\"Train loss: {:.4f}\".format(train_loss))\n",
    "    log.info(\"Train acc: {:.2f}\".format(train_acc))\n",
    "    \n",
    "    \n",
    "    val_batches_inds_sorted = get_balanced_batches(len(X_val_flat_both), rng,batch_size=1000, shuffle=False)\n",
    "    val_loss_sum = 0\n",
    "    val_acc_sum = 0\n",
    "    for batch_inds in val_batches_inds_sorted:\n",
    "        X_batch = X_val_flat_both[batch_inds]\n",
    "        y_batch = y_val[batch_inds]\n",
    "        loss, acc = f_val(X_batch, y_batch)\n",
    "        val_loss_sum += (loss * len(batch_inds))\n",
    "        val_acc_sum += (acc * len(batch_inds))\n",
    "    val_loss = val_loss_sum / float(len(X_val_flat_both))\n",
    "    val_acc= val_acc_sum / float(len(X_val_flat_both))\n",
    "    print \"Valid loss: {:.4f}\".format(val_loss)\n",
    "    print \"Valid acc: {:.2f}\".format(val_acc)"
   ]
  },
  {
   "cell_type": "code",
   "execution_count": 40,
   "metadata": {
    "collapsed": false
   },
   "outputs": [
    {
     "name": "stderr",
     "output_type": "stream",
     "text": [
      "No handlers could be found for logger \"root\"\n"
     ]
    },
    {
     "name": "stdout",
     "output_type": "stream",
     "text": [
      "Valid loss: 2.3056\n",
      "Valid acc: 0.09\n",
      "Valid loss: 1.5414\n",
      "Valid acc: 0.53\n",
      "Valid loss: 1.1064\n",
      "Valid acc: 0.65\n",
      "Valid loss: 0.9662\n",
      "Valid acc: 0.68\n",
      "Valid loss: 0.7451\n",
      "Valid acc: 0.75\n",
      "Valid loss: 0.6699\n",
      "Valid acc: 0.76\n",
      "Valid loss: 0.4017\n",
      "Valid acc: 0.88\n",
      "Valid loss: 0.3725\n",
      "Valid acc: 0.88\n",
      "Valid loss: 0.3564\n",
      "Valid acc: 0.89\n",
      "Valid loss: 0.3478\n",
      "Valid acc: 0.89\n",
      "Valid loss: 0.3390\n",
      "Valid acc: 0.89\n",
      "Valid loss: 0.3227\n",
      "Valid acc: 0.90\n",
      "Valid loss: 0.3190\n",
      "Valid acc: 0.90\n",
      "Valid loss: 0.3100\n",
      "Valid acc: 0.90\n",
      "Valid loss: 0.3082\n",
      "Valid acc: 0.91\n",
      "Valid loss: 0.3031\n",
      "Valid acc: 0.91\n",
      "Valid loss: 0.2993\n",
      "Valid acc: 0.91\n",
      "Valid loss: 0.2933\n",
      "Valid acc: 0.91\n",
      "Valid loss: 0.2904\n",
      "Valid acc: 0.91\n",
      "Valid loss: 0.2888\n",
      "Valid acc: 0.91\n",
      "Valid loss: 0.2882\n",
      "Valid acc: 0.91\n"
     ]
    }
   ],
   "source": [
    "batch_rng = RandomState(37463764)\n",
    "n_epochs = 20\n",
    "print_loss_acc(0)\n",
    "for i_epoch in range(n_epochs):\n",
    "    train_batches_inds = get_balanced_batches(len(X_train_flat_both), rng,batch_size=1000, shuffle=True)\n",
    "    for batch_inds in train_batches_inds:\n",
    "        X_batch = X_train_flat_both[batch_inds]\n",
    "        y_batch = y_train[batch_inds]\n",
    "        f_train(X_batch, y_batch)\n",
    "    print_loss_acc(i_epoch+1)\n",
    "        \n",
    "    \n",
    "    "
   ]
  },
  {
   "cell_type": "code",
   "execution_count": 88,
   "metadata": {
    "collapsed": false
   },
   "outputs": [
    {
     "name": "stdout",
     "output_type": "stream",
     "text": [
      "(10000, 10)\n",
      "[3 8 6 ..., 5 6 8]\n"
     ]
    },
    {
     "data": {
      "image/png": "[encoded data removed]",
      "text/plain": [
       "<matplotlib.figure.Figure at 0x7f14fdf09690>"
      ]
     },
     "metadata": {},
     "output_type": "display_data"
    },
    {
     "data": {
      "text/plain": [
       "<matplotlib.image.AxesImage at 0x7f14fc7f4f50>"
      ]
     },
     "execution_count": 88,
     "metadata": {},
     "output_type": "execute_result"
    },
    {
     "data": {
      "image/png": "[encoded data removed]",
      "text/plain": [
       "<matplotlib.figure.Figure at 0x7f14fe84a910>"
      ]
     },
     "metadata": {},
     "output_type": "display_data"
    }
   ],
   "source": [
    "outputs = f_output(X_val_flat_both)\n",
    "print outputs.shape\n",
    "out_maxind = outputs.argmax(1)\n",
    "print out_maxind\n",
    "\n",
    "X_mean_8 = X_val_topo_both[out_maxind==8].mean(0)\n",
    "X_mean_0.shape\n",
    "plt.imshow(X_mean_8, interpolation='nearest', cmap=cm.Greys)\n",
    "plt.show()\n",
    "\n",
    "Total_mean = X_val_topo.mean(0)\n",
    "plt.imshow(Total_mean, interpolation='nearest', cmap=cm.Greys)"
   ]
  },
  {
   "cell_type": "markdown",
   "metadata": {},
   "source": [
    "Now you could do whatever with the trained model, you can also train much longer of course :d"
   ]
  },
  {
   "cell_type": "code",
   "execution_count": 42,
   "metadata": {
    "collapsed": false
   },
   "outputs": [
    {
     "data": {
      "text/plain": [
       "<matplotlib.image.AxesImage at 0x7f14ff51cc10>"
      ]
     },
     "execution_count": 42,
     "metadata": {},
     "output_type": "execute_result"
    },
    {
     "data": {
      "image/png": "[encoded data removed]",
      "text/plain": [
       "<matplotlib.figure.Figure at 0x7f1501078e50>"
      ]
     },
     "metadata": {},
     "output_type": "display_data"
    }
   ],
   "source": [
    "receptive_field = f_output_deconv(np.array([[1,0,0,0,0,0,0,0,0,0]], dtype=np.float32))\n",
    "plt.imshow(receptive_field.squeeze(), interpolation='nearest', cmap=cm.Greys)"
   ]
  },
  {
   "cell_type": "code",
   "execution_count": 91,
   "metadata": {
    "collapsed": false
   },
   "outputs": [
    {
     "name": "stdout",
     "output_type": "stream",
     "text": [
      " 0-InputLayer                                                         (None, 10, 1, 1)\n",
      " 1-TransposedConv2DLayer    2x6                       rectify         (None, 3, 2, 6)\n",
      " 2-TransposedConv2DLayer    2x2 ::2 ::2               rectify         (None, 3, 4, 12)\n",
      " 3-TransposedConv2DLayer    3x2                       rectify         (None, 3, 6, 13)\n",
      " 4-TransposedConv2DLayer    2x2 ::2 ::2               rectify         (None, 3, 12, 26)\n",
      " 5-TransposedConv2DLayer    2x2                       rectify         (None, 3, 13, 27)\n",
      " 6-TransposedConv2DLayer    2x2 ::2 ::2               rectify         (None, 3, 26, 54)\n",
      " 7-TransposedConv2DLayer    3x3                       rectify         (None, 1, 28, 56)\n",
      "\n"
     ]
    },
    {
     "data": {
      "text/plain": [
       "<matplotlib.image.AxesImage at 0x7f14fc1d97d0>"
      ]
     },
     "execution_count": 91,
     "metadata": {},
     "output_type": "execute_result"
    },
    {
     "data": {
      "image/png": "[encoded data removed]",
      "text/plain": [
       "<matplotlib.figure.Figure at 0x7f14fdb5c4d0>"
      ]
     },
     "metadata": {},
     "output_type": "display_data"
    }
   ],
   "source": [
    "def receptive_field_build_layers(top_layer,last_layer,use_learned_W=False):\n",
    "    \"\"\"Create network structure for calculating receptive fields of units in a certain layer.\n",
    "\n",
    "    Parameters\n",
    "    ----------\n",
    "    top_layer: Layer that contains the units of interest\n",
    "    last_layer: Layer for which the RF should be computed (e.g. input layer)\n",
    "        \n",
    "    use_learned_W: Use learned weights from a trained network to create RF (default=False)\n",
    "\n",
    "    Returns\n",
    "    -------\n",
    "    RF_layer: Output layer in which the RF lies (e.g. instead of original input layer)\n",
    "\n",
    "    \"\"\"\n",
    "    \n",
    "    def handle_conv2d(l_in, l_original):\n",
    "        W = l_original.W if use_learned_W else lasagne.init.Constant(1)\n",
    "        #b = l_original.b if use_learned_W else lasagne.init.Constant(0)\n",
    "        l_deconv = lasagne.layers.TransposedConv2DLayer(l_in,l_original.input_shape[1],\n",
    "                                                        l_original.filter_size, stride=l_original.stride, crop=l_original.pad,\n",
    "                                                        W=W,# b=b,\n",
    "                                                        flip_filters=not l_original.flip_filters)\n",
    "        return l_deconv\n",
    "    def handle_pool2d(l_in, l_original):\n",
    "        #only works correctly for stride=pool_size\n",
    "        #l_upscale = lasagne.layers.Upscale2DLayer(l_in, l_original.pool_size)\n",
    "        \n",
    "        #this should work for differend pool sizes and strides\n",
    "        l_upscale = lasagne.layers.TransposedConv2DLayer(l_in,l_original.input_shape[1],\n",
    "                                                        l_original.pool_size, stride=l_original.stride, crop=l_original.pad,\n",
    "                                                        W=lasagne.init.Constant(1))\n",
    "        return l_upscale\n",
    "    \n",
    "    #backwards operations for different types of layers\n",
    "    switcher = {\n",
    "        lasagne.layers.conv.Conv2DLayer: handle_conv2d,\n",
    "        lasagne.layers.pool.Pool2DLayer: handle_pool2d\n",
    "    }\n",
    "    \n",
    "    #Get all layers from the output layer we want RF from and exclude original input layer\n",
    "    lower_layers = lasagne.layers.get_all_layers(top_layer,treat_as_input=[last_layer])\n",
    "\n",
    "    l_in = lasagne.layers.InputLayer(top_layer.output_shape) #Replace output layer for RF with new input layer\n",
    "    RF_layer = l_in\n",
    "    #Go backwards through all layers and apply corresponding backwards operation\n",
    "    for curr_layer in lower_layers[::-1]:\n",
    "        layer_type =  type(curr_layer)\n",
    "        func = switcher.get(layer_type)\n",
    "        \n",
    "        RF_layer = func(RF_layer,curr_layer)\n",
    "        \n",
    "    return RF_layer\n",
    "        \n",
    "    \n",
    "    \n",
    "layer_deconv_last = receptive_field_build_layers(l_out,l_conv,use_learned_W=False)\n",
    "print_layers(layer_deconv_last)\n",
    "\n",
    "X_deconv = T.tensor4()\n",
    "deconv_output = lasagne.layers.get_output(layer_deconv_last, X_deconv, deterministic=True)\n",
    "f_deconv = theano.function([X_deconv], deconv_output)\n",
    "\n",
    "Y_in = np.zeros((1,10,1,1),dtype=np.float32)\n",
    "Y_in[0,8,0,0]=1\n",
    "receptive_field = f_deconv(Y_in)\n",
    "plt.imshow(receptive_field.squeeze(), interpolation='nearest', cmap=cm.Greys)"
   ]
  },
  {
   "cell_type": "markdown",
   "metadata": {},
   "source": [
    "## stuff for me/ignoreable"
   ]
  },
  {
   "cell_type": "code",
   "execution_count": 1,
   "metadata": {
    "collapsed": true
   },
   "outputs": [],
   "source": [
    "%%capture\n",
    "import os\n",
    "import site\n",
    "site.addsitedir('/home/schirrmr/.local/lib/python2.7/site-packages/')\n",
    "site.addsitedir('/usr/lib/pymodules/python2.7/')\n",
    "os.sys.path.insert(0, '/home/schirrmr/braindecode/code/')\n",
    "%cd /home/schirrmr/braindecode/code/braindecode/"
   ]
  }
 ],
 "metadata": {
  "kernelspec": {
   "display_name": "Python 2",
   "language": "python",
   "name": "python2"
  },
  "language_info": {
   "codemirror_mode": {
    "name": "ipython",
    "version": 2
   },
   "file_extension": ".py",
   "mimetype": "text/x-python",
   "name": "python",
   "nbconvert_exporter": "python",
   "pygments_lexer": "ipython2",
   "version": "2.7.12"
  }
 },
 "nbformat": 4,
 "nbformat_minor": 0
}
