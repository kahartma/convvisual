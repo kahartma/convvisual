{
 "cells": [
  {
   "cell_type": "markdown",
   "metadata": {},
   "source": [
    "### checking of theano flags"
   ]
  },
  {
   "cell_type": "code",
   "execution_count": 1,
   "metadata": {
    "collapsed": false
   },
   "outputs": [],
   "source": [
    "import os\n",
    "assert 'THEANO_FLAGS' in os.environ\n",
    "# in case you want to switch to cpu, to be able to use more than one notebook\n",
    "#os.environ['THEANO_FLAGS'] = 'floatX=float32,device=cpu,nvcc.fastmath=True'\n",
    "\n",
    "# always good to reload in case you are changing python code files\n",
    "%load_ext autoreload\n",
    "%autoreload 2"
   ]
  },
  {
   "cell_type": "code",
   "execution_count": 2,
   "metadata": {
    "collapsed": false
   },
   "outputs": [
    {
     "name": "stderr",
     "output_type": "stream",
     "text": [
      "Using gpu device 0: GeForce GTX TITAN X (CNMeM is disabled, CuDNN 3007)\n"
     ]
    }
   ],
   "source": [
    "import numpy as np\n",
    "import theano\n",
    "import theano.tensor as T\n",
    "import lasagne\n",
    "\n",
    "import matplotlib.pyplot as plt\n",
    "%matplotlib inline\n",
    "\n",
    "import gzip\n",
    "import pickle\n",
    "import logging\n",
    "log = logging.getLogger()\n",
    "log.setLevel(\"DEBUG\")"
   ]
  },
  {
   "cell_type": "markdown",
   "metadata": {},
   "source": [
    "### Dataset loading"
   ]
  },
  {
   "cell_type": "markdown",
   "metadata": {},
   "source": [
    "I assume somehow you downloaded this dataset onto the cluster:"
   ]
  },
  {
   "cell_type": "code",
   "execution_count": 3,
   "metadata": {
    "collapsed": false
   },
   "outputs": [],
   "source": [
    "#!wget -N http://deeplearning.net/data/mnist/mnist.pkl.gz\n",
    "# have to do from commandline, otherwise blocked by firewall"
   ]
  },
  {
   "cell_type": "code",
   "execution_count": 4,
   "metadata": {
    "collapsed": false
   },
   "outputs": [
    {
     "name": "stdout",
     "output_type": "stream",
     "text": [
      "(50000, 784) (10000, 784)\n",
      "[5 0 4 ..., 8 4 8] [3 8 6 ..., 5 6 8]\n"
     ]
    }
   ],
   "source": [
    "train, val, test = pickle.load(gzip.open('/home/hartmank/data/mnist/mnist.pkl.gz'))\n",
    "\n",
    "X_train, y_train = train\n",
    "X_val, y_val = val\n",
    "print X_train.shape, X_val.shape\n",
    "print y_train, y_val"
   ]
  },
  {
   "cell_type": "markdown",
   "metadata": {},
   "source": [
    "### Create the two-digit dataset "
   ]
  },
  {
   "cell_type": "code",
   "execution_count": 5,
   "metadata": {
    "collapsed": false
   },
   "outputs": [
    {
     "name": "stdout",
     "output_type": "stream",
     "text": [
      "(50000, 28, 28)\n"
     ]
    }
   ],
   "source": [
    "\n",
    "# Create new dataset: \n",
    "# always two digits next to each other,\n",
    "# model should predict if one of them is smaller than 3\n",
    "X_train_topo = X_train.reshape(X_train.shape[0], 28,28)\n",
    "print X_train_topo.shape\n",
    "X_val_topo = X_val.reshape(X_val.shape[0], 28,28)\n"
   ]
  },
  {
   "cell_type": "code",
   "execution_count": 6,
   "metadata": {
    "collapsed": false
   },
   "outputs": [
    {
     "name": "stdout",
     "output_type": "stream",
     "text": [
      "(50000, 28, 56)\n"
     ]
    }
   ],
   "source": [
    "from numpy.random import RandomState\n",
    "\n",
    "\n",
    "rng = RandomState(98787)\n",
    "random_inds = range(len(X_train))\n",
    "rng.shuffle(random_inds)\n",
    "\n",
    "X_train_topo_both = np.concatenate([X_train_topo, X_train_topo[random_inds]], axis=2)\n",
    "print X_train_topo_both.shape\n",
    "X_train_flat_both = X_train_topo_both.reshape(X_train_topo_both.shape[0],-1)\n",
    "y_train_both = np.logical_or(y_train < 3, y_train[random_inds] < 3).astype(np.int32)\n",
    "\n",
    "rng = RandomState(987837)\n",
    "random_val_inds = range(len(X_val))\n",
    "rng.shuffle(random_val_inds)\n",
    "X_val_topo_both = np.concatenate([X_val_topo, X_val_topo[random_val_inds]], axis=2)\n",
    "X_val_flat_both = X_val_topo_both.reshape(X_val_topo_both.shape[0],-1)\n",
    "y_val_both = np.logical_or(y_val < 3, y_val[random_val_inds] < 3).astype(np.int32)\n"
   ]
  },
  {
   "cell_type": "markdown",
   "metadata": {},
   "source": [
    "### Quick check of dataset"
   ]
  },
  {
   "cell_type": "code",
   "execution_count": 7,
   "metadata": {
    "collapsed": false
   },
   "outputs": [
    {
     "data": {
      "text/plain": [
       "<matplotlib.image.AxesImage at 0x7f78442004d0>"
      ]
     },
     "execution_count": 7,
     "metadata": {},
     "output_type": "execute_result"
    },
    {
     "data": {
      "image/png": "[encoded data removed]",
      "text/plain": [
       "<matplotlib.figure.Figure at 0x7f78c7f20090>"
      ]
     },
     "metadata": {},
     "output_type": "display_data"
    }
   ],
   "source": [
    "from matplotlib import  cm\n",
    "plt.imshow(X_train_topo_both[0], interpolation='nearest', cmap=cm.Greys)"
   ]
  },
  {
   "cell_type": "markdown",
   "metadata": {},
   "source": [
    "#### Function for creating balanced batches"
   ]
  },
  {
   "cell_type": "code",
   "execution_count": 8,
   "metadata": {
    "collapsed": true
   },
   "outputs": [],
   "source": [
    "from numpy.random import RandomState"
   ]
  },
  {
   "cell_type": "code",
   "execution_count": 9,
   "metadata": {
    "collapsed": true
   },
   "outputs": [],
   "source": [
    "def get_balanced_batches(n_trials, rng, shuffle, n_batches=None, batch_size=None):\n",
    "    \"\"\"Create indices for batches balanced in size (batches will have maximum size difference of 1).\n",
    "    Supply either batch size or number of batches. Resulting batches\n",
    "    will not have the given batch size but rather the next largest batch size\n",
    "    that allows to split the set into balanced batches (maximum size difference 1).\n",
    "\n",
    "    Parameters\n",
    "    ----------\n",
    "    n_trials : int\n",
    "        Size of set.\n",
    "    rng :\n",
    "        \n",
    "    shuffle :\n",
    "        Whether to shuffle indices before splitting set.\n",
    "    n_batches :\n",
    "         (Default value = None)\n",
    "    batch_size :\n",
    "         (Default value = None)\n",
    "\n",
    "    Returns\n",
    "    -------\n",
    "\n",
    "    \"\"\"\n",
    "    assert batch_size is not None or n_batches is not None\n",
    "    if n_batches is None:\n",
    "        n_batches = int(np.round(n_trials / float(batch_size)))\n",
    "    \n",
    "    if n_batches > 0:\n",
    "        min_batch_size = n_trials // n_batches\n",
    "        n_batches_with_extra_trial =  n_trials % n_batches\n",
    "    else:\n",
    "        n_batches = 1\n",
    "        min_batch_size = n_trials\n",
    "        n_batches_with_extra_trial = 0\n",
    "    assert n_batches_with_extra_trial < n_batches\n",
    "    all_inds = np.array(range(n_trials))\n",
    "    if shuffle:\n",
    "        rng.shuffle(all_inds)\n",
    "    i_trial = 0\n",
    "    end_trial = 0\n",
    "    batches = []\n",
    "    for i_batch in xrange(n_batches):\n",
    "        end_trial += min_batch_size\n",
    "        if i_batch < n_batches_with_extra_trial:\n",
    "            end_trial += 1\n",
    "        batch_inds = all_inds[range(i_trial, end_trial)]\n",
    "        batches.append(batch_inds)\n",
    "        i_trial = end_trial\n",
    "    assert i_trial == n_trials\n",
    "    return batches"
   ]
  },
  {
   "cell_type": "markdown",
   "metadata": {},
   "source": [
    "### Model"
   ]
  },
  {
   "cell_type": "markdown",
   "metadata": {},
   "source": [
    "You could also replace final dense layer by ConvLayer with filter size same as input and sliceLayer to get just two outputs."
   ]
  },
  {
   "cell_type": "code",
   "execution_count": 10,
   "metadata": {
    "collapsed": true
   },
   "outputs": [],
   "source": [
    "# set random seed for reproducibility\n",
    "lasagne.random.set_rng(RandomState(38473847))\n",
    "\n",
    "# We need to reshape from a 1D feature vector to a 1 channel 2D image.\n",
    "# Then we apply 3 convolutional filters with 3x3 kernel size.\n",
    "l_in = lasagne.layers.InputLayer((None, 28*56))\n",
    "\n",
    "l_shape = lasagne.layers.ReshapeLayer(l_in, (-1, 1, 28, 56))\n",
    "\n",
    "l_conv = lasagne.layers.Conv2DLayer(l_shape, num_filters=3, filter_size=3,\n",
    "                                    nonlinearity=lasagne.nonlinearities.elu)\n",
    "l_pool = lasagne.layers.Pool2DLayer(l_conv, pool_size=2, stride=2)\n",
    "l_conv2 = lasagne.layers.Conv2DLayer(l_pool, num_filters=3, filter_size=2,\n",
    "                                    nonlinearity=lasagne.nonlinearities.elu)\n",
    "l_pool2 = lasagne.layers.Pool2DLayer(l_conv2, pool_size=2, stride=2)\n",
    "l_conv3 = lasagne.layers.Conv2DLayer(l_pool2, num_filters=3, filter_size=(3,2),\n",
    "                                    nonlinearity=lasagne.nonlinearities.elu)\n",
    "l_pool3 = lasagne.layers.Pool2DLayer(l_conv3, pool_size=2, stride=2)\n",
    "\n",
    "l_out = lasagne.layers.DenseLayer(l_pool3,\n",
    "                                  num_units=2,\n",
    "                                  nonlinearity=lasagne.nonlinearities.softmax)\n"
   ]
  },
  {
   "cell_type": "markdown",
   "metadata": {},
   "source": [
    "### Printing model - not necessarily needed"
   ]
  },
  {
   "cell_type": "code",
   "execution_count": 11,
   "metadata": {
    "collapsed": false
   },
   "outputs": [],
   "source": [
    "from braindecode.veganlasagne.layer_util import print_layers"
   ]
  },
  {
   "cell_type": "code",
   "execution_count": 12,
   "metadata": {
    "collapsed": false
   },
   "outputs": [
    {
     "name": "stdout",
     "output_type": "stream",
     "text": [
      " 0-InputLayer                                                         (None, 1568)\n",
      " 1-ReshapeLayer                                                       (None, 1, 28, 56)\n",
      " 2-Conv2DLayer              3x3                       elu             (None, 3, 26, 54)\n",
      " 3-Pool2DLayer              2x2 ::2 ::2               max             (None, 3, 13, 27)\n",
      " 4-Conv2DLayer              2x2                       elu             (None, 3, 12, 26)\n",
      " 5-Pool2DLayer              2x2 ::2 ::2               max             (None, 3, 6, 13)\n",
      " 6-Conv2DLayer              3x2                       elu             (None, 3, 4, 12)\n",
      " 7-Pool2DLayer              2x2 ::2 ::2               max             (None, 3, 2, 6)\n",
      " 8-DenseLayer                                         softmax         (None, 2)\n",
      "\n"
     ]
    }
   ],
   "source": [
    "print_layers(l_out)"
   ]
  },
  {
   "cell_type": "markdown",
   "metadata": {},
   "source": [
    "### Compile network functions"
   ]
  },
  {
   "cell_type": "code",
   "execution_count": 13,
   "metadata": {
    "collapsed": false
   },
   "outputs": [],
   "source": [
    "# Compile and train the network.\n",
    "X_sym = T.matrix()\n",
    "y_sym = T.ivector()\n",
    "\n",
    "# not strictly necessary in this case but just to encourage good practice\n",
    "# I use deterministic=True for test preds\n",
    "# and false for train preds, this is necessary for dropout etc.\n",
    "train_output = lasagne.layers.get_output(l_out, X_sym, deterministic=False)\n",
    "test_output = lasagne.layers.get_output(l_out, X_sym, deterministic=True)\n",
    "train_pred = train_output.argmax(-1)\n",
    "test_pred = test_output.argmax(-1)\n",
    "\n",
    "train_loss = T.mean(lasagne.objectives.categorical_crossentropy(train_output, y_sym))\n",
    "test_loss = T.mean(lasagne.objectives.categorical_crossentropy(test_output, y_sym))\n",
    "\n",
    "test_acc = T.mean(T.eq(test_pred, y_sym))\n",
    "\n",
    "params = lasagne.layers.get_all_params(l_out)\n",
    "\n",
    "grad = T.grad(train_loss, params)\n",
    "updates = lasagne.updates.adam(grad, params, learning_rate=0.005)\n",
    "\n",
    "f_train = theano.function([X_sym, y_sym], updates=updates)\n",
    "f_val = theano.function([X_sym, y_sym], [test_loss, test_acc])"
   ]
  },
  {
   "cell_type": "markdown",
   "metadata": {},
   "source": [
    "### Run training"
   ]
  },
  {
   "cell_type": "code",
   "execution_count": 19,
   "metadata": {
    "collapsed": true
   },
   "outputs": [],
   "source": [
    "# just define as local function here... not really nice\n",
    "# should be one function that accepts input and output and compiled functions and does the same\n",
    "# so no code dupication for valid and train\n",
    "def print_loss_acc(i_epoch):\n",
    "    train_batches_inds_sorted = get_balanced_batches(len(X_train_flat_both), rng,batch_size=1000, shuffle=False)\n",
    "    train_loss_sum = 0\n",
    "    train_acc_sum = 0\n",
    "    for batch_inds in train_batches_inds_sorted:\n",
    "        X_batch = X_train_flat_both[batch_inds]\n",
    "        y_batch = y_train_both[batch_inds]\n",
    "        loss, acc = f_val(X_batch, y_batch)\n",
    "        train_loss_sum += (loss * len(batch_inds))\n",
    "        train_acc_sum += (acc * len(batch_inds))\n",
    "    train_loss = train_loss_sum / float(len(X_train_flat_both))\n",
    "    train_acc= train_acc_sum / float(len(X_train_flat_both))\n",
    "    log.info(\"Epoch {:d}\".format(i_epoch))\n",
    "    log.info(\"Train loss: {:.4f}\".format(train_loss))\n",
    "    log.info(\"Train acc: {:.2f}\".format(train_acc))\n",
    "    \n",
    "    \n",
    "    val_batches_inds_sorted = get_balanced_batches(len(X_val_flat_both), rng,batch_size=1000, shuffle=False)\n",
    "    val_loss_sum = 0\n",
    "    val_acc_sum = 0\n",
    "    for batch_inds in val_batches_inds_sorted:\n",
    "        X_batch = X_val_flat_both[batch_inds]\n",
    "        y_batch = y_val_both[batch_inds]\n",
    "        loss, acc = f_val(X_batch, y_batch)\n",
    "        val_loss_sum += (loss * len(batch_inds))\n",
    "        val_acc_sum += (acc * len(batch_inds))\n",
    "    val_loss = val_loss_sum / float(len(X_val_flat_both))\n",
    "    val_acc= val_acc_sum / float(len(X_val_flat_both))\n",
    "    log.info(\"Valid loss: {:.4f}\".format(val_loss))\n",
    "    log.info(\"Valid acc: {:.2f}\".format(val_acc))"
   ]
  },
  {
   "cell_type": "code",
   "execution_count": 20,
   "metadata": {
    "collapsed": false
   },
   "outputs": [],
   "source": [
    "batch_rng = RandomState(37463764)\n",
    "n_epochs = 5\n",
    "print_loss_acc(0)\n",
    "for i_epoch in range(n_epochs):\n",
    "    train_batches_inds = get_balanced_batches(len(X_train_flat_both), rng,batch_size=1000, shuffle=True)\n",
    "    for batch_inds in train_batches_inds:\n",
    "        X_batch = X_train_flat_both[batch_inds]\n",
    "        y_batch = y_train_both[batch_inds]\n",
    "        f_train(X_batch, y_batch)\n",
    "    print_loss_acc(i_epoch+1)\n",
    "        \n",
    "    \n",
    "    "
   ]
  },
  {
   "cell_type": "markdown",
   "metadata": {},
   "source": [
    "Now you could do whatever with the trained model, you can also train much longer of course :d"
   ]
  },
  {
   "cell_type": "markdown",
   "metadata": {},
   "source": [
    "## stuff for me/ignoreable"
   ]
  },
  {
   "cell_type": "code",
   "execution_count": 1,
   "metadata": {
    "collapsed": true
   },
   "outputs": [],
   "source": [
    "%%capture\n",
    "import os\n",
    "import site\n",
    "site.addsitedir('/home/schirrmr/.local/lib/python2.7/site-packages/')\n",
    "site.addsitedir('/usr/lib/pymodules/python2.7/')\n",
    "os.sys.path.insert(0, '/home/schirrmr/braindecode/code/')\n",
    "%cd /home/schirrmr/braindecode/code/braindecode/"
   ]
  }
 ],
 "metadata": {
  "kernelspec": {
   "display_name": "Python 2",
   "language": "python",
   "name": "python2"
  },
  "language_info": {
   "codemirror_mode": {
    "name": "ipython",
    "version": 2
   },
   "file_extension": ".py",
   "mimetype": "text/x-python",
   "name": "python",
   "nbconvert_exporter": "python",
   "pygments_lexer": "ipython2",
   "version": "2.7.12"
  }
 },
 "nbformat": 4,
 "nbformat_minor": 0
}
