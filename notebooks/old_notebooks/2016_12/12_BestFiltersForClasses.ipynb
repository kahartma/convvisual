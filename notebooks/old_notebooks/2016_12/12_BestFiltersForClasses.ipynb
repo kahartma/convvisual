{
 "cells": [
  {
   "cell_type": "code",
   "execution_count": 1,
   "metadata": {
    "collapsed": false
   },
   "outputs": [
    {
     "name": "stderr",
     "output_type": "stream",
     "text": [
      "Using gpu device 0: GeForce GTX 780 (CNMeM is disabled, cuDNN 5005)\n"
     ]
    },
    {
     "name": "stdout",
     "output_type": "stream",
     "text": [
      "/home/hartmank/braindecode/convvisual\n"
     ]
    },
    {
     "name": "stderr",
     "output_type": "stream",
     "text": [
      "/home/hartmank/braindecode/vienv/local/lib/python2.7/site-packages/sklearn/cross_validation.py:44: DeprecationWarning: This module was deprecated in version 0.18 in favor of the model_selection module into which all the refactored classes and functions are moved. Also note that the interface of the new CV iterators are different from that of this module. This module will be removed in 0.20.\n",
      "  \"This module will be removed in 0.20.\", DeprecationWarning)\n"
     ]
    }
   ],
   "source": [
    "import theano\n",
    "\n",
    "get_ipython().magic(u\"cd '/home/hartmank/braindecode/convvisual'\")\n",
    "import numpy as np\n",
    "get_ipython().magic(u'load_ext autoreload')\n",
    "get_ipython().magic(u'autoreload 2')\n",
    "import matplotlib\n",
    "matplotlib.use('Agg')\n",
    "from matplotlib import pyplot as plt\n",
    "from matplotlib import cm\n",
    "\n",
    "import matplotlib.lines as mlines\n",
    "import seaborn\n",
    "matplotlib.rcParams['figure.figsize'] = (12.0, 3.0)\n",
    "matplotlib.rcParams['font.size'] = 7\n",
    "seaborn.set_style('darkgrid')\n",
    "\n",
    "from braindecode.scripts.print_results import ResultPrinter\n",
    "from braindecode.csp.print_results import CSPResultPrinter\n",
    "import logging\n",
    "log = logging.getLogger()\n",
    "log.setLevel(\"DEBUG\")\n",
    "from braindecode.scripts.train_experiments import setup_logging\n",
    "setup_logging()\n",
    "\n",
    "from braindecode.experiments.load import load_exp_and_model\n",
    "from braindecode.veganlasagne.layer_util import print_layers, recompute_bnorm_layer_statistics\n",
    "import lasagne"
   ]
  },
  {
   "cell_type": "code",
   "execution_count": 2,
   "metadata": {
    "collapsed": false
   },
   "outputs": [
    {
     "name": "stdout",
     "output_type": "stream",
     "text": [
      "2016-12-19 17:14:22,619 Setting n_sample preds automatically to 479\n",
      "2016-12-19 17:14:22,620 Input window length is 522\n",
      "2016-12-19 17:14:22,694 Setting n_sample preds automatically to 479\n",
      "2016-12-19 17:14:22,695 Input window length is 522\n",
      "/home/hartmank/braindecode\n"
     ]
    }
   ],
   "source": [
    "savepath = 'models/paper/ours/cnt/deep4/243/50BestInputsFor5BestFilters/'\n",
    "exp, model = load_exp_and_model('../data/models/paper/ours/cnt/deep4/243', set_invalid_to_NaN=False)\n",
    "get_ipython().magic(u'cd ../')"
   ]
  },
  {
   "cell_type": "code",
   "execution_count": 3,
   "metadata": {
    "collapsed": false
   },
   "outputs": [
    {
     "name": "stdout",
     "output_type": "stream",
     "text": [
      "<lasagne.layers.special.NonlinearityLayer object at 0x7fc8081b52d0>\n"
     ]
    }
   ],
   "source": [
    "from braindecode.veganlasagne.layers import FinalReshapeLayer\n",
    "print model\n",
    "all_l = lasagne.layers.get_all_layers(model)\n",
    "model = all_l[-3]\n",
    "model = FinalReshapeLayer(model,remove_invalids=True,flatten=False)\n",
    "model = lasagne.layers.DimshuffleLayer(model,(0,2,1,3))\n",
    "model = lasagne.layers.ReshapeLayer(model,(-1,4))\n",
    "model = lasagne.layers.NonlinearityLayer(model,nonlinearity=lasagne.nonlinearities.softmax)"
   ]
  },
  {
   "cell_type": "code",
   "execution_count": 4,
   "metadata": {
    "collapsed": false
   },
   "outputs": [
    {
     "name": "stdout",
     "output_type": "stream",
     "text": [
      " 0-InputLayer                                                         [None, 44, 1000, 1]\n",
      " 1-DimshuffleLayer                                                    (None, 1, 1000, 44)\n",
      " 2-DropoutLayer             0.000                                    \n",
      " 3-Conv2DLayer              10x1                                      (None, 25, 991, 44)\n",
      " 4-Conv2DAllColsLayer       1x44                                      (None, 25, 991, 1)\n",
      " 5-BatchNormLayer                                     elu            \n",
      " 6-Pool2DLayer              3x1                       max             (None, 25, 989, 1)\n",
      " 7-StrideReshapeLayer           ::3 ::1                               (None, 25, 330, 1)\n",
      " 8-NonlinearityLayer                                                 \n",
      " 9-DropoutLayer             0.500                                    \n",
      "10-Conv2DLayer              10x1                                      (None, 50, 321, 1)\n",
      "11-BatchNormLayer                                     elu            \n",
      "12-Pool2DLayer              3x1                       max             (None, 50, 319, 1)\n",
      "13-StrideReshapeLayer           ::3 ::1                               (None, 50, 107, 1)\n",
      "14-NonlinearityLayer                                                 \n",
      "15-DropoutLayer             0.500                                    \n",
      "16-Conv2DLayer              10x1                                      (None, 100, 98, 1)\n",
      "17-BatchNormLayer                                     elu            \n",
      "18-Pool2DLayer              3x1                       max             (None, 100, 96, 1)\n",
      "19-StrideReshapeLayer           ::3 ::1                               (None, 100, 32, 1)\n",
      "20-NonlinearityLayer                                                 \n",
      "21-DropoutLayer             0.500                                    \n",
      "22-Conv2DLayer              10x1                                      (None, 200, 23, 1)\n",
      "23-BatchNormLayer                                     elu            \n",
      "24-Pool2DLayer              3x1                       max             (None, 200, 21, 1)\n",
      "25-StrideReshapeLayer           ::3 ::1                               (None, 200, 7, 1)\n",
      "26-NonlinearityLayer                                                 \n",
      "27-DropoutLayer             0.500                                    \n",
      "28-Conv2DLayer              2x1                                       (None, 4, 6, 1)\n",
      "29-FinalReshapeLayer                                                  (None, 4, 479, 1)\n",
      "30-DimshuffleLayer                                                    (None, 479, 4, 1)\n",
      "31-ReshapeLayer                                                       (None, 4)\n",
      "32-NonlinearityLayer                                  softmax        \n",
      "\n"
     ]
    }
   ],
   "source": [
    "print_layers(model)"
   ]
  },
  {
   "cell_type": "code",
   "execution_count": 5,
   "metadata": {
    "collapsed": false,
    "scrolled": true
   },
   "outputs": [
    {
     "name": "stdout",
     "output_type": "stream",
     "text": [
      "2016-12-19 17:14:22,751 Load Training Set...\n",
      "2016-12-19 17:14:41,358 Load Test Set...\n",
      "2016-12-19 17:14:44,817 Clean Training Set...\n",
      "2016-12-19 17:14:45,425 Rejected channels: []\n",
      "2016-12-19 17:14:45,426 #Clean trials:     895\n",
      "2016-12-19 17:14:45,426 #Rejected trials:  2\n",
      "2016-12-19 17:14:45,427 Fraction Clean:    99.0%\n",
      "2016-12-19 17:14:45,427 (from maxmin):     2\n",
      "2016-12-19 17:14:45,428 (from var):        0\n",
      "2016-12-19 17:14:45,595 Clean Test Set...\n",
      "2016-12-19 17:14:45,703 Rejected channels: []\n",
      "2016-12-19 17:14:45,704 #Clean trials:     160\n",
      "2016-12-19 17:14:45,704 #Rejected trials:  0\n",
      "2016-12-19 17:14:45,705 Fraction Clean:    100.0%\n",
      "2016-12-19 17:14:45,705 (from maxmin):     0\n",
      "2016-12-19 17:14:45,706 (from var):        0\n",
      "2016-12-19 17:14:45,706 Create Cleaned Cnt Sets...\n",
      "2016-12-19 17:14:46,820 Create sets from cleaned cnt...\n",
      "2016-12-19 17:14:46,820 Preprocess continuous signal...\n",
      "2016-12-19 17:15:06,263 Not doing any bandpass, since low 0 or None and high None\n",
      "2016-12-19 17:15:20,237 Loaded dataset with shape: (1725659, 44, 1, 1)\n",
      "2016-12-19 17:15:20,238 Preprocess continuous signal...\n",
      "2016-12-19 17:15:23,720 Not doing any bandpass, since low 0 or None and high None\n",
      "2016-12-19 17:15:25,980 Loaded dataset with shape: (308544, 44, 1, 1)\n",
      "2016-12-19 17:15:25,981 Loaded clean train data with shape (1725659, 44, 1, 1).\n",
      "2016-12-19 17:15:25,982 Loaded clean test data with shape (308544, 44, 1, 1).\n"
     ]
    }
   ],
   "source": [
    "exp.dataset.load()"
   ]
  },
  {
   "cell_type": "code",
   "execution_count": 6,
   "metadata": {
    "collapsed": false
   },
   "outputs": [],
   "source": [
    "#print 'loaded'\n",
    "datasets = exp.dataset_provider.get_train_merged_valid_test(exp.dataset)\n",
    "#print 'loaded2'\n",
    "#inputs,targets = datasets['test'].get_data()\n",
    "exp.iterator.batch_size = 100\n",
    "test_batches = list(exp.iterator.get_batches(datasets['test'], shuffle=False))\n",
    "inputs,targets = test_batches[0]\n",
    "\n",
    "targets = targets.reshape((len(inputs),-1,4))\n",
    "targets = targets.mean(axis=1)"
   ]
  },
  {
   "cell_type": "code",
   "execution_count": 7,
   "metadata": {
    "collapsed": false
   },
   "outputs": [],
   "source": [
    "#from braindecode.datahandling.batch_iteration import compute_trial_start_end_samples,CntWindowTrialIterator\n",
    "#trial_iterator = CntWindowTrialIterator(1, 1145, 521,\n",
    "#            check_preds_smaller_trial_len=True)\n",
    "#dir(exp.iterator)\n",
    "#exp.iterator.input_time_length\n",
    "#len(compute_trial_start_end_samples(targets)[0])"
   ]
  },
  {
   "cell_type": "code",
   "execution_count": 8,
   "metadata": {
    "collapsed": false
   },
   "outputs": [],
   "source": [
    "#test_batches = list(exp.iterator.get_batches(datasets['test'], shuffle=False))\n",
    "#len(test_batches)\n",
    "#len(test_batches[5][0])"
   ]
  },
  {
   "cell_type": "code",
   "execution_count": null,
   "metadata": {
    "collapsed": false
   },
   "outputs": [],
   "source": []
  },
  {
   "cell_type": "code",
   "execution_count": 9,
   "metadata": {
    "collapsed": false
   },
   "outputs": [
    {
     "data": {
      "text/plain": [
       "100000"
      ]
     },
     "execution_count": 9,
     "metadata": {},
     "output_type": "execute_result"
    }
   ],
   "source": [
    "len(np.where(np.any(datasets['test'].get_data()[1]!=0,axis=1))[0])"
   ]
  },
  {
   "cell_type": "code",
   "execution_count": 10,
   "metadata": {
    "collapsed": false
   },
   "outputs": [
    {
     "data": {
      "text/plain": [
       "308544"
      ]
     },
     "execution_count": 10,
     "metadata": {},
     "output_type": "execute_result"
    }
   ],
   "source": [
    "len(datasets['test'].get_data()[1])"
   ]
  },
  {
   "cell_type": "code",
   "execution_count": null,
   "metadata": {
    "collapsed": true
   },
   "outputs": [],
   "source": []
  },
  {
   "cell_type": "code",
   "execution_count": 11,
   "metadata": {
    "collapsed": false
   },
   "outputs": [
    {
     "name": "stdout",
     "output_type": "stream",
     "text": [
      "/home/hartmank/braindecode/convvisual\n"
     ]
    }
   ],
   "source": [
    "get_ipython().magic(u\"cd '/home/hartmank/braindecode/convvisual'\")\n",
    "from convvisual import *\n",
    "import os\n",
    "import pickle\n",
    "\n",
    "from braindecode.veganlasagne.layers import create_pred_fn\n",
    "model = lasagne.layers.get_all_layers(model)\n",
    "\n",
    "figpath = os.path.join('/home/hartmank/data/convvisual/figures',savepath)\n",
    "datpath = os.path.join('/home/hartmank/data/convvisual/RF_data',savepath)\n",
    "if not os.path.isdir(figpath):\n",
    "    os.makedirs (figpath)\n",
    "if not os.path.isdir(datpath):\n",
    "    os.makedirs (datpath)"
   ]
  },
  {
   "cell_type": "code",
   "execution_count": 12,
   "metadata": {
    "collapsed": false
   },
   "outputs": [
    {
     "name": "stderr",
     "output_type": "stream",
     "text": [
      "/home/hartmank/braindecode/vienv/local/lib/python2.7/site-packages/lasagne/layers/pool.py:266: UserWarning: DEPRECATION: the 'ds' parameter is not going to exist anymore as it is going to be replaced by the parameter 'ws'.\n",
      "  mode=self.mode,\n",
      "/home/hartmank/braindecode/vienv/local/lib/python2.7/site-packages/lasagne/layers/pool.py:266: UserWarning: DEPRECATION: the 'st' parameter is not going to exist anymore as it is going to be replaced by the parameter 'stride'.\n",
      "  mode=self.mode,\n",
      "/home/hartmank/braindecode/vienv/local/lib/python2.7/site-packages/lasagne/layers/pool.py:266: UserWarning: DEPRECATION: the 'padding' parameter is not going to exist anymore as it is going to be replaced by the parameter 'pad'.\n",
      "  mode=self.mode,\n"
     ]
    },
    {
     "name": "stdout",
     "output_type": "stream",
     "text": [
      "Got filter indeces\n",
      "(4,) 0\n",
      "Filter 0\n",
      "Filter 1\n",
      "Filter 2\n",
      "Filter 3\n",
      "Max filter finished\n",
      "Batch\n",
      "!!!W!!! Prod{acc_dtype=int64}.0\n",
      "!!!W!!! Prod{acc_dtype=int64}.0\n",
      "!!!W!!! Prod{acc_dtype=int64}.0\n",
      "!!!W!!! Prod{acc_dtype=int64}.0\n"
     ]
    },
    {
     "name": "stderr",
     "output_type": "stream",
     "text": [
      "/home/hartmank/braindecode/vienv/local/lib/python2.7/site-packages/lasagne/layers/helper.py:212: UserWarning: get_output() was called with unused kwargs:\n",
      "\tinput_var\n",
      "  % \"\\n\\t\".join(suggestions))\n"
     ]
    },
    {
     "name": "stdout",
     "output_type": "stream",
     "text": [
      "Batch\n",
      "!!!W!!! Prod{acc_dtype=int64}.0\n",
      "!!!W!!! Prod{acc_dtype=int64}.0\n",
      "!!!W!!! Prod{acc_dtype=int64}.0\n",
      "!!!W!!! Prod{acc_dtype=int64}.0\n",
      "Batch\n",
      "!!!W!!! Prod{acc_dtype=int64}.0\n",
      "!!!W!!! Prod{acc_dtype=int64}.0\n",
      "!!!W!!! Prod{acc_dtype=int64}.0\n",
      "!!!W!!! Prod{acc_dtype=int64}.0\n",
      "Batch\n",
      "!!!W!!! Prod{acc_dtype=int64}.0\n",
      "!!!W!!! Prod{acc_dtype=int64}.0\n",
      "!!!W!!! Prod{acc_dtype=int64}.0\n",
      "!!!W!!! Prod{acc_dtype=int64}.0\n",
      "Batch\n",
      "Got filter indeces\n",
      "(4,) 1\n",
      "Filter 1\n",
      "Filter 0\n",
      "Filter 2\n",
      "Filter 3\n",
      "Max filter finished\n",
      "Batch\n",
      "!!!W!!! Prod{acc_dtype=int64}.0\n",
      "!!!W!!! Prod{acc_dtype=int64}.0\n",
      "!!!W!!! Prod{acc_dtype=int64}.0\n",
      "!!!W!!! Prod{acc_dtype=int64}.0\n",
      "Batch\n",
      "!!!W!!! Prod{acc_dtype=int64}.0\n",
      "!!!W!!! Prod{acc_dtype=int64}.0\n",
      "!!!W!!! Prod{acc_dtype=int64}.0\n",
      "!!!W!!! Prod{acc_dtype=int64}.0\n",
      "Batch\n",
      "!!!W!!! Prod{acc_dtype=int64}.0\n",
      "!!!W!!! Prod{acc_dtype=int64}.0\n",
      "!!!W!!! Prod{acc_dtype=int64}.0\n",
      "!!!W!!! Prod{acc_dtype=int64}.0\n",
      "Batch\n",
      "!!!W!!! Prod{acc_dtype=int64}.0\n",
      "!!!W!!! Prod{acc_dtype=int64}.0\n",
      "!!!W!!! Prod{acc_dtype=int64}.0\n",
      "!!!W!!! Prod{acc_dtype=int64}.0\n",
      "Batch\n",
      "Got filter indeces\n",
      "(4,) 2\n",
      "Filter 2\n",
      "Filter 3\n",
      "Filter 0\n",
      "Filter 1\n",
      "Max filter finished\n",
      "Batch\n",
      "!!!W!!! Prod{acc_dtype=int64}.0\n",
      "!!!W!!! Prod{acc_dtype=int64}.0\n",
      "!!!W!!! Prod{acc_dtype=int64}.0\n",
      "!!!W!!! Prod{acc_dtype=int64}.0\n",
      "Batch\n",
      "!!!W!!! Prod{acc_dtype=int64}.0\n",
      "!!!W!!! Prod{acc_dtype=int64}.0\n",
      "!!!W!!! Prod{acc_dtype=int64}.0\n",
      "!!!W!!! Prod{acc_dtype=int64}.0\n",
      "Batch\n",
      "!!!W!!! Prod{acc_dtype=int64}.0\n",
      "!!!W!!! Prod{acc_dtype=int64}.0\n",
      "!!!W!!! Prod{acc_dtype=int64}.0\n",
      "!!!W!!! Prod{acc_dtype=int64}.0\n",
      "Batch\n",
      "!!!W!!! Prod{acc_dtype=int64}.0\n",
      "!!!W!!! Prod{acc_dtype=int64}.0\n",
      "!!!W!!! Prod{acc_dtype=int64}.0\n",
      "!!!W!!! Prod{acc_dtype=int64}.0\n",
      "Batch\n",
      "Got filter indeces\n",
      "(4,) 3\n",
      "Filter 3\n",
      "Filter 1\n",
      "Filter 2\n",
      "Filter 0\n",
      "Max filter finished\n",
      "Batch\n",
      "!!!W!!! Prod{acc_dtype=int64}.0\n",
      "!!!W!!! Prod{acc_dtype=int64}.0\n",
      "!!!W!!! Prod{acc_dtype=int64}.0\n",
      "!!!W!!! Prod{acc_dtype=int64}.0\n",
      "Batch\n",
      "!!!W!!! Prod{acc_dtype=int64}.0\n",
      "!!!W!!! Prod{acc_dtype=int64}.0\n",
      "!!!W!!! Prod{acc_dtype=int64}.0\n",
      "!!!W!!! Prod{acc_dtype=int64}.0\n",
      "Batch\n",
      "!!!W!!! Prod{acc_dtype=int64}.0\n",
      "!!!W!!! Prod{acc_dtype=int64}.0\n",
      "!!!W!!! Prod{acc_dtype=int64}.0\n",
      "!!!W!!! Prod{acc_dtype=int64}.0\n",
      "Batch\n",
      "!!!W!!! Prod{acc_dtype=int64}.0\n",
      "!!!W!!! Prod{acc_dtype=int64}.0\n",
      "!!!W!!! Prod{acc_dtype=int64}.0\n",
      "!!!W!!! Prod{acc_dtype=int64}.0\n",
      "Batch\n"
     ]
    }
   ],
   "source": [
    "layer_list = [3,5,11,17,23,28]\n",
    "X_reshapes = [None,None,None,None,None,81]\n",
    "splits = [1,1,2,2,5,5]\n",
    "n_Units = 50\n",
    "n_filters = 5\n",
    "\n",
    "layer_list = [28]\n",
    "X_reshapes = [81]\n",
    "splits = [5]\n",
    "\n",
    "class_defs = [[1,0,0,0],\n",
    "             [0,1,0,0],\n",
    "             [0,0,1,0],\n",
    "             [0,0,0,1]]\n",
    "\n",
    "for layer,X_reshape,split in zip(layer_list,X_reshapes,splits):\n",
    "    RF_model,RF_layer = check_if_finalreshape_is_needed(model,layer)\n",
    "    #Get highest input/unit activation combination\n",
    "    l_RF = receptive_field_build_deconv_layers(RF_model[RF_layer],RF_model[1],\n",
    "                                                   use_learned_W=False,X_reshape=X_reshape)\n",
    "    pred_fn = create_pred_fn(RF_model[RF_layer])\n",
    "    output = pred_fn(list(inputs))\n",
    "    \n",
    "    c=0\n",
    "    for class_def in class_defs:\n",
    "        class_indeces = np.where(np.all(np.equal(targets,class_def),axis=1))[0]\n",
    "        mean_filters = output[class_indeces].mean(axis=3).mean(axis=2).mean(axis=0)\n",
    "        print 'Got filter indeces'\n",
    "        print mean_filters.shape,mean_filters.argmax(axis=0)\n",
    "        max_filters = mean_filters.argsort(axis=0)[::-1][:n_filters]\n",
    "    \n",
    "        max_ind = list()\n",
    "        for filter in max_filters:\n",
    "            print 'Filter',filter\n",
    "            max_ind.append(get_most_active_units_in_layer_from_output(output,RF_layer,filter,n_units=n_Units,abs_act=False))\n",
    "        #del output\n",
    "        print 'Max filter finished'\n",
    "        batches = np.array_split(np.arange(len(max_ind)),split)\n",
    "        \n",
    "        X_RF_complete = np.array([])\n",
    "        max_ind = np.asarray(max_ind)\n",
    "        for batch in batches:\n",
    "            print 'Batch'\n",
    "            if len(batch)==0:\n",
    "                break\n",
    "\n",
    "            max_ind_ = max_ind[batch]\n",
    "            max_ind_shape = max_ind_.shape\n",
    "            max_ind_ = max_ind_.reshape((1,-1,max_ind_shape[2])).squeeze()\n",
    "\n",
    "            X_RF_complete_,mask = get_receptive_field_masked_inputs(inputs,max_ind_,l_RF)\n",
    "\n",
    "            X_RF_shape = X_RF_complete_.shape\n",
    "            X_RF_complete_ = X_RF_complete_.reshape(max_ind_shape[0],-1,X_RF_shape[1],X_RF_shape[2],X_RF_shape[3])\n",
    "            X_RF_complete_.shape\n",
    "\n",
    "            X_RF_complete = np.vstack([X_RF_complete, X_RF_complete_]) if X_RF_complete.size else X_RF_complete_\n",
    "\n",
    "        pkl = open(os.path.join(datpath,'Class%d_Layer%02d.data'%(c,layer)), 'w')\n",
    "        savedata = {'X':inputs,'Y':targets,'RF':X_RF_complete, 'Units':max_ind, 'filters':max_filters}\n",
    "        pickle.dump(savedata,pkl)\n",
    "        pkl.close()\n",
    "        c+=1"
   ]
  },
  {
   "cell_type": "code",
   "execution_count": 1,
   "metadata": {
    "collapsed": false
   },
   "outputs": [
    {
     "ename": "NameError",
     "evalue": "name 'data28' is not defined",
     "output_type": "error",
     "traceback": [
      "\u001b[0;31m---------------------------------------------------------------------------\u001b[0m",
      "\u001b[0;31mNameError\u001b[0m                                 Traceback (most recent call last)",
      "\u001b[0;32m<ipython-input-1-06f83be9abba>\u001b[0m in \u001b[0;36m<module>\u001b[0;34m()\u001b[0m\n\u001b[0;32m----> 1\u001b[0;31m \u001b[0mX_RF\u001b[0m \u001b[0;34m=\u001b[0m \u001b[0mdata28\u001b[0m\u001b[0;34m[\u001b[0m\u001b[0;34m'RF'\u001b[0m\u001b[0;34m]\u001b[0m\u001b[0;34m\u001b[0m\u001b[0m\n\u001b[0m\u001b[1;32m      2\u001b[0m \u001b[0mX_RF_cropped\u001b[0m \u001b[0;34m=\u001b[0m \u001b[0mX_RF\u001b[0m\u001b[0;34m[\u001b[0m\u001b[0mnp\u001b[0m\u001b[0;34m.\u001b[0m\u001b[0misnan\u001b[0m\u001b[0;34m(\u001b[0m\u001b[0mX_RF\u001b[0m\u001b[0;34m)\u001b[0m\u001b[0;34m==\u001b[0m\u001b[0mFalse\u001b[0m\u001b[0;34m]\u001b[0m\u001b[0;34m\u001b[0m\u001b[0m\n\u001b[1;32m      3\u001b[0m \u001b[0mX_RF_cropped\u001b[0m \u001b[0;34m=\u001b[0m \u001b[0mX_RF_cropped\u001b[0m\u001b[0;34m.\u001b[0m\u001b[0mreshape\u001b[0m\u001b[0;34m(\u001b[0m\u001b[0;34m(\u001b[0m\u001b[0mX_RF\u001b[0m\u001b[0;34m.\u001b[0m\u001b[0mshape\u001b[0m\u001b[0;34m[\u001b[0m\u001b[0;36m0\u001b[0m\u001b[0;34m]\u001b[0m\u001b[0;34m,\u001b[0m\u001b[0mX_RF\u001b[0m\u001b[0;34m.\u001b[0m\u001b[0mshape\u001b[0m\u001b[0;34m[\u001b[0m\u001b[0;36m1\u001b[0m\u001b[0;34m]\u001b[0m\u001b[0;34m,\u001b[0m\u001b[0;36m44\u001b[0m\u001b[0;34m,\u001b[0m\u001b[0;34m-\u001b[0m\u001b[0;36m1\u001b[0m\u001b[0;34m)\u001b[0m\u001b[0;34m)\u001b[0m\u001b[0;34m\u001b[0m\u001b[0m\n",
      "\u001b[0;31mNameError\u001b[0m: name 'data28' is not defined"
     ]
    }
   ],
   "source": []
  },
  {
   "cell_type": "code",
   "execution_count": null,
   "metadata": {
    "collapsed": true
   },
   "outputs": [],
   "source": []
  }
 ],
 "metadata": {
  "kernelspec": {
   "display_name": "Python 2",
   "language": "python",
   "name": "python2"
  },
  "language_info": {
   "codemirror_mode": {
    "name": "ipython",
    "version": 2
   },
   "file_extension": ".py",
   "mimetype": "text/x-python",
   "name": "python",
   "nbconvert_exporter": "python",
   "pygments_lexer": "ipython2",
   "version": "2.7.12"
  }
 },
 "nbformat": 4,
 "nbformat_minor": 1
}
