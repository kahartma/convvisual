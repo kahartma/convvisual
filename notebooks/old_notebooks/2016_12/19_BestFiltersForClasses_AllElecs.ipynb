{
 "cells": [
  {
   "cell_type": "code",
   "execution_count": 1,
   "metadata": {
    "collapsed": false
   },
   "outputs": [
    {
     "name": "stderr",
     "output_type": "stream",
     "text": [
      "Using gpu device 0: GeForce GTX TITAN Black (CNMeM is disabled, cuDNN 5005)\n"
     ]
    },
    {
     "name": "stdout",
     "output_type": "stream",
     "text": [
      "/home/hartmank/braindecode/convvisual\n"
     ]
    },
    {
     "name": "stderr",
     "output_type": "stream",
     "text": [
      "/home/hartmank/braindecode/vienv/local/lib/python2.7/site-packages/sklearn/cross_validation.py:44: DeprecationWarning: This module was deprecated in version 0.18 in favor of the model_selection module into which all the refactored classes and functions are moved. Also note that the interface of the new CV iterators are different from that of this module. This module will be removed in 0.20.\n",
      "  \"This module will be removed in 0.20.\", DeprecationWarning)\n"
     ]
    }
   ],
   "source": [
    "import theano\n",
    "\n",
    "get_ipython().magic(u\"cd '/home/hartmank/braindecode/convvisual'\")\n",
    "import numpy as np\n",
    "get_ipython().magic(u'load_ext autoreload')\n",
    "get_ipython().magic(u'autoreload 2')\n",
    "import matplotlib\n",
    "matplotlib.use('Agg')\n",
    "from matplotlib import pyplot as plt\n",
    "from matplotlib import cm\n",
    "\n",
    "import matplotlib.lines as mlines\n",
    "import seaborn\n",
    "matplotlib.rcParams['figure.figsize'] = (12.0, 3.0)\n",
    "matplotlib.rcParams['font.size'] = 7\n",
    "seaborn.set_style('darkgrid')\n",
    "\n",
    "from braindecode.scripts.print_results import ResultPrinter\n",
    "from braindecode.csp.print_results import CSPResultPrinter\n",
    "import logging\n",
    "log = logging.getLogger()\n",
    "log.setLevel(\"DEBUG\")\n",
    "from braindecode.scripts.train_experiments import setup_logging\n",
    "setup_logging()\n",
    "\n",
    "from braindecode.experiments.load import load_exp_and_model\n",
    "from braindecode.veganlasagne.layer_util import print_layers, recompute_bnorm_layer_statistics\n",
    "import lasagne\n",
    "\n",
    "import os\n",
    "import pickle"
   ]
  },
  {
   "cell_type": "code",
   "execution_count": 2,
   "metadata": {
    "collapsed": false
   },
   "outputs": [
    {
     "name": "stdout",
     "output_type": "stream",
     "text": [
      "2016-12-19 14:26:36,915 Setting n_sample preds automatically to 119\n",
      "2016-12-19 14:26:36,920 Input window length is 522\n",
      "2016-12-19 14:26:37,169 Setting n_sample preds automatically to 119\n",
      "2016-12-19 14:26:37,171 Input window length is 522\n",
      "/home/hartmank/braindecode\n"
     ]
    }
   ],
   "source": [
    "n_Units = 50\n",
    "n_filters = 5\n",
    "\n",
    "#modelpath = 'models/paper/ours/cnt/deep4/243'\n",
    "modelpath = 'models/paper/ours/cnt/deep4/car/43'\n",
    "savepath = os.path.join(modelpath,'%dBestInputsFor%dBestFilters/'%(n_Units,n_filters))\n",
    "exp, model = load_exp_and_model(os.path.join('../data/',modelpath), set_invalid_to_NaN=False)\n",
    "get_ipython().magic(u'cd ../')"
   ]
  },
  {
   "cell_type": "code",
   "execution_count": 3,
   "metadata": {
    "collapsed": false
   },
   "outputs": [
    {
     "name": "stdout",
     "output_type": "stream",
     "text": [
      "/home/hartmank/braindecode/convvisual\n",
      "[0.1469800420168067, 0.13912815126050415, 0.17691701680672267, 0.14325105042016806, 0.13679096638655464]\n"
     ]
    }
   ],
   "source": [
    "get_ipython().magic(u\"cd '/home/hartmank/braindecode/convvisual'\")\n",
    "tmp = np.load(os.path.join('../data/',modelpath)+'.result.pkl')\n",
    "\n",
    "print tmp.monitor_channels['test_sample_misclass'][-5:]"
   ]
  },
  {
   "cell_type": "code",
   "execution_count": 4,
   "metadata": {
    "collapsed": false
   },
   "outputs": [
    {
     "name": "stdout",
     "output_type": "stream",
     "text": [
      "<lasagne.layers.special.NonlinearityLayer object at 0x7f024991a890>\n"
     ]
    }
   ],
   "source": [
    "from braindecode.veganlasagne.layers import FinalReshapeLayer\n",
    "print model\n",
    "all_l = lasagne.layers.get_all_layers(model)\n",
    "model = all_l[-3]\n",
    "model = FinalReshapeLayer(model,remove_invalids=True,flatten=False)\n",
    "model = lasagne.layers.DimshuffleLayer(model,(0,2,1,3))\n",
    "model = lasagne.layers.ReshapeLayer(model,(-1,4))\n",
    "model = lasagne.layers.NonlinearityLayer(model,nonlinearity=lasagne.nonlinearities.softmax)"
   ]
  },
  {
   "cell_type": "code",
   "execution_count": 5,
   "metadata": {
    "collapsed": false
   },
   "outputs": [
    {
     "name": "stdout",
     "output_type": "stream",
     "text": [
      " 0-InputLayer                                                         [None, 128, 640, 1]\n",
      " 1-DimshuffleLayer                                                    (None, 1, 640, 128)\n",
      " 2-DropoutLayer             0.000                                    \n",
      " 3-Conv2DLayer              10x1                                      (None, 25, 631, 128)\n",
      " 4-Conv2DAllColsLayer       1x128                                     (None, 25, 631, 1)\n",
      " 5-BatchNormLayer                                     elu            \n",
      " 6-Pool2DLayer              3x1                       max             (None, 25, 629, 1)\n",
      " 7-StrideReshapeLayer           ::3 ::1                               (None, 25, 210, 1)\n",
      " 8-NonlinearityLayer                                                 \n",
      " 9-DropoutLayer             0.500                                    \n",
      "10-Conv2DLayer              10x1                                      (None, 50, 201, 1)\n",
      "11-BatchNormLayer                                     elu            \n",
      "12-Pool2DLayer              3x1                       max             (None, 50, 199, 1)\n",
      "13-StrideReshapeLayer           ::3 ::1                               (None, 50, 67, 1)\n",
      "14-NonlinearityLayer                                                 \n",
      "15-DropoutLayer             0.500                                    \n",
      "16-Conv2DLayer              10x1                                      (None, 100, 58, 1)\n",
      "17-BatchNormLayer                                     elu            \n",
      "18-Pool2DLayer              3x1                       max             (None, 100, 56, 1)\n",
      "19-StrideReshapeLayer           ::3 ::1                               (None, 100, 19, 1)\n",
      "20-NonlinearityLayer                                                 \n",
      "21-DropoutLayer             0.500                                    \n",
      "22-Conv2DLayer              10x1                                      (None, 200, 10, 1)\n",
      "23-BatchNormLayer                                     elu            \n",
      "24-Pool2DLayer              3x1                       max             (None, 200, 8, 1)\n",
      "25-StrideReshapeLayer           ::3 ::1                               (None, 200, 3, 1)\n",
      "26-NonlinearityLayer                                                 \n",
      "27-DropoutLayer             0.500                                    \n",
      "28-Conv2DLayer              2x1                                       (None, 4, 2, 1)\n",
      "29-FinalReshapeLayer                                                  (None, 4)\n",
      "30-NonlinearityLayer                                  safe_softmax   \n",
      "\n"
     ]
    }
   ],
   "source": [
    "print_layers(model)"
   ]
  },
  {
   "cell_type": "code",
   "execution_count": 6,
   "metadata": {
    "collapsed": false,
    "scrolled": true
   },
   "outputs": [
    {
     "name": "stdout",
     "output_type": "stream",
     "text": [
      "/home/hartmank/braindecode\n",
      "2016-12-19 14:26:44,480 Load Training Set...\n",
      "2016-12-19 14:27:08,550 Load Test Set...\n",
      "2016-12-19 14:27:12,920 Clean Training Set...\n",
      "2016-12-19 14:27:14,090 Rejected channels: []\n",
      "2016-12-19 14:27:14,091 #Clean trials:     895\n",
      "2016-12-19 14:27:14,092 #Rejected trials:  2\n",
      "2016-12-19 14:27:14,093 Fraction Clean:    99.0%\n",
      "2016-12-19 14:27:14,093 (from maxmin):     2\n",
      "2016-12-19 14:27:14,094 (from var):        0\n",
      "2016-12-19 14:27:14,428 Clean Test Set...\n",
      "2016-12-19 14:27:14,641 Rejected channels: []\n",
      "2016-12-19 14:27:14,642 #Clean trials:     160\n",
      "2016-12-19 14:27:14,642 #Rejected trials:  0\n",
      "2016-12-19 14:27:14,643 Fraction Clean:    100.0%\n",
      "2016-12-19 14:27:14,643 (from maxmin):     0\n",
      "2016-12-19 14:27:14,644 (from var):        0\n",
      "2016-12-19 14:27:14,645 Create Cleaned Cnt Sets...\n",
      "2016-12-19 14:27:16,795 Create sets from cleaned cnt...\n",
      "2016-12-19 14:27:16,797 Preprocess continuous signal...\n",
      "2016-12-19 14:27:57,463 Loaded dataset with shape: (1725659, 128, 1, 1)\n",
      "2016-12-19 14:27:57,466 Preprocess continuous signal...\n",
      "2016-12-19 14:28:04,689 Loaded dataset with shape: (308544, 128, 1, 1)\n",
      "2016-12-19 14:28:04,691 Loaded clean train data with shape (1725659, 128, 1, 1).\n",
      "2016-12-19 14:28:04,691 Loaded clean test data with shape (308544, 128, 1, 1).\n"
     ]
    }
   ],
   "source": [
    "get_ipython().magic(u\"cd '/home/hartmank/braindecode'\")\n",
    "exp.dataset.load()"
   ]
  },
  {
   "cell_type": "code",
   "execution_count": 7,
   "metadata": {
    "collapsed": false
   },
   "outputs": [
    {
     "name": "stdout",
     "output_type": "stream",
     "text": [
      "\u001b[0m\u001b[01;34mbraindecode\u001b[0m/  \u001b[01;34mdata\u001b[0m/  job.sh.e112744  job.sh.o112744\r\n"
     ]
    }
   ],
   "source": [
    "ls .."
   ]
  },
  {
   "cell_type": "code",
   "execution_count": 8,
   "metadata": {
    "collapsed": false
   },
   "outputs": [],
   "source": [
    "#print 'loaded'\n",
    "datasets = exp.dataset_provider.get_train_merged_valid_test(exp.dataset)\n",
    "#print 'loaded2'\n",
    "#inputs,targets = datasets['test'].get_data()\n",
    "exp.iterator.batch_size = 100\n",
    "test_batches = list(exp.iterator.get_batches(datasets['test'], shuffle=False))\n",
    "inputs,targets = test_batches[0]\n",
    "\n",
    "targets = targets.reshape((len(inputs),-1,4))\n",
    "targets = targets.mean(axis=1)"
   ]
  },
  {
   "cell_type": "code",
   "execution_count": 9,
   "metadata": {
    "collapsed": false
   },
   "outputs": [
    {
     "name": "stderr",
     "output_type": "stream",
     "text": [
      "/home/hartmank/braindecode/vienv/local/lib/python2.7/site-packages/lasagne/layers/pool.py:266: UserWarning: DEPRECATION: the 'ds' parameter is not going to exist anymore as it is going to be replaced by the parameter 'ws'.\n",
      "  mode=self.mode,\n",
      "/home/hartmank/braindecode/vienv/local/lib/python2.7/site-packages/lasagne/layers/pool.py:266: UserWarning: DEPRECATION: the 'st' parameter is not going to exist anymore as it is going to be replaced by the parameter 'stride'.\n",
      "  mode=self.mode,\n",
      "/home/hartmank/braindecode/vienv/local/lib/python2.7/site-packages/lasagne/layers/pool.py:266: UserWarning: DEPRECATION: the 'padding' parameter is not going to exist anymore as it is going to be replaced by the parameter 'pad'.\n",
      "  mode=self.mode,\n"
     ]
    },
    {
     "name": "stdout",
     "output_type": "stream",
     "text": [
      "[0 0 0 1] 11900\n",
      "Accuracy: 51.68%\n"
     ]
    }
   ],
   "source": [
    "\n",
    "#from braindecode.veganlasagne.layers import create_pred_fn\n",
    "#pred_fn = create_pred_fn(model)\n",
    "#inputs,targets = test_batches[0]\n",
    "#preds = pred_fn(inputs)\n",
    "#print targets[0],preds.shape[0]\n",
    "#print(\"Accuracy: {:.2f}%\".format(100 * \n",
    "#    np.mean(np.argmax(targets, axis=1) == np.argmax(preds, axis=1))))"
   ]
  },
  {
   "cell_type": "code",
   "execution_count": 8,
   "metadata": {
    "collapsed": false
   },
   "outputs": [],
   "source": [
    "#from braindecode.datahandling.batch_iteration import compute_trial_start_end_samples,CntWindowTrialIterator\n",
    "#trial_iterator = CntWindowTrialIterator(1, 1145, 521,\n",
    "#            check_preds_smaller_trial_len=True)\n",
    "#dir(exp.iterator)\n",
    "#exp.iterator.input_time_length\n",
    "#len(compute_trial_start_end_samples(targets)[0])"
   ]
  },
  {
   "cell_type": "code",
   "execution_count": 9,
   "metadata": {
    "collapsed": false
   },
   "outputs": [],
   "source": [
    "#test_batches = list(exp.iterator.get_batches(datasets['test'], shuffle=False))\n",
    "#len(test_batches)\n",
    "#len(test_batches[5][0])"
   ]
  },
  {
   "cell_type": "code",
   "execution_count": null,
   "metadata": {
    "collapsed": false
   },
   "outputs": [],
   "source": []
  },
  {
   "cell_type": "code",
   "execution_count": 10,
   "metadata": {
    "collapsed": false
   },
   "outputs": [
    {
     "data": {
      "text/plain": [
       "20000"
      ]
     },
     "execution_count": 10,
     "metadata": {},
     "output_type": "execute_result"
    }
   ],
   "source": [
    "len(np.where(np.any(datasets['test'].get_data()[1]!=0,axis=1))[0])"
   ]
  },
  {
   "cell_type": "code",
   "execution_count": 11,
   "metadata": {
    "collapsed": false
   },
   "outputs": [
    {
     "data": {
      "text/plain": [
       "308544"
      ]
     },
     "execution_count": 11,
     "metadata": {},
     "output_type": "execute_result"
    }
   ],
   "source": [
    "len(datasets['test'].get_data()[1])"
   ]
  },
  {
   "cell_type": "code",
   "execution_count": null,
   "metadata": {
    "collapsed": true
   },
   "outputs": [],
   "source": []
  },
  {
   "cell_type": "code",
   "execution_count": 19,
   "metadata": {
    "collapsed": false
   },
   "outputs": [
    {
     "name": "stdout",
     "output_type": "stream",
     "text": [
      "/home/hartmank/braindecode/convvisual\n",
      "a /home/hartmank/data/convvisual/figures/models/paper/ours/cnt/deep4/car/43/50BestInputsFor5BestFilters/\n"
     ]
    }
   ],
   "source": [
    "get_ipython().magic(u\"cd '/home/hartmank/braindecode/convvisual'\")\n",
    "from convvisual import *\n",
    "\n",
    "from braindecode.veganlasagne.layers import create_pred_fn\n",
    "model = lasagne.layers.get_all_layers(model)\n",
    "\n",
    "figpath = os.path.join('/home/hartmank/data/convvisual/figures',savepath)\n",
    "datpath = os.path.join('/home/hartmank/data/convvisual/RF_data',savepath)\n",
    "print 'a',figpath\n",
    "if not os.path.isdir(figpath):\n",
    "    os.makedirs (figpath)\n",
    "if not os.path.isdir(datpath):\n",
    "    os.makedirs (datpath)"
   ]
  },
  {
   "cell_type": "code",
   "execution_count": 21,
   "metadata": {
    "collapsed": false
   },
   "outputs": [
    {
     "name": "stdout",
     "output_type": "stream",
     "text": [
      "Got filter indeces\n",
      "(200,) 137\n",
      "Filter 137\n",
      "Filter 180\n",
      "Filter 93\n",
      "Filter 96\n",
      "Filter 83\n",
      "Max filter finished\n",
      "Batch\n",
      "!!!W!!! Prod{acc_dtype=int64}.0\n",
      "!!!W!!! Prod{acc_dtype=int64}.0\n",
      "!!!W!!! Prod{acc_dtype=int64}.0\n",
      "Batch\n",
      "!!!W!!! Prod{acc_dtype=int64}.0\n",
      "!!!W!!! Prod{acc_dtype=int64}.0\n",
      "!!!W!!! Prod{acc_dtype=int64}.0\n",
      "Batch\n",
      "!!!W!!! Prod{acc_dtype=int64}.0\n",
      "!!!W!!! Prod{acc_dtype=int64}.0\n",
      "!!!W!!! Prod{acc_dtype=int64}.0\n",
      "Batch\n",
      "!!!W!!! Prod{acc_dtype=int64}.0\n",
      "!!!W!!! Prod{acc_dtype=int64}.0\n",
      "!!!W!!! Prod{acc_dtype=int64}.0\n",
      "Batch\n",
      "!!!W!!! Prod{acc_dtype=int64}.0\n",
      "!!!W!!! Prod{acc_dtype=int64}.0\n",
      "!!!W!!! Prod{acc_dtype=int64}.0\n",
      "Batch\n",
      "Got filter indeces\n",
      "(200,) 180\n",
      "Filter 180\n",
      "Filter 137\n",
      "Filter 96\n",
      "Filter 93\n",
      "Filter 83\n",
      "Max filter finished\n",
      "Batch\n",
      "!!!W!!! Prod{acc_dtype=int64}.0\n",
      "!!!W!!! Prod{acc_dtype=int64}.0\n",
      "!!!W!!! Prod{acc_dtype=int64}.0\n",
      "Batch\n",
      "!!!W!!! Prod{acc_dtype=int64}.0\n",
      "!!!W!!! Prod{acc_dtype=int64}.0\n",
      "!!!W!!! Prod{acc_dtype=int64}.0\n",
      "Batch\n",
      "!!!W!!! Prod{acc_dtype=int64}.0\n",
      "!!!W!!! Prod{acc_dtype=int64}.0\n",
      "!!!W!!! Prod{acc_dtype=int64}.0\n",
      "Batch\n",
      "!!!W!!! Prod{acc_dtype=int64}.0\n",
      "!!!W!!! Prod{acc_dtype=int64}.0\n",
      "!!!W!!! Prod{acc_dtype=int64}.0\n",
      "Batch\n",
      "!!!W!!! Prod{acc_dtype=int64}.0\n",
      "!!!W!!! Prod{acc_dtype=int64}.0\n",
      "!!!W!!! Prod{acc_dtype=int64}.0\n",
      "Batch\n",
      "Got filter indeces\n",
      "(200,) 137\n",
      "Filter 137\n",
      "Filter 180\n",
      "Filter 93\n",
      "Filter 83\n",
      "Filter 96\n",
      "Max filter finished\n",
      "Batch\n",
      "!!!W!!! Prod{acc_dtype=int64}.0\n",
      "!!!W!!! Prod{acc_dtype=int64}.0\n",
      "!!!W!!! Prod{acc_dtype=int64}.0\n",
      "Batch\n",
      "!!!W!!! Prod{acc_dtype=int64}.0\n",
      "!!!W!!! Prod{acc_dtype=int64}.0\n",
      "!!!W!!! Prod{acc_dtype=int64}.0\n",
      "Batch\n",
      "!!!W!!! Prod{acc_dtype=int64}.0\n",
      "!!!W!!! Prod{acc_dtype=int64}.0\n",
      "!!!W!!! Prod{acc_dtype=int64}.0\n",
      "Batch\n",
      "!!!W!!! Prod{acc_dtype=int64}.0\n",
      "!!!W!!! Prod{acc_dtype=int64}.0\n",
      "!!!W!!! Prod{acc_dtype=int64}.0\n",
      "Batch\n",
      "!!!W!!! Prod{acc_dtype=int64}.0\n",
      "!!!W!!! Prod{acc_dtype=int64}.0\n",
      "!!!W!!! Prod{acc_dtype=int64}.0\n",
      "Batch\n",
      "Got filter indeces\n",
      "(200,) 137\n",
      "Filter 137\n",
      "Filter 180\n",
      "Filter 83\n",
      "Filter 22\n",
      "Filter 19\n",
      "Max filter finished\n",
      "Batch\n",
      "!!!W!!! Prod{acc_dtype=int64}.0\n",
      "!!!W!!! Prod{acc_dtype=int64}.0\n",
      "!!!W!!! Prod{acc_dtype=int64}.0\n",
      "Batch\n",
      "!!!W!!! Prod{acc_dtype=int64}.0\n",
      "!!!W!!! Prod{acc_dtype=int64}.0\n",
      "!!!W!!! Prod{acc_dtype=int64}.0\n",
      "Batch\n",
      "!!!W!!! Prod{acc_dtype=int64}.0\n",
      "!!!W!!! Prod{acc_dtype=int64}.0\n",
      "!!!W!!! Prod{acc_dtype=int64}.0\n",
      "Batch\n",
      "!!!W!!! Prod{acc_dtype=int64}.0\n",
      "!!!W!!! Prod{acc_dtype=int64}.0\n",
      "!!!W!!! Prod{acc_dtype=int64}.0\n",
      "Batch\n",
      "!!!W!!! Prod{acc_dtype=int64}.0\n",
      "!!!W!!! Prod{acc_dtype=int64}.0\n",
      "!!!W!!! Prod{acc_dtype=int64}.0\n",
      "Batch\n",
      "Got filter indeces\n",
      "(4,) 1\n",
      "Filter 1\n",
      "Filter 3\n",
      "Filter 2\n",
      "Filter 0\n",
      "Max filter finished\n",
      "Batch\n",
      "!!!W!!! Prod{acc_dtype=int64}.0\n",
      "!!!W!!! Prod{acc_dtype=int64}.0\n",
      "!!!W!!! Prod{acc_dtype=int64}.0\n",
      "!!!W!!! Prod{acc_dtype=int64}.0\n",
      "Batch\n",
      "!!!W!!! Prod{acc_dtype=int64}.0\n",
      "!!!W!!! Prod{acc_dtype=int64}.0\n",
      "!!!W!!! Prod{acc_dtype=int64}.0\n",
      "!!!W!!! Prod{acc_dtype=int64}.0\n",
      "Batch\n",
      "!!!W!!! Prod{acc_dtype=int64}.0\n",
      "!!!W!!! Prod{acc_dtype=int64}.0\n",
      "!!!W!!! Prod{acc_dtype=int64}.0\n",
      "!!!W!!! Prod{acc_dtype=int64}.0\n",
      "Batch\n",
      "!!!W!!! Prod{acc_dtype=int64}.0\n",
      "!!!W!!! Prod{acc_dtype=int64}.0\n",
      "!!!W!!! Prod{acc_dtype=int64}.0\n",
      "!!!W!!! Prod{acc_dtype=int64}.0\n",
      "Batch\n",
      "Got filter indeces\n",
      "(4,) 1\n",
      "Filter 1\n",
      "Filter 3\n",
      "Filter 2\n",
      "Filter 0\n",
      "Max filter finished\n",
      "Batch\n",
      "!!!W!!! Prod{acc_dtype=int64}.0\n",
      "!!!W!!! Prod{acc_dtype=int64}.0\n",
      "!!!W!!! Prod{acc_dtype=int64}.0\n",
      "!!!W!!! Prod{acc_dtype=int64}.0\n",
      "Batch\n",
      "!!!W!!! Prod{acc_dtype=int64}.0\n",
      "!!!W!!! Prod{acc_dtype=int64}.0\n",
      "!!!W!!! Prod{acc_dtype=int64}.0\n",
      "!!!W!!! Prod{acc_dtype=int64}.0\n",
      "Batch\n",
      "!!!W!!! Prod{acc_dtype=int64}.0\n",
      "!!!W!!! Prod{acc_dtype=int64}.0\n",
      "!!!W!!! Prod{acc_dtype=int64}.0\n",
      "!!!W!!! Prod{acc_dtype=int64}.0\n",
      "Batch\n",
      "!!!W!!! Prod{acc_dtype=int64}.0\n",
      "!!!W!!! Prod{acc_dtype=int64}.0\n",
      "!!!W!!! Prod{acc_dtype=int64}.0\n",
      "!!!W!!! Prod{acc_dtype=int64}.0\n",
      "Batch\n",
      "Got filter indeces\n",
      "(4,) 1\n",
      "Filter 1\n",
      "Filter 3\n",
      "Filter 2\n",
      "Filter 0\n",
      "Max filter finished\n",
      "Batch\n",
      "!!!W!!! Prod{acc_dtype=int64}.0\n",
      "!!!W!!! Prod{acc_dtype=int64}.0\n",
      "!!!W!!! Prod{acc_dtype=int64}.0\n",
      "!!!W!!! Prod{acc_dtype=int64}.0\n",
      "Batch\n",
      "!!!W!!! Prod{acc_dtype=int64}.0\n",
      "!!!W!!! Prod{acc_dtype=int64}.0\n",
      "!!!W!!! Prod{acc_dtype=int64}.0\n",
      "!!!W!!! Prod{acc_dtype=int64}.0\n",
      "Batch\n",
      "!!!W!!! Prod{acc_dtype=int64}.0\n",
      "!!!W!!! Prod{acc_dtype=int64}.0\n",
      "!!!W!!! Prod{acc_dtype=int64}.0\n",
      "!!!W!!! Prod{acc_dtype=int64}.0\n",
      "Batch\n",
      "!!!W!!! Prod{acc_dtype=int64}.0\n",
      "!!!W!!! Prod{acc_dtype=int64}.0\n",
      "!!!W!!! Prod{acc_dtype=int64}.0\n",
      "!!!W!!! Prod{acc_dtype=int64}.0\n",
      "Batch\n",
      "Got filter indeces\n",
      "(4,) 3\n",
      "Filter 3\n",
      "Filter 1\n",
      "Filter 2\n",
      "Filter 0\n",
      "Max filter finished\n",
      "Batch\n",
      "!!!W!!! Prod{acc_dtype=int64}.0\n",
      "!!!W!!! Prod{acc_dtype=int64}.0\n",
      "!!!W!!! Prod{acc_dtype=int64}.0\n",
      "!!!W!!! Prod{acc_dtype=int64}.0\n",
      "Batch\n",
      "!!!W!!! Prod{acc_dtype=int64}.0\n",
      "!!!W!!! Prod{acc_dtype=int64}.0\n",
      "!!!W!!! Prod{acc_dtype=int64}.0\n",
      "!!!W!!! Prod{acc_dtype=int64}.0\n",
      "Batch\n",
      "!!!W!!! Prod{acc_dtype=int64}.0\n",
      "!!!W!!! Prod{acc_dtype=int64}.0\n",
      "!!!W!!! Prod{acc_dtype=int64}.0\n",
      "!!!W!!! Prod{acc_dtype=int64}.0\n",
      "Batch\n",
      "!!!W!!! Prod{acc_dtype=int64}.0\n",
      "!!!W!!! Prod{acc_dtype=int64}.0\n",
      "!!!W!!! Prod{acc_dtype=int64}.0\n",
      "!!!W!!! Prod{acc_dtype=int64}.0\n",
      "Batch\n"
     ]
    }
   ],
   "source": [
    "layer_list = [3,5,11,17,23,28]\n",
    "X_reshapes = [None,None,3,9,27,81]\n",
    "splits = [1,1,4,4,8,8]\n",
    "\n",
    "class_defs = [[1,0,0,0],\n",
    "             [0,1,0,0],\n",
    "             [0,0,1,0],\n",
    "             [0,0,0,1]]\n",
    "\n",
    ",\n",
    "    RF_model,RF_layer = check_if_finalreshape_is_needed(model,layer)\n",
    "    #Get highest input/unit activation combination\n",
    "    l_RF = receptive_field_build_deconv_layers(RF_model[RF_layer],RF_model[1],\n",
    "                                                   use_learned_W=False,X_reshape=X_reshape)\n",
    "    pred_fn = create_pred_fn(RF_model[RF_layer])\n",
    "    output = pred_fn(list(inputs))\n",
    "    \n",
    "    c=0\n",
    "    for class_def in class_defs:\n",
    "        class_indeces = np.where(np.all(np.equal(targets,class_def),axis=1))[0]\n",
    "        mean_filters = output[class_indeces].mean(axis=3).mean(axis=2).mean(axis=0)\n",
    "        print 'Got filter indeces'\n",
    "        print mean_filters.shape,mean_filters.argmax(axis=0)\n",
    "        max_filters = mean_filters.argsort(axis=0)[::-1][:n_filters]\n",
    "    \n",
    "        max_ind = list()\n",
    "        for filter in max_filters:\n",
    "            print 'Filter',filter\n",
    "            max_ind.append(get_most_active_units_in_layer_from_output(output,RF_layer,filter,n_units=n_Units,abs_act=False))\n",
    "        #del output\n",
    "        print 'Max filter finished'\n",
    "        batches = np.array_split(np.arange(len(max_ind)),split)\n",
    "        \n",
    "        X_RF_complete = np.array([])\n",
    "        max_ind = np.asarray(max_ind)\n",
    "        for batch in batches:\n",
    "            print 'Batch'\n",
    "            if len(batch)==0:\n",
    "                break\n",
    "\n",
    "            max_ind_ = max_ind[batch]\n",
    "            max_ind_shape = max_ind_.shape\n",
    "            max_ind_ = max_ind_.reshape((1,-1,max_ind_shape[2])).squeeze()\n",
    "\n",
    "            X_RF_complete_,mask = get_receptive_field_masked_inputs(inputs,max_ind_,l_RF)\n",
    "\n",
    "            X_RF_shape = X_RF_complete_.shape\n",
    "            X_RF_complete_ = X_RF_complete_.reshape(max_ind_shape[0],-1,X_RF_shape[1],X_RF_shape[2],X_RF_shape[3])\n",
    "            X_RF_complete_.shape\n",
    "\n",
    "            X_RF_complete = np.vstack([X_RF_complete, X_RF_complete_]) if X_RF_complete.size else X_RF_complete_\n",
    "\n",
    "        pkl = open(os.path.join(datpath,'Class%d_Layer%02d.data'%(c,layer)), 'w')\n",
    "        savedata = {'RF':X_RF_complete, 'Units':max_ind, 'filters':max_filters, 'filter_act':mean_filters}\n",
    "        pickle.dump(savedata,pkl)\n",
    "        pkl.close()\n",
    "        c+=1\n",
    "        \n",
    "pkl = open(os.path.join(datpath,'X_Y_Data.data'), 'w')\n",
    "savedata = {'X':inputs,'Y':targets}\n",
    "pickle.dump(savedata,pkl)\n",
    "pkl.close()"
   ]
  },
  {
   "cell_type": "code",
   "execution_count": 23,
   "metadata": {
    "collapsed": false
   },
   "outputs": [
    {
     "name": "stdout",
     "output_type": "stream",
     "text": [
      "(4, 50, 4)\n"
     ]
    }
   ],
   "source": [
    "print max_ind.shape"
   ]
  },
  {
   "cell_type": "code",
   "execution_count": 24,
   "metadata": {
    "collapsed": false
   },
   "outputs": [
    {
     "name": "stdout",
     "output_type": "stream",
     "text": [
      "[array([0]), array([1]), array([2]), array([3]), array([], dtype=int64), array([], dtype=int64), array([], dtype=int64), array([], dtype=int64)]\n"
     ]
    }
   ],
   "source": [
    "print batches"
   ]
  },
  {
   "cell_type": "code",
   "execution_count": null,
   "metadata": {
    "collapsed": true
   },
   "outputs": [],
   "source": []
  }
 ],
 "metadata": {
  "kernelspec": {
   "display_name": "Python 2",
   "language": "python",
   "name": "python2"
  },
  "language_info": {
   "codemirror_mode": {
    "name": "ipython",
    "version": 2
   },
   "file_extension": ".py",
   "mimetype": "text/x-python",
   "name": "python",
   "nbconvert_exporter": "python",
   "pygments_lexer": "ipython2",
   "version": "2.7.12"
  }
 },
 "nbformat": 4,
 "nbformat_minor": 1
}
