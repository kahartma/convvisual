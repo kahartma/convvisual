{
 "cells": [
  {
   "cell_type": "code",
   "execution_count": null,
   "metadata": {
    "collapsed": false
   },
   "outputs": [],
   "source": [
    "import theano\n",
    "\n",
    "get_ipython().magic(u\"cd '/home/hartmank/braindecode/convvisual'\")\n",
    "import numpy as np\n",
    "get_ipython().magic(u'load_ext autoreload')\n",
    "get_ipython().magic(u'autoreload 2')\n",
    "import matplotlib\n",
    "matplotlib.use('Agg')\n",
    "from matplotlib import pyplot as plt\n",
    "from matplotlib import cm\n",
    "\n",
    "import matplotlib.lines as mlines\n",
    "import seaborn\n",
    "matplotlib.rcParams['figure.figsize'] = (12.0, 3.0)\n",
    "matplotlib.rcParams['font.size'] = 7\n",
    "seaborn.set_style('darkgrid')\n",
    "\n",
    "from braindecode.scripts.print_results import ResultPrinter\n",
    "from braindecode.csp.print_results import CSPResultPrinter\n",
    "import logging\n",
    "log = logging.getLogger()\n",
    "log.setLevel(\"DEBUG\")\n",
    "from braindecode.scripts.train_experiments import setup_logging\n",
    "setup_logging()\n",
    "\n",
    "from braindecode.experiments.load import load_exp_and_model\n",
    "from braindecode.veganlasagne.layer_util import print_layers, recompute_bnorm_layer_statistics\n",
    "import lasagne\n",
    "\n",
    "import os\n",
    "import pickle"
   ]
  },
  {
   "cell_type": "code",
   "execution_count": null,
   "metadata": {
    "collapsed": false
   },
   "outputs": [],
   "source": [
    "n_Units = 80\n",
    "n_filters = 5\n",
    "\n",
    "modelpath = 'models/paper/ours/cnt/deep4/243'\n",
    "#modelpath = 'models/paper/ours/cnt/deep4/car/22'\n",
    "savepath = os.path.join(modelpath,'%dBestInputsFor%dBestFilters_FilterActDiff/'%(n_Units,n_filters))\n",
    "exp, model = load_exp_and_model(os.path.join('../data/',modelpath), set_invalid_to_NaN=False)\n",
    "get_ipython().magic(u'cd ../')"
   ]
  },
  {
   "cell_type": "code",
   "execution_count": null,
   "metadata": {
    "collapsed": false
   },
   "outputs": [],
   "source": []
  },
  {
   "cell_type": "code",
   "execution_count": null,
   "metadata": {
    "collapsed": false
   },
   "outputs": [],
   "source": [
    "from braindecode.veganlasagne.layers import FinalReshapeLayer\n",
    "print model\n",
    "all_l = lasagne.layers.get_all_layers(model)\n",
    "model = all_l[-3]\n",
    "model = FinalReshapeLayer(model,remove_invalids=True,flatten=False)\n",
    "model = lasagne.layers.DimshuffleLayer(model,(0,2,1,3))\n",
    "model = lasagne.layers.ReshapeLayer(model,(-1,4))\n",
    "model = lasagne.layers.NonlinearityLayer(model,nonlinearity=lasagne.nonlinearities.softmax)"
   ]
  },
  {
   "cell_type": "code",
   "execution_count": null,
   "metadata": {
    "collapsed": false
   },
   "outputs": [],
   "source": [
    "print_layers(model)"
   ]
  },
  {
   "cell_type": "code",
   "execution_count": null,
   "metadata": {
    "collapsed": false,
    "scrolled": true
   },
   "outputs": [],
   "source": [
    "get_ipython().magic(u\"cd '/home/hartmank/braindecode'\")\n",
    "exp.dataset.load()"
   ]
  },
  {
   "cell_type": "code",
   "execution_count": null,
   "metadata": {
    "collapsed": false
   },
   "outputs": [],
   "source": [
    "ls .."
   ]
  },
  {
   "cell_type": "code",
   "execution_count": null,
   "metadata": {
    "collapsed": false
   },
   "outputs": [],
   "source": [
    "#print 'loaded'\n",
    "datasets = exp.dataset_provider.get_train_merged_valid_test(exp.dataset)\n",
    "#print 'loaded2'\n",
    "#inputs,targets = datasets['test'].get_data()\n",
    "exp.iterator.batch_size = 320\n",
    "test_batches = list(exp.iterator.get_batches(datasets['test'], shuffle=False))\n",
    "inputs,targets = test_batches[0]\n",
    "\n",
    "targets = targets.reshape((len(inputs),-1,4))\n",
    "targets = targets.mean(axis=1)"
   ]
  },
  {
   "cell_type": "code",
   "execution_count": null,
   "metadata": {
    "collapsed": false
   },
   "outputs": [],
   "source": [
    "\n",
    "#from braindecode.veganlasagne.layers import create_pred_fn\n",
    "#pred_fn = create_pred_fn(model)\n",
    "#inputs,targets = test_batches[0]\n",
    "#preds = pred_fn(inputs)\n",
    "#print targets[0],preds.shape[0]\n",
    "#print(\"Accuracy: {:.2f}%\".format(100 * \n",
    "#    np.mean(np.argmax(targets, axis=1) == np.argmax(preds, axis=1))))"
   ]
  },
  {
   "cell_type": "code",
   "execution_count": null,
   "metadata": {
    "collapsed": false
   },
   "outputs": [],
   "source": [
    "#from braindecode.datahandling.batch_iteration import compute_trial_start_end_samples,CntWindowTrialIterator\n",
    "#trial_iterator = CntWindowTrialIterator(1, 1145, 521,\n",
    "#            check_preds_smaller_trial_len=True)\n",
    "#dir(exp.iterator)\n",
    "#exp.iterator.input_time_length\n",
    "#len(compute_trial_start_end_samples(targets)[0])"
   ]
  },
  {
   "cell_type": "code",
   "execution_count": null,
   "metadata": {
    "collapsed": false
   },
   "outputs": [],
   "source": [
    "#test_batches = list(exp.iterator.get_batches(datasets['test'], shuffle=False))\n",
    "#len(test_batches)\n",
    "#len(test_batches[5][0])"
   ]
  },
  {
   "cell_type": "code",
   "execution_count": null,
   "metadata": {
    "collapsed": false
   },
   "outputs": [],
   "source": []
  },
  {
   "cell_type": "code",
   "execution_count": null,
   "metadata": {
    "collapsed": false
   },
   "outputs": [],
   "source": [
    "len(np.where(np.any(datasets['test'].get_data()[1]!=0,axis=1))[0])"
   ]
  },
  {
   "cell_type": "code",
   "execution_count": null,
   "metadata": {
    "collapsed": false
   },
   "outputs": [],
   "source": [
    "len(datasets['test'].get_data()[1])"
   ]
  },
  {
   "cell_type": "code",
   "execution_count": null,
   "metadata": {
    "collapsed": true
   },
   "outputs": [],
   "source": []
  },
  {
   "cell_type": "code",
   "execution_count": null,
   "metadata": {
    "collapsed": false
   },
   "outputs": [],
   "source": [
    "get_ipython().magic(u\"cd '/home/hartmank/braindecode/convvisual'\")\n",
    "from convvisual import *\n",
    "\n",
    "from braindecode.veganlasagne.layers import create_pred_fn\n",
    "model = lasagne.layers.get_all_layers(model)\n",
    "\n",
    "figpath = os.path.join('/home/hartmank/data/convvisual/figures',savepath)\n",
    "datpath = os.path.join('/home/hartmank/data/convvisual/RF_data',savepath)\n",
    "print 'a',figpath\n",
    "if not os.path.isdir(figpath):\n",
    "    os.makedirs (figpath)\n",
    "if not os.path.isdir(datpath):\n",
    "    os.makedirs (datpath)"
   ]
  },
  {
   "cell_type": "code",
   "execution_count": null,
   "metadata": {
    "collapsed": false
   },
   "outputs": [],
   "source": [
    "layer_list = [3,5,11,17,23,28]\n",
    "X_reshapes = [None,None,3,9,27,81]\n",
    "splits = [2,2,4,4,8,8]\n",
    "\n",
    "layer_list = [28]\n",
    "X_reshapes = [81]\n",
    "splits = [8]\n",
    "\n",
    "class_defs = [[1,0,0,0],\n",
    "             [0,1,0,0],\n",
    "             [0,0,1,0],\n",
    "             [0,0,0,1]]\n",
    "\n",
    "for layer,X_reshape,split in zip(layer_list,X_reshapes,splits):\n",
    "    RF_model,RF_layer = check_if_finalreshape_is_needed(model,layer)\n",
    "    #Get highest input/unit activation combination\n",
    "    l_RF = receptive_field_build_deconv_layers(RF_model[RF_layer],RF_model[1],\n",
    "                                                   use_learned_W=False,X_reshape=X_reshape)\n",
    "    pred_fn = create_pred_fn(RF_model[RF_layer])\n",
    "    output = pred_fn(list(inputs))\n",
    "    #output[output<0] = 0\n",
    "    \n",
    "    c=0\n",
    "    for class_def in class_defs:\n",
    "        class_indeces = np.where(np.all(np.equal(targets,class_def),axis=1))[0]\n",
    "        mean_filters = output[class_indeces].mean(axis=3).mean(axis=2).mean(axis=0)\n",
    "        class_indeces = np.where(~np.all(np.equal(targets,class_def),axis=1))[0]\n",
    "        mean_filters_base = output[class_indeces].mean(axis=3).mean(axis=2).mean(axis=0)\n",
    "        print 'Got filter indeces'\n",
    "        print mean_filters.shape,mean_filters.argmax(axis=0)\n",
    "        diff_filters = mean_filters-mean_filters_base\n",
    "        max_filters = diff_filters.argsort(axis=0)[::-1][:n_filters]\n",
    "    \n",
    "        max_ind = list()\n",
    "        for filter in max_filters:\n",
    "            print 'Filter',filter\n",
    "            max_ind.append(get_most_active_units_in_layer_from_output(output,RF_layer,filter,n_units=n_Units,abs_act=False))\n",
    "        #del output\n",
    "        print 'Max filter finished'\n",
    "        batches = np.array_split(np.arange(len(max_ind)),split)\n",
    "        \n",
    "        X_RF_complete = np.array([])\n",
    "        max_ind = np.asarray(max_ind)\n",
    "        for batch in batches:\n",
    "            print 'Batch'\n",
    "            if len(batch)==0:\n",
    "                break\n",
    "\n",
    "            max_ind_ = max_ind[batch]\n",
    "            max_ind_shape = max_ind_.shape\n",
    "            max_ind_ = max_ind_.reshape((1,-1,max_ind_shape[2])).squeeze()\n",
    "\n",
    "            X_RF_complete_,mask = get_receptive_field_masked_inputs(inputs,max_ind_,l_RF)\n",
    "\n",
    "            X_RF_shape = X_RF_complete_.shape\n",
    "            X_RF_complete_ = X_RF_complete_.reshape(max_ind_shape[0],-1,X_RF_shape[1],X_RF_shape[2],X_RF_shape[3])\n",
    "            X_RF_complete_.shape\n",
    "\n",
    "            X_RF_complete = np.vstack([X_RF_complete, X_RF_complete_]) if X_RF_complete.size else X_RF_complete_\n",
    "\n",
    "        pkl = open(os.path.join(datpath,'Class%d_Layer%02d.data'%(c,layer)), 'w')\n",
    "        savedata = {'RF':X_RF_complete, 'Units':max_ind, 'filters':max_filters, 'filter_act':diff_filters}\n",
    "        pickle.dump(savedata,pkl)\n",
    "        pkl.close()\n",
    "        c+=1\n",
    "        \n",
    "pkl = open(os.path.join(datpath,'X_Y_Data.data'), 'w')\n",
    "savedata = {'X':inputs,'Y':targets}\n",
    "pickle.dump(savedata,pkl)\n",
    "pkl.close()"
   ]
  },
  {
   "cell_type": "code",
   "execution_count": null,
   "metadata": {
    "collapsed": false
   },
   "outputs": [],
   "source": [
    "print max_ind.shape"
   ]
  },
  {
   "cell_type": "code",
   "execution_count": 24,
   "metadata": {
    "collapsed": false
   },
   "outputs": [
    {
     "name": "stdout",
     "output_type": "stream",
     "text": [
      "[array([0]), array([1]), array([2]), array([3]), array([], dtype=int64), array([], dtype=int64), array([], dtype=int64), array([], dtype=int64)]\n"
     ]
    }
   ],
   "source": [
    "print batches"
   ]
  },
  {
   "cell_type": "code",
   "execution_count": null,
   "metadata": {
    "collapsed": true
   },
   "outputs": [],
   "source": []
  }
 ],
 "metadata": {
  "kernelspec": {
   "display_name": "Python 2",
   "language": "python",
   "name": "python2"
  },
  "language_info": {
   "codemirror_mode": {
    "name": "ipython",
    "version": 2
   },
   "file_extension": ".py",
   "mimetype": "text/x-python",
   "name": "python",
   "nbconvert_exporter": "python",
   "pygments_lexer": "ipython2",
   "version": "2.7.12"
  }
 },
 "nbformat": 4,
 "nbformat_minor": 1
}
