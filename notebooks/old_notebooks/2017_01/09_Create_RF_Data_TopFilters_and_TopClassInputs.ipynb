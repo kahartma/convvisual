{
 "cells": [
  {
   "cell_type": "code",
   "execution_count": 1,
   "metadata": {
    "collapsed": false,
    "scrolled": true
   },
   "outputs": [
    {
     "name": "stderr",
     "output_type": "stream",
     "text": [
      "Using gpu device 0: GeForce GTX TITAN X (CNMeM is disabled, cuDNN 5005)\n",
      "/home/hartmank/braindecode/vienv/local/lib/python2.7/site-packages/sklearn/cross_validation.py:44: DeprecationWarning: This module was deprecated in version 0.18 in favor of the model_selection module into which all the refactored classes and functions are moved. Also note that the interface of the new CV iterators are different from that of this module. This module will be removed in 0.20.\n",
      "  \"This module will be removed in 0.20.\", DeprecationWarning)\n"
     ]
    }
   ],
   "source": [
    "import theano\n",
    "import numpy as np\n",
    "\n",
    "import logging\n",
    "log = logging.getLogger()\n",
    "log.setLevel(\"DEBUG\")\n",
    "from braindecode.scripts.train_experiments import setup_logging\n",
    "setup_logging()\n",
    "\n",
    "from braindecode.veganlasagne.layer_util import print_layers\n",
    "import lasagne\n",
    "\n",
    "import os\n",
    "\n",
    "%load_ext autoreload\n",
    "%autoreload 2"
   ]
  },
  {
   "cell_type": "code",
   "execution_count": 2,
   "metadata": {
    "collapsed": false
   },
   "outputs": [],
   "source": [
    "import receptive_field"
   ]
  },
  {
   "cell_type": "code",
   "execution_count": 3,
   "metadata": {
    "collapsed": true
   },
   "outputs": [],
   "source": [
    "modelpath = '/home/hartmank/braindecode/data/models/'\n",
    "modelname = 'paper/ours/cnt/deep4/car/22'\n",
    "savepath  = '/home/hartmank/data/convvisual/RF_data'"
   ]
  },
  {
   "cell_type": "code",
   "execution_count": 4,
   "metadata": {
    "collapsed": false
   },
   "outputs": [
    {
     "name": "stdout",
     "output_type": "stream",
     "text": [
      "Init extractor\n",
      "2017-01-21 19:08:39,772 Setting n_sample preds automatically to 479\n",
      "2017-01-21 19:08:39,773 Input window length is 522\n",
      "2017-01-21 19:08:40,016 Setting n_sample preds automatically to 479\n",
      "2017-01-21 19:08:40,017 Input window length is 522\n",
      "2017-01-21 19:08:40,018 Load Training Set...\n",
      "2017-01-21 19:09:11,357 Load Test Set...\n",
      "2017-01-21 19:09:17,693 Clean Training Set...\n",
      "2017-01-21 19:09:18,919 Rejected channels: []\n",
      "2017-01-21 19:09:18,920 #Clean trials:     895\n",
      "2017-01-21 19:09:18,921 #Rejected trials:  2\n",
      "2017-01-21 19:09:18,921 Fraction Clean:    99.0%\n",
      "2017-01-21 19:09:18,922 (from maxmin):     2\n",
      "2017-01-21 19:09:18,923 (from var):        0\n",
      "2017-01-21 19:09:19,253 Clean Test Set...\n",
      "2017-01-21 19:09:19,469 Rejected channels: []\n",
      "2017-01-21 19:09:19,470 #Clean trials:     160\n",
      "2017-01-21 19:09:19,470 #Rejected trials:  0\n",
      "2017-01-21 19:09:19,471 Fraction Clean:    100.0%\n",
      "2017-01-21 19:09:19,471 (from maxmin):     0\n",
      "2017-01-21 19:09:19,472 (from var):        0\n",
      "2017-01-21 19:09:19,472 Create Cleaned Cnt Sets...\n",
      "2017-01-21 19:09:21,655 Create sets from cleaned cnt...\n",
      "2017-01-21 19:09:21,656 Preprocess continuous signal...\n",
      "2017-01-21 19:10:13,580 Loaded dataset with shape: (1725659, 128, 1, 1)\n",
      "2017-01-21 19:10:13,583 Preprocess continuous signal...\n",
      "2017-01-21 19:10:21,388 Loaded dataset with shape: (308544, 128, 1, 1)\n",
      "2017-01-21 19:10:21,390 Loaded clean train data with shape (1725659, 128, 1, 1).\n",
      "2017-01-21 19:10:21,390 Loaded clean test data with shape (308544, 128, 1, 1).\n"
     ]
    }
   ],
   "source": [
    "#%cd /home/hartmank/braindecode\n",
    "RF_extractor = receptive_field.ReceptiveFieldExtractor(os.path.join(modelpath,modelname))\n",
    "#%cd /home/hartmank/braindecode/convvisual"
   ]
  },
  {
   "cell_type": "code",
   "execution_count": 5,
   "metadata": {
    "collapsed": true
   },
   "outputs": [],
   "source": [
    "if not os.path.isdir(os.path.join(savepath,modelname)):\n",
    "    os.makedirs (os.path.join(savepath,modelname))"
   ]
  },
  {
   "cell_type": "code",
   "execution_count": 6,
   "metadata": {
    "collapsed": false
   },
   "outputs": [],
   "source": [
    "from braindecode.veganlasagne.layers import FinalReshapeLayer\n",
    "model = RF_extractor.model\n",
    "\n",
    "all_l = lasagne.layers.get_all_layers(model)\n",
    "model = all_l[-3]\n",
    "model = FinalReshapeLayer(model,remove_invalids=True,flatten=False)\n",
    "model = lasagne.layers.DimshuffleLayer(model,(0,2,1,3))\n",
    "model = lasagne.layers.ReshapeLayer(model,(-1,4))\n",
    "model = lasagne.layers.NonlinearityLayer(model,nonlinearity=lasagne.nonlinearities.softmax)\n",
    "\n",
    "RF_extractor.set_model(model)"
   ]
  },
  {
   "cell_type": "code",
   "execution_count": 7,
   "metadata": {
    "collapsed": false
   },
   "outputs": [
    {
     "name": "stdout",
     "output_type": "stream",
     "text": [
      " 0-InputLayer                                                         [None, 128, 1000, 1]\n",
      " 1-DimshuffleLayer                                                    (None, 1, 1000, 128)\n",
      " 2-DropoutLayer             0.000                                    \n",
      " 3-Conv2DLayer              10x1                                      (None, 25, 991, 128)\n",
      " 4-Conv2DAllColsLayer       1x128                                     (None, 25, 991, 1)\n",
      " 5-BatchNormLayer                                     elu            \n",
      " 6-Pool2DLayer              3x1                       max             (None, 25, 989, 1)\n",
      " 7-StrideReshapeLayer           ::3 ::1                               (None, 25, 330, 1)\n",
      " 8-NonlinearityLayer                                                 \n",
      " 9-DropoutLayer             0.500                                    \n",
      "10-Conv2DLayer              10x1                                      (None, 50, 321, 1)\n",
      "11-BatchNormLayer                                     elu            \n",
      "12-Pool2DLayer              3x1                       max             (None, 50, 319, 1)\n",
      "13-StrideReshapeLayer           ::3 ::1                               (None, 50, 107, 1)\n",
      "14-NonlinearityLayer                                                 \n",
      "15-DropoutLayer             0.500                                    \n",
      "16-Conv2DLayer              10x1                                      (None, 100, 98, 1)\n",
      "17-BatchNormLayer                                     elu            \n",
      "18-Pool2DLayer              3x1                       max             (None, 100, 96, 1)\n",
      "19-StrideReshapeLayer           ::3 ::1                               (None, 100, 32, 1)\n",
      "20-NonlinearityLayer                                                 \n",
      "21-DropoutLayer             0.500                                    \n",
      "22-Conv2DLayer              10x1                                      (None, 200, 23, 1)\n",
      "23-BatchNormLayer                                     elu            \n",
      "24-Pool2DLayer              3x1                       max             (None, 200, 21, 1)\n",
      "25-StrideReshapeLayer           ::3 ::1                               (None, 200, 7, 1)\n",
      "26-NonlinearityLayer                                                 \n",
      "27-DropoutLayer             0.500                                    \n",
      "28-Conv2DLayer              2x1                                       (None, 4, 6, 1)\n",
      "29-FinalReshapeLayer                                                  (None, 4, 479, 1)\n",
      "30-DimshuffleLayer                                                    (None, 479, 4, 1)\n",
      "31-ReshapeLayer                                                       (None, 4)\n",
      "32-NonlinearityLayer                                  softmax        \n",
      "\n"
     ]
    }
   ],
   "source": [
    "print_layers(model)"
   ]
  },
  {
   "cell_type": "code",
   "execution_count": 8,
   "metadata": {
    "collapsed": false
   },
   "outputs": [],
   "source": [
    "#n_Units = 30\n",
    "#n_filters = None\n",
    "\n",
    "#layer_list = [3,5,11,17,23,28]\n",
    "#X_reshapes = [None,None,3,9,27,81]\n",
    "#splits = [1,1,4,4,8,8]\n",
    "\n",
    "#RF_save = receptive_field.ReceptiveFieldInputsIO()\n",
    "#for layer,X_reshape,split in zip(layer_list,X_reshapes,splits):\n",
    "#    RF_save.results = list()\n",
    "#    RF_inputs = RF_extractor.calc_max_RF_input(layer,X_reshape,\n",
    "#                                                  None,n_filters,\n",
    "#                                                  split,n_Units,False)\n",
    "#    RF_save.results.append(RF_inputs)\n",
    "        \n",
    "#    RF_save.save(os.path.join(savepath,modelname,\n",
    "#                              'Layer%02d_nUnits%02d_nFiltersNone_notsorted.data'%(layer,n_Units)))"
   ]
  },
  {
   "cell_type": "code",
   "execution_count": 9,
   "metadata": {
    "collapsed": false
   },
   "outputs": [],
   "source": [
    "datasets = RF_extractor.exp.dataset_provider.get_train_merged_valid_test(RF_extractor.exp.dataset)\n",
    "RF_extractor.exp.iterator.batch_size = 999999\n",
    "test_batches = list(RF_extractor.exp.iterator.get_batches(datasets['train'], shuffle=False))\n",
    "inputs,targets = test_batches[0]"
   ]
  },
  {
   "cell_type": "code",
   "execution_count": null,
   "metadata": {
    "collapsed": false
   },
   "outputs": [
    {
     "name": "stdout",
     "output_type": "stream",
     "text": [
      "(1790, 128, 1000, 1)\n",
      "(1790,)\n"
     ]
    }
   ],
   "source": [
    "print inputs.shape\n",
    "print RF_extractor.targets.shape"
   ]
  },
  {
   "cell_type": "code",
   "execution_count": null,
   "metadata": {
    "collapsed": false
   },
   "outputs": [
    {
     "name": "stderr",
     "output_type": "stream",
     "text": [
      "/home/hartmank/braindecode/vienv/local/lib/python2.7/site-packages/lasagne/layers/helper.py:212: UserWarning: get_output() was called with unused kwargs:\n",
      "\tinput_var\n",
      "  % \"\\n\\t\".join(suggestions))\n"
     ]
    },
    {
     "name": "stdout",
     "output_type": "stream",
     "text": [
      "Output\n",
      "Output1\n"
     ]
    }
   ],
   "source": [
    "n_Units = 200\n",
    "n_filters = 5\n",
    "\n",
    "layer_list = [3,4,10,16,22,28]#[8,14,20,26]\n",
    "X_reshapes = [None,None,3,9,27,81]#[3,9,27,81]\n",
    "splits = [20,20,30,30,40,40]#[1,4,4,8]\n",
    "classes = [0,1,2,3]\n",
    "\n",
    "RF_save = receptive_field.ReceptiveFieldInputsIO()\n",
    "for layer,X_reshape,split in zip(layer_list,X_reshapes,splits):  \n",
    "    RF_save.classes = classes\n",
    "    RF_save.results = list()\n",
    "    for c in classes:\n",
    "        ind_input = RF_extractor.targets==c\n",
    "        RF_inputs = RF_extractor.calc_max_RF_input(layer,X_reshape,\n",
    "                                                  ind_input,n_filters,\n",
    "                                                  split,n_Units,True)\n",
    "        RF_save.results.append(RF_inputs)\n",
    "        \n",
    "    RF_save.save(os.path.join(savepath,modelname,\n",
    "                              'Layer%02d_nUnits%02d_nFilters%02d_filterdiff_traindata.data'%(layer,n_Units,n_filters)))"
   ]
  },
  {
   "cell_type": "code",
   "execution_count": null,
   "metadata": {
    "collapsed": false
   },
   "outputs": [],
   "source": [
    "RF_extractor.inputs.shape"
   ]
  },
  {
   "cell_type": "code",
   "execution_count": null,
   "metadata": {
    "collapsed": true
   },
   "outputs": [],
   "source": []
  },
  {
   "cell_type": "code",
   "execution_count": null,
   "metadata": {
    "collapsed": true
   },
   "outputs": [],
   "source": []
  }
 ],
 "metadata": {
  "kernelspec": {
   "display_name": "Python 2",
   "language": "python",
   "name": "python2"
  },
  "language_info": {
   "codemirror_mode": {
    "name": "ipython",
    "version": 2
   },
   "file_extension": ".py",
   "mimetype": "text/x-python",
   "name": "python",
   "nbconvert_exporter": "python",
   "pygments_lexer": "ipython2",
   "version": "2.7.12"
  }
 },
 "nbformat": 4,
 "nbformat_minor": 1
}
