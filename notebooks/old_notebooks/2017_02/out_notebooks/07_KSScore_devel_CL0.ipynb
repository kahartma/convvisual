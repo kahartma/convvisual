{
 "metadata": {
  "kernelspec": {
   "display_name": "Python 2",
   "language": "python",
   "name": "python2"
  },
  "language_info": {
   "codemirror_mode": {
    "name": "ipython",
    "version": 2
   },
   "file_extension": ".py",
   "mimetype": "text/x-python",
   "name": "python",
   "nbconvert_exporter": "python",
   "pygments_lexer": "ipython2",
   "version": "2.7.12"
  },
  "name": ""
 },
 "nbformat": 3,
 "nbformat_minor": 0,
 "worksheets": [
  {
   "cells": [
    {
     "cell_type": "code",
     "collapsed": false,
     "input": [
      "import numpy as np\n",
      "import scipy\n",
      "import random\n",
      "\n",
      "import logging\n",
      "log = logging.getLogger()\n",
      "log.setLevel(\"DEBUG\")\n",
      "from braindecode.scripts.train_experiments import setup_logging\n",
      "setup_logging()\n",
      "\n",
      "from braindecode.veganlasagne.layer_util import print_layers\n",
      "\n",
      "import os\n",
      "from numpy.random import RandomState\n",
      "\n",
      "%load_ext autoreload\n",
      "%autoreload 2"
     ],
     "language": "python",
     "metadata": {},
     "outputs": [
      {
       "output_type": "stream",
       "stream": "stderr",
       "text": [
        "Using gpu device 0: GeForce GTX TITAN Black (CNMeM is disabled, cuDNN 5005)\n"
       ]
      },
      {
       "output_type": "stream",
       "stream": "stderr",
       "text": [
        "/home/hartmank/braindecode/vienv/local/lib/python2.7/site-packages/sklearn/cross_validation.py:44: DeprecationWarning: This module was deprecated in version 0.18 in favor of the model_selection module into which all the refactored classes and functions are moved. Also note that the interface of the new CV iterators are different from that of this module. This module will be removed in 0.20.\n",
        "  \"This module will be removed in 0.20.\", DeprecationWarning)\n"
       ]
      }
     ],
     "prompt_number": 1
    },
    {
     "cell_type": "code",
     "collapsed": true,
     "input": [
      "from matplotlib import pyplot as plt\n",
      "import seaborn as sns"
     ],
     "language": "python",
     "metadata": {},
     "outputs": [],
     "prompt_number": 2
    },
    {
     "cell_type": "code",
     "collapsed": false,
     "input": [
      "import receptive_field\n",
      "import analysis\n",
      "import utils"
     ],
     "language": "python",
     "metadata": {},
     "outputs": [],
     "prompt_number": 3
    },
    {
     "cell_type": "code",
     "collapsed": false,
     "input": [
      "modelpath = '/home/hartmank/braindecode/data/models/'\n",
      "modelname = 'paper/ours/cnt/deep4/car/22'\n",
      "savepath  = '/home/hartmank/data/convvisual/RF_data/'\n",
      "RF_save = receptive_field.ReceptiveFieldInputsIO()"
     ],
     "language": "python",
     "metadata": {},
     "outputs": [],
     "prompt_number": 4
    },
    {
     "cell_type": "code",
     "collapsed": true,
     "input": [
      "rng = RandomState(98787)"
     ],
     "language": "python",
     "metadata": {},
     "outputs": [],
     "prompt_number": 5
    },
    {
     "cell_type": "code",
     "collapsed": false,
     "input": [
      "KS_means = np.zeros((5,5,7))\n",
      "KS_maxs = np.zeros((5,5,7))"
     ],
     "language": "python",
     "metadata": {},
     "outputs": [],
     "prompt_number": 6
    },
    {
     "cell_type": "code",
     "collapsed": true,
     "input": [
      "cl = 0\n",
      "cl = int(os.environ['EEGCLASS'])"
     ],
     "language": "python",
     "metadata": {},
     "outputs": [],
     "prompt_number": 7
    },
    {
     "cell_type": "code",
     "collapsed": false,
     "input": [
      "layers = [4,10,16,22,28]\n",
      "feature_funcs = (analysis.get_frequency,analysis.get_frequency_change,analysis.get_offset,analysis.get_offset_change,analysis.get_phase_change,analysis.get_bandpower)\n",
      "\n",
      "for i,l in enumerate(layers):\n",
      "    filename = 'Layer%02d_nUnits200_nFilters05_filterdiff_traindata.data'%l\n",
      "    RF_data = RF_save.load(os.path.join(savepath,modelname,filename))\n",
      "    RF_results = RF_data.results[cl]\n",
      "    \n",
      "    classes = RF_data.classes\n",
      "    neg_classes = np.delete(classes,cl)\n",
      "    Inputs_baseline = np.array([])\n",
      "    for c in neg_classes:\n",
      "        Inputs_baseline = np.vstack([Inputs_baseline,RF_data.results[c].inputs]) if Inputs_baseline.size else RF_data.results[c].inputs\n",
      "    \n",
      "    n_chans = RF_results.n_chans\n",
      "    sampling_rate = RF_results.sampling_rate\n",
      "    \n",
      "    flip = False\n",
      "    for j,filt in enumerate(RF_results.max_filters):\n",
      "        X_RF_cropped = utils.get_RF_old(RF_results,j,n_chans) \n",
      "        \n",
      "        if not flip:\n",
      "            X_baseline = utils.cut_baseline(Inputs_baseline,3,X_RF_cropped.shape)\n",
      "            flip = True\n",
      "            \n",
      "        \n",
      "        features_class = list(utils.get_feature_vals(X_RF_cropped,feature_funcs,sampling_rate=sampling_rate))\n",
      "        features_class.append(np.angle(features_class[0])[:,:,1:]) #cut off phase 0Hz\n",
      "        features_class[0] = analysis.real_frequency(features_class[0])\n",
      "        \n",
      "        features_base = list(utils.get_feature_vals(X_baseline,feature_funcs,sampling_rate=sampling_rate))\n",
      "        features_base.append(np.angle(features_base[0])[:,:,1:]) #cut off phase 0Hz\n",
      "        features_base[0] = analysis.real_frequency(features_base[0])\n",
      "        \n",
      "        for k in range(KS_means.shape[2]):\n",
      "            feat_class = utils.create_flattened_featurearr([features_class[k]],shape=(features_class[0].shape[0],-1))\n",
      "            feat_base = utils.create_flattened_featurearr([features_base[k]],shape=(features_base[0].shape[0],-1))\n",
      "            print feat_class.shape,feat_base.shape\n",
      "            feat_diff,_ = utils.feat_diff_KS(feat_class,feat_base)\n",
      "            \n",
      "            KS_means[i,j,k] = np.mean(feat_diff)\n",
      "            KS_maxs[i,j,k] = np.max(feat_diff)"
     ],
     "language": "python",
     "metadata": {},
     "outputs": [
      {
       "output_type": "stream",
       "stream": "stderr",
       "text": [
        "utils.py:92: VisibleDeprecationWarning: using a non-integer number instead of an integer will result in an error in the future\n",
        "  tmp = inputs[i,:,ind_start[i,j]:ind_end[i,j]]\n"
       ]
      },
      {
       "output_type": "stream",
       "stream": "stdout",
       "text": [
        "(200, 640) (4026, 640)\n"
       ]
      },
      {
       "output_type": "stream",
       "stream": "stdout",
       "text": [
        "(200, 256) (4026, 256)\n",
        "(200, 128) (4026, 128)\n"
       ]
      },
      {
       "output_type": "stream",
       "stream": "stdout",
       "text": [
        "(200, 128) (4026, 128)\n",
        "(200, 128) (4026, 128)\n",
        "(200, 128) (4026, 128)\n"
       ]
      },
      {
       "output_type": "stream",
       "stream": "stdout",
       "text": [
        "(200, 512) (4026, 512)\n"
       ]
      },
      {
       "output_type": "stream",
       "stream": "stdout",
       "text": [
        "(200, 640) (4026, 640)\n"
       ]
      },
      {
       "output_type": "stream",
       "stream": "stdout",
       "text": [
        "(200, 256) (4026, 256)\n",
        "(200, 128) (4026, 128)\n"
       ]
      },
      {
       "output_type": "stream",
       "stream": "stdout",
       "text": [
        "(200, 128) (4026, 128)\n",
        "(200, 128) (4026, 128)\n",
        "(200, 128) (4026, 128)\n"
       ]
      },
      {
       "output_type": "stream",
       "stream": "stdout",
       "text": [
        "(200, 512) (4026, 512)\n"
       ]
      },
      {
       "output_type": "stream",
       "stream": "stdout",
       "text": [
        "(200, 640) (4026, 640)\n"
       ]
      },
      {
       "output_type": "stream",
       "stream": "stdout",
       "text": [
        "(200, 256) (4026, 256)\n",
        "(200, 128) (4026, 128)\n"
       ]
      },
      {
       "output_type": "stream",
       "stream": "stdout",
       "text": [
        "(200, 128) (4026, 128)\n",
        "(200, 128) (4026, 128)\n",
        "(200, 128) (4026, 128)\n"
       ]
      },
      {
       "output_type": "stream",
       "stream": "stdout",
       "text": [
        "(200, 512) (4026, 512)\n"
       ]
      },
      {
       "output_type": "stream",
       "stream": "stdout",
       "text": [
        "(200, 640) (4026, 640)\n"
       ]
      },
      {
       "output_type": "stream",
       "stream": "stdout",
       "text": [
        "(200, 256) (4026, 256)\n",
        "(200, 128) (4026, 128)\n"
       ]
      },
      {
       "output_type": "stream",
       "stream": "stdout",
       "text": [
        "(200, 128) (4026, 128)\n",
        "(200, 128) (4026, 128)\n",
        "(200, 128) (4026, 128)\n"
       ]
      },
      {
       "output_type": "stream",
       "stream": "stdout",
       "text": [
        "(200, 512) (4026, 512)\n"
       ]
      },
      {
       "output_type": "stream",
       "stream": "stdout",
       "text": [
        "(200, 640) (4026, 640)\n"
       ]
      },
      {
       "output_type": "stream",
       "stream": "stdout",
       "text": [
        "(200, 256) (4026, 256)\n",
        "(200, 128) (4026, 128)\n"
       ]
      },
      {
       "output_type": "stream",
       "stream": "stdout",
       "text": [
        "(200, 128) (4026, 128)\n",
        "(200, 128) (4026, 128)\n",
        "(200, 128) (4026, 128)\n"
       ]
      },
      {
       "output_type": "stream",
       "stream": "stdout",
       "text": [
        "(200, 512) (4026, 512)\n"
       ]
      },
      {
       "output_type": "stream",
       "stream": "stdout",
       "text": [
        "(200, 2432) (4026, 2432)\n"
       ]
      },
      {
       "output_type": "stream",
       "stream": "stdout",
       "text": [
        "(200, 1152) (4026, 1152)\n"
       ]
      },
      {
       "output_type": "stream",
       "stream": "stdout",
       "text": [
        "(200, 128) (4026, 128)\n",
        "(200, 128) (4026, 128)\n",
        "(200, 1024) (4026, 1024)\n"
       ]
      },
      {
       "output_type": "stream",
       "stream": "stdout",
       "text": [
        "(200, 128) (4026, 128)\n",
        "(200, 2304) (4026, 2304)\n"
       ]
      },
      {
       "output_type": "stream",
       "stream": "stdout",
       "text": [
        "(200, 2432) (4026, 2432)\n"
       ]
      },
      {
       "output_type": "stream",
       "stream": "stdout",
       "text": [
        "(200, 1152) (4026, 1152)\n"
       ]
      },
      {
       "output_type": "stream",
       "stream": "stdout",
       "text": [
        "(200, 128) (4026, 128)\n",
        "(200, 128) (4026, 128)\n",
        "(200, 1024) (4026, 1024)\n"
       ]
      },
      {
       "output_type": "stream",
       "stream": "stdout",
       "text": [
        "(200, 128) (4026, 128)\n",
        "(200, 2304) (4026, 2304)\n"
       ]
      },
      {
       "output_type": "stream",
       "stream": "stdout",
       "text": [
        "(200, 2432) (4026, 2432)\n"
       ]
      },
      {
       "output_type": "stream",
       "stream": "stdout",
       "text": [
        "(200, 1152) (4026, 1152)\n"
       ]
      },
      {
       "output_type": "stream",
       "stream": "stdout",
       "text": [
        "(200, 128) (4026, 128)\n",
        "(200, 128) (4026, 128)\n",
        "(200, 1024) (4026, 1024)\n"
       ]
      },
      {
       "output_type": "stream",
       "stream": "stdout",
       "text": [
        "(200, 128) (4026, 128)\n",
        "(200, 2304) (4026, 2304)\n"
       ]
      },
      {
       "output_type": "stream",
       "stream": "stdout",
       "text": [
        "(200, 2432) (4026, 2432)\n"
       ]
      },
      {
       "output_type": "stream",
       "stream": "stdout",
       "text": [
        "(200, 1152) (4026, 1152)\n"
       ]
      },
      {
       "output_type": "stream",
       "stream": "stdout",
       "text": [
        "(200, 128) (4026, 128)\n",
        "(200, 128) (4026, 128)\n",
        "(200, 1024) (4026, 1024)\n"
       ]
      },
      {
       "output_type": "stream",
       "stream": "stdout",
       "text": [
        "(200, 128) (4026, 128)\n",
        "(200, 2304) (4026, 2304)\n"
       ]
      },
      {
       "output_type": "stream",
       "stream": "stdout",
       "text": [
        "(200, 2432) (4026, 2432)\n"
       ]
      },
      {
       "output_type": "stream",
       "stream": "stdout",
       "text": [
        "(200, 1152) (4026, 1152)\n"
       ]
      },
      {
       "output_type": "stream",
       "stream": "stdout",
       "text": [
        "(200, 128) (4026, 128)\n",
        "(200, 128) (4026, 128)\n",
        "(200, 1024) (4026, 1024)\n"
       ]
      },
      {
       "output_type": "stream",
       "stream": "stdout",
       "text": [
        "(200, 128) (4026, 128)\n",
        "(200, 2304) (4026, 2304)\n"
       ]
      },
      {
       "output_type": "stream",
       "stream": "stdout",
       "text": [
        "(200, 8064) (4026, 8064)\n"
       ]
      },
      {
       "output_type": "stream",
       "stream": "stdout",
       "text": [
        "(200, 3968) (4026, 3968)\n"
       ]
      },
      {
       "output_type": "stream",
       "stream": "stdout",
       "text": [
        "(200, 128) (4026, 128)\n",
        "(200, 128) (4026, 128)\n",
        "(200, 3840) (4026, 3840)\n"
       ]
      },
      {
       "output_type": "stream",
       "stream": "stdout",
       "text": [
        "(200, 128) (4026, 128)\n",
        "(200, 7936) (4026, 7936)\n"
       ]
      },
      {
       "output_type": "stream",
       "stream": "stdout",
       "text": [
        "(200, 8064) (4026, 8064)\n"
       ]
      },
      {
       "output_type": "stream",
       "stream": "stdout",
       "text": [
        "(200, 3968) (4026, 3968)\n"
       ]
      },
      {
       "output_type": "stream",
       "stream": "stdout",
       "text": [
        "(200, 128) (4026, 128)\n",
        "(200, 128) (4026, 128)\n",
        "(200, 3840) (4026, 3840)\n"
       ]
      },
      {
       "output_type": "stream",
       "stream": "stdout",
       "text": [
        "(200, 128) (4026, 128)\n",
        "(200, 7936) (4026, 7936)\n"
       ]
      },
      {
       "output_type": "stream",
       "stream": "stdout",
       "text": [
        "(200, 8064) (4026, 8064)\n"
       ]
      },
      {
       "output_type": "stream",
       "stream": "stdout",
       "text": [
        "(200, 3968) (4026, 3968)\n"
       ]
      },
      {
       "output_type": "stream",
       "stream": "stdout",
       "text": [
        "(200, 128) (4026, 128)\n",
        "(200, 128) (4026, 128)\n",
        "(200, 3840) (4026, 3840)\n"
       ]
      },
      {
       "output_type": "stream",
       "stream": "stdout",
       "text": [
        "(200, 128) (4026, 128)\n",
        "(200, 7936) (4026, 7936)\n"
       ]
      },
      {
       "output_type": "stream",
       "stream": "stdout",
       "text": [
        "(200, 8064) (4026, 8064)\n"
       ]
      },
      {
       "output_type": "stream",
       "stream": "stdout",
       "text": [
        "(200, 3968) (4026, 3968)\n"
       ]
      },
      {
       "output_type": "stream",
       "stream": "stdout",
       "text": [
        "(200, 128) (4026, 128)\n",
        "(200, 128) (4026, 128)\n",
        "(200, 3840) (4026, 3840)\n"
       ]
      },
      {
       "output_type": "stream",
       "stream": "stdout",
       "text": [
        "(200, 128) (4026, 128)\n",
        "(200, 7936) (4026, 7936)\n"
       ]
      },
      {
       "output_type": "stream",
       "stream": "stdout",
       "text": [
        "(200, 8064) (4026, 8064)\n"
       ]
      },
      {
       "output_type": "stream",
       "stream": "stdout",
       "text": [
        "(200, 3968) (4026, 3968)\n"
       ]
      },
      {
       "output_type": "stream",
       "stream": "stdout",
       "text": [
        "(200, 128) (4026, 128)\n",
        "(200, 128) (4026, 128)\n",
        "(200, 3840) (4026, 3840)\n"
       ]
      },
      {
       "output_type": "stream",
       "stream": "stdout",
       "text": [
        "(200, 128) (4026, 128)\n",
        "(200, 7936) (4026, 7936)\n"
       ]
      },
      {
       "output_type": "stream",
       "stream": "stdout",
       "text": [
        "(200, 24704) (4026, 24704)\n"
       ]
      },
      {
       "output_type": "stream",
       "stream": "stdout",
       "text": [
        "(200, 12288) (4026, 12288)\n"
       ]
      },
      {
       "output_type": "stream",
       "stream": "stdout",
       "text": [
        "(200, 128) (4026, 128)\n",
        "(200, 128) (4026, 128)\n",
        "(200, 12160) (4026, 12160)\n"
       ]
      },
      {
       "output_type": "stream",
       "stream": "stdout",
       "text": [
        "(200, 128) (4026, 128)\n"
       ]
      },
      {
       "output_type": "stream",
       "stream": "stdout",
       "text": [
        "(200, 24576) (4026, 24576)\n"
       ]
      },
      {
       "output_type": "stream",
       "stream": "stdout",
       "text": [
        "(200, 24704) (4026, 24704)\n"
       ]
      },
      {
       "output_type": "stream",
       "stream": "stdout",
       "text": [
        "(200, 12288) (4026, 12288)\n"
       ]
      },
      {
       "output_type": "stream",
       "stream": "stdout",
       "text": [
        "(200, 128) (4026, 128)\n",
        "(200, 128) (4026, 128)\n",
        "(200, 12160) (4026, 12160)\n"
       ]
      },
      {
       "output_type": "stream",
       "stream": "stdout",
       "text": [
        "(200, 128) (4026, 128)\n"
       ]
      },
      {
       "output_type": "stream",
       "stream": "stdout",
       "text": [
        "(200, 24576) (4026, 24576)\n"
       ]
      },
      {
       "output_type": "stream",
       "stream": "stdout",
       "text": [
        "(200, 24704) (4026, 24704)\n"
       ]
      },
      {
       "output_type": "stream",
       "stream": "stdout",
       "text": [
        "(200, 12288) (4026, 12288)\n"
       ]
      },
      {
       "output_type": "stream",
       "stream": "stdout",
       "text": [
        "(200, 128) (4026, 128)\n",
        "(200, 128) (4026, 128)\n",
        "(200, 12160) (4026, 12160)\n"
       ]
      },
      {
       "output_type": "stream",
       "stream": "stdout",
       "text": [
        "(200, 128) (4026, 128)\n"
       ]
      },
      {
       "output_type": "stream",
       "stream": "stdout",
       "text": [
        "(200, 24576) (4026, 24576)\n"
       ]
      },
      {
       "output_type": "stream",
       "stream": "stdout",
       "text": [
        "(200, 24704) (4026, 24704)\n"
       ]
      },
      {
       "output_type": "stream",
       "stream": "stdout",
       "text": [
        "(200, 12288) (4026, 12288)\n"
       ]
      },
      {
       "output_type": "stream",
       "stream": "stdout",
       "text": [
        "(200, 128) (4026, 128)\n",
        "(200, 128) (4026, 128)\n",
        "(200, 12160) (4026, 12160)\n"
       ]
      },
      {
       "output_type": "stream",
       "stream": "stdout",
       "text": [
        "(200, 128) (4026, 128)\n"
       ]
      },
      {
       "output_type": "stream",
       "stream": "stdout",
       "text": [
        "(200, 24576) (4026, 24576)\n"
       ]
      },
      {
       "output_type": "stream",
       "stream": "stdout",
       "text": [
        "(200, 24704) (4026, 24704)\n"
       ]
      },
      {
       "output_type": "stream",
       "stream": "stdout",
       "text": [
        "(200, 12288) (4026, 12288)\n"
       ]
      },
      {
       "output_type": "stream",
       "stream": "stdout",
       "text": [
        "(200, 128) (4026, 128)\n",
        "(200, 128) (4026, 128)\n",
        "(200, 12160) (4026, 12160)\n"
       ]
      },
      {
       "output_type": "stream",
       "stream": "stdout",
       "text": [
        "(200, 128) (4026, 128)\n"
       ]
      },
      {
       "output_type": "stream",
       "stream": "stdout",
       "text": [
        "(200, 24576) (4026, 24576)\n"
       ]
      },
      {
       "output_type": "stream",
       "stream": "stdout",
       "text": [
        "(316, 33408) (4026, 33408)\n"
       ]
      },
      {
       "output_type": "stream",
       "stream": "stdout",
       "text": [
        "(316, 16640) (4026, 16640)\n"
       ]
      },
      {
       "output_type": "stream",
       "stream": "stdout",
       "text": [
        "(316, 128) (4026, 128)\n",
        "(316, 128) (4026, 128)\n",
        "(316, 16512) (4026, 16512)\n"
       ]
      },
      {
       "output_type": "stream",
       "stream": "stdout",
       "text": [
        "(316, 128) (4026, 128)\n"
       ]
      },
      {
       "output_type": "stream",
       "stream": "stdout",
       "text": [
        "(316, 33280) (4026, 33280)\n"
       ]
      },
      {
       "output_type": "stream",
       "stream": "stdout",
       "text": [
        "(214, 33408) (4026, 33408)\n"
       ]
      },
      {
       "output_type": "stream",
       "stream": "stdout",
       "text": [
        "(214, 16640) (4026, 16640)\n"
       ]
      },
      {
       "output_type": "stream",
       "stream": "stdout",
       "text": [
        "(214, 128) (4026, 128)\n",
        "(214, 128) (4026, 128)\n",
        "(214, 16512) (4026, 16512)\n"
       ]
      },
      {
       "output_type": "stream",
       "stream": "stdout",
       "text": [
        "(214, 128) (4026, 128)\n"
       ]
      },
      {
       "output_type": "stream",
       "stream": "stdout",
       "text": [
        "(214, 33280) (4026, 33280)\n"
       ]
      },
      {
       "output_type": "stream",
       "stream": "stdout",
       "text": [
        "(153, 33408) (4026, 33408)\n"
       ]
      },
      {
       "output_type": "stream",
       "stream": "stdout",
       "text": [
        "(153, 16640) (4026, 16640)\n"
       ]
      },
      {
       "output_type": "stream",
       "stream": "stdout",
       "text": [
        "(153, 128) (4026, 128)\n",
        "(153, 128) (4026, 128)\n",
        "(153, 16512) (4026, 16512)\n"
       ]
      },
      {
       "output_type": "stream",
       "stream": "stdout",
       "text": [
        "(153, 128) (4026, 128)\n"
       ]
      },
      {
       "output_type": "stream",
       "stream": "stdout",
       "text": [
        "(153, 33280) (4026, 33280)\n"
       ]
      },
      {
       "output_type": "stream",
       "stream": "stdout",
       "text": [
        "(117, 33408) (4026, 33408)\n"
       ]
      },
      {
       "output_type": "stream",
       "stream": "stdout",
       "text": [
        "(117, 16640) (4026, 16640)\n"
       ]
      },
      {
       "output_type": "stream",
       "stream": "stdout",
       "text": [
        "(117, 128) (4026, 128)\n",
        "(117, 128) (4026, 128)\n",
        "(117, 16512) (4026, 16512)\n"
       ]
      },
      {
       "output_type": "stream",
       "stream": "stdout",
       "text": [
        "(117, 128) (4026, 128)\n"
       ]
      },
      {
       "output_type": "stream",
       "stream": "stdout",
       "text": [
        "(117, 33280) (4026, 33280)\n"
       ]
      }
     ],
     "prompt_number": 8
    },
    {
     "cell_type": "code",
     "collapsed": false,
     "input": [
      "plt.plot(KS_means.mean(axis=1))\n",
      "plt.legend(['FFT','FFTc','Mean','Meanc','Phasec','Power','Phase'])\n",
      "plt.show()\n",
      "plt.plot(KS_maxs.mean(axis=1))\n",
      "plt.legend(['FFT','FFTc','Mean','Meanc','Phasec','Power','Phase'])\n",
      "plt.show()"
     ],
     "language": "python",
     "metadata": {},
     "outputs": [
      {
       "output_type": "display_data",
       "png": "[encoded data removed]",
       "text": [
        "<matplotlib.figure.Figure at 0x2b45d3c8ff50>"
       ]
      },
      {
       "output_type": "display_data",
       "png": "[encoded data removed]",
       "text": [
        "<matplotlib.figure.Figure at 0x2b45d979a2d0>"
       ]
      }
     ],
     "prompt_number": 9
    },
    {
     "cell_type": "code",
     "collapsed": true,
     "input": [],
     "language": "python",
     "metadata": {},
     "outputs": [],
     "prompt_number": 10
    }
   ],
   "metadata": {}
  }
 ]
}
