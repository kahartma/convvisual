{
 "metadata": {
  "kernelspec": {
   "display_name": "Python 2",
   "language": "python",
   "name": "python2"
  },
  "language_info": {
   "codemirror_mode": {
    "name": "ipython",
    "version": 2
   },
   "file_extension": ".py",
   "mimetype": "text/x-python",
   "name": "python",
   "nbconvert_exporter": "python",
   "pygments_lexer": "ipython2",
   "version": "2.7.12"
  },
  "name": ""
 },
 "nbformat": 3,
 "nbformat_minor": 0,
 "worksheets": [
  {
   "cells": [
    {
     "cell_type": "code",
     "collapsed": false,
     "input": [
      "import theano\n",
      "import numpy as np\n",
      "\n",
      "import klepto\n",
      "import joblib\n",
      "\n",
      "import logging\n",
      "log = logging.getLogger()\n",
      "log.setLevel(\"DEBUG\")\n",
      "from braindecode.scripts.train_experiments import setup_logging\n",
      "setup_logging()\n",
      "\n",
      "from braindecode.veganlasagne.layer_util import print_layers\n",
      "import lasagne\n",
      "\n",
      "import os\n",
      "\n",
      "%load_ext autoreload\n",
      "%autoreload 2"
     ],
     "language": "python",
     "metadata": {
      "scrolled": true
     },
     "outputs": [
      {
       "output_type": "stream",
       "stream": "stderr",
       "text": [
        "Using gpu device 0: GeForce GTX 780 (CNMeM is disabled, cuDNN 5005)\n"
       ]
      },
      {
       "output_type": "stream",
       "stream": "stderr",
       "text": [
        "/home/hartmank/braindecode/vienv/local/lib/python2.7/site-packages/sklearn/cross_validation.py:44: DeprecationWarning: This module was deprecated in version 0.18 in favor of the model_selection module into which all the refactored classes and functions are moved. Also note that the interface of the new CV iterators are different from that of this module. This module will be removed in 0.20.\n",
        "  \"This module will be removed in 0.20.\", DeprecationWarning)\n"
       ]
      }
     ],
     "prompt_number": 1
    },
    {
     "cell_type": "code",
     "collapsed": false,
     "input": [
      "import convvisual.receptive_field.receptive_field as receptive_field"
     ],
     "language": "python",
     "metadata": {},
     "outputs": [],
     "prompt_number": 2
    },
    {
     "cell_type": "code",
     "collapsed": true,
     "input": [
      "modelpath = '/home/hartmank/braindecode/data/models/'\n",
      "modelname = 'paper/ours/cnt/deep4/car/22'\n",
      "savepath  = '/home/hartmank/data/convvisual/RF_data'"
     ],
     "language": "python",
     "metadata": {},
     "outputs": [],
     "prompt_number": 3
    },
    {
     "cell_type": "code",
     "collapsed": false,
     "input": [
      "if not os.path.isdir(os.path.join(savepath,modelname)):\n",
      "    os.makedirs (os.path.join(savepath,modelname))"
     ],
     "language": "python",
     "metadata": {},
     "outputs": [],
     "prompt_number": 4
    },
    {
     "cell_type": "code",
     "collapsed": false,
     "input": [
      "n_Units = 50\n",
      "n_filters = 5\n",
      "\n",
      "layer_list = [3,4,10,16,22,28]#[8,14,20,26]\n",
      "X_reshapes = [None,None,3,9,27,81]#[3,9,27,81]\n",
      "splits = [20,20,30,60,120,120]#[1,4,4,8]\n",
      "classes = [0,1,2,3]\n",
      "\n",
      "savepath = os.path.join(savepath,'ClassAnalysis_FilterDiff_nUnits%02d_nFilters%02d'%(n_Units,n_filters))\n",
      "receptive_field.make_and_save_RF_data(modelpath+modelname,savepath,classes,layer_list,\n",
      "\t\t\t\tX_reshapes,filter_splits=splits,unit_splits=splits,\n",
      "\t\t\t\tnUnits=n_Units,nFilters=n_filters,use_mean_filter_diff=True)"
     ],
     "language": "python",
     "metadata": {},
     "outputs": [
      {
       "output_type": "stream",
       "stream": "stdout",
       "text": [
        "Init extractor\n"
       ]
      },
      {
       "output_type": "stream",
       "stream": "stdout",
       "text": [
        "2017-02-28 13:12:06,025 Setting n_sample preds automatically to 479\n"
       ]
      },
      {
       "output_type": "stream",
       "stream": "stdout",
       "text": [
        "2017-02-28 13:12:06,027 Input window length is 522\n"
       ]
      },
      {
       "output_type": "stream",
       "stream": "stdout",
       "text": [
        "2017-02-28 13:12:06,220 Setting n_sample preds automatically to 479\n"
       ]
      },
      {
       "output_type": "stream",
       "stream": "stdout",
       "text": [
        "2017-02-28 13:12:06,222 Input window length is 522\n"
       ]
      },
      {
       "output_type": "stream",
       "stream": "stdout",
       "text": [
        "2017-02-28 13:12:06,222 Load Training Set...\n"
       ]
      },
      {
       "output_type": "stream",
       "stream": "stdout",
       "text": [
        "2017-02-28 13:12:29,837 Load Test Set...\n"
       ]
      },
      {
       "output_type": "stream",
       "stream": "stdout",
       "text": [
        "2017-02-28 13:12:34,794 Clean Training Set...\n"
       ]
      },
      {
       "output_type": "stream",
       "stream": "stdout",
       "text": [
        "2017-02-28 13:12:35,377 Rejected channels: []\n"
       ]
      },
      {
       "output_type": "stream",
       "stream": "stdout",
       "text": [
        "2017-02-28 13:12:35,378 #Clean trials:     895\n"
       ]
      },
      {
       "output_type": "stream",
       "stream": "stdout",
       "text": [
        "2017-02-28 13:12:35,378 #Rejected trials:  2\n"
       ]
      },
      {
       "output_type": "stream",
       "stream": "stdout",
       "text": [
        "2017-02-28 13:12:35,379 Fraction Clean:    99.0%\n"
       ]
      },
      {
       "output_type": "stream",
       "stream": "stdout",
       "text": [
        "2017-02-28 13:12:35,379 (from maxmin):     2\n"
       ]
      },
      {
       "output_type": "stream",
       "stream": "stdout",
       "text": [
        "2017-02-28 13:12:35,379 (from var):        0\n"
       ]
      },
      {
       "output_type": "stream",
       "stream": "stdout",
       "text": [
        "2017-02-28 13:12:35,543 Clean Test Set...\n"
       ]
      },
      {
       "output_type": "stream",
       "stream": "stdout",
       "text": [
        "2017-02-28 13:12:35,648 Rejected channels: []\n"
       ]
      },
      {
       "output_type": "stream",
       "stream": "stdout",
       "text": [
        "2017-02-28 13:12:35,649 #Clean trials:     160\n"
       ]
      },
      {
       "output_type": "stream",
       "stream": "stdout",
       "text": [
        "2017-02-28 13:12:35,650 #Rejected trials:  0\n"
       ]
      },
      {
       "output_type": "stream",
       "stream": "stdout",
       "text": [
        "2017-02-28 13:12:35,650 Fraction Clean:    100.0%\n"
       ]
      },
      {
       "output_type": "stream",
       "stream": "stdout",
       "text": [
        "2017-02-28 13:12:35,650 (from maxmin):     0\n"
       ]
      },
      {
       "output_type": "stream",
       "stream": "stdout",
       "text": [
        "2017-02-28 13:12:35,651 (from var):        0\n"
       ]
      },
      {
       "output_type": "stream",
       "stream": "stdout",
       "text": [
        "2017-02-28 13:12:35,651 Create Cleaned Cnt Sets...\n"
       ]
      },
      {
       "output_type": "stream",
       "stream": "stdout",
       "text": [
        "2017-02-28 13:12:36,733 Create sets from cleaned cnt...\n"
       ]
      },
      {
       "output_type": "stream",
       "stream": "stdout",
       "text": [
        "2017-02-28 13:12:36,734 Preprocess continuous signal...\n"
       ]
      },
      {
       "output_type": "stream",
       "stream": "stdout",
       "text": [
        "2017-02-28 13:13:04,292 Loaded dataset with shape: (1725659, 128, 1, 1)\n"
       ]
      },
      {
       "output_type": "stream",
       "stream": "stdout",
       "text": [
        "2017-02-28 13:13:04,294 Preprocess continuous signal...\n"
       ]
      },
      {
       "output_type": "stream",
       "stream": "stdout",
       "text": [
        "2017-02-28 13:13:09,018 Loaded dataset with shape: (308544, 128, 1, 1)\n"
       ]
      },
      {
       "output_type": "stream",
       "stream": "stdout",
       "text": [
        "2017-02-28 13:13:09,019 Loaded clean train data with shape (1725659, 128, 1, 1).\n"
       ]
      },
      {
       "output_type": "stream",
       "stream": "stdout",
       "text": [
        "2017-02-28 13:13:09,019 Loaded clean test data with shape (308544, 128, 1, 1).\n"
       ]
      },
      {
       "output_type": "stream",
       "stream": "stderr",
       "text": [
        "/home/hartmank/braindecode/vienv/local/lib/python2.7/site-packages/lasagne/layers/helper.py:212: UserWarning: get_output() was called with unused kwargs:\n",
        "\tinput_var\n",
        "  % \"\\n\\t\".join(suggestions))\n"
       ]
      },
      {
       "output_type": "stream",
       "stream": "stdout",
       "text": [
        "Outputs (448, 5, 991, 128)\n",
        "Filter\n"
       ]
      },
      {
       "output_type": "stream",
       "stream": "stdout",
       "text": [
        "Filter\n"
       ]
      },
      {
       "output_type": "stream",
       "stream": "stdout",
       "text": [
        "Filter\n"
       ]
      },
      {
       "output_type": "stream",
       "stream": "stdout",
       "text": [
        "Filter\n"
       ]
      },
      {
       "output_type": "stream",
       "stream": "stdout",
       "text": [
        "Filter\n"
       ]
      },
      {
       "output_type": "stream",
       "stream": "stdout",
       "text": [
        "[array([103,   0, 811,  89]), array([102,   0, 957,  89]), array([360,   0, 261,  53]), array([361,   0, 115,  53]), array([228,   0, 856,  50]), array([229,   0, 710,  50]), array([  4,   0, 405,  53]), array([  5,   0, 259,  53]), array([ 15,   0, 723,  53]), array([ 14,   0, 869,  53]), array([ 54,   0, 706,  40]), array([ 55,   0, 560,  40]), array([434,   0,  57,  53]), array([258,   0, 234,  53]), array([259,   0,  88,  53]), array([248,   0, 332,  53]), array([249,   0, 186,  53]), array([  6,   0, 399,  53]), array([  7,   0, 253,  53]), array([  2,   0, 162,  53]), array([ 3,  0, 16, 53]), array([ 25,   0, 914,  53]), array([ 22,   0, 630,  53]), array([ 23,   0, 484,  53]), array([  0,   0, 955,  53]), array([  1,   0, 809,  53]), array([90,  0, 20, 53]), array([ 19,   0, 966,  53]), array([ 18,   0, 919,  53]), array([254,   0, 136,  61]), array([88,  0, 60, 53]), array([ 16,   0, 406,  53]), array([ 17,   0, 260,  53]), array([ 87,   0, 214,  53]), array([ 86,   0, 360,  53]), array([367,   0, 550,  53]), array([366,   0, 696,  53]), array([435,   0,  71,  53]), array([329,   0, 609,  53]), array([328,   0, 755,  53]), array([ 20,   0, 514,  53]), array([ 21,   0, 368,  53]), array([ 89,   0, 110,  53]), array([ 24,   0, 937,  53]), array([ 75,   0, 957,   1]), array([ 91,   0, 189,  53]), array([  9,   0, 751,  53]), array([  8,   0, 897,  53]), array([ 96,   0, 103,   9]), array([439,   0, 943,  30]), array([ 11,   0, 138,  53]), array([ 10,   0, 284,  53]), array([ 77,   0, 484,  22]), array([ 76,   0, 630,  22]), array([81,  0,  5, 53]), array([ 80,   0, 151,  53]), array([ 84,   0, 622,  53]), array([ 85,   0, 476,  53]), array([253,   0, 895,  30]), array([429,   0, 301,  53]), array([428,   0, 447,  53]), array([438,   0, 289,  30]), array([209,   0, 140,  30]), array([208,   0, 286,  30]), array([ 12,   0, 110,  53]), array([372,   0,  55,  30]), array([195,   0, 544,  30]), array([194,   0, 690,  30]), array([252,   0, 623,  53]), array([131,   0, 738,  30]), array([130,   0, 884,  30]), array([433,   0, 386,  51]), array([432,   0, 532,  51]), array([219,   0, 630,  30]), array([218,   0, 776,  30]), array([113,   0, 872,  30]), array([118,   0, 380,   1]), array([119,   0, 234,   1]), array([417,   0, 647,  30]), array([416,   0, 793,  30]), array([ 78,   0, 965,   0]), array([ 79,   0, 819,   0]), array([132,   0, 558,  53]), array([133,   0, 412,  53]), array([ 39,   0, 679,  30]), array([ 38,   0, 825,  30]), array([156,   0, 983,  30]), array([157,   0, 837,  30]), array([176,   0, 115,  53]), array([177,   0, 308,  22]), array([ 13,   0, 214,  53]), array([364,   0, 602,  53]), array([365,   0, 456,  53]), array([ 59,   0, 857,  53]), array([70,  0, 38,  1]), array([152,   0,  21,  61]), array([352,   0,  43,  53]), array([232,   0, 941,  30]), array([233,   0, 795,  30]), array([ 65,   0, 924,   9]), array([103,   1, 806,  89]), array([102,   1, 952,  89]), array([  4,   1, 408,  53]), array([  5,   1, 262,  53]), array([ 15,   1, 718,  53]), array([ 14,   1, 864,  53]), array([360,   1, 257,  53]), array([361,   1, 111,  53]), array([ 55,   1, 556,  40]), array([ 54,   1, 702,  40]), array([229,   1, 718,  50]), array([228,   1, 864,  50]), array([249,   1, 290,  53]), array([248,   1, 436,  53]), array([  0,   1, 796,  30]), array([  1,   1, 650,  30]), array([  2,   1, 157,  53]), array([ 3,  1, 11, 53]), array([ 7,  1, 16, 53]), array([  6,   1, 162,  53]), array([ 22,   1, 629,  30]), array([ 23,   1, 483,  30]), array([ 24,   1, 525,  30]), array([ 25,   1, 379,  30]), array([194,   1, 725,  30]), array([195,   1, 579,  30]), array([ 90,   1, 330,  53]), array([ 91,   1, 184,  53]), array([258,   1, 707,  53]), array([259,   1, 561,  53]), array([434,   1,   7,  14]), array([ 87,   1, 357,  53]), array([ 86,   1, 503,  53]), array([ 20,   1, 621,  30]), array([ 21,   1, 475,  30]), array([ 75,   1, 952,   1]), array([254,   1,  74,  51]), array([ 19,   1, 511,  53]), array([ 18,   1, 657,  53]), array([139,   1, 806,  30]), array([138,   1, 952,  30]), array([128,   1, 113,  30]), array([233,   1, 141,  30]), array([232,   1, 287,  30]), array([208,   1,  82,  30]), array([211,   1, 959,  30]), array([113,   1, 433,  30]), array([112,   1, 579,  30]), array([ 88,   1, 251,  53]), array([ 89,   1, 105,  53]), array([209,   1, 143,  30]), array([329,   1, 104,  53]), array([328,   1, 250,  53]), array([146,   1, 557,   9]), array([147,   1, 411,   9]), array([ 65,   1, 927,   9]), array([ 11,   1, 959,  53]), array([189,   1, 590,   4]), array([188,   1, 736,   4]), array([12,  1, 12, 53]), array([177,   1, 303,  22]), array([176,   1, 449,  22]), array([372,   1, 109,  30]), array([219,   1, 423,  30]), array([218,   1, 569,  30]), array([96,  1, 98,  9]), array([417,   1, 536,  30]), array([416,   1, 682,  30]), array([157,   1, 832,  30]), array([156,   1, 978,  30]), array([192,   1,  32,   9]), array([438,   1, 639,  30]), array([439,   1, 493,  30]), array([118,   1, 259,   1]), array([119,   1, 113,   1]), array([ 13,   1, 690,  53]), array([ 17,   1, 868,  53]), array([354,   1, 102, 100]), array([78,  1, 53,  1]), array([  8,   1, 608,  30]), array([  9,   1, 462,  30]), array([130,   1, 706,  30]), array([131,   1, 560,  30]), array([152,   1,  16,  61]), array([ 10,   1, 533,  53]), array([253,   1, 898,  30]), array([111,   1, 292,  30]), array([110,   1, 438,  30]), array([ 84,   1, 191,  53]), array([85,  1, 45, 53]), array([252,   1, 618,  53]), array([ 72,   1, 740,  22]), array([ 73,   1, 594,  22]), array([ 63,   1, 958,   1]), array([366,   1, 741,  53]), array([367,   1, 595,  53]), array([340,   1, 151, 100]), array([341,   1,   5, 100]), array([142,   1, 579,  30]), array([143,   1, 433,  30]), array([434,   2, 318,   2]), array([435,   2, 172,   2]), array([360,   2, 262,  53]), array([361,   2, 116,  53]), array([103,   2, 812,  89]), array([102,   2, 958,  89]), array([ 55,   2, 561,  40]), array([ 54,   2, 707,  40]), array([229,   2, 983,  50]), array([228,   2, 857,  50]), array([  4,   2, 414,  53]), array([  5,   2, 268,  53]), array([ 3,  2, 17, 53]), array([  2,   2, 163,  53]), array([ 15,   2, 724,  53]), array([ 14,   2, 870,  53]), array([249,   2, 187,  53]), array([248,   2, 333,  53]), array([259,   2,  89,  53]), array([258,   2, 235,  53]), array([  0,   2, 803,  29]), array([  1,   2, 657,  29]), array([  7,   2, 504,  53]), array([  6,   2, 650,  53]), array([439,   2, 944,  30]), array([219,   2, 133,  30]), array([218,   2, 279,  30]), array([ 19,   2, 967,  53]), array([ 23,   2, 482,  53]), array([ 22,   2, 628,  53]), array([ 18,   2, 602,  30]), array([113,   2, 963,  30]), array([ 24,   2, 529,  29]), array([ 25,   2, 383,  29]), array([233,   2, 666,  30]), array([232,   2, 812,  30]), array([366,   2, 697,  53]), array([367,   2, 551,  53]), array([  8,   2, 608,  30]), array([  9,   2, 462,  30]), array([88,  2, 61, 53]), array([419,   2, 373,  42]), array([418,   2, 519,  42]), array([ 87,   2, 215,  53]), array([ 86,   2, 361,  53]), array([146,   2, 559,   9]), array([147,   2, 413,   9]), array([351,   2, 198, 100]), array([350,   2, 344, 100]), array([195,   2, 666,  30]), array([194,   2, 812,  30]), array([ 21,   2, 294,  30]), array([ 20,   2, 440,  30]), array([ 77,   2, 485,  22]), array([ 76,   2, 631,  22]), array([438,   2, 290,  30]), array([ 17,   2, 261,  53]), array([ 16,   2, 407,  53]), array([329,   2, 610,  53]), array([328,   2, 756,  53]), array([208,   2, 952,  30]), array([209,   2, 806,  30]), array([ 75,   2, 958,   1]), array([429,   2, 302,  53]), array([428,   2, 448,  53]), array([84,  2, 70, 53]), array([ 85,   2, 424,  53]), array([254,   2, 137,  61]), array([ 89,   2, 477,  30]), array([ 10,   2, 285,  53]), array([ 11,   2, 139,  53]), array([ 80,   2, 454,  53]), array([ 81,   2, 308,  53]), array([416,   2, 671,  30]), array([417,   2, 525,  30]), array([90,  2, 21, 53]), array([372,   2,  56,  30]), array([359,   2,  45, 100]), array([358,   2, 191, 100]), array([132,   2, 559,  53]), array([133,   2, 413,  53]), array([250,   2, 229,  53]), array([251,   2,  83,  53]), array([433,   2, 387,  51]), array([432,   2, 533,  51]), array([338,   2, 188, 100]), array([339,   2,  42, 100]), array([130,   2, 885,  30]), array([131,   2, 739,  30]), array([142,   2, 979,  30]), array([143,   2, 833,  30]), array([ 96,   2, 104,   9]), array([ 91,   2, 840,  53]), array([ 12,   2, 111,  53]), array([342,   2, 562, 100]), array([343,   2, 416, 100]), array([186,   2,   6,   1]), array([118,   2,  39,   5]), array([193,   2, 960,   8]), array([ 78,   2, 966,   0]), array([360,   3, 259,  53]), array([361,   3, 113,  53]), array([ 55,   3, 558,  40]), array([ 54,   3, 704,  40]), array([434,   3,  55,  53]), array([102,   3, 955,  89]), array([103,   3, 809,  89]), array([  7,   3, 251,  53]), array([  6,   3, 397,  53]), array([229,   3,   1,  50]), array([228,   3, 147,  50]), array([  5,   3, 257,  53]), array([  4,   3, 403,  53]), array([ 22,   3, 628,  53]), array([ 23,   3, 482,  53]), array([259,   3,  86,  53]), array([258,   3, 232,  53]), array([  2,   3, 160,  53]), array([ 3,  3, 14, 53]), array([248,   3, 330,  53]), array([249,   3, 184,  53]), array([88,  3, 58, 53]), array([ 19,   3, 771,  53]), array([ 18,   3, 917,  53]), array([ 86,   3, 186,  53]), array([87,  3, 40, 53]), array([328,   3, 753,  53]), array([329,   3, 607,  53]), array([ 14,   3, 867,  53]), array([ 15,   3, 721,  53]), array([254,   3, 134,  61]), array([  1,   3, 807,  53]), array([  0,   3, 953,  53]), array([366,   3, 694,  53]), array([367,   3, 548,  53]), array([ 16,   3, 404,  53]), array([ 17,   3, 258,  53]), array([118,   3,  36,   5]), array([  9,   3, 749,  53]), array([  8,   3, 895,  53]), array([291,   3, 531,  80]), array([290,   3, 677,  80]), array([113,   3, 873,  30]), array([90,  3, 18, 53]), array([132,   3, 556,  53]), array([133,   3, 410,  53]), array([432,   3, 530,  51]), array([433,   3, 384,  51]), array([ 24,   3, 935,  53]), array([ 25,   3, 789,  53]), array([ 85,   3, 859,  53]), array([ 10,   3, 282,  53]), array([ 11,   3, 136,  53]), array([ 75,   3, 918,   1]), array([ 84,   3, 916,  53]), array([ 21,   3, 291,  30]), array([ 20,   3, 437,  30]), array([ 65,   3, 926,   1]), array([428,   3, 356,  53]), array([429,   3, 210,  53]), array([ 80,   3, 451,  53]), array([ 81,   3, 305,  53]), array([ 12,   3, 108,  53]), array([284,   3, 352,  80]), array([285,   3, 206,  80]), array([ 91,   3, 150,  53]), array([ 13,   3, 987,  53]), array([340,   3, 118,  53]), array([195,   3, 663,  30]), array([194,   3, 809,  30]), array([ 89,   3, 108,  53]), array([419,   3, 373,  42]), array([418,   3, 519,  42]), array([192,   3, 335,   9]), array([193,   3, 189,   9]), array([78,  3, 55,  1]), array([188,   3, 731,   4]), array([189,   3, 585,   4]), array([245,   3, 814,   1]), array([244,   3, 960,   1]), array([110,   3, 885,   1]), array([111,   3, 739,   1]), array([ 76,   3, 676,   9]), array([ 77,   3, 530,   9]), array([435,   3, 157,  53]), array([439,   3, 941,  30]), array([357,   3, 263,  53]), array([356,   3, 409,  53]), array([351,   3, 522,  53]), array([350,   3, 668,  53]), array([209,   3, 803,  30]), array([208,   3, 949,  30]), array([358,   3, 187,  53]), array([359,   3,  41,  53]), array([202,   3, 940,   9]), array([203,   3, 794,   9]), array([289,   3, 977,  80]), array([176,   3, 113,  53]), array([ 96,   3, 101,   9]), array([ 83,   3, 440,  53]), array([ 55,   4, 560,  40]), array([ 54,   4, 706,  40]), array([103,   4, 811,  89]), array([102,   4, 957,  89]), array([  4,   4, 484,  53]), array([  5,   4, 338,  53]), array([  6,   4, 399,  53]), array([  7,   4, 253,  53]), array([360,   4, 758,  53]), array([361,   4, 612,  53]), array([285,   4, 205,  80]), array([284,   4, 351,  80]), array([228,   4, 149,  50]), array([229,   4,   3,  50]), array([289,   4, 977,  80]), array([ 65,   4, 925,   1]), array([  0,   4, 858,  53]), array([  1,   4, 712,  53]), array([189,   4, 584,   1]), array([188,   4, 730,   1]), array([434,   4,  54,  53]), array([ 15,   4, 723,  53]), array([ 14,   4, 869,  53]), array([291,   4, 530,  80]), array([290,   4, 676,  80]), array([248,   4, 332,  53]), array([249,   4, 186,  53]), array([259,   4, 565,  53]), array([258,   4, 711,  53]), array([  3,   4, 847,  53]), array([  2,   4, 120,  53]), array([ 18,   4, 919,  53]), array([ 19,   4, 773,  53]), array([ 22,   4, 260,  53]), array([ 23,   4, 114,  53]), array([ 75,   4, 920,   1]), array([ 24,   4, 937,  53]), array([ 25,   4, 791,  53]), array([193,   4, 824,   9]), array([192,   4, 970,   9]), array([ 86,   4, 188,  53]), array([87,  4, 42, 53]), array([ 88,   4, 430,  53]), array([ 89,   4, 284,  53]), array([ 71,   4, 156,   1]), array([ 70,   4, 302,   1]), array([138,   4, 123,   1]), array([176,   4, 102,  53]), array([ 84,   4, 622,  53]), array([ 85,   4, 476,  53]), array([ 16,   4, 272,  53]), array([ 17,   4, 126,  53]), array([194,   4, 904,  22]), array([195,   4, 758,  22]), array([ 11,   4, 138,  53]), array([ 10,   4, 284,  53]), array([  8,   4, 897,  53]), array([  9,   4, 751,  53]), array([328,   4, 755,  53]), array([329,   4, 609,  53]), array([ 12,   4, 110,  53]), array([ 13,   4, 989,  53]), array([357,   4, 265,  53]), array([356,   4, 411,  53]), array([133,   4, 412,  53]), array([132,   4, 558,  53]), array([359,   4, 958,  53]), array([ 21,   4, 970,  53]), array([ 20,   4, 782,  53]), array([199,   4, 274,   1]), array([198,   4, 420,   1]), array([57,  4, 18, 27]), array([ 56,   4, 164,  27]), array([ 90,   4, 298,  53]), array([ 91,   4, 152,  53]), array([353,   4, 488,  53]), array([352,   4, 634,  53]), array([428,   4, 358,  53]), array([429,   4, 212,  53]), array([358,   4, 977,  53]), array([367,   4, 550,  53]), array([366,   4, 696,  53]), array([202,   4, 900,   1]), array([203,   4, 754,   1]), array([118,   4,  38,   5]), array([ 82,   4, 143,  53]), array([422,   4,  99, 111]), array([435,   4,  71,  53]), array([239,   4, 178,  15]), array([238,   4, 324,  15]), array([230,   4,  27,  52]), array([ 77,   4, 495,   1]), array([ 76,   4, 641,   1]), array([254,   4, 136,  61]), array([210,   4, 597,  30]), array([211,   4, 451,  30]), array([190,   4, 705,   9]), array([191,   4, 559,   9]), array([ 39,   4, 679,  30]), array([ 38,   4, 825,  30])]\n",
        "max units\n",
        "[array([ 0,  1,  2,  3,  4,  5,  6,  7,  8,  9, 10, 11, 12, 13, 14, 15, 16,\n",
        "       17, 18, 19, 20, 21, 22, 23, 24]), array([25, 26, 27, 28, 29, 30, 31, 32, 33, 34, 35, 36, 37, 38, 39, 40, 41,\n",
        "       42, 43, 44, 45, 46, 47, 48, 49]), array([50, 51, 52, 53, 54, 55, 56, 57, 58, 59, 60, 61, 62, 63, 64, 65, 66,\n",
        "       67, 68, 69, 70, 71, 72, 73, 74]), array([75, 76, 77, 78, 79, 80, 81, 82, 83, 84, 85, 86, 87, 88, 89, 90, 91,\n",
        "       92, 93, 94, 95, 96, 97, 98, 99]), array([100, 101, 102, 103, 104, 105, 106, 107, 108, 109, 110, 111, 112,\n",
        "       113, 114, 115, 116, 117, 118, 119, 120, 121, 122, 123, 124]), array([125, 126, 127, 128, 129, 130, 131, 132, 133, 134, 135, 136, 137,\n",
        "       138, 139, 140, 141, 142, 143, 144, 145, 146, 147, 148, 149]), array([150, 151, 152, 153, 154, 155, 156, 157, 158, 159, 160, 161, 162,\n",
        "       163, 164, 165, 166, 167, 168, 169, 170, 171, 172, 173, 174]), array([175, 176, 177, 178, 179, 180, 181, 182, 183, 184, 185, 186, 187,\n",
        "       188, 189, 190, 191, 192, 193, 194, 195, 196, 197, 198, 199]), array([200, 201, 202, 203, 204, 205, 206, 207, 208, 209, 210, 211, 212,\n",
        "       213, 214, 215, 216, 217, 218, 219, 220, 221, 222, 223, 224]), array([225, 226, 227, 228, 229, 230, 231, 232, 233, 234, 235, 236, 237,\n",
        "       238, 239, 240, 241, 242, 243, 244, 245, 246, 247, 248, 249]), array([250, 251, 252, 253, 254, 255, 256, 257, 258, 259, 260, 261, 262,\n",
        "       263, 264, 265, 266, 267, 268, 269, 270, 271, 272, 273, 274]), array([275, 276, 277, 278, 279, 280, 281, 282, 283, 284, 285, 286, 287,\n",
        "       288, 289, 290, 291, 292, 293, 294, 295, 296, 297, 298, 299]), array([300, 301, 302, 303, 304, 305, 306, 307, 308, 309, 310, 311, 312,\n",
        "       313, 314, 315, 316, 317, 318, 319, 320, 321, 322, 323, 324]), array([325, 326, 327, 328, 329, 330, 331, 332, 333, 334, 335, 336, 337,\n",
        "       338, 339, 340, 341, 342, 343, 344, 345, 346, 347, 348, 349]), array([350, 351, 352, 353, 354, 355, 356, 357, 358, 359, 360, 361, 362,\n",
        "       363, 364, 365, 366, 367, 368, 369, 370, 371, 372, 373, 374]), array([375, 376, 377, 378, 379, 380, 381, 382, 383, 384, 385, 386, 387,\n",
        "       388, 389, 390, 391, 392, 393, 394, 395, 396, 397, 398, 399]), array([400, 401, 402, 403, 404, 405, 406, 407, 408, 409, 410, 411, 412,\n",
        "       413, 414, 415, 416, 417, 418, 419, 420, 421, 422, 423, 424]), array([425, 426, 427, 428, 429, 430, 431, 432, 433, 434, 435, 436, 437,\n",
        "       438, 439, 440, 441, 442, 443, 444, 445, 446, 447, 448, 449]), array([450, 451, 452, 453, 454, 455, 456, 457, 458, 459, 460, 461, 462,\n",
        "       463, 464, 465, 466, 467, 468, 469, 470, 471, 472, 473, 474]), array([475, 476, 477, 478, 479, 480, 481, 482, 483, 484, 485, 486, 487,\n",
        "       488, 489, 490, 491, 492, 493, 494, 495, 496, 497, 498, 499])]\n",
        "Batch\n"
       ]
      },
      {
       "output_type": "stream",
       "stream": "stderr",
       "text": [
        "/home/hartmank/braindecode/vienv/local/lib/python2.7/site-packages/lasagne/layers/pool.py:266: UserWarning: DEPRECATION: the 'ds' parameter is not going to exist anymore as it is going to be replaced by the parameter 'ws'.\n",
        "  mode=self.mode,\n",
        "/home/hartmank/braindecode/vienv/local/lib/python2.7/site-packages/lasagne/layers/pool.py:266: UserWarning: DEPRECATION: the 'st' parameter is not going to exist anymore as it is going to be replaced by the parameter 'stride'.\n",
        "  mode=self.mode,\n",
        "/home/hartmank/braindecode/vienv/local/lib/python2.7/site-packages/lasagne/layers/pool.py:266: UserWarning: DEPRECATION: the 'padding' parameter is not going to exist anymore as it is going to be replaced by the parameter 'pad'.\n",
        "  mode=self.mode,\n"
       ]
      },
      {
       "output_type": "stream",
       "stream": "stdout",
       "text": [
        "Batch\n"
       ]
      },
      {
       "output_type": "stream",
       "stream": "stdout",
       "text": [
        "Batch\n"
       ]
      },
      {
       "output_type": "stream",
       "stream": "stdout",
       "text": [
        "Batch\n"
       ]
      },
      {
       "output_type": "stream",
       "stream": "stdout",
       "text": [
        "Batch\n",
        "Batch\n"
       ]
      },
      {
       "output_type": "stream",
       "stream": "stdout",
       "text": [
        "Batch\n",
        "Batch\n"
       ]
      },
      {
       "output_type": "stream",
       "stream": "stdout",
       "text": [
        "Batch\n",
        "Batch\n"
       ]
      },
      {
       "output_type": "stream",
       "stream": "stdout",
       "text": [
        "Batch\n"
       ]
      },
      {
       "output_type": "stream",
       "stream": "stdout",
       "text": [
        "Batch\n"
       ]
      },
      {
       "output_type": "stream",
       "stream": "stdout",
       "text": [
        "Batch\n"
       ]
      },
      {
       "output_type": "stream",
       "stream": "stdout",
       "text": [
        "Batch\n"
       ]
      },
      {
       "output_type": "stream",
       "stream": "stdout",
       "text": [
        "Batch\n"
       ]
      },
      {
       "output_type": "stream",
       "stream": "stdout",
       "text": [
        "Batch\n"
       ]
      },
      {
       "output_type": "stream",
       "stream": "stdout",
       "text": [
        "Batch\n"
       ]
      },
      {
       "output_type": "stream",
       "stream": "stdout",
       "text": [
        "Batch\n"
       ]
      },
      {
       "output_type": "stream",
       "stream": "stdout",
       "text": [
        "Batch\n"
       ]
      },
      {
       "output_type": "stream",
       "stream": "stdout",
       "text": [
        "Batch\n"
       ]
      },
      {
       "output_type": "stream",
       "stream": "stdout",
       "text": [
        "Outputs (448, 5, 991, 128)\n",
        "Filter\n"
       ]
      },
      {
       "output_type": "stream",
       "stream": "stdout",
       "text": [
        "Filter\n"
       ]
      },
      {
       "output_type": "stream",
       "stream": "stdout",
       "text": [
        "Filter\n"
       ]
      },
      {
       "output_type": "stream",
       "stream": "stdout",
       "text": [
        "Filter\n"
       ]
      },
      {
       "output_type": "stream",
       "stream": "stdout",
       "text": [
        "Filter\n"
       ]
      },
      {
       "output_type": "stream",
       "stream": "stdout",
       "text": [
        "[array([153,   0, 956,  80]), array([152,   0, 901,  80]), array([165,   0, 269,  80]), array([164,   0, 415,  80]), array([ 96,   0, 854,   1]), array([ 97,   0, 708,   1]), array([ 77,   0, 349,  80]), array([ 76,   0, 495,  80]), array([416,   0, 107,  50]), array([  5,   0, 766,  53]), array([  4,   0, 912,  53]), array([211,   0, 193,  50]), array([210,   0, 339,  50]), array([ 82,   0, 464,  53]), array([ 83,   0, 318,  53]), array([426,   0, 579,  89]), array([427,   0, 433,  89]), array([441,   0, 801,  80]), array([440,   0, 947,  80]), array([ 91,   0, 934,  50]), array([399,   0, 854,  80]), array([  9,   0, 792,  53]), array([  8,   0, 938,  53]), array([ 21,   0, 841,   5]), array([ 20,   0, 987,   5]), array([  2,   0, 829,  53]), array([  3,   0, 683,  53]), array([  6,   0, 806,  53]), array([  7,   0, 660,  53]), array([187,   0, 948,  22]), array([196,   0, 318,  80]), array([197,   0, 172,  80]), array([  1,   0, 277,  53]), array([  0,   0, 423,  53]), array([326,   0, 171,  61]), array([327,   0,  25,  61]), array([ 24,   0, 279,  53]), array([ 25,   0, 133,  53]), array([ 15,   0, 394,  53]), array([ 14,   0, 540,  53]), array([361,   0, 303,  53]), array([360,   0, 449,  53]), array([150,   0, 616,   9]), array([151,   0, 470,   9]), array([117,   0, 621,  30]), array([116,   0, 767,  30]), array([ 87,   0, 276,  53]), array([ 86,   0, 422,  53]), array([417,   0, 558,  53]), array([ 17,   0, 170,  53]), array([ 16,   0, 316,  53]), array([84,  0, 92, 53]), array([ 13,   0, 898,  53]), array([186,   0, 317,  22]), array([ 23,   0, 400,  30]), array([ 22,   0, 546,  30]), array([253,   0,  24,  53]), array([252,   0, 170,  53]), array([ 12,   0, 302,  53]), array([ 98,   0, 835,  53]), array([ 99,   0, 689,  53]), array([331,   0, 277,  53]), array([330,   0, 423,  53]), array([432,   0, 182,  51]), array([433,   0,  36,  51]), array([ 88,   0, 655,  53]), array([ 89,   0, 509,  53]), array([342,   0, 110,  53]), array([329,   0,  33,  53]), array([328,   0, 179,  53]), array([157,   0, 947,  30]), array([205,   0, 863,  22]), array([254,   0,  77,  53]), array([ 18,   0, 870,  30]), array([ 19,   0, 724,  30]), array([ 85,   0, 121,  53]), array([366,   0, 662,  53]), array([367,   0, 516,  53]), array([251,   0, 234,  53]), array([250,   0, 380,  53]), array([428,   0, 495,  53]), array([429,   0, 349,  53]), array([431,   0, 803,  51]), array([430,   0, 949,  51]), array([154,   0, 774,  30]), array([155,   0, 628,  30]), array([119,   0, 857,  30]), array([340,   0, 176,  53]), array([341,   0,  30,  53]), array([356,   0, 579,  53]), array([357,   0, 433,  53]), array([353,   0, 578,  53]), array([352,   0, 724,  53]), array([ 65,   0, 215,   8]), array([ 64,   0, 361,   8]), array([189,   0, 159,   1]), array([188,   0, 305,   1]), array([ 27,   0, 702,  30]), array([ 26,   0, 848,  30]), array([ 11,   0, 687,  30]), array([153,   1, 951,  80]), array([152,   1, 896,  80]), array([ 96,   1, 784,  22]), array([ 97,   1, 638,  22]), array([164,   1, 410,  80]), array([165,   1, 264,  80]), array([ 77,   1, 344,  80]), array([ 76,   1, 490,  80]), array([416,   1,  88,  39]), array([211,   1, 205,  50]), array([210,   1, 351,  50]), array([  4,   1, 907,  53]), array([  5,   1, 761,  53]), array([150,   1, 614,   9]), array([151,   1, 468,   9]), array([112,   1, 590,  30]), array([113,   1, 444,  30]), array([196,   1, 313,  80]), array([197,   1, 167,  80]), array([427,   1, 428,  89]), array([426,   1, 574,  89]), array([ 91,   1, 931,  60]), array([  9,   1, 642,  42]), array([  8,   1, 788,  42]), array([ 25,   1, 929,  30]), array([361,   1, 298,  53]), array([360,   1, 444,  53]), array([327,   1,  21,  61]), array([326,   1, 167,  61]), array([ 82,   1, 459,  53]), array([ 83,   1, 313,  53]), array([417,   1,  31,  29]), array([  6,   1, 801,  53]), array([  7,   1, 655,  53]), array([ 20,   1, 982,   5]), array([ 21,   1, 836,   5]), array([  2,   1, 440,  53]), array([  3,   1, 294,  53]), array([ 23,   1, 571,  30]), array([ 22,   1, 717,  30]), array([  1,   1, 212,  53]), array([  0,   1, 358,  53]), array([441,   1, 797,  80]), array([440,   1, 943,  80]), array([ 24,   1, 354,  53]), array([ 86,   1, 958,  53]), array([ 87,   1, 812,  53]), array([347,   1, 795,  80]), array([346,   1, 941,  80]), array([93,  1, 11, 30]), array([ 92,   1, 157,  30]), array([340,   1, 799, 100]), array([341,   1, 653, 100]), array([84,  1, 87, 53]), array([ 12,   1, 297,  53]), array([ 13,   1, 151,  53]), array([117,   1, 658,  30]), array([116,   1, 804,  30]), array([ 90,   1, 959,  30]), array([ 98,   1, 987,   1]), array([ 99,   1, 841,   1]), array([ 89,   1, 301,  30]), array([ 88,   1, 447,  30]), array([ 19,   1, 333,  30]), array([ 18,   1, 479,  30]), array([156,   1, 579,  30]), array([157,   1, 433,  30]), array([155,   1, 985,  30]), array([154,   1, 435,  30]), array([432,   1, 177,  51]), array([433,   1,  31,  51]), array([187,   1, 943,  22]), array([ 14,   1, 568,  53]), array([ 15,   1, 422,  53]), array([336,   1, 148, 100]), array([337,   1,   2, 100]), array([428,   1, 583,  40]), array([429,   1, 437,  40]), array([ 10,   1, 838,  30]), array([ 11,   1, 692,  30]), array([ 85,   1, 301,  53]), array([ 27,   1, 697,  30]), array([ 26,   1, 843,  30]), array([130,   1, 573,  30]), array([131,   1, 427,  30]), array([437,   1, 805,   1]), array([436,   1, 951,   1]), array([209,   1, 471,  30]), array([208,   1, 617,  30]), array([219,   1, 565,  30]), array([218,   1, 711,  30]), array([135,   1, 622,  30]), array([134,   1, 768,  30]), array([205,   1, 858,  22]), array([ 16,   1, 197,  53]), array([17,  1, 51, 53]), array([359,   1, 963, 100]), array([362,   1,  88,  53]), array([ 44,   1, 140,  29]), array([201,   1, 926,   0]), array([153,   2, 957,  80]), array([164,   2, 416,  80]), array([165,   2, 270,  80]), array([152,   2, 902,  80]), array([ 96,   2, 855,   1]), array([ 97,   2, 709,   1]), array([416,   2, 130,  50]), array([ 77,   2, 353,  89]), array([ 76,   2, 499,  89]), array([211,   2, 679,  50]), array([210,   2, 825,  50]), array([441,   2, 802,  80]), array([440,   2, 948,  80]), array([151,   2, 471,   9]), array([150,   2, 617,   9]), array([ 21,   2, 790,  53]), array([ 20,   2, 936,  53]), array([  1,   2, 320,  53]), array([  0,   2, 466,  53]), array([ 83,   2, 250,  53]), array([ 82,   2, 396,  53]), array([  5,   2, 767,  53]), array([  4,   2, 913,  53]), array([ 91,   2, 935,  50]), array([399,   2, 855,  80]), array([ 22,   2, 547,  30]), array([ 23,   2, 401,  30]), array([326,   2, 184,  61]), array([327,   2,  38,  61]), array([427,   2, 481,  53]), array([426,   2, 627,  53]), array([  2,   2, 672,  53]), array([  3,   2, 526,  53]), array([  8,   2, 939,  53]), array([  9,   2, 793,  53]), array([154,   2, 386,  30]), array([155,   2, 240,  30]), array([189,   2, 160,   1]), array([188,   2, 306,   1]), array([  7,   2, 438,  53]), array([  6,   2, 584,  53]), array([428,   2,  46,  53]), array([ 25,   2, 801,  30]), array([ 24,   2, 947,  30]), array([276,   2, 477,  89]), array([277,   2, 331,  89]), array([417,   2, 559,  53]), array([156,   2, 625,  30]), array([157,   2, 479,  30]), array([429,   2, 414,  51]), array([197,   2, 159,   9]), array([196,   2, 305,   9]), array([187,   2, 949,  22]), array([360,   2,  60,  53]), array([361,   2,   3,  53]), array([116,   2, 768,  30]), array([117,   2, 622,  30]), array([ 81,   2, 351,  22]), array([ 80,   2, 497,  22]), array([ 85,   2, 306,  53]), array([ 84,   2, 452,  53]), array([158,   2, 598,  30]), array([159,   2, 452,  30]), array([ 88,   2, 461,  53]), array([ 89,   2, 315,  53]), array([ 19,   2, 914,  30]), array([ 15,   2, 395,  53]), array([ 14,   2, 541,  53]), array([112,   2, 585,  30]), array([113,   2, 439,  30]), array([331,   2, 699,  53]), array([330,   2, 845,  53]), array([342,   2, 111,  53]), array([206,   2, 210,  53]), array([207,   2,  64,  53]), array([252,   2, 171,  53]), array([253,   2,  25,  53]), array([ 45,   2, 982,  30]), array([ 16,   2, 233,  53]), array([17,  2, 87, 53]), array([ 86,   2, 423,  53]), array([ 87,   2, 277,  53]), array([ 12,   2, 162,  53]), array([13,  2, 16, 53]), array([ 99,   2, 941,   1]), array([130,   2, 903,  30]), array([131,   2, 757,  30]), array([344,   2, 722, 100]), array([345,   2, 576, 100]), array([432,   2, 183,  51]), array([433,   2,  37,  51]), array([ 18,   2, 483,  29]), array([ 98,   2, 889,  53]), array([353,   2, 183, 100]), array([352,   2, 329, 100]), array([ 68,   2, 347,   5]), array([ 69,   2, 201,   5]), array([430,   2, 950,  51]), array([431,   2, 804,  51]), array([190,   2, 212,   9]), array([153,   3, 954,  80]), array([ 97,   3, 706,   1]), array([ 96,   3, 852,   1]), array([165,   3, 270,  80]), array([164,   3, 416,  80]), array([152,   3, 899,  80]), array([ 77,   3, 350,  89]), array([ 76,   3, 496,  89]), array([416,   3, 127,  50]), array([441,   3, 799,  80]), array([440,   3, 945,  80]), array([ 83,   3, 247,  53]), array([ 82,   3, 393,  53]), array([  4,   3, 910,  53]), array([  5,   3, 764,  53]), array([211,   3, 191,  50]), array([210,   3, 337,  50]), array([  0,   3, 434,  53]), array([  1,   3, 288,  53]), array([  2,   3, 669,  53]), array([  3,   3, 523,  53]), array([ 91,   3, 932,  50]), array([ 20,   3, 933,  53]), array([ 21,   3, 787,  53]), array([  8,   3, 783,  53]), array([  9,   3, 637,  53]), array([427,   3, 478,  53]), array([426,   3, 624,  53]), array([ 86,   3, 420,  53]), array([ 87,   3, 274,  53]), array([327,   3,  23,  61]), array([326,   3, 169,  61]), array([288,   3, 554,  80]), array([289,   3, 408,  80]), array([ 17,   3, 168,  53]), array([ 16,   3, 314,  53]), array([274,   3, 556,  80]), array([275,   3, 410,  80]), array([360,   3, 212,  53]), array([361,   3,  66,  53]), array([  7,   3, 435,  53]), array([  6,   3, 581,  53]), array([282,   3, 429,  80]), array([283,   3, 283,  80]), array([ 69,   3, 198,   5]), array([ 68,   3, 344,   5]), array([ 80,   3, 501,   9]), array([ 81,   3, 355,   9]), array([187,   3, 946,  22]), array([429,   3, 347,  53]), array([428,   3, 493,  53]), array([ 14,   3, 538,  53]), array([ 15,   3, 392,  53]), array([253,   3,  22,  53]), array([252,   3, 168,  53]), array([ 25,   3, 131,  53]), array([ 24,   3, 277,  53]), array([399,   3, 852,  80]), array([150,   3, 603,   9]), array([151,   3, 457,   9]), array([328,   3, 177,  53]), array([329,   3,  31,  53]), array([13,  3, 45, 53]), array([ 12,   3, 191,  53]), array([205,   3, 861,  22]), array([196,   3, 315,  80]), array([197,   3, 169,  80]), array([285,   3, 848,  80]), array([ 84,   3, 434,  53]), array([ 85,   3, 288,  53]), array([330,   3, 569,  53]), array([331,   3, 423,  53]), array([417,   3, 556,  53]), array([ 88,   3, 249,  53]), array([ 89,   3, 103,  53]), array([186,   3, 315,  22]), array([117,   3, 619,  30]), array([116,   3, 765,  30]), array([ 67,   3, 920,   1]), array([ 19,   3, 557,  53]), array([ 18,   3, 703,  53]), array([352,   3, 722,  53]), array([353,   3, 576,  53]), array([367,   3, 514,  53]), array([366,   3, 660,  53]), array([188,   3, 303,   1]), array([189,   3, 157,   1]), array([296,   3, 971,  80]), array([297,   3, 825,  80]), array([254,   3,  75,  53]), array([348,   3, 421,  53]), array([349,   3, 275,  53]), array([157,   3, 945,  30]), array([ 79,   3, 232,  22]), array([ 78,   3, 378,  22]), array([342,   3, 108,  53]), array([350,   3, 333,  53]), array([351,   3, 187,  53]), array([276,   3, 474,  89]), array([277,   3, 328,  89]), array([153,   4, 956,  80]), array([165,   4, 272,  80]), array([164,   4, 418,  80]), array([ 96,   4, 854,   1]), array([ 97,   4, 708,   1]), array([152,   4, 901,  80]), array([ 76,   4, 494,  80]), array([ 77,   4, 348,  80]), array([416,   4,  95,  40]), array([  3,   4, 247,  53]), array([  2,   4, 393,  53]), array([  5,   4, 766,  53]), array([  4,   4, 912,  53]), array([ 82,   4, 395,  53]), array([ 83,   4, 249,  53]), array([441,   4, 801,  80]), array([440,   4, 947,  80]), array([283,   4, 282,  80]), array([282,   4, 428,  80]), array([  8,   4, 938,  53]), array([  9,   4, 792,  53]), array([  1,   4, 287,  53]), array([  0,   4, 433,  53]), array([288,   4, 553,  80]), array([289,   4, 407,  80]), array([275,   4, 409,  80]), array([274,   4, 555,  80]), array([285,   4, 847,  80]), array([296,   4, 970,  80]), array([297,   4, 824,  80]), array([  6,   4, 854,  53]), array([  7,   4, 708,  53]), array([211,   4, 678,  50]), array([210,   4, 824,  50]), array([261,   4, 482,  80]), array([260,   4, 628,  80]), array([ 91,   4, 934,  50]), array([427,   4, 477,  53]), array([426,   4, 623,  53]), array([250,   4, 929,  80]), array([251,   4, 783,  80]), array([ 87,   4, 276,  53]), array([ 86,   4, 422,  53]), array([ 64,   4, 358,   1]), array([ 65,   4, 212,   1]), array([399,   4, 854,  80]), array([326,   4, 171,  61]), array([327,   4,  25,  61]), array([360,   4, 148,  53]), array([361,   4,   2,  53]), array([248,   4, 746,  80]), array([249,   4, 600,  80]), array([196,   4, 317,  80]), array([197,   4, 171,  80]), array([ 17,   4, 170,  53]), array([ 16,   4, 316,  53]), array([267,   4, 938,   0]), array([150,   4, 611,   9]), array([151,   4, 465,   9]), array([ 24,   4, 279,  53]), array([ 25,   4, 133,  53]), array([ 15,   4, 186,  53]), array([ 14,   4, 332,  53]), array([253,   4, 959,  80]), array([56,  4,  1, 89]), array([277,   4,  25,  80]), array([276,   4, 171,  80]), array([429,   4, 549,  53]), array([428,   4, 695,  53]), array([ 10,   4, 315,  53]), array([ 11,   4, 169,  53]), array([ 80,   4, 500,   9]), array([ 81,   4, 354,   9]), array([187,   4, 171,  22]), array([186,   4, 317,  22]), array([268,   4, 976,  80]), array([269,   4, 830,  80]), array([ 75,   4, 828,  19]), array([ 74,   4, 974,  19]), array([189,   4, 159,   1]), array([188,   4, 305,   1]), array([ 13,   4, 985,  53]), array([85,  4, 72, 53]), array([ 84,   4, 218,  53]), array([ 68,   4, 343,   5]), array([ 69,   4, 197,   5]), array([ 45,   4, 826,  50]), array([ 44,   4, 972,  50]), array([ 79,   4, 944,   1]), array([ 20,   4, 968,  53]), array([ 21,   4, 822,  53]), array([ 12,   4, 408,  53]), array([117,   4, 621,  30]), array([116,   4, 767,  30]), array([ 90,   4, 194,  53]), array([362,   4, 249,  53]), array([363,   4, 103,  53]), array([ 78,   4, 410,   1]), array([ 98,   4, 582,  22]), array([ 99,   4, 436,  22])]\n",
        "max units\n",
        "[array([ 0,  1,  2,  3,  4,  5,  6,  7,  8,  9, 10, 11, 12, 13, 14, 15, 16,\n",
        "       17, 18, 19, 20, 21, 22, 23, 24]), array([25, 26, 27, 28, 29, 30, 31, 32, 33, 34, 35, 36, 37, 38, 39, 40, 41,\n",
        "       42, 43, 44, 45, 46, 47, 48, 49]), array([50, 51, 52, 53, 54, 55, 56, 57, 58, 59, 60, 61, 62, 63, 64, 65, 66,\n",
        "       67, 68, 69, 70, 71, 72, 73, 74]), array([75, 76, 77, 78, 79, 80, 81, 82, 83, 84, 85, 86, 87, 88, 89, 90, 91,\n",
        "       92, 93, 94, 95, 96, 97, 98, 99]), array([100, 101, 102, 103, 104, 105, 106, 107, 108, 109, 110, 111, 112,\n",
        "       113, 114, 115, 116, 117, 118, 119, 120, 121, 122, 123, 124]), array([125, 126, 127, 128, 129, 130, 131, 132, 133, 134, 135, 136, 137,\n",
        "       138, 139, 140, 141, 142, 143, 144, 145, 146, 147, 148, 149]), array([150, 151, 152, 153, 154, 155, 156, 157, 158, 159, 160, 161, 162,\n",
        "       163, 164, 165, 166, 167, 168, 169, 170, 171, 172, 173, 174]), array([175, 176, 177, 178, 179, 180, 181, 182, 183, 184, 185, 186, 187,\n",
        "       188, 189, 190, 191, 192, 193, 194, 195, 196, 197, 198, 199]), array([200, 201, 202, 203, 204, 205, 206, 207, 208, 209, 210, 211, 212,\n",
        "       213, 214, 215, 216, 217, 218, 219, 220, 221, 222, 223, 224]), array([225, 226, 227, 228, 229, 230, 231, 232, 233, 234, 235, 236, 237,\n",
        "       238, 239, 240, 241, 242, 243, 244, 245, 246, 247, 248, 249]), array([250, 251, 252, 253, 254, 255, 256, 257, 258, 259, 260, 261, 262,\n",
        "       263, 264, 265, 266, 267, 268, 269, 270, 271, 272, 273, 274]), array([275, 276, 277, 278, 279, 280, 281, 282, 283, 284, 285, 286, 287,\n",
        "       288, 289, 290, 291, 292, 293, 294, 295, 296, 297, 298, 299]), array([300, 301, 302, 303, 304, 305, 306, 307, 308, 309, 310, 311, 312,\n",
        "       313, 314, 315, 316, 317, 318, 319, 320, 321, 322, 323, 324]), array([325, 326, 327, 328, 329, 330, 331, 332, 333, 334, 335, 336, 337,\n",
        "       338, 339, 340, 341, 342, 343, 344, 345, 346, 347, 348, 349]), array([350, 351, 352, 353, 354, 355, 356, 357, 358, 359, 360, 361, 362,\n",
        "       363, 364, 365, 366, 367, 368, 369, 370, 371, 372, 373, 374]), array([375, 376, 377, 378, 379, 380, 381, 382, 383, 384, 385, 386, 387,\n",
        "       388, 389, 390, 391, 392, 393, 394, 395, 396, 397, 398, 399]), array([400, 401, 402, 403, 404, 405, 406, 407, 408, 409, 410, 411, 412,\n",
        "       413, 414, 415, 416, 417, 418, 419, 420, 421, 422, 423, 424]), array([425, 426, 427, 428, 429, 430, 431, 432, 433, 434, 435, 436, 437,\n",
        "       438, 439, 440, 441, 442, 443, 444, 445, 446, 447, 448, 449]), array([450, 451, 452, 453, 454, 455, 456, 457, 458, 459, 460, 461, 462,\n",
        "       463, 464, 465, 466, 467, 468, 469, 470, 471, 472, 473, 474]), array([475, 476, 477, 478, 479, 480, 481, 482, 483, 484, 485, 486, 487,\n",
        "       488, 489, 490, 491, 492, 493, 494, 495, 496, 497, 498, 499])]\n",
        "Batch\n"
       ]
      },
      {
       "output_type": "stream",
       "stream": "stdout",
       "text": [
        "Batch\n",
        "Batch\n"
       ]
      },
      {
       "output_type": "stream",
       "stream": "stdout",
       "text": [
        "Batch\n",
        "Batch\n"
       ]
      },
      {
       "output_type": "stream",
       "stream": "stdout",
       "text": [
        "Batch\n"
       ]
      },
      {
       "output_type": "stream",
       "stream": "stdout",
       "text": [
        "Batch\n",
        "Batch\n"
       ]
      },
      {
       "output_type": "stream",
       "stream": "stdout",
       "text": [
        "Batch\n",
        "Batch\n"
       ]
      },
      {
       "output_type": "stream",
       "stream": "stdout",
       "text": [
        "Batch\n"
       ]
      },
      {
       "output_type": "stream",
       "stream": "stdout",
       "text": [
        "Batch\n"
       ]
      },
      {
       "output_type": "stream",
       "stream": "stdout",
       "text": [
        "Batch\n"
       ]
      },
      {
       "output_type": "stream",
       "stream": "stdout",
       "text": [
        "Batch\n"
       ]
      },
      {
       "output_type": "stream",
       "stream": "stdout",
       "text": [
        "Batch\n"
       ]
      },
      {
       "output_type": "stream",
       "stream": "stdout",
       "text": [
        "Batch\n"
       ]
      },
      {
       "output_type": "stream",
       "stream": "stdout",
       "text": [
        "Batch\n"
       ]
      },
      {
       "output_type": "stream",
       "stream": "stdout",
       "text": [
        "Batch\n"
       ]
      },
      {
       "output_type": "stream",
       "stream": "stdout",
       "text": [
        "Batch\n"
       ]
      },
      {
       "output_type": "stream",
       "stream": "stdout",
       "text": [
        "Batch\n"
       ]
      },
      {
       "output_type": "stream",
       "stream": "stdout",
       "text": [
        "Outputs (446, 5, 991, 128)\n",
        "Filter\n"
       ]
      },
      {
       "output_type": "stream",
       "stream": "stdout",
       "text": [
        "Filter\n"
       ]
      },
      {
       "output_type": "stream",
       "stream": "stdout",
       "text": [
        "Filter\n"
       ]
      },
      {
       "output_type": "stream",
       "stream": "stdout",
       "text": [
        "Filter\n"
       ]
      },
      {
       "output_type": "stream",
       "stream": "stdout",
       "text": [
        "Filter\n"
       ]
      },
      {
       "output_type": "stream",
       "stream": "stdout",
       "text": [
        "[array([398,   0, 157,  80]), array([399,   0,  11,  80]), array([ 25,   0, 212,  80]), array([ 24,   0, 358,  80]), array([359,   0, 270,  53]), array([358,   0, 416,  53]), array([  7,   0, 681,  53]), array([  6,   0, 827,  53]), array([291,   0, 630,  53]), array([290,   0, 776,  53]), array([126,   0, 398,  80]), array([127,   0, 252,  80]), array([230,   0, 221,  50]), array([231,   0,  75,  50]), array([191,   0, 529,  50]), array([190,   0, 675,  50]), array([  2,   0, 366,  53]), array([  3,   0, 220,  53]), array([ 19,   0, 371,  80]), array([ 18,   0, 517,  80]), array([337,   0, 949,  50]), array([  0,   0, 486,  53]), array([  1,   0, 340,  53]), array([ 83,   0, 611,  53]), array([ 82,   0, 757,  53]), array([ 91,   0, 895,  53]), array([84,  0, 61, 53]), array([  4,   0, 314,  53]), array([  5,   0, 168,  53]), array([ 21,   0, 908,  53]), array([ 85,   0, 841,  53]), array([  9,   0, 209,  53]), array([  8,   0, 355,  53]), array([110,   0, 960,   1]), array([111,   0, 814,   1]), array([ 20,   0, 654,  53]), array([ 89,   0, 625,  53]), array([ 88,   0, 771,  53]), array([327,   0, 960,  53]), array([86,  0, 73, 53]), array([ 90,   0, 877,  53]), array([14,  0, 15, 53]), array([13,  0, 44, 53]), array([ 12,   0, 190,  53]), array([ 10,   0, 299,  80]), array([ 11,   0, 153,  80]), array([99,  0, 60, 53]), array([ 98,   0, 206,  53]), array([328,   0, 100,  53]), array([ 23,   0, 472,  30]), array([ 22,   0, 618,  30]), array([251,   0,  36,  53]), array([250,   0, 182,  53]), array([ 17,   0, 605,  53]), array([ 16,   0, 751,  53]), array([394,   0, 887,  30]), array([395,   0, 741,  30]), array([248,   0, 134,  61]), array([ 15,   0, 224,  53]), array([207,   0, 946,  53]), array([ 81,   0, 732,  53]), array([ 80,   0, 878,  53]), array([414,   0, 182,  42]), array([415,   0,  36,  42]), array([357,   0, 267,  53]), array([356,   0, 413,  53]), array([ 74,   0, 102,   0]), array([87,  0, 15, 53]), array([345,   0, 878,  53]), array([427,   0, 360,  51]), array([426,   0, 506,  51]), array([206,   0, 144,  53]), array([347,   0, 642,  53]), array([346,   0, 788,  53]), array([155,   0, 175,  30]), array([154,   0, 321,  30]), array([361,   0, 117,  53]), array([360,   0, 263,  53]), array([ 68,   0, 735,   0]), array([ 69,   0, 589,   0]), array([329,   0,  66,  53]), array([354,   0,  23,  53]), array([355,   0, 356,  53]), array([350,   0,  90,  53]), array([218,   0,   5,  30]), array([115,   0,  69,  30]), array([114,   0, 215,  30]), array([268,   0, 754,  53]), array([269,   0, 608,  53]), array([249,   0, 295,  53]), array([431,   0, 325,  51]), array([430,   0, 471,  51]), array([384,   0, 264,  53]), array([385,   0, 118,  53]), array([438,   0, 126,  30]), array([349,   0, 866,  53]), array([208,   0, 864,  30]), array([209,   0, 718,  30]), array([ 75,   0, 616,   1]), array([242,   0, 773,   1]), array([358,   1, 411,  53]), array([359,   1, 265,  53]), array([290,   1, 734,  53]), array([291,   1, 588,  53]), array([399,   1,   6,  80]), array([398,   1, 152,  80]), array([ 25,   1, 207,  80]), array([ 24,   1, 353,  80]), array([ 82,   1, 827,  53]), array([ 83,   1, 681,  53]), array([111,   1, 909,   1]), array([337,   1, 891,  50]), array([231,   1,  72,  60]), array([230,   1, 218,  60]), array([  7,   1, 676,  53]), array([  6,   1, 822,  53]), array([  1,   1, 543,  53]), array([  0,   1, 689,  53]), array([  4,   1, 675,  53]), array([  5,   1, 529,  53]), array([ 2,  1,  0, 53]), array([  8,   1, 350,  53]), array([  9,   1, 204,  53]), array([84,  1, 56, 53]), array([190,   1, 672,  60]), array([191,   1, 526,  60]), array([415,   1,  18,  42]), array([414,   1, 164,  42]), array([327,   1, 956,  53]), array([ 21,   1, 903,  53]), array([ 88,   1, 766,  53]), array([ 89,   1, 620,  53]), array([ 20,   1, 757,  29]), array([ 23,   1, 914,  30]), array([248,   1, 129,  61]), array([ 90,   1, 612,  53]), array([ 91,   1, 466,  53]), array([14,  1, 10, 53]), array([  3,   1, 605,  53]), array([86,  1, 68, 53]), array([ 18,   1, 451,  53]), array([ 19,   1, 305,  53]), array([426,   1, 310,  40]), array([427,   1, 164,  40]), array([ 85,   1, 561,  53]), array([22,  1, 81, 30]), array([110,   1, 945,   1]), array([126,   1, 393,  80]), array([127,   1, 247,  80]), array([115,   1,  63,  29]), array([114,   1, 209,  29]), array([338,   1, 985, 100]), array([339,   1, 839, 100]), array([154,   1, 175,  30]), array([155,   1,  29,  30]), array([ 10,   1, 294,  80]), array([ 11,   1, 148,  80]), array([99,  1, 55, 53]), array([ 98,   1, 201,  53]), array([ 87,   1, 579,  53]), array([395,   1, 727,  30]), array([394,   1, 873,  30]), array([328,   1,  95,  53]), array([342,   1, 964, 100]), array([343,   1, 818, 100]), array([355,   1, 315, 100]), array([354,   1, 461, 100]), array([ 65,   1, 437,  22]), array([ 64,   1, 583,  22]), array([345,   1, 873,  53]), array([252,   1, 162,  53]), array([253,   1,  16,  53]), array([ 16,   1, 791,  53]), array([ 17,   1, 645,  53]), array([434,   1, 533,   1]), array([435,   1, 387,   1]), array([298,   1,   9,   1]), array([ 15,   1, 219,  53]), array([76,  1, 95,  1]), array([152,   1, 184,  30]), array([153,   1,  38,  30]), array([438,   1,  69,  30]), array([369,   1, 560,  30]), array([368,   1, 706,  30]), array([352,   1, 726, 100]), array([353,   1, 580, 100]), array([207,   1, 129,  53]), array([206,   1, 275,  53]), array([350,   1,  85,  53]), array([208,   1, 117,  30]), array([326,   1, 921,  53]), array([363,   1, 210,  30]), array([362,   1, 356,  30]), array([ 69,   1, 584,   0]), array([ 68,   1, 730,   0]), array([408,   1,  88,  30]), array([332,   1, 875, 100]), array([333,   1, 729, 100]), array([209,   1, 427,  30]), array([218,   1,  63,  30]), array([398,   2, 158,  80]), array([399,   2,  12,  80]), array([ 24,   2, 359,  80]), array([ 25,   2, 213,  80]), array([358,   2, 417,  53]), array([359,   2, 271,  53]), array([290,   2, 733,  53]), array([291,   2, 587,  53]), array([  7,   2, 682,  53]), array([  6,   2, 828,  53]), array([191,   2, 530,  50]), array([190,   2, 676,  50]), array([ 83,   2, 716,  53]), array([ 82,   2, 862,  53]), array([230,   2, 222,  50]), array([231,   2,  76,  50]), array([127,   2, 253,  80]), array([126,   2, 399,  80]), array([111,   2, 944,  22]), array([337,   2, 895,  60]), array([  2,   2, 804,  53]), array([  3,   2, 658,  53]), array([  0,   2, 590,  53]), array([  1,   2, 444,  53]), array([327,   2, 961,  53]), array([84,  2, 62, 53]), array([ 19,   2, 372,  80]), array([ 18,   2, 518,  80]), array([ 91,   2, 896,  53]), array([394,   2, 887,  29]), array([395,   2, 741,  29]), array([ 85,   2, 842,  53]), array([  5,   2, 156,  53]), array([  4,   2, 302,  53]), array([ 81,   2, 136,  53]), array([ 80,   2, 282,  53]), array([ 23,   2, 918,  29]), array([ 88,   2, 233,  53]), array([89,  2, 87, 53]), array([22,  2, 85, 29]), array([344,   2, 849,  53]), array([345,   2, 703,  53]), array([ 90,   2, 336,  53]), array([ 21,   2, 529,  29]), array([ 20,   2, 675,  29]), array([207,   2, 941,  53]), array([ 87,   2, 547,  53]), array([ 86,   2, 693,  53]), array([206,   2, 174,  53]), array([ 8,  2, 78, 53]), array([  9,   2, 326,  53]), array([329,   2,  35,  53]), array([328,   2, 181,  53]), array([154,   2,  37,  30]), array([414,   2, 159,  42]), array([415,   2,  13,  42]), array([250,   2, 676,  53]), array([251,   2, 530,  53]), array([ 10,   2, 122,  53]), array([ 12,   2, 191,  53]), array([13,  2, 45, 53]), array([11,  2, 35, 53]), array([ 64,   2, 583,  22]), array([ 65,   2, 437,  22]), array([ 74,   2, 103,   0]), array([155,   2, 176,  30]), array([ 14,   2, 126,  53]), array([110,   2, 961,   1]), array([356,   2, 893, 100]), array([357,   2, 747, 100]), array([351,   2, 841, 100]), array([350,   2, 987, 100]), array([114,   2, 257,  30]), array([115,   2, 111,  30]), array([438,   2, 127,  30]), array([ 72,   2, 250,   1]), array([ 73,   2, 104,   1]), array([349,   2, 940, 100]), array([426,   2, 738,  51]), array([427,   2, 592,  51]), array([ 98,   2, 207,  53]), array([99,  2, 61, 53]), array([248,   2, 128,  61]), array([336,   2, 922,  30]), array([218,   2,   6,  30]), array([16,  2, 45, 53]), array([202,   2, 572,   1]), array([203,   2, 426,   1]), array([ 15,   2, 442,  53]), array([205,   2, 377,  53]), array([204,   2, 523,  53]), array([352,   2,  40, 100]), array([ 63,   2, 786,   8]), array([ 62,   2, 932,   8]), array([ 75,   2, 617,   1]), array([338,   2, 735, 100]), array([339,   2, 589, 100]), array([219,   2,  59,  30]), array([354,   2, 601,  53]), array([355,   2, 455,  53]), array([398,   3, 155,  80]), array([399,   3,   9,  80]), array([ 25,   3, 210,  80]), array([ 24,   3, 356,  80]), array([358,   3, 595,  53]), array([359,   3, 449,  53]), array([290,   3, 733,  53]), array([291,   3, 587,  53]), array([  2,   3, 801,  53]), array([  3,   3, 655,  53]), array([  6,   3, 825,  53]), array([  7,   3, 679,  53]), array([190,   3, 673,  50]), array([191,   3, 527,  50]), array([ 82,   3, 859,  53]), array([ 83,   3, 713,  53]), array([ 18,   3, 515,  80]), array([ 19,   3, 369,  80]), array([231,   3,  73,  50]), array([230,   3, 219,  50]), array([ 91,   3, 893,  53]), array([126,   3, 396,  80]), array([127,   3, 250,  80]), array([  1,   3, 882,  53]), array([337,   3, 883,  50]), array([111,   3, 940,   1]), array([  0,   3, 362,  53]), array([  5,   3, 153,  53]), array([  4,   3, 299,  53]), array([327,   3, 958,  53]), array([ 90,   3, 333,  53]), array([ 84,   3, 985,  53]), array([ 85,   3, 839,  53]), array([395,   3, 739,  30]), array([394,   3, 885,  30]), array([289,   3, 765,  80]), array([288,   3, 911,  80]), array([ 20,   3, 652,  53]), array([ 21,   3, 506,  53]), array([ 80,   3, 279,  53]), array([ 81,   3, 133,  53]), array([ 8,  3, 75, 53]), array([357,   3, 162,  53]), array([356,   3, 308,  53]), array([16,  3, 42, 53]), array([345,   3, 876,  53]), array([207,   3, 944,  53]), array([ 17,   3, 603,  53]), array([13,  3, 42, 53]), array([ 12,   3, 188,  53]), array([283,   3, 866,  80]), array([  9,   3, 323,  53]), array([ 14,   3, 123,  53]), array([278,   3, 913,  80]), array([279,   3, 767,  80]), array([88,  3, 15, 53]), array([ 11,   3, 525,  53]), array([ 10,   3, 671,  53]), array([346,   3, 786,  53]), array([347,   3, 640,  53]), array([251,   3,  34,  53]), array([250,   3, 180,  53]), array([ 86,   3, 594,  53]), array([ 87,   3, 448,  53]), array([287,   3, 900,  80]), array([354,   3,  21,  53]), array([ 15,   3, 332,  53]), array([ 74,   3, 100,   0]), array([99,  3, 58, 53]), array([ 98,   3, 204,  53]), array([ 89,   3, 654,  53]), array([328,   3,  98,  53]), array([110,   3, 958,   1]), array([ 64,   3, 595,   1]), array([ 65,   3, 449,   1]), array([329,   3,  32,  53]), array([355,   3, 354,  53]), array([249,   3, 454,  53]), array([248,   3, 600,  53]), array([ 62,   3, 931,   1]), array([ 63,   3, 785,   1]), array([ 72,   3, 492,   1]), array([ 73,   3, 346,   1]), array([269,   3, 606,  53]), array([268,   3, 752,  53]), array([ 23,   3, 470,  30]), array([ 22,   3, 616,  30]), array([349,   3, 254,  53]), array([348,   3, 400,  53]), array([350,   3, 902,  53]), array([351,   3, 756,  53]), array([282,   3, 181,  53]), array([293,   3, 585,  80]), array([292,   3, 731,  80]), array([252,   3, 212,  53]), array([253,   3,  66,  53]), array([155,   3, 173,  30]), array([154,   3, 319,  30]), array([369,   3, 890,  53]), array([198,   3,  65,   1]), array([359,   4, 745,  53]), array([358,   4, 891,  53]), array([290,   4, 738,  53]), array([291,   4, 592,  53]), array([399,   4,  14,  80]), array([398,   4, 160,  80]), array([24,  4, 70, 80]), array([ 25,   4, 211,  80]), array([ 82,   4, 831,  53]), array([ 83,   4, 685,  53]), array([111,   4, 919,   1]), array([327,   4, 963,  53]), array([ 6,  4, 29, 53]), array([337,   4, 885,  50]), array([  1,   4, 221,  53]), array([  0,   4, 367,  53]), array([  7,   4, 680,  53]), array([230,   4, 222,  60]), array([231,   4,  76,  60]), array([  2,   4, 803,  53]), array([  3,   4, 657,  53]), array([248,   4, 133,  61]), array([127,   4, 255,  80]), array([126,   4, 401,  80]), array([345,   4, 877,  53]), array([ 89,   4, 624,  53]), array([ 88,   4, 770,  53]), array([110,   4, 959,   1]), array([115,   4,  67,  29]), array([114,   4, 213,  29]), array([392,   4,  31,   1]), array([  5,   4, 167,  53]), array([  4,   4, 313,  53]), array([84,  4, 60, 53]), array([ 23,   4, 918,  30]), array([87,  4, 14, 53]), array([ 86,   4, 160,  53]), array([190,   4, 678,  50]), array([191,   4, 532,  50]), array([ 18,   4, 514,  53]), array([ 19,   4, 368,  53]), array([ 81,   4, 169,  53]), array([ 80,   4, 315,  53]), array([427,   4, 511,  51]), array([426,   4, 657,  51]), array([ 21,   4, 907,  53]), array([206,   4,   8,  53]), array([414,   4, 138,  42]), array([ 85,   4, 403,  53]), array([354,   4, 465, 100]), array([355,   4, 319, 100]), array([ 22,   4, 973,  30]), array([  9,   4, 208,  53]), array([  8,   4, 354,  53]), array([ 10,   4, 293,  53]), array([ 11,   4, 147,  53]), array([329,   4,   8,  53]), array([328,   4, 154,  53]), array([415,   4,  35,  42]), array([ 90,   4, 246,  53]), array([ 91,   4, 100,  53]), array([14,  4, 14, 53]), array([ 15,   4, 223,  53]), array([343,   4, 822, 100]), array([342,   4, 968, 100]), array([ 72,   4, 967,   1]), array([ 73,   4, 821,   1]), array([ 20,   4, 121,  30]), array([ 16,   4, 795,  53]), array([ 17,   4, 649,  53]), array([154,   4, 362,  30]), array([155,   4, 216,  30]), array([76,  4, 99,  1]), array([344,   4, 692, 100]), array([348,   4,  44,  53]), array([207,   4, 318,  53]), array([253,   4,  20,  53]), array([252,   4, 166,  53]), array([369,   4, 892,  53]), array([394,   4, 965,  30]), array([395,   4, 819,  30]), array([350,   4, 151, 100]), array([351,   4,   5, 100]), array([ 64,   4, 464,   1]), array([ 65,   4, 318,   1]), array([200,   4,  69,   1]), array([201,   4, 580,   1]), array([249,   4, 456,  53]), array([408,   4, 847, 100]), array([409,   4, 701, 100]), array([298,   4,  13,   1]), array([250,   4, 206,  53]), array([251,   4,  60,  53]), array([360,   4,  82,  53]), array([199,   4, 849,   1]), array([203,   4,  32,   1]), array([202,   4, 178,   1]), array([192,   4, 828,   1]), array([193,   4, 682,   1]), array([338,   4, 989, 100])]\n",
        "max units\n",
        "[array([ 0,  1,  2,  3,  4,  5,  6,  7,  8,  9, 10, 11, 12, 13, 14, 15, 16,\n",
        "       17, 18, 19, 20, 21, 22, 23, 24]), array([25, 26, 27, 28, 29, 30, 31, 32, 33, 34, 35, 36, 37, 38, 39, 40, 41,\n",
        "       42, 43, 44, 45, 46, 47, 48, 49]), array([50, 51, 52, 53, 54, 55, 56, 57, 58, 59, 60, 61, 62, 63, 64, 65, 66,\n",
        "       67, 68, 69, 70, 71, 72, 73, 74]), array([75, 76, 77, 78, 79, 80, 81, 82, 83, 84, 85, 86, 87, 88, 89, 90, 91,\n",
        "       92, 93, 94, 95, 96, 97, 98, 99]), array([100, 101, 102, 103, 104, 105, 106, 107, 108, 109, 110, 111, 112,\n",
        "       113, 114, 115, 116, 117, 118, 119, 120, 121, 122, 123, 124]), array([125, 126, 127, 128, 129, 130, 131, 132, 133, 134, 135, 136, 137,\n",
        "       138, 139, 140, 141, 142, 143, 144, 145, 146, 147, 148, 149]), array([150, 151, 152, 153, 154, 155, 156, 157, 158, 159, 160, 161, 162,\n",
        "       163, 164, 165, 166, 167, 168, 169, 170, 171, 172, 173, 174]), array([175, 176, 177, 178, 179, 180, 181, 182, 183, 184, 185, 186, 187,\n",
        "       188, 189, 190, 191, 192, 193, 194, 195, 196, 197, 198, 199]), array([200, 201, 202, 203, 204, 205, 206, 207, 208, 209, 210, 211, 212,\n",
        "       213, 214, 215, 216, 217, 218, 219, 220, 221, 222, 223, 224]), array([225, 226, 227, 228, 229, 230, 231, 232, 233, 234, 235, 236, 237,\n",
        "       238, 239, 240, 241, 242, 243, 244, 245, 246, 247, 248, 249]), array([250, 251, 252, 253, 254, 255, 256, 257, 258, 259, 260, 261, 262,\n",
        "       263, 264, 265, 266, 267, 268, 269, 270, 271, 272, 273, 274]), array([275, 276, 277, 278, 279, 280, 281, 282, 283, 284, 285, 286, 287,\n",
        "       288, 289, 290, 291, 292, 293, 294, 295, 296, 297, 298, 299]), array([300, 301, 302, 303, 304, 305, 306, 307, 308, 309, 310, 311, 312,\n",
        "       313, 314, 315, 316, 317, 318, 319, 320, 321, 322, 323, 324]), array([325, 326, 327, 328, 329, 330, 331, 332, 333, 334, 335, 336, 337,\n",
        "       338, 339, 340, 341, 342, 343, 344, 345, 346, 347, 348, 349]), array([350, 351, 352, 353, 354, 355, 356, 357, 358, 359, 360, 361, 362,\n",
        "       363, 364, 365, 366, 367, 368, 369, 370, 371, 372, 373, 374]), array([375, 376, 377, 378, 379, 380, 381, 382, 383, 384, 385, 386, 387,\n",
        "       388, 389, 390, 391, 392, 393, 394, 395, 396, 397, 398, 399]), array([400, 401, 402, 403, 404, 405, 406, 407, 408, 409, 410, 411, 412,\n",
        "       413, 414, 415, 416, 417, 418, 419, 420, 421, 422, 423, 424]), array([425, 426, 427, 428, 429, 430, 431, 432, 433, 434, 435, 436, 437,\n",
        "       438, 439, 440, 441, 442, 443, 444, 445, 446, 447, 448, 449]), array([450, 451, 452, 453, 454, 455, 456, 457, 458, 459, 460, 461, 462,\n",
        "       463, 464, 465, 466, 467, 468, 469, 470, 471, 472, 473, 474]), array([475, 476, 477, 478, 479, 480, 481, 482, 483, 484, 485, 486, 487,\n",
        "       488, 489, 490, 491, 492, 493, 494, 495, 496, 497, 498, 499])]\n",
        "Batch\n"
       ]
      },
      {
       "output_type": "stream",
       "stream": "stdout",
       "text": [
        "Batch\n"
       ]
      },
      {
       "output_type": "stream",
       "stream": "stdout",
       "text": [
        "Batch\n",
        "Batch\n"
       ]
      },
      {
       "output_type": "stream",
       "stream": "stdout",
       "text": [
        "Batch\n",
        "Batch\n"
       ]
      },
      {
       "output_type": "stream",
       "stream": "stdout",
       "text": [
        "Batch\n",
        "Batch\n"
       ]
      },
      {
       "output_type": "stream",
       "stream": "stdout",
       "text": [
        "Batch\n"
       ]
      },
      {
       "output_type": "stream",
       "stream": "stdout",
       "text": [
        "Batch\n",
        "Batch\n"
       ]
      },
      {
       "output_type": "stream",
       "stream": "stdout",
       "text": [
        "Batch\n"
       ]
      },
      {
       "output_type": "stream",
       "stream": "stdout",
       "text": [
        "Batch\n"
       ]
      },
      {
       "output_type": "stream",
       "stream": "stdout",
       "text": [
        "Batch\n"
       ]
      },
      {
       "output_type": "stream",
       "stream": "stdout",
       "text": [
        "Batch\n"
       ]
      },
      {
       "output_type": "stream",
       "stream": "stdout",
       "text": [
        "Batch\n"
       ]
      },
      {
       "output_type": "stream",
       "stream": "stdout",
       "text": [
        "Batch\n"
       ]
      },
      {
       "output_type": "stream",
       "stream": "stdout",
       "text": [
        "Batch\n"
       ]
      },
      {
       "output_type": "stream",
       "stream": "stdout",
       "text": [
        "Batch\n"
       ]
      },
      {
       "output_type": "stream",
       "stream": "stdout",
       "text": [
        "Batch\n"
       ]
      },
      {
       "output_type": "stream",
       "stream": "stdout",
       "text": [
        "Outputs (448, 5, 991, 128)\n",
        "Filter\n"
       ]
      },
      {
       "output_type": "stream",
       "stream": "stdout",
       "text": [
        "Filter\n"
       ]
      },
      {
       "output_type": "stream",
       "stream": "stdout",
       "text": [
        "Filter\n"
       ]
      },
      {
       "output_type": "stream",
       "stream": "stdout",
       "text": [
        "Filter\n"
       ]
      },
      {
       "output_type": "stream",
       "stream": "stdout",
       "text": [
        "Filter\n"
       ]
      },
      {
       "output_type": "stream",
       "stream": "stdout",
       "text": [
        "[array([71,  0, 11, 14]), array([ 70,   0, 157,  14]), array([328,   0, 526,  53]), array([329,   0, 380,  53]), array([19,  0, 29, 50]), array([ 18,   0, 175,  50]), array([  8,   0, 735,  53]), array([  9,   0, 589,  53]), array([ 69,   0, 886,  80]), array([236,   0, 445,  22]), array([237,   0, 299,  22]), array([  2,   0, 134,  53]), array([  1,   0, 105,  53]), array([  0,   0, 251,  53]), array([  4,   0, 177,  53]), array([ 5,  0, 31, 53]), array([90,  0, 24, 53]), array([166,   0, 487,  62]), array([167,   0, 341,  62]), array([142,   0, 362,  50]), array([143,   0, 216,  50]), array([369,   0, 951,  53]), array([91,  0, 63, 53]), array([ 85,   0, 933,  53]), array([ 27,   0, 545,  30]), array([ 26,   0, 691,  30]), array([ 89,   0, 275,  53]), array([ 88,   0, 421,  53]), array([  6,   0, 196,  53]), array([ 7,  0, 50, 53]), array([153,   0, 513,  53]), array([152,   0, 659,  53]), array([  3,   0, 243,  53]), array([ 14,   0, 922,  53]), array([ 15,   0, 776,  53]), array([ 84,   0, 929,  53]), array([242,   0, 132,   0]), array([ 11,   0, 604,  53]), array([ 10,   0, 750,  53]), array([ 41,   0, 906,  30]), array([230,   0,  88,  30]), array([435,   0, 602,  80]), array([434,   0, 748,  80]), array([115,   0, 956,  30]), array([ 20,   0, 269,  53]), array([ 21,   0, 123,  53]), array([ 87,   0, 855,  53]), array([ 13,   0, 878,  53]), array([251,   0, 425,  53]), array([250,   0, 571,  53]), array([ 23,   0, 889,  53]), array([ 12,   0, 948,  53]), array([ 22,   0, 738,  53]), array([108,   0,  99,  80]), array([253,   0, 211,  53]), array([252,   0, 357,  53]), array([348,   0,  41,  53]), array([ 16,   0, 140,  53]), array([156,   0,  49,  51]), array([ 17,   0, 168,  53]), array([ 24,   0, 130,  53]), array([331,   0, 779,  53]), array([330,   0, 925,  53]), array([103,   0,  25,  30]), array([102,   0, 171,  30]), array([210,   0, 724,  30]), array([211,   0, 578,  30]), array([352,   0, 960,  53]), array([353,   0, 814,  53]), array([ 77,   0, 769,  22]), array([ 76,   0, 915,  22]), array([248,   0, 104,  53]), array([131,   0, 626,  30]), array([130,   0, 772,  30]), array([363,   0, 136,  53]), array([362,   0, 282,  53]), array([231,   0, 167,  30]), array([389,   0, 477,  53]), array([388,   0, 623,  53]), array([243,   0, 192,   1]), array([ 79,   0, 886,   9]), array([410,   0, 299,  30]), array([411,   0, 153,  30]), array([157,   0, 167,  30]), array([78,  0, 85,  1]), array([266,   0,  62,  53]), array([349,   0, 819,  53]), array([106,   0, 966,   1]), array([107,   0, 820,   1]), array([356,   0, 138,  53]), array([360,   0, 434,  53]), array([361,   0, 288,  53]), array([ 74,   0, 103,   0]), array([219,   0, 900,  80]), array([430,   0, 156,  51]), array([431,   0,  10,  51]), array([132,   0,  68,  53]), array([ 83,   0, 525,  53]), array([ 82,   0, 671,  53]), array([189,   0, 239,  80]), array([71,  1,  6, 14]), array([ 70,   1, 152,  14]), array([328,   1, 529,  53]), array([329,   1, 383,  53]), array([166,   1, 488,  62]), array([167,   1, 342,  62]), array([236,   1, 440,  22]), array([237,   1, 294,  22]), array([19,  1, 24, 50]), array([ 18,   1, 170,  50]), array([  9,   1, 584,  53]), array([  8,   1, 730,  53]), array([  2,   1, 129,  53]), array([142,   1, 357,  50]), array([143,   1, 211,  50]), array([ 69,   1, 884,  80]), array([  0,   1, 246,  53]), array([  1,   1, 100,  53]), array([  7,   1, 918,  53]), array([230,   1, 135,  30]), array([152,   1, 636,  53]), array([153,   1, 490,  53]), array([435,   1, 598,  80]), array([434,   1, 744,  80]), array([ 5,  1, 26, 53]), array([  4,   1, 172,  53]), array([ 20,   1, 619,  30]), array([ 21,   1, 473,  30]), array([115,   1, 953,  29]), array([ 41,   1, 901,  30]), array([411,   1, 156,  30]), array([410,   1, 302,  30]), array([ 85,   1, 621,  53]), array([ 84,   1, 767,  53]), array([  6,   1, 152,  53]), array([156,   1, 310,  29]), array([157,   1, 164,  29]), array([111,   1, 244,   1]), array([110,   1, 390,   1]), array([108,   1, 117,  53]), array([  3,   1, 649,  30]), array([217,   1, 416,  30]), array([216,   1, 562,  30]), array([90,  1, 19, 53]), array([343,   1,  39, 100]), array([342,   1, 185, 100]), array([348,   1, 841, 100]), array([349,   1, 695, 100]), array([ 91,   1, 112,  53]), array([131,   1, 568,  30]), array([130,   1, 714,  30]), array([251,   1, 886,  53]), array([ 23,   1, 472,  53]), array([ 22,   1, 618,  53]), array([211,   1, 585,  29]), array([210,   1, 731,  29]), array([231,   1,  13,  30]), array([10,  1, 17, 53]), array([137,   1, 423,  30]), array([136,   1, 569,  30]), array([242,   1, 127,   0]), array([ 76,   1, 910,  22]), array([ 77,   1, 764,  22]), array([ 86,   1, 353,  53]), array([ 87,   1, 207,  53]), array([ 44,   1, 806,  30]), array([ 45,   1, 660,  30]), array([ 27,   1, 542,  29]), array([ 26,   1, 688,  29]), array([248,   1,  99,  53]), array([369,   1, 946,  53]), array([340,   1, 103, 100]), array([252,   1, 231,  53]), array([253,   1,  85,  53]), array([338,   1,  28, 100]), array([ 11,   1, 123,  53]), array([350,   1,  84,  53]), array([ 88,   1, 416,  53]), array([ 89,   1, 270,  53]), array([ 12,   1, 232,  53]), array([13,  1, 86, 53]), array([106,   1, 927,   1]), array([107,   1, 781,   1]), array([336,   1,  61, 100]), array([346,   1, 343, 100]), array([347,   1, 197, 100]), array([339,   1, 794, 100]), array([431,   1, 212,  51]), array([430,   1, 358,  51]), array([ 16,   1, 702,  53]), array([ 17,   1, 556,  53]), array([358,   1,  93,  53]), array([219,   1, 887,  80]), array([ 25,   1, 898,  30]), array([ 68,   1, 711,   1]), array([218,   1, 207,  30]), array([ 15,   1, 454,  53]), array([ 14,   1, 600,  53]), array([357,   1, 955,  53]), array([ 24,   1, 241,  53]), array([ 70,   2, 139,  14]), array([71,  2, 12, 14]), array([329,   2, 381,  53]), array([328,   2, 527,  53]), array([166,   2, 488,  62]), array([167,   2, 342,  62]), array([  0,   2, 252,  53]), array([  1,   2, 106,  53]), array([19,  2, 49, 14]), array([ 18,   2, 195,  14]), array([ 69,   2, 884,  80]), array([115,   2, 973,  30]), array([  8,   2, 736,  53]), array([  9,   2, 590,  53]), array([369,   2, 952,  53]), array([  6,   2, 197,  53]), array([ 7,  2, 51, 53]), array([153,   2, 493,  53]), array([152,   2, 639,  53]), array([434,   2, 749,  80]), array([435,   2, 603,  80]), array([ 85,   2, 934,  53]), array([142,   2, 361,  60]), array([143,   2, 215,  60]), array([ 26,   2, 692,  30]), array([ 27,   2, 546,  30]), array([  3,   2, 652,  53]), array([  2,   2, 798,  53]), array([231,   2,  18,  30]), array([230,   2, 164,  30]), array([ 90,   2, 210,  53]), array([91,  2, 64, 53]), array([ 5,  2, 14, 53]), array([  4,   2, 160,  53]), array([242,   2, 133,   0]), array([130,   2, 773,  30]), array([131,   2, 627,  30]), array([ 84,   2, 772,  53]), array([237,   2, 300,  22]), array([236,   2, 446,  22]), array([250,   2, 572,  53]), array([251,   2, 426,  53]), array([ 41,   2, 907,  30]), array([ 11,   2, 986,  53]), array([ 74,   2, 181,   0]), array([75,  2, 35,  0]), array([253,   2, 212,  53]), array([252,   2, 358,  53]), array([ 14,   2, 923,  53]), array([ 15,   2, 777,  53]), array([ 20,   2, 668,  30]), array([ 21,   2, 522,  30]), array([ 87,   2, 856,  53]), array([ 23,   2, 638,  53]), array([ 22,   2, 784,  53]), array([157,   2, 168,  30]), array([156,   2, 314,  30]), array([334,   2, 815, 100]), array([335,   2, 669, 100]), array([ 16,   2, 141,  53]), array([430,   2, 157,  51]), array([431,   2,  11,  51]), array([ 10,   2, 751,  53]), array([210,   2, 787,  29]), array([211,   2, 641,  29]), array([ 12,   2, 251,  53]), array([ 13,   2, 105,  53]), array([217,   2, 203,  30]), array([216,   2, 349,  30]), array([ 89,   2, 276,  53]), array([ 88,   2, 422,  53]), array([ 79,   2, 887,   9]), array([409,   2, 688,  30]), array([408,   2, 834,  30]), array([ 17,   2, 169,  53]), array([349,   2, 820,  53]), array([348,   2, 966,  53]), array([243,   2, 193,   1]), array([219,   2, 901,  80]), array([330,   2, 926,  53]), array([331,   2, 780,  53]), array([108,   2, 123,  53]), array([341,   2, 496, 100]), array([340,   2, 642, 100]), array([352,   2, 961,  53]), array([353,   2, 815,  53]), array([ 24,   2, 131,  53]), array([ 64,   2, 763,   1]), array([ 65,   2, 617,   1]), array([342,   2,   1, 100]), array([343,   2, 924, 100]), array([410,   2,   6,  29]), array([248,   2, 105,  53]), array([106,   2, 967,   1]), array([107,   2, 821,   1]), array([ 78,   2, 656,  22]), array([255,   2,  58,  53]), array([254,   2, 204,  53]), array([428,   2, 762,  51]), array([429,   2, 616,  51]), array([ 70,   3, 139,  14]), array([71,  3, 12, 14]), array([328,   3, 531,  53]), array([329,   3, 385,  53]), array([  8,   3, 733,  53]), array([  9,   3, 587,  53]), array([115,   3, 973,  30]), array([  1,   3, 103,  53]), array([  0,   3, 249,  53]), array([166,   3, 482,  62]), array([167,   3, 336,  62]), array([ 85,   3, 784,  53]), array([ 84,   3, 930,  53]), array([ 69,   3, 887,  80]), array([  2,   3, 390,  53]), array([  3,   3, 244,  53]), array([ 18,   3, 158,  50]), array([19,  3, 12, 50]), array([91,  3, 61, 53]), array([ 90,   3, 207,  53]), array([434,   3, 746,  80]), array([435,   3, 600,  80]), array([  5,   3, 215,  53]), array([  4,   3, 361,  53]), array([153,   3, 514,  53]), array([152,   3, 660,  53]), array([369,   3, 949,  53]), array([  6,   3, 194,  53]), array([ 7,  3, 48, 53]), array([ 15,   3, 590,  53]), array([ 14,   3, 736,  53]), array([237,   3, 297,  22]), array([236,   3, 443,  22]), array([290,   3, 298,  80]), array([291,   3, 152,  80]), array([ 11,   3, 983,  53]), array([ 26,   3, 692,  30]), array([ 27,   3, 546,  30]), array([280,   3, 751,  80]), array([281,   3, 605,  80]), array([ 21,   3, 121,  53]), array([ 20,   3, 267,  53]), array([251,   3, 423,  53]), array([250,   3, 569,  53]), array([108,   3, 101,  80]), array([142,   3, 360,  50]), array([143,   3, 214,  50]), array([ 17,   3, 166,  53]), array([ 16,   3, 312,  53]), array([243,   3, 193,   1]), array([242,   3, 339,   1]), array([297,   3, 113,  80]), array([296,   3, 259,  80]), array([ 13,   3, 183,  53]), array([ 12,   3, 329,  53]), array([ 89,   3, 273,  53]), array([ 88,   3, 419,  53]), array([ 10,   3, 748,  53]), array([163,   3, 429,  75]), array([162,   3, 575,  75]), array([ 87,   3, 870,  53]), array([248,   3, 655,  80]), array([249,   3, 509,  80]), array([ 23,   3, 590,  53]), array([ 22,   3, 736,  53]), array([430,   3, 154,  51]), array([431,   3,   8,  51]), array([ 68,   3, 713,   1]), array([ 24,   3, 128,  53]), array([282,   3, 337,  80]), array([283,   3, 191,  80]), array([253,   3,  87,  53]), array([252,   3, 233,  53]), array([356,   3, 136,  53]), array([ 82,   3, 486,  53]), array([ 83,   3, 340,  53]), array([274,   3, 452,  80]), array([275,   3, 306,  80]), array([330,   3, 923,  53]), array([331,   3, 777,  53]), array([230,   3, 161,  30]), array([231,   3,  15,  30]), array([348,   3,  39,  53]), array([258,   3, 587,  80]), array([259,   3, 441,  80]), array([288,   3, 549,  80]), array([289,   3, 403,  80]), array([203,   3,  32,  89]), array([202,   3, 178,  89]), array([293,   3, 919,  80]), array([362,   3, 982,  53]), array([363,   3, 836,  53]), array([285,   3, 295,  80]), array([284,   3, 441,  80]), array([130,   3, 810,  30]), array([131,   3, 664,  30]), array([353,   3, 812,  53]), array([352,   3, 958,  53]), array([349,   3, 817,  53]), array([254,   3, 201,  53]), array([ 70,   4, 138,  14]), array([71,  4, 11, 14]), array([328,   4, 530,  53]), array([329,   4, 384,  53]), array([ 69,   4, 886,  80]), array([  2,   4, 389,  53]), array([  3,   4, 243,  53]), array([167,   4, 338,  62]), array([166,   4, 484,  62]), array([434,   4, 748,  80]), array([435,   4, 602,  80]), array([ 1,  4, 34, 53]), array([  0,   4, 180,  53]), array([  8,   4, 313,  53]), array([  9,   4, 167,  53]), array([  5,   4, 410,  53]), array([  4,   4, 556,  53]), array([291,   4, 151,  80]), array([290,   4, 297,  80]), array([108,   4,  99,  80]), array([293,   4, 918,  80]), array([162,   4, 574,  75]), array([163,   4, 428,  75]), array([280,   4, 750,  80]), array([281,   4, 604,  80]), array([237,   4, 298,  22]), array([236,   4, 444,  22]), array([  6,   4, 196,  53]), array([ 7,  4, 50, 53]), array([297,   4, 112,  80]), array([296,   4, 258,  80]), array([ 84,   4, 912,  53]), array([ 85,   4, 766,  53]), array([ 18,   4, 175,  50]), array([19,  4, 29, 50]), array([ 82,   4, 484,  53]), array([ 83,   4, 338,  53]), array([275,   4, 305,  80]), array([274,   4, 451,  80]), array([288,   4, 548,  80]), array([289,   4, 402,  80]), array([282,   4, 336,  80]), array([283,   4, 190,  80]), array([369,   4, 951,  53]), array([ 24,   4, 130,  53]), array([ 27,   4, 545,  30]), array([ 26,   4, 691,  30]), array([90,  4, 24, 53]), array([ 15,   4, 592,  53]), array([ 14,   4, 738,  53]), array([115,   4, 972,  30]), array([152,   4, 638,  53]), array([153,   4, 492,  53]), array([249,   4, 507,  80]), array([248,   4, 653,  80]), array([254,   4, 273,  80]), array([255,   4, 127,  80]), array([ 86,   4, 788,  53]), array([ 87,   4, 642,  53]), array([284,   4, 440,  80]), array([285,   4, 294,  80]), array([294,   4, 870,  80]), array([295,   4, 724,  80]), array([ 10,   4, 835,  53]), array([ 11,   4, 689,  53]), array([253,   4, 374,  80]), array([252,   4, 520,  80]), array([ 89,   4, 275,  53]), array([ 88,   4, 421,  53]), array([ 12,   4, 948,  53]), array([ 13,   4, 802,  53]), array([91,  4, 63, 53]), array([258,   4, 586,  80]), array([259,   4, 440,  80]), array([78,  4, 85,  1]), array([440,   4,  67,   0]), array([ 16,   4, 126,  53]), array([ 21,   4, 123,  53]), array([ 20,   4, 269,  53]), array([348,   4,  25,  53]), array([ 41,   4, 893,  30]), array([ 17,   4, 168,  53]), array([324,   4, 868,   0]), array([325,   4, 722,   0]), array([230,   4, 129,  30]), array([271,   4, 442,  53]), array([270,   4, 588,  53]), array([ 68,   4, 712,   1]), array([ 22,   4, 985,  53]), array([ 23,   4, 839,  53]), array([ 79,   4, 419,   1]), array([250,   4, 571,  53]), array([251,   4, 425,  53]), array([363,   4, 438,  53]), array([362,   4, 584,  53]), array([430,   4, 352,  51]), array([431,   4, 206,  51]), array([ 74,   4, 615,   1]), array([ 75,   4, 469,   1]), array([202,   4, 180,  89])]\n",
        "max units\n",
        "[array([ 0,  1,  2,  3,  4,  5,  6,  7,  8,  9, 10, 11, 12, 13, 14, 15, 16,\n",
        "       17, 18, 19, 20, 21, 22, 23, 24]), array([25, 26, 27, 28, 29, 30, 31, 32, 33, 34, 35, 36, 37, 38, 39, 40, 41,\n",
        "       42, 43, 44, 45, 46, 47, 48, 49]), array([50, 51, 52, 53, 54, 55, 56, 57, 58, 59, 60, 61, 62, 63, 64, 65, 66,\n",
        "       67, 68, 69, 70, 71, 72, 73, 74]), array([75, 76, 77, 78, 79, 80, 81, 82, 83, 84, 85, 86, 87, 88, 89, 90, 91,\n",
        "       92, 93, 94, 95, 96, 97, 98, 99]), array([100, 101, 102, 103, 104, 105, 106, 107, 108, 109, 110, 111, 112,\n",
        "       113, 114, 115, 116, 117, 118, 119, 120, 121, 122, 123, 124]), array([125, 126, 127, 128, 129, 130, 131, 132, 133, 134, 135, 136, 137,\n",
        "       138, 139, 140, 141, 142, 143, 144, 145, 146, 147, 148, 149]), array([150, 151, 152, 153, 154, 155, 156, 157, 158, 159, 160, 161, 162,\n",
        "       163, 164, 165, 166, 167, 168, 169, 170, 171, 172, 173, 174]), array([175, 176, 177, 178, 179, 180, 181, 182, 183, 184, 185, 186, 187,\n",
        "       188, 189, 190, 191, 192, 193, 194, 195, 196, 197, 198, 199]), array([200, 201, 202, 203, 204, 205, 206, 207, 208, 209, 210, 211, 212,\n",
        "       213, 214, 215, 216, 217, 218, 219, 220, 221, 222, 223, 224]), array([225, 226, 227, 228, 229, 230, 231, 232, 233, 234, 235, 236, 237,\n",
        "       238, 239, 240, 241, 242, 243, 244, 245, 246, 247, 248, 249]), array([250, 251, 252, 253, 254, 255, 256, 257, 258, 259, 260, 261, 262,\n",
        "       263, 264, 265, 266, 267, 268, 269, 270, 271, 272, 273, 274]), array([275, 276, 277, 278, 279, 280, 281, 282, 283, 284, 285, 286, 287,\n",
        "       288, 289, 290, 291, 292, 293, 294, 295, 296, 297, 298, 299]), array([300, 301, 302, 303, 304, 305, 306, 307, 308, 309, 310, 311, 312,\n",
        "       313, 314, 315, 316, 317, 318, 319, 320, 321, 322, 323, 324]), array([325, 326, 327, 328, 329, 330, 331, 332, 333, 334, 335, 336, 337,\n",
        "       338, 339, 340, 341, 342, 343, 344, 345, 346, 347, 348, 349]), array([350, 351, 352, 353, 354, 355, 356, 357, 358, 359, 360, 361, 362,\n",
        "       363, 364, 365, 366, 367, 368, 369, 370, 371, 372, 373, 374]), array([375, 376, 377, 378, 379, 380, 381, 382, 383, 384, 385, 386, 387,\n",
        "       388, 389, 390, 391, 392, 393, 394, 395, 396, 397, 398, 399]), array([400, 401, 402, 403, 404, 405, 406, 407, 408, 409, 410, 411, 412,\n",
        "       413, 414, 415, 416, 417, 418, 419, 420, 421, 422, 423, 424]), array([425, 426, 427, 428, 429, 430, 431, 432, 433, 434, 435, 436, 437,\n",
        "       438, 439, 440, 441, 442, 443, 444, 445, 446, 447, 448, 449]), array([450, 451, 452, 453, 454, 455, 456, 457, 458, 459, 460, 461, 462,\n",
        "       463, 464, 465, 466, 467, 468, 469, 470, 471, 472, 473, 474]), array([475, 476, 477, 478, 479, 480, 481, 482, 483, 484, 485, 486, 487,\n",
        "       488, 489, 490, 491, 492, 493, 494, 495, 496, 497, 498, 499])]\n",
        "Batch\n"
       ]
      },
      {
       "output_type": "stream",
       "stream": "stdout",
       "text": [
        "Batch\n",
        "Batch\n"
       ]
      },
      {
       "output_type": "stream",
       "stream": "stdout",
       "text": [
        "Batch\n",
        "Batch\n"
       ]
      },
      {
       "output_type": "stream",
       "stream": "stdout",
       "text": [
        "Batch\n",
        "Batch\n"
       ]
      },
      {
       "output_type": "stream",
       "stream": "stdout",
       "text": [
        "Batch\n",
        "Batch\n"
       ]
      },
      {
       "output_type": "stream",
       "stream": "stdout",
       "text": [
        "Batch\n",
        "Batch\n"
       ]
      },
      {
       "output_type": "stream",
       "stream": "stdout",
       "text": [
        "Batch\n"
       ]
      },
      {
       "output_type": "stream",
       "stream": "stdout",
       "text": [
        "Batch\n"
       ]
      },
      {
       "output_type": "stream",
       "stream": "stdout",
       "text": [
        "Batch\n"
       ]
      },
      {
       "output_type": "stream",
       "stream": "stdout",
       "text": [
        "Batch\n"
       ]
      },
      {
       "output_type": "stream",
       "stream": "stdout",
       "text": [
        "Batch\n"
       ]
      },
      {
       "output_type": "stream",
       "stream": "stdout",
       "text": [
        "Batch\n"
       ]
      },
      {
       "output_type": "stream",
       "stream": "stdout",
       "text": [
        "Batch\n"
       ]
      },
      {
       "output_type": "stream",
       "stream": "stdout",
       "text": [
        "Batch\n"
       ]
      },
      {
       "output_type": "stream",
       "stream": "stdout",
       "text": [
        "Batch\n"
       ]
      },
      {
       "output_type": "stream",
       "stream": "stdout",
       "text": [
        "Outputs (448, 5, 991, 1)\n",
        "Filter\n",
        "Filter\n"
       ]
      },
      {
       "output_type": "stream",
       "stream": "stdout",
       "text": [
        "Filter\n",
        "Filter\n"
       ]
      },
      {
       "output_type": "stream",
       "stream": "stdout",
       "text": [
        "Filter\n",
        "[array([229,   0, 578,   0]), array([228,   0, 724,   0]), array([434,   0,  38,   0]), array([ 54,   0, 708,   0]), array([ 55,   0, 562,   0]), array([152,   0,  22,   0]), array([435,   0,  95,   0]), array([356,   0,  55,   0]), array([  1,   0, 841,   0]), array([  0,   0, 987,   0]), array([ 23,   0, 860,   0]), array([344,   0, 402,   0]), array([345,   0, 256,   0]), array([312,   0, 671,   0]), array([313,   0, 525,   0]), array([380,   0, 721,   0]), array([381,   0, 575,   0]), array([252,   0, 197,   0]), array([253,   0,  51,   0]), array([403,   0, 711,   0]), array([402,   0, 857,   0]), array([360,   0,  87,   0]), array([429,   0, 556,   0]), array([428,   0, 702,   0]), array([386,   0, 937,   0]), array([387,   0, 791,   0]), array([ 22,   0, 623,   0]), array([254,   0,  56,   0]), array([419,   0, 381,   0]), array([418,   0, 527,   0]), array([102,   0, 954,   0]), array([103,   0, 808,   0]), array([210,   0, 790,   0]), array([211,   0, 644,   0]), array([258,   0, 687,   0]), array([259,   0, 541,   0]), array([446,   0,  18,   0]), array([385,   0, 708,   0]), array([384,   0, 854,   0]), array([ 10,   0, 100,   0]), array([340,   0, 830,   0]), array([341,   0, 684,   0]), array([411,   0,  14,   0]), array([410,   0, 160,   0]), array([ 20,   0, 715,   0]), array([ 21,   0, 569,   0]), array([332,   0,  22,   0]), array([110,   0, 699,   0]), array([111,   0, 553,   0]), array([163,   0, 807,   0]), array([162,   0, 953,   0]), array([199,   0, 377,   0]), array([198,   0, 523,   0]), array([233,   0,  54,   0]), array([232,   0, 200,   0]), array([175,   0,  65,   0]), array([174,   0, 211,   0]), array([128,   0, 120,   0]), array([ 12,   0, 985,   0]), array([ 13,   0, 839,   0]), array([  3,   0, 723,   0]), array([  2,   0, 869,   0]), array([351,   0, 715,   0]), array([350,   0, 861,   0]), array([ 19,   0, 920,   0]), array([439,   0, 191,   0]), array([438,   0, 337,   0]), array([357,   0, 723,   0]), array([153,   0, 383,   0]), array([255,   0, 112,   0]), array([  6,   0, 696,   0]), array([  7,   0, 550,   0]), array([50,  0, 48,  0]), array([268,   0,  58,   0]), array([323,   0, 910,   0]), array([ 90,   0, 262,   0]), array([ 91,   0, 116,   0]), array([406,   0, 655,   0]), array([407,   0, 509,   0]), array([ 88,   0, 210,   0]), array([89,  0, 64,  0]), array([  9,   0, 273,   0]), array([  8,   0, 419,   0]), array([361,   0,  59,   0]), array([416,   0, 152,   0]), array([417,   0,   6,   0]), array([ 35,   0, 323,   0]), array([ 34,   0, 469,   0]), array([52,  0, 88,  0]), array([ 95,   0, 936,   0]), array([368,   0,  70,   0]), array([426,   0,  40,   0]), array([365,   0, 119,   0]), array([364,   0, 265,   0]), array([443,   0, 736,   0]), array([442,   0, 882,   0]), array([355,   0, 926,   0]), array([264,   0, 258,   0]), array([265,   0, 112,   0]), array([284,   0, 122,   0]), array([229,   1,   3,   0]), array([228,   1, 149,   0]), array([434,   1,  75,   0]), array([435,   1,   1,   0]), array([254,   1, 133,   0]), array([405,   1,  20,   0]), array([404,   1, 166,   0]), array([258,   1, 748,   0]), array([259,   1, 602,   0]), array([167,   1, 658,   0]), array([166,   1, 804,   0]), array([102,   1, 952,   0]), array([103,   1, 806,   0]), array([408,   1,  46,   0]), array([384,   1, 156,   0]), array([385,   1,  10,   0]), array([430,   1,  82,   0]), array([400,   1, 848,   0]), array([401,   1, 702,   0]), array([ 18,   1, 936,   0]), array([ 19,   1, 790,   0]), array([314,   1, 841,   0]), array([315,   1, 695,   0]), array([446,   1, 142,   0]), array([ 96,   1, 115,   0]), array([158,   1, 813,   0]), array([159,   1, 667,   0]), array([163,   1, 799,   0]), array([162,   1, 945,   0]), array([348,   1, 114,   0]), array([ 20,   1, 120,   0]), array([16,  1, 98,  0]), array([310,   1,  33,   0]), array([425,   1, 347,   0]), array([424,   1, 493,   0]), array([ 21,   1, 831,   0]), array([291,   1,  42,   0]), array([290,   1, 188,   0]), array([445,   1, 660,   0]), array([444,   1, 806,   0]), array([416,   1, 766,   0]), array([417,   1, 620,   0]), array([128,   1, 187,   0]), array([129,   1,  41,   0]), array([362,   1,  58,   0]), array([399,   1, 315,   0]), array([398,   1, 461,   0]), array([ 44,   1, 834,   0]), array([ 45,   1, 688,   0]), array([441,   1,  80,   0]), array([440,   1, 226,   0]), array([181,   1, 897,   0]), array([380,   1,  86,   0]), array([ 10,   1, 553,   0]), array([ 11,   1, 407,   0]), array([255,   1, 110,   0]), array([308,   1,  61,   0]), array([375,   1, 894,   0]), array([378,   1, 114,   0]), array([377,   1,  37,   0]), array([376,   1, 183,   0]), array([409,   1, 791,   0]), array([361,   1, 115,   0]), array([360,   1, 261,   0]), array([274,   1, 125,   0]), array([211,   1, 630,   0]), array([210,   1, 776,   0]), array([144,   1, 569,   0]), array([145,   1, 423,   0]), array([ 28,   1, 656,   0]), array([ 29,   1, 510,   0]), array([ 8,  1, 46,  0]), array([366,   1,  13,   0]), array([419,   1, 758,   0]), array([418,   1, 904,   0]), array([138,   1, 117,   0]), array([431,   1, 712,   0]), array([160,   1, 653,   0]), array([161,   1, 507,   0]), array([112,   1, 227,   0]), array([113,   1,  81,   0]), array([119,   1, 569,   0]), array([118,   1, 715,   0]), array([343,   1, 163,   0]), array([342,   1, 309,   0]), array([189,   1, 731,   0]), array([188,   1, 877,   0]), array([148,   1, 279,   0]), array([149,   1, 133,   0]), array([302,   1,  86,   0]), array([193,   1, 746,   0]), array([192,   1, 892,   0]), array([313,   1,  73,   0]), array([312,   1, 219,   0]), array([ 91,   1, 607,   0]), array([ 90,   1, 753,   0]), array([ 36,   1, 742,   0]), array([ 37,   1, 596,   0]), array([249,   1, 957,   0]), array([304,   1, 356,   0]), array([186,   2,   2,   0]), array([342,   2, 107,   0]), array([ 52,   2, 130,   0]), array([423,   2,  36,   0]), array([422,   2, 182,   0]), array([232,   2, 191,   0]), array([233,   2,  45,   0]), array([396,   2, 218,   0]), array([397,   2,  72,   0]), array([250,   2, 124,   0]), array([360,   2,  82,   0]), array([ 8,  2, 61,  0]), array([229,   2, 863,   0]), array([434,   2,  10,   0]), array([ 71,   2, 675,   0]), array([ 70,   2, 821,   0]), array([192,   2, 202,   0]), array([193,   2,  56,   0]), array([255,   2,  47,   0]), array([254,   2, 193,   0]), array([ 64,   2, 114,   0]), array([274,   2, 137,   0]), array([ 54,   2, 708,   0]), array([ 55,   2, 562,   0]), array([347,   2, 982,   0]), array([429,   2,  23,   0]), array([428,   2, 169,   0]), array([119,   2, 497,   0]), array([118,   2, 643,   0]), array([234,   2, 150,   0]), array([235,   2,   4,   0]), array([398,   2, 212,   0]), array([399,   2,  66,   0]), array([16,  2, 88,  0]), array([363,   2, 237,   0]), array([362,   2, 383,   0]), array([378,   2,  22,   0]), array([357,   2, 485,   0]), array([356,   2, 631,   0]), array([ 73,   2, 840,   0]), array([ 72,   2, 986,   0]), array([361,   2,  56,   0]), array([313,   2, 862,   0]), array([ 78,   2, 317,   0]), array([ 79,   2, 171,   0]), array([162,   2,  70,   0]), array([404,   2,  52,   0]), array([228,   2, 144,   0]), array([432,   2, 107,   0]), array([345,   2, 697,   0]), array([344,   2, 843,   0]), array([202,   2, 901,   0]), array([203,   2, 755,   0]), array([408,   2, 101,   0]), array([252,   2,  45,   0]), array([141,   2,  38,   0]), array([140,   2, 184,   0]), array([41,  2,  3,  0]), array([ 40,   2, 149,   0]), array([103,   2,  64,   0]), array([102,   2, 210,   0]), array([ 17,   2, 709,   0]), array([253,   2,  48,   0]), array([332,   2,  80,   0]), array([326,   2, 197,   0]), array([327,   2,  51,   0]), array([158,   2, 192,   0]), array([159,   2,  46,   0]), array([ 65,   2, 935,   0]), array([275,   2,  16,   0]), array([187,   2,  63,   0]), array([348,   2,  54,   0]), array([ 2,  2, 51,  0]), array([381,   2,  76,   0]), array([380,   2, 222,   0]), array([166,   2,  69,   0]), array([268,   2, 116,   0]), array([ 4,  2, 83,  0]), array([53,  2,  6,  0]), array([238,   2, 225,   0]), array([239,   2,  79,   0]), array([  5,   2, 329,   0]), array([258,   2,  17,   0]), array([288,   2,  91,   0]), array([322,   2, 118,   0]), array([427,   2, 966,   0]), array([ 12,   2, 188,   0]), array([13,  2, 42,  0]), array([134,   2,  32,   0]), array([167,   2, 693,   0]), array([353,   2,  66,   0]), array([352,   2, 212,   0]), array([418,   2, 176,   0]), array([419,   2,  30,   0]), array([359,   2, 310,   0]), array([358,   2, 456,   0]), array([195,   2, 727,   0]), array([194,   2, 873,   0]), array([101,   2, 843,   0]), array([100,   2, 989,   0]), array([ 55,   3, 562,   0]), array([ 54,   3, 708,   0]), array([229,   3, 706,   0]), array([228,   3, 852,   0]), array([254,   3,  88,   0]), array([102,   3, 955,   0]), array([103,   3, 809,   0]), array([ 63,   3, 791,   0]), array([ 62,   3, 937,   0]), array([  1,   3, 652,   0]), array([  0,   3, 798,   0]), array([152,   3,  17,   0]), array([15,  3,  7,  0]), array([ 14,   3, 153,   0]), array([435,   3,  21,   0]), array([434,   3, 167,   0]), array([380,   3,  66,   0]), array([438,   3, 149,   0]), array([439,   3,   3,   0]), array([146,   3,  26,   0]), array([ 65,   3, 938,   0]), array([422,   3, 175,   0]), array([423,   3,  29,   0]), array([ 20,   3, 920,   0]), array([ 21,   3, 774,   0]), array([131,   3, 189,   0]), array([130,   3, 335,   0]), array([ 22,   3, 607,   0]), array([ 23,   3, 461,   0]), array([445,   3, 478,   0]), array([444,   3, 624,   0]), array([417,   3, 597,   0]), array([416,   3, 743,   0]), array([  5,   3, 310,   0]), array([  4,   3, 456,   0]), array([278,   3, 569,   0]), array([279,   3, 423,   0]), array([204,   3, 143,   0]), array([419,   3, 161,   0]), array([418,   3, 307,   0]), array([ 25,   3, 642,   0]), array([ 24,   3, 788,   0]), array([244,   3, 260,   0]), array([245,   3, 114,   0]), array([360,   3, 151,   0]), array([361,   3,   5,   0]), array([325,   3, 344,   0]), array([324,   3, 490,   0]), array([205,   3,   0,   0]), array([427,   3, 913,   0]), array([203,   3,  18,   0]), array([202,   3, 164,   0]), array([128,   3,   7,   0]), array([403,   3, 633,   0]), array([402,   3, 779,   0]), array([305,   3, 629,   0]), array([304,   3, 775,   0]), array([ 72,   3, 807,   0]), array([ 73,   3, 661,   0]), array([206,   3, 893,   0]), array([207,   3, 747,   0]), array([296,   3, 420,   0]), array([297,   3, 274,   0]), array([371,   3, 325,   0]), array([370,   3, 471,   0]), array([432,   3, 187,   0]), array([433,   3,  41,   0]), array([233,   3,  58,   0]), array([232,   3, 204,   0]), array([ 7,  3, 23,  0]), array([  6,   3, 169,   0]), array([248,   3, 349,   0]), array([249,   3, 203,   0]), array([374,   3, 483,   0]), array([375,   3, 337,   0]), array([164,   3, 112,   0]), array([258,   3, 754,   0]), array([259,   3, 608,   0]), array([  9,   3, 565,   0]), array([  8,   3, 711,   0]), array([ 18,   3, 942,   0]), array([ 19,   3, 796,   0]), array([253,   3, 184,   0]), array([252,   3, 330,   0]), array([ 70,   3, 441,   0]), array([ 71,   3, 295,   0]), array([167,   3,  33,   0]), array([166,   3, 179,   0]), array([243,   3, 541,   0]), array([242,   3, 687,   0]), array([145,   3, 139,   0]), array([144,   3, 285,   0]), array([  3,   3, 165,   0]), array([  2,   3, 311,   0]), array([163,   3, 175,   0]), array([162,   3, 321,   0]), array([195,   3, 254,   0]), array([194,   3, 400,   0]), array([390,   3, 573,   0]), array([391,   3, 427,   0]), array([136,   4,  82,   0]), array([ 54,   4, 704,   0]), array([ 55,   4, 558,   0]), array([370,   4, 126,   0]), array([447,   4,  37,   0]), array([446,   4, 183,   0]), array([432,   4, 181,   0]), array([433,   4,  35,   0]), array([302,   4,  51,   0]), array([272,   4, 109,   0]), array([100,   4,  72,   0]), array([233,   4,  93,   0]), array([232,   4, 239,   0]), array([172,   4,  31,   0]), array([374,   4, 155,   0]), array([375,   4,   9,   0]), array([ 4,  4, 75,  0]), array([345,   4, 585,   0]), array([344,   4, 731,   0]), array([430,   4, 118,   0]), array([404,   4,  60,   0]), array([434,   4,  11,   0]), array([128,   4, 177,   0]), array([129,   4,  31,   0]), array([419,   4, 162,   0]), array([418,   4, 308,   0]), array([ 14,   4, 131,   0]), array([340,   4,  16,   0]), array([116,   4,  38,   0]), array([414,   4,  63,   0]), array([173,   4,   2,   0]), array([402,   4, 150,   0]), array([403,   4,   4,   0]), array([ 50,   4, 153,   0]), array([51,  4,  7,  0]), array([146,   4,   0,   0]), array([188,   4, 103,   0]), array([254,   4, 242,   0]), array([255,   4,  96,   0]), array([138,   4, 161,   0]), array([139,   4,  15,   0]), array([384,   4, 103,   0]), array([84,  4, 59,  0]), array([ 98,   4, 113,   0]), array([246,   4, 165,   0]), array([247,   4,  19,   0]), array([132,   4, 112,   0]), array([103,   4, 878,   0]), array([368,   4,  42,   0]), array([213,   4, 923,   0]), array([206,   4, 129,   0]), array([442,   4,  49,   0]), array([378,   4,  74,   0]), array([ 96,   4, 114,   0]), array([284,   4, 175,   0]), array([285,   4,  29,   0]), array([262,   4,  70,   0]), array([ 20,   4, 225,   0]), array([21,  4, 79,  0]), array([15,  4, 15,  0]), array([408,   4,  75,   0]), array([141,   4,  12,   0]), array([140,   4, 158,   0]), array([330,   4, 173,   0]), array([331,   4,  27,   0]), array([87,  4, 42,  0]), array([ 86,   4, 188,   0]), array([401,   4, 602,   0]), array([400,   4, 748,   0]), array([260,   4,  89,   0]), array([110,   4, 137,   0]), array([416,   4,  31,   0]), array([320,   4, 161,   0]), array([321,   4,  15,   0]), array([ 70,   4, 925,   0]), array([ 71,   4, 779,   0]), array([431,   4,  17,   0]), array([106,   4, 107,   0]), array([297,   4, 940,   0]), array([415,   4,  31,   0]), array([428,   4, 167,   0]), array([429,   4,  21,   0]), array([360,   4,   6,   0]), array([380,   4,  36,   0]), array([187,   4,  37,   0]), array([186,   4, 183,   0]), array([326,   4,  12,   0]), array([ 34,   4, 100,   0]), array([381,   4,   8,   0]), array([242,   4,   5,   0]), array([372,   4,  85,   0]), array([137,   4,  13,   0]), array([162,   4, 118,   0]), array([310,   4,  26,   0]), array([ 18,   4, 106,   0]), array([207,   4,  28,   0]), array([295,   4,  35,   0]), array([294,   4, 181,   0]), array([ 94,   4, 111,   0]), array([394,   4, 856,   0])]\n",
        "max units\n",
        "[array([ 0,  1,  2,  3,  4,  5,  6,  7,  8,  9, 10, 11, 12, 13, 14, 15, 16,\n",
        "       17, 18, 19, 20, 21, 22, 23, 24]), array([25, 26, 27, 28, 29, 30, 31, 32, 33, 34, 35, 36, 37, 38, 39, 40, 41,\n",
        "       42, 43, 44, 45, 46, 47, 48, 49]), array([50, 51, 52, 53, 54, 55, 56, 57, 58, 59, 60, 61, 62, 63, 64, 65, 66,\n",
        "       67, 68, 69, 70, 71, 72, 73, 74]), array([75, 76, 77, 78, 79, 80, 81, 82, 83, 84, 85, 86, 87, 88, 89, 90, 91,\n",
        "       92, 93, 94, 95, 96, 97, 98, 99]), array([100, 101, 102, 103, 104, 105, 106, 107, 108, 109, 110, 111, 112,\n",
        "       113, 114, 115, 116, 117, 118, 119, 120, 121, 122, 123, 124]), array([125, 126, 127, 128, 129, 130, 131, 132, 133, 134, 135, 136, 137,\n",
        "       138, 139, 140, 141, 142, 143, 144, 145, 146, 147, 148, 149]), array([150, 151, 152, 153, 154, 155, 156, 157, 158, 159, 160, 161, 162,\n",
        "       163, 164, 165, 166, 167, 168, 169, 170, 171, 172, 173, 174]), array([175, 176, 177, 178, 179, 180, 181, 182, 183, 184, 185, 186, 187,\n",
        "       188, 189, 190, 191, 192, 193, 194, 195, 196, 197, 198, 199]), array([200, 201, 202, 203, 204, 205, 206, 207, 208, 209, 210, 211, 212,\n",
        "       213, 214, 215, 216, 217, 218, 219, 220, 221, 222, 223, 224]), array([225, 226, 227, 228, 229, 230, 231, 232, 233, 234, 235, 236, 237,\n",
        "       238, 239, 240, 241, 242, 243, 244, 245, 246, 247, 248, 249]), array([250, 251, 252, 253, 254, 255, 256, 257, 258, 259, 260, 261, 262,\n",
        "       263, 264, 265, 266, 267, 268, 269, 270, 271, 272, 273, 274]), array([275, 276, 277, 278, 279, 280, 281, 282, 283, 284, 285, 286, 287,\n",
        "       288, 289, 290, 291, 292, 293, 294, 295, 296, 297, 298, 299]), array([300, 301, 302, 303, 304, 305, 306, 307, 308, 309, 310, 311, 312,\n",
        "       313, 314, 315, 316, 317, 318, 319, 320, 321, 322, 323, 324]), array([325, 326, 327, 328, 329, 330, 331, 332, 333, 334, 335, 336, 337,\n",
        "       338, 339, 340, 341, 342, 343, 344, 345, 346, 347, 348, 349]), array([350, 351, 352, 353, 354, 355, 356, 357, 358, 359, 360, 361, 362,\n",
        "       363, 364, 365, 366, 367, 368, 369, 370, 371, 372, 373, 374]), array([375, 376, 377, 378, 379, 380, 381, 382, 383, 384, 385, 386, 387,\n",
        "       388, 389, 390, 391, 392, 393, 394, 395, 396, 397, 398, 399]), array([400, 401, 402, 403, 404, 405, 406, 407, 408, 409, 410, 411, 412,\n",
        "       413, 414, 415, 416, 417, 418, 419, 420, 421, 422, 423, 424]), array([425, 426, 427, 428, 429, 430, 431, 432, 433, 434, 435, 436, 437,\n",
        "       438, 439, 440, 441, 442, 443, 444, 445, 446, 447, 448, 449]), array([450, 451, 452, 453, 454, 455, 456, 457, 458, 459, 460, 461, 462,\n",
        "       463, 464, 465, 466, 467, 468, 469, 470, 471, 472, 473, 474]), array([475, 476, 477, 478, 479, 480, 481, 482, 483, 484, 485, 486, 487,\n",
        "       488, 489, 490, 491, 492, 493, 494, 495, 496, 497, 498, 499])]\n",
        "Batch\n"
       ]
      },
      {
       "output_type": "stream",
       "stream": "stdout",
       "text": [
        "Batch\n",
        "Batch\n"
       ]
      },
      {
       "output_type": "stream",
       "stream": "stdout",
       "text": [
        "Batch\n",
        "Batch\n"
       ]
      },
      {
       "output_type": "stream",
       "stream": "stdout",
       "text": [
        "Batch\n"
       ]
      },
      {
       "output_type": "stream",
       "stream": "stdout",
       "text": [
        "Batch\n",
        "Batch\n"
       ]
      },
      {
       "output_type": "stream",
       "stream": "stdout",
       "text": [
        "Batch\n"
       ]
      },
      {
       "output_type": "stream",
       "stream": "stdout",
       "text": [
        "Batch\n"
       ]
      },
      {
       "output_type": "stream",
       "stream": "stdout",
       "text": [
        "Batch\n"
       ]
      },
      {
       "output_type": "stream",
       "stream": "stdout",
       "text": [
        "Batch\n"
       ]
      },
      {
       "output_type": "stream",
       "stream": "stdout",
       "text": [
        "Batch\n"
       ]
      },
      {
       "output_type": "stream",
       "stream": "stdout",
       "text": [
        "Batch\n"
       ]
      },
      {
       "output_type": "stream",
       "stream": "stdout",
       "text": [
        "Batch\n"
       ]
      },
      {
       "output_type": "stream",
       "stream": "stdout",
       "text": [
        "Batch\n"
       ]
      },
      {
       "output_type": "stream",
       "stream": "stdout",
       "text": [
        "Batch\n"
       ]
      },
      {
       "output_type": "stream",
       "stream": "stdout",
       "text": [
        "Batch\n"
       ]
      },
      {
       "output_type": "stream",
       "stream": "stdout",
       "text": [
        "Batch\n"
       ]
      },
      {
       "output_type": "stream",
       "stream": "stdout",
       "text": [
        "Batch\n"
       ]
      },
      {
       "output_type": "stream",
       "stream": "stdout",
       "text": [
        "Outputs (448, 5, 991, 1)\n",
        "Filter\n",
        "Filter\n"
       ]
      },
      {
       "output_type": "stream",
       "stream": "stdout",
       "text": [
        "Filter\n",
        "Filter\n"
       ]
      },
      {
       "output_type": "stream",
       "stream": "stdout",
       "text": [
        "Filter\n",
        "[array([416,   0,  97,   0]), array([211,   0, 823,   0]), array([210,   0, 969,   0]), array([ 97,   0, 767,   0]), array([ 96,   0, 913,   0]), array([153,   0, 953,   0]), array([ 68,   0, 343,   0]), array([ 69,   0, 197,   0]), array([164,   0, 411,   0]), array([165,   0, 265,   0]), array([297,   0,  37,   0]), array([296,   0, 183,   0]), array([327,   0,  36,   0]), array([326,   0, 182,   0]), array([152,   0, 900,   0]), array([ 80,   0, 776,   0]), array([ 81,   0, 630,   0]), array([ 99,   0, 915,   0]), array([197,   0, 162,   0]), array([196,   0, 308,   0]), array([ 21,   0, 989,   0]), array([427,   0, 801,   0]), array([426,   0, 947,   0]), array([417,   0, 101,   0]), array([189,   0, 167,   0]), array([188,   0, 313,   0]), array([258,   0, 504,   0]), array([259,   0, 358,   0]), array([439,   0, 943,   0]), array([19,  0, 54,  0]), array([ 18,   0, 200,   0]), array([ 74,   0, 413,   0]), array([ 75,   0, 267,   0]), array([ 76,   0, 499,   0]), array([ 77,   0, 353,   0]), array([166,   0, 353,   0]), array([167,   0, 207,   0]), array([  5,   0, 116,   0]), array([  4,   0, 262,   0]), array([400,   0,  49,   0]), array([404,   0, 553,   0]), array([405,   0, 407,   0]), array([ 98,   0, 976,   0]), array([277,   0, 245,   0]), array([276,   0, 391,   0]), array([ 43,   0, 908,   0]), array([330,   0,  20,   0]), array([110,   0,  59,   0]), array([352,   0, 378,   0]), array([353,   0, 232,   0]), array([ 73,   0, 911,   0]), array([399,   0, 854,   0]), array([ 91,   0, 933,   0]), array([113,   0, 439,   0]), array([112,   0, 585,   0]), array([382,   0, 653,   0]), array([383,   0, 507,   0]), array([ 20,   0, 749,   0]), array([359,   0,  79,   0]), array([358,   0, 225,   0]), array([157,   0, 964,   0]), array([159,   0, 364,   0]), array([158,   0, 510,   0]), array([ 84,   0, 514,   0]), array([ 85,   0, 368,   0]), array([ 15,   0, 402,   0]), array([ 14,   0, 548,   0]), array([429,   0, 958,   0]), array([  3,   0, 849,   0]), array([309,   0, 360,   0]), array([308,   0, 506,   0]), array([  8,   0, 791,   0]), array([  9,   0, 645,   0]), array([401,   0, 773,   0]), array([205,   0, 813,   0]), array([204,   0, 959,   0]), array([ 88,   0, 552,   0]), array([ 89,   0, 406,   0]), array([ 83,   0, 153,   0]), array([ 82,   0, 299,   0]), array([207,   0, 707,   0]), array([206,   0, 853,   0]), array([381,   0, 747,   0]), array([380,   0, 893,   0]), array([ 72,   0, 884,   0]), array([ 38,   0, 982,   0]), array([ 39,   0, 836,   0]), array([ 25,   0, 874,   0]), array([  2,   0, 730,   0]), array([78,  0, 31,  0]), array([428,   0, 369,   0]), array([385,   0, 902,   0]), array([334,   0, 843,   0]), array([335,   0, 697,   0]), array([266,   0, 864,   0]), array([267,   0, 718,   0]), array([305,   0, 958,   0]), array([ 26,   0, 903,   0]), array([ 27,   0, 757,   0]), array([ 79,   0, 232,   0]), array([153,   1, 952,   0]), array([416,   1,  64,   0]), array([417,   1,  20,   0]), array([164,   1, 411,   0]), array([165,   1, 265,   0]), array([ 91,   1, 934,   0]), array([210,   1, 613,   0]), array([211,   1, 467,   0]), array([ 76,   1, 491,   0]), array([ 77,   1, 345,   0]), array([152,   1, 897,   0]), array([ 97,   1, 707,   0]), array([ 96,   1, 853,   0]), array([166,   1, 316,   0]), array([167,   1, 170,   0]), array([429,   1, 142,   0]), array([428,   1, 288,   0]), array([ 11,   1, 526,   0]), array([ 10,   1, 672,   0]), array([426,   1, 336,   0]), array([427,   1, 190,   0]), array([244,   1, 385,   0]), array([245,   1, 239,   0]), array([379,   1, 637,   0]), array([378,   1, 783,   0]), array([384,   1, 404,   0]), array([385,   1, 258,   0]), array([295,   1, 790,   0]), array([294,   1, 936,   0]), array([196,   1, 296,   0]), array([197,   1, 150,   0]), array([247,   1,  92,   0]), array([246,   1, 238,   0]), array([ 75,   1, 878,   0]), array([368,   1, 845,   0]), array([369,   1, 699,   0]), array([191,   1, 157,   0]), array([190,   1, 303,   0]), array([110,   1,  80,   0]), array([ 21,   1, 984,   0]), array([  8,   1, 772,   0]), array([  9,   1, 626,   0]), array([381,   1, 166,   0]), array([380,   1, 312,   0]), array([317,   1, 150,   0]), array([316,   1, 296,   0]), array([288,   1, 284,   0]), array([289,   1, 138,   0]), array([334,   1, 436,   0]), array([335,   1, 290,   0]), array([441,   1, 155,   0]), array([440,   1, 301,   0]), array([261,   1, 401,   0]), array([260,   1, 547,   0]), array([405,   1, 206,   0]), array([404,   1, 352,   0]), array([ 20,   1, 311,   0]), array([354,   1, 859,   0]), array([355,   1, 713,   0]), array([435,   1, 154,   0]), array([434,   1, 300,   0]), array([392,   1, 980,   0]), array([393,   1, 834,   0]), array([293,   1, 906,   0]), array([352,   1, 409,   0]), array([353,   1, 263,   0]), array([113,   1, 623,   0]), array([112,   1, 769,   0]), array([345,   1, 259,   0]), array([344,   1, 405,   0]), array([175,   1, 814,   0]), array([174,   1, 960,   0]), array([326,   1, 292,   0]), array([327,   1, 146,   0]), array([163,   1, 487,   0]), array([162,   1, 633,   0]), array([ 90,   1, 242,   0]), array([160,   1, 430,   0]), array([161,   1, 284,   0]), array([396,   1, 770,   0]), array([397,   1, 624,   0]), array([351,   1, 103,   0]), array([350,   1, 249,   0]), array([137,   1, 422,   0]), array([136,   1, 568,   0]), array([222,   1, 113,   0]), array([398,   1, 130,   0]), array([373,   1, 887,   0]), array([69,  1, 35,  0]), array([ 68,   1, 181,   0]), array([360,   1, 285,   0]), array([361,   1, 139,   0]), array([ 34,   1, 118,   0]), array([446,   1, 873,   0]), array([447,   1, 727,   0]), array([362,   1,  67,   0]), array([304,   1, 767,   0]), array([305,   1, 621,   0]), array([382,   1, 138,   0]), array([129,   1, 251,   0]), array([416,   2,  59,   0]), array([165,   2, 267,   0]), array([164,   2, 413,   0]), array([417,   2,  35,   0]), array([210,   2, 775,   0]), array([211,   2, 629,   0]), array([434,   2, 298,   0]), array([435,   2, 152,   0]), array([327,   2,  33,   0]), array([326,   2, 179,   0]), array([ 96,   2, 853,   0]), array([ 97,   2, 707,   0]), array([350,   2, 247,   0]), array([351,   2, 101,   0]), array([429,   2, 140,   0]), array([428,   2, 286,   0]), array([169,   2, 459,   0]), array([168,   2, 605,   0]), array([426,   2, 328,   0]), array([427,   2, 182,   0]), array([ 83,   2, 272,   0]), array([ 82,   2, 418,   0]), array([323,   2, 521,   0]), array([322,   2, 667,   0]), array([153,   2, 955,   0]), array([398,   2, 299,   0]), array([399,   2, 153,   0]), array([ 99,   2, 796,   0]), array([ 98,   2, 942,   0]), array([110,   2, 136,   0]), array([134,   2, 931,   0]), array([135,   2, 785,   0]), array([ 52,   2, 498,   0]), array([ 53,   2, 352,   0]), array([191,   2, 155,   0]), array([190,   2, 301,   0]), array([408,   2, 776,   0]), array([409,   2, 630,   0]), array([146,   2, 548,   0]), array([147,   2, 402,   0]), array([224,   2, 463,   0]), array([225,   2, 317,   0]), array([405,   2, 198,   0]), array([404,   2, 344,   0]), array([ 75,   2, 876,   0]), array([159,   2, 871,   0]), array([438,   2, 306,   0]), array([439,   2, 160,   0]), array([294,   2, 362,   0]), array([295,   2, 216,   0]), array([369,   2, 701,   0]), array([368,   2, 847,   0]), array([339,   2, 522,   0]), array([338,   2, 668,   0]), array([358,   2, 473,   0]), array([359,   2, 327,   0]), array([444,   2, 317,   0]), array([445,   2, 171,   0]), array([297,   2,  43,   0]), array([296,   2, 189,   0]), array([418,   2,  13,   0]), array([341,   2, 653,   0]), array([340,   2, 799,   0]), array([419,   2, 276,   0]), array([ 14,   2, 432,   0]), array([ 15,   2, 286,   0]), array([388,   2,  59,   0]), array([355,   2, 524,   0]), array([354,   2, 670,   0]), array([442,   2, 818,   0]), array([443,   2, 672,   0]), array([91,  2, 91,  0]), array([ 90,   2, 237,   0]), array([379,   2, 666,   0]), array([378,   2, 812,   0]), array([373,   2, 562,   0]), array([372,   2, 708,   0]), array([325,   2, 663,   0]), array([324,   2, 809,   0]), array([332,   2, 303,   0]), array([333,   2, 157,   0]), array([171,   2, 495,   0]), array([170,   2, 641,   0]), array([334,   2, 664,   0]), array([335,   2, 518,   0]), array([385,   2, 256,   0]), array([384,   2, 402,   0]), array([ 89,   2, 264,   0]), array([ 88,   2, 410,   0]), array([431,   2, 430,   0]), array([430,   2, 576,   0]), array([  5,   2, 177,   0]), array([  4,   2, 323,   0]), array([178,   2, 311,   0]), array([179,   2, 165,   0]), array([348,   2, 335,   0]), array([349,   2, 189,   0]), array([329,   2, 306,   0]), array([328,   2, 452,   0]), array([136,   2, 414,   0]), array([416,   3, 123,   0]), array([210,   3, 775,   0]), array([211,   3, 629,   0]), array([ 76,   3, 496,   0]), array([ 77,   3, 350,   0]), array([274,   3,  44,   0]), array([370,   3, 177,   0]), array([371,   3,  31,   0]), array([ 82,   3, 197,   0]), array([83,  3, 51,  0]), array([110,   3,  99,   0]), array([153,   3, 950,   0]), array([430,   3, 120,   0]), array([262,   3,  66,   0]), array([275,   3,  40,   0]), array([ 25,   3, 929,   0]), array([  9,   3, 632,   0]), array([  8,   3, 778,   0]), array([29,  3, 30,  0]), array([ 28,   3, 176,   0]), array([347,   3,  23,   0]), array([346,   3, 169,   0]), array([382,   3, 168,   0]), array([383,   3,  22,   0]), array([112,   3,  93,   0]), array([421,   3, 526,   0]), array([420,   3, 672,   0]), array([98,  3, 16,  0]), array([402,   3, 118,   0]), array([ 96,   3, 805,   0]), array([ 97,   3, 659,   0]), array([272,   3, 104,   0]), array([19,  3, 46,  0]), array([ 18,   3, 192,   0]), array([ 84,   3, 589,   0]), array([ 85,   3, 443,   0]), array([355,   3,  11,   0]), array([354,   3, 157,   0]), array([418,   3,  82,   0]), array([376,   3, 131,   0]), array([ 21,   3, 166,   0]), array([ 20,   3, 312,   0]), array([130,   3, 881,   0]), array([131,   3, 735,   0]), array([322,   3, 176,   0]), array([323,   3,  30,   0]), array([  4,   3, 112,   0]), array([319,   3, 288,   0]), array([318,   3, 434,   0]), array([326,   3, 222,   0]), array([327,   3,  76,   0]), array([165,   3, 263,   0]), array([164,   3, 409,   0]), array([428,   3, 759,   0]), array([429,   3, 613,   0]), array([226,   3,  51,   0]), array([297,   3,  18,   0]), array([296,   3, 164,   0]), array([94,  3, 49,  0]), array([417,   3, 212,   0]), array([388,   3, 118,   0]), array([105,   3,  80,   0]), array([104,   3, 226,   0]), array([419,   3, 607,   0]), array([427,   3,  30,   0]), array([426,   3, 176,   0]), array([400,   3, 127,   0]), array([244,   3, 202,   0]), array([245,   3,  56,   0]), array([412,   3,  96,   0]), array([235,   3, 696,   0]), array([234,   3, 842,   0]), array([74,  3, 99,  0]), array([66,  3, 33,  0]), array([111,   3, 117,   0]), array([197,   3, 970,   0]), array([154,   3, 469,   0]), array([155,   3, 323,   0]), array([ 89,   3, 278,   0]), array([ 88,   3, 424,   0]), array([68,  3,  8,  0]), array([ 38,   3, 947,   0]), array([ 39,   3, 801,   0]), array([ 34,   3, 238,   0]), array([35,  3, 92,  0]), array([  5,   3, 303,   0]), array([374,   3, 108,   0]), array([ 99,   3, 837,   0]), array([404,   3, 100,   0]), array([431,   3,  48,   0]), array([212,   3,  45,   0]), array([237,   3, 329,   0]), array([236,   3, 475,   0]), array([196,   3, 307,   0]), array([260,   3,  79,   0]), array([361,   3, 831,   0]), array([360,   3, 977,   0]), array([330,   3, 121,   0]), array([258,   3,  63,   0]), array([273,   3,   2,   0]), array([416,   4, 129,   0]), array([211,   4, 816,   0]), array([210,   4, 962,   0]), array([278,   4,  82,   0]), array([224,   4,  94,   0]), array([153,   4, 952,   0]), array([  8,   4, 776,   0]), array([  9,   4, 630,   0]), array([202,   4,  81,   0]), array([186,   4, 199,   0]), array([187,   4,  53,   0]), array([336,   4,  19,   0]), array([ 91,   4, 931,   0]), array([326,   4, 171,   0]), array([327,   4,  25,   0]), array([203,   4,  24,   0]), array([430,   4, 104,   0]), array([421,   4, 900,   0]), array([279,   4, 285,   0]), array([164,   4, 411,   0]), array([165,   4, 265,   0]), array([322,   4, 135,   0]), array([356,   4,  86,   0]), array([152,   4, 900,   0]), array([274,   4,   7,   0]), array([447,   4, 920,   0]), array([306,   4, 138,   0]), array([ 75,   4, 448,   0]), array([ 74,   4, 594,   0]), array([144,   4,  35,   0]), array([204,   4, 869,   0]), array([205,   4, 723,   0]), array([228,   4, 320,   0]), array([229,   4, 174,   0]), array([155,   4,  82,   0]), array([154,   4, 228,   0]), array([406,   4, 136,   0]), array([ 78,   4, 692,   0]), array([ 79,   4, 546,   0]), array([417,   4,  36,   0]), array([422,   4,  65,   0]), array([244,   4, 621,   0]), array([245,   4, 475,   0]), array([180,   4, 239,   0]), array([181,   4,  93,   0]), array([412,   4,  28,   0]), array([184,   4, 818,   0]), array([185,   4, 672,   0]), array([197,   4, 171,   0]), array([196,   4, 317,   0]), array([  2,   4, 931,   0]), array([  3,   4, 785,   0]), array([200,   4,  30,   0]), array([403,   4, 391,   0]), array([402,   4, 537,   0]), array([63,  4, 67,  0]), array([ 62,   4, 213,   0]), array([222,   4,  68,   0]), array([35,  4, 34,  0]), array([ 34,   4, 180,   0]), array([ 61,   4, 205,   0]), array([ 60,   4, 351,   0]), array([ 69,   4, 196,   0]), array([ 68,   4, 342,   0]), array([ 97,   4, 658,   0]), array([ 96,   4, 804,   0]), array([269,   4, 743,   0]), array([268,   4, 889,   0]), array([220,   4, 139,   0]), array([172,   4,  36,   0]), array([273,   4, 647,   0]), array([272,   4, 793,   0]), array([ 13,   4, 966,   0]), array([261,   4, 951,   0]), array([246,   4,  32,   0]), array([363,   4, 517,   0]), array([362,   4, 663,   0]), array([236,   4, 267,   0]), array([237,   4, 121,   0]), array([388,   4, 137,   0]), array([157,   4, 924,   0]), array([83,  4,  6,  0]), array([ 82,   4, 152,   0]), array([389,   4, 872,   0]), array([166,   4, 148,   0]), array([167,   4,   2,   0]), array([287,   4, 154,   0]), array([286,   4, 300,   0]), array([171,   4, 268,   0]), array([170,   4, 414,   0]), array([444,   4, 221,   0]), array([445,   4,  75,   0]), array([276,   4,  87,   0]), array([393,   4, 810,   0]), array([392,   4, 956,   0]), array([383,   4,   0,   0]), array([382,   4, 146,   0]), array([145,   4, 625,   0]), array([ 21,   4, 988,   0]), array([428,   4, 190,   0])]\n",
        "max units\n",
        "[array([ 0,  1,  2,  3,  4,  5,  6,  7,  8,  9, 10, 11, 12, 13, 14, 15, 16,\n",
        "       17, 18, 19, 20, 21, 22, 23, 24]), array([25, 26, 27, 28, 29, 30, 31, 32, 33, 34, 35, 36, 37, 38, 39, 40, 41,\n",
        "       42, 43, 44, 45, 46, 47, 48, 49]), array([50, 51, 52, 53, 54, 55, 56, 57, 58, 59, 60, 61, 62, 63, 64, 65, 66,\n",
        "       67, 68, 69, 70, 71, 72, 73, 74]), array([75, 76, 77, 78, 79, 80, 81, 82, 83, 84, 85, 86, 87, 88, 89, 90, 91,\n",
        "       92, 93, 94, 95, 96, 97, 98, 99]), array([100, 101, 102, 103, 104, 105, 106, 107, 108, 109, 110, 111, 112,\n",
        "       113, 114, 115, 116, 117, 118, 119, 120, 121, 122, 123, 124]), array([125, 126, 127, 128, 129, 130, 131, 132, 133, 134, 135, 136, 137,\n",
        "       138, 139, 140, 141, 142, 143, 144, 145, 146, 147, 148, 149]), array([150, 151, 152, 153, 154, 155, 156, 157, 158, 159, 160, 161, 162,\n",
        "       163, 164, 165, 166, 167, 168, 169, 170, 171, 172, 173, 174]), array([175, 176, 177, 178, 179, 180, 181, 182, 183, 184, 185, 186, 187,\n",
        "       188, 189, 190, 191, 192, 193, 194, 195, 196, 197, 198, 199]), array([200, 201, 202, 203, 204, 205, 206, 207, 208, 209, 210, 211, 212,\n",
        "       213, 214, 215, 216, 217, 218, 219, 220, 221, 222, 223, 224]), array([225, 226, 227, 228, 229, 230, 231, 232, 233, 234, 235, 236, 237,\n",
        "       238, 239, 240, 241, 242, 243, 244, 245, 246, 247, 248, 249]), array([250, 251, 252, 253, 254, 255, 256, 257, 258, 259, 260, 261, 262,\n",
        "       263, 264, 265, 266, 267, 268, 269, 270, 271, 272, 273, 274]), array([275, 276, 277, 278, 279, 280, 281, 282, 283, 284, 285, 286, 287,\n",
        "       288, 289, 290, 291, 292, 293, 294, 295, 296, 297, 298, 299]), array([300, 301, 302, 303, 304, 305, 306, 307, 308, 309, 310, 311, 312,\n",
        "       313, 314, 315, 316, 317, 318, 319, 320, 321, 322, 323, 324]), array([325, 326, 327, 328, 329, 330, 331, 332, 333, 334, 335, 336, 337,\n",
        "       338, 339, 340, 341, 342, 343, 344, 345, 346, 347, 348, 349]), array([350, 351, 352, 353, 354, 355, 356, 357, 358, 359, 360, 361, 362,\n",
        "       363, 364, 365, 366, 367, 368, 369, 370, 371, 372, 373, 374]), array([375, 376, 377, 378, 379, 380, 381, 382, 383, 384, 385, 386, 387,\n",
        "       388, 389, 390, 391, 392, 393, 394, 395, 396, 397, 398, 399]), array([400, 401, 402, 403, 404, 405, 406, 407, 408, 409, 410, 411, 412,\n",
        "       413, 414, 415, 416, 417, 418, 419, 420, 421, 422, 423, 424]), array([425, 426, 427, 428, 429, 430, 431, 432, 433, 434, 435, 436, 437,\n",
        "       438, 439, 440, 441, 442, 443, 444, 445, 446, 447, 448, 449]), array([450, 451, 452, 453, 454, 455, 456, 457, 458, 459, 460, 461, 462,\n",
        "       463, 464, 465, 466, 467, 468, 469, 470, 471, 472, 473, 474]), array([475, 476, 477, 478, 479, 480, 481, 482, 483, 484, 485, 486, 487,\n",
        "       488, 489, 490, 491, 492, 493, 494, 495, 496, 497, 498, 499])]\n",
        "Batch\n"
       ]
      },
      {
       "output_type": "stream",
       "stream": "stdout",
       "text": [
        "Batch\n",
        "Batch\n"
       ]
      },
      {
       "output_type": "stream",
       "stream": "stdout",
       "text": [
        "Batch\n",
        "Batch\n"
       ]
      },
      {
       "output_type": "stream",
       "stream": "stdout",
       "text": [
        "Batch\n",
        "Batch\n"
       ]
      },
      {
       "output_type": "stream",
       "stream": "stdout",
       "text": [
        "Batch\n"
       ]
      },
      {
       "output_type": "stream",
       "stream": "stdout",
       "text": [
        "Batch\n"
       ]
      },
      {
       "output_type": "stream",
       "stream": "stdout",
       "text": [
        "Batch\n"
       ]
      },
      {
       "output_type": "stream",
       "stream": "stdout",
       "text": [
        "Batch\n"
       ]
      },
      {
       "output_type": "stream",
       "stream": "stdout",
       "text": [
        "Batch\n"
       ]
      },
      {
       "output_type": "stream",
       "stream": "stdout",
       "text": [
        "Batch\n"
       ]
      },
      {
       "output_type": "stream",
       "stream": "stdout",
       "text": [
        "Batch\n"
       ]
      },
      {
       "output_type": "stream",
       "stream": "stdout",
       "text": [
        "Batch\n"
       ]
      },
      {
       "output_type": "stream",
       "stream": "stdout",
       "text": [
        "Batch\n"
       ]
      },
      {
       "output_type": "stream",
       "stream": "stdout",
       "text": [
        "Batch\n"
       ]
      },
      {
       "output_type": "stream",
       "stream": "stdout",
       "text": [
        "Batch\n"
       ]
      },
      {
       "output_type": "stream",
       "stream": "stdout",
       "text": [
        "Batch\n"
       ]
      },
      {
       "output_type": "stream",
       "stream": "stdout",
       "text": [
        "Batch\n"
       ]
      },
      {
       "output_type": "stream",
       "stream": "stdout",
       "text": [
        "Outputs (446, 5, 991, 1)\n",
        "Filter\n",
        "Filter\n"
       ]
      },
      {
       "output_type": "stream",
       "stream": "stdout",
       "text": [
        "Filter\n",
        "Filter\n"
       ]
      },
      {
       "output_type": "stream",
       "stream": "stdout",
       "text": [
        "Filter\n",
        "[array([ 24,   0, 353,   0]), array([ 25,   0, 207,   0]), array([139,   0, 974,   0]), array([182,   0, 847,   0]), array([183,   0, 701,   0]), array([242,   0, 523,   0]), array([243,   0, 377,   0]), array([171,   0, 964,   0]), array([147,   0, 602,   0]), array([146,   0, 748,   0]), array([230,   0, 129,   0]), array([359,   0, 710,   0]), array([358,   0, 856,   0]), array([309,   0, 490,   0]), array([308,   0, 636,   0]), array([240,   0,  80,   0]), array([337,   0, 924,   0]), array([191,   0, 529,   0]), array([190,   0, 675,   0]), array([431,   0, 412,   0]), array([430,   0, 558,   0]), array([187,   0, 983,   0]), array([433,   0, 379,   0]), array([432,   0, 525,   0]), array([231,   0,  78,   0]), array([204,   0, 579,   0]), array([205,   0, 433,   0]), array([ 59,   0, 823,   0]), array([ 58,   0, 969,   0]), array([324,   0,  67,   0]), array([407,   0, 161,   0]), array([406,   0, 307,   0]), array([165,   0, 848,   0]), array([413,   0, 356,   0]), array([412,   0, 502,   0]), array([357,   0, 358,   0]), array([356,   0, 504,   0]), array([ 36,   0, 595,   0]), array([ 37,   0, 449,   0]), array([341,   0, 470,   0]), array([340,   0, 616,   0]), array([349,   0, 631,   0]), array([348,   0, 777,   0]), array([175,   0, 620,   0]), array([174,   0, 766,   0]), array([235,   0, 955,   0]), array([333,   0, 293,   0]), array([332,   0, 439,   0]), array([186,   0, 435,   0]), array([415,   0, 845,   0]), array([ 73,   0, 706,   0]), array([ 72,   0, 852,   0]), array([64,  0, 64,  0]), array([408,   0, 722,   0]), array([409,   0, 576,   0]), array([164,   0, 523,   0]), array([414,   0, 152,   0]), array([ 15,   0, 678,   0]), array([ 14,   0, 824,   0]), array([276,   0, 570,   0]), array([277,   0, 424,   0]), array([238,   0, 489,   0]), array([239,   0, 343,   0]), array([  1,   0, 392,   0]), array([  0,   0, 538,   0]), array([441,   0, 512,   0]), array([440,   0, 658,   0]), array([149,   0, 829,   0]), array([148,   0, 975,   0]), array([138,   0, 563,   0]), array([347,   0, 484,   0]), array([346,   0, 630,   0]), array([392,   0,  23,   0]), array([226,   0,  43,   0]), array([ 79,   0, 750,   0]), array([ 78,   0, 896,   0]), array([323,   0, 265,   0]), array([322,   0, 411,   0]), array([ 62,   0, 578,   0]), array([ 63,   0, 432,   0]), array([338,   0, 740,   0]), array([339,   0, 594,   0]), array([244,   0, 467,   0]), array([245,   0, 321,   0]), array([110,   0, 832,   0]), array([111,   0, 686,   0]), array([218,   0, 849,   0]), array([219,   0, 703,   0]), array([426,   0, 782,   0]), array([427,   0, 636,   0]), array([315,   0, 827,   0]), array([314,   0, 973,   0]), array([167,   0, 706,   0]), array([166,   0, 852,   0]), array([135,   0, 212,   0]), array([134,   0, 358,   0]), array([399,   0, 479,   0]), array([398,   0, 625,   0]), array([325,   0, 285,   0]), array([371,   0, 447,   0]), array([ 24,   1, 353,   0]), array([ 25,   1, 207,   0]), array([399,   1,  12,   0]), array([398,   1, 158,   0]), array([290,   1, 738,   0]), array([291,   1, 592,   0]), array([359,   1, 507,   0]), array([358,   1, 653,   0]), array([364,   1,  26,   0]), array([327,   1, 464,   0]), array([326,   1, 610,   0]), array([  3,   1, 963,   0]), array([347,   1, 971,   0]), array([249,   1,  44,   0]), array([248,   1, 190,   0]), array([404,   1, 371,   0]), array([405,   1, 225,   0]), array([414,   1, 169,   0]), array([415,   1,  23,   0]), array([200,   1, 195,   0]), array([201,   1,  49,   0]), array([282,   1, 570,   0]), array([283,   1, 424,   0]), array([ 82,   1, 856,   0]), array([ 83,   1, 710,   0]), array([416,   1, 899,   0]), array([417,   1, 753,   0]), array([  1,   1, 680,   0]), array([  0,   1, 826,   0]), array([  2,   1, 433,   0]), array([391,   1, 631,   0]), array([390,   1, 777,   0]), array([357,   1,   9,   0]), array([356,   1, 155,   0]), array([ 22,   1, 811,   0]), array([ 23,   1, 665,   0]), array([342,   1, 839,   0]), array([343,   1, 693,   0]), array([148,   1,  22,   0]), array([111,   1, 912,   0]), array([339,   1, 986,   0]), array([379,   1, 805,   0]), array([378,   1, 951,   0]), array([275,   1, 609,   0]), array([274,   1, 755,   0]), array([329,   1, 129,   0]), array([328,   1, 275,   0]), array([253,   1, 848,   0]), array([298,   1, 816,   0]), array([299,   1, 670,   0]), array([365,   1, 344,   0]), array([130,   1, 546,   0]), array([131,   1, 400,   0]), array([277,   1,  39,   0]), array([276,   1, 185,   0]), array([64,  1, 87,  0]), array([ 13,   1, 758,   0]), array([ 12,   1, 904,   0]), array([ 73,   1, 723,   0]), array([ 72,   1, 869,   0]), array([261,   1, 671,   0]), array([260,   1, 817,   0]), array([255,   1, 872,   0]), array([346,   1, 773,   0]), array([337,   1, 925,   0]), array([334,   1, 100,   0]), array([122,   1, 870,   0]), array([123,   1, 724,   0]), array([279,   1, 771,   0]), array([278,   1, 917,   0]), array([100,   1, 894,   0]), array([101,   1, 748,   0]), array([423,   1, 565,   0]), array([422,   1, 711,   0]), array([110,   1, 941,   0]), array([444,   1, 735,   0]), array([445,   1, 589,   0]), array([266,   1, 592,   0]), array([267,   1, 446,   0]), array([333,   1, 293,   0]), array([332,   1, 439,   0]), array([252,   1, 945,   0]), array([198,   1, 937,   0]), array([199,   1, 791,   0]), array([421,   1, 591,   0]), array([420,   1, 737,   0]), array([335,   1, 583,   0]), array([ 21,   1, 885,   0]), array([352,   1, 129,   0]), array([  5,   1, 172,   0]), array([  4,   1, 318,   0]), array([84,  1, 25,  0]), array([429,   1, 887,   0]), array([ 35,   1, 286,   0]), array([ 34,   1, 432,   0]), array([203,   1, 658,   0]), array([202,   1, 804,   0]), array([271,   1, 704,   0]), array([270,   1, 850,   0]), array([186,   1, 428,   0]), array([327,   2, 463,   0]), array([326,   2, 609,   0]), array([108,   2, 766,   0]), array([109,   2, 620,   0]), array([ 59,   2, 918,   0]), array([398,   2, 160,   0]), array([399,   2,  14,   0]), array([163,   2, 416,   0]), array([162,   2, 562,   0]), array([420,   2, 712,   0]), array([421,   2, 566,   0]), array([  7,   2, 831,   0]), array([  6,   2, 977,   0]), array([149,   2, 830,   0]), array([148,   2, 976,   0]), array([169,   2, 478,   0]), array([168,   2, 624,   0]), array([356,   2, 990,   0]), array([357,   2, 844,   0]), array([152,   2, 649,   0]), array([153,   2, 503,   0]), array([ 24,   2, 355,   0]), array([ 25,   2, 209,   0]), array([111,   2, 969,   0]), array([ 41,   2, 959,   0]), array([382,   2, 463,   0]), array([383,   2, 317,   0]), array([75,  2, 34,  0]), array([ 74,   2, 180,   0]), array([349,   2, 765,   0]), array([348,   2, 911,   0]), array([ 95,   2, 918,   0]), array([259,   2, 802,   0]), array([258,   2, 948,   0]), array([387,   2, 859,   0]), array([ 40,   2, 734,   0]), array([191,   2, 943,   0]), array([225,   2, 460,   0]), array([224,   2, 606,   0]), array([208,   2, 981,   0]), array([209,   2, 835,   0]), array([ 87,   2, 482,   0]), array([ 86,   2, 628,   0]), array([444,   2,  52,   0]), array([178,   2, 877,   0]), array([179,   2, 731,   0]), array([323,   2, 860,   0]), array([227,   2, 355,   0]), array([226,   2, 501,   0]), array([ 57,   2, 649,   0]), array([ 56,   2, 795,   0]), array([ 50,   2, 196,   0]), array([51,  2, 50,  0]), array([319,   2, 752,   0]), array([318,   2, 898,   0]), array([215,   2, 686,   0]), array([214,   2, 832,   0]), array([287,   2, 944,   0]), array([ 99,   2, 929,   0]), array([184,   2, 637,   0]), array([185,   2, 491,   0]), array([325,   2, 571,   0]), array([324,   2, 717,   0]), array([299,   2, 669,   0]), array([298,   2, 815,   0]), array([ 2,  2, 25,  0]), array([290,   2, 717,   0]), array([291,   2, 571,   0]), array([308,   2, 111,   0]), array([ 53,   2, 611,   0]), array([ 52,   2, 757,   0]), array([332,   2, 438,   0]), array([333,   2, 292,   0]), array([198,   2, 939,   0]), array([199,   2, 793,   0]), array([337,   2, 904,   0]), array([ 62,   2, 618,   0]), array([ 63,   2, 472,   0]), array([257,   2,  38,   0]), array([256,   2, 184,   0]), array([313,   2, 614,   0]), array([312,   2, 760,   0]), array([248,   2, 710,   0]), array([249,   2, 564,   0]), array([352,   2, 130,   0]), array([255,   2, 921,   0]), array([277,   2, 614,   0]), array([276,   2, 760,   0]), array([ 18,   2, 682,   0]), array([ 19,   2, 536,   0]), array([413,   2, 458,   0]), array([412,   2, 604,   0]), array([328,   2, 815,   0]), array([329,   2, 669,   0]), array([164,   2, 514,   0]), array([165,   2, 368,   0]), array([213,   2, 455,   0]), array([212,   2, 601,   0]), array([424,   2, 792,   0]), array([425,   2, 646,   0]), array([ 25,   3, 207,   0]), array([ 24,   3, 353,   0]), array([242,   3, 519,   0]), array([243,   3, 373,   0]), array([183,   3,  16,   0]), array([182,   3, 162,   0]), array([187,   3, 972,   0]), array([ 73,   3, 664,   0]), array([ 72,   3, 810,   0]), array([139,   3, 971,   0]), array([218,   3, 831,   0]), array([219,   3, 685,   0]), array([158,   3, 557,   0]), array([159,   3, 411,   0]), array([415,   3,  15,   0]), array([414,   3, 161,   0]), array([431,   3, 408,   0]), array([430,   3, 554,   0]), array([432,   3, 910,   0]), array([433,   3, 764,   0]), array([385,   3, 925,   0]), array([335,   3, 917,   0]), array([147,   3, 607,   0]), array([146,   3, 753,   0]), array([186,   3, 424,   0]), array([48,  3, 57,  0]), array([300,   3, 874,   0]), array([301,   3, 728,   0]), array([412,   3, 971,   0]), array([413,   3, 825,   0]), array([ 36,   3, 577,   0]), array([ 37,   3, 431,   0]), array([240,   3,  68,   0]), array([358,   3, 240,   0]), array([359,   3,  94,   0]), array([324,   3, 666,   0]), array([325,   3, 520,   0]), array([318,   3, 140,   0]), array([175,   3, 617,   0]), array([174,   3, 763,   0]), array([400,   3,  95,   0]), array([392,   3,  20,   0]), array([  1,   3, 173,   0]), array([  0,   3, 319,   0]), array([ 82,   3, 905,   0]), array([ 83,   3, 759,   0]), array([66,  3, 28,  0]), array([427,   3, 574,   0]), array([426,   3, 720,   0]), array([ 78,   3, 545,   0]), array([ 79,   3, 399,   0]), array([149,   3, 849,   0]), array([2, 3, 6, 0]), array([ 65,   3, 550,   0]), array([ 64,   3, 696,   0]), array([168,   3,  30,   0]), array([349,   3, 591,   0]), array([348,   3, 737,   0]), array([208,   3, 799,   0]), array([209,   3, 653,   0]), array([236,   3, 163,   0]), array([237,   3,  17,   0]), array([356,   3, 488,   0]), array([357,   3, 342,   0]), array([344,   3, 787,   0]), array([345,   3, 641,   0]), array([408,   3, 391,   0]), array([409,   3, 245,   0]), array([226,   3,  71,   0]), array([184,   3, 425,   0]), array([185,   3, 279,   0]), array([ 49,   3, 911,   0]), array([ 75,   3, 410,   0]), array([ 74,   3, 556,   0]), array([136,   3, 447,   0]), array([137,   3, 301,   0]), array([377,   3, 631,   0]), array([376,   3, 777,   0]), array([148,   3, 972,   0]), array([ 87,   3, 985,   0]), array([111,   3, 942,   0]), array([438,   3, 745,   0]), array([439,   3, 599,   0]), array([138,   3, 856,   0]), array([199,   3, 712,   0]), array([198,   3, 858,   0]), array([420,   3, 778,   0]), array([421,   3, 632,   0]), array([205,   3, 853,   0]), array([354,   3,  28,   0]), array([ 59,   3, 935,   0]), array([293,   3, 188,   0]), array([292,   3, 334,   0]), array([374,   3, 393,   0]), array([375,   3, 247,   0]), array([171,   3, 602,   0]), array([170,   3, 748,   0]), array([169,   3, 506,   0]), array([309,   3, 493,   0]), array([308,   3, 639,   0]), array([275,   4, 430,   0]), array([274,   4, 576,   0]), array([333,   4, 923,   0]), array([  3,   4, 876,   0]), array([324,   4, 852,   0]), array([325,   4, 706,   0]), array([369,   4, 504,   0]), array([368,   4, 650,   0]), array([445,   4, 932,   0]), array([380,   4,  79,   0]), array([309,   4, 359,   0]), array([308,   4, 505,   0]), array([399,   4,  14,   0]), array([398,   4, 160,   0]), array([262,   4, 848,   0]), array([263,   4, 702,   0]), array([383,   4, 353,   0]), array([382,   4, 499,   0]), array([416,   4,  28,   0]), array([425,   4, 333,   0]), array([424,   4, 479,   0]), array([236,   4,   3,   0]), array([336,   4, 924,   0]), array([337,   4, 778,   0]), array([357,   4, 879,   0]), array([417,   4, 855,   0]), array([125,   4, 831,   0]), array([124,   4, 977,   0]), array([381,   4, 921,   0]), array([212,   4, 494,   0]), array([213,   4, 348,   0]), array([347,   4, 753,   0]), array([346,   4, 899,   0]), array([438,   4, 891,   0]), array([439,   4, 745,   0]), array([413,   4, 877,   0]), array([ 44,   4, 842,   0]), array([ 45,   4, 696,   0]), array([ 84,   4, 790,   0]), array([ 85,   4, 644,   0]), array([  2,   4, 775,   0]), array([ 83,   4, 807,   0]), array([ 82,   4, 953,   0]), array([379,   4, 823,   0]), array([378,   4, 969,   0]), array([401,   4, 424,   0]), array([400,   4, 570,   0]), array([40,  4, 86,  0]), array([203,   4, 486,   0]), array([202,   4, 632,   0]), array([151,   4, 444,   0]), array([150,   4, 590,   0]), array([97,  4, 23,  0]), array([ 96,   4, 169,   0]), array([356,   4, 493,   0]), array([159,   4, 509,   0]), array([158,   4, 655,   0]), array([279,   4, 319,   0]), array([278,   4, 465,   0]), array([441,   4, 904,   0]), array([ 71,   4, 660,   0]), array([ 70,   4, 806,   0]), array([342,   4,  94,   0]), array([372,   4, 968,   0]), array([373,   4, 822,   0]), array([354,   4, 683,   0]), array([355,   4, 537,   0]), array([444,   4, 174,   0]), array([376,   4, 893,   0]), array([377,   4, 747,   0]), array([358,   4, 568,   0]), array([359,   4, 422,   0]), array([ 73,   4, 728,   0]), array([ 72,   4, 874,   0]), array([341,   4, 295,   0]), array([340,   4, 441,   0]), array([344,   4, 944,   0]), array([345,   4, 798,   0]), array([429,   4, 883,   0]), array([201,   4, 429,   0]), array([200,   4, 575,   0]), array([375,   4, 465,   0]), array([374,   4, 611,   0]), array([ 65,   4, 312,   0]), array([ 64,   4, 458,   0]), array([189,   4, 268,   0]), array([188,   4, 414,   0]), array([408,   4, 796,   0]), array([409,   4, 650,   0]), array([394,   4, 935,   0]), array([395,   4, 789,   0]), array([111,   4, 949,   0]), array([243,   4,  50,   0]), array([242,   4, 196,   0]), array([168,   4, 550,   0]), array([169,   4, 404,   0]), array([187,   4, 721,   0]), array([186,   4, 867,   0]), array([182,   4,  61,   0]), array([ 55,   4, 603,   0])]\n",
        "max units\n",
        "[array([ 0,  1,  2,  3,  4,  5,  6,  7,  8,  9, 10, 11, 12, 13, 14, 15, 16,\n",
        "       17, 18, 19, 20, 21, 22, 23, 24]), array([25, 26, 27, 28, 29, 30, 31, 32, 33, 34, 35, 36, 37, 38, 39, 40, 41,\n",
        "       42, 43, 44, 45, 46, 47, 48, 49]), array([50, 51, 52, 53, 54, 55, 56, 57, 58, 59, 60, 61, 62, 63, 64, 65, 66,\n",
        "       67, 68, 69, 70, 71, 72, 73, 74]), array([75, 76, 77, 78, 79, 80, 81, 82, 83, 84, 85, 86, 87, 88, 89, 90, 91,\n",
        "       92, 93, 94, 95, 96, 97, 98, 99]), array([100, 101, 102, 103, 104, 105, 106, 107, 108, 109, 110, 111, 112,\n",
        "       113, 114, 115, 116, 117, 118, 119, 120, 121, 122, 123, 124]), array([125, 126, 127, 128, 129, 130, 131, 132, 133, 134, 135, 136, 137,\n",
        "       138, 139, 140, 141, 142, 143, 144, 145, 146, 147, 148, 149]), array([150, 151, 152, 153, 154, 155, 156, 157, 158, 159, 160, 161, 162,\n",
        "       163, 164, 165, 166, 167, 168, 169, 170, 171, 172, 173, 174]), array([175, 176, 177, 178, 179, 180, 181, 182, 183, 184, 185, 186, 187,\n",
        "       188, 189, 190, 191, 192, 193, 194, 195, 196, 197, 198, 199]), array([200, 201, 202, 203, 204, 205, 206, 207, 208, 209, 210, 211, 212,\n",
        "       213, 214, 215, 216, 217, 218, 219, 220, 221, 222, 223, 224]), array([225, 226, 227, 228, 229, 230, 231, 232, 233, 234, 235, 236, 237,\n",
        "       238, 239, 240, 241, 242, 243, 244, 245, 246, 247, 248, 249]), array([250, 251, 252, 253, 254, 255, 256, 257, 258, 259, 260, 261, 262,\n",
        "       263, 264, 265, 266, 267, 268, 269, 270, 271, 272, 273, 274]), array([275, 276, 277, 278, 279, 280, 281, 282, 283, 284, 285, 286, 287,\n",
        "       288, 289, 290, 291, 292, 293, 294, 295, 296, 297, 298, 299]), array([300, 301, 302, 303, 304, 305, 306, 307, 308, 309, 310, 311, 312,\n",
        "       313, 314, 315, 316, 317, 318, 319, 320, 321, 322, 323, 324]), array([325, 326, 327, 328, 329, 330, 331, 332, 333, 334, 335, 336, 337,\n",
        "       338, 339, 340, 341, 342, 343, 344, 345, 346, 347, 348, 349]), array([350, 351, 352, 353, 354, 355, 356, 357, 358, 359, 360, 361, 362,\n",
        "       363, 364, 365, 366, 367, 368, 369, 370, 371, 372, 373, 374]), array([375, 376, 377, 378, 379, 380, 381, 382, 383, 384, 385, 386, 387,\n",
        "       388, 389, 390, 391, 392, 393, 394, 395, 396, 397, 398, 399]), array([400, 401, 402, 403, 404, 405, 406, 407, 408, 409, 410, 411, 412,\n",
        "       413, 414, 415, 416, 417, 418, 419, 420, 421, 422, 423, 424]), array([425, 426, 427, 428, 429, 430, 431, 432, 433, 434, 435, 436, 437,\n",
        "       438, 439, 440, 441, 442, 443, 444, 445, 446, 447, 448, 449]), array([450, 451, 452, 453, 454, 455, 456, 457, 458, 459, 460, 461, 462,\n",
        "       463, 464, 465, 466, 467, 468, 469, 470, 471, 472, 473, 474]), array([475, 476, 477, 478, 479, 480, 481, 482, 483, 484, 485, 486, 487,\n",
        "       488, 489, 490, 491, 492, 493, 494, 495, 496, 497, 498, 499])]\n",
        "Batch\n"
       ]
      },
      {
       "output_type": "stream",
       "stream": "stdout",
       "text": [
        "Batch\n",
        "Batch\n"
       ]
      },
      {
       "output_type": "stream",
       "stream": "stdout",
       "text": [
        "Batch\n",
        "Batch\n"
       ]
      },
      {
       "output_type": "stream",
       "stream": "stdout",
       "text": [
        "Batch\n",
        "Batch\n"
       ]
      },
      {
       "output_type": "stream",
       "stream": "stdout",
       "text": [
        "Batch\n"
       ]
      },
      {
       "output_type": "stream",
       "stream": "stdout",
       "text": [
        "Batch\n"
       ]
      },
      {
       "output_type": "stream",
       "stream": "stdout",
       "text": [
        "Batch\n"
       ]
      },
      {
       "output_type": "stream",
       "stream": "stdout",
       "text": [
        "Batch\n"
       ]
      },
      {
       "output_type": "stream",
       "stream": "stdout",
       "text": [
        "Batch\n"
       ]
      },
      {
       "output_type": "stream",
       "stream": "stdout",
       "text": [
        "Batch\n"
       ]
      },
      {
       "output_type": "stream",
       "stream": "stdout",
       "text": [
        "Batch\n"
       ]
      },
      {
       "output_type": "stream",
       "stream": "stdout",
       "text": [
        "Batch\n"
       ]
      },
      {
       "output_type": "stream",
       "stream": "stdout",
       "text": [
        "Batch\n"
       ]
      },
      {
       "output_type": "stream",
       "stream": "stdout",
       "text": [
        "Batch\n"
       ]
      },
      {
       "output_type": "stream",
       "stream": "stdout",
       "text": [
        "Batch\n"
       ]
      },
      {
       "output_type": "stream",
       "stream": "stdout",
       "text": [
        "Batch\n"
       ]
      },
      {
       "output_type": "stream",
       "stream": "stdout",
       "text": [
        "Batch\n"
       ]
      },
      {
       "output_type": "stream",
       "stream": "stdout",
       "text": [
        "Outputs (448, 5, 991, 1)\n",
        "Filter\n",
        "Filter\n"
       ]
      },
      {
       "output_type": "stream",
       "stream": "stdout",
       "text": [
        "Filter\n",
        "Filter\n"
       ]
      },
      {
       "output_type": "stream",
       "stream": "stdout",
       "text": [
        "Filter\n",
        "[array([71,  0, 72,  0]), array([ 70,   0, 218,   0]), array([328,   0, 538,   0]), array([329,   0, 392,   0]), array([ 19,   0, 219,   0]), array([ 18,   0, 365,   0]), array([ 37,   0, 136,   0]), array([ 36,   0, 282,   0]), array([248,   0, 460,   0]), array([249,   0, 314,   0]), array([174,   0, 320,   0]), array([175,   0, 174,   0]), array([431,   0, 577,   0]), array([430,   0, 723,   0]), array([343,   0, 188,   0]), array([342,   0, 334,   0]), array([114,   0, 317,   0]), array([115,   0, 171,   0]), array([424,   0,  15,   0]), array([ 41,   0, 542,   0]), array([ 40,   0, 688,   0]), array([ 99,   0, 176,   0]), array([ 98,   0, 322,   0]), array([135,   0, 211,   0]), array([134,   0, 357,   0]), array([358,   0, 911,   0]), array([359,   0, 765,   0]), array([266,   0, 393,   0]), array([267,   0, 247,   0]), array([154,   0, 356,   0]), array([155,   0, 210,   0]), array([146,   0, 345,   0]), array([147,   0, 199,   0]), array([387,   0, 138,   0]), array([386,   0, 284,   0]), array([274,   0, 371,   0]), array([275,   0, 225,   0]), array([100,   0, 432,   0]), array([101,   0, 286,   0]), array([133,   0, 192,   0]), array([132,   0, 338,   0]), array([107,   0, 146,   0]), array([106,   0, 292,   0]), array([344,   0, 397,   0]), array([345,   0, 251,   0]), array([128,   0, 446,   0]), array([129,   0, 300,   0]), array([374,   0, 887,   0]), array([375,   0, 741,   0]), array([156,   0,  64,   0]), array([180,   0, 409,   0]), array([181,   0, 263,   0]), array([365,   0, 235,   0]), array([364,   0, 381,   0]), array([264,   0, 323,   0]), array([265,   0, 177,   0]), array([  7,   0, 249,   0]), array([  6,   0, 395,   0]), array([376,   0, 337,   0]), array([377,   0, 191,   0]), array([262,   0, 345,   0]), array([263,   0, 199,   0]), array([ 89,   0, 174,   0]), array([ 88,   0, 320,   0]), array([427,   0, 825,   0]), array([426,   0, 971,   0]), array([294,   0, 337,   0]), array([295,   0, 191,   0]), array([309,   0, 350,   0]), array([308,   0, 496,   0]), array([439,   0, 487,   0]), array([438,   0, 633,   0]), array([184,   0,  34,   0]), array([433,   0, 429,   0]), array([432,   0, 575,   0]), array([379,   0, 926,   0]), array([403,   0, 440,   0]), array([402,   0, 586,   0]), array([388,   0, 334,   0]), array([389,   0, 188,   0]), array([271,   0, 185,   0]), array([270,   0, 331,   0]), array([  1,   0, 563,   0]), array([  0,   0, 709,   0]), array([ 84,   0, 912,   0]), array([ 85,   0, 766,   0]), array([288,   0, 388,   0]), array([289,   0, 242,   0]), array([228,   0, 309,   0]), array([229,   0, 163,   0]), array([190,   0,  17,   0]), array([339,   0, 568,   0]), array([338,   0, 714,   0]), array([236,   0, 316,   0]), array([237,   0, 170,   0]), array([163,   0, 508,   0]), array([162,   0, 654,   0]), array([218,   0, 325,   0]), array([219,   0, 179,   0]), array([102,   0, 804,   0]), array([329,   1, 449,   0]), array([328,   1, 595,   0]), array([18,  1, 95,  0]), array([19,  1, 14,  0]), array([ 70,   1, 181,   0]), array([71,  1, 35,  0]), array([ 37,   1, 812,   0]), array([ 36,   1, 958,   0]), array([ 78,   1, 663,   0]), array([ 79,   1, 517,   0]), array([433,   1, 292,   0]), array([432,   1, 438,   0]), array([360,   1, 512,   0]), array([361,   1, 366,   0]), array([431,   1, 656,   0]), array([430,   1, 802,   0]), array([115,   1, 975,   0]), array([292,   1, 119,   0]), array([362,   1, 567,   0]), array([363,   1, 421,   0]), array([246,   1, 202,   0]), array([247,   1,  56,   0]), array([427,   1, 730,   0]), array([426,   1, 876,   0]), array([421,   1, 595,   0]), array([420,   1, 741,   0]), array([305,   1, 946,   0]), array([355,   1, 283,   0]), array([354,   1, 429,   0]), array([161,   1, 936,   0]), array([410,   1, 516,   0]), array([411,   1, 370,   0]), array([397,   1, 978,   0]), array([390,   1, 942,   0]), array([391,   1, 796,   0]), array([441,   1, 633,   0]), array([440,   1, 779,   0]), array([  0,   1, 322,   0]), array([  1,   1, 176,   0]), array([331,   1,  82,   0]), array([330,   1, 228,   0]), array([352,   1, 665,   0]), array([353,   1, 519,   0]), array([ 47,   1, 949,   0]), array([308,   1, 695,   0]), array([309,   1, 549,   0]), array([372,   1, 776,   0]), array([373,   1, 630,   0]), array([ 58,   1, 511,   0]), array([ 59,   1, 365,   0]), array([108,   1,  38,   0]), array([425,   1, 207,   0]), array([424,   1, 353,   0]), array([123,   1, 832,   0]), array([122,   1, 978,   0]), array([103,   1, 134,   0]), array([102,   1, 280,   0]), array([345,   1, 254,   0]), array([344,   1, 400,   0]), array([  2,   1, 597,   0]), array([  3,   1, 451,   0]), array([156,   1,  48,   0]), array([346,   1, 890,   0]), array([347,   1, 744,   0]), array([68,  1, 95,  0]), array([264,   1,  50,   0]), array([205,   1,  18,   0]), array([204,   1, 164,   0]), array([  7,   1, 282,   0]), array([  6,   1, 428,   0]), array([181,   1, 812,   0]), array([180,   1, 958,   0]), array([417,   1, 976,   0]), array([380,   1, 101,   0]), array([318,   1,   0,   0]), array([324,   1, 895,   0]), array([325,   1, 749,   0]), array([107,   1, 823,   0]), array([106,   1, 969,   0]), array([30,  1, 41,  0]), array([315,   1, 531,   0]), array([314,   1, 677,   0]), array([419,   1, 935,   0]), array([251,   1, 504,   0]), array([250,   1, 650,   0]), array([326,   1, 761,   0]), array([327,   1, 615,   0]), array([ 61,   1, 809,   0]), array([ 60,   1, 955,   0]), array([230,   1, 129,   0]), array([418,   1, 548,   0]), array([197,   1, 906,   0]), array([303,   1, 188,   0]), array([302,   1, 334,   0]), array([377,   1, 493,   0]), array([376,   1, 639,   0]), array([185,   1,  35,   0]), array([184,   1, 181,   0]), array([335,   1, 180,   0]), array([334,   1, 326,   0]), array([167,   2, 954,   0]), array([377,   2, 875,   0]), array([145,   2, 937,   0]), array([71,  2, 68,  0]), array([ 70,   2, 214,   0]), array([360,   2, 942,   0]), array([361,   2, 796,   0]), array([190,   2,  17,   0]), array([384,   2, 804,   0]), array([385,   2, 658,   0]), array([ 26,   2, 961,   0]), array([ 27,   2, 815,   0]), array([ 28,   2, 123,   0]), array([166,   2, 813,   0]), array([329,   2, 916,   0]), array([421,   2, 862,   0]), array([397,   2, 953,   0]), array([279,   2, 966,   0]), array([302,   2,   8,   0]), array([201,   2, 669,   0]), array([200,   2, 815,   0]), array([  9,   2, 943,   0]), array([446,   2, 108,   0]), array([156,   2, 676,   0]), array([157,   2, 530,   0]), array([203,   2, 927,   0]), array([ 68,   2, 979,   0]), array([ 69,   2, 833,   0]), array([295,   2, 642,   0]), array([294,   2, 788,   0]), array([256,   2,  46,   0]), array([422,   2,  67,   0]), array([230,   2, 976,   0]), array([231,   2, 830,   0]), array([428,   2, 139,   0]), array([351,   2, 922,   0]), array([347,   2, 807,   0]), array([346,   2, 953,   0]), array([414,   2, 988,   0]), array([415,   2, 842,   0]), array([409,   2, 811,   0]), array([408,   2, 957,   0]), array([328,   2, 973,   0]), array([348,   2, 767,   0]), array([349,   2, 621,   0]), array([18,  2, 80,  0]), array([202,   2, 923,   0]), array([115,   2, 793,   0]), array([114,   2, 939,   0]), array([269,   2, 941,   0]), array([ 76,   2, 437,   0]), array([ 77,   2, 291,   0]), array([343,   2, 636,   0]), array([342,   2, 782,   0]), array([433,   2, 543,   0]), array([432,   2, 689,   0]), array([399,   2,   4,   0]), array([398,   2, 150,   0]), array([163,   2, 770,   0]), array([162,   2, 916,   0]), array([429,   2,  57,   0]), array([73,  2, 58,  0]), array([ 72,   2, 204,   0]), array([165,   2, 733,   0]), array([164,   2, 879,   0]), array([330,   2, 868,   0]), array([331,   2, 722,   0]), array([204,   2,  70,   0]), array([227,   2, 956,   0]), array([ 67,   2, 752,   0]), array([ 66,   2, 898,   0]), array([324,   2, 893,   0]), array([325,   2, 747,   0]), array([265,   2, 890,   0]), array([207,   2, 893,   0]), array([392,   2, 797,   0]), array([393,   2, 651,   0]), array([245,   2, 368,   0]), array([244,   2, 514,   0]), array([403,   2, 118,   0]), array([402,   2, 264,   0]), array([ 84,   2, 799,   0]), array([ 85,   2, 653,   0]), array([381,   2, 919,   0]), array([259,   2, 983,   0]), array([52,  2, 25,  0]), array([378,   2,  48,   0]), array([309,   2, 870,   0]), array([152,   2, 656,   0]), array([153,   2, 510,   0]), array([425,   2,  44,   0]), array([424,   2, 190,   0]), array([107,   2, 936,   0]), array([224,   2, 863,   0]), array([225,   2, 717,   0]), array([359,   2, 791,   0]), array([358,   2, 937,   0]), array([427,   2,  39,   0]), array([426,   2, 185,   0]), array([391,   2, 785,   0]), array([ 19,   3, 226,   0]), array([ 18,   3, 372,   0]), array([328,   3, 540,   0]), array([329,   3, 394,   0]), array([ 70,   3, 139,   0]), array([71,  3, 89,  0]), array([361,   3, 400,   0]), array([360,   3, 546,   0]), array([167,   3, 949,   0]), array([1, 3, 6, 0]), array([  0,   3, 152,   0]), array([418,   3, 912,   0]), array([419,   3, 766,   0]), array([ 69,   3, 882,   0]), array([421,   3, 603,   0]), array([420,   3, 749,   0]), array([334,   3, 814,   0]), array([335,   3, 668,   0]), array([143,   3, 219,   0]), array([142,   3, 365,   0]), array([336,   3,  45,   0]), array([166,   3, 937,   0]), array([428,   3, 747,   0]), array([429,   3, 601,   0]), array([349,   3, 373,   0]), array([348,   3, 519,   0]), array([344,   3, 737,   0]), array([345,   3, 591,   0]), array([ 20,   3, 570,   0]), array([ 21,   3, 424,   0]), array([432,   3, 265,   0]), array([433,   3, 119,   0]), array([ 26,   3, 682,   0]), array([ 27,   3, 536,   0]), array([138,   3, 186,   0]), array([139,   3,  40,   0]), array([364,   3, 867,   0]), array([365,   3, 721,   0]), array([ 76,   3, 600,   0]), array([ 77,   3, 454,   0]), array([  2,   3, 346,   0]), array([  3,   3, 200,   0]), array([169,   3, 822,   0]), array([168,   3, 968,   0]), array([403,   3, 355,   0]), array([402,   3, 501,   0]), array([ 13,   3, 805,   0]), array([ 12,   3, 951,   0]), array([435,   3, 707,   0]), array([434,   3, 853,   0]), array([330,   3, 696,   0]), array([331,   3, 550,   0]), array([401,   3,  43,   0]), array([400,   3, 189,   0]), array([ 85,   3, 646,   0]), array([ 84,   3, 792,   0]), array([399,   3, 164,   0]), array([398,   3, 310,   0]), array([377,   3, 752,   0]), array([376,   3, 898,   0]), array([ 91,   3, 882,   0]), array([430,   3, 157,   0]), array([431,   3,  11,   0]), array([ 40,   3, 784,   0]), array([ 41,   3, 638,   0]), array([366,   3, 396,   0]), array([367,   3, 250,   0]), array([424,   3,  25,   0]), array([137,   3, 989,   0]), array([123,   3, 844,   0]), array([122,   3, 990,   0]), array([109,   3, 716,   0]), array([108,   3, 862,   0]), array([ 90,   3, 496,   0]), array([113,   3, 862,   0]), array([346,   3, 110,   0]), array([ 31,   3, 931,   0]), array([427,   3, 755,   0]), array([426,   3, 901,   0]), array([413,   3, 714,   0]), array([412,   3, 860,   0]), array([444,   3, 849,   0]), array([445,   3, 703,   0]), array([407,   3, 558,   0]), array([406,   3, 704,   0]), array([313,   3, 930,   0]), array([405,   3, 854,   0]), array([260,   3, 269,   0]), array([261,   3, 123,   0]), array([355,   3, 358,   0]), array([354,   3, 504,   0]), array([305,   3, 982,   0]), array([393,   3, 953,   0]), array([314,   3, 491,   0]), array([315,   3, 345,   0]), array([304,   3, 767,   0]), array([290,   3, 677,   0]), array([291,   3, 531,   0]), array([312,   3, 601,   0]), array([438,   3,  54,   0]), array([ 18,   4, 369,   0]), array([ 19,   4, 223,   0]), array([ 70,   4, 500,   0]), array([ 71,   4, 354,   0]), array([328,   4, 541,   0]), array([329,   4, 395,   0]), array([369,   4, 953,   0]), array([345,   4, 698,   0]), array([344,   4, 844,   0]), array([434,   4, 621,   0]), array([435,   4, 475,   0]), array([430,   4, 725,   0]), array([431,   4, 579,   0]), array([166,   4, 481,   0]), array([167,   4, 335,   0]), array([ 41,   4, 540,   0]), array([ 40,   4, 686,   0]), array([107,   4, 759,   0]), array([106,   4, 905,   0]), array([324,   4, 893,   0]), array([325,   4, 747,   0]), array([440,   4,  65,   0]), array([256,   4, 142,   0]), array([358,   4, 913,   0]), array([359,   4, 767,   0]), array([392,   4, 101,   0]), array([361,   4, 466,   0]), array([360,   4, 612,   0]), array([384,   4,  10,   0]), array([346,   4, 721,   0]), array([347,   4, 575,   0]), array([391,   4, 714,   0]), array([390,   4, 860,   0]), array([417,   4, 948,   0]), array([204,   4, 818,   0]), array([205,   4, 672,   0]), array([101,   4, 284,   0]), array([100,   4, 430,   0]), array([383,   4, 887,   0]), array([363,   4, 419,   0]), array([362,   4, 565,   0]), array([367,   4, 333,   0]), array([366,   4, 479,   0]), array([259,   4, 932,   0]), array([290,   4, 894,   0]), array([291,   4, 748,   0]), array([306,   4, 901,   0]), array([307,   4, 755,   0]), array([286,   4, 182,   0]), array([287,   4,  36,   0]), array([159,   4, 846,   0]), array([425,   4,  60,   0]), array([424,   4, 206,   0]), array([285,   4, 834,   0]), array([284,   4, 980,   0]), array([128,   4, 928,   0]), array([129,   4, 782,   0]), array([426,   4, 879,   0]), array([427,   4, 733,   0]), array([102,   4,  84,   0]), array([354,   4, 522,   0]), array([355,   4, 376,   0]), array([251,   4, 420,   0]), array([250,   4, 566,   0]), array([308,   4, 924,   0]), array([309,   4, 778,   0]), array([276,   4,  83,   0]), array([374,   4, 788,   0]), array([375,   4, 642,   0]), array([125,   4, 660,   0]), array([124,   4, 806,   0]), array([382,   4, 778,   0]), array([ 79,   4, 733,   0]), array([ 78,   4, 879,   0]), array([223,   4, 941,   0]), array([318,   4, 763,   0]), array([319,   4, 617,   0]), array([184,   4,  36,   0]), array([156,   4,  46,   0]), array([263,   4, 855,   0]), array([202,   4, 146,   0]), array([203,   4,   0,   0]), array([127,   4, 570,   0]), array([126,   4, 716,   0]), array([407,   4, 953,   0]), array([110,   4, 381,   0]), array([111,   4, 235,   0]), array([ 27,   4, 758,   0]), array([ 26,   4, 904,   0]), array([160,   4, 966,   0]), array([161,   4, 820,   0]), array([  0,   4, 320,   0]), array([  1,   4, 174,   0]), array([313,   4, 930,   0]), array([428,   4, 722,   0]), array([429,   4, 576,   0]), array([145,   4, 678,   0]), array([144,   4, 824,   0]), array([370,   4, 493,   0]), array([371,   4, 347,   0])]\n",
        "max units\n",
        "[array([ 0,  1,  2,  3,  4,  5,  6,  7,  8,  9, 10, 11, 12, 13, 14, 15, 16,\n",
        "       17, 18, 19, 20, 21, 22, 23, 24]), array([25, 26, 27, 28, 29, 30, 31, 32, 33, 34, 35, 36, 37, 38, 39, 40, 41,\n",
        "       42, 43, 44, 45, 46, 47, 48, 49]), array([50, 51, 52, 53, 54, 55, 56, 57, 58, 59, 60, 61, 62, 63, 64, 65, 66,\n",
        "       67, 68, 69, 70, 71, 72, 73, 74]), array([75, 76, 77, 78, 79, 80, 81, 82, 83, 84, 85, 86, 87, 88, 89, 90, 91,\n",
        "       92, 93, 94, 95, 96, 97, 98, 99]), array([100, 101, 102, 103, 104, 105, 106, 107, 108, 109, 110, 111, 112,\n",
        "       113, 114, 115, 116, 117, 118, 119, 120, 121, 122, 123, 124]), array([125, 126, 127, 128, 129, 130, 131, 132, 133, 134, 135, 136, 137,\n",
        "       138, 139, 140, 141, 142, 143, 144, 145, 146, 147, 148, 149]), array([150, 151, 152, 153, 154, 155, 156, 157, 158, 159, 160, 161, 162,\n",
        "       163, 164, 165, 166, 167, 168, 169, 170, 171, 172, 173, 174]), array([175, 176, 177, 178, 179, 180, 181, 182, 183, 184, 185, 186, 187,\n",
        "       188, 189, 190, 191, 192, 193, 194, 195, 196, 197, 198, 199]), array([200, 201, 202, 203, 204, 205, 206, 207, 208, 209, 210, 211, 212,\n",
        "       213, 214, 215, 216, 217, 218, 219, 220, 221, 222, 223, 224]), array([225, 226, 227, 228, 229, 230, 231, 232, 233, 234, 235, 236, 237,\n",
        "       238, 239, 240, 241, 242, 243, 244, 245, 246, 247, 248, 249]), array([250, 251, 252, 253, 254, 255, 256, 257, 258, 259, 260, 261, 262,\n",
        "       263, 264, 265, 266, 267, 268, 269, 270, 271, 272, 273, 274]), array([275, 276, 277, 278, 279, 280, 281, 282, 283, 284, 285, 286, 287,\n",
        "       288, 289, 290, 291, 292, 293, 294, 295, 296, 297, 298, 299]), array([300, 301, 302, 303, 304, 305, 306, 307, 308, 309, 310, 311, 312,\n",
        "       313, 314, 315, 316, 317, 318, 319, 320, 321, 322, 323, 324]), array([325, 326, 327, 328, 329, 330, 331, 332, 333, 334, 335, 336, 337,\n",
        "       338, 339, 340, 341, 342, 343, 344, 345, 346, 347, 348, 349]), array([350, 351, 352, 353, 354, 355, 356, 357, 358, 359, 360, 361, 362,\n",
        "       363, 364, 365, 366, 367, 368, 369, 370, 371, 372, 373, 374]), array([375, 376, 377, 378, 379, 380, 381, 382, 383, 384, 385, 386, 387,\n",
        "       388, 389, 390, 391, 392, 393, 394, 395, 396, 397, 398, 399]), array([400, 401, 402, 403, 404, 405, 406, 407, 408, 409, 410, 411, 412,\n",
        "       413, 414, 415, 416, 417, 418, 419, 420, 421, 422, 423, 424]), array([425, 426, 427, 428, 429, 430, 431, 432, 433, 434, 435, 436, 437,\n",
        "       438, 439, 440, 441, 442, 443, 444, 445, 446, 447, 448, 449]), array([450, 451, 452, 453, 454, 455, 456, 457, 458, 459, 460, 461, 462,\n",
        "       463, 464, 465, 466, 467, 468, 469, 470, 471, 472, 473, 474]), array([475, 476, 477, 478, 479, 480, 481, 482, 483, 484, 485, 486, 487,\n",
        "       488, 489, 490, 491, 492, 493, 494, 495, 496, 497, 498, 499])]\n",
        "Batch\n"
       ]
      },
      {
       "output_type": "stream",
       "stream": "stdout",
       "text": [
        "Batch\n"
       ]
      },
      {
       "output_type": "stream",
       "stream": "stdout",
       "text": [
        "Batch\n",
        "Batch\n"
       ]
      },
      {
       "output_type": "stream",
       "stream": "stdout",
       "text": [
        "Batch\n",
        "Batch\n"
       ]
      },
      {
       "output_type": "stream",
       "stream": "stdout",
       "text": [
        "Batch\n",
        "Batch\n"
       ]
      },
      {
       "output_type": "stream",
       "stream": "stdout",
       "text": [
        "Batch\n"
       ]
      },
      {
       "output_type": "stream",
       "stream": "stdout",
       "text": [
        "Batch\n"
       ]
      },
      {
       "output_type": "stream",
       "stream": "stdout",
       "text": [
        "Batch\n"
       ]
      },
      {
       "output_type": "stream",
       "stream": "stdout",
       "text": [
        "Batch\n"
       ]
      },
      {
       "output_type": "stream",
       "stream": "stdout",
       "text": [
        "Batch\n"
       ]
      },
      {
       "output_type": "stream",
       "stream": "stdout",
       "text": [
        "Batch\n"
       ]
      },
      {
       "output_type": "stream",
       "stream": "stdout",
       "text": [
        "Batch\n"
       ]
      },
      {
       "output_type": "stream",
       "stream": "stdout",
       "text": [
        "Batch\n"
       ]
      },
      {
       "output_type": "stream",
       "stream": "stdout",
       "text": [
        "Batch\n"
       ]
      },
      {
       "output_type": "stream",
       "stream": "stdout",
       "text": [
        "Batch\n"
       ]
      },
      {
       "output_type": "stream",
       "stream": "stdout",
       "text": [
        "Batch\n"
       ]
      },
      {
       "output_type": "stream",
       "stream": "stdout",
       "text": [
        "Batch\n"
       ]
      },
      {
       "output_type": "stream",
       "stream": "stdout",
       "text": [
        "Outputs (448, 5, 962, 1)\n",
        "Filter\n",
        "Filter\n"
       ]
      },
      {
       "output_type": "stream",
       "stream": "stdout",
       "text": [
        "Filter\n",
        "Filter\n"
       ]
      },
      {
       "output_type": "stream",
       "stream": "stdout",
       "text": [
        "Filter\n",
        "[array([409,   0, 163,   0]), array([408,   0, 309,   0]), array([175,   0,  31,   0]), array([174,   0, 177,   0]), array([232,   0, 220,   0]), array([233,   0,  74,   0]), array([268,   0,  98,   0]), array([ 27,   0, 490,   0]), array([ 26,   0, 636,   0]), array([229,   0, 819,   0]), array([139,   0, 843,   0]), array([414,   0,  93,   0]), array([114,   0, 648,   0]), array([115,   0, 502,   0]), array([150,   0, 174,   0]), array([151,   0,  28,   0]), array([22,  0, 28,  0]), array([226,   0,  76,   0]), array([310,   0,   5,   0]), array([ 75,   0, 418,   0]), array([ 74,   0, 564,   0]), array([140,   0, 487,   0]), array([141,   0, 341,   0]), array([386,   0,   3,   0]), array([349,   0, 125,   0]), array([348,   0, 271,   0]), array([ 30,   0, 314,   0]), array([ 31,   0, 168,   0]), array([378,   0,   4,   0]), array([157,   0, 806,   0]), array([156,   0, 952,   0]), array([56,  0, 70,  0]), array([395,   0, 259,   0]), array([394,   0, 405,   0]), array([274,   0,  15,   0]), array([302,   0,  57,   0]), array([308,   0,  24,   0]), array([254,   0, 200,   0]), array([255,   0,  54,   0]), array([201,   0, 297,   0]), array([200,   0, 443,   0]), array([284,   0, 109,   0]), array([356,   0, 226,   0]), array([357,   0,  80,   0]), array([426,   0, 111,   0]), array([371,   0, 768,   0]), array([370,   0, 914,   0]), array([320,   0, 116,   0]), array([403,   0, 252,   0]), array([402,   0, 398,   0]), array([ 53,   0, 192,   0]), array([ 52,   0, 338,   0]), array([319,   0, 101,   0]), array([318,   0, 247,   0]), array([404,   0,  97,   0]), array([345,   0,  22,   0]), array([344,   0, 168,   0]), array([ 42,   0, 151,   0]), array([43,  0,  5,  0]), array([286,   0, 100,   0]), array([217,   0, 287,   0]), array([216,   0, 433,   0]), array([435,   0, 252,   0]), array([434,   0, 398,   0]), array([269,   0, 305,   0]), array([393,   0, 252,   0]), array([392,   0, 398,   0]), array([266,   0,  72,   0]), array([121,   0, 849,   0]), array([144,   0, 741,   0]), array([145,   0, 595,   0]), array([206,   0, 510,   0]), array([207,   0, 364,   0]), array([80,  0, 91,  0]), array([213,   0, 926,   0]), array([381,   0,  59,   0]), array([380,   0, 205,   0]), array([ 15,   0, 175,   0]), array([ 14,   0, 321,   0]), array([326,   0,  87,   0]), array([107,   0, 166,   0]), array([106,   0, 312,   0]), array([142,   0, 129,   0]), array([390,   0, 148,   0]), array([391,   0,   2,   0]), array([285,   0,  33,   0]), array([ 65,   0, 131,   0]), array([ 64,   0, 277,   0]), array([271,   0, 732,   0]), array([270,   0, 878,   0]), array([275,   0, 193,   0]), array([429,   0, 917,   0]), array([ 23,   0, 134,   0]), array([  0,   0, 588,   0]), array([  1,   0, 442,   0]), array([  6,   0, 137,   0]), array([ 72,   0, 399,   0]), array([ 73,   0, 253,   0]), array([277,   0, 275,   0]), array([276,   0, 421,   0]), array([228,   1, 836,   0]), array([229,   1, 690,   0]), array([232,   1,  82,   0]), array([435,   1,   4,   0]), array([434,   1, 150,   0]), array([302,   1, 138,   0]), array([269,   1, 293,   0]), array([268,   1, 439,   0]), array([174,   1, 163,   0]), array([175,   1,  17,   0]), array([233,   1,  35,   0]), array([284,   1,  68,   0]), array([ 26,   1, 643,   0]), array([ 27,   1, 497,   0]), array([310,   1,  11,   0]), array([226,   1,  43,   0]), array([236,   1, 155,   0]), array([237,   1,   9,   0]), array([336,   1, 401,   0]), array([337,   1, 255,   0]), array([303,   1,  14,   0]), array([201,   1, 492,   0]), array([200,   1, 638,   0]), array([389,   1, 665,   0]), array([388,   1, 811,   0]), array([199,   1, 919,   0]), array([264,   1, 145,   0]), array([ 71,   1, 765,   0]), array([ 70,   1, 911,   0]), array([ 8,  1, 54,  0]), array([298,   1, 914,   0]), array([299,   1, 768,   0]), array([265,   1,   0,   0]), array([422,   1, 404,   0]), array([423,   1, 258,   0]), array([446,   1, 119,   0]), array([162,   1, 952,   0]), array([163,   1, 806,   0]), array([313,   1, 741,   0]), array([312,   1, 887,   0]), array([ 50,   1, 166,   0]), array([51,  1, 20,  0]), array([ 6,  1, 76,  0]), array([345,   1, 828,   0]), array([424,   1, 757,   0]), array([425,   1, 611,   0]), array([363,   1, 202,   0]), array([362,   1, 348,   0]), array([256,   1, 205,   0]), array([257,   1,  59,   0]), array([391,   1, 270,   0]), array([390,   1, 416,   0]), array([320,   1, 125,   0]), array([ 75,   1, 837,   0]), array([308,   1,   9,   0]), array([411,   1, 233,   0]), array([410,   1, 379,   0]), array([137,   1, 280,   0]), array([136,   1, 426,   0]), array([ 69,   1, 267,   0]), array([ 68,   1, 413,   0]), array([385,   1, 780,   0]), array([384,   1, 926,   0]), array([ 56,   1, 123,   0]), array([230,   1, 525,   0]), array([231,   1, 379,   0]), array([  5,   1, 439,   0]), array([  4,   1, 585,   0]), array([ 21,   1, 213,   0]), array([ 20,   1, 359,   0]), array([  7,   1, 549,   0]), array([144,   1, 769,   0]), array([145,   1, 623,   0]), array([ 16,   1, 542,   0]), array([ 17,   1, 396,   0]), array([255,   1, 908,   0]), array([356,   1,  26,   0]), array([194,   1, 518,   0]), array([195,   1, 372,   0]), array([150,   1,  90,   0]), array([244,   1,  49,   0]), array([261,   1, 191,   0]), array([260,   1, 337,   0]), array([443,   1,   3,   0]), array([442,   1, 149,   0]), array([371,   1, 269,   0]), array([370,   1, 415,   0]), array([239,   1, 324,   0]), array([238,   1, 470,   0]), array([366,   1,  96,   0]), array([107,   1, 883,   0]), array([378,   1, 408,   0]), array([379,   1, 262,   0]), array([149,   1, 139,   0]), array([148,   1, 285,   0]), array([ 54,   1, 692,   0]), array([ 55,   1, 546,   0]), array([227,   1,  78,   0]), array([198,   1, 443,   0]), array([185,   1, 512,   0]), array([410,   2, 118,   0]), array([356,   2,  34,   0]), array([363,   2,   1,   0]), array([362,   2, 147,   0]), array([345,   2,  13,   0]), array([344,   2, 159,   0]), array([150,   2,  41,   0]), array([278,   2, 162,   0]), array([279,   2,  16,   0]), array([216,   2, 125,   0]), array([400,   2, 132,   0]), array([310,   2, 180,   0]), array([311,   2,  34,   0]), array([430,   2,  67,   0]), array([52,  2, 18,  0]), array([115,   2,  43,   0]), array([114,   2, 189,   0]), array([50,  2, 27,  0]), array([440,   2, 104,   0]), array([342,   2,  44,   0]), array([ 14,   2, 135,   0]), array([312,   2, 913,   0]), array([313,   2, 767,   0]), array([232,   2, 110,   0]), array([142,   2,  27,   0]), array([44,  2, 24,  0]), array([435,   2, 278,   0]), array([434,   2, 424,   0]), array([23,  2, 60,  0]), array([ 22,   2, 206,   0]), array([257,   2,  61,   0]), array([256,   2, 207,   0]), array([332,   2,   1,   0]), array([427,   2, 245,   0]), array([426,   2, 391,   0]), array([392,   2, 147,   0]), array([393,   2,   1,   0]), array([109,   2, 820,   0]), array([40,  2, 36,  0]), array([194,   2, 413,   0]), array([195,   2, 267,   0]), array([51,  2, 26,  0]), array([269,   2,  12,   0]), array([268,   2, 158,   0]), array([233,   2, 106,   0]), array([200,   2, 494,   0]), array([201,   2, 348,   0]), array([422,   2, 812,   0]), array([423,   2, 666,   0]), array([263,   2,  94,   0]), array([262,   2, 240,   0]), array([340,   2, 833,   0]), array([341,   2, 687,   0]), array([179,   2, 519,   0]), array([178,   2, 665,   0]), array([86,  2, 36,  0]), array([336,   2, 218,   0]), array([337,   2,  72,   0]), array([240,   2,  90,   0]), array([107,   2, 361,   0]), array([106,   2, 507,   0]), array([116,   2, 132,   0]), array([258,   2,  56,   0]), array([  9,   2, 378,   0]), array([  8,   2, 524,   0]), array([162,   2, 163,   0]), array([163,   2,  17,   0]), array([64,  2,  2,  0]), array([330,   2,  72,   0]), array([151,   2,  19,   0]), array([70,  2, 57,  0]), array([219,   2, 104,   0]), array([218,   2, 250,   0]), array([239,   2,  50,   0]), array([238,   2, 196,   0]), array([206,   2, 146,   0]), array([207,   2,   0,   0]), array([144,   2, 509,   0]), array([145,   2, 363,   0]), array([126,   2, 100,   0]), array([ 82,   2, 120,   0]), array([ 56,   2, 123,   0]), array([94,  2,  9,  0]), array([361,   2, 430,   0]), array([360,   2, 576,   0]), array([214,   2, 204,   0]), array([215,   2,  58,   0]), array([302,   2,  22,   0]), array([ 16,   2, 542,   0]), array([ 17,   2, 396,   0]), array([143,   2,  21,   0]), array([260,   2, 111,   0]), array([136,   2, 430,   0]), array([137,   2, 284,   0]), array([148,   2,  64,   0]), array([264,   2,   1,   0]), array([ 53,   2, 240,   0]), array([370,   2, 100,   0]), array([297,   2, 917,   0]), array([298,   2, 876,   0]), array([410,   3, 139,   0]), array([432,   3, 138,   0]), array([260,   3,  36,   0]), array([434,   3, 421,   0]), array([435,   3, 275,   0]), array([142,   3,  21,   0]), array([388,   3, 808,   0]), array([389,   3, 662,   0]), array([254,   3, 232,   0]), array([255,   3,  86,   0]), array([344,   3, 156,   0]), array([345,   3,  10,   0]), array([ 26,   3, 620,   0]), array([ 27,   3, 474,   0]), array([411,   3,  15,   0]), array([216,   3, 122,   0]), array([178,   3, 659,   0]), array([179,   3, 513,   0]), array([305,   3, 236,   0]), array([304,   3, 382,   0]), array([236,   3, 444,   0]), array([237,   3, 298,   0]), array([433,   3,  17,   0]), array([86,  3,  7,  0]), array([109,   3, 815,   0]), array([108,   3, 961,   0]), array([256,   3, 204,   0]), array([257,   3,  58,   0]), array([341,   3, 684,   0]), array([340,   3, 830,   0]), array([217,   3,  25,   0]), array([211,   3, 519,   0]), array([210,   3, 665,   0]), array([310,   3, 129,   0]), array([426,   3, 386,   0]), array([427,   3, 240,   0]), array([381,   3, 480,   0]), array([380,   3, 626,   0]), array([313,   3, 762,   0]), array([312,   3, 908,   0]), array([ 38,   3, 155,   0]), array([39,  3,  9,  0]), array([275,   3, 161,   0]), array([274,   3, 307,   0]), array([44,  3, 20,  0]), array([231,   3, 356,   0]), array([230,   3, 502,   0]), array([400,   3, 127,   0]), array([144,   3, 504,   0]), array([145,   3, 358,   0]), array([422,   3, 807,   0]), array([423,   3, 661,   0]), array([128,   3, 403,   0]), array([129,   3, 257,   0]), array([398,   3, 537,   0]), array([399,   3, 391,   0]), array([72,  3, 68,  0]), array([194,   3, 408,   0]), array([195,   3, 262,   0]), array([ 64,   3, 100,   0]), array([ 20,   3, 147,   0]), array([21,  3,  1,  0]), array([131,   3,  32,   0]), array([130,   3, 178,   0]), array([136,   3, 938,   0]), array([137,   3, 792,   0]), array([347,   3, 552,   0]), array([346,   3, 698,   0]), array([440,   3, 120,   0]), array([330,   3, 764,   0]), array([331,   3, 618,   0]), array([350,   3, 930,   0]), array([351,   3, 784,   0]), array([336,   3, 212,   0]), array([337,   3,  66,   0]), array([425,   3, 614,   0]), array([424,   3, 760,   0]), array([356,   3,  28,   0]), array([ 52,   3, 115,   0]), array([65,  3,  2,  0]), array([22,  3, 84,  0]), array([135,   3, 635,   0]), array([134,   3, 781,   0]), array([87,  3,  5,  0]), array([212,   3, 616,   0]), array([213,   3, 470,   0]), array([318,   3,  73,   0]), array([143,   3, 485,   0]), array([126,   3,  96,   0]), array([342,   3,  41,   0]), array([138,   3,  98,   0]), array([215,   3, 918,   0]), array([339,   3, 825,   0]), array([446,   3, 169,   0]), array([447,   3,  23,   0]), array([ 62,   3, 782,   0]), array([ 63,   3, 636,   0]), array([192,   3, 922,   0]), array([193,   3, 776,   0]), array([290,   3, 100,   0]), array([284,   4, 170,   0]), array([285,   4,  24,   0]), array([174,   4, 171,   0]), array([175,   4,  25,   0]), array([408,   4,  69,   0]), array([302,   4,   1,   0]), array([414,   4,  32,   0]), array([172,   4, 101,   0]), array([264,   4, 243,   0]), array([265,   4,  97,   0]), array([246,   4,  42,   0]), array([415,   4,  55,   0]), array([233,   4,  88,   0]), array([232,   4, 234,   0]), array([163,   4, 935,   0]), array([275,   4,  80,   0]), array([274,   4, 226,   0]), array([20,  4, 22,  0]), array([128,   4, 199,   0]), array([129,   4,  53,   0]), array([426,   4, 103,   0]), array([400,   4,  38,   0]), array([334,   4,  44,   0]), array([308,   4,  61,   0]), array([310,   4,  90,   0]), array([168,   4, 213,   0]), array([169,   4,  67,   0]), array([187,   4,  57,   0]), array([186,   4, 203,   0]), array([356,   4, 217,   0]), array([357,   4,  71,   0]), array([21,  4, 74,  0]), array([206,   4, 124,   0]), array([431,   4, 286,   0]), array([430,   4, 432,   0]), array([ 5,  4, 72,  0]), array([  4,   4, 218,   0]), array([406,   4,  19,   0]), array([428,   4, 163,   0]), array([429,   4,  17,   0]), array([188,   4,  80,   0]), array([262,   4,  66,   0]), array([226,   4,  88,   0]), array([ 31,   4, 164,   0]), array([ 30,   4, 310,   0]), array([136,   4, 103,   0]), array([380,   4,  86,   0]), array([358,   4,  97,   0]), array([409,   4, 114,   0]), array([288,   4, 107,   0]), array([162,   4,  92,   0]), array([320,   4, 109,   0]), array([207,   4,   2,   0]), array([157,   4, 821,   0]), array([266,   4, 159,   0]), array([267,   4,  13,   0]), array([381,   4,  50,   0]), array([ 23,   4, 128,   0]), array([ 22,   4, 274,   0]), array([394,   4, 830,   0]), array([395,   4, 684,   0]), array([100,   4,  21,   0]), array([56,  4, 62,  0]), array([ 52,   4, 223,   0]), array([53,  4, 77,  0]), array([140,   4, 130,   0]), array([160,   4, 102,   0]), array([65,  4, 55,  0]), array([ 64,   4, 201,   0]), array([98,  4,  9,  0]), array([51,  4, 49,  0]), array([ 50,   4, 195,   0]), array([ 15,   4, 337,   0]), array([ 14,   4, 483,   0]), array([156,   4, 946,   0]), array([261,   4,  43,   0]), array([260,   4, 189,   0]), array([ 27,   4, 371,   0]), array([ 26,   4, 517,   0]), array([80,  4, 84,  0]), array([  1,   4, 843,   0]), array([201,   4, 542,   0]), array([200,   4, 688,   0]), array([256,   4, 210,   0]), array([257,   4,  64,   0]), array([319,   4,  70,   0]), array([318,   4, 216,   0]), array([217,   4, 280,   0]), array([216,   4, 426,   0]), array([ 75,   4, 413,   0]), array([ 74,   4, 559,   0]), array([161,   4,   4,   0]), array([ 34,   4, 224,   0]), array([35,  4, 78,  0]), array([434,   4,  70,   0]), array([411,   4, 241,   0]), array([410,   4, 387,   0]), array([403,   4, 264,   0]), array([402,   4, 410,   0]), array([114,   4, 193,   0])]\n",
        "max units\n",
        "[array([ 0,  1,  2,  3,  4,  5,  6,  7,  8,  9, 10, 11, 12, 13, 14, 15, 16]), array([17, 18, 19, 20, 21, 22, 23, 24, 25, 26, 27, 28, 29, 30, 31, 32, 33]), array([34, 35, 36, 37, 38, 39, 40, 41, 42, 43, 44, 45, 46, 47, 48, 49, 50]), array([51, 52, 53, 54, 55, 56, 57, 58, 59, 60, 61, 62, 63, 64, 65, 66, 67]), array([68, 69, 70, 71, 72, 73, 74, 75, 76, 77, 78, 79, 80, 81, 82, 83, 84]), array([ 85,  86,  87,  88,  89,  90,  91,  92,  93,  94,  95,  96,  97,\n",
        "        98,  99, 100, 101]), array([102, 103, 104, 105, 106, 107, 108, 109, 110, 111, 112, 113, 114,\n",
        "       115, 116, 117, 118]), array([119, 120, 121, 122, 123, 124, 125, 126, 127, 128, 129, 130, 131,\n",
        "       132, 133, 134, 135]), array([136, 137, 138, 139, 140, 141, 142, 143, 144, 145, 146, 147, 148,\n",
        "       149, 150, 151, 152]), array([153, 154, 155, 156, 157, 158, 159, 160, 161, 162, 163, 164, 165,\n",
        "       166, 167, 168, 169]), array([170, 171, 172, 173, 174, 175, 176, 177, 178, 179, 180, 181, 182,\n",
        "       183, 184, 185, 186]), array([187, 188, 189, 190, 191, 192, 193, 194, 195, 196, 197, 198, 199,\n",
        "       200, 201, 202, 203]), array([204, 205, 206, 207, 208, 209, 210, 211, 212, 213, 214, 215, 216,\n",
        "       217, 218, 219, 220]), array([221, 222, 223, 224, 225, 226, 227, 228, 229, 230, 231, 232, 233,\n",
        "       234, 235, 236, 237]), array([238, 239, 240, 241, 242, 243, 244, 245, 246, 247, 248, 249, 250,\n",
        "       251, 252, 253, 254]), array([255, 256, 257, 258, 259, 260, 261, 262, 263, 264, 265, 266, 267,\n",
        "       268, 269, 270, 271]), array([272, 273, 274, 275, 276, 277, 278, 279, 280, 281, 282, 283, 284,\n",
        "       285, 286, 287, 288]), array([289, 290, 291, 292, 293, 294, 295, 296, 297, 298, 299, 300, 301,\n",
        "       302, 303, 304, 305]), array([306, 307, 308, 309, 310, 311, 312, 313, 314, 315, 316, 317, 318,\n",
        "       319, 320, 321, 322]), array([323, 324, 325, 326, 327, 328, 329, 330, 331, 332, 333, 334, 335,\n",
        "       336, 337, 338, 339]), array([340, 341, 342, 343, 344, 345, 346, 347, 348, 349, 350, 351, 352,\n",
        "       353, 354, 355]), array([356, 357, 358, 359, 360, 361, 362, 363, 364, 365, 366, 367, 368,\n",
        "       369, 370, 371]), array([372, 373, 374, 375, 376, 377, 378, 379, 380, 381, 382, 383, 384,\n",
        "       385, 386, 387]), array([388, 389, 390, 391, 392, 393, 394, 395, 396, 397, 398, 399, 400,\n",
        "       401, 402, 403]), array([404, 405, 406, 407, 408, 409, 410, 411, 412, 413, 414, 415, 416,\n",
        "       417, 418, 419]), array([420, 421, 422, 423, 424, 425, 426, 427, 428, 429, 430, 431, 432,\n",
        "       433, 434, 435]), array([436, 437, 438, 439, 440, 441, 442, 443, 444, 445, 446, 447, 448,\n",
        "       449, 450, 451]), array([452, 453, 454, 455, 456, 457, 458, 459, 460, 461, 462, 463, 464,\n",
        "       465, 466, 467]), array([468, 469, 470, 471, 472, 473, 474, 475, 476, 477, 478, 479, 480,\n",
        "       481, 482, 483]), array([484, 485, 486, 487, 488, 489, 490, 491, 492, 493, 494, 495, 496,\n",
        "       497, 498, 499])]\n",
        "Batch\n"
       ]
      },
      {
       "output_type": "stream",
       "stream": "stdout",
       "text": [
        "!!!W!!! Prod{acc_dtype=int64}.0\n"
       ]
      },
      {
       "output_type": "stream",
       "stream": "stdout",
       "text": [
        "Batch\n",
        "!!!W!!! Prod{acc_dtype=int64}.0\n"
       ]
      },
      {
       "output_type": "stream",
       "stream": "stdout",
       "text": [
        "Batch\n",
        "!!!W!!! Prod{acc_dtype=int64}.0\n"
       ]
      },
      {
       "output_type": "stream",
       "stream": "stdout",
       "text": [
        "Batch\n",
        "!!!W!!! Prod{acc_dtype=int64}.0\n"
       ]
      },
      {
       "output_type": "stream",
       "stream": "stdout",
       "text": [
        "Batch\n",
        "!!!W!!! Prod{acc_dtype=int64}.0\n"
       ]
      },
      {
       "output_type": "stream",
       "stream": "stdout",
       "text": [
        "Batch\n",
        "!!!W!!! Prod{acc_dtype=int64}.0\n"
       ]
      },
      {
       "output_type": "stream",
       "stream": "stdout",
       "text": [
        "Batch\n",
        "!!!W!!! Prod{acc_dtype=int64}.0\n"
       ]
      },
      {
       "output_type": "stream",
       "stream": "stdout",
       "text": [
        "Batch\n",
        "!!!W!!! Prod{acc_dtype=int64}.0\n"
       ]
      },
      {
       "output_type": "stream",
       "stream": "stdout",
       "text": [
        "Batch\n",
        "!!!W!!! Prod{acc_dtype=int64}.0\n"
       ]
      },
      {
       "output_type": "stream",
       "stream": "stdout",
       "text": [
        "Batch\n",
        "!!!W!!! Prod{acc_dtype=int64}.0\n"
       ]
      },
      {
       "output_type": "stream",
       "stream": "stdout",
       "text": [
        "Batch\n",
        "!!!W!!! Prod{acc_dtype=int64}.0\n"
       ]
      },
      {
       "output_type": "stream",
       "stream": "stdout",
       "text": [
        "Batch\n",
        "!!!W!!! Prod{acc_dtype=int64}.0\n"
       ]
      },
      {
       "output_type": "stream",
       "stream": "stdout",
       "text": [
        "Batch\n",
        "!!!W!!! Prod{acc_dtype=int64}.0\n"
       ]
      },
      {
       "output_type": "stream",
       "stream": "stdout",
       "text": [
        "Batch\n",
        "!!!W!!! Prod{acc_dtype=int64}.0\n"
       ]
      },
      {
       "output_type": "stream",
       "stream": "stdout",
       "text": [
        "Batch\n",
        "!!!W!!! Prod{acc_dtype=int64}.0\n"
       ]
      },
      {
       "output_type": "stream",
       "stream": "stdout",
       "text": [
        "Batch\n",
        "!!!W!!! Prod{acc_dtype=int64}.0\n"
       ]
      },
      {
       "output_type": "stream",
       "stream": "stdout",
       "text": [
        "Batch\n",
        "!!!W!!! Prod{acc_dtype=int64}.0\n"
       ]
      },
      {
       "output_type": "stream",
       "stream": "stdout",
       "text": [
        "Batch\n",
        "!!!W!!! Prod{acc_dtype=int64}.0\n"
       ]
      },
      {
       "output_type": "stream",
       "stream": "stdout",
       "text": [
        "Batch\n",
        "!!!W!!! Prod{acc_dtype=int64}.0\n"
       ]
      },
      {
       "output_type": "stream",
       "stream": "stdout",
       "text": [
        "Batch\n",
        "!!!W!!! Prod{acc_dtype=int64}.0\n"
       ]
      },
      {
       "output_type": "stream",
       "stream": "stdout",
       "text": [
        "Batch\n",
        "!!!W!!! Prod{acc_dtype=int64}.0\n"
       ]
      },
      {
       "output_type": "stream",
       "stream": "stdout",
       "text": [
        "Batch\n",
        "!!!W!!! Prod{acc_dtype=int64}.0\n"
       ]
      },
      {
       "output_type": "stream",
       "stream": "stdout",
       "text": [
        "Batch\n",
        "!!!W!!! Prod{acc_dtype=int64}.0\n"
       ]
      },
      {
       "output_type": "stream",
       "stream": "stdout",
       "text": [
        "Batch\n",
        "!!!W!!! Prod{acc_dtype=int64}.0\n"
       ]
      },
      {
       "output_type": "stream",
       "stream": "stdout",
       "text": [
        "Batch\n",
        "!!!W!!! Prod{acc_dtype=int64}.0\n"
       ]
      },
      {
       "output_type": "stream",
       "stream": "stdout",
       "text": [
        "Batch\n",
        "!!!W!!! Prod{acc_dtype=int64}.0\n"
       ]
      },
      {
       "output_type": "stream",
       "stream": "stdout",
       "text": [
        "Batch\n",
        "!!!W!!! Prod{acc_dtype=int64}.0\n"
       ]
      },
      {
       "output_type": "stream",
       "stream": "stdout",
       "text": [
        "Batch\n",
        "!!!W!!! Prod{acc_dtype=int64}.0\n"
       ]
      },
      {
       "output_type": "stream",
       "stream": "stdout",
       "text": [
        "Batch\n",
        "!!!W!!! Prod{acc_dtype=int64}.0\n"
       ]
      },
      {
       "output_type": "stream",
       "stream": "stdout",
       "text": [
        "Batch\n",
        "!!!W!!! Prod{acc_dtype=int64}.0\n"
       ]
      },
      {
       "output_type": "stream",
       "stream": "stdout",
       "text": [
        "Outputs (448, 5, 962, 1)\n",
        "Filter\n",
        "Filter\n"
       ]
      },
      {
       "output_type": "stream",
       "stream": "stdout",
       "text": [
        "Filter\n",
        "Filter\n"
       ]
      },
      {
       "output_type": "stream",
       "stream": "stdout",
       "text": [
        "Filter\n",
        "[array([396,   0, 279,   0]), array([397,   0, 133,   0]), array([404,   0, 337,   0]), array([405,   0, 191,   0]), array([207,   0, 123,   0]), array([206,   0, 269,   0]), array([427,   0, 169,   0]), array([426,   0, 315,   0]), array([169,   0, 264,   0]), array([168,   0, 410,   0]), array([284,   0, 326,   0]), array([285,   0, 180,   0]), array([170,   0, 304,   0]), array([171,   0, 158,   0]), array([289,   0, 130,   0]), array([288,   0, 276,   0]), array([ 47,   0, 134,   0]), array([ 46,   0, 280,   0]), array([135,   0, 315,   0]), array([134,   0, 461,   0]), array([164,   0, 281,   0]), array([165,   0, 135,   0]), array([210,   0, 695,   0]), array([211,   0, 549,   0]), array([342,   0, 455,   0]), array([343,   0, 309,   0]), array([247,   0,  82,   0]), array([246,   0, 228,   0]), array([310,   0, 352,   0]), array([311,   0, 206,   0]), array([108,   0, 530,   0]), array([109,   0, 384,   0]), array([136,   0, 560,   0]), array([137,   0, 414,   0]), array([161,   0, 276,   0]), array([160,   0, 422,   0]), array([259,   0, 119,   0]), array([258,   0, 265,   0]), array([321,   0, 181,   0]), array([320,   0, 327,   0]), array([ 26,   0, 300,   0]), array([ 27,   0, 154,   0]), array([346,   0, 315,   0]), array([347,   0, 169,   0]), array([229,   0, 314,   0]), array([228,   0, 460,   0]), array([ 65,   0, 429,   0]), array([ 64,   0, 575,   0]), array([435,   0, 761,   0]), array([434,   0, 907,   0]), array([252,   0, 396,   0]), array([253,   0, 250,   0]), array([381,   0, 145,   0]), array([380,   0, 291,   0]), array([121,   0, 284,   0]), array([120,   0, 430,   0]), array([236,   0, 573,   0]), array([237,   0, 427,   0]), array([324,   0, 304,   0]), array([325,   0, 158,   0]), array([212,   0, 557,   0]), array([213,   0, 411,   0]), array([181,   0, 942,   0]), array([337,   0, 300,   0]), array([336,   0, 446,   0]), array([399,   0, 130,   0]), array([398,   0, 276,   0]), array([224,   0, 455,   0]), array([225,   0, 309,   0]), array([111,   0, 139,   0]), array([110,   0, 285,   0]), array([ 98,   0, 282,   0]), array([ 99,   0, 136,   0]), array([ 96,   0, 245,   0]), array([97,  0, 99,  0]), array([401,   0, 850,   0]), array([424,   0, 277,   0]), array([425,   0, 131,   0]), array([265,   0, 127,   0]), array([264,   0, 273,   0]), array([305,   0, 494,   0]), array([304,   0, 640,   0]), array([387,   0, 165,   0]), array([386,   0, 311,   0]), array([440,   0, 279,   0]), array([441,   0, 133,   0]), array([416,   0,  90,   0]), array([254,   0, 420,   0]), array([255,   0, 274,   0]), array([ 29,   0, 403,   0]), array([ 28,   0, 549,   0]), array([112,   0, 934,   0]), array([113,   0, 788,   0]), array([271,   0, 881,   0]), array([143,   0, 391,   0]), array([142,   0, 537,   0]), array([436,   0, 781,   0]), array([437,   0, 635,   0]), array([368,   0, 254,   0]), array([369,   0, 108,   0]), array([168,   1, 251,   0]), array([169,   1, 105,   0]), array([404,   1,   5,   0]), array([69,  1, 28,  0]), array([ 68,   1, 174,   0]), array([433,   1, 186,   0]), array([432,   1, 332,   0]), array([110,   1, 282,   0]), array([111,   1, 136,   0]), array([349,   1, 165,   0]), array([348,   1, 311,   0]), array([347,   1, 169,   0]), array([346,   1, 315,   0]), array([161,   1, 273,   0]), array([160,   1, 419,   0]), array([ 41,   1, 319,   0]), array([ 40,   1, 465,   0]), array([ 29,   1, 230,   0]), array([ 28,   1, 376,   0]), array([381,   1, 142,   0]), array([380,   1, 288,   0]), array([419,   1,  84,   0]), array([418,   1, 230,   0]), array([ 24,   1, 420,   0]), array([ 25,   1, 274,   0]), array([ 10,   1, 469,   0]), array([ 11,   1, 323,   0]), array([422,   1, 379,   0]), array([423,   1, 233,   0]), array([ 23,   1, 202,   0]), array([ 22,   1, 348,   0]), array([311,   1, 220,   0]), array([310,   1, 366,   0]), array([417,   1,   9,   0]), array([416,   1, 155,   0]), array([ 48,   1, 424,   0]), array([ 49,   1, 278,   0]), array([210,   1, 669,   0]), array([211,   1, 523,   0]), array([ 64,   1, 570,   0]), array([ 65,   1, 424,   0]), array([431,   1, 165,   0]), array([430,   1, 311,   0]), array([295,   1, 136,   0]), array([294,   1, 282,   0]), array([74,  1, 73,  0]), array([ 91,   1, 137,   0]), array([ 90,   1, 283,   0]), array([  7,   1, 231,   0]), array([  6,   1, 377,   0]), array([136,   1, 385,   0]), array([137,   1, 239,   0]), array([425,   1, 254,   0]), array([424,   1, 400,   0]), array([271,   1, 299,   0]), array([270,   1, 445,   0]), array([155,   1, 338,   0]), array([154,   1, 484,   0]), array([246,   1, 413,   0]), array([247,   1, 267,   0]), array([ 53,   1, 326,   0]), array([ 52,   1, 472,   0]), array([442,   1, 373,   0]), array([443,   1, 227,   0]), array([342,   1, 471,   0]), array([343,   1, 325,   0]), array([ 76,   1, 607,   0]), array([ 77,   1, 461,   0]), array([186,   1, 126,   0]), array([  4,   1, 314,   0]), array([  5,   1, 168,   0]), array([303,   1, 898,   0]), array([146,   1, 278,   0]), array([147,   1, 132,   0]), array([138,   1, 568,   0]), array([139,   1, 422,   0]), array([447,   1, 784,   0]), array([446,   1, 930,   0]), array([130,   1, 329,   0]), array([131,   1, 183,   0]), array([289,   1, 107,   0]), array([288,   1, 253,   0]), array([228,   1, 454,   0]), array([229,   1, 308,   0]), array([164,   1, 277,   0]), array([165,   1, 131,   0]), array([ 21,   1, 116,   0]), array([ 20,   1, 262,   0]), array([113,   1, 719,   0]), array([112,   1, 865,   0]), array([284,   1, 323,   0]), array([285,   1, 177,   0]), array([341,   1, 141,   0]), array([340,   1, 287,   0]), array([412,   1, 550,   0]), array([413,   1, 404,   0]), array([369,   1, 278,   0]), array([368,   1, 424,   0]), array([405,   1, 189,   0]), array([233,   1, 902,   0]), array([416,   2, 100,   0]), array([417,   2,  21,   0]), array([405,   2, 194,   0]), array([404,   2, 340,   0]), array([211,   2, 628,   0]), array([210,   2, 774,   0]), array([397,   2, 121,   0]), array([396,   2, 267,   0]), array([399,   2, 136,   0]), array([398,   2, 282,   0]), array([164,   2, 285,   0]), array([165,   2, 139,   0]), array([426,   2, 315,   0]), array([427,   2, 169,   0]), array([418,   2,  73,   0]), array([253,   2, 254,   0]), array([252,   2, 400,   0]), array([160,   2, 943,   0]), array([161,   2, 797,   0]), array([ 96,   2, 251,   0]), array([ 97,   2, 105,   0]), array([135,   2, 320,   0]), array([134,   2, 466,   0]), array([76,  2, 28,  0]), array([321,   2, 184,   0]), array([320,   2, 330,   0]), array([288,   2, 276,   0]), array([289,   2, 130,   0]), array([284,   2, 332,   0]), array([285,   2, 186,   0]), array([206,   2, 276,   0]), array([207,   2, 130,   0]), array([429,   2, 123,   0]), array([428,   2, 269,   0]), array([382,   2, 901,   0]), array([383,   2, 755,   0]), array([343,   2, 313,   0]), array([342,   2, 459,   0]), array([  4,   2, 325,   0]), array([  5,   2, 179,   0]), array([258,   2, 274,   0]), array([259,   2, 128,   0]), array([ 53,   2, 337,   0]), array([ 52,   2, 483,   0]), array([245,   2, 391,   0]), array([244,   2, 537,   0]), array([325,   2, 146,   0]), array([324,   2, 292,   0]), array([ 56,   2, 330,   0]), array([ 57,   2, 184,   0]), array([434,   2, 909,   0]), array([435,   2, 763,   0]), array([246,   2, 234,   0]), array([247,   2,  88,   0]), array([443,   2, 367,   0]), array([442,   2, 513,   0]), array([ 74,   2, 443,   0]), array([ 75,   2, 297,   0]), array([171,   2, 163,   0]), array([170,   2, 309,   0]), array([ 27,   2, 158,   0]), array([ 26,   2, 304,   0]), array([229,   2, 299,   0]), array([228,   2, 445,   0]), array([334,   2, 832,   0]), array([335,   2, 686,   0]), array([ 65,   2, 432,   0]), array([ 64,   2, 578,   0]), array([183,   2, 103,   0]), array([182,   2, 249,   0]), array([349,   2, 252,   0]), array([348,   2, 398,   0]), array([ 36,   2, 361,   0]), array([ 37,   2, 215,   0]), array([194,   2, 638,   0]), array([195,   2, 492,   0]), array([239,   2, 466,   0]), array([238,   2, 612,   0]), array([108,   2, 535,   0]), array([109,   2, 389,   0]), array([  0,   2, 931,   0]), array([  1,   2, 785,   0]), array([387,   2, 376,   0]), array([386,   2, 522,   0]), array([110,   2, 127,   0]), array([181,   2, 905,   0]), array([169,   2, 430,   0]), array([168,   2, 576,   0]), array([370,   2, 156,   0]), array([371,   2,  10,   0]), array([346,   2, 303,   0]), array([347,   2, 157,   0]), array([111,   2, 145,   0]), array([294,   2, 516,   0]), array([295,   2, 370,   0]), array([237,   2, 432,   0]), array([236,   2, 578,   0]), array([ 18,   2, 143,   0]), array([445,   2, 139,   0]), array([444,   2, 285,   0]), array([416,   3,  90,   0]), array([210,   3, 651,   0]), array([211,   3, 505,   0]), array([424,   3,   7,   0]), array([425,   3,  33,   0]), array([168,   3,  37,   0]), array([426,   3, 143,   0]), array([427,   3,  80,   0]), array([ 76,   3, 162,   0]), array([77,  3, 16,  0]), array([362,   3,  89,   0]), array([228,   3, 458,   0]), array([229,   3, 312,   0]), array([197,   3,  24,   0]), array([196,   3, 170,   0]), array([309,   3,  76,   0]), array([308,   3, 222,   0]), array([347,   3, 189,   0]), array([346,   3, 335,   0]), array([107,   3, 754,   0]), array([106,   3, 900,   0]), array([46,  3, 96,  0]), array([219,   3,  24,   0]), array([218,   3, 170,   0]), array([169,   3,  24,   0]), array([74,  3, 71,  0]), array([398,   3, 274,   0]), array([399,   3, 128,   0]), array([432,   3, 159,   0]), array([433,   3,  13,   0]), array([ 40,   3, 115,   0]), array([337,   3, 299,   0]), array([336,   3, 445,   0]), array([312,   3, 186,   0]), array([313,   3,  40,   0]), array([383,   3, 337,   0]), array([382,   3, 483,   0]), array([363,   3,   6,   0]), array([154,   3,  75,   0]), array([143,   3, 100,   0]), array([142,   3, 246,   0]), array([262,   3,  50,   0]), array([417,   3,  28,   0]), array([ 72,   3, 439,   0]), array([ 73,   3, 293,   0]), array([244,   3, 657,   0]), array([245,   3, 511,   0]), array([91,  3, 55,  0]), array([ 90,   3, 201,   0]), array([237,   3, 385,   0]), array([236,   3, 531,   0]), array([ 65,   3, 424,   0]), array([ 64,   3, 570,   0]), array([68,  3, 77,  0]), array([394,   3,  70,   0]), array([ 37,   3, 208,   0]), array([ 36,   3, 354,   0]), array([374,   3, 954,   0]), array([375,   3, 808,   0]), array([431,   3,  30,   0]), array([430,   3, 176,   0]), array([418,   3, 171,   0]), array([419,   3,  25,   0]), array([ 85,   3, 834,   0]), array([404,   3, 334,   0]), array([405,   3, 188,   0]), array([396,   3, 810,   0]), array([397,   3, 664,   0]), array([368,   3, 295,   0]), array([369,   3, 149,   0]), array([390,   3, 194,   0]), array([391,   3,  48,   0]), array([158,   3,  47,   0]), array([420,   3, 415,   0]), array([421,   3, 269,   0]), array([255,   3, 228,   0]), array([254,   3, 374,   0]), array([ 16,   3, 495,   0]), array([ 17,   3, 349,   0]), array([202,   3,  67,   0]), array([ 48,   3, 428,   0]), array([ 49,   3, 282,   0]), array([378,   3, 435,   0]), array([379,   3, 289,   0]), array([122,   3, 477,   0]), array([123,   3, 331,   0]), array([137,   3, 871,   0]), array([268,   3,  76,   0]), array([423,   3, 232,   0]), array([422,   3, 378,   0]), array([370,   3,  68,   0]), array([248,   3, 205,   0]), array([249,   3,  59,   0]), array([284,   3, 324,   0]), array([285,   3, 178,   0]), array([234,   3,   9,   0]), array([257,   3, 453,   0]), array([256,   3, 599,   0]), array([184,   3, 175,   0]), array([185,   3,  29,   0]), array([165,   4, 140,   0]), array([164,   4, 286,   0]), array([416,   4, 119,   0]), array([417,   4,  18,   0]), array([380,   4, 295,   0]), array([381,   4, 149,   0]), array([ 65,   4, 434,   0]), array([ 64,   4, 580,   0]), array([396,   4, 753,   0]), array([397,   4, 607,   0]), array([303,   4, 889,   0]), array([211,   4, 331,   0]), array([210,   4, 477,   0]), array([323,   4,   8,   0]), array([322,   4, 154,   0]), array([443,   4, 726,   0]), array([442,   4, 872,   0]), array([424,   4, 168,   0]), array([425,   4,  22,   0]), array([418,   4, 200,   0]), array([419,   4,  54,   0]), array([311,   4, 211,   0]), array([310,   4, 357,   0]), array([379,   4, 132,   0]), array([378,   4, 278,   0]), array([ 47,   4, 387,   0]), array([ 46,   4, 533,   0]), array([441,   4, 140,   0]), array([440,   4, 286,   0]), array([346,   4, 304,   0]), array([347,   4, 158,   0]), array([ 53,   4, 335,   0]), array([ 52,   4, 481,   0]), array([429,   4, 121,   0]), array([428,   4, 267,   0]), array([427,   4, 162,   0]), array([426,   4, 308,   0]), array([340,   4, 295,   0]), array([341,   4, 149,   0]), array([  4,   4, 323,   0]), array([  5,   4, 177,   0]), array([288,   4, 260,   0]), array([289,   4, 114,   0]), array([ 40,   4, 473,   0]), array([ 41,   4, 327,   0]), array([206,   4, 273,   0]), array([207,   4, 127,   0]), array([ 29,   4, 118,   0]), array([ 28,   4, 264,   0]), array([186,   4, 133,   0]), array([237,   4, 393,   0]), array([236,   4, 539,   0]), array([365,   4, 129,   0]), array([364,   4, 275,   0]), array([370,   4, 157,   0]), array([371,   4,  11,   0]), array([ 75,   4, 403,   0]), array([ 74,   4, 549,   0]), array([436,   4,  11,   0]), array([108,   4, 535,   0]), array([109,   4, 389,   0]), array([119,   4, 112,   0]), array([118,   4, 258,   0]), array([227,   4, 415,   0]), array([226,   4, 561,   0]), array([ 91,   4, 918,   0]), array([ 22,   4, 396,   0]), array([ 23,   4, 250,   0]), array([155,   4, 303,   0]), array([154,   4, 449,   0]), array([376,   4, 286,   0]), array([377,   4, 140,   0]), array([278,   4, 179,   0]), array([279,   4,  33,   0]), array([274,   4,  73,   0]), array([431,   4, 174,   0]), array([430,   4, 320,   0]), array([135,   4, 318,   0]), array([134,   4, 464,   0]), array([296,   4,  70,   0]), array([400,   4, 294,   0]), array([401,   4, 148,   0]), array([  3,   4, 376,   0]), array([  2,   4, 522,   0]), array([161,   4, 264,   0]), array([160,   4, 410,   0]), array([342,   4, 254,   0]), array([343,   4, 108,   0]), array([332,   4, 102,   0]), array([ 96,   4, 253,   0]), array([ 97,   4, 107,   0]), array([405,   4, 198,   0]), array([404,   4, 344,   0]), array([244,   4, 537,   0]), array([245,   4, 391,   0]), array([253,   4, 255,   0]), array([252,   4, 401,   0]), array([157,   4, 258,   0]), array([156,   4, 404,   0]), array([111,   4, 122,   0])]\n",
        "max units\n",
        "[array([ 0,  1,  2,  3,  4,  5,  6,  7,  8,  9, 10, 11, 12, 13, 14, 15, 16]), array([17, 18, 19, 20, 21, 22, 23, 24, 25, 26, 27, 28, 29, 30, 31, 32, 33]), array([34, 35, 36, 37, 38, 39, 40, 41, 42, 43, 44, 45, 46, 47, 48, 49, 50]), array([51, 52, 53, 54, 55, 56, 57, 58, 59, 60, 61, 62, 63, 64, 65, 66, 67]), array([68, 69, 70, 71, 72, 73, 74, 75, 76, 77, 78, 79, 80, 81, 82, 83, 84]), array([ 85,  86,  87,  88,  89,  90,  91,  92,  93,  94,  95,  96,  97,\n",
        "        98,  99, 100, 101]), array([102, 103, 104, 105, 106, 107, 108, 109, 110, 111, 112, 113, 114,\n",
        "       115, 116, 117, 118]), array([119, 120, 121, 122, 123, 124, 125, 126, 127, 128, 129, 130, 131,\n",
        "       132, 133, 134, 135]), array([136, 137, 138, 139, 140, 141, 142, 143, 144, 145, 146, 147, 148,\n",
        "       149, 150, 151, 152]), array([153, 154, 155, 156, 157, 158, 159, 160, 161, 162, 163, 164, 165,\n",
        "       166, 167, 168, 169]), array([170, 171, 172, 173, 174, 175, 176, 177, 178, 179, 180, 181, 182,\n",
        "       183, 184, 185, 186]), array([187, 188, 189, 190, 191, 192, 193, 194, 195, 196, 197, 198, 199,\n",
        "       200, 201, 202, 203]), array([204, 205, 206, 207, 208, 209, 210, 211, 212, 213, 214, 215, 216,\n",
        "       217, 218, 219, 220]), array([221, 222, 223, 224, 225, 226, 227, 228, 229, 230, 231, 232, 233,\n",
        "       234, 235, 236, 237]), array([238, 239, 240, 241, 242, 243, 244, 245, 246, 247, 248, 249, 250,\n",
        "       251, 252, 253, 254]), array([255, 256, 257, 258, 259, 260, 261, 262, 263, 264, 265, 266, 267,\n",
        "       268, 269, 270, 271]), array([272, 273, 274, 275, 276, 277, 278, 279, 280, 281, 282, 283, 284,\n",
        "       285, 286, 287, 288]), array([289, 290, 291, 292, 293, 294, 295, 296, 297, 298, 299, 300, 301,\n",
        "       302, 303, 304, 305]), array([306, 307, 308, 309, 310, 311, 312, 313, 314, 315, 316, 317, 318,\n",
        "       319, 320, 321, 322]), array([323, 324, 325, 326, 327, 328, 329, 330, 331, 332, 333, 334, 335,\n",
        "       336, 337, 338, 339]), array([340, 341, 342, 343, 344, 345, 346, 347, 348, 349, 350, 351, 352,\n",
        "       353, 354, 355]), array([356, 357, 358, 359, 360, 361, 362, 363, 364, 365, 366, 367, 368,\n",
        "       369, 370, 371]), array([372, 373, 374, 375, 376, 377, 378, 379, 380, 381, 382, 383, 384,\n",
        "       385, 386, 387]), array([388, 389, 390, 391, 392, 393, 394, 395, 396, 397, 398, 399, 400,\n",
        "       401, 402, 403]), array([404, 405, 406, 407, 408, 409, 410, 411, 412, 413, 414, 415, 416,\n",
        "       417, 418, 419]), array([420, 421, 422, 423, 424, 425, 426, 427, 428, 429, 430, 431, 432,\n",
        "       433, 434, 435]), array([436, 437, 438, 439, 440, 441, 442, 443, 444, 445, 446, 447, 448,\n",
        "       449, 450, 451]), array([452, 453, 454, 455, 456, 457, 458, 459, 460, 461, 462, 463, 464,\n",
        "       465, 466, 467]), array([468, 469, 470, 471, 472, 473, 474, 475, 476, 477, 478, 479, 480,\n",
        "       481, 482, 483]), array([484, 485, 486, 487, 488, 489, 490, 491, 492, 493, 494, 495, 496,\n",
        "       497, 498, 499])]\n",
        "Batch\n",
        "!!!W!!!"
       ]
      },
      {
       "output_type": "stream",
       "stream": "stdout",
       "text": [
        " Prod{acc_dtype=int64}.0\n"
       ]
      },
      {
       "output_type": "stream",
       "stream": "stdout",
       "text": [
        "Batch\n",
        "!!!W!!! Prod{acc_dtype=int64}.0\n"
       ]
      },
      {
       "output_type": "stream",
       "stream": "stdout",
       "text": [
        "Batch\n",
        "!!!W!!! Prod{acc_dtype=int64}.0\n"
       ]
      },
      {
       "output_type": "stream",
       "stream": "stdout",
       "text": [
        "Batch\n",
        "!!!W!!! Prod{acc_dtype=int64}.0\n"
       ]
      },
      {
       "output_type": "stream",
       "stream": "stdout",
       "text": [
        "Batch\n",
        "!!!W!!! Prod{acc_dtype=int64}.0\n"
       ]
      },
      {
       "output_type": "stream",
       "stream": "stdout",
       "text": [
        "Batch\n",
        "!!!W!!! Prod{acc_dtype=int64}.0\n"
       ]
      },
      {
       "output_type": "stream",
       "stream": "stdout",
       "text": [
        "Batch\n",
        "!!!W!!! Prod{acc_dtype=int64}.0\n"
       ]
      },
      {
       "output_type": "stream",
       "stream": "stdout",
       "text": [
        "Batch\n",
        "!!!W!!! Prod{acc_dtype=int64}.0\n"
       ]
      },
      {
       "output_type": "stream",
       "stream": "stdout",
       "text": [
        "Batch\n",
        "!!!W!!! Prod{acc_dtype=int64}.0\n"
       ]
      },
      {
       "output_type": "stream",
       "stream": "stdout",
       "text": [
        "Batch\n",
        "!!!W!!! Prod{acc_dtype=int64}.0\n"
       ]
      },
      {
       "output_type": "stream",
       "stream": "stdout",
       "text": [
        "Batch\n",
        "!!!W!!! Prod{acc_dtype=int64}.0\n"
       ]
      },
      {
       "output_type": "stream",
       "stream": "stdout",
       "text": [
        "Batch\n",
        "!!!W!!! Prod{acc_dtype=int64}.0\n"
       ]
      },
      {
       "output_type": "stream",
       "stream": "stdout",
       "text": [
        "Batch\n",
        "!!!W!!! Prod{acc_dtype=int64}.0\n"
       ]
      },
      {
       "output_type": "stream",
       "stream": "stdout",
       "text": [
        "Batch\n",
        "!!!W!!! Prod{acc_dtype=int64}.0\n"
       ]
      },
      {
       "output_type": "stream",
       "stream": "stdout",
       "text": [
        "Batch\n",
        "!!!W!!! Prod{acc_dtype=int64}.0\n"
       ]
      },
      {
       "output_type": "stream",
       "stream": "stdout",
       "text": [
        "Batch\n",
        "!!!W!!! Prod{acc_dtype=int64}.0\n"
       ]
      },
      {
       "output_type": "stream",
       "stream": "stdout",
       "text": [
        "Batch\n",
        "!!!W!!! Prod{acc_dtype=int64}.0\n"
       ]
      },
      {
       "output_type": "stream",
       "stream": "stdout",
       "text": [
        "Batch\n",
        "!!!W!!! Prod{acc_dtype=int64}.0\n"
       ]
      },
      {
       "output_type": "stream",
       "stream": "stdout",
       "text": [
        "Batch\n",
        "!!!W!!! Prod{acc_dtype=int64}.0\n"
       ]
      },
      {
       "output_type": "stream",
       "stream": "stdout",
       "text": [
        "Batch\n",
        "!!!W!!! Prod{acc_dtype=int64}.0\n"
       ]
      },
      {
       "output_type": "stream",
       "stream": "stdout",
       "text": [
        "Batch\n",
        "!!!W!!! Prod{acc_dtype=int64}.0\n"
       ]
      },
      {
       "output_type": "stream",
       "stream": "stdout",
       "text": [
        "Batch\n",
        "!!!W!!! Prod{acc_dtype=int64}.0\n"
       ]
      },
      {
       "output_type": "stream",
       "stream": "stdout",
       "text": [
        "Batch\n",
        "!!!W!!! Prod{acc_dtype=int64}.0\n"
       ]
      },
      {
       "output_type": "stream",
       "stream": "stdout",
       "text": [
        "Batch\n",
        "!!!W!!! Prod{acc_dtype=int64}.0\n"
       ]
      },
      {
       "output_type": "stream",
       "stream": "stdout",
       "text": [
        "Batch\n",
        "!!!W!!! Prod{acc_dtype=int64}.0\n"
       ]
      },
      {
       "output_type": "stream",
       "stream": "stdout",
       "text": [
        "Batch\n",
        "!!!W!!! Prod{acc_dtype=int64}.0\n"
       ]
      },
      {
       "output_type": "stream",
       "stream": "stdout",
       "text": [
        "Batch\n",
        "!!!W!!! Prod{acc_dtype=int64}.0\n"
       ]
      },
      {
       "output_type": "stream",
       "stream": "stdout",
       "text": [
        "Batch\n",
        "!!!W!!! Prod{acc_dtype=int64}.0\n"
       ]
      },
      {
       "output_type": "stream",
       "stream": "stdout",
       "text": [
        "Batch\n",
        "!!!W!!! Prod{acc_dtype=int64}.0\n"
       ]
      },
      {
       "output_type": "stream",
       "stream": "stdout",
       "text": [
        "Batch\n",
        "!!!W!!! Prod{acc_dtype=int64}.0\n"
       ]
      },
      {
       "output_type": "stream",
       "stream": "stdout",
       "text": [
        "Outputs (446, 5, 962, 1)\n",
        "Filter\n",
        "Filter\n"
       ]
      },
      {
       "output_type": "stream",
       "stream": "stdout",
       "text": [
        "Filter\n",
        "Filter\n"
       ]
      },
      {
       "output_type": "stream",
       "stream": "stdout",
       "text": [
        "Filter\n",
        "[array([243,   0, 370,   0]), array([242,   0, 516,   0]), array([182,   0, 142,   0]), array([433,   0, 363,   0]), array([432,   0, 509,   0]), array([175,   0, 629,   0]), array([174,   0, 775,   0]), array([ 68,   0, 149,   0]), array([69,  0,  3,  0]), array([ 79,   0, 380,   0]), array([ 78,   0, 526,   0]), array([240,   0,  56,   0]), array([226,   0,  35,   0]), array([183,   0, 708,   0]), array([187,   0, 274,   0]), array([186,   0, 420,   0]), array([146,   0, 844,   0]), array([147,   0, 698,   0]), array([ 72,   0, 845,   0]), array([ 73,   0, 699,   0]), array([149,   0, 838,   0]), array([430,   0, 549,   0]), array([431,   0, 403,   0]), array([292,   0, 314,   0]), array([293,   0, 168,   0]), array([233,   0, 647,   0]), array([232,   0, 793,   0]), array([ 59,   0, 894,   0]), array([200,   0, 361,   0]), array([201,   0, 215,   0]), array([231,   0, 697,   0]), array([230,   0, 843,   0]), array([423,   0, 458,   0]), array([422,   0, 604,   0]), array([348,   0, 768,   0]), array([349,   0, 622,   0]), array([ 43,   0, 341,   0]), array([ 42,   0, 487,   0]), array([ 24,   0, 548,   0]), array([ 25,   0, 402,   0]), array([195,   0, 714,   0]), array([194,   0, 860,   0]), array([ 37,   0, 397,   0]), array([ 36,   0, 543,   0]), array([324,   0, 379,   0]), array([325,   0, 233,   0]), array([368,   0, 668,   0]), array([369,   0, 522,   0]), array([ 63,   0, 447,   0]), array([ 62,   0, 593,   0]), array([427,   0, 246,   0]), array([426,   0, 392,   0]), array([227,   0, 339,   0]), array([189,   0, 383,   0]), array([188,   0, 529,   0]), array([266,   0, 393,   0]), array([267,   0, 247,   0]), array([417,   0, 246,   0]), array([416,   0, 392,   0]), array([444,   0, 415,   0]), array([445,   0, 269,   0]), array([102,   0, 522,   0]), array([103,   0, 376,   0]), array([241,   0, 780,   0]), array([ 58,   0, 960,   0]), array([235,   0, 871,   0]), array([139,   0, 929,   0]), array([150,   0, 135,   0]), array([168,   0, 640,   0]), array([169,   0, 494,   0]), array([405,   0, 209,   0]), array([404,   0, 355,   0]), array([220,   0, 899,   0]), array([221,   0, 753,   0]), array([151,   0, 231,   0]), array([314,   0, 476,   0]), array([315,   0, 330,   0]), array([333,   0, 268,   0]), array([332,   0, 414,   0]), array([370,   0, 588,   0]), array([371,   0, 442,   0]), array([108,   0, 597,   0]), array([109,   0, 451,   0]), array([379,   0, 793,   0]), array([378,   0, 939,   0]), array([ 28,   0, 680,   0]), array([ 29,   0, 534,   0]), array([ 35,   0, 366,   0]), array([ 34,   0, 512,   0]), array([ 71,   0, 684,   0]), array([ 70,   0, 830,   0]), array([184,   0, 446,   0]), array([185,   0, 300,   0]), array([277,   0, 619,   0]), array([276,   0, 765,   0]), array([290,   0, 153,   0]), array([291,   0,   7,   0]), array([415,   0, 306,   0]), array([414,   0, 452,   0]), array([  4,   0, 473,   0]), array([433,   1, 353,   0]), array([432,   1, 499,   0]), array([182,   1, 134,   0]), array([242,   1, 506,   0]), array([243,   1, 360,   0]), array([174,   1, 765,   0]), array([175,   1, 619,   0]), array([149,   1, 845,   0]), array([186,   1, 419,   0]), array([187,   1, 273,   0]), array([226,   1,  50,   0]), array([353,   1, 221,   0]), array([352,   1, 367,   0]), array([183,   1, 707,   0]), array([146,   1, 843,   0]), array([147,   1, 697,   0]), array([356,   1, 472,   0]), array([357,   1, 326,   0]), array([315,   1, 944,   0]), array([79,  1, 63,  0]), array([ 78,   1, 209,   0]), array([230,   1, 750,   0]), array([231,   1, 604,   0]), array([431,   1, 395,   0]), array([430,   1, 541,   0]), array([387,   1, 845,   0]), array([364,   1, 481,   0]), array([365,   1, 335,   0]), array([112,   1, 426,   0]), array([113,   1, 280,   0]), array([69,  1, 27,  0]), array([ 68,   1, 173,   0]), array([227,   1, 346,   0]), array([236,   1, 148,   0]), array([237,   1,   2,   0]), array([294,   1, 889,   0]), array([295,   1, 743,   0]), array([324,   1,  66,   0]), array([333,   1, 279,   0]), array([332,   1, 425,   0]), array([308,   1, 622,   0]), array([309,   1, 476,   0]), array([169,   1, 224,   0]), array([168,   1, 370,   0]), array([240,   1, 426,   0]), array([241,   1, 280,   0]), array([444,   1, 439,   0]), array([445,   1, 293,   0]), array([301,   1, 459,   0]), array([300,   1, 605,   0]), array([176,   1, 520,   0]), array([177,   1, 374,   0]), array([189,   1, 422,   0]), array([188,   1, 568,   0]), array([299,   1, 569,   0]), array([298,   1, 715,   0]), array([140,   1, 467,   0]), array([141,   1, 321,   0]), array([379,   1, 824,   0]), array([185,   1, 490,   0]), array([184,   1, 636,   0]), array([441,   1, 551,   0]), array([440,   1, 697,   0]), array([288,   1, 502,   0]), array([289,   1, 356,   0]), array([439,   1, 864,   0]), array([220,   1, 883,   0]), array([221,   1, 737,   0]), array([348,   1, 768,   0]), array([349,   1, 622,   0]), array([151,   1, 239,   0]), array([150,   1, 385,   0]), array([ 63,   1, 445,   0]), array([ 62,   1, 591,   0]), array([ 25,   1, 400,   0]), array([ 24,   1, 546,   0]), array([239,   1, 695,   0]), array([238,   1, 841,   0]), array([213,   1, 329,   0]), array([212,   1, 475,   0]), array([381,   1, 850,   0]), array([408,   1, 683,   0]), array([409,   1, 537,   0]), array([378,   1, 688,   0]), array([214,   1, 447,   0]), array([215,   1, 301,   0]), array([ 17,   1, 466,   0]), array([ 16,   1, 612,   0]), array([ 60,   1, 569,   0]), array([ 61,   1, 423,   0]), array([102,   1, 532,   0]), array([103,   1, 386,   0]), array([341,   1,  36,   0]), array([340,   1, 182,   0]), array([ 59,   1, 907,   0]), array([380,   1, 611,   0]), array([406,   1,  43,   0]), array([262,   1, 646,   0]), array([263,   1, 500,   0]), array([260,   1, 877,   0]), array([182,   2, 148,   0]), array([183,   2,   2,   0]), array([324,   2, 826,   0]), array([325,   2, 680,   0]), array([242,   2, 498,   0]), array([243,   2, 352,   0]), array([172,   2, 761,   0]), array([173,   2, 615,   0]), array([159,   2, 382,   0]), array([158,   2, 528,   0]), array([ 18,   2, 921,   0]), array([ 19,   2, 775,   0]), array([430,   2, 547,   0]), array([431,   2, 401,   0]), array([187,   2, 936,   0]), array([218,   2, 831,   0]), array([219,   2, 685,   0]), array([139,   2, 956,   0]), array([356,   2,  24,   0]), array([414,   2, 199,   0]), array([415,   2,  53,   0]), array([308,   2, 114,   0]), array([ 64,   2, 674,   0]), array([ 65,   2, 528,   0]), array([373,   2, 670,   0]), array([372,   2, 816,   0]), array([349,   2, 598,   0]), array([348,   2, 744,   0]), array([239,   2, 655,   0]), array([238,   2, 801,   0]), array([385,   2, 904,   0]), array([208,   2,  79,   0]), array([323,   2, 840,   0]), array([420,   2, 707,   0]), array([421,   2, 561,   0]), array([249,   2, 951,   0]), array([ 73,   2, 635,   0]), array([ 72,   2, 781,   0]), array([186,   2, 499,   0]), array([ 37,   2, 402,   0]), array([ 36,   2, 548,   0]), array([309,   2, 472,   0]), array([203,   2, 836,   0]), array([274,   2, 692,   0]), array([275,   2, 546,   0]), array([413,   2, 823,   0]), array([412,   2, 943,   0]), array([344,   2, 750,   0]), array([345,   2, 604,   0]), array([109,   2, 634,   0]), array([108,   2, 780,   0]), array([ 59,   2, 797,   0]), array([ 58,   2, 943,   0]), array([147,   2, 578,   0]), array([146,   2, 724,   0]), array([168,   2,   9,   0]), array([375,   2, 646,   0]), array([374,   2, 792,   0]), array([426,   2, 698,   0]), array([427,   2, 552,   0]), array([156,   2, 709,   0]), array([157,   2, 563,   0]), array([169,   2, 485,   0]), array([398,   2, 621,   0]), array([399,   2, 475,   0]), array([315,   2, 959,   0]), array([226,   2,  41,   0]), array([347,   2, 858,   0]), array([335,   2, 895,   0]), array([328,   2, 831,   0]), array([329,   2, 685,   0]), array([311,   2, 111,   0]), array([310,   2, 257,   0]), array([240,   2,  77,   0]), array([175,   2, 658,   0]), array([174,   2, 804,   0]), array([279,   2,  83,   0]), array([278,   2, 229,   0]), array([213,   2, 914,   0]), array([209,   2, 638,   0]), array([314,   2, 158,   0]), array([166,   2, 150,   0]), array([167,   2,   4,   0]), array([125,   2, 680,   0]), array([124,   2, 826,   0]), array([437,   2,  74,   0]), array([436,   2, 220,   0]), array([357,   2, 320,   0]), array([333,   2, 934,   0]), array([222,   2, 573,   0]), array([223,   2, 427,   0]), array([394,   2, 938,   0]), array([395,   2, 792,   0]), array([316,   2, 788,   0]), array([317,   2, 642,   0]), array([170,   2, 677,   0]), array([171,   2, 531,   0]), array([417,   2, 399,   0]), array([416,   2, 545,   0]), array([288,   2, 427,   0]), array([243,   3, 360,   0]), array([242,   3, 506,   0]), array([182,   3, 126,   0]), array([432,   3, 508,   0]), array([433,   3, 362,   0]), array([226,   3,  50,   0]), array([149,   3, 828,   0]), array([430,   3, 549,   0]), array([431,   3, 403,   0]), array([348,   3, 768,   0]), array([349,   3, 622,   0]), array([175,   3, 620,   0]), array([174,   3, 766,   0]), array([187,   3, 273,   0]), array([186,   3, 419,   0]), array([183,   3,   3,   0]), array([147,   3, 697,   0]), array([146,   3, 843,   0]), array([445,   3, 658,   0]), array([444,   3, 804,   0]), array([274,   3, 753,   0]), array([275,   3, 607,   0]), array([240,   3,  25,   0]), array([282,   3, 544,   0]), array([283,   3, 398,   0]), array([ 68,   3, 157,   0]), array([69,  3, 11,  0]), array([357,   3, 536,   0]), array([356,   3, 682,   0]), array([ 73,   3, 659,   0]), array([ 72,   3, 805,   0]), array([ 24,   3, 357,   0]), array([ 25,   3, 211,   0]), array([227,   3, 331,   0]), array([ 36,   3, 549,   0]), array([ 37,   3, 403,   0]), array([415,   3,  35,   0]), array([414,   3, 181,   0]), array([420,   3, 685,   0]), array([421,   3, 539,   0]), array([139,   3, 951,   0]), array([405,   3, 201,   0]), array([404,   3, 347,   0]), array([188,   3, 529,   0]), array([189,   3, 383,   0]), array([184,   3, 124,   0]), array([168,   3,  25,   0]), array([185,   3, 491,   0]), array([347,   3, 867,   0]), array([392,   3,   7,   0]), array([219,   3, 693,   0]), array([218,   3, 839,   0]), array([ 17,   3, 466,   0]), array([ 16,   3, 612,   0]), array([299,   3, 594,   0]), array([298,   3, 740,   0]), array([422,   3, 902,   0]), array([423,   3, 756,   0]), array([353,   3, 224,   0]), array([352,   3, 370,   0]), array([429,   3, 862,   0]), array([368,   3, 676,   0]), array([369,   3, 530,   0]), array([324,   3, 875,   0]), array([325,   3, 729,   0]), array([236,   3, 165,   0]), array([237,   3,  19,   0]), array([223,   3, 392,   0]), array([222,   3, 538,   0]), array([148,   3, 497,   0]), array([308,   3, 419,   0]), array([309,   3, 273,   0]), array([387,   3, 693,   0]), array([386,   3, 839,   0]), array([ 59,   3, 915,   0]), array([390,   3,  33,   0]), array([213,   3, 868,   0]), array([170,   3, 650,   0]), array([171,   3, 504,   0]), array([124,   3, 134,   0]), array([169,   3, 319,   0]), array([ 74,   3, 647,   0]), array([ 75,   3, 501,   0]), array([ 82,   3, 340,   0]), array([ 83,   3, 194,   0]), array([160,   3, 775,   0]), array([161,   3, 629,   0]), array([261,   3, 571,   0]), array([260,   3, 717,   0]), array([198,   3, 930,   0]), array([199,   3, 784,   0]), array([336,   3, 439,   0]), array([337,   3, 293,   0]), array([  2,   3, 617,   0]), array([  3,   3, 471,   0]), array([  8,   3, 469,   0]), array([  9,   3, 323,   0]), array([284,   3, 818,   0]), array([285,   3, 672,   0]), array([345,   3, 869,   0]), array([348,   4, 738,   0]), array([349,   4, 592,   0]), array([182,   4, 125,   0]), array([183,   4,  24,   0]), array([430,   4, 547,   0]), array([431,   4, 401,   0]), array([218,   4, 824,   0]), array([219,   4, 678,   0]), array([324,   4, 660,   0]), array([325,   4, 514,   0]), array([187,   4, 951,   0]), array([186,   4, 440,   0]), array([281,   4, 773,   0]), array([280,   4, 919,   0]), array([308,   4, 101,   0]), array([158,   4, 550,   0]), array([159,   4, 404,   0]), array([374,   4, 786,   0]), array([375,   4, 640,   0]), array([315,   4, 940,   0]), array([205,   4, 852,   0]), array([445,   4, 930,   0]), array([444,   4, 436,   0]), array([ 33,   4, 870,   0]), array([356,   4,  91,   0]), array([ 59,   4, 812,   0]), array([ 58,   4, 958,   0]), array([318,   4, 133,   0]), array([357,   4,  55,   0]), array([347,   4, 859,   0]), array([420,   4, 702,   0]), array([421,   4, 556,   0]), array([405,   4, 630,   0]), array([404,   4, 776,   0]), array([209,   4, 659,   0]), array([208,   4, 805,   0]), array([293,   4, 189,   0]), array([292,   4, 335,   0]), array([377,   4, 557,   0]), array([376,   4, 703,   0]), array([239,   4, 649,   0]), array([238,   4, 795,   0]), array([ 24,   4, 348,   0]), array([ 25,   4, 202,   0]), array([240,   4,  76,   0]), array([394,   4, 913,   0]), array([395,   4, 767,   0]), array([139,   4, 949,   0]), array([270,   4, 882,   0]), array([271,   4, 736,   0]), array([414,   4, 173,   0]), array([415,   4,  27,   0]), array([368,   4, 674,   0]), array([369,   4, 528,   0]), array([172,   4, 761,   0]), array([173,   4, 615,   0]), array([ 73,   4, 681,   0]), array([ 72,   4, 827,   0]), array([174,   4, 804,   0]), array([175,   4, 658,   0]), array([344,   4, 745,   0]), array([345,   4, 599,   0]), array([150,   4, 126,   0]), array([135,   4, 933,   0]), array([168,   4, 632,   0]), array([169,   4, 486,   0]), array([156,   4, 725,   0]), array([157,   4, 579,   0]), array([385,   4,  57,   0]), array([384,   4, 203,   0]), array([ 86,   4, 849,   0]), array([ 87,   4, 703,   0]), array([227,   4, 344,   0]), array([226,   4, 490,   0]), array([ 36,   4, 541,   0]), array([ 37,   4, 395,   0]), array([399,   4, 861,   0]), array([392,   4,  12,   0]), array([275,   4, 546,   0]), array([274,   4, 692,   0]), array([417,   4, 394,   0]), array([416,   4, 540,   0]), array([433,   4, 600,   0]), array([432,   4, 746,   0]), array([436,   4, 105,   0]), array([200,   4,  47,   0]), array([ 31,   4, 945,   0]), array([ 19,   4, 795,   0]), array([ 18,   4, 941,   0]), array([261,   4, 708,   0]), array([260,   4, 854,   0]), array([171,   4, 497,   0]), array([170,   4, 643,   0]), array([413,   4, 845,   0]), array([386,   4, 907,   0]), array([387,   4, 761,   0]), array([309,   4, 901,   0]), array([378,   4, 941,   0]), array([379,   4, 795,   0]), array([390,   4,  11,   0])]\n",
        "max units\n",
        "[array([ 0,  1,  2,  3,  4,  5,  6,  7,  8,  9, 10, 11, 12, 13, 14, 15, 16]), array([17, 18, 19, 20, 21, 22, 23, 24, 25, 26, 27, 28, 29, 30, 31, 32, 33]), array([34, 35, 36, 37, 38, 39, 40, 41, 42, 43, 44, 45, 46, 47, 48, 49, 50]), array([51, 52, 53, 54, 55, 56, 57, 58, 59, 60, 61, 62, 63, 64, 65, 66, 67]), array([68, 69, 70, 71, 72, 73, 74, 75, 76, 77, 78, 79, 80, 81, 82, 83, 84]), array([ 85,  86,  87,  88,  89,  90,  91,  92,  93,  94,  95,  96,  97,\n",
        "        98,  99, 100, 101]), array([102, 103, 104, 105, 106, 107, 108, 109, 110, 111, 112, 113, 114,\n",
        "       115, 116, 117, 118]), array([119, 120, 121, 122, 123, 124, 125, 126, 127, 128, 129, 130, 131,\n",
        "       132, 133, 134, 135]), array([136, 137, 138, 139, 140, 141, 142, 143, 144, 145, 146, 147, 148,\n",
        "       149, 150, 151, 152]), array([153, 154, 155, 156, 157, 158, 159, 160, 161, 162, 163, 164, 165,\n",
        "       166, 167, 168, 169]), array([170, 171, 172, 173, 174, 175, 176, 177, 178, 179, 180, 181, 182,\n",
        "       183, 184, 185, 186]), array([187, 188, 189, 190, 191, 192, 193, 194, 195, 196, 197, 198, 199,\n",
        "       200, 201, 202, 203]), array([204, 205, 206, 207, 208, 209, 210, 211, 212, 213, 214, 215, 216,\n",
        "       217, 218, 219, 220]), array([221, 222, 223, 224, 225, 226, 227, 228, 229, 230, 231, 232, 233,\n",
        "       234, 235, 236, 237]), array([238, 239, 240, 241, 242, 243, 244, 245, 246, 247, 248, 249, 250,\n",
        "       251, 252, 253, 254]), array([255, 256, 257, 258, 259, 260, 261, 262, 263, 264, 265, 266, 267,\n",
        "       268, 269, 270, 271]), array([272, 273, 274, 275, 276, 277, 278, 279, 280, 281, 282, 283, 284,\n",
        "       285, 286, 287, 288]), array([289, 290, 291, 292, 293, 294, 295, 296, 297, 298, 299, 300, 301,\n",
        "       302, 303, 304, 305]), array([306, 307, 308, 309, 310, 311, 312, 313, 314, 315, 316, 317, 318,\n",
        "       319, 320, 321, 322]), array([323, 324, 325, 326, 327, 328, 329, 330, 331, 332, 333, 334, 335,\n",
        "       336, 337, 338, 339]), array([340, 341, 342, 343, 344, 345, 346, 347, 348, 349, 350, 351, 352,\n",
        "       353, 354, 355]), array([356, 357, 358, 359, 360, 361, 362, 363, 364, 365, 366, 367, 368,\n",
        "       369, 370, 371]), array([372, 373, 374, 375, 376, 377, 378, 379, 380, 381, 382, 383, 384,\n",
        "       385, 386, 387]), array([388, 389, 390, 391, 392, 393, 394, 395, 396, 397, 398, 399, 400,\n",
        "       401, 402, 403]), array([404, 405, 406, 407, 408, 409, 410, 411, 412, 413, 414, 415, 416,\n",
        "       417, 418, 419]), array([420, 421, 422, 423, 424, 425, 426, 427, 428, 429, 430, 431, 432,\n",
        "       433, 434, 435]), array([436, 437, 438, 439, 440, 441, 442, 443, 444, 445, 446, 447, 448,\n",
        "       449, 450, 451]), array([452, 453, 454, 455, 456, 457, 458, 459, 460, 461, 462, 463, 464,\n",
        "       465, 466, 467]), array([468, 469, 470, 471, 472, 473, 474, 475, 476, 477, 478, 479, 480,\n",
        "       481, 482, 483]), array([484, 485, 486, 487, 488, 489, 490, 491, 492, 493, 494, 495, 496,\n",
        "       497, 498, 499])]\n",
        "Batch\n"
       ]
      },
      {
       "output_type": "stream",
       "stream": "stdout",
       "text": [
        "!!!W!!! Prod{acc_dtype=int64}.0\n"
       ]
      },
      {
       "output_type": "stream",
       "stream": "stdout",
       "text": [
        "Batch\n",
        "!!!W!!! Prod{acc_dtype=int64}.0\n"
       ]
      },
      {
       "output_type": "stream",
       "stream": "stdout",
       "text": [
        "Batch\n",
        "!!!W!!! Prod{acc_dtype=int64}.0\n"
       ]
      },
      {
       "output_type": "stream",
       "stream": "stdout",
       "text": [
        "Batch\n",
        "!!!W!!! Prod{acc_dtype=int64}.0\n"
       ]
      },
      {
       "output_type": "stream",
       "stream": "stdout",
       "text": [
        "Batch\n",
        "!!!W!!! Prod{acc_dtype=int64}.0\n"
       ]
      },
      {
       "output_type": "stream",
       "stream": "stdout",
       "text": [
        "Batch\n",
        "!!!W!!! Prod{acc_dtype=int64}.0\n"
       ]
      },
      {
       "output_type": "stream",
       "stream": "stdout",
       "text": [
        "Batch\n",
        "!!!W!!! Prod{acc_dtype=int64}.0\n"
       ]
      },
      {
       "output_type": "stream",
       "stream": "stdout",
       "text": [
        "Batch\n",
        "!!!W!!! Prod{acc_dtype=int64}.0\n"
       ]
      },
      {
       "output_type": "stream",
       "stream": "stdout",
       "text": [
        "Batch\n",
        "!!!W!!! Prod{acc_dtype=int64}.0\n"
       ]
      },
      {
       "output_type": "stream",
       "stream": "stdout",
       "text": [
        "Batch\n",
        "!!!W!!! Prod{acc_dtype=int64}.0\n"
       ]
      },
      {
       "output_type": "stream",
       "stream": "stdout",
       "text": [
        "Batch\n",
        "!!!W!!! Prod{acc_dtype=int64}.0\n"
       ]
      },
      {
       "output_type": "stream",
       "stream": "stdout",
       "text": [
        "Batch\n",
        "!!!W!!! Prod{acc_dtype=int64}.0\n"
       ]
      },
      {
       "output_type": "stream",
       "stream": "stdout",
       "text": [
        "Batch\n",
        "!!!W!!! Prod{acc_dtype=int64}.0\n"
       ]
      },
      {
       "output_type": "stream",
       "stream": "stdout",
       "text": [
        "Batch\n",
        "!!!W!!! Prod{acc_dtype=int64}.0\n"
       ]
      },
      {
       "output_type": "stream",
       "stream": "stdout",
       "text": [
        "Batch\n",
        "!!!W!!! Prod{acc_dtype=int64}.0\n"
       ]
      },
      {
       "output_type": "stream",
       "stream": "stdout",
       "text": [
        "Batch\n",
        "!!!W!!! Prod{acc_dtype=int64}.0\n"
       ]
      },
      {
       "output_type": "stream",
       "stream": "stdout",
       "text": [
        "Batch\n",
        "!!!W!!! Prod{acc_dtype=int64}.0\n"
       ]
      },
      {
       "output_type": "stream",
       "stream": "stdout",
       "text": [
        "Batch\n",
        "!!!W!!! Prod{acc_dtype=int64}.0\n"
       ]
      },
      {
       "output_type": "stream",
       "stream": "stdout",
       "text": [
        "Batch\n",
        "!!!W!!! Prod{acc_dtype=int64}.0\n"
       ]
      },
      {
       "output_type": "stream",
       "stream": "stdout",
       "text": [
        "Batch\n",
        "!!!W!!! Prod{acc_dtype=int64}.0\n"
       ]
      },
      {
       "output_type": "stream",
       "stream": "stdout",
       "text": [
        "Batch\n",
        "!!!W!!! Prod{acc_dtype=int64}.0\n"
       ]
      },
      {
       "output_type": "stream",
       "stream": "stdout",
       "text": [
        "Batch\n",
        "!!!W!!! Prod{acc_dtype=int64}.0\n"
       ]
      },
      {
       "output_type": "stream",
       "stream": "stdout",
       "text": [
        "Batch\n",
        "!!!W!!! Prod{acc_dtype=int64}.0\n"
       ]
      },
      {
       "output_type": "stream",
       "stream": "stdout",
       "text": [
        "Batch\n",
        "!!!W!!! Prod{acc_dtype=int64}.0\n"
       ]
      },
      {
       "output_type": "stream",
       "stream": "stdout",
       "text": [
        "Batch\n",
        "!!!W!!! Prod{acc_dtype=int64}.0\n"
       ]
      },
      {
       "output_type": "stream",
       "stream": "stdout",
       "text": [
        "Batch\n",
        "!!!W!!! Prod{acc_dtype=int64}.0\n"
       ]
      },
      {
       "output_type": "stream",
       "stream": "stdout",
       "text": [
        "Batch\n",
        "!!!W!!! Prod{acc_dtype=int64}.0\n"
       ]
      },
      {
       "output_type": "stream",
       "stream": "stdout",
       "text": [
        "Batch\n",
        "!!!W!!! Prod{acc_dtype=int64}.0\n"
       ]
      },
      {
       "output_type": "stream",
       "stream": "stdout",
       "text": [
        "Batch\n",
        "!!!W!!! Prod{acc_dtype=int64}.0\n"
       ]
      },
      {
       "output_type": "stream",
       "stream": "stdout",
       "text": [
        "Batch\n",
        "!!!W!!! Prod{acc_dtype=int64}.0\n"
       ]
      },
      {
       "output_type": "stream",
       "stream": "stdout",
       "text": [
        "Outputs (448, 5, 962, 1)\n",
        "Filter\n",
        "Filter\n"
       ]
      },
      {
       "output_type": "stream",
       "stream": "stdout",
       "text": [
        "Filter\n",
        "Filter\n"
       ]
      },
      {
       "output_type": "stream",
       "stream": "stdout",
       "text": [
        "Filter\n",
        "[array([181,   0, 241,   0]), array([180,   0, 387,   0]), array([ 19,   0, 196,   0]), array([ 18,   0, 342,   0]), array([ 40,   0, 675,   0]), array([ 41,   0, 529,   0]), array([431,   0, 557,   0]), array([430,   0, 703,   0]), array([249,   0, 294,   0]), array([248,   0, 440,   0]), array([135,   0, 199,   0]), array([134,   0, 345,   0]), array([ 53,   0, 585,   0]), array([ 52,   0, 731,   0]), array([237,   0, 155,   0]), array([236,   0, 301,   0]), array([377,   0, 207,   0]), array([376,   0, 353,   0]), array([ 71,   0, 291,   0]), array([ 70,   0, 437,   0]), array([432,   0, 411,   0]), array([433,   0, 265,   0]), array([175,   0, 154,   0]), array([174,   0, 300,   0]), array([142,   0, 435,   0]), array([143,   0, 289,   0]), array([274,   0, 524,   0]), array([275,   0, 378,   0]), array([402,   0, 573,   0]), array([403,   0, 427,   0]), array([209,   0, 263,   0]), array([208,   0, 409,   0]), array([222,   0, 346,   0]), array([223,   0, 200,   0]), array([272,   0, 467,   0]), array([273,   0, 321,   0]), array([328,   0, 419,   0]), array([329,   0, 273,   0]), array([266,   0, 369,   0]), array([267,   0, 223,   0]), array([107,   0, 145,   0]), array([106,   0, 291,   0]), array([216,   0, 261,   0]), array([217,   0, 115,   0]), array([173,   0, 175,   0]), array([172,   0, 321,   0]), array([132,   0, 313,   0]), array([133,   0, 167,   0]), array([256,   0, 390,   0]), array([257,   0, 244,   0]), array([265,   0, 171,   0]), array([264,   0, 317,   0]), array([100,   0, 428,   0]), array([101,   0, 282,   0]), array([387,   0, 153,   0]), array([386,   0, 299,   0]), array([435,   0, 228,   0]), array([434,   0, 374,   0]), array([ 57,   0, 201,   0]), array([ 56,   0, 347,   0]), array([203,   0, 178,   0]), array([202,   0, 324,   0]), array([261,   0, 472,   0]), array([260,   0, 618,   0]), array([319,   0, 590,   0]), array([318,   0, 736,   0]), array([438,   0, 465,   0]), array([439,   0, 319,   0]), array([ 90,   0, 294,   0]), array([ 91,   0, 148,   0]), array([270,   0, 319,   0]), array([271,   0, 173,   0]), array([130,   0, 404,   0]), array([131,   0, 258,   0]), array([110,   0, 507,   0]), array([111,   0, 361,   0]), array([322,   0, 390,   0]), array([323,   0, 244,   0]), array([ 29,   0, 294,   0]), array([ 28,   0, 440,   0]), array([382,   0, 873,   0]), array([383,   0, 727,   0]), array([428,   0, 508,   0]), array([429,   0, 362,   0]), array([  0,   0, 299,   0]), array([  1,   0, 153,   0]), array([443,   0, 182,   0]), array([442,   0, 328,   0]), array([ 61,   0, 166,   0]), array([ 60,   0, 312,   0]), array([276,   0, 236,   0]), array([277,   0,  90,   0]), array([311,   0, 149,   0]), array([310,   0, 295,   0]), array([  5,   0, 183,   0]), array([  4,   0, 329,   0]), array([440,   0, 357,   0]), array([441,   0, 211,   0]), array([190,   0, 223,   0]), array([191,   0,  77,   0]), array([ 41,   1, 535,   0]), array([ 40,   1, 681,   0]), array([181,   1, 246,   0]), array([180,   1, 392,   0]), array([156,   1, 669,   0]), array([157,   1, 523,   0]), array([434,   1, 561,   0]), array([435,   1, 415,   0]), array([249,   1, 300,   0]), array([248,   1, 446,   0]), array([110,   1, 513,   0]), array([111,   1, 367,   0]), array([  0,   1, 309,   0]), array([  1,   1, 163,   0]), array([151,   1, 268,   0]), array([150,   1, 414,   0]), array([428,   1, 686,   0]), array([429,   1, 540,   0]), array([174,   1, 860,   0]), array([175,   1, 714,   0]), array([ 52,   1, 648,   0]), array([ 53,   1, 502,   0]), array([264,   1, 313,   0]), array([265,   1, 167,   0]), array([ 56,   1, 346,   0]), array([ 57,   1, 200,   0]), array([431,   1, 578,   0]), array([430,   1, 724,   0]), array([362,   1, 541,   0]), array([363,   1, 395,   0]), array([128,   1, 749,   0]), array([129,   1, 603,   0]), array([ 26,   1, 679,   0]), array([ 27,   1, 533,   0]), array([270,   1, 328,   0]), array([271,   1, 182,   0]), array([314,   1, 663,   0]), array([315,   1, 517,   0]), array([421,   1, 835,   0]), array([135,   1, 204,   0]), array([134,   1, 350,   0]), array([ 48,   1, 582,   0]), array([ 49,   1, 436,   0]), array([262,   1, 612,   0]), array([263,   1, 466,   0]), array([228,   1,  16,   0]), array([236,   1, 669,   0]), array([237,   1, 523,   0]), array([256,   1, 786,   0]), array([257,   1, 640,   0]), array([162,   1, 360,   0]), array([163,   1, 214,   0]), array([275,   1, 357,   0]), array([274,   1, 503,   0]), array([377,   1, 200,   0]), array([376,   1, 346,   0]), array([ 18,   1, 757,   0]), array([ 19,   1, 611,   0]), array([112,   1, 392,   0]), array([113,   1, 246,   0]), array([ 61,   1, 319,   0]), array([ 60,   1, 465,   0]), array([388,   1, 642,   0]), array([389,   1, 496,   0]), array([185,   1, 469,   0]), array([184,   1, 615,   0]), array([ 14,   1, 915,   0]), array([ 15,   1, 769,   0]), array([153,   1, 548,   0]), array([152,   1, 694,   0]), array([ 90,   1, 496,   0]), array([ 91,   1, 350,   0]), array([251,   1, 371,   0]), array([250,   1, 517,   0]), array([220,   1, 689,   0]), array([221,   1, 543,   0]), array([426,   1, 854,   0]), array([427,   1, 708,   0]), array([217,   1, 407,   0]), array([216,   1, 553,   0]), array([192,   1, 650,   0]), array([193,   1, 504,   0]), array([418,   1, 793,   0]), array([419,   1, 647,   0]), array([229,   1, 468,   0]), array([281,   1, 356,   0]), array([280,   1, 502,   0]), array([445,   1, 423,   0]), array([444,   1, 569,   0]), array([171,   1, 502,   0]), array([170,   1, 648,   0]), array([130,   1, 632,   0]), array([131,   1, 486,   0]), array([109,   1, 919,   0]), array([324,   1, 475,   0]), array([325,   1, 329,   0]), array([423,   1, 174,   0]), array([422,   1, 320,   0]), array([ 33,   1, 327,   0]), array([ 32,   1, 473,   0]), array([175,   2, 104,   0]), array([174,   2, 250,   0]), array([180,   2, 391,   0]), array([181,   2, 245,   0]), array([134,   2, 339,   0]), array([135,   2, 193,   0]), array([267,   2, 218,   0]), array([266,   2, 364,   0]), array([386,   2, 282,   0]), array([387,   2, 136,   0]), array([ 60,   2, 319,   0]), array([ 61,   2, 173,   0]), array([403,   2, 426,   0]), array([402,   2, 572,   0]), array([236,   2, 307,   0]), array([237,   2, 161,   0]), array([  9,   2, 185,   0]), array([  8,   2, 331,   0]), array([ 40,   2, 679,   0]), array([ 41,   2, 533,   0]), array([ 18,   2, 353,   0]), array([ 19,   2, 207,   0]), array([277,   2,  96,   0]), array([276,   2, 242,   0]), array([115,   2, 151,   0]), array([114,   2, 297,   0]), array([208,   2, 355,   0]), array([209,   2, 209,   0]), array([ 91,   2, 153,   0]), array([ 90,   2, 299,   0]), array([107,   2, 137,   0]), array([106,   2, 283,   0]), array([431,   2, 279,   0]), array([430,   2, 425,   0]), array([203,   2, 178,   0]), array([202,   2, 324,   0]), array([249,   2, 295,   0]), array([248,   2, 441,   0]), array([100,   2, 412,   0]), array([101,   2, 266,   0]), array([376,   2, 360,   0]), array([377,   2, 214,   0]), array([282,   2, 262,   0]), array([283,   2, 116,   0]), array([438,   2, 465,   0]), array([439,   2, 319,   0]), array([ 66,   2, 371,   0]), array([ 67,   2, 225,   0]), array([ 44,   2, 247,   0]), array([ 45,   2, 101,   0]), array([ 99,   2, 158,   0]), array([ 98,   2, 304,   0]), array([434,   2, 365,   0]), array([435,   2, 219,   0]), array([146,   2, 325,   0]), array([147,   2, 179,   0]), array([ 43,   2, 206,   0]), array([ 42,   2, 352,   0]), array([295,   2, 190,   0]), array([294,   2, 336,   0]), array([328,   2, 415,   0]), array([329,   2, 269,   0]), array([ 37,   2, 122,   0]), array([ 36,   2, 268,   0]), array([ 89,   2, 159,   0]), array([ 88,   2, 305,   0]), array([343,   2, 173,   0]), array([342,   2, 319,   0]), array([291,   2, 257,   0]), array([290,   2, 403,   0]), array([443,   2, 188,   0]), array([442,   2, 334,   0]), array([130,   2, 321,   0]), array([131,   2, 175,   0]), array([155,   2, 201,   0]), array([154,   2, 347,   0]), array([132,   2, 288,   0]), array([133,   2, 142,   0]), array([218,   2, 337,   0]), array([219,   2, 191,   0]), array([271,   2, 185,   0]), array([270,   2, 331,   0]), array([141,   2, 192,   0]), array([140,   2, 338,   0]), array([406,   2, 345,   0]), array([407,   2, 199,   0]), array([150,   2, 320,   0]), array([151,   2, 174,   0]), array([326,   2, 286,   0]), array([327,   2, 140,   0]), array([ 56,   2, 344,   0]), array([ 57,   2, 198,   0]), array([136,   2, 301,   0]), array([137,   2, 155,   0]), array([ 29,   2, 180,   0]), array([ 28,   2, 326,   0]), array([354,   2, 314,   0]), array([355,   2, 168,   0]), array([446,   2, 252,   0]), array([447,   2, 106,   0]), array([181,   3, 249,   0]), array([180,   3, 395,   0]), array([248,   3, 447,   0]), array([249,   3, 301,   0]), array([ 40,   3, 684,   0]), array([ 41,   3, 538,   0]), array([267,   3, 227,   0]), array([266,   3, 373,   0]), array([271,   3, 184,   0]), array([270,   3, 330,   0]), array([430,   3, 706,   0]), array([431,   3, 560,   0]), array([ 60,   3, 304,   0]), array([ 61,   3, 158,   0]), array([387,   3, 137,   0]), array([386,   3, 283,   0]), array([175,   3, 152,   0]), array([174,   3, 298,   0]), array([ 56,   3, 348,   0]), array([ 57,   3, 202,   0]), array([101,   3, 277,   0]), array([100,   3, 423,   0]), array([373,   3, 123,   0]), array([372,   3, 269,   0]), array([143,   3, 298,   0]), array([142,   3, 444,   0]), array([377,   3, 203,   0]), array([376,   3, 349,   0]), array([237,   3, 163,   0]), array([236,   3, 309,   0]), array([264,   3, 314,   0]), array([265,   3, 168,   0]), array([135,   3, 190,   0]), array([134,   3, 336,   0]), array([113,   3, 249,   0]), array([112,   3, 395,   0]), array([406,   3, 343,   0]), array([407,   3, 197,   0]), array([201,   3, 226,   0]), array([200,   3, 372,   0]), array([111,   3, 371,   0]), array([110,   3, 517,   0]), array([208,   3, 410,   0]), array([209,   3, 264,   0]), array([ 66,   3, 373,   0]), array([ 67,   3, 227,   0]), array([398,   3, 343,   0]), array([399,   3, 197,   0]), array([122,   3, 284,   0]), array([123,   3, 138,   0]), array([ 36,   3, 277,   0]), array([ 37,   3, 131,   0]), array([383,   3, 288,   0]), array([382,   3, 434,   0]), array([393,   3, 248,   0]), array([392,   3, 394,   0]), array([212,   3, 460,   0]), array([213,   3, 314,   0]), array([301,   3, 233,   0]), array([300,   3, 379,   0]), array([274,   3, 355,   0]), array([275,   3, 209,   0]), array([333,   3, 306,   0]), array([332,   3, 452,   0]), array([ 53,   3, 504,   0]), array([ 52,   3, 650,   0]), array([434,   3, 602,   0]), array([435,   3, 456,   0]), array([183,   3, 190,   0]), array([182,   3, 336,   0]), array([203,   3, 183,   0]), array([202,   3, 329,   0]), array([441,   3, 201,   0]), array([440,   3, 347,   0]), array([442,   3,  27,   0]), array([257,   3, 247,   0]), array([256,   3, 393,   0]), array([ 18,   3, 901,   0]), array([ 19,   3, 755,   0]), array([ 89,   3, 159,   0]), array([ 88,   3, 305,   0]), array([410,   3, 340,   0]), array([411,   3, 194,   0]), array([223,   3, 229,   0]), array([222,   3, 375,   0]), array([133,   3, 167,   0]), array([132,   3, 313,   0]), array([ 71,   3, 467,   0]), array([ 70,   3, 613,   0]), array([ 47,   3, 230,   0]), array([ 46,   3, 376,   0]), array([172,   3, 318,   0]), array([173,   3, 172,   0]), array([169,   3, 205,   0]), array([168,   3, 351,   0]), array([438,   3, 474,   0]), array([439,   3, 328,   0]), array([ 44,   3, 304,   0]), array([ 45,   3, 158,   0]), array([125,   3, 134,   0]), array([167,   4, 872,   0]), array([71,  4, 26,  0]), array([ 70,   4, 172,   0]), array([166,   4, 586,   0]), array([ 18,   4, 364,   0]), array([ 19,   4, 218,   0]), array([342,   4, 820,   0]), array([343,   4, 674,   0]), array([ 79,   4, 708,   0]), array([ 78,   4, 854,   0]), array([151,   4, 876,   0]), array([142,   4, 761,   0]), array([143,   4, 615,   0]), array([429,   4, 884,   0]), array([229,   4, 461,   0]), array([228,   4, 607,   0]), array([124,   4, 828,   0]), array([125,   4, 682,   0]), array([325,   4, 534,   0]), array([324,   4, 680,   0]), array([ 27,   4, 856,   0]), array([421,   4, 491,   0]), array([420,   4, 637,   0]), array([ 69,   4, 271,   0]), array([ 68,   4, 417,   0]), array([161,   4, 928,   0]), array([354,   4, 700,   0]), array([355,   4, 554,   0]), array([359,   4, 761,   0]), array([358,   4, 907,   0]), array([428,   4, 702,   0]), array([107,   4, 669,   0]), array([106,   4, 815,   0]), array([ 26,   4, 954,   0]), array([ 6,  4, 77,  0]), array([278,   4, 695,   0]), array([279,   4, 549,   0]), array([192,   4, 689,   0]), array([193,   4, 543,   0]), array([444,   4, 905,   0]), array([445,   4, 759,   0]), array([163,   4, 373,   0]), array([162,   4, 519,   0]), array([341,   4, 433,   0]), array([340,   4, 579,   0]), array([431,   4, 576,   0]), array([430,   4, 722,   0]), array([186,   4, 942,   0]), array([187,   4, 796,   0]), array([362,   4, 545,   0]), array([363,   4, 399,   0]), array([207,   4, 883,   0]), array([447,   4, 381,   0]), array([446,   4, 527,   0]), array([153,   4, 937,   0]), array([407,   4, 798,   0]), array([406,   4, 944,   0]), array([204,   4, 760,   0]), array([205,   4, 614,   0]), array([131,   4, 478,   0]), array([130,   4, 624,   0]), array([203,   4, 402,   0]), array([202,   4, 548,   0]), array([102,   4, 558,   0]), array([103,   4, 412,   0]), array([ 65,   4, 502,   0]), array([ 64,   4, 648,   0]), array([397,   4, 945,   0]), array([353,   4, 636,   0]), array([352,   4, 782,   0]), array([382,   4, 548,   0]), array([383,   4, 402,   0]), array([309,   4, 541,   0]), array([308,   4, 687,   0]), array([432,   4, 317,   0]), array([433,   4, 171,   0]), array([314,   4, 841,   0]), array([315,   4, 695,   0]), array([ 89,   4, 655,   0]), array([ 88,   4, 801,   0]), array([225,   4, 738,   0]), array([224,   4, 884,   0]), array([313,   4, 634,   0]), array([312,   4, 780,   0]), array([401,   4, 701,   0]), array([400,   4, 847,   0]), array([156,   4,  88,   0]), array([347,   4, 418,   0]), array([346,   4, 564,   0]), array([ 67,   4, 765,   0]), array([ 66,   4, 911,   0]), array([ 37,   4, 874,   0]), array([152,   4, 845,   0]), array([263,   4, 566,   0]), array([262,   4, 712,   0]), array([197,   4, 881,   0]), array([299,   4, 753,   0]), array([298,   4, 899,   0]), array([146,   4, 550,   0]), array([147,   4, 404,   0])]\n",
        "max units\n",
        "[array([ 0,  1,  2,  3,  4,  5,  6,  7,  8,  9, 10, 11, 12, 13, 14, 15, 16]), array([17, 18, 19, 20, 21, 22, 23, 24, 25, 26, 27, 28, 29, 30, 31, 32, 33]), array([34, 35, 36, 37, 38, 39, 40, 41, 42, 43, 44, 45, 46, 47, 48, 49, 50]), array([51, 52, 53, 54, 55, 56, 57, 58, 59, 60, 61, 62, 63, 64, 65, 66, 67]), array([68, 69, 70, 71, 72, 73, 74, 75, 76, 77, 78, 79, 80, 81, 82, 83, 84]), array([ 85,  86,  87,  88,  89,  90,  91,  92,  93,  94,  95,  96,  97,\n",
        "        98,  99, 100, 101]), array([102, 103, 104, 105, 106, 107, 108, 109, 110, 111, 112, 113, 114,\n",
        "       115, 116, 117, 118]), array([119, 120, 121, 122, 123, 124, 125, 126, 127, 128, 129, 130, 131,\n",
        "       132, 133, 134, 135]), array([136, 137, 138, 139, 140, 141, 142, 143, 144, 145, 146, 147, 148,\n",
        "       149, 150, 151, 152]), array([153, 154, 155, 156, 157, 158, 159, 160, 161, 162, 163, 164, 165,\n",
        "       166, 167, 168, 169]), array([170, 171, 172, 173, 174, 175, 176, 177, 178, 179, 180, 181, 182,\n",
        "       183, 184, 185, 186]), array([187, 188, 189, 190, 191, 192, 193, 194, 195, 196, 197, 198, 199,\n",
        "       200, 201, 202, 203]), array([204, 205, 206, 207, 208, 209, 210, 211, 212, 213, 214, 215, 216,\n",
        "       217, 218, 219, 220]), array([221, 222, 223, 224, 225, 226, 227, 228, 229, 230, 231, 232, 233,\n",
        "       234, 235, 236, 237]), array([238, 239, 240, 241, 242, 243, 244, 245, 246, 247, 248, 249, 250,\n",
        "       251, 252, 253, 254]), array([255, 256, 257, 258, 259, 260, 261, 262, 263, 264, 265, 266, 267,\n",
        "       268, 269, 270, 271]), array([272, 273, 274, 275, 276, 277, 278, 279, 280, 281, 282, 283, 284,\n",
        "       285, 286, 287, 288]), array([289, 290, 291, 292, 293, 294, 295, 296, 297, 298, 299, 300, 301,\n",
        "       302, 303, 304, 305]), array([306, 307, 308, 309, 310, 311, 312, 313, 314, 315, 316, 317, 318,\n",
        "       319, 320, 321, 322]), array([323, 324, 325, 326, 327, 328, 329, 330, 331, 332, 333, 334, 335,\n",
        "       336, 337, 338, 339]), array([340, 341, 342, 343, 344, 345, 346, 347, 348, 349, 350, 351, 352,\n",
        "       353, 354, 355]), array([356, 357, 358, 359, 360, 361, 362, 363, 364, 365, 366, 367, 368,\n",
        "       369, 370, 371]), array([372, 373, 374, 375, 376, 377, 378, 379, 380, 381, 382, 383, 384,\n",
        "       385, 386, 387]), array([388, 389, 390, 391, 392, 393, 394, 395, 396, 397, 398, 399, 400,\n",
        "       401, 402, 403]), array([404, 405, 406, 407, 408, 409, 410, 411, 412, 413, 414, 415, 416,\n",
        "       417, 418, 419]), array([420, 421, 422, 423, 424, 425, 426, 427, 428, 429, 430, 431, 432,\n",
        "       433, 434, 435]), array([436, 437, 438, 439, 440, 441, 442, 443, 444, 445, 446, 447, 448,\n",
        "       449, 450, 451]), array([452, 453, 454, 455, 456, 457, 458, 459, 460, 461, 462, 463, 464,\n",
        "       465, 466, 467]), array([468, 469, 470, 471, 472, 473, 474, 475, 476, 477, 478, 479, 480,\n",
        "       481, 482, 483]), array([484, 485, 486, 487, 488, 489, 490, 491, 492, 493, 494, 495, 496,\n",
        "       497, 498, 499])]\n",
        "Batch\n"
       ]
      },
      {
       "output_type": "stream",
       "stream": "stdout",
       "text": [
        "!!!W!!! Prod{acc_dtype=int64}.0\n"
       ]
      },
      {
       "output_type": "stream",
       "stream": "stdout",
       "text": [
        "Batch\n",
        "!!!W!!! Prod{acc_dtype=int64}.0\n"
       ]
      },
      {
       "output_type": "stream",
       "stream": "stdout",
       "text": [
        "Batch\n",
        "!!!W!!! Prod{acc_dtype=int64}.0\n"
       ]
      },
      {
       "output_type": "stream",
       "stream": "stdout",
       "text": [
        "Batch\n",
        "!!!W!!! Prod{acc_dtype=int64}.0\n"
       ]
      },
      {
       "output_type": "stream",
       "stream": "stdout",
       "text": [
        "Batch\n",
        "!!!W!!! Prod{acc_dtype=int64}.0\n"
       ]
      },
      {
       "output_type": "stream",
       "stream": "stdout",
       "text": [
        "Batch\n",
        "!!!W!!! Prod{acc_dtype=int64}.0\n"
       ]
      },
      {
       "output_type": "stream",
       "stream": "stdout",
       "text": [
        "Batch\n",
        "!!!W!!! Prod{acc_dtype=int64}.0\n"
       ]
      },
      {
       "output_type": "stream",
       "stream": "stdout",
       "text": [
        "Batch\n",
        "!!!W!!! Prod{acc_dtype=int64}.0\n"
       ]
      },
      {
       "output_type": "stream",
       "stream": "stdout",
       "text": [
        "Batch\n",
        "!!!W!!! Prod{acc_dtype=int64}.0\n"
       ]
      },
      {
       "output_type": "stream",
       "stream": "stdout",
       "text": [
        "Batch\n",
        "!!!W!!! Prod{acc_dtype=int64}.0\n"
       ]
      },
      {
       "output_type": "stream",
       "stream": "stdout",
       "text": [
        "Batch\n",
        "!!!W!!! Prod{acc_dtype=int64}.0\n"
       ]
      },
      {
       "output_type": "stream",
       "stream": "stdout",
       "text": [
        "Batch\n",
        "!!!W!!! Prod{acc_dtype=int64}.0\n"
       ]
      },
      {
       "output_type": "stream",
       "stream": "stdout",
       "text": [
        "Batch\n",
        "!!!W!!! Prod{acc_dtype=int64}.0\n"
       ]
      },
      {
       "output_type": "stream",
       "stream": "stdout",
       "text": [
        "Batch\n",
        "!!!W!!! Prod{acc_dtype=int64}.0\n"
       ]
      },
      {
       "output_type": "stream",
       "stream": "stdout",
       "text": [
        "Batch\n",
        "!!!W!!! Prod{acc_dtype=int64}.0\n"
       ]
      },
      {
       "output_type": "stream",
       "stream": "stdout",
       "text": [
        "Batch\n",
        "!!!W!!! Prod{acc_dtype=int64}.0\n"
       ]
      },
      {
       "output_type": "stream",
       "stream": "stdout",
       "text": [
        "Batch\n",
        "!!!W!!! Prod{acc_dtype=int64}.0\n"
       ]
      },
      {
       "output_type": "stream",
       "stream": "stdout",
       "text": [
        "Batch\n",
        "!!!W!!! Prod{acc_dtype=int64}.0\n"
       ]
      },
      {
       "output_type": "stream",
       "stream": "stdout",
       "text": [
        "Batch\n",
        "!!!W!!! Prod{acc_dtype=int64}.0\n"
       ]
      },
      {
       "output_type": "stream",
       "stream": "stdout",
       "text": [
        "Batch\n",
        "!!!W!!! Prod{acc_dtype=int64}.0\n"
       ]
      },
      {
       "output_type": "stream",
       "stream": "stdout",
       "text": [
        "Batch\n",
        "!!!W!!! Prod{acc_dtype=int64}.0\n"
       ]
      },
      {
       "output_type": "stream",
       "stream": "stdout",
       "text": [
        "Batch\n",
        "!!!W!!! Prod{acc_dtype=int64}.0\n"
       ]
      },
      {
       "output_type": "stream",
       "stream": "stdout",
       "text": [
        "Batch\n",
        "!!!W!!! Prod{acc_dtype=int64}.0\n"
       ]
      },
      {
       "output_type": "stream",
       "stream": "stdout",
       "text": [
        "Batch\n",
        "!!!W!!! Prod{acc_dtype=int64}.0\n"
       ]
      },
      {
       "output_type": "stream",
       "stream": "stdout",
       "text": [
        "Batch\n",
        "!!!W!!! Prod{acc_dtype=int64}.0\n"
       ]
      },
      {
       "output_type": "stream",
       "stream": "stdout",
       "text": [
        "Batch\n",
        "!!!W!!! Prod{acc_dtype=int64}.0\n"
       ]
      },
      {
       "output_type": "stream",
       "stream": "stdout",
       "text": [
        "Batch\n",
        "!!!W!!! Prod{acc_dtype=int64}.0\n"
       ]
      },
      {
       "output_type": "stream",
       "stream": "stdout",
       "text": [
        "Batch\n",
        "!!!W!!! Prod{acc_dtype=int64}.0\n"
       ]
      },
      {
       "output_type": "stream",
       "stream": "stdout",
       "text": [
        "Batch\n",
        "!!!W!!! Prod{acc_dtype=int64}.0\n"
       ]
      },
      {
       "output_type": "stream",
       "stream": "stdout",
       "text": [
        "Batch\n",
        "!!!W!!! Prod{acc_dtype=int64}.0\n"
       ]
      },
      {
       "output_type": "stream",
       "stream": "stdout",
       "text": [
        "Outputs (448, 5, 875, 1)\n",
        "Filter\n",
        "Filter\n"
       ]
      },
      {
       "output_type": "stream",
       "stream": "stdout",
       "text": [
        "Filter\n",
        "Filter\n"
       ]
      },
      {
       "output_type": "stream",
       "stream": "stdout",
       "text": [
        "Filter\n",
        "[array([336,   0, 364,   0]), array([337,   0, 218,   0]), array([339,   0,  94,   0]), array([338,   0, 240,   0]), array([ 24,   0, 820,   0]), array([ 25,   0, 674,   0]), array([ 55,   0, 427,   0]), array([ 54,   0, 573,   0]), array([ 40,   0, 402,   0]), array([ 41,   0, 256,   0]), array([232,   0, 270,   0]), array([233,   0, 124,   0]), array([268,   0, 360,   0]), array([269,   0, 214,   0]), array([194,   0, 351,   0]), array([195,   0, 205,   0]), array([330,   0, 782,   0]), array([331,   0, 636,   0]), array([321,   0, 288,   0]), array([320,   0, 434,   0]), array([431,   0, 261,   0]), array([430,   0, 407,   0]), array([353,   0, 393,   0]), array([352,   0, 539,   0]), array([ 75,   0, 346,   0]), array([ 74,   0, 492,   0]), array([408,   0, 257,   0]), array([409,   0, 111,   0]), array([ 22,   0, 270,   0]), array([ 23,   0, 124,   0]), array([ 27,   0, 346,   0]), array([ 26,   0, 492,   0]), array([106,   0, 485,   0]), array([107,   0, 339,   0]), array([235,   0, 238,   0]), array([234,   0, 384,   0]), array([411,   0, 399,   0]), array([410,   0, 545,   0]), array([ 21,   0, 485,   0]), array([ 20,   0, 631,   0]), array([ 53,   0, 178,   0]), array([ 52,   0, 324,   0]), array([240,   0, 379,   0]), array([241,   0, 233,   0]), array([419,   0, 205,   0]), array([418,   0, 351,   0]), array([393,   0, 260,   0]), array([392,   0, 406,   0]), array([231,   0, 429,   0]), array([230,   0, 575,   0]), array([435,   0, 239,   0]), array([434,   0, 385,   0]), array([ 62,   0, 393,   0]), array([ 63,   0, 247,   0]), array([299,   0, 730,   0]), array([ 45,   0, 187,   0]), array([ 44,   0, 333,   0]), array([420,   0, 296,   0]), array([421,   0, 150,   0]), array([ 69,   0, 248,   0]), array([ 68,   0, 394,   0]), array([136,   0, 265,   0]), array([137,   0, 119,   0]), array([208,   0, 465,   0]), array([209,   0, 319,   0]), array([  1,   0, 491,   0]), array([  0,   0, 637,   0]), array([210,   0, 522,   0]), array([211,   0, 376,   0]), array([239,   0, 181,   0]), array([238,   0, 327,   0]), array([199,   0, 278,   0]), array([198,   0, 424,   0]), array([  9,   0, 317,   0]), array([  8,   0, 463,   0]), array([260,   0, 257,   0]), array([261,   0, 111,   0]), array([298,   0, 833,   0]), array([267,   0, 281,   0]), array([266,   0, 427,   0]), array([226,   0, 553,   0]), array([227,   0, 407,   0]), array([ 11,   0, 310,   0]), array([ 10,   0, 456,   0]), array([ 89,   0, 289,   0]), array([ 88,   0, 435,   0]), array([ 17,   0, 315,   0]), array([ 16,   0, 461,   0]), array([277,   0, 203,   0]), array([276,   0, 349,   0]), array([123,   0, 133,   0]), array([122,   0, 279,   0]), array([218,   0, 442,   0]), array([219,   0, 296,   0]), array([347,   0, 492,   0]), array([346,   0, 638,   0]), array([439,   0, 214,   0]), array([438,   0, 360,   0]), array([422,   0, 749,   0]), array([423,   0, 603,   0]), array([336,   1, 367,   0]), array([337,   1, 221,   0]), array([338,   1, 242,   0]), array([339,   1,  96,   0]), array([330,   1, 785,   0]), array([331,   1, 639,   0]), array([ 54,   1, 576,   0]), array([ 55,   1, 430,   0]), array([ 25,   1, 677,   0]), array([ 24,   1, 823,   0]), array([320,   1, 437,   0]), array([321,   1, 291,   0]), array([269,   1, 217,   0]), array([268,   1, 363,   0]), array([195,   1, 187,   0]), array([194,   1, 333,   0]), array([232,   1, 273,   0]), array([233,   1, 127,   0]), array([ 41,   1, 259,   0]), array([ 40,   1, 405,   0]), array([430,   1, 410,   0]), array([431,   1, 264,   0]), array([ 21,   1, 491,   0]), array([ 20,   1, 637,   0]), array([ 22,   1, 271,   0]), array([ 23,   1, 125,   0]), array([ 26,   1, 495,   0]), array([ 27,   1, 349,   0]), array([235,   1, 241,   0]), array([234,   1, 387,   0]), array([ 74,   1, 495,   0]), array([ 75,   1, 349,   0]), array([107,   1, 342,   0]), array([106,   1, 488,   0]), array([352,   1, 521,   0]), array([353,   1, 375,   0]), array([409,   1, 261,   0]), array([408,   1, 407,   0]), array([210,   1, 525,   0]), array([211,   1, 379,   0]), array([ 52,   1, 329,   0]), array([ 53,   1, 183,   0]), array([410,   1, 587,   0]), array([411,   1, 441,   0]), array([260,   1, 260,   0]), array([261,   1, 114,   0]), array([  0,   1, 640,   0]), array([  1,   1, 494,   0]), array([392,   1, 390,   0]), array([393,   1, 244,   0]), array([ 68,   1, 397,   0]), array([ 69,   1, 251,   0]), array([137,   1, 122,   0]), array([136,   1, 268,   0]), array([299,   1, 733,   0]), array([435,   1, 242,   0]), array([434,   1, 388,   0]), array([198,   1, 427,   0]), array([199,   1, 281,   0]), array([438,   1, 381,   0]), array([439,   1, 235,   0]), array([355,   1, 623,   0]), array([354,   1, 769,   0]), array([ 63,   1, 250,   0]), array([ 62,   1, 396,   0]), array([240,   1, 361,   0]), array([241,   1, 215,   0]), array([420,   1, 299,   0]), array([421,   1, 153,   0]), array([351,   1, 709,   0]), array([350,   1, 855,   0]), array([418,   1, 334,   0]), array([419,   1, 188,   0]), array([239,   1, 204,   0]), array([238,   1, 350,   0]), array([385,   1, 769,   0]), array([341,   1, 651,   0]), array([340,   1, 797,   0]), array([346,   1, 643,   0]), array([347,   1, 497,   0]), array([122,   1, 282,   0]), array([123,   1, 136,   0]), array([267,   1, 284,   0]), array([266,   1, 430,   0]), array([272,   1, 325,   0]), array([273,   1, 179,   0]), array([219,   1, 299,   0]), array([218,   1, 445,   0]), array([209,   1, 341,   0]), array([208,   1, 487,   0]), array([236,   1, 363,   0]), array([237,   1, 217,   0]), array([ 45,   1, 191,   0]), array([ 44,   1, 337,   0]), array([423,   1, 627,   0]), array([422,   1, 773,   0]), array([230,   1, 581,   0]), array([231,   1, 435,   0]), array([115,   1, 744,   0]), array([ 81,   1, 224,   0]), array([228,   2, 832,   0]), array([229,   2, 686,   0]), array([311,   2, 686,   0]), array([310,   2, 832,   0]), array([388,   2, 684,   0]), array([389,   2, 538,   0]), array([ 23,   2, 816,   0]), array([415,   2, 525,   0]), array([414,   2, 671,   0]), array([345,   2, 368,   0]), array([344,   2, 514,   0]), array([ 22,   2, 710,   0]), array([385,   2, 803,   0]), array([425,   2, 756,   0]), array([329,   2, 299,   0]), array([328,   2, 445,   0]), array([ 21,   2, 546,   0]), array([ 20,   2, 692,   0]), array([429,   2, 555,   0]), array([428,   2, 701,   0]), array([ 88,   2, 435,   0]), array([ 89,   2, 289,   0]), array([341,   2, 753,   0]), array([142,   2, 318,   0]), array([143,   2, 172,   0]), array([285,   2, 814,   0]), array([330,   2, 555,   0]), array([331,   2, 409,   0]), array([149,   2, 509,   0]), array([148,   2, 655,   0]), array([353,   2, 495,   0]), array([352,   2, 641,   0]), array([440,   2, 484,   0]), array([441,   2, 338,   0]), array([302,   2, 777,   0]), array([303,   2, 631,   0]), array([ 81,   2, 239,   0]), array([ 80,   2, 385,   0]), array([292,   2, 446,   0]), array([293,   2, 300,   0]), array([238,   2, 286,   0]), array([239,   2, 140,   0]), array([408,   2, 627,   0]), array([409,   2, 481,   0]), array([395,   2, 750,   0]), array([411,   2, 733,   0]), array([283,   2, 411,   0]), array([282,   2, 557,   0]), array([403,   2, 521,   0]), array([402,   2, 667,   0]), array([340,   2, 854,   0]), array([107,   2, 784,   0]), array([332,   2, 497,   0]), array([333,   2, 351,   0]), array([ 16,   2, 738,   0]), array([ 17,   2, 592,   0]), array([373,   2, 772,   0]), array([401,   2, 412,   0]), array([400,   2, 558,   0]), array([131,   2, 485,   0]), array([130,   2, 631,   0]), array([393,   2, 853,   0]), array([444,   2, 511,   0]), array([445,   2, 365,   0]), array([420,   2, 518,   0]), array([421,   2, 372,   0]), array([433,   2, 345,   0]), array([432,   2, 491,   0]), array([153,   2, 381,   0]), array([152,   2, 527,   0]), array([ 38,   2, 710,   0]), array([ 39,   2, 564,   0]), array([375,   2, 670,   0]), array([374,   2, 816,   0]), array([416,   2, 701,   0]), array([417,   2, 555,   0]), array([386,   2, 772,   0]), array([387,   2, 626,   0]), array([155,   2, 574,   0]), array([154,   2, 720,   0]), array([439,   2, 231,   0]), array([438,   2, 377,   0]), array([436,   2, 769,   0]), array([437,   2, 623,   0]), array([ 83,   2, 862,   0]), array([391,   2, 775,   0]), array([106,   2, 837,   0]), array([410,   2, 855,   0]), array([431,   2, 341,   0]), array([430,   2, 487,   0]), array([ 25,   2, 372,   0]), array([ 24,   2, 518,   0]), array([  3,   2, 349,   0]), array([  2,   2, 495,   0]), array([359,   2, 136,   0]), array([358,   2, 282,   0]), array([125,   2, 634,   0]), array([124,   2, 780,   0]), array([394,   2, 873,   0]), array([419,   2, 559,   0]), array([229,   3, 679,   0]), array([228,   3, 825,   0]), array([310,   3, 829,   0]), array([311,   3, 683,   0]), array([388,   3, 681,   0]), array([389,   3, 535,   0]), array([341,   3, 705,   0]), array([340,   3, 851,   0]), array([142,   3, 315,   0]), array([143,   3, 169,   0]), array([ 23,   3, 811,   0]), array([344,   3, 511,   0]), array([345,   3, 365,   0]), array([329,   3, 305,   0]), array([328,   3, 451,   0]), array([441,   3, 329,   0]), array([440,   3, 475,   0]), array([ 22,   3, 664,   0]), array([425,   3, 801,   0]), array([ 38,   3, 704,   0]), array([ 39,   3, 558,   0]), array([ 81,   3, 235,   0]), array([ 80,   3, 381,   0]), array([238,   3, 284,   0]), array([239,   3, 138,   0]), array([331,   3, 406,   0]), array([330,   3, 552,   0]), array([148,   3, 651,   0]), array([149,   3, 505,   0]), array([107,   3, 781,   0]), array([ 89,   3, 307,   0]), array([ 88,   3, 453,   0]), array([302,   3, 373,   0]), array([303,   3, 227,   0]), array([402,   3, 681,   0]), array([403,   3, 535,   0]), array([421,   3, 375,   0]), array([420,   3, 521,   0]), array([346,   3, 678,   0]), array([347,   3, 532,   0]), array([411,   3, 749,   0]), array([169,   3, 144,   0]), array([168,   3, 290,   0]), array([292,   3, 446,   0]), array([293,   3, 300,   0]), array([ 21,   3, 809,   0]), array([415,   3, 523,   0]), array([414,   3, 669,   0]), array([325,   3, 104,   0]), array([324,   3, 250,   0]), array([375,   3, 500,   0]), array([374,   3, 646,   0]), array([ 19,   3, 678,   0]), array([ 18,   3, 824,   0]), array([399,   3, 839,   0]), array([413,   3, 561,   0]), array([412,   3, 707,   0]), array([409,   3, 454,   0]), array([408,   3, 600,   0]), array([106,   3, 834,   0]), array([385,   3, 822,   0]), array([ 20,   3, 669,   0]), array([  3,   3, 349,   0]), array([  2,   3, 495,   0]), array([118,   3, 289,   0]), array([119,   3, 143,   0]), array([197,   3, 392,   0]), array([196,   3, 538,   0]), array([428,   3, 699,   0]), array([429,   3, 553,   0]), array([167,   3, 661,   0]), array([166,   3, 807,   0]), array([424,   3, 804,   0]), array([ 87,   3, 766,   0]), array([416,   3, 506,   0]), array([417,   3, 360,   0]), array([103,   3, 558,   0]), array([102,   3, 704,   0]), array([438,   3, 382,   0]), array([439,   3, 236,   0]), array([153,   3, 629,   0]), array([152,   3, 775,   0]), array([ 17,   3, 655,   0]), array([ 16,   3, 801,   0]), array([281,   3, 271,   0]), array([280,   3, 417,   0]), array([430,   3, 464,   0]), array([431,   3, 318,   0]), array([316,   3, 568,   0]), array([317,   3, 422,   0]), array([ 25,   3, 363,   0]), array([ 24,   3, 509,   0]), array([263,   3, 381,   0]), array([262,   3, 527,   0]), array([  7,   3, 150,   0]), array([  6,   3, 296,   0]), array([194,   3, 681,   0]), array([195,   3, 535,   0]), array([398,   3, 719,   0]), array([358,   3, 240,   0]), array([228,   4, 841,   0]), array([229,   4, 695,   0]), array([ 23,   4, 801,   0]), array([311,   4, 739,   0]), array([310,   4, 817,   0]), array([385,   4, 812,   0]), array([ 20,   4, 656,   0]), array([ 21,   4, 510,   0]), array([425,   4, 810,   0]), array([415,   4, 534,   0]), array([414,   4, 680,   0]), array([344,   4, 500,   0]), array([345,   4, 354,   0]), array([441,   4, 345,   0]), array([440,   4, 491,   0]), array([411,   4, 739,   0]), array([ 22,   4, 649,   0]), array([282,   4, 565,   0]), array([283,   4, 419,   0]), array([149,   4, 494,   0]), array([148,   4, 640,   0]), array([429,   4, 538,   0]), array([428,   4, 684,   0]), array([341,   4, 738,   0]), array([329,   4, 302,   0]), array([328,   4, 448,   0]), array([402,   4, 675,   0]), array([403,   4, 529,   0]), array([ 80,   4, 390,   0]), array([ 81,   4, 244,   0]), array([331,   4, 417,   0]), array([330,   4, 563,   0]), array([410,   4, 861,   0]), array([388,   4, 672,   0]), array([389,   4, 526,   0]), array([285,   4, 799,   0]), array([393,   4, 862,   0]), array([155,   4, 580,   0]), array([154,   4, 726,   0]), array([400,   4, 612,   0]), array([401,   4, 466,   0]), array([386,   4, 779,   0]), array([387,   4, 633,   0]), array([302,   4, 786,   0]), array([303,   4, 640,   0]), array([293,   4, 309,   0]), array([292,   4, 455,   0]), array([ 38,   4, 716,   0]), array([ 39,   4, 570,   0]), array([143,   4, 163,   0]), array([142,   4, 309,   0]), array([ 16,   4, 744,   0]), array([ 17,   4, 598,   0]), array([ 89,   4, 295,   0]), array([ 88,   4, 441,   0]), array([409,   4, 466,   0]), array([408,   4, 612,   0]), array([124,   4, 789,   0]), array([125,   4, 643,   0]), array([ 14,   4, 730,   0]), array([ 15,   4, 584,   0]), array([ 19,   4, 668,   0]), array([ 18,   4, 814,   0]), array([353,   4, 504,   0]), array([352,   4, 650,   0]), array([420,   4, 527,   0]), array([421,   4, 381,   0]), array([ 35,   4, 401,   0]), array([ 34,   4, 547,   0]), array([426,   4, 745,   0]), array([427,   4, 599,   0]), array([417,   4, 425,   0]), array([416,   4, 571,   0]), array([413,   4, 550,   0]), array([412,   4, 696,   0]), array([ 92,   4, 449,   0]), array([ 93,   4, 303,   0]), array([102,   4, 716,   0]), array([103,   4, 570,   0]), array([340,   4, 863,   0]), array([445,   4, 371,   0]), array([444,   4, 517,   0]), array([358,   4, 288,   0]), array([359,   4, 142,   0]), array([ 25,   4, 381,   0]), array([ 24,   4, 527,   0]), array([167,   4, 652,   0]), array([166,   4, 798,   0]), array([391,   4, 783,   0]), array([398,   4, 710,   0]), array([399,   4, 564,   0]), array([430,   4, 471,   0]), array([431,   4, 325,   0]), array([211,   4, 532,   0]), array([210,   4, 678,   0]), array([395,   4, 759,   0]), array([  4,   4, 749,   0]), array([  5,   4, 603,   0]), array([375,   4, 515,   0]), array([374,   4, 661,   0])]\n",
        "max units\n",
        "[array([0, 1, 2, 3, 4, 5, 6, 7, 8]), array([ 9, 10, 11, 12, 13, 14, 15, 16, 17]), array([18, 19, 20, 21, 22, 23, 24, 25, 26]), array([27, 28, 29, 30, 31, 32, 33, 34, 35]), array([36, 37, 38, 39, 40, 41, 42, 43, 44]), array([45, 46, 47, 48, 49, 50, 51, 52, 53]), array([54, 55, 56, 57, 58, 59, 60, 61, 62]), array([63, 64, 65, 66, 67, 68, 69, 70, 71]), array([72, 73, 74, 75, 76, 77, 78, 79, 80]), array([81, 82, 83, 84, 85, 86, 87, 88, 89]), array([90, 91, 92, 93, 94, 95, 96, 97, 98]), array([ 99, 100, 101, 102, 103, 104, 105, 106, 107]), array([108, 109, 110, 111, 112, 113, 114, 115, 116]), array([117, 118, 119, 120, 121, 122, 123, 124, 125]), array([126, 127, 128, 129, 130, 131, 132, 133, 134]), array([135, 136, 137, 138, 139, 140, 141, 142, 143]), array([144, 145, 146, 147, 148, 149, 150, 151, 152]), array([153, 154, 155, 156, 157, 158, 159, 160, 161]), array([162, 163, 164, 165, 166, 167, 168, 169, 170]), array([171, 172, 173, 174, 175, 176, 177, 178, 179]), array([180, 181, 182, 183, 184, 185, 186, 187]), array([188, 189, 190, 191, 192, 193, 194, 195]), array([196, 197, 198, 199, 200, 201, 202, 203]), array([204, 205, 206, 207, 208, 209, 210, 211]), array([212, 213, 214, 215, 216, 217, 218, 219]), array([220, 221, 222, 223, 224, 225, 226, 227]), array([228, 229, 230, 231, 232, 233, 234, 235]), array([236, 237, 238, 239, 240, 241, 242, 243]), array([244, 245, 246, 247, 248, 249, 250, 251]), array([252, 253, 254, 255, 256, 257, 258, 259]), array([260, 261, 262, 263, 264, 265, 266, 267]), array([268, 269, 270, 271, 272, 273, 274, 275]), array([276, 277, 278, 279, 280, 281, 282, 283]), array([284, 285, 286, 287, 288, 289, 290, 291]), array([292, 293, 294, 295, 296, 297, 298, 299]), array([300, 301, 302, 303, 304, 305, 306, 307]), array([308, 309, 310, 311, 312, 313, 314, 315]), array([316, 317, 318, 319, 320, 321, 322, 323]), array([324, 325, 326, 327, 328, 329, 330, 331]), array([332, 333, 334, 335, 336, 337, 338, 339]), array([340, 341, 342, 343, 344, 345, 346, 347]), array([348, 349, 350, 351, 352, 353, 354, 355]), array([356, 357, 358, 359, 360, 361, 362, 363]), array([364, 365, 366, 367, 368, 369, 370, 371]), array([372, 373, 374, 375, 376, 377, 378, 379]), array([380, 381, 382, 383, 384, 385, 386, 387]), array([388, 389, 390, 391, 392, 393, 394, 395]), array([396, 397, 398, 399, 400, 401, 402, 403]), array([404, 405, 406, 407, 408, 409, 410, 411]), array([412, 413, 414, 415, 416, 417, 418, 419]), array([420, 421, 422, 423, 424, 425, 426, 427]), array([428, 429, 430, 431, 432, 433, 434, 435]), array([436, 437, 438, 439, 440, 441, 442, 443]), array([444, 445, 446, 447, 448, 449, 450, 451]), array([452, 453, 454, 455, 456, 457, 458, 459]), array([460, 461, 462, 463, 464, 465, 466, 467]), array([468, 469, 470, 471, 472, 473, 474, 475]), array([476, 477, 478, 479, 480, 481, 482, 483]), array([484, 485, 486, 487, 488, 489, 490, 491]), array([492, 493, 494, 495, 496, 497, 498, 499])]\n",
        "Batch\n"
       ]
      },
      {
       "output_type": "stream",
       "stream": "stdout",
       "text": [
        "!!!W!!! Prod{acc_dtype=int64}.0\n",
        "!!!W!!! Prod{acc_dtype=int64}.0\n"
       ]
      },
      {
       "output_type": "stream",
       "stream": "stdout",
       "text": [
        "Batch\n",
        "!!!W!!! Prod{acc_dtype=int64}.0\n",
        "!!!W!!! Prod{acc_dtype=int64}.0\n"
       ]
      },
      {
       "output_type": "stream",
       "stream": "stdout",
       "text": [
        "Batch\n",
        "!!!W!!! Prod{acc_dtype=int64}.0\n",
        "!!!W!!! Prod{acc_dtype=int64}.0\n"
       ]
      },
      {
       "output_type": "stream",
       "stream": "stdout",
       "text": [
        "Batch\n",
        "!!!W!!! Prod{acc_dtype=int64}.0\n",
        "!!!W!!! Prod{acc_dtype=int64}.0\n"
       ]
      },
      {
       "output_type": "stream",
       "stream": "stdout",
       "text": [
        "Batch\n",
        "!!!W!!! Prod{acc_dtype=int64}.0\n",
        "!!!W!!! Prod{acc_dtype=int64}.0\n"
       ]
      },
      {
       "output_type": "stream",
       "stream": "stdout",
       "text": [
        "Batch\n",
        "!!!W!!! Prod{acc_dtype=int64}.0\n",
        "!!!W!!! Prod{acc_dtype=int64}.0\n"
       ]
      },
      {
       "output_type": "stream",
       "stream": "stdout",
       "text": [
        "Batch\n",
        "!!!W!!! Prod{acc_dtype=int64}.0\n",
        "!!!W!!! Prod{acc_dtype=int64}.0\n"
       ]
      },
      {
       "output_type": "stream",
       "stream": "stdout",
       "text": [
        "Batch\n",
        "!!!W!!! Prod{acc_dtype=int64}.0\n",
        "!!!W!!! Prod{acc_dtype=int64}.0\n"
       ]
      },
      {
       "output_type": "stream",
       "stream": "stdout",
       "text": [
        "Batch\n",
        "!!!W!!! Prod{acc_dtype=int64}.0\n",
        "!!!W!!! Prod{acc_dtype=int64}.0\n"
       ]
      },
      {
       "output_type": "stream",
       "stream": "stdout",
       "text": [
        "Batch\n",
        "!!!W!!! Prod{acc_dtype=int64}.0\n",
        "!!!W!!! Prod{acc_dtype=int64}.0\n"
       ]
      },
      {
       "output_type": "stream",
       "stream": "stdout",
       "text": [
        "Batch\n",
        "!!!W!!! Prod{acc_dtype=int64}.0\n",
        "!!!W!!! Prod{acc_dtype=int64}.0\n"
       ]
      },
      {
       "output_type": "stream",
       "stream": "stdout",
       "text": [
        "Batch\n",
        "!!!W!!! Prod{acc_dtype=int64}.0\n",
        "!!!W!!! Prod{acc_dtype=int64}.0\n"
       ]
      },
      {
       "output_type": "stream",
       "stream": "stdout",
       "text": [
        "Batch\n",
        "!!!W!!! Prod{acc_dtype=int64}.0\n",
        "!!!W!!! Prod{acc_dtype=int64}.0\n"
       ]
      },
      {
       "output_type": "stream",
       "stream": "stdout",
       "text": [
        "Batch\n",
        "!!!W!!! Prod{acc_dtype=int64}.0\n",
        "!!!W!!! Prod{acc_dtype=int64}.0\n"
       ]
      },
      {
       "output_type": "stream",
       "stream": "stdout",
       "text": [
        "Batch\n",
        "!!!W!!! Prod{acc_dtype=int64}.0\n",
        "!!!W!!! Prod{acc_dtype=int64}.0\n"
       ]
      },
      {
       "output_type": "stream",
       "stream": "stdout",
       "text": [
        "Batch\n",
        "!!!W!!! Prod{acc_dtype=int64}.0\n",
        "!!!W!!! Prod{acc_dtype=int64}.0\n"
       ]
      },
      {
       "output_type": "stream",
       "stream": "stdout",
       "text": [
        "Batch\n",
        "!!!W!!! Prod{acc_dtype=int64}.0\n",
        "!!!W!!! Prod{acc_dtype=int64}.0\n"
       ]
      },
      {
       "output_type": "stream",
       "stream": "stdout",
       "text": [
        "Batch\n",
        "!!!W!!! Prod{acc_dtype=int64}.0\n",
        "!!!W!!! Prod{acc_dtype=int64}.0\n"
       ]
      },
      {
       "output_type": "stream",
       "stream": "stdout",
       "text": [
        "Batch\n",
        "!!!W!!! Prod{acc_dtype=int64}.0\n",
        "!!!W!!! Prod{acc_dtype=int64}.0\n"
       ]
      },
      {
       "output_type": "stream",
       "stream": "stdout",
       "text": [
        "Batch\n",
        "!!!W!!! Prod{acc_dtype=int64}.0\n",
        "!!!W!!! Prod{acc_dtype=int64}.0\n"
       ]
      },
      {
       "output_type": "stream",
       "stream": "stdout",
       "text": [
        "Batch\n",
        "!!!W!!! Prod{acc_dtype=int64}.0\n",
        "!!!W!!! Prod{acc_dtype=int64}.0\n"
       ]
      },
      {
       "output_type": "stream",
       "stream": "stdout",
       "text": [
        "Batch\n",
        "!!!W!!! Prod{acc_dtype=int64}.0\n",
        "!!!W!!! Prod{acc_dtype=int64}.0\n"
       ]
      },
      {
       "output_type": "stream",
       "stream": "stdout",
       "text": [
        "Batch\n",
        "!!!W!!! Prod{acc_dtype=int64}.0\n",
        "!!!W!!! Prod{acc_dtype=int64}.0\n"
       ]
      },
      {
       "output_type": "stream",
       "stream": "stdout",
       "text": [
        "Batch\n",
        "!!!W!!! Prod{acc_dtype=int64}.0\n",
        "!!!W!!! Prod{acc_dtype=int64}.0\n"
       ]
      },
      {
       "output_type": "stream",
       "stream": "stdout",
       "text": [
        "Batch\n",
        "!!!W!!! Prod{acc_dtype=int64}.0\n",
        "!!!W!!! Prod{acc_dtype=int64}.0\n"
       ]
      },
      {
       "output_type": "stream",
       "stream": "stdout",
       "text": [
        "Batch\n",
        "!!!W!!! Prod{acc_dtype=int64}.0\n",
        "!!!W!!! Prod{acc_dtype=int64}.0\n"
       ]
      },
      {
       "output_type": "stream",
       "stream": "stdout",
       "text": [
        "Batch\n",
        "!!!W!!! Prod{acc_dtype=int64}.0\n",
        "!!!W!!! Prod{acc_dtype=int64}.0\n"
       ]
      },
      {
       "output_type": "stream",
       "stream": "stdout",
       "text": [
        "Batch\n",
        "!!!W!!! Prod{acc_dtype=int64}.0\n",
        "!!!W!!! Prod{acc_dtype=int64}.0\n"
       ]
      },
      {
       "output_type": "stream",
       "stream": "stdout",
       "text": [
        "Batch\n",
        "!!!W!!! Prod{acc_dtype=int64}.0\n",
        "!!!W!!! Prod{acc_dtype=int64}.0\n"
       ]
      },
      {
       "output_type": "stream",
       "stream": "stdout",
       "text": [
        "Batch\n",
        "!!!W!!! Prod{acc_dtype=int64}.0\n",
        "!!!W!!! Prod{acc_dtype=int64}.0\n"
       ]
      },
      {
       "output_type": "stream",
       "stream": "stdout",
       "text": [
        "Batch\n",
        "!!!W!!! Prod{acc_dtype=int64}.0\n",
        "!!!W!!! Prod{acc_dtype=int64}.0\n"
       ]
      },
      {
       "output_type": "stream",
       "stream": "stdout",
       "text": [
        "Batch\n",
        "!!!W!!! Prod{acc_dtype=int64}.0\n",
        "!!!W!!! Prod{acc_dtype=int64}.0\n"
       ]
      },
      {
       "output_type": "stream",
       "stream": "stdout",
       "text": [
        "Batch\n",
        "!!!W!!! Prod{acc_dtype=int64}.0\n",
        "!!!W!!! Prod{acc_dtype=int64}.0\n"
       ]
      },
      {
       "output_type": "stream",
       "stream": "stdout",
       "text": [
        "Batch\n",
        "!!!W!!! Prod{acc_dtype=int64}.0\n",
        "!!!W!!! Prod{acc_dtype=int64}.0\n"
       ]
      },
      {
       "output_type": "stream",
       "stream": "stdout",
       "text": [
        "Batch\n",
        "!!!W!!! Prod{acc_dtype=int64}.0\n",
        "!!!W!!! Prod{acc_dtype=int64}.0\n"
       ]
      },
      {
       "output_type": "stream",
       "stream": "stdout",
       "text": [
        "Batch\n",
        "!!!W!!! Prod{acc_dtype=int64}.0\n",
        "!!!W!!! Prod{acc_dtype=int64}.0\n"
       ]
      },
      {
       "output_type": "stream",
       "stream": "stdout",
       "text": [
        "Batch\n",
        "!!!W!!! Prod{acc_dtype=int64}.0\n",
        "!!!W!!! Prod{acc_dtype=int64}.0\n"
       ]
      },
      {
       "output_type": "stream",
       "stream": "stdout",
       "text": [
        "Batch\n",
        "!!!W!!! Prod{acc_dtype=int64}.0\n",
        "!!!W!!! Prod{acc_dtype=int64}.0\n"
       ]
      },
      {
       "output_type": "stream",
       "stream": "stdout",
       "text": [
        "Batch\n",
        "!!!W!!! Prod{acc_dtype=int64}.0\n",
        "!!!W!!! Prod{acc_dtype=int64}.0\n"
       ]
      },
      {
       "output_type": "stream",
       "stream": "stdout",
       "text": [
        "Batch\n",
        "!!!W!!! Prod{acc_dtype=int64}.0\n",
        "!!!W!!! Prod{acc_dtype=int64}.0\n"
       ]
      },
      {
       "output_type": "stream",
       "stream": "stdout",
       "text": [
        "Batch\n",
        "!!!W!!! Prod{acc_dtype=int64}.0\n",
        "!!!W!!! Prod{acc_dtype=int64}.0\n"
       ]
      },
      {
       "output_type": "stream",
       "stream": "stdout",
       "text": [
        "Batch\n",
        "!!!W!!! Prod{acc_dtype=int64}.0\n",
        "!!!W!!! Prod{acc_dtype=int64}.0\n"
       ]
      },
      {
       "output_type": "stream",
       "stream": "stdout",
       "text": [
        "Batch\n",
        "!!!W!!! Prod{acc_dtype=int64}.0\n",
        "!!!W!!! Prod{acc_dtype=int64}.0\n"
       ]
      },
      {
       "output_type": "stream",
       "stream": "stdout",
       "text": [
        "Batch\n",
        "!!!W!!! Prod{acc_dtype=int64}.0\n",
        "!!!W!!! Prod{acc_dtype=int64}.0\n"
       ]
      },
      {
       "output_type": "stream",
       "stream": "stdout",
       "text": [
        "Batch\n",
        "!!!W!!! Prod{acc_dtype=int64}.0\n",
        "!!!W!!! Prod{acc_dtype=int64}.0\n"
       ]
      },
      {
       "output_type": "stream",
       "stream": "stdout",
       "text": [
        "Batch\n",
        "!!!W!!! Prod{acc_dtype=int64}.0\n",
        "!!!W!!! Prod{acc_dtype=int64}.0\n"
       ]
      },
      {
       "output_type": "stream",
       "stream": "stdout",
       "text": [
        "Batch\n",
        "!!!W!!! Prod{acc_dtype=int64}.0\n",
        "!!!W!!! Prod{acc_dtype=int64}.0\n"
       ]
      },
      {
       "output_type": "stream",
       "stream": "stdout",
       "text": [
        "Batch\n",
        "!!!W!!! Prod{acc_dtype=int64}.0\n",
        "!!!W!!! Prod{acc_dtype=int64}.0\n"
       ]
      },
      {
       "output_type": "stream",
       "stream": "stdout",
       "text": [
        "Batch\n",
        "!!!W!!! Prod{acc_dtype=int64}.0\n",
        "!!!W!!! Prod{acc_dtype=int64}.0\n"
       ]
      },
      {
       "output_type": "stream",
       "stream": "stdout",
       "text": [
        "Batch\n",
        "!!!W!!! Prod{acc_dtype=int64}.0\n",
        "!!!W!!! Prod{acc_dtype=int64}.0\n"
       ]
      },
      {
       "output_type": "stream",
       "stream": "stdout",
       "text": [
        "Batch\n",
        "!!!W!!! Prod{acc_dtype=int64}.0\n",
        "!!!W!!! Prod{acc_dtype=int64}.0\n"
       ]
      },
      {
       "output_type": "stream",
       "stream": "stdout",
       "text": [
        "Batch\n",
        "!!!W!!! Prod{acc_dtype=int64}.0\n",
        "!!!W!!! Prod{acc_dtype=int64}.0\n"
       ]
      },
      {
       "output_type": "stream",
       "stream": "stdout",
       "text": [
        "Batch\n",
        "!!!W!!! Prod{acc_dtype=int64}.0\n",
        "!!!W!!! Prod{acc_dtype=int64}.0\n"
       ]
      },
      {
       "output_type": "stream",
       "stream": "stdout",
       "text": [
        "Batch\n",
        "!!!W!!! Prod{acc_dtype=int64}.0\n",
        "!!!W!!! Prod{acc_dtype=int64}.0\n"
       ]
      },
      {
       "output_type": "stream",
       "stream": "stdout",
       "text": [
        "Batch\n",
        "!!!W!!! Prod{acc_dtype=int64}.0\n",
        "!!!W!!! Prod{acc_dtype=int64}.0\n"
       ]
      },
      {
       "output_type": "stream",
       "stream": "stdout",
       "text": [
        "Batch\n",
        "!!!W!!! Prod{acc_dtype=int64}.0\n",
        "!!!W!!! Prod{acc_dtype=int64}.0\n"
       ]
      },
      {
       "output_type": "stream",
       "stream": "stdout",
       "text": [
        "Batch\n",
        "!!!W!!! Prod{acc_dtype=int64}.0\n",
        "!!!W!!! Prod{acc_dtype=int64}.0\n"
       ]
      },
      {
       "output_type": "stream",
       "stream": "stdout",
       "text": [
        "Batch\n",
        "!!!W!!! Prod{acc_dtype=int64}.0\n",
        "!!!W!!! Prod{acc_dtype=int64}.0\n"
       ]
      },
      {
       "output_type": "stream",
       "stream": "stdout",
       "text": [
        "Batch\n",
        "!!!W!!! Prod{acc_dtype=int64}.0\n",
        "!!!W!!! Prod{acc_dtype=int64}.0\n"
       ]
      },
      {
       "output_type": "stream",
       "stream": "stdout",
       "text": [
        "Batch\n",
        "!!!W!!! Prod{acc_dtype=int64}.0\n",
        "!!!W!!! Prod{acc_dtype=int64}.0\n"
       ]
      },
      {
       "output_type": "stream",
       "stream": "stdout",
       "text": [
        "Outputs (448, 5, 875, 1)\n",
        "Filter\n",
        "Filter\n",
        "Filter\n"
       ]
      },
      {
       "output_type": "stream",
       "stream": "stdout",
       "text": [
        "Filter\n",
        "Filter\n"
       ]
      },
      {
       "output_type": "stream",
       "stream": "stdout",
       "text": [
        "[array([289,   0,  96,   0]), array([288,   0, 242,   0]), array([405,   0, 118,   0]), array([404,   0, 264,   0]), array([397,   0, 118,   0]), array([396,   0, 264,   0]), array([295,   0, 119,   0]), array([294,   0, 265,   0]), array([135,   0, 237,   0]), array([134,   0, 383,   0]), array([380,   0, 278,   0]), array([381,   0, 132,   0]), array([416,   0,  36,   0]), array([348,   0, 300,   0]), array([349,   0, 154,   0]), array([213,   0, 332,   0]), array([212,   0, 478,   0]), array([341,   0,  65,   0]), array([340,   0, 211,   0]), array([136,   0, 526,   0]), array([137,   0, 380,   0]), array([437,   0, 562,   0]), array([436,   0, 708,   0]), array([440,   0, 246,   0]), array([441,   0, 100,   0]), array([ 98,   0, 246,   0]), array([ 99,   0, 100,   0]), array([ 47,   0, 119,   0]), array([ 46,   0, 265,   0]), array([164,   0, 266,   0]), array([165,   0, 120,   0]), array([347,   0, 115,   0]), array([346,   0, 261,   0]), array([170,   0, 250,   0]), array([171,   0, 104,   0]), array([313,   0, 106,   0]), array([312,   0, 252,   0]), array([430,   0, 259,   0]), array([431,   0, 113,   0]), array([169,   0, 188,   0]), array([168,   0, 334,   0]), array([342,   0, 396,   0]), array([343,   0, 250,   0]), array([386,   0, 257,   0]), array([387,   0, 111,   0]), array([ 74,   0, 294,   0]), array([ 75,   0, 148,   0]), array([368,   0, 455,   0]), array([369,   0, 309,   0]), array([210,   0, 735,   0]), array([211,   0, 589,   0]), array([427,   0, 144,   0]), array([426,   0, 290,   0]), array([ 36,   0, 279,   0]), array([ 37,   0, 133,   0]), array([435,   0, 721,   0]), array([434,   0, 867,   0]), array([236,   0, 519,   0]), array([237,   0, 373,   0]), array([241,   0, 395,   0]), array([240,   0, 541,   0]), array([176,   0, 232,   0]), array([177,   0,  86,   0]), array([303,   0, 164,   0]), array([302,   0, 310,   0]), array([208,   0, 264,   0]), array([209,   0, 118,   0]), array([335,   0, 466,   0]), array([334,   0, 612,   0]), array([259,   0, 363,   0]), array([258,   0, 509,   0]), array([296,   0, 760,   0]), array([297,   0, 614,   0]), array([ 43,   0, 119,   0]), array([ 42,   0, 265,   0]), array([ 84,   0, 466,   0]), array([ 85,   0, 320,   0]), array([309,   0, 108,   0]), array([308,   0, 254,   0]), array([184,   0, 227,   0]), array([185,   0,  81,   0]), array([110,   0, 271,   0]), array([111,   0, 125,   0]), array([382,   0, 854,   0]), array([383,   0, 708,   0]), array([ 23,   0, 191,   0]), array([ 22,   0, 337,   0]), array([379,   0, 130,   0]), array([378,   0, 276,   0]), array([291,   0,  98,   0]), array([290,   0, 244,   0]), array([432,   0, 259,   0]), array([433,   0, 113,   0]), array([445,   0, 197,   0]), array([444,   0, 343,   0]), array([181,   0, 113,   0]), array([180,   0, 259,   0]), array([408,   0, 278,   0]), array([409,   0, 132,   0]), array([142,   0, 481,   0]), array([289,   1,  95,   0]), array([288,   1, 241,   0]), array([211,   1, 589,   0]), array([210,   1, 735,   0]), array([396,   1, 267,   0]), array([397,   1, 121,   0]), array([135,   1, 300,   0]), array([134,   1, 446,   0]), array([416,   1,  79,   0]), array([165,   1, 120,   0]), array([164,   1, 266,   0]), array([295,   1, 117,   0]), array([294,   1, 263,   0]), array([440,   1, 267,   0]), array([441,   1, 121,   0]), array([381,   1, 132,   0]), array([380,   1, 278,   0]), array([137,   1, 381,   0]), array([136,   1, 527,   0]), array([346,   1, 304,   0]), array([347,   1, 158,   0]), array([405,   1, 118,   0]), array([404,   1, 264,   0]), array([ 99,   1, 100,   0]), array([ 98,   1, 246,   0]), array([436,   1, 708,   0]), array([437,   1, 562,   0]), array([348,   1, 300,   0]), array([349,   1, 154,   0]), array([ 47,   1, 119,   0]), array([ 46,   1, 265,   0]), array([430,   1, 259,   0]), array([431,   1, 113,   0]), array([313,   1, 107,   0]), array([312,   1, 253,   0]), array([ 84,   1, 466,   0]), array([ 85,   1, 320,   0]), array([213,   1, 332,   0]), array([212,   1, 478,   0]), array([340,   1, 214,   0]), array([341,   1,  68,   0]), array([258,   1, 507,   0]), array([259,   1, 361,   0]), array([ 75,   1, 850,   0]), array([343,   1, 295,   0]), array([342,   1, 441,   0]), array([171,   1, 104,   0]), array([170,   1, 250,   0]), array([ 37,   1, 133,   0]), array([ 36,   1, 279,   0]), array([435,   1, 744,   0]), array([426,   1, 288,   0]), array([427,   1, 142,   0]), array([387,   1, 113,   0]), array([386,   1, 259,   0]), array([409,   1, 132,   0]), array([408,   1, 278,   0]), array([334,   1, 612,   0]), array([335,   1, 466,   0]), array([369,   1, 309,   0]), array([368,   1, 455,   0]), array([168,   1, 316,   0]), array([169,   1, 170,   0]), array([297,   1, 614,   0]), array([296,   1, 760,   0]), array([110,   1, 271,   0]), array([111,   1, 125,   0]), array([302,   1, 310,   0]), array([303,   1, 164,   0]), array([240,   1, 541,   0]), array([241,   1, 395,   0]), array([146,   1, 349,   0]), array([147,   1, 203,   0]), array([434,   1, 870,   0]), array([ 22,   1, 337,   0]), array([ 23,   1, 191,   0]), array([261,   1,  92,   0]), array([260,   1, 238,   0]), array([112,   1, 581,   0]), array([113,   1, 435,   0]), array([142,   1, 481,   0]), array([143,   1, 335,   0]), array([253,   1, 236,   0]), array([252,   1, 382,   0]), array([308,   1, 254,   0]), array([309,   1, 108,   0]), array([247,   1,  73,   0]), array([246,   1, 219,   0]), array([433,   1, 113,   0]), array([432,   1, 259,   0]), array([  5,   1, 158,   0]), array([  4,   1, 304,   0]), array([383,   1, 726,   0]), array([382,   1, 872,   0]), array([176,   1, 232,   0]), array([177,   1,  86,   0]), array([236,   1, 519,   0]), array([237,   1, 373,   0]), array([367,   1, 248,   0]), array([366,   1, 394,   0]), array([288,   2, 251,   0]), array([289,   2, 105,   0]), array([168,   2, 328,   0]), array([169,   2, 182,   0]), array([397,   2, 109,   0]), array([396,   2, 255,   0]), array([295,   2, 108,   0]), array([294,   2, 254,   0]), array([135,   2, 291,   0]), array([134,   2, 437,   0]), array([441,   2, 112,   0]), array([440,   2, 258,   0]), array([349,   2, 163,   0]), array([348,   2, 309,   0]), array([404,   2, 273,   0]), array([405,   2, 127,   0]), array([213,   2, 323,   0]), array([212,   2, 469,   0]), array([346,   2, 294,   0]), array([347,   2, 148,   0]), array([137,   2, 390,   0]), array([136,   2, 536,   0]), array([313,   2, 116,   0]), array([312,   2, 262,   0]), array([436,   2, 717,   0]), array([437,   2, 571,   0]), array([210,   2, 744,   0]), array([211,   2, 598,   0]), array([259,   2, 355,   0]), array([258,   2, 501,   0]), array([380,   2, 740,   0]), array([381,   2, 594,   0]), array([341,   2,  77,   0]), array([340,   2, 223,   0]), array([368,   2, 448,   0]), array([369,   2, 302,   0]), array([430,   2, 250,   0]), array([431,   2, 104,   0]), array([ 47,   2, 378,   0]), array([ 46,   2, 524,   0]), array([164,   2, 275,   0]), array([165,   2, 129,   0]), array([ 98,   2, 255,   0]), array([ 99,   2, 109,   0]), array([170,   2, 260,   0]), array([171,   2, 114,   0]), array([ 75,   2, 859,   0]), array([427,   2, 153,   0]), array([426,   2, 299,   0]), array([435,   2, 735,   0]), array([342,   2, 431,   0]), array([343,   2, 285,   0]), array([445,   2, 209,   0]), array([444,   2, 355,   0]), array([432,   2, 250,   0]), array([433,   2, 104,   0]), array([ 85,   2, 332,   0]), array([ 84,   2, 478,   0]), array([143,   2, 345,   0]), array([142,   2, 491,   0]), array([416,   2,  91,   0]), array([291,   2, 107,   0]), array([290,   2, 253,   0]), array([386,   2, 266,   0]), array([387,   2, 120,   0]), array([408,   2, 287,   0]), array([409,   2, 141,   0]), array([253,   2, 225,   0]), array([252,   2, 371,   0]), array([297,   2, 623,   0]), array([296,   2, 769,   0]), array([246,   2, 228,   0]), array([247,   2,  82,   0]), array([413,   2, 380,   0]), array([412,   2, 526,   0]), array([434,   2, 859,   0]), array([261,   2,  80,   0]), array([260,   2, 226,   0]), array([302,   2, 301,   0]), array([303,   2, 155,   0]), array([308,   2, 243,   0]), array([309,   2,  97,   0]), array([112,   2, 569,   0]), array([113,   2, 423,   0]), array([383,   2, 728,   0]), array([382,   2, 874,   0]), array([209,   2, 170,   0]), array([208,   2, 316,   0]), array([241,   2, 404,   0]), array([240,   2, 550,   0]), array([ 42,   2, 275,   0]), array([ 43,   2, 129,   0]), array([147,   2, 194,   0]), array([146,   2, 340,   0]), array([335,   2, 475,   0]), array([334,   2, 621,   0]), array([ 36,   2, 291,   0]), array([ 37,   2, 145,   0]), array([176,   2, 242,   0]), array([177,   2,  96,   0]), array([397,   3, 118,   0]), array([396,   3, 264,   0]), array([431,   3, 111,   0]), array([430,   3, 257,   0]), array([341,   3,  65,   0]), array([340,   3, 211,   0]), array([236,   3, 477,   0]), array([237,   3, 331,   0]), array([347,   3, 156,   0]), array([346,   3, 302,   0]), array([99,  3, 98,  0]), array([ 98,   3, 244,   0]), array([134,   3, 401,   0]), array([135,   3, 255,   0]), array([ 47,   3, 117,   0]), array([ 46,   3, 263,   0]), array([323,   3, 318,   0]), array([322,   3, 464,   0]), array([288,   3, 260,   0]), array([289,   3, 114,   0]), array([380,   3, 278,   0]), array([381,   3, 132,   0]), array([349,   3, 172,   0]), array([348,   3, 318,   0]), array([183,   3, 103,   0]), array([182,   3, 249,   0]), array([371,   3, 262,   0]), array([370,   3, 408,   0]), array([404,   3, 337,   0]), array([405,   3, 191,   0]), array([101,   3, 269,   0]), array([100,   3, 415,   0]), array([ 22,   3, 334,   0]), array([ 23,   3, 188,   0]), array([124,   3, 307,   0]), array([125,   3, 161,   0]), array([184,   3, 245,   0]), array([185,   3,  99,   0]), array([440,   3, 265,   0]), array([441,   3, 119,   0]), array([433,   3, 111,   0]), array([432,   3, 257,   0]), array([115,   3, 322,   0]), array([114,   3, 468,   0]), array([ 85,   3, 317,   0]), array([ 84,   3, 463,   0]), array([ 27,   3, 137,   0]), array([ 26,   3, 283,   0]), array([ 75,   3, 868,   0]), array([ 25,   3, 200,   0]), array([ 24,   3, 346,   0]), array([164,   3, 263,   0]), array([165,   3, 117,   0]), array([210,   3, 753,   0]), array([211,   3, 607,   0]), array([  5,   3, 155,   0]), array([  4,   3, 301,   0]), array([295,   3, 117,   0]), array([294,   3, 263,   0]), array([ 37,   3, 132,   0]), array([ 36,   3, 278,   0]), array([386,   3, 275,   0]), array([387,   3, 129,   0]), array([241,   3, 412,   0]), array([240,   3, 558,   0]), array([253,   3, 233,   0]), array([252,   3, 379,   0]), array([369,   3, 287,   0]), array([368,   3, 433,   0]), array([313,   3, 104,   0]), array([312,   3, 250,   0]), array([181,   3, 113,   0]), array([180,   3, 259,   0]), array([213,   3, 311,   0]), array([212,   3, 457,   0]), array([136,   3, 544,   0]), array([137,   3, 398,   0]), array([418,   3, 375,   0]), array([419,   3, 229,   0]), array([364,   3, 254,   0]), array([365,   3, 108,   0]), array([379,   3, 235,   0]), array([378,   3, 381,   0]), array([ 60,   3, 430,   0]), array([ 61,   3, 284,   0]), array([110,   3, 268,   0]), array([111,   3, 122,   0]), array([161,   3, 261,   0]), array([160,   3, 407,   0]), array([409,   3, 150,   0]), array([408,   3, 296,   0]), array([ 97,   3, 104,   0]), array([ 96,   3, 250,   0]), array([298,   3, 629,   0]), array([299,   3, 483,   0]), array([343,   3, 274,   0]), array([342,   3, 420,   0]), array([  2,   3, 522,   0]), array([  3,   3, 376,   0]), array([ 28,   3, 301,   0]), array([186,   4, 101,   0]), array([349,   4, 160,   0]), array([348,   4, 306,   0]), array([ 61,   4, 292,   0]), array([ 60,   4, 438,   0]), array([ 25,   4, 230,   0]), array([ 24,   4, 376,   0]), array([ 47,   4, 374,   0]), array([ 46,   4, 520,   0]), array([125,   4, 129,   0]), array([124,   4, 275,   0]), array([236,   4, 506,   0]), array([237,   4, 360,   0]), array([396,   4, 273,   0]), array([397,   4, 127,   0]), array([431,   4, 161,   0]), array([430,   4, 307,   0]), array([  5,   4, 143,   0]), array([  4,   4, 289,   0]), array([381,   4, 140,   0]), array([380,   4, 286,   0]), array([340,   4, 220,   0]), array([341,   4,  74,   0]), array([413,   4, 377,   0]), array([412,   4, 523,   0]), array([347,   4, 164,   0]), array([346,   4, 310,   0]), array([134,   4, 389,   0]), array([135,   4, 243,   0]), array([183,   4, 132,   0]), array([182,   4, 278,   0]), array([176,   4, 259,   0]), array([177,   4, 113,   0]), array([408,   4, 284,   0]), array([409,   4, 138,   0]), array([ 41,   4, 273,   0]), array([ 40,   4, 419,   0]), array([371,   4, 250,   0]), array([370,   4, 396,   0]), array([ 98,   4, 272,   0]), array([ 99,   4, 126,   0]), array([  3,   4, 277,   0]), array([  2,   4, 423,   0]), array([ 27,   4, 125,   0]), array([ 26,   4, 271,   0]), array([323,   4, 306,   0]), array([322,   4, 452,   0]), array([244,   4, 525,   0]), array([245,   4, 379,   0]), array([110,   4, 277,   0]), array([111,   4, 131,   0]), array([ 22,   4, 342,   0]), array([ 23,   4, 196,   0]), array([432,   4, 305,   0]), array([433,   4, 159,   0]), array([410,   4, 344,   0]), array([411,   4, 198,   0]), array([171,   4, 248,   0]), array([170,   4, 394,   0]), array([420,   4, 309,   0]), array([421,   4, 163,   0]), array([180,   4, 305,   0]), array([181,   4, 159,   0]), array([387,   4, 117,   0]), array([386,   4, 263,   0]), array([288,   4, 248,   0]), array([289,   4, 102,   0]), array([419,   4, 217,   0]), array([418,   4, 363,   0]), array([234,   4, 411,   0]), array([235,   4, 265,   0]), array([ 95,   4, 280,   0]), array([ 94,   4, 426,   0]), array([295,   4, 104,   0]), array([294,   4, 250,   0]), array([364,   4, 241,   0]), array([365,   4,  95,   0]), array([ 91,   4, 114,   0]), array([ 90,   4, 260,   0]), array([185,   4, 108,   0]), array([184,   4, 254,   0]), array([405,   4, 123,   0]), array([404,   4, 269,   0]), array([ 74,   4, 513,   0]), array([ 75,   4, 367,   0]), array([291,   4, 123,   0]), array([290,   4, 269,   0]), array([ 51,   4, 119,   0]), array([ 50,   4, 265,   0]), array([247,   4, 221,   0]), array([246,   4, 367,   0]), array([342,   4, 429,   0]), array([343,   4, 283,   0]), array([143,   4, 134,   0]), array([142,   4, 280,   0]), array([161,   4, 248,   0]), array([160,   4, 394,   0]), array([378,   4, 243,   0]), array([379,   4,  97,   0]), array([148,   4, 295,   0])]\n",
        "max units\n",
        "[array([0, 1, 2, 3, 4, 5, 6, 7, 8]), array([ 9, 10, 11, 12, 13, 14, 15, 16, 17]), array([18, 19, 20, 21, 22, 23, 24, 25, 26]), array([27, 28, 29, 30, 31, 32, 33, 34, 35]), array([36, 37, 38, 39, 40, 41, 42, 43, 44]), array([45, 46, 47, 48, 49, 50, 51, 52, 53]), array([54, 55, 56, 57, 58, 59, 60, 61, 62]), array([63, 64, 65, 66, 67, 68, 69, 70, 71]), array([72, 73, 74, 75, 76, 77, 78, 79, 80]), array([81, 82, 83, 84, 85, 86, 87, 88, 89]), array([90, 91, 92, 93, 94, 95, 96, 97, 98]), array([ 99, 100, 101, 102, 103, 104, 105, 106, 107]), array([108, 109, 110, 111, 112, 113, 114, 115, 116]), array([117, 118, 119, 120, 121, 122, 123, 124, 125]), array([126, 127, 128, 129, 130, 131, 132, 133, 134]), array([135, 136, 137, 138, 139, 140, 141, 142, 143]), array([144, 145, 146, 147, 148, 149, 150, 151, 152]), array([153, 154, 155, 156, 157, 158, 159, 160, 161]), array([162, 163, 164, 165, 166, 167, 168, 169, 170]), array([171, 172, 173, 174, 175, 176, 177, 178, 179]), array([180, 181, 182, 183, 184, 185, 186, 187]), array([188, 189, 190, 191, 192, 193, 194, 195]), array([196, 197, 198, 199, 200, 201, 202, 203]), array([204, 205, 206, 207, 208, 209, 210, 211]), array([212, 213, 214, 215, 216, 217, 218, 219]), array([220, 221, 222, 223, 224, 225, 226, 227]), array([228, 229, 230, 231, 232, 233, 234, 235]), array([236, 237, 238, 239, 240, 241, 242, 243]), array([244, 245, 246, 247, 248, 249, 250, 251]), array([252, 253, 254, 255, 256, 257, 258, 259]), array([260, 261, 262, 263, 264, 265, 266, 267]), array([268, 269, 270, 271, 272, 273, 274, 275]), array([276, 277, 278, 279, 280, 281, 282, 283]), array([284, 285, 286, 287, 288, 289, 290, 291]), array([292, 293, 294, 295, 296, 297, 298, 299]), array([300, 301, 302, 303, 304, 305, 306, 307]), array([308, 309, 310, 311, 312, 313, 314, 315]), array([316, 317, 318, 319, 320, 321, 322, 323]), array([324, 325, 326, 327, 328, 329, 330, 331]), array([332, 333, 334, 335, 336, 337, 338, 339]), array([340, 341, 342, 343, 344, 345, 346, 347]), array([348, 349, 350, 351, 352, 353, 354, 355]), array([356, 357, 358, 359, 360, 361, 362, 363]), array([364, 365, 366, 367, 368, 369, 370, 371]), array([372, 373, 374, 375, 376, 377, 378, 379]), array([380, 381, 382, 383, 384, 385, 386, 387]), array([388, 389, 390, 391, 392, 393, 394, 395]), array([396, 397, 398, 399, 400, 401, 402, 403]), array([404, 405, 406, 407, 408, 409, 410, 411]), array([412, 413, 414, 415, 416, 417, 418, 419]), array([420, 421, 422, 423, 424, 425, 426, 427]), array([428, 429, 430, 431, 432, 433, 434, 435]), array([436, 437, 438, 439, 440, 441, 442, 443]), array([444, 445, 446, 447, 448, 449, 450, 451]), array([452, 453, 454, 455, 456, 457, 458, 459]), array([460, 461, 462, 463, 464, 465, 466, 467]), array([468, 469, 470, 471, 472, 473, 474, 475]), array([476, 477, 478, 479, 480, 481, 482, 483]), array([484, 485, 486, 487, 488, 489, 490, 491]), array([492, 493, 494, 495, 496, 497, 498, 499])]\n",
        "Batch\n",
        "!!!W!!! Prod{acc_dtype=int64}.0\n",
        "!!!W!!! Prod{acc_dtype=int64}.0\n"
       ]
      },
      {
       "output_type": "stream",
       "stream": "stdout",
       "text": [
        "Batch\n",
        "!!!W!!! Prod{acc_dtype=int64}.0\n",
        "!!!W!!! Prod{acc_dtype=int64}.0\n"
       ]
      },
      {
       "output_type": "stream",
       "stream": "stdout",
       "text": [
        "Batch\n",
        "!!!W!!! Prod{acc_dtype=int64}.0\n",
        "!!!W!!! Prod{acc_dtype=int64}.0\n"
       ]
      },
      {
       "output_type": "stream",
       "stream": "stdout",
       "text": [
        "Batch\n",
        "!!!W!!! Prod{acc_dtype=int64}.0\n",
        "!!!W!!! Prod{acc_dtype=int64}.0\n"
       ]
      },
      {
       "output_type": "stream",
       "stream": "stdout",
       "text": [
        "Batch\n",
        "!!!W!!! Prod{acc_dtype=int64}.0\n",
        "!!!W!!! Prod{acc_dtype=int64}.0\n"
       ]
      },
      {
       "output_type": "stream",
       "stream": "stdout",
       "text": [
        "Batch\n",
        "!!!W!!! Prod{acc_dtype=int64}.0\n",
        "!!!W!!! Prod{acc_dtype=int64}.0\n"
       ]
      },
      {
       "output_type": "stream",
       "stream": "stdout",
       "text": [
        "Batch\n",
        "!!!W!!! Prod{acc_dtype=int64}.0\n",
        "!!!W!!! Prod{acc_dtype=int64}.0\n"
       ]
      },
      {
       "output_type": "stream",
       "stream": "stdout",
       "text": [
        "Batch\n",
        "!!!W!!! Prod{acc_dtype=int64}.0\n",
        "!!!W!!! Prod{acc_dtype=int64}.0\n"
       ]
      },
      {
       "output_type": "stream",
       "stream": "stdout",
       "text": [
        "Batch\n",
        "!!!W!!! Prod{acc_dtype=int64}.0\n",
        "!!!W!!! Prod{acc_dtype=int64}.0\n"
       ]
      },
      {
       "output_type": "stream",
       "stream": "stdout",
       "text": [
        "Batch\n",
        "!!!W!!! Prod{acc_dtype=int64}.0\n",
        "!!!W!!! Prod{acc_dtype=int64}.0\n"
       ]
      },
      {
       "output_type": "stream",
       "stream": "stdout",
       "text": [
        "Batch\n",
        "!!!W!!! Prod{acc_dtype=int64}.0\n",
        "!!!W!!! Prod{acc_dtype=int64}.0\n"
       ]
      },
      {
       "output_type": "stream",
       "stream": "stdout",
       "text": [
        "Batch\n",
        "!!!W!!! Prod{acc_dtype=int64}.0\n",
        "!!!W!!! Prod{acc_dtype=int64}.0\n"
       ]
      },
      {
       "output_type": "stream",
       "stream": "stdout",
       "text": [
        "Batch\n",
        "!!!W!!! Prod{acc_dtype=int64}.0\n",
        "!!!W!!! Prod{acc_dtype=int64}.0\n"
       ]
      },
      {
       "output_type": "stream",
       "stream": "stdout",
       "text": [
        "Batch\n",
        "!!!W!!! Prod{acc_dtype=int64}.0\n",
        "!!!W!!! Prod{acc_dtype=int64}.0\n"
       ]
      },
      {
       "output_type": "stream",
       "stream": "stdout",
       "text": [
        "Batch\n",
        "!!!W!!! Prod{acc_dtype=int64}.0\n",
        "!!!W!!! Prod{acc_dtype=int64}.0\n"
       ]
      },
      {
       "output_type": "stream",
       "stream": "stdout",
       "text": [
        "Batch\n",
        "!!!W!!! Prod{acc_dtype=int64}.0\n",
        "!!!W!!! Prod{acc_dtype=int64}.0\n"
       ]
      },
      {
       "output_type": "stream",
       "stream": "stdout",
       "text": [
        "Batch\n",
        "!!!W!!! Prod{acc_dtype=int64}.0\n",
        "!!!W!!! Prod{acc_dtype=int64}.0\n"
       ]
      },
      {
       "output_type": "stream",
       "stream": "stdout",
       "text": [
        "Batch\n",
        "!!!W!!! Prod{acc_dtype=int64}.0\n",
        "!!!W!!! Prod{acc_dtype=int64}.0\n"
       ]
      },
      {
       "output_type": "stream",
       "stream": "stdout",
       "text": [
        "Batch\n",
        "!!!W!!! Prod{acc_dtype=int64}.0\n",
        "!!!W!!! Prod{acc_dtype=int64}.0\n"
       ]
      },
      {
       "output_type": "stream",
       "stream": "stdout",
       "text": [
        "Batch\n",
        "!!!W!!! Prod{acc_dtype=int64}.0\n",
        "!!!W!!! Prod{acc_dtype=int64}.0\n"
       ]
      },
      {
       "output_type": "stream",
       "stream": "stdout",
       "text": [
        "Batch\n",
        "!!!W!!! Prod{acc_dtype=int64}.0\n",
        "!!!W!!! Prod{acc_dtype=int64}.0\n"
       ]
      },
      {
       "output_type": "stream",
       "stream": "stdout",
       "text": [
        "Batch\n",
        "!!!W!!! Prod{acc_dtype=int64}.0\n",
        "!!!W!!! Prod{acc_dtype=int64}.0\n"
       ]
      },
      {
       "output_type": "stream",
       "stream": "stdout",
       "text": [
        "Batch\n",
        "!!!W!!! Prod{acc_dtype=int64}.0\n",
        "!!!W!!! Prod{acc_dtype=int64}.0\n"
       ]
      },
      {
       "output_type": "stream",
       "stream": "stdout",
       "text": [
        "Batch\n",
        "!!!W!!! Prod{acc_dtype=int64}.0\n",
        "!!!W!!! Prod{acc_dtype=int64}.0\n"
       ]
      },
      {
       "output_type": "stream",
       "stream": "stdout",
       "text": [
        "Batch\n",
        "!!!W!!! Prod{acc_dtype=int64}.0\n",
        "!!!W!!! Prod{acc_dtype=int64}.0\n"
       ]
      },
      {
       "output_type": "stream",
       "stream": "stdout",
       "text": [
        "Batch\n",
        "!!!W!!! Prod{acc_dtype=int64}.0\n",
        "!!!W!!! Prod{acc_dtype=int64}.0\n"
       ]
      },
      {
       "output_type": "stream",
       "stream": "stdout",
       "text": [
        "Batch\n",
        "!!!W!!! Prod{acc_dtype=int64}.0\n",
        "!!!W!!! Prod{acc_dtype=int64}.0\n"
       ]
      },
      {
       "output_type": "stream",
       "stream": "stdout",
       "text": [
        "Batch\n",
        "!!!W!!! Prod{acc_dtype=int64}.0\n",
        "!!!W!!! Prod{acc_dtype=int64}.0\n"
       ]
      },
      {
       "output_type": "stream",
       "stream": "stdout",
       "text": [
        "Batch\n",
        "!!!W!!! Prod{acc_dtype=int64}.0\n",
        "!!!W!!! Prod{acc_dtype=int64}.0\n"
       ]
      },
      {
       "output_type": "stream",
       "stream": "stdout",
       "text": [
        "Batch\n",
        "!!!W!!! Prod{acc_dtype=int64}.0\n",
        "!!!W!!! Prod{acc_dtype=int64}.0\n"
       ]
      },
      {
       "output_type": "stream",
       "stream": "stdout",
       "text": [
        "Batch\n",
        "!!!W!!! Prod{acc_dtype=int64}.0\n",
        "!!!W!!! Prod{acc_dtype=int64}.0\n"
       ]
      },
      {
       "output_type": "stream",
       "stream": "stdout",
       "text": [
        "Batch\n",
        "!!!W!!! Prod{acc_dtype=int64}.0\n",
        "!!!W!!! Prod{acc_dtype=int64}.0\n"
       ]
      },
      {
       "output_type": "stream",
       "stream": "stdout",
       "text": [
        "Batch\n",
        "!!!W!!! Prod{acc_dtype=int64}.0\n",
        "!!!W!!! Prod{acc_dtype=int64}.0\n"
       ]
      },
      {
       "output_type": "stream",
       "stream": "stdout",
       "text": [
        "Batch\n",
        "!!!W!!! Prod{acc_dtype=int64}.0\n",
        "!!!W!!! Prod{acc_dtype=int64}.0\n"
       ]
      },
      {
       "output_type": "stream",
       "stream": "stdout",
       "text": [
        "Batch\n",
        "!!!W!!! Prod{acc_dtype=int64}.0\n",
        "!!!W!!! Prod{acc_dtype=int64}.0\n"
       ]
      },
      {
       "output_type": "stream",
       "stream": "stdout",
       "text": [
        "Batch\n",
        "!!!W!!! Prod{acc_dtype=int64}.0\n",
        "!!!W!!! Prod{acc_dtype=int64}.0\n"
       ]
      },
      {
       "output_type": "stream",
       "stream": "stdout",
       "text": [
        "Batch\n",
        "!!!W!!! Prod{acc_dtype=int64}.0\n",
        "!!!W!!! Prod{acc_dtype=int64}.0\n"
       ]
      },
      {
       "output_type": "stream",
       "stream": "stdout",
       "text": [
        "Batch\n",
        "!!!W!!! Prod{acc_dtype=int64}.0\n",
        "!!!W!!! Prod{acc_dtype=int64}.0\n"
       ]
      },
      {
       "output_type": "stream",
       "stream": "stdout",
       "text": [
        "Batch\n",
        "!!!W!!! Prod{acc_dtype=int64}.0\n",
        "!!!W!!! Prod{acc_dtype=int64}.0\n"
       ]
      },
      {
       "output_type": "stream",
       "stream": "stdout",
       "text": [
        "Batch\n",
        "!!!W!!! Prod{acc_dtype=int64}.0\n",
        "!!!W!!! Prod{acc_dtype=int64}.0\n"
       ]
      },
      {
       "output_type": "stream",
       "stream": "stdout",
       "text": [
        "Batch\n",
        "!!!W!!! Prod{acc_dtype=int64}.0\n",
        "!!!W!!! Prod{acc_dtype=int64}.0\n"
       ]
      },
      {
       "output_type": "stream",
       "stream": "stdout",
       "text": [
        "Batch\n",
        "!!!W!!! Prod{acc_dtype=int64}.0\n",
        "!!!W!!! Prod{acc_dtype=int64}.0\n"
       ]
      },
      {
       "output_type": "stream",
       "stream": "stdout",
       "text": [
        "Batch\n",
        "!!!W!!! Prod{acc_dtype=int64}.0\n",
        "!!!W!!! Prod{acc_dtype=int64}.0\n"
       ]
      },
      {
       "output_type": "stream",
       "stream": "stdout",
       "text": [
        "Batch\n",
        "!!!W!!! Prod{acc_dtype=int64}.0\n",
        "!!!W!!! Prod{acc_dtype=int64}.0\n"
       ]
      },
      {
       "output_type": "stream",
       "stream": "stdout",
       "text": [
        "Batch\n",
        "!!!W!!! Prod{acc_dtype=int64}.0\n",
        "!!!W!!! Prod{acc_dtype=int64}.0\n"
       ]
      },
      {
       "output_type": "stream",
       "stream": "stdout",
       "text": [
        "Batch\n",
        "!!!W!!! Prod{acc_dtype=int64}.0\n",
        "!!!W!!! Prod{acc_dtype=int64}.0\n"
       ]
      },
      {
       "output_type": "stream",
       "stream": "stdout",
       "text": [
        "Batch\n",
        "!!!W!!! Prod{acc_dtype=int64}.0\n",
        "!!!W!!! Prod{acc_dtype=int64}.0\n"
       ]
      },
      {
       "output_type": "stream",
       "stream": "stdout",
       "text": [
        "Batch\n",
        "!!!W!!! Prod{acc_dtype=int64}.0\n",
        "!!!W!!! Prod{acc_dtype=int64}.0\n"
       ]
      },
      {
       "output_type": "stream",
       "stream": "stdout",
       "text": [
        "Batch\n",
        "!!!W!!! Prod{acc_dtype=int64}.0\n",
        "!!!W!!! Prod{acc_dtype=int64}.0\n"
       ]
      },
      {
       "output_type": "stream",
       "stream": "stdout",
       "text": [
        "Batch\n",
        "!!!W!!! Prod{acc_dtype=int64}.0\n",
        "!!!W!!! Prod{acc_dtype=int64}.0\n"
       ]
      },
      {
       "output_type": "stream",
       "stream": "stdout",
       "text": [
        "Batch\n",
        "!!!W!!! Prod{acc_dtype=int64}.0\n",
        "!!!W!!! Prod{acc_dtype=int64}.0\n"
       ]
      },
      {
       "output_type": "stream",
       "stream": "stdout",
       "text": [
        "Batch\n",
        "!!!W!!! Prod{acc_dtype=int64}.0\n",
        "!!!W!!! Prod{acc_dtype=int64}.0\n"
       ]
      },
      {
       "output_type": "stream",
       "stream": "stdout",
       "text": [
        "Batch\n",
        "!!!W!!! Prod{acc_dtype=int64}.0\n",
        "!!!W!!! Prod{acc_dtype=int64}.0\n"
       ]
      },
      {
       "output_type": "stream",
       "stream": "stdout",
       "text": [
        "Batch\n",
        "!!!W!!! Prod{acc_dtype=int64}.0\n",
        "!!!W!!! Prod{acc_dtype=int64}.0\n"
       ]
      },
      {
       "output_type": "stream",
       "stream": "stdout",
       "text": [
        "Batch\n",
        "!!!W!!! Prod{acc_dtype=int64}.0\n",
        "!!!W!!! Prod{acc_dtype=int64}.0\n"
       ]
      },
      {
       "output_type": "stream",
       "stream": "stdout",
       "text": [
        "Batch\n",
        "!!!W!!! Prod{acc_dtype=int64}.0\n",
        "!!!W!!! Prod{acc_dtype=int64}.0\n"
       ]
      },
      {
       "output_type": "stream",
       "stream": "stdout",
       "text": [
        "Batch\n",
        "!!!W!!! Prod{acc_dtype=int64}.0\n",
        "!!!W!!! Prod{acc_dtype=int64}.0\n"
       ]
      },
      {
       "output_type": "stream",
       "stream": "stdout",
       "text": [
        "Batch\n",
        "!!!W!!! Prod{acc_dtype=int64}.0\n",
        "!!!W!!! Prod{acc_dtype=int64}.0\n"
       ]
      },
      {
       "output_type": "stream",
       "stream": "stdout",
       "text": [
        "Batch\n",
        "!!!W!!! Prod{acc_dtype=int64}.0\n",
        "!!!W!!! Prod{acc_dtype=int64}.0\n"
       ]
      },
      {
       "output_type": "stream",
       "stream": "stdout",
       "text": [
        "Batch\n",
        "!!!W!!! Prod{acc_dtype=int64}.0\n",
        "!!!W!!! Prod{acc_dtype=int64}.0\n"
       ]
      },
      {
       "output_type": "stream",
       "stream": "stdout",
       "text": [
        "Outputs (446, 5, 875, 1)\n",
        "Filter\n",
        "Filter\n",
        "Filter\n"
       ]
      },
      {
       "output_type": "stream",
       "stream": "stdout",
       "text": [
        "Filter\n",
        "Filter\n"
       ]
      },
      {
       "output_type": "stream",
       "stream": "stdout",
       "text": [
        "[array([182,   0,  96,   0]), array([242,   0, 410,   0]), array([243,   0, 264,   0]), array([187,   0, 873,   0]), array([226,   0,   0,   0]), array([219,   0, 619,   0]), array([218,   0, 765,   0]), array([430,   0, 504,   0]), array([431,   0, 358,   0]), array([445,   0, 835,   0]), array([328,   0, 768,   0]), array([329,   0, 622,   0]), array([ 59,   0, 757,   0]), array([175,   0, 574,   0]), array([174,   0, 720,   0]), array([324,   0, 573,   0]), array([325,   0, 427,   0]), array([147,   0, 526,   0]), array([146,   0, 672,   0]), array([159,   0, 385,   0]), array([158,   0, 531,   0]), array([348,   0, 672,   0]), array([349,   0, 526,   0]), array([386,   0, 829,   0]), array([387,   0, 683,   0]), array([274,   0, 692,   0]), array([275,   0, 546,   0]), array([414,   0, 111,   0]), array([109,   0, 574,   0]), array([108,   0, 720,   0]), array([308,   0,  38,   0]), array([186,   0, 358,   0]), array([358,   0, 399,   0]), array([359,   0, 253,   0]), array([149,   0, 761,   0]), array([433,   0, 418,   0]), array([432,   0, 564,   0]), array([ 36,   0, 485,   0]), array([ 37,   0, 339,   0]), array([173,   0, 550,   0]), array([172,   0, 696,   0]), array([421,   0, 520,   0]), array([420,   0, 666,   0]), array([222,   0, 485,   0]), array([223,   0, 339,   0]), array([249,   0, 866,   0]), array([209,   0, 625,   0]), array([208,   0, 771,   0]), array([240,   0,  10,   0]), array([356,   0,   4,   0]), array([309,   0, 820,   0]), array([213,   0, 834,   0]), array([40,  0, 13,  0]), array([413,   0, 845,   0]), array([236,   0, 115,   0]), array([ 72,   0, 775,   0]), array([ 73,   0, 629,   0]), array([318,   0,  77,   0]), array([150,   0,  28,   0]), array([ 87,   0, 271,   0]), array([ 86,   0, 417,   0]), array([183,   0, 695,   0]), array([436,   0, 853,   0]), array([437,   0, 707,   0]), array([374,   0, 703,   0]), array([375,   0, 557,   0]), array([415,   0,   6,   0]), array([171,   0, 461,   0]), array([170,   0, 607,   0]), array([139,   0, 864,   0]), array([ 24,   0, 324,   0]), array([ 25,   0, 178,   0]), array([347,   0, 795,   0]), array([ 83,   0, 451,   0]), array([ 82,   0, 597,   0]), array([442,   0, 743,   0]), array([443,   0, 597,   0]), array([322,   0,  66,   0]), array([200,   0,   9,   0]), array([333,   0, 871,   0]), array([260,   0, 774,   0]), array([261,   0, 628,   0]), array([344,   0, 659,   0]), array([345,   0, 513,   0]), array([256,   0, 838,   0]), array([257,   0, 692,   0]), array([ 18,   0, 587,   0]), array([ 19,   0, 441,   0]), array([399,   0, 763,   0]), array([417,   0, 826,   0]), array([220,   0, 828,   0]), array([221,   0, 682,   0]), array([ 31,   0, 586,   0]), array([ 30,   0, 732,   0]), array([303,   0, 841,   0]), array([422,   0, 535,   0]), array([423,   0, 389,   0]), array([392,   0, 111,   0]), array([334,   0, 538,   0]), array([335,   0, 392,   0]), array([242,   1, 434,   0]), array([243,   1, 288,   0]), array([433,   1, 505,   0]), array([432,   1, 651,   0]), array([122,   1, 571,   0]), array([123,   1, 425,   0]), array([182,   1, 107,   0]), array([328,   1, 763,   0]), array([329,   1, 617,   0]), array([ 19,   1, 758,   0]), array([382,   1, 356,   0]), array([383,   1, 210,   0]), array([ 63,   1, 837,   0]), array([ 16,   1, 779,   0]), array([ 17,   1, 633,   0]), array([296,   1, 782,   0]), array([297,   1, 636,   0]), array([174,   1, 720,   0]), array([175,   1, 574,   0]), array([ 94,   1, 625,   0]), array([ 95,   1, 479,   0]), array([ 27,   1, 739,   0]), array([440,   1, 657,   0]), array([441,   1, 511,   0]), array([149,   1, 836,   0]), array([147,   1, 538,   0]), array([146,   1, 684,   0]), array([411,   1, 498,   0]), array([410,   1, 644,   0]), array([256,   1, 855,   0]), array([257,   1, 709,   0]), array([108,   1, 690,   0]), array([109,   1, 544,   0]), array([186,   1, 534,   0]), array([187,   1, 388,   0]), array([412,   1, 459,   0]), array([413,   1, 313,   0]), array([263,   1, 855,   0]), array([315,   1, 743,   0]), array([105,   1, 630,   0]), array([104,   1, 776,   0]), array([324,   1, 455,   0]), array([325,   1, 309,   0]), array([429,   1, 768,   0]), array([298,   1, 441,   0]), array([299,   1, 295,   0]), array([209,   1, 504,   0]), array([208,   1, 650,   0]), array([289,   1, 283,   0]), array([288,   1, 429,   0]), array([312,   1, 420,   0]), array([313,   1, 274,   0]), array([347,   1, 346,   0]), array([346,   1, 492,   0]), array([183,   1, 278,   0]), array([103,   1, 281,   0]), array([102,   1, 427,   0]), array([276,   1, 472,   0]), array([277,   1, 326,   0]), array([170,   1, 656,   0]), array([171,   1, 510,   0]), array([ 54,   1, 860,   0]), array([ 55,   1, 714,   0]), array([405,   1, 179,   0]), array([404,   1, 325,   0]), array([255,   1, 313,   0]), array([254,   1, 459,   0]), array([249,   1, 817,   0]), array([132,   1, 866,   0]), array([133,   1, 720,   0]), array([172,   1, 582,   0]), array([173,   1, 436,   0]), array([165,   1, 755,   0]), array([188,   1, 515,   0]), array([189,   1, 369,   0]), array([339,   1, 575,   0]), array([338,   1, 721,   0]), array([ 48,   1, 456,   0]), array([ 49,   1, 310,   0]), array([184,   1, 477,   0]), array([185,   1, 331,   0]), array([139,   1, 598,   0]), array([138,   1, 744,   0]), array([287,   1, 574,   0]), array([286,   1, 720,   0]), array([334,   1, 559,   0]), array([335,   1, 413,   0]), array([235,   1, 850,   0]), array([333,   1, 869,   0]), array([443,   1, 575,   0]), array([442,   1, 721,   0]), array([240,   1,   2,   0]), array([169,   1, 284,   0]), array([168,   1, 430,   0]), array([353,   1, 213,   0]), array([352,   1, 359,   0]), array([275,   1, 564,   0]), array([274,   1, 710,   0]), array([197,   1, 372,   0]), array([196,   1, 518,   0]), array([382,   2, 357,   0]), array([383,   2, 211,   0]), array([428,   2, 537,   0]), array([429,   2, 391,   0]), array([347,   2, 792,   0]), array([424,   2, 366,   0]), array([425,   2, 220,   0]), array([313,   2, 271,   0]), array([312,   2, 417,   0]), array([205,   2, 825,   0]), array([266,   2, 329,   0]), array([267,   2, 183,   0]), array([309,   2, 268,   0]), array([308,   2, 414,   0]), array([375,   2, 715,   0]), array([374,   2, 861,   0]), array([277,   2, 323,   0]), array([276,   2, 469,   0]), array([ 51,   2, 679,   0]), array([ 50,   2, 825,   0]), array([123,   2, 450,   0]), array([122,   2, 596,   0]), array([158,   2, 565,   0]), array([159,   2, 419,   0]), array([  7,   2, 393,   0]), array([  6,   2, 539,   0]), array([274,   2, 486,   0]), array([275,   2, 340,   0]), array([290,   2, 612,   0]), array([291,   2, 466,   0]), array([358,   2, 531,   0]), array([359,   2, 385,   0]), array([141,   2, 694,   0]), array([140,   2, 840,   0]), array([ 19,   2, 752,   0]), array([105,   2, 433,   0]), array([104,   2, 579,   0]), array([416,   2, 724,   0]), array([417,   2, 578,   0]), array([ 35,   2, 388,   0]), array([ 34,   2, 534,   0]), array([400,   2, 430,   0]), array([401,   2, 284,   0]), array([379,   2, 288,   0]), array([378,   2, 434,   0]), array([220,   2, 542,   0]), array([221,   2, 396,   0]), array([317,   2, 797,   0]), array([186,   2, 433,   0]), array([187,   2, 287,   0]), array([346,   2, 607,   0]), array([ 75,   2, 383,   0]), array([ 74,   2, 529,   0]), array([145,   2, 360,   0]), array([144,   2, 506,   0]), array([213,   2, 328,   0]), array([212,   2, 474,   0]), array([207,   2, 264,   0]), array([206,   2, 410,   0]), array([335,   2, 384,   0]), array([334,   2, 530,   0]), array([126,   2, 518,   0]), array([127,   2, 372,   0]), array([243,   2, 289,   0]), array([242,   2, 435,   0]), array([168,   2, 433,   0]), array([169,   2, 287,   0]), array([263,   2, 777,   0]), array([369,   2, 779,   0]), array([108,   2, 634,   0]), array([109,   2, 488,   0]), array([380,   2, 520,   0]), array([381,   2, 374,   0]), array([139,   2, 273,   0]), array([138,   2, 419,   0]), array([181,   2, 870,   0]), array([311,   2, 852,   0]), array([155,   2, 478,   0]), array([154,   2, 624,   0]), array([ 16,   2, 780,   0]), array([ 17,   2, 634,   0]), array([361,   2, 827,   0]), array([ 40,   2, 582,   0]), array([ 41,   2, 436,   0]), array([216,   2, 813,   0]), array([217,   2, 667,   0]), array([ 15,   2, 646,   0]), array([ 14,   2, 792,   0]), array([165,   2, 391,   0]), array([164,   2, 537,   0]), array([345,   2, 709,   0]), array([344,   2, 855,   0]), array([337,   2, 174,   0]), array([336,   2, 320,   0]), array([ 43,   2, 843,   0]), array([241,   2, 234,   0]), array([240,   2, 380,   0]), array([253,   2, 727,   0]), array([252,   2, 873,   0]), array([420,   2, 429,   0]), array([ 63,   3, 810,   0]), array([353,   3, 143,   0]), array([352,   3, 289,   0]), array([286,   3, 714,   0]), array([287,   3, 568,   0]), array([254,   3, 341,   0]), array([255,   3, 195,   0]), array([443,   3, 299,   0]), array([442,   3, 445,   0]), array([218,   3, 558,   0]), array([219,   3, 412,   0]), array([364,   3, 330,   0]), array([365,   3, 184,   0]), array([242,   3, 446,   0]), array([243,   3, 300,   0]), array([100,   3,  69,   0]), array([168,   3, 468,   0]), array([169,   3, 322,   0]), array([177,   3, 317,   0]), array([176,   3, 463,   0]), array([108,   3, 393,   0]), array([109,   3, 247,   0]), array([308,   3, 493,   0]), array([309,   3, 347,   0]), array([296,   3, 644,   0]), array([297,   3, 498,   0]), array([139,   3, 260,   0]), array([138,   3, 406,   0]), array([369,   3, 199,   0]), array([368,   3, 345,   0]), array([ 93,   3, 321,   0]), array([ 92,   3, 467,   0]), array([146,   3, 652,   0]), array([147,   3, 506,   0]), array([336,   3, 551,   0]), array([337,   3, 405,   0]), array([331,   3, 287,   0]), array([330,   3, 433,   0]), array([314,   3, 858,   0]), array([315,   3, 712,   0]), array([381,   3, 817,   0]), array([382,   3, 656,   0]), array([383,   3, 510,   0]), array([288,   3, 424,   0]), array([289,   3, 278,   0]), array([441,   3, 805,   0]), array([263,   3, 489,   0]), array([262,   3, 635,   0]), array([346,   3, 484,   0]), array([347,   3, 338,   0]), array([ 54,   3, 628,   0]), array([ 55,   3, 482,   0]), array([ 62,   3, 489,   0]), array([ 87,   3, 220,   0]), array([ 86,   3, 366,   0]), array([371,   3, 357,   0]), array([370,   3, 503,   0]), array([408,   3, 647,   0]), array([409,   3, 501,   0]), array([203,   3, 407,   0]), array([202,   3, 553,   0]), array([ 53,   3, 852,   0]), array([171,   3, 781,   0]), array([183,   3, 519,   0]), array([182,   3, 665,   0]), array([ 69,   3, 288,   0]), array([ 68,   3, 434,   0]), array([430,   3, 603,   0]), array([431,   3, 457,   0]), array([154,   3, 540,   0]), array([155,   3, 394,   0]), array([348,   3,  81,   0]), array([379,   3, 171,   0]), array([378,   3, 317,   0]), array([284,   3, 619,   0]), array([285,   3, 473,   0]), array([357,   3, 869,   0]), array([223,   3, 334,   0]), array([222,   3, 480,   0]), array([ 70,   3, 796,   0]), array([ 71,   3, 650,   0]), array([ 97,   3, 749,   0]), array([425,   3, 185,   0]), array([424,   3, 331,   0]), array([335,   3, 696,   0]), array([334,   3, 842,   0]), array([303,   3, 182,   0]), array([302,   3, 328,   0]), array([421,   3, 774,   0]), array([249,   3, 469,   0]), array([248,   3, 615,   0]), array([298,   3, 435,   0]), array([299,   3, 289,   0]), array([312,   3, 689,   0]), array([313,   3, 543,   0]), array([395,   3, 537,   0]), array([394,   3, 683,   0]), array([260,   3, 844,   0]), array([261,   3, 698,   0]), array([426,   3, 714,   0]), array([243,   4, 239,   0]), array([242,   4, 385,   0]), array([353,   4, 149,   0]), array([352,   4, 295,   0]), array([139,   4, 266,   0]), array([138,   4, 412,   0]), array([213,   4, 413,   0]), array([212,   4, 559,   0]), array([168,   4, 409,   0]), array([169,   4, 263,   0]), array([381,   4, 822,   0]), array([285,   4, 430,   0]), array([284,   4, 576,   0]), array([421,   4, 620,   0]), array([420,   4, 766,   0]), array([396,   4, 827,   0]), array([397,   4, 681,   0]), array([416,   4, 813,   0]), array([417,   4, 667,   0]), array([289,   4, 331,   0]), array([288,   4, 477,   0]), array([322,   4, 457,   0]), array([323,   4, 311,   0]), array([365,   4, 191,   0]), array([364,   4, 337,   0]), array([371,   4, 527,   0]), array([370,   4, 673,   0]), array([379,   4, 773,   0]), array([444,   4, 842,   0]), array([445,   4, 696,   0]), array([287,   4, 532,   0]), array([286,   4, 678,   0]), array([ 26,   4, 620,   0]), array([ 27,   4, 474,   0]), array([  3,   4, 506,   0]), array([  2,   4, 652,   0]), array([312,   4, 720,   0]), array([313,   4, 574,   0]), array([442,   4, 454,   0]), array([443,   4, 308,   0]), array([300,   4, 755,   0]), array([301,   4, 609,   0]), array([126,   4, 391,   0]), array([127,   4, 245,   0]), array([248,   4, 571,   0]), array([249,   4, 425,   0]), array([190,   4, 742,   0]), array([191,   4, 596,   0]), array([ 93,   4, 280,   0]), array([ 92,   4, 426,   0]), array([257,   4, 740,   0]), array([ 48,   4, 491,   0]), array([ 49,   4, 345,   0]), array([261,   4, 631,   0]), array([260,   4, 777,   0]), array([279,   4, 319,   0]), array([278,   4, 465,   0]), array([255,   4, 440,   0]), array([254,   4, 586,   0]), array([263,   4, 475,   0]), array([262,   4, 621,   0]), array([165,   4, 364,   0]), array([164,   4, 510,   0]), array([324,   4, 801,   0]), array([325,   4, 655,   0]), array([335,   4, 496,   0]), array([334,   4, 642,   0]), array([308,   4, 525,   0]), array([309,   4, 379,   0]), array([439,   4, 668,   0]), array([438,   4, 814,   0]), array([382,   4, 425,   0]), array([383,   4, 279,   0]), array([ 44,   4, 739,   0]), array([ 45,   4, 593,   0]), array([431,   4, 327,   0]), array([430,   4, 473,   0]), array([318,   4, 807,   0]), array([319,   4, 661,   0]), array([161,   4, 618,   0]), array([160,   4, 764,   0]), array([ 36,   4, 488,   0]), array([ 37,   4, 342,   0]), array([354,   4, 444,   0]), array([355,   4, 298,   0]), array([100,   4,  75,   0]), array([ 75,   4, 196,   0]), array([ 74,   4, 342,   0]), array([378,   4, 500,   0]), array([124,   4, 673,   0]), array([125,   4, 527,   0]), array([362,   4, 473,   0]), array([363,   4, 327,   0]), array([104,   4, 713,   0]), array([105,   4, 567,   0]), array([357,   4, 778,   0]), array([271,   4, 736,   0]), array([394,   4, 621,   0]), array([395,   4, 475,   0]), array([111,   4, 753,   0])]\n",
        "max units\n",
        "[array([0, 1, 2, 3, 4, 5, 6, 7, 8]), array([ 9, 10, 11, 12, 13, 14, 15, 16, 17]), array([18, 19, 20, 21, 22, 23, 24, 25, 26]), array([27, 28, 29, 30, 31, 32, 33, 34, 35]), array([36, 37, 38, 39, 40, 41, 42, 43, 44]), array([45, 46, 47, 48, 49, 50, 51, 52, 53]), array([54, 55, 56, 57, 58, 59, 60, 61, 62]), array([63, 64, 65, 66, 67, 68, 69, 70, 71]), array([72, 73, 74, 75, 76, 77, 78, 79, 80]), array([81, 82, 83, 84, 85, 86, 87, 88, 89]), array([90, 91, 92, 93, 94, 95, 96, 97, 98]), array([ 99, 100, 101, 102, 103, 104, 105, 106, 107]), array([108, 109, 110, 111, 112, 113, 114, 115, 116]), array([117, 118, 119, 120, 121, 122, 123, 124, 125]), array([126, 127, 128, 129, 130, 131, 132, 133, 134]), array([135, 136, 137, 138, 139, 140, 141, 142, 143]), array([144, 145, 146, 147, 148, 149, 150, 151, 152]), array([153, 154, 155, 156, 157, 158, 159, 160, 161]), array([162, 163, 164, 165, 166, 167, 168, 169, 170]), array([171, 172, 173, 174, 175, 176, 177, 178, 179]), array([180, 181, 182, 183, 184, 185, 186, 187]), array([188, 189, 190, 191, 192, 193, 194, 195]), array([196, 197, 198, 199, 200, 201, 202, 203]), array([204, 205, 206, 207, 208, 209, 210, 211]), array([212, 213, 214, 215, 216, 217, 218, 219]), array([220, 221, 222, 223, 224, 225, 226, 227]), array([228, 229, 230, 231, 232, 233, 234, 235]), array([236, 237, 238, 239, 240, 241, 242, 243]), array([244, 245, 246, 247, 248, 249, 250, 251]), array([252, 253, 254, 255, 256, 257, 258, 259]), array([260, 261, 262, 263, 264, 265, 266, 267]), array([268, 269, 270, 271, 272, 273, 274, 275]), array([276, 277, 278, 279, 280, 281, 282, 283]), array([284, 285, 286, 287, 288, 289, 290, 291]), array([292, 293, 294, 295, 296, 297, 298, 299]), array([300, 301, 302, 303, 304, 305, 306, 307]), array([308, 309, 310, 311, 312, 313, 314, 315]), array([316, 317, 318, 319, 320, 321, 322, 323]), array([324, 325, 326, 327, 328, 329, 330, 331]), array([332, 333, 334, 335, 336, 337, 338, 339]), array([340, 341, 342, 343, 344, 345, 346, 347]), array([348, 349, 350, 351, 352, 353, 354, 355]), array([356, 357, 358, 359, 360, 361, 362, 363]), array([364, 365, 366, 367, 368, 369, 370, 371]), array([372, 373, 374, 375, 376, 377, 378, 379]), array([380, 381, 382, 383, 384, 385, 386, 387]), array([388, 389, 390, 391, 392, 393, 394, 395]), array([396, 397, 398, 399, 400, 401, 402, 403]), array([404, 405, 406, 407, 408, 409, 410, 411]), array([412, 413, 414, 415, 416, 417, 418, 419]), array([420, 421, 422, 423, 424, 425, 426, 427]), array([428, 429, 430, 431, 432, 433, 434, 435]), array([436, 437, 438, 439, 440, 441, 442, 443]), array([444, 445, 446, 447, 448, 449, 450, 451]), array([452, 453, 454, 455, 456, 457, 458, 459]), array([460, 461, 462, 463, 464, 465, 466, 467]), array([468, 469, 470, 471, 472, 473, 474, 475]), array([476, 477, 478, 479, 480, 481, 482, 483]), array([484, 485, 486, 487, 488, 489, 490, 491]), array([492, 493, 494, 495, 496, 497, 498, 499])]\n",
        "Batch\n",
        "!!!W!!! Prod{acc_dtype=int64}.0\n",
        "!!!W!!! Prod{acc_dtype=int64}.0\n"
       ]
      },
      {
       "output_type": "stream",
       "stream": "stdout",
       "text": [
        "Batch\n",
        "!!!W!!! Prod{acc_dtype=int64}.0\n",
        "!!!W!!! Prod{acc_dtype=int64}.0\n"
       ]
      },
      {
       "output_type": "stream",
       "stream": "stdout",
       "text": [
        "Batch\n",
        "!!!W!!! Prod{acc_dtype=int64}.0\n",
        "!!!W!!! Prod{acc_dtype=int64}.0\n"
       ]
      },
      {
       "output_type": "stream",
       "stream": "stdout",
       "text": [
        "Batch\n",
        "!!!W!!! Prod{acc_dtype=int64}.0\n",
        "!!!W!!! Prod{acc_dtype=int64}.0\n"
       ]
      },
      {
       "output_type": "stream",
       "stream": "stdout",
       "text": [
        "Batch\n",
        "!!!W!!! Prod{acc_dtype=int64}.0\n",
        "!!!W!!! Prod{acc_dtype=int64}.0\n"
       ]
      },
      {
       "output_type": "stream",
       "stream": "stdout",
       "text": [
        "Batch\n",
        "!!!W!!! Prod{acc_dtype=int64}.0\n",
        "!!!W!!! Prod{acc_dtype=int64}.0\n"
       ]
      },
      {
       "output_type": "stream",
       "stream": "stdout",
       "text": [
        "Batch\n",
        "!!!W!!! Prod{acc_dtype=int64}.0\n",
        "!!!W!!! Prod{acc_dtype=int64}.0\n"
       ]
      },
      {
       "output_type": "stream",
       "stream": "stdout",
       "text": [
        "Batch\n",
        "!!!W!!! Prod{acc_dtype=int64}.0\n",
        "!!!W!!! Prod{acc_dtype=int64}.0\n"
       ]
      },
      {
       "output_type": "stream",
       "stream": "stdout",
       "text": [
        "Batch\n",
        "!!!W!!! Prod{acc_dtype=int64}.0\n",
        "!!!W!!! Prod{acc_dtype=int64}.0\n"
       ]
      },
      {
       "output_type": "stream",
       "stream": "stdout",
       "text": [
        "Batch\n",
        "!!!W!!! Prod{acc_dtype=int64}.0\n",
        "!!!W!!! Prod{acc_dtype=int64}.0\n"
       ]
      },
      {
       "output_type": "stream",
       "stream": "stdout",
       "text": [
        "Batch\n",
        "!!!W!!! Prod{acc_dtype=int64}.0\n",
        "!!!W!!! Prod{acc_dtype=int64}.0\n"
       ]
      },
      {
       "output_type": "stream",
       "stream": "stdout",
       "text": [
        "Batch\n",
        "!!!W!!! Prod{acc_dtype=int64}.0\n",
        "!!!W!!! Prod{acc_dtype=int64}.0\n"
       ]
      },
      {
       "output_type": "stream",
       "stream": "stdout",
       "text": [
        "Batch\n",
        "!!!W!!! Prod{acc_dtype=int64}.0\n",
        "!!!W!!! Prod{acc_dtype=int64}.0\n"
       ]
      },
      {
       "output_type": "stream",
       "stream": "stdout",
       "text": [
        "Batch\n",
        "!!!W!!! Prod{acc_dtype=int64}.0\n",
        "!!!W!!! Prod{acc_dtype=int64}.0\n"
       ]
      },
      {
       "output_type": "stream",
       "stream": "stdout",
       "text": [
        "Batch\n",
        "!!!W!!! Prod{acc_dtype=int64}.0\n",
        "!!!W!!! Prod{acc_dtype=int64}.0\n"
       ]
      },
      {
       "output_type": "stream",
       "stream": "stdout",
       "text": [
        "Batch\n",
        "!!!W!!! Prod{acc_dtype=int64}.0\n",
        "!!!W!!! Prod{acc_dtype=int64}.0\n"
       ]
      },
      {
       "output_type": "stream",
       "stream": "stdout",
       "text": [
        "Batch\n",
        "!!!W!!! Prod{acc_dtype=int64}.0\n",
        "!!!W!!! Prod{acc_dtype=int64}.0\n"
       ]
      },
      {
       "output_type": "stream",
       "stream": "stdout",
       "text": [
        "Batch\n",
        "!!!W!!! Prod{acc_dtype=int64}.0\n",
        "!!!W!!! Prod{acc_dtype=int64}.0\n"
       ]
      },
      {
       "output_type": "stream",
       "stream": "stdout",
       "text": [
        "Batch\n",
        "!!!W!!! Prod{acc_dtype=int64}.0\n",
        "!!!W!!! Prod{acc_dtype=int64}.0\n"
       ]
      },
      {
       "output_type": "stream",
       "stream": "stdout",
       "text": [
        "Batch\n",
        "!!!W!!! Prod{acc_dtype=int64}.0\n",
        "!!!W!!! Prod{acc_dtype=int64}.0\n"
       ]
      },
      {
       "output_type": "stream",
       "stream": "stdout",
       "text": [
        "Batch\n",
        "!!!W!!! Prod{acc_dtype=int64}.0\n",
        "!!!W!!! Prod{acc_dtype=int64}.0\n"
       ]
      },
      {
       "output_type": "stream",
       "stream": "stdout",
       "text": [
        "Batch\n",
        "!!!W!!! Prod{acc_dtype=int64}.0\n",
        "!!!W!!! Prod{acc_dtype=int64}.0\n"
       ]
      },
      {
       "output_type": "stream",
       "stream": "stdout",
       "text": [
        "Batch\n",
        "!!!W!!! Prod{acc_dtype=int64}.0\n",
        "!!!W!!! Prod{acc_dtype=int64}.0\n"
       ]
      },
      {
       "output_type": "stream",
       "stream": "stdout",
       "text": [
        "Batch\n",
        "!!!W!!! Prod{acc_dtype=int64}.0\n",
        "!!!W!!! Prod{acc_dtype=int64}.0\n"
       ]
      },
      {
       "output_type": "stream",
       "stream": "stdout",
       "text": [
        "Batch\n",
        "!!!W!!! Prod{acc_dtype=int64}.0\n",
        "!!!W!!! Prod{acc_dtype=int64}.0\n"
       ]
      },
      {
       "output_type": "stream",
       "stream": "stdout",
       "text": [
        "Batch\n",
        "!!!W!!! Prod{acc_dtype=int64}.0\n",
        "!!!W!!! Prod{acc_dtype=int64}.0\n"
       ]
      },
      {
       "output_type": "stream",
       "stream": "stdout",
       "text": [
        "Batch\n",
        "!!!W!!! Prod{acc_dtype=int64}.0\n",
        "!!!W!!! Prod{acc_dtype=int64}.0\n"
       ]
      },
      {
       "output_type": "stream",
       "stream": "stdout",
       "text": [
        "Batch\n",
        "!!!W!!! Prod{acc_dtype=int64}.0\n",
        "!!!W!!! Prod{acc_dtype=int64}.0\n"
       ]
      },
      {
       "output_type": "stream",
       "stream": "stdout",
       "text": [
        "Batch\n",
        "!!!W!!! Prod{acc_dtype=int64}.0\n",
        "!!!W!!! Prod{acc_dtype=int64}.0\n"
       ]
      },
      {
       "output_type": "stream",
       "stream": "stdout",
       "text": [
        "Batch\n",
        "!!!W!!! Prod{acc_dtype=int64}.0\n",
        "!!!W!!! Prod{acc_dtype=int64}.0\n"
       ]
      },
      {
       "output_type": "stream",
       "stream": "stdout",
       "text": [
        "Batch\n",
        "!!!W!!! Prod{acc_dtype=int64}.0\n",
        "!!!W!!! Prod{acc_dtype=int64}.0\n"
       ]
      },
      {
       "output_type": "stream",
       "stream": "stdout",
       "text": [
        "Batch\n",
        "!!!W!!! Prod{acc_dtype=int64}.0\n",
        "!!!W!!! Prod{acc_dtype=int64}.0\n"
       ]
      },
      {
       "output_type": "stream",
       "stream": "stdout",
       "text": [
        "Batch\n",
        "!!!W!!! Prod{acc_dtype=int64}.0\n",
        "!!!W!!! Prod{acc_dtype=int64}.0\n"
       ]
      },
      {
       "output_type": "stream",
       "stream": "stdout",
       "text": [
        "Batch\n",
        "!!!W!!! Prod{acc_dtype=int64}.0\n",
        "!!!W!!! Prod{acc_dtype=int64}.0\n"
       ]
      },
      {
       "output_type": "stream",
       "stream": "stdout",
       "text": [
        "Batch\n",
        "!!!W!!! Prod{acc_dtype=int64}.0\n",
        "!!!W!!! Prod{acc_dtype=int64}.0\n"
       ]
      },
      {
       "output_type": "stream",
       "stream": "stdout",
       "text": [
        "Batch\n",
        "!!!W!!! Prod{acc_dtype=int64}.0\n",
        "!!!W!!! Prod{acc_dtype=int64}.0\n"
       ]
      },
      {
       "output_type": "stream",
       "stream": "stdout",
       "text": [
        "Batch\n",
        "!!!W!!! Prod{acc_dtype=int64}.0\n",
        "!!!W!!! Prod{acc_dtype=int64}.0\n"
       ]
      },
      {
       "output_type": "stream",
       "stream": "stdout",
       "text": [
        "Batch\n",
        "!!!W!!! Prod{acc_dtype=int64}.0\n",
        "!!!W!!! Prod{acc_dtype=int64}.0\n"
       ]
      },
      {
       "output_type": "stream",
       "stream": "stdout",
       "text": [
        "Batch\n",
        "!!!W!!! Prod{acc_dtype=int64}.0\n",
        "!!!W!!! Prod{acc_dtype=int64}.0\n"
       ]
      },
      {
       "output_type": "stream",
       "stream": "stdout",
       "text": [
        "Batch\n",
        "!!!W!!! Prod{acc_dtype=int64}.0\n",
        "!!!W!!! Prod{acc_dtype=int64}.0\n"
       ]
      },
      {
       "output_type": "stream",
       "stream": "stdout",
       "text": [
        "Batch\n",
        "!!!W!!! Prod{acc_dtype=int64}.0\n",
        "!!!W!!! Prod{acc_dtype=int64}.0\n"
       ]
      },
      {
       "output_type": "stream",
       "stream": "stdout",
       "text": [
        "Batch\n",
        "!!!W!!! Prod{acc_dtype=int64}.0\n",
        "!!!W!!! Prod{acc_dtype=int64}.0\n"
       ]
      },
      {
       "output_type": "stream",
       "stream": "stdout",
       "text": [
        "Batch\n",
        "!!!W!!! Prod{acc_dtype=int64}.0\n",
        "!!!W!!! Prod{acc_dtype=int64}.0\n"
       ]
      },
      {
       "output_type": "stream",
       "stream": "stdout",
       "text": [
        "Batch\n",
        "!!!W!!! Prod{acc_dtype=int64}.0\n",
        "!!!W!!! Prod{acc_dtype=int64}.0\n"
       ]
      },
      {
       "output_type": "stream",
       "stream": "stdout",
       "text": [
        "Batch\n",
        "!!!W!!! Prod{acc_dtype=int64}.0\n",
        "!!!W!!! Prod{acc_dtype=int64}.0\n"
       ]
      },
      {
       "output_type": "stream",
       "stream": "stdout",
       "text": [
        "Batch\n",
        "!!!W!!! Prod{acc_dtype=int64}.0\n",
        "!!!W!!! Prod{acc_dtype=int64}.0\n"
       ]
      },
      {
       "output_type": "stream",
       "stream": "stdout",
       "text": [
        "Batch\n",
        "!!!W!!! Prod{acc_dtype=int64}.0\n",
        "!!!W!!! Prod{acc_dtype=int64}.0\n"
       ]
      },
      {
       "output_type": "stream",
       "stream": "stdout",
       "text": [
        "Batch\n",
        "!!!W!!! Prod{acc_dtype=int64}.0\n",
        "!!!W!!! Prod{acc_dtype=int64}.0\n"
       ]
      },
      {
       "output_type": "stream",
       "stream": "stdout",
       "text": [
        "Batch\n",
        "!!!W!!! Prod{acc_dtype=int64}.0\n",
        "!!!W!!! Prod{acc_dtype=int64}.0\n"
       ]
      },
      {
       "output_type": "stream",
       "stream": "stdout",
       "text": [
        "Batch\n",
        "!!!W!!! Prod{acc_dtype=int64}.0\n",
        "!!!W!!! Prod{acc_dtype=int64}.0\n"
       ]
      },
      {
       "output_type": "stream",
       "stream": "stdout",
       "text": [
        "Batch\n",
        "!!!W!!! Prod{acc_dtype=int64}.0\n",
        "!!!W!!! Prod{acc_dtype=int64}.0\n"
       ]
      },
      {
       "output_type": "stream",
       "stream": "stdout",
       "text": [
        "Batch\n",
        "!!!W!!! Prod{acc_dtype=int64}.0\n",
        "!!!W!!! Prod{acc_dtype=int64}.0\n"
       ]
      },
      {
       "output_type": "stream",
       "stream": "stdout",
       "text": [
        "Batch\n",
        "!!!W!!! Prod{acc_dtype=int64}.0\n",
        "!!!W!!! Prod{acc_dtype=int64}.0\n"
       ]
      },
      {
       "output_type": "stream",
       "stream": "stdout",
       "text": [
        "Batch\n",
        "!!!W!!! Prod{acc_dtype=int64}.0\n",
        "!!!W!!! Prod{acc_dtype=int64}.0\n"
       ]
      },
      {
       "output_type": "stream",
       "stream": "stdout",
       "text": [
        "Batch\n",
        "!!!W!!! Prod{acc_dtype=int64}.0\n",
        "!!!W!!! Prod{acc_dtype=int64}.0\n"
       ]
      },
      {
       "output_type": "stream",
       "stream": "stdout",
       "text": [
        "Batch\n",
        "!!!W!!! Prod{acc_dtype=int64}.0\n",
        "!!!W!!! Prod{acc_dtype=int64}.0\n"
       ]
      },
      {
       "output_type": "stream",
       "stream": "stdout",
       "text": [
        "Batch\n",
        "!!!W!!! Prod{acc_dtype=int64}.0\n",
        "!!!W!!! Prod{acc_dtype=int64}.0\n"
       ]
      },
      {
       "output_type": "stream",
       "stream": "stdout",
       "text": [
        "Batch\n",
        "!!!W!!! Prod{acc_dtype=int64}.0\n",
        "!!!W!!! Prod{acc_dtype=int64}.0\n"
       ]
      },
      {
       "output_type": "stream",
       "stream": "stdout",
       "text": [
        "Batch\n",
        "!!!W!!! Prod{acc_dtype=int64}.0\n",
        "!!!W!!! Prod{acc_dtype=int64}.0\n"
       ]
      },
      {
       "output_type": "stream",
       "stream": "stdout",
       "text": [
        "Batch\n",
        "!!!W!!! Prod{acc_dtype=int64}.0\n",
        "!!!W!!! Prod{acc_dtype=int64}.0\n"
       ]
      },
      {
       "output_type": "stream",
       "stream": "stdout",
       "text": [
        "Outputs (448, 5, 875, 1)\n",
        "Filter\n",
        "Filter\n",
        "Filter\n"
       ]
      },
      {
       "output_type": "stream",
       "stream": "stdout",
       "text": [
        "Filter\n",
        "Filter\n"
       ]
      },
      {
       "output_type": "stream",
       "stream": "stdout",
       "text": [
        "[array([180,   0, 370,   0]), array([181,   0, 224,   0]), array([175,   0, 150,   0]), array([174,   0, 296,   0]), array([430,   0, 706,   0]), array([431,   0, 560,   0]), array([ 40,   0, 655,   0]), array([ 41,   0, 509,   0]), array([142,   0, 438,   0]), array([143,   0, 292,   0]), array([270,   0, 305,   0]), array([271,   0, 159,   0]), array([223,   0, 142,   0]), array([222,   0, 288,   0]), array([403,   0, 410,   0]), array([402,   0, 556,   0]), array([208,   0, 340,   0]), array([209,   0, 194,   0]), array([387,   0, 126,   0]), array([386,   0, 272,   0]), array([163,   0, 208,   0]), array([162,   0, 354,   0]), array([332,   0, 409,   0]), array([333,   0, 263,   0]), array([376,   0, 279,   0]), array([377,   0, 133,   0]), array([134,   0, 333,   0]), array([135,   0, 187,   0]), array([435,   0, 220,   0]), array([434,   0, 366,   0]), array([ 52,   0, 655,   0]), array([ 53,   0, 509,   0]), array([266,   0, 360,   0]), array([267,   0, 214,   0]), array([322,   0, 309,   0]), array([323,   0, 163,   0]), array([256,   0, 389,   0]), array([257,   0, 243,   0]), array([200,   0, 371,   0]), array([201,   0, 225,   0]), array([ 68,   0, 301,   0]), array([ 69,   0, 155,   0]), array([120,   0, 339,   0]), array([121,   0, 193,   0]), array([216,   0, 237,   0]), array([217,   0,  91,   0]), array([ 56,   0, 341,   0]), array([ 57,   0, 195,   0]), array([130,   0, 322,   0]), array([131,   0, 176,   0]), array([311,   0, 124,   0]), array([310,   0, 270,   0]), array([ 61,   0, 128,   0]), array([ 60,   0, 274,   0]), array([ 81,   0, 378,   0]), array([ 80,   0, 524,   0]), array([239,   0, 271,   0]), array([238,   0, 417,   0]), array([ 16,   0, 523,   0]), array([ 17,   0, 377,   0]), array([ 66,   0, 368,   0]), array([ 67,   0, 222,   0]), array([112,   0, 240,   0]), array([113,   0,  94,   0]), array([320,   0, 260,   0]), array([321,   0, 114,   0]), array([285,   0, 269,   0]), array([284,   0, 415,   0]), array([123,   0, 109,   0]), array([122,   0, 255,   0]), array([219,   0, 162,   0]), array([218,   0, 308,   0]), array([423,   0, 153,   0]), array([422,   0, 299,   0]), array([283,   0, 124,   0]), array([282,   0, 270,   0]), array([168,   0, 324,   0]), array([169,   0, 178,   0]), array([241,   0, 180,   0]), array([240,   0, 326,   0]), array([ 29,   0, 221,   0]), array([ 28,   0, 367,   0]), array([ 19,   0, 842,   0]), array([392,   0, 374,   0]), array([393,   0, 228,   0]), array([301,   0, 162,   0]), array([300,   0, 308,   0]), array([ 48,   0, 273,   0]), array([ 49,   0, 127,   0]), array([277,   0,  96,   0]), array([276,   0, 242,   0]), array([ 90,   0, 266,   0]), array([ 91,   0, 120,   0]), array([203,   0, 167,   0]), array([202,   0, 313,   0]), array([441,   0, 151,   0]), array([440,   0, 297,   0]), array([229,   0, 102,   0]), array([228,   0, 248,   0]), array([396,   0, 460,   0]), array([430,   1, 709,   0]), array([431,   1, 563,   0]), array([ 40,   1, 661,   0]), array([ 41,   1, 515,   0]), array([180,   1, 373,   0]), array([181,   1, 227,   0]), array([ 18,   1, 624,   0]), array([ 19,   1, 478,   0]), array([ 53,   1, 509,   0]), array([ 52,   1, 655,   0]), array([142,   1, 444,   0]), array([143,   1, 298,   0]), array([162,   1, 339,   0]), array([163,   1, 193,   0]), array([403,   1, 416,   0]), array([402,   1, 562,   0]), array([169,   1, 813,   0]), array([ 68,   1, 368,   0]), array([ 69,   1, 222,   0]), array([175,   1, 221,   0]), array([174,   1, 367,   0]), array([334,   1, 493,   0]), array([335,   1, 347,   0]), array([208,   1, 410,   0]), array([209,   1, 264,   0]), array([ 57,   1, 195,   0]), array([ 56,   1, 341,   0]), array([444,   1, 504,   0]), array([445,   1, 358,   0]), array([307,   1, 573,   0]), array([306,   1, 719,   0]), array([223,   1, 182,   0]), array([222,   1, 328,   0]), array([216,   1, 477,   0]), array([217,   1, 331,   0]), array([134,   1, 341,   0]), array([135,   1, 195,   0]), array([150,   1, 415,   0]), array([151,   1, 269,   0]), array([401,   1, 665,   0]), array([400,   1, 811,   0]), array([314,   1, 447,   0]), array([315,   1, 301,   0]), array([386,   1, 278,   0]), array([387,   1, 132,   0]), array([ 27,   1, 759,   0]), array([130,   1, 328,   0]), array([131,   1, 182,   0]), array([333,   1, 268,   0]), array([332,   1, 414,   0]), array([256,   1, 390,   0]), array([257,   1, 244,   0]), array([146,   1, 503,   0]), array([147,   1, 357,   0]), array([183,   1, 586,   0]), array([182,   1, 732,   0]), array([ 81,   1, 360,   0]), array([ 80,   1, 506,   0]), array([201,   1, 279,   0]), array([200,   1, 425,   0]), array([427,   1, 426,   0]), array([426,   1, 572,   0]), array([270,   1, 308,   0]), array([271,   1, 162,   0]), array([102,   1, 745,   0]), array([103,   1, 599,   0]), array([166,   1, 400,   0]), array([167,   1, 254,   0]), array([ 70,   1, 511,   0]), array([ 71,   1, 365,   0]), array([144,   1, 795,   0]), array([145,   1, 649,   0]), array([279,   1, 476,   0]), array([278,   1, 622,   0]), array([435,   1, 418,   0]), array([434,   1, 564,   0]), array([285,   1, 339,   0]), array([284,   1, 485,   0]), array([313,   1, 612,   0]), array([312,   1, 758,   0]), array([348,   1, 516,   0]), array([349,   1, 370,   0]), array([225,   1, 362,   0]), array([224,   1, 508,   0]), array([261,   1, 472,   0]), array([260,   1, 618,   0]), array([411,   1, 194,   0]), array([410,   1, 340,   0]), array([432,   1, 325,   0]), array([433,   1, 179,   0]), array([236,   1, 669,   0]), array([237,   1, 523,   0]), array([245,   1, 511,   0]), array([244,   1, 657,   0]), array([203,   1, 179,   0]), array([202,   1, 325,   0]), array([275,   1, 378,   0]), array([274,   1, 524,   0]), array([329,   1, 697,   0]), array([328,   1, 843,   0]), array([430,   2, 709,   0]), array([431,   2, 563,   0]), array([181,   2, 228,   0]), array([180,   2, 374,   0]), array([ 40,   2, 598,   0]), array([ 41,   2, 452,   0]), array([ 52,   2, 652,   0]), array([ 53,   2, 506,   0]), array([130,   2, 328,   0]), array([131,   2, 182,   0]), array([377,   2, 140,   0]), array([376,   2, 286,   0]), array([163,   2, 193,   0]), array([162,   2, 339,   0]), array([403,   2, 418,   0]), array([402,   2, 564,   0]), array([223,   2, 143,   0]), array([222,   2, 289,   0]), array([142,   2, 360,   0]), array([143,   2, 214,   0]), array([271,   2,  98,   0]), array([270,   2, 244,   0]), array([266,   2, 288,   0]), array([267,   2, 142,   0]), array([323,   2, 160,   0]), array([322,   2, 306,   0]), array([386,   2, 260,   0]), array([387,   2, 114,   0]), array([ 18,   2, 315,   0]), array([ 19,   2, 169,   0]), array([175,   2,  71,   0]), array([174,   2, 217,   0]), array([ 69,   2, 162,   0]), array([ 68,   2, 308,   0]), array([208,   2, 326,   0]), array([209,   2, 180,   0]), array([433,   2, 180,   0]), array([432,   2, 326,   0]), array([435,   2, 358,   0]), array([434,   2, 504,   0]), array([257,   2, 244,   0]), array([256,   2, 390,   0]), array([332,   2, 408,   0]), array([333,   2, 262,   0]), array([217,   2,  91,   0]), array([216,   2, 237,   0]), array([314,   2, 449,   0]), array([315,   2, 303,   0]), array([238,   2, 421,   0]), array([239,   2, 275,   0]), array([134,   2, 339,   0]), array([135,   2, 193,   0]), array([ 60,   2, 301,   0]), array([ 61,   2, 155,   0]), array([ 56,   2, 326,   0]), array([ 57,   2, 180,   0]), array([200,   2, 368,   0]), array([201,   2, 222,   0]), array([151,   2, 186,   0]), array([150,   2, 332,   0]), array([113,   2,  97,   0]), array([112,   2, 243,   0]), array([165,   2, 154,   0]), array([164,   2, 300,   0]), array([ 67,   2, 225,   0]), array([ 66,   2, 371,   0]), array([236,   2, 669,   0]), array([237,   2, 523,   0]), array([365,   2, 209,   0]), array([364,   2, 355,   0]), array([248,   2, 360,   0]), array([249,   2, 214,   0]), array([ 71,   2, 203,   0]), array([ 70,   2, 349,   0]), array([335,   2, 350,   0]), array([334,   2, 496,   0]), array([378,   2, 715,   0]), array([379,   2, 569,   0]), array([282,   2, 265,   0]), array([283,   2, 119,   0]), array([184,   2, 242,   0]), array([185,   2,  96,   0]), array([444,   2, 504,   0]), array([445,   2, 358,   0]), array([265,   2, 148,   0]), array([264,   2, 294,   0]), array([311,   2, 122,   0]), array([310,   2, 268,   0]), array([424,   2, 262,   0]), array([425,   2, 116,   0]), array([ 17,   2, 361,   0]), array([ 16,   2, 507,   0]), array([400,   2, 811,   0]), array([401,   2, 665,   0]), array([439,   2, 402,   0]), array([438,   2, 548,   0]), array([320,   2, 278,   0]), array([321,   2, 132,   0]), array([ 64,   2, 652,   0]), array([ 65,   2, 506,   0]), array([181,   3, 215,   0]), array([180,   3, 361,   0]), array([387,   3, 117,   0]), array([386,   3, 263,   0]), array([175,   3,  81,   0]), array([174,   3, 227,   0]), array([332,   3, 407,   0]), array([333,   3, 261,   0]), array([430,   3, 699,   0]), array([431,   3, 553,   0]), array([223,   3, 144,   0]), array([222,   3, 290,   0]), array([ 52,   3, 656,   0]), array([ 53,   3, 510,   0]), array([209,   3, 182,   0]), array([208,   3, 328,   0]), array([ 40,   3, 584,   0]), array([ 41,   3, 438,   0]), array([323,   3, 160,   0]), array([322,   3, 306,   0]), array([266,   3, 357,   0]), array([267,   3, 211,   0]), array([434,   3, 357,   0]), array([435,   3, 211,   0]), array([311,   3, 124,   0]), array([310,   3, 270,   0]), array([376,   3, 280,   0]), array([377,   3, 134,   0]), array([134,   3, 336,   0]), array([135,   3, 190,   0]), array([143,   3, 292,   0]), array([142,   3, 438,   0]), array([282,   3, 266,   0]), array([283,   3, 120,   0]), array([ 61,   3, 148,   0]), array([ 60,   3, 294,   0]), array([271,   3, 141,   0]), array([270,   3, 287,   0]), array([216,   3, 240,   0]), array([217,   3,  94,   0]), array([239,   3, 281,   0]), array([238,   3, 427,   0]), array([ 27,   3, 170,   0]), array([ 26,   3, 316,   0]), array([ 91,   3, 122,   0]), array([ 90,   3, 268,   0]), array([277,   3,  87,   0]), array([276,   3, 233,   0]), array([218,   3, 305,   0]), array([219,   3, 159,   0]), array([ 57,   3, 183,   0]), array([ 56,   3, 329,   0]), array([130,   3, 331,   0]), array([131,   3, 185,   0]), array([200,   3, 371,   0]), array([201,   3, 225,   0]), array([442,   3, 249,   0]), array([443,   3, 103,   0]), array([121,   3, 189,   0]), array([120,   3, 335,   0]), array([113,   3,  94,   0]), array([112,   3, 240,   0]), array([402,   3, 550,   0]), array([403,   3, 404,   0]), array([440,   3, 283,   0]), array([441,   3, 137,   0]), array([257,   3, 211,   0]), array([256,   3, 357,   0]), array([320,   3, 280,   0]), array([321,   3, 134,   0]), array([370,   3, 393,   0]), array([371,   3, 247,   0]), array([ 81,   3, 371,   0]), array([ 80,   3, 517,   0]), array([ 66,   3, 371,   0]), array([ 67,   3, 225,   0]), array([162,   3, 351,   0]), array([163,   3, 205,   0]), array([133,   3, 110,   0]), array([132,   3, 256,   0]), array([ 19,   3, 853,   0]), array([392,   3, 371,   0]), array([393,   3, 225,   0]), array([123,   3,  82,   0]), array([122,   3, 228,   0]), array([438,   3, 384,   0]), array([439,   3, 238,   0]), array([ 29,   3, 212,   0]), array([ 28,   3, 358,   0]), array([275,   3, 293,   0]), array([274,   3, 439,   0]), array([249,   3, 213,   0]), array([248,   3, 359,   0]), array([141,   3, 173,   0]), array([140,   3, 319,   0]), array([111,   3, 874,   0]), array([173,   3,  89,   0]), array([172,   3, 235,   0]), array([294,   3, 257,   0]), array([295,   3, 111,   0]), array([ 41,   4, 526,   0]), array([ 40,   4, 672,   0]), array([430,   4, 720,   0]), array([431,   4, 574,   0]), array([181,   4, 217,   0]), array([180,   4, 363,   0]), array([402,   4, 550,   0]), array([403,   4, 404,   0]), array([143,   4, 289,   0]), array([142,   4, 435,   0]), array([ 19,   4, 836,   0]), array([163,   4, 202,   0]), array([162,   4, 348,   0]), array([ 18,   4, 634,   0]), array([151,   4, 259,   0]), array([150,   4, 405,   0]), array([400,   4, 817,   0]), array([401,   4, 671,   0]), array([169,   4, 799,   0]), array([333,   4, 306,   0]), array([332,   4, 452,   0]), array([222,   4, 337,   0]), array([223,   4, 191,   0]), array([305,   4, 532,   0]), array([304,   4, 678,   0]), array([279,   4, 464,   0]), array([278,   4, 610,   0]), array([200,   4, 434,   0]), array([201,   4, 288,   0]), array([ 69,   4, 213,   0]), array([ 68,   4, 359,   0]), array([386,   4, 266,   0]), array([387,   4, 120,   0]), array([335,   4, 332,   0]), array([334,   4, 478,   0]), array([328,   4, 831,   0]), array([329,   4, 685,   0]), array([225,   4, 371,   0]), array([224,   4, 517,   0]), array([145,   4, 657,   0]), array([144,   4, 803,   0]), array([ 26,   4, 653,   0]), array([ 27,   4, 507,   0]), array([122,   4, 696,   0]), array([123,   4, 550,   0]), array([ 52,   4, 637,   0]), array([ 53,   4, 491,   0]), array([434,   4, 487,   0]), array([435,   4, 341,   0]), array([217,   4, 344,   0]), array([216,   4, 490,   0]), array([361,   4, 315,   0]), array([360,   4, 461,   0]), array([379,   4, 551,   0]), array([378,   4, 697,   0]), array([226,   4, 661,   0]), array([227,   4, 515,   0]), array([135,   4, 194,   0]), array([134,   4, 340,   0]), array([377,   4, 203,   0]), array([376,   4, 349,   0]), array([267,   4, 214,   0]), array([266,   4, 360,   0]), array([427,   4, 411,   0]), array([426,   4, 557,   0]), array([ 57,   4, 816,   0]), array([383,   4, 600,   0]), array([382,   4, 746,   0]), array([245,   4, 518,   0]), array([244,   4, 664,   0]), array([445,   4, 340,   0]), array([444,   4, 486,   0]), array([ 17,   4, 372,   0]), array([ 16,   4, 518,   0]), array([ 31,   4, 537,   0]), array([ 30,   4, 683,   0]), array([271,   4, 174,   0]), array([270,   4, 320,   0]), array([ 71,   4, 192,   0]), array([ 70,   4, 338,   0]), array([103,   4, 610,   0]), array([102,   4, 756,   0]), array([ 81,   4, 371,   0]), array([ 80,   4, 517,   0]), array([260,   4, 603,   0]), array([261,   4, 457,   0]), array([250,   4, 510,   0]), array([251,   4, 364,   0]), array([348,   4, 495,   0]), array([349,   4, 349,   0]), array([209,   4, 277,   0]), array([208,   4, 423,   0]), array([175,   4, 144,   0]), array([174,   4, 290,   0]), array([320,   4, 533,   0]), array([321,   4, 387,   0]), array([ 67,   4, 292,   0]), array([ 66,   4, 438,   0]), array([307,   4, 585,   0]), array([306,   4, 731,   0])]\n",
        "max units\n",
        "[array([0, 1, 2, 3, 4, 5, 6, 7, 8]), array([ 9, 10, 11, 12, 13, 14, 15, 16, 17]), array([18, 19, 20, 21, 22, 23, 24, 25, 26]), array([27, 28, 29, 30, 31, 32, 33, 34, 35]), array([36, 37, 38, 39, 40, 41, 42, 43, 44]), array([45, 46, 47, 48, 49, 50, 51, 52, 53]), array([54, 55, 56, 57, 58, 59, 60, 61, 62]), array([63, 64, 65, 66, 67, 68, 69, 70, 71]), array([72, 73, 74, 75, 76, 77, 78, 79, 80]), array([81, 82, 83, 84, 85, 86, 87, 88, 89]), array([90, 91, 92, 93, 94, 95, 96, 97, 98]), array([ 99, 100, 101, 102, 103, 104, 105, 106, 107]), array([108, 109, 110, 111, 112, 113, 114, 115, 116]), array([117, 118, 119, 120, 121, 122, 123, 124, 125]), array([126, 127, 128, 129, 130, 131, 132, 133, 134]), array([135, 136, 137, 138, 139, 140, 141, 142, 143]), array([144, 145, 146, 147, 148, 149, 150, 151, 152]), array([153, 154, 155, 156, 157, 158, 159, 160, 161]), array([162, 163, 164, 165, 166, 167, 168, 169, 170]), array([171, 172, 173, 174, 175, 176, 177, 178, 179]), array([180, 181, 182, 183, 184, 185, 186, 187]), array([188, 189, 190, 191, 192, 193, 194, 195]), array([196, 197, 198, 199, 200, 201, 202, 203]), array([204, 205, 206, 207, 208, 209, 210, 211]), array([212, 213, 214, 215, 216, 217, 218, 219]), array([220, 221, 222, 223, 224, 225, 226, 227]), array([228, 229, 230, 231, 232, 233, 234, 235]), array([236, 237, 238, 239, 240, 241, 242, 243]), array([244, 245, 246, 247, 248, 249, 250, 251]), array([252, 253, 254, 255, 256, 257, 258, 259]), array([260, 261, 262, 263, 264, 265, 266, 267]), array([268, 269, 270, 271, 272, 273, 274, 275]), array([276, 277, 278, 279, 280, 281, 282, 283]), array([284, 285, 286, 287, 288, 289, 290, 291]), array([292, 293, 294, 295, 296, 297, 298, 299]), array([300, 301, 302, 303, 304, 305, 306, 307]), array([308, 309, 310, 311, 312, 313, 314, 315]), array([316, 317, 318, 319, 320, 321, 322, 323]), array([324, 325, 326, 327, 328, 329, 330, 331]), array([332, 333, 334, 335, 336, 337, 338, 339]), array([340, 341, 342, 343, 344, 345, 346, 347]), array([348, 349, 350, 351, 352, 353, 354, 355]), array([356, 357, 358, 359, 360, 361, 362, 363]), array([364, 365, 366, 367, 368, 369, 370, 371]), array([372, 373, 374, 375, 376, 377, 378, 379]), array([380, 381, 382, 383, 384, 385, 386, 387]), array([388, 389, 390, 391, 392, 393, 394, 395]), array([396, 397, 398, 399, 400, 401, 402, 403]), array([404, 405, 406, 407, 408, 409, 410, 411]), array([412, 413, 414, 415, 416, 417, 418, 419]), array([420, 421, 422, 423, 424, 425, 426, 427]), array([428, 429, 430, 431, 432, 433, 434, 435]), array([436, 437, 438, 439, 440, 441, 442, 443]), array([444, 445, 446, 447, 448, 449, 450, 451]), array([452, 453, 454, 455, 456, 457, 458, 459]), array([460, 461, 462, 463, 464, 465, 466, 467]), array([468, 469, 470, 471, 472, 473, 474, 475]), array([476, 477, 478, 479, 480, 481, 482, 483]), array([484, 485, 486, 487, 488, 489, 490, 491]), array([492, 493, 494, 495, 496, 497, 498, 499])]\n",
        "Batch\n",
        "!!!W!!! Prod{acc_dtype=int64}.0\n",
        "!!!W!!! Prod{acc_dtype=int64}.0\n"
       ]
      },
      {
       "output_type": "stream",
       "stream": "stdout",
       "text": [
        "Batch\n",
        "!!!W!!! Prod{acc_dtype=int64}.0\n",
        "!!!W!!! Prod{acc_dtype=int64}.0\n"
       ]
      },
      {
       "output_type": "stream",
       "stream": "stdout",
       "text": [
        "Batch\n",
        "!!!W!!! Prod{acc_dtype=int64}.0\n",
        "!!!W!!! Prod{acc_dtype=int64}.0\n"
       ]
      },
      {
       "output_type": "stream",
       "stream": "stdout",
       "text": [
        "Batch\n",
        "!!!W!!! Prod{acc_dtype=int64}.0\n",
        "!!!W!!! Prod{acc_dtype=int64}.0\n"
       ]
      },
      {
       "output_type": "stream",
       "stream": "stdout",
       "text": [
        "Batch\n",
        "!!!W!!! Prod{acc_dtype=int64}.0\n",
        "!!!W!!! Prod{acc_dtype=int64}.0\n"
       ]
      },
      {
       "output_type": "stream",
       "stream": "stdout",
       "text": [
        "Batch\n",
        "!!!W!!! Prod{acc_dtype=int64}.0\n",
        "!!!W!!! Prod{acc_dtype=int64}.0\n"
       ]
      },
      {
       "output_type": "stream",
       "stream": "stdout",
       "text": [
        "Batch\n",
        "!!!W!!! Prod{acc_dtype=int64}.0\n",
        "!!!W!!! Prod{acc_dtype=int64}.0\n"
       ]
      },
      {
       "output_type": "stream",
       "stream": "stdout",
       "text": [
        "Batch\n",
        "!!!W!!! Prod{acc_dtype=int64}.0\n",
        "!!!W!!! Prod{acc_dtype=int64}.0\n"
       ]
      },
      {
       "output_type": "stream",
       "stream": "stdout",
       "text": [
        "Batch\n",
        "!!!W!!! Prod{acc_dtype=int64}.0\n",
        "!!!W!!! Prod{acc_dtype=int64}.0\n"
       ]
      },
      {
       "output_type": "stream",
       "stream": "stdout",
       "text": [
        "Batch\n",
        "!!!W!!! Prod{acc_dtype=int64}.0\n",
        "!!!W!!! Prod{acc_dtype=int64}.0\n"
       ]
      },
      {
       "output_type": "stream",
       "stream": "stdout",
       "text": [
        "Batch\n",
        "!!!W!!! Prod{acc_dtype=int64}.0\n",
        "!!!W!!! Prod{acc_dtype=int64}.0\n"
       ]
      },
      {
       "output_type": "stream",
       "stream": "stdout",
       "text": [
        "Batch\n",
        "!!!W!!! Prod{acc_dtype=int64}.0\n",
        "!!!W!!! Prod{acc_dtype=int64}.0\n"
       ]
      },
      {
       "output_type": "stream",
       "stream": "stdout",
       "text": [
        "Batch\n",
        "!!!W!!! Prod{acc_dtype=int64}.0\n",
        "!!!W!!! Prod{acc_dtype=int64}.0\n"
       ]
      },
      {
       "output_type": "stream",
       "stream": "stdout",
       "text": [
        "Batch\n",
        "!!!W!!! Prod{acc_dtype=int64}.0\n",
        "!!!W!!! Prod{acc_dtype=int64}.0\n"
       ]
      },
      {
       "output_type": "stream",
       "stream": "stdout",
       "text": [
        "Batch\n",
        "!!!W!!! Prod{acc_dtype=int64}.0\n",
        "!!!W!!! Prod{acc_dtype=int64}.0\n"
       ]
      },
      {
       "output_type": "stream",
       "stream": "stdout",
       "text": [
        "Batch\n",
        "!!!W!!! Prod{acc_dtype=int64}.0\n",
        "!!!W!!! Prod{acc_dtype=int64}.0\n"
       ]
      },
      {
       "output_type": "stream",
       "stream": "stdout",
       "text": [
        "Batch\n",
        "!!!W!!! Prod{acc_dtype=int64}.0\n",
        "!!!W!!! Prod{acc_dtype=int64}.0\n"
       ]
      },
      {
       "output_type": "stream",
       "stream": "stdout",
       "text": [
        "Batch\n",
        "!!!W!!! Prod{acc_dtype=int64}.0\n",
        "!!!W!!! Prod{acc_dtype=int64}.0\n"
       ]
      },
      {
       "output_type": "stream",
       "stream": "stdout",
       "text": [
        "Batch\n",
        "!!!W!!! Prod{acc_dtype=int64}.0\n",
        "!!!W!!! Prod{acc_dtype=int64}.0\n"
       ]
      },
      {
       "output_type": "stream",
       "stream": "stdout",
       "text": [
        "Batch\n",
        "!!!W!!! Prod{acc_dtype=int64}.0\n",
        "!!!W!!! Prod{acc_dtype=int64}.0\n"
       ]
      },
      {
       "output_type": "stream",
       "stream": "stdout",
       "text": [
        "Batch\n",
        "!!!W!!! Prod{acc_dtype=int64}.0\n",
        "!!!W!!! Prod{acc_dtype=int64}.0\n"
       ]
      },
      {
       "output_type": "stream",
       "stream": "stdout",
       "text": [
        "Batch\n",
        "!!!W!!! Prod{acc_dtype=int64}.0\n",
        "!!!W!!! Prod{acc_dtype=int64}.0\n"
       ]
      },
      {
       "output_type": "stream",
       "stream": "stdout",
       "text": [
        "Batch\n",
        "!!!W!!! Prod{acc_dtype=int64}.0\n",
        "!!!W!!! Prod{acc_dtype=int64}.0\n"
       ]
      },
      {
       "output_type": "stream",
       "stream": "stdout",
       "text": [
        "Batch\n",
        "!!!W!!! Prod{acc_dtype=int64}.0\n",
        "!!!W!!! Prod{acc_dtype=int64}.0\n"
       ]
      },
      {
       "output_type": "stream",
       "stream": "stdout",
       "text": [
        "Batch\n",
        "!!!W!!! Prod{acc_dtype=int64}.0\n",
        "!!!W!!! Prod{acc_dtype=int64}.0\n"
       ]
      },
      {
       "output_type": "stream",
       "stream": "stdout",
       "text": [
        "Batch\n",
        "!!!W!!! Prod{acc_dtype=int64}.0\n",
        "!!!W!!! Prod{acc_dtype=int64}.0\n"
       ]
      },
      {
       "output_type": "stream",
       "stream": "stdout",
       "text": [
        "Batch\n",
        "!!!W!!! Prod{acc_dtype=int64}.0\n",
        "!!!W!!! Prod{acc_dtype=int64}.0\n"
       ]
      },
      {
       "output_type": "stream",
       "stream": "stdout",
       "text": [
        "Batch\n",
        "!!!W!!! Prod{acc_dtype=int64}.0\n",
        "!!!W!!! Prod{acc_dtype=int64}.0\n"
       ]
      },
      {
       "output_type": "stream",
       "stream": "stdout",
       "text": [
        "Batch\n",
        "!!!W!!! Prod{acc_dtype=int64}.0\n",
        "!!!W!!! Prod{acc_dtype=int64}.0\n"
       ]
      },
      {
       "output_type": "stream",
       "stream": "stdout",
       "text": [
        "Batch\n",
        "!!!W!!! Prod{acc_dtype=int64}.0\n",
        "!!!W!!! Prod{acc_dtype=int64}.0\n"
       ]
      },
      {
       "output_type": "stream",
       "stream": "stdout",
       "text": [
        "Batch\n",
        "!!!W!!! Prod{acc_dtype=int64}.0\n",
        "!!!W!!! Prod{acc_dtype=int64}.0\n"
       ]
      },
      {
       "output_type": "stream",
       "stream": "stdout",
       "text": [
        "Batch\n",
        "!!!W!!! Prod{acc_dtype=int64}.0\n",
        "!!!W!!! Prod{acc_dtype=int64}.0\n"
       ]
      },
      {
       "output_type": "stream",
       "stream": "stdout",
       "text": [
        "Batch\n",
        "!!!W!!! Prod{acc_dtype=int64}.0\n",
        "!!!W!!! Prod{acc_dtype=int64}.0\n"
       ]
      },
      {
       "output_type": "stream",
       "stream": "stdout",
       "text": [
        "Batch\n",
        "!!!W!!! Prod{acc_dtype=int64}.0\n",
        "!!!W!!! Prod{acc_dtype=int64}.0\n"
       ]
      },
      {
       "output_type": "stream",
       "stream": "stdout",
       "text": [
        "Batch\n",
        "!!!W!!! Prod{acc_dtype=int64}.0\n",
        "!!!W!!! Prod{acc_dtype=int64}.0\n"
       ]
      },
      {
       "output_type": "stream",
       "stream": "stdout",
       "text": [
        "Batch\n",
        "!!!W!!! Prod{acc_dtype=int64}.0\n",
        "!!!W!!! Prod{acc_dtype=int64}.0\n"
       ]
      },
      {
       "output_type": "stream",
       "stream": "stdout",
       "text": [
        "Batch\n",
        "!!!W!!! Prod{acc_dtype=int64}.0\n",
        "!!!W!!! Prod{acc_dtype=int64}.0\n"
       ]
      },
      {
       "output_type": "stream",
       "stream": "stdout",
       "text": [
        "Batch\n",
        "!!!W!!! Prod{acc_dtype=int64}.0\n",
        "!!!W!!! Prod{acc_dtype=int64}.0\n"
       ]
      },
      {
       "output_type": "stream",
       "stream": "stdout",
       "text": [
        "Batch\n",
        "!!!W!!! Prod{acc_dtype=int64}.0\n",
        "!!!W!!! Prod{acc_dtype=int64}.0\n"
       ]
      },
      {
       "output_type": "stream",
       "stream": "stdout",
       "text": [
        "Batch\n",
        "!!!W!!! Prod{acc_dtype=int64}.0\n",
        "!!!W!!! Prod{acc_dtype=int64}.0\n"
       ]
      },
      {
       "output_type": "stream",
       "stream": "stdout",
       "text": [
        "Batch\n",
        "!!!W!!! Prod{acc_dtype=int64}.0\n",
        "!!!W!!! Prod{acc_dtype=int64}.0\n"
       ]
      },
      {
       "output_type": "stream",
       "stream": "stdout",
       "text": [
        "Batch\n",
        "!!!W!!! Prod{acc_dtype=int64}.0\n",
        "!!!W!!! Prod{acc_dtype=int64}.0\n"
       ]
      },
      {
       "output_type": "stream",
       "stream": "stdout",
       "text": [
        "Batch\n",
        "!!!W!!! Prod{acc_dtype=int64}.0\n",
        "!!!W!!! Prod{acc_dtype=int64}.0\n"
       ]
      },
      {
       "output_type": "stream",
       "stream": "stdout",
       "text": [
        "Batch\n",
        "!!!W!!! Prod{acc_dtype=int64}.0\n",
        "!!!W!!! Prod{acc_dtype=int64}.0\n"
       ]
      },
      {
       "output_type": "stream",
       "stream": "stdout",
       "text": [
        "Batch\n",
        "!!!W!!! Prod{acc_dtype=int64}.0\n",
        "!!!W!!! Prod{acc_dtype=int64}.0\n"
       ]
      },
      {
       "output_type": "stream",
       "stream": "stdout",
       "text": [
        "Batch\n",
        "!!!W!!! Prod{acc_dtype=int64}.0\n",
        "!!!W!!! Prod{acc_dtype=int64}.0\n"
       ]
      },
      {
       "output_type": "stream",
       "stream": "stdout",
       "text": [
        "Batch\n",
        "!!!W!!! Prod{acc_dtype=int64}.0\n",
        "!!!W!!! Prod{acc_dtype=int64}.0\n"
       ]
      },
      {
       "output_type": "stream",
       "stream": "stdout",
       "text": [
        "Batch\n",
        "!!!W!!! Prod{acc_dtype=int64}.0\n",
        "!!!W!!! Prod{acc_dtype=int64}.0\n"
       ]
      },
      {
       "output_type": "stream",
       "stream": "stdout",
       "text": [
        "Batch\n",
        "!!!W!!! Prod{acc_dtype=int64}.0\n",
        "!!!W!!! Prod{acc_dtype=int64}.0\n"
       ]
      },
      {
       "output_type": "stream",
       "stream": "stdout",
       "text": [
        "Batch\n",
        "!!!W!!! Prod{acc_dtype=int64}.0\n",
        "!!!W!!! Prod{acc_dtype=int64}.0\n"
       ]
      },
      {
       "output_type": "stream",
       "stream": "stdout",
       "text": [
        "Batch\n",
        "!!!W!!! Prod{acc_dtype=int64}.0\n",
        "!!!W!!! Prod{acc_dtype=int64}.0\n"
       ]
      },
      {
       "output_type": "stream",
       "stream": "stdout",
       "text": [
        "Batch\n",
        "!!!W!!! Prod{acc_dtype=int64}.0\n",
        "!!!W!!! Prod{acc_dtype=int64}.0\n"
       ]
      },
      {
       "output_type": "stream",
       "stream": "stdout",
       "text": [
        "Batch\n",
        "!!!W!!! Prod{acc_dtype=int64}.0\n",
        "!!!W!!! Prod{acc_dtype=int64}.0\n"
       ]
      },
      {
       "output_type": "stream",
       "stream": "stdout",
       "text": [
        "Batch\n",
        "!!!W!!! Prod{acc_dtype=int64}.0\n",
        "!!!W!!! Prod{acc_dtype=int64}.0\n"
       ]
      },
      {
       "output_type": "stream",
       "stream": "stdout",
       "text": [
        "Batch\n",
        "!!!W!!! Prod{acc_dtype=int64}.0\n",
        "!!!W!!! Prod{acc_dtype=int64}.0\n"
       ]
      },
      {
       "output_type": "stream",
       "stream": "stdout",
       "text": [
        "Batch\n",
        "!!!W!!! Prod{acc_dtype=int64}.0\n",
        "!!!W!!! Prod{acc_dtype=int64}.0\n"
       ]
      },
      {
       "output_type": "stream",
       "stream": "stdout",
       "text": [
        "Batch\n",
        "!!!W!!! Prod{acc_dtype=int64}.0\n",
        "!!!W!!! Prod{acc_dtype=int64}.0\n"
       ]
      },
      {
       "output_type": "stream",
       "stream": "stdout",
       "text": [
        "Batch\n",
        "!!!W!!! Prod{acc_dtype=int64}.0\n",
        "!!!W!!! Prod{acc_dtype=int64}.0\n"
       ]
      },
      {
       "output_type": "stream",
       "stream": "stdout",
       "text": [
        "Batch\n",
        "!!!W!!! Prod{acc_dtype=int64}.0\n",
        "!!!W!!! Prod{acc_dtype=int64}.0\n"
       ]
      },
      {
       "output_type": "stream",
       "stream": "stdout",
       "text": [
        "Batch\n",
        "!!!W!!! Prod{acc_dtype=int64}.0\n",
        "!!!W!!! Prod{acc_dtype=int64}.0\n"
       ]
      },
      {
       "output_type": "stream",
       "stream": "stdout",
       "text": [
        "Outputs (448, 5, 614, 1)\n",
        "Filter\n",
        "Filter\n",
        "Filter\n",
        "Filter\n"
       ]
      },
      {
       "output_type": "stream",
       "stream": "stdout",
       "text": [
        "Filter\n",
        "[array([ 23,   0, 508,   0]), array([229,   0, 533,   0]), array([311,   0, 580,   0]), array([228,   0, 580,   0]), array([331,   0, 423,   0]), array([330,   0, 569,   0]), array([440,   0, 222,   0]), array([441,   0,  76,   0]), array([ 22,   0, 612,   0]), array([310,   0, 609,   0]), array([285,   0, 562,   0]), array([429,   0, 523,   0]), array([389,   0, 276,   0]), array([388,   0, 422,   0]), array([ 21,   0, 285,   0]), array([ 20,   0, 431,   0]), array([345,   0, 105,   0]), array([344,   0, 251,   0]), array([387,   0, 333,   0]), array([386,   0, 479,   0]), array([416,   0, 558,   0]), array([417,   0, 412,   0]), array([341,   0, 489,   0]), array([340,   0, 575,   0]), array([420,   0, 305,   0]), array([421,   0, 159,   0]), array([428,   0, 434,   0]), array([402,   0, 608,   0]), array([403,   0, 462,   0]), array([303,   0, 591,   0]), array([411,   0, 488,   0]), array([ 94,   0, 512,   0]), array([ 95,   0, 366,   0]), array([293,   0, 144,   0]), array([292,   0, 290,   0]), array([375,   0, 556,   0]), array([374,   0, 556,   0]), array([401,   0, 259,   0]), array([400,   0, 405,   0]), array([385,   0, 550,   0]), array([ 18,   0, 569,   0]), array([ 19,   0, 423,   0]), array([425,   0, 595,   0]), array([353,   0, 258,   0]), array([352,   0, 404,   0]), array([391,   0, 523,   0]), array([413,   0, 480,   0]), array([149,   0, 404,   0]), array([148,   0, 550,   0]), array([436,   0, 336,   0]), array([437,   0, 190,   0]), array([414,   0, 419,   0]), array([415,   0, 273,   0]), array([445,   0, 155,   0]), array([444,   0, 301,   0]), array([ 17,   0, 561,   0]), array([ 88,   0, 499,   0]), array([ 89,   0, 353,   0]), array([349,   0, 337,   0]), array([348,   0, 483,   0]), array([ 24,   0, 449,   0]), array([ 25,   0, 303,   0]), array([412,   0, 611,   0]), array([408,   0, 466,   0]), array([409,   0, 320,   0]), array([302,   0, 606,   0]), array([432,   0, 367,   0]), array([433,   0, 221,   0]), array([ 13,   0, 498,   0]), array([347,   0, 318,   0]), array([346,   0, 464,   0]), array([410,   0, 613,   0]), array([113,   0, 477,   0]), array([112,   0, 434,   0]), array([142,   0, 205,   0]), array([143,   0,  59,   0]), array([107,   0, 529,   0]), array([120,   0, 502,   0]), array([121,   0, 356,   0]), array([130,   0, 590,   0]), array([131,   0, 444,   0]), array([358,   0, 228,   0]), array([359,   0,  82,   0]), array([102,   0, 265,   0]), array([103,   0, 119,   0]), array([154,   0, 483,   0]), array([155,   0, 337,   0]), array([188,   0, 603,   0]), array([189,   0, 457,   0]), array([351,   0, 589,   0]), array([194,   0, 447,   0]), array([195,   0, 301,   0]), array([ 34,   0, 540,   0]), array([ 35,   0, 394,   0]), array([283,   0, 183,   0]), array([282,   0, 329,   0]), array([280,   0, 305,   0]), array([281,   0, 159,   0]), array([196,   0, 404,   0]), array([197,   0, 258,   0]), array([229,   1, 579,   0]), array([ 23,   1, 495,   0]), array([311,   1, 564,   0]), array([429,   1, 529,   0]), array([228,   1, 577,   0]), array([ 22,   1, 606,   0]), array([330,   1, 569,   0]), array([331,   1, 423,   0]), array([420,   1, 460,   0]), array([421,   1, 314,   0]), array([375,   1, 402,   0]), array([374,   1, 548,   0]), array([ 20,   1, 446,   0]), array([ 21,   1, 300,   0]), array([441,   1,  83,   0]), array([440,   1, 229,   0]), array([310,   1, 602,   0]), array([345,   1, 102,   0]), array([344,   1, 248,   0]), array([387,   1, 327,   0]), array([386,   1, 473,   0]), array([285,   1, 556,   0]), array([417,   1, 427,   0]), array([416,   1, 573,   0]), array([388,   1, 538,   0]), array([389,   1, 392,   0]), array([400,   1, 450,   0]), array([401,   1, 304,   0]), array([341,   1, 504,   0]), array([428,   1, 431,   0]), array([353,   1, 248,   0]), array([352,   1, 394,   0]), array([425,   1, 502,   0]), array([340,   1, 581,   0]), array([303,   1, 578,   0]), array([402,   1, 550,   0]), array([403,   1, 404,   0]), array([ 25,   1, 521,   0]), array([411,   1, 482,   0]), array([ 94,   1, 488,   0]), array([ 95,   1, 342,   0]), array([ 18,   1, 327,   0]), array([ 19,   1, 181,   0]), array([ 24,   1, 434,   0]), array([413,   1, 477,   0]), array([437,   1,  97,   0]), array([436,   1, 243,   0]), array([346,   1, 497,   0]), array([347,   1, 351,   0]), array([ 88,   1, 448,   0]), array([ 89,   1, 302,   0]), array([272,   1, 314,   0]), array([273,   1, 168,   0]), array([358,   1, 228,   0]), array([359,   1,  82,   0]), array([107,   1, 586,   0]), array([438,   1,  99,   0]), array([ 55,   1, 430,   0]), array([ 54,   1, 576,   0]), array([293,   1, 138,   0]), array([292,   1, 284,   0]), array([ 17,   1, 555,   0]), array([149,   1, 271,   0]), array([148,   1, 417,   0]), array([120,   1, 526,   0]), array([121,   1, 380,   0]), array([423,   1, 352,   0]), array([422,   1, 498,   0]), array([348,   1, 241,   0]), array([349,   1,  95,   0]), array([414,   1, 418,   0]), array([415,   1, 272,   0]), array([444,   1, 367,   0]), array([445,   1, 221,   0]), array([  8,   1, 338,   0]), array([  9,   1, 192,   0]), array([103,   1, 104,   0]), array([102,   1, 250,   0]), array([280,   1, 360,   0]), array([281,   1, 214,   0]), array([385,   1, 589,   0]), array([410,   1, 609,   0]), array([137,   1, 273,   0]), array([136,   1, 419,   0]), array([195,   1, 307,   0]), array([194,   1, 453,   0]), array([306,   1, 152,   0]), array([307,   1,   6,   0]), array([302,   1, 597,   0]), array([69,  1, 68,  0]), array([ 68,   1, 214,   0]), array([412,   1, 608,   0]), array([282,   1, 304,   0]), array([283,   1, 158,   0]), array([391,   1, 538,   0]), array([196,   1, 440,   0]), array([197,   1, 294,   0]), array([408,   1, 466,   0]), array([409,   1, 320,   0]), array([433,   1, 309,   0]), array([ 23,   2, 586,   0]), array([311,   2, 562,   0]), array([229,   2, 587,   0]), array([228,   2, 607,   0]), array([330,   2, 557,   0]), array([331,   2, 411,   0]), array([429,   2, 514,   0]), array([420,   2, 460,   0]), array([421,   2, 314,   0]), array([ 22,   2, 606,   0]), array([310,   2, 603,   0]), array([441,   2, 108,   0]), array([440,   2, 254,   0]), array([386,   2, 473,   0]), array([387,   2, 327,   0]), array([ 21,   2, 300,   0]), array([ 20,   2, 446,   0]), array([303,   2, 591,   0]), array([285,   2, 589,   0]), array([417,   2, 412,   0]), array([416,   2, 558,   0]), array([345,   2, 149,   0]), array([344,   2, 295,   0]), array([403,   2, 462,   0]), array([402,   2, 608,   0]), array([341,   2, 429,   0]), array([340,   2, 575,   0]), array([389,   2, 392,   0]), array([388,   2, 538,   0]), array([ 25,   2, 530,   0]), array([374,   2, 556,   0]), array([375,   2, 410,   0]), array([352,   2, 403,   0]), array([353,   2, 257,   0]), array([ 94,   2, 512,   0]), array([ 95,   2, 366,   0]), array([ 18,   2, 561,   0]), array([ 19,   2, 415,   0]), array([ 24,   2, 431,   0]), array([293,   2, 144,   0]), array([292,   2, 290,   0]), array([428,   2, 434,   0]), array([413,   2, 480,   0]), array([425,   2, 610,   0]), array([400,   2, 442,   0]), array([401,   2, 296,   0]), array([149,   2, 296,   0]), array([148,   2, 442,   0]), array([411,   2, 488,   0]), array([347,   2, 318,   0]), array([346,   2, 464,   0]), array([349,   2, 337,   0]), array([348,   2, 483,   0]), array([  9,   2, 191,   0]), array([  8,   2, 337,   0]), array([414,   2, 469,   0]), array([415,   2, 323,   0]), array([436,   2, 261,   0]), array([437,   2, 115,   0]), array([445,   2, 185,   0]), array([444,   2, 331,   0]), array([ 17,   2, 543,   0]), array([197,   2, 312,   0]), array([196,   2, 458,   0]), array([351,   2, 580,   0]), array([ 89,   2, 296,   0]), array([ 88,   2, 442,   0]), array([302,   2, 594,   0]), array([272,   2, 323,   0]), array([273,   2, 177,   0]), array([143,   2,  59,   0]), array([142,   2, 205,   0]), array([432,   2, 367,   0]), array([433,   2, 221,   0]), array([412,   2, 605,   0]), array([103,   2, 100,   0]), array([102,   2, 246,   0]), array([306,   2, 149,   0]), array([307,   2,   3,   0]), array([194,   2, 480,   0]), array([195,   2, 334,   0]), array([136,   2, 428,   0]), array([137,   2, 282,   0]), array([281,   2, 190,   0]), array([280,   2, 336,   0]), array([329,   2, 156,   0]), array([328,   2, 302,   0]), array([385,   2, 595,   0]), array([ 54,   2, 573,   0]), array([ 55,   2, 427,   0]), array([131,   2, 459,   0]), array([130,   2, 605,   0]), array([409,   2, 256,   0]), array([408,   2, 402,   0]), array([422,   2, 464,   0]), array([423,   2, 318,   0]), array([419,   2, 353,   0]), array([418,   2, 499,   0]), array([ 13,   2, 498,   0]), array([ 35,   2, 578,   0]), array([229,   3, 579,   0]), array([ 23,   3, 586,   0]), array([311,   3, 535,   0]), array([228,   3, 577,   0]), array([331,   3, 135,   0]), array([330,   3, 281,   0]), array([340,   3, 569,   0]), array([341,   3, 423,   0]), array([441,   3,  83,   0]), array([440,   3, 229,   0]), array([ 22,   3, 606,   0]), array([429,   3, 520,   0]), array([ 20,   3, 449,   0]), array([ 21,   3, 303,   0]), array([421,   3, 308,   0]), array([420,   3, 454,   0]), array([310,   3, 609,   0]), array([ 25,   3, 512,   0]), array([400,   3, 441,   0]), array([401,   3, 295,   0]), array([417,   3, 240,   0]), array([416,   3, 386,   0]), array([344,   3, 259,   0]), array([345,   3, 113,   0]), array([285,   3, 595,   0]), array([386,   3, 467,   0]), array([387,   3, 321,   0]), array([303,   3, 573,   0]), array([403,   3, 453,   0]), array([402,   3, 599,   0]), array([388,   3, 562,   0]), array([389,   3, 416,   0]), array([352,   3, 403,   0]), array([353,   3, 257,   0]), array([414,   3, 418,   0]), array([415,   3, 272,   0]), array([425,   3, 560,   0]), array([411,   3, 482,   0]), array([ 18,   3, 552,   0]), array([ 19,   3, 406,   0]), array([  8,   3, 320,   0]), array([  9,   3, 174,   0]), array([374,   3, 549,   0]), array([375,   3, 403,   0]), array([120,   3, 526,   0]), array([121,   3, 380,   0]), array([422,   3, 266,   0]), array([423,   3, 120,   0]), array([428,   3, 434,   0]), array([436,   3, 243,   0]), array([437,   3,  97,   0]), array([148,   3, 573,   0]), array([149,   3, 427,   0]), array([413,   3, 477,   0]), array([347,   3, 321,   0]), array([346,   3, 467,   0]), array([137,   3, 273,   0]), array([136,   3, 419,   0]), array([ 24,   3, 260,   0]), array([ 89,   3, 290,   0]), array([ 88,   3, 436,   0]), array([385,   3, 559,   0]), array([412,   3, 599,   0]), array([ 17,   3, 558,   0]), array([351,   3, 574,   0]), array([280,   3, 342,   0]), array([281,   3, 196,   0]), array([292,   3, 171,   0]), array([293,   3,  25,   0]), array([101,   3, 154,   0]), array([100,   3, 300,   0]), array([ 54,   3, 576,   0]), array([ 55,   3, 430,   0]), array([306,   3, 131,   0]), array([433,   3, 196,   0]), array([432,   3, 342,   0]), array([273,   3, 179,   0]), array([272,   3, 325,   0]), array([410,   3, 609,   0]), array([307,   3,   6,   0]), array([408,   3, 385,   0]), array([409,   3, 239,   0]), array([142,   3, 210,   0]), array([143,   3,  64,   0]), array([ 95,   3, 366,   0]), array([ 94,   3, 512,   0]), array([155,   3, 331,   0]), array([154,   3, 477,   0]), array([130,   3, 469,   0]), array([131,   3, 323,   0]), array([  2,   3, 366,   0]), array([  3,   3, 220,   0]), array([349,   3, 337,   0]), array([348,   3, 483,   0]), array([445,   3, 158,   0]), array([444,   3, 304,   0]), array([196,   3, 440,   0]), array([197,   3, 294,   0]), array([359,   3, 101,   0]), array([358,   3, 247,   0]), array([ 23,   4, 586,   0]), array([311,   4, 535,   0]), array([229,   4, 578,   0]), array([ 22,   4, 606,   0]), array([228,   4, 577,   0]), array([440,   4, 229,   0]), array([441,   4,  83,   0]), array([330,   4, 280,   0]), array([331,   4, 134,   0]), array([429,   4, 538,   0]), array([420,   4, 460,   0]), array([421,   4, 314,   0]), array([310,   4, 609,   0]), array([ 21,   4, 294,   0]), array([ 20,   4, 440,   0]), array([403,   4, 459,   0]), array([402,   4, 605,   0]), array([341,   4, 423,   0]), array([340,   4, 569,   0]), array([417,   4, 525,   0]), array([387,   4, 327,   0]), array([386,   4, 473,   0]), array([416,   4, 386,   0]), array([401,   4, 296,   0]), array([400,   4, 442,   0]), array([345,   4,  93,   0]), array([344,   4, 239,   0]), array([388,   4, 535,   0]), array([389,   4, 389,   0]), array([ 25,   4, 521,   0]), array([ 19,   4, 406,   0]), array([ 18,   4, 552,   0]), array([ 95,   4, 366,   0]), array([ 94,   4, 512,   0]), array([303,   4, 568,   0]), array([142,   4, 207,   0]), array([143,   4,  61,   0]), array([408,   4, 466,   0]), array([409,   4, 320,   0]), array([413,   4, 477,   0]), array([ 24,   4, 452,   0]), array([149,   4, 305,   0]), array([148,   4, 451,   0]), array([293,   4, 181,   0]), array([292,   4, 327,   0]), array([353,   4, 257,   0]), array([352,   4, 403,   0]), array([445,   4, 218,   0]), array([444,   4, 364,   0]), array([415,   4, 272,   0]), array([414,   4, 418,   0]), array([411,   4, 480,   0]), array([425,   4, 595,   0]), array([328,   4, 293,   0]), array([329,   4, 147,   0]), array([349,   4, 370,   0]), array([348,   4, 516,   0]), array([285,   4, 595,   0]), array([ 68,   4, 376,   0]), array([ 69,   4, 230,   0]), array([ 17,   4, 547,   0]), array([437,   4, 256,   0]), array([436,   4, 402,   0]), array([438,   4, 239,   0]), array([439,   4,  93,   0]), array([428,   4, 612,   0]), array([280,   4, 345,   0]), array([281,   4, 199,   0]), array([197,   4, 312,   0]), array([196,   4, 458,   0]), array([412,   4, 599,   0]), array([307,   4,   6,   0]), array([306,   4, 152,   0]), array([374,   4, 610,   0]), array([375,   4, 464,   0]), array([351,   4, 580,   0]), array([ 80,   4, 264,   0]), array([ 81,   4, 118,   0]), array([  9,   4, 165,   0]), array([  8,   4, 311,   0]), array([273,   4, 177,   0]), array([272,   4, 323,   0]), array([302,   4, 606,   0]), array([ 88,   4, 445,   0]), array([ 89,   4, 299,   0]), array([ 35,   4, 394,   0]), array([ 34,   4, 540,   0]), array([  3,   4, 211,   0]), array([  2,   4, 357,   0]), array([358,   4, 247,   0]), array([359,   4, 101,   0]), array([130,   4, 470,   0]), array([131,   4, 324,   0]), array([433,   4, 167,   0]), array([432,   4, 313,   0]), array([422,   4, 486,   0]), array([423,   4, 340,   0]), array([195,   4, 355,   0]), array([194,   4, 501,   0]), array([347,   4, 351,   0])]\n",
        "max units\n",
        "[array([0, 1, 2, 3, 4]), array([5, 6, 7, 8, 9]), array([10, 11, 12, 13, 14]), array([15, 16, 17, 18, 19]), array([20, 21, 22, 23, 24]), array([25, 26, 27, 28, 29]), array([30, 31, 32, 33, 34]), array([35, 36, 37, 38, 39]), array([40, 41, 42, 43, 44]), array([45, 46, 47, 48, 49]), array([50, 51, 52, 53, 54]), array([55, 56, 57, 58, 59]), array([60, 61, 62, 63, 64]), array([65, 66, 67, 68, 69]), array([70, 71, 72, 73, 74]), array([75, 76, 77, 78, 79]), array([80, 81, 82, 83, 84]), array([85, 86, 87, 88, 89]), array([90, 91, 92, 93, 94]), array([95, 96, 97, 98, 99]), array([100, 101, 102, 103]), array([104, 105, 106, 107]), array([108, 109, 110, 111]), array([112, 113, 114, 115]), array([116, 117, 118, 119]), array([120, 121, 122, 123]), array([124, 125, 126, 127]), array([128, 129, 130, 131]), array([132, 133, 134, 135]), array([136, 137, 138, 139]), array([140, 141, 142, 143]), array([144, 145, 146, 147]), array([148, 149, 150, 151]), array([152, 153, 154, 155]), array([156, 157, 158, 159]), array([160, 161, 162, 163]), array([164, 165, 166, 167]), array([168, 169, 170, 171]), array([172, 173, 174, 175]), array([176, 177, 178, 179]), array([180, 181, 182, 183]), array([184, 185, 186, 187]), array([188, 189, 190, 191]), array([192, 193, 194, 195]), array([196, 197, 198, 199]), array([200, 201, 202, 203]), array([204, 205, 206, 207]), array([208, 209, 210, 211]), array([212, 213, 214, 215]), array([216, 217, 218, 219]), array([220, 221, 222, 223]), array([224, 225, 226, 227]), array([228, 229, 230, 231]), array([232, 233, 234, 235]), array([236, 237, 238, 239]), array([240, 241, 242, 243]), array([244, 245, 246, 247]), array([248, 249, 250, 251]), array([252, 253, 254, 255]), array([256, 257, 258, 259]), array([260, 261, 262, 263]), array([264, 265, 266, 267]), array([268, 269, 270, 271]), array([272, 273, 274, 275]), array([276, 277, 278, 279]), array([280, 281, 282, 283]), array([284, 285, 286, 287]), array([288, 289, 290, 291]), array([292, 293, 294, 295]), array([296, 297, 298, 299]), array([300, 301, 302, 303]), array([304, 305, 306, 307]), array([308, 309, 310, 311]), array([312, 313, 314, 315]), array([316, 317, 318, 319]), array([320, 321, 322, 323]), array([324, 325, 326, 327]), array([328, 329, 330, 331]), array([332, 333, 334, 335]), array([336, 337, 338, 339]), array([340, 341, 342, 343]), array([344, 345, 346, 347]), array([348, 349, 350, 351]), array([352, 353, 354, 355]), array([356, 357, 358, 359]), array([360, 361, 362, 363]), array([364, 365, 366, 367]), array([368, 369, 370, 371]), array([372, 373, 374, 375]), array([376, 377, 378, 379]), array([380, 381, 382, 383]), array([384, 385, 386, 387]), array([388, 389, 390, 391]), array([392, 393, 394, 395]), array([396, 397, 398, 399]), array([400, 401, 402, 403]), array([404, 405, 406, 407]), array([408, 409, 410, 411]), array([412, 413, 414, 415]), array([416, 417, 418, 419]), array([420, 421, 422, 423]), array([424, 425, 426, 427]), array([428, 429, 430, 431]), array([432, 433, 434, 435]), array([436, 437, 438, 439]), array([440, 441, 442, 443]), array([444, 445, 446, 447]), array([448, 449, 450, 451]), array([452, 453, 454, 455]), array([456, 457, 458, 459]), array([460, 461, 462, 463]), array([464, 465, 466, 467]), array([468, 469, 470, 471]), array([472, 473, 474, 475]), array([476, 477, 478, 479]), array([480, 481, 482, 483]), array([484, 485, 486, 487]), array([488, 489, 490, 491]), array([492, 493, 494, 495]), array([496, 497, 498, 499])]\n",
        "Batch\n",
        "!!!W!!! Prod{acc_dtype=int64}.0\n",
        "!!!W!!! Prod{acc_dtype=int64}.0\n",
        "!!!W!!! Prod{acc_dtype=int64}.0\n"
       ]
      },
      {
       "output_type": "stream",
       "stream": "stdout",
       "text": [
        "Batch\n",
        "!!!W!!! Prod{acc_dtype=int64}.0\n",
        "!!!W!!! Prod{acc_dtype=int64}.0\n",
        "!!!W!!! Prod{acc_dtype=int64}.0\n"
       ]
      },
      {
       "output_type": "stream",
       "stream": "stdout",
       "text": [
        "Batch\n",
        "!!!W!!! Prod{acc_dtype=int64}.0\n",
        "!!!W!!! Prod{acc_dtype=int64}.0\n",
        "!!!W!!! Prod{acc_dtype=int64}.0\n"
       ]
      },
      {
       "output_type": "stream",
       "stream": "stdout",
       "text": [
        "Batch\n",
        "!!!W!!! Prod{acc_dtype=int64}.0\n",
        "!!!W!!! Prod{acc_dtype=int64}.0\n",
        "!!!W!!! Prod{acc_dtype=int64}.0\n"
       ]
      },
      {
       "output_type": "stream",
       "stream": "stdout",
       "text": [
        "Batch\n",
        "!!!W!!! Prod{acc_dtype=int64}.0\n",
        "!!!W!!! Prod{acc_dtype=int64}.0\n",
        "!!!W!!! Prod{acc_dtype=int64}.0\n"
       ]
      },
      {
       "output_type": "stream",
       "stream": "stdout",
       "text": [
        "Batch\n",
        "!!!W!!! Prod{acc_dtype=int64}.0\n",
        "!!!W!!! Prod{acc_dtype=int64}.0\n",
        "!!!W!!! Prod{acc_dtype=int64}.0\n"
       ]
      },
      {
       "output_type": "stream",
       "stream": "stdout",
       "text": [
        "Batch\n",
        "!!!W!!! Prod{acc_dtype=int64}.0\n",
        "!!!W!!! Prod{acc_dtype=int64}.0\n",
        "!!!W!!! Prod{acc_dtype=int64}.0\n"
       ]
      },
      {
       "output_type": "stream",
       "stream": "stdout",
       "text": [
        "Batch\n",
        "!!!W!!! Prod{acc_dtype=int64}.0\n",
        "!!!W!!! Prod{acc_dtype=int64}.0\n",
        "!!!W!!! Prod{acc_dtype=int64}.0\n"
       ]
      },
      {
       "output_type": "stream",
       "stream": "stdout",
       "text": [
        "Batch\n",
        "!!!W!!! Prod{acc_dtype=int64}.0\n",
        "!!!W!!! Prod{acc_dtype=int64}.0\n",
        "!!!W!!! Prod{acc_dtype=int64}.0\n"
       ]
      },
      {
       "output_type": "stream",
       "stream": "stdout",
       "text": [
        "Batch\n",
        "!!!W!!! Prod{acc_dtype=int64}.0\n",
        "!!!W!!! Prod{acc_dtype=int64}.0\n",
        "!!!W!!! Prod{acc_dtype=int64}.0\n"
       ]
      },
      {
       "output_type": "stream",
       "stream": "stdout",
       "text": [
        "Batch\n",
        "!!!W!!! Prod{acc_dtype=int64}.0\n",
        "!!!W!!! Prod{acc_dtype=int64}.0\n",
        "!!!W!!! Prod{acc_dtype=int64}.0\n"
       ]
      },
      {
       "output_type": "stream",
       "stream": "stdout",
       "text": [
        "Batch\n",
        "!!!W!!! Prod{acc_dtype=int64}.0\n",
        "!!!W!!! Prod{acc_dtype=int64}.0\n",
        "!!!W!!! Prod{acc_dtype=int64}.0\n"
       ]
      },
      {
       "output_type": "stream",
       "stream": "stdout",
       "text": [
        "Batch\n",
        "!!!W!!! Prod{acc_dtype=int64}.0\n",
        "!!!W!!! Prod{acc_dtype=int64}.0\n",
        "!!!W!!! Prod{acc_dtype=int64}.0\n"
       ]
      },
      {
       "output_type": "stream",
       "stream": "stdout",
       "text": [
        "Batch\n",
        "!!!W!!! Prod{acc_dtype=int64}.0\n",
        "!!!W!!! Prod{acc_dtype=int64}.0\n",
        "!!!W!!! Prod{acc_dtype=int64}.0\n"
       ]
      },
      {
       "output_type": "stream",
       "stream": "stdout",
       "text": [
        "Batch\n",
        "!!!W!!! Prod{acc_dtype=int64}.0\n",
        "!!!W!!! Prod{acc_dtype=int64}.0\n",
        "!!!W!!! Prod{acc_dtype=int64}.0\n"
       ]
      },
      {
       "output_type": "stream",
       "stream": "stdout",
       "text": [
        "Batch\n",
        "!!!W!!! Prod{acc_dtype=int64}.0\n",
        "!!!W!!! Prod{acc_dtype=int64}.0\n",
        "!!!W!!! Prod{acc_dtype=int64}.0\n"
       ]
      },
      {
       "output_type": "stream",
       "stream": "stdout",
       "text": [
        "Batch\n",
        "!!!W!!! Prod{acc_dtype=int64}.0\n",
        "!!!W!!! Prod{acc_dtype=int64}.0\n",
        "!!!W!!! Prod{acc_dtype=int64}.0\n"
       ]
      },
      {
       "output_type": "stream",
       "stream": "stdout",
       "text": [
        "Batch\n",
        "!!!W!!! Prod{acc_dtype=int64}.0\n",
        "!!!W!!! Prod{acc_dtype=int64}.0\n",
        "!!!W!!! Prod{acc_dtype=int64}.0\n"
       ]
      },
      {
       "output_type": "stream",
       "stream": "stdout",
       "text": [
        "Batch\n",
        "!!!W!!! Prod{acc_dtype=int64}.0\n",
        "!!!W!!! Prod{acc_dtype=int64}.0\n",
        "!!!W!!! Prod{acc_dtype=int64}.0\n"
       ]
      },
      {
       "output_type": "stream",
       "stream": "stdout",
       "text": [
        "Batch\n",
        "!!!W!!! Prod{acc_dtype=int64}.0\n",
        "!!!W!!! Prod{acc_dtype=int64}.0\n",
        "!!!W!!! Prod{acc_dtype=int64}.0\n"
       ]
      },
      {
       "output_type": "stream",
       "stream": "stdout",
       "text": [
        "Batch\n",
        "!!!W!!! Prod{acc_dtype=int64}.0\n",
        "!!!W!!! Prod{acc_dtype=int64}.0\n",
        "!!!W!!! Prod{acc_dtype=int64}.0\n"
       ]
      },
      {
       "output_type": "stream",
       "stream": "stdout",
       "text": [
        "Batch\n",
        "!!!W!!! Prod{acc_dtype=int64}.0\n",
        "!!!W!!! Prod{acc_dtype=int64}.0\n",
        "!!!W!!! Prod{acc_dtype=int64}.0\n"
       ]
      },
      {
       "output_type": "stream",
       "stream": "stdout",
       "text": [
        "Batch\n",
        "!!!W!!! Prod{acc_dtype=int64}.0\n",
        "!!!W!!! Prod{acc_dtype=int64}.0\n",
        "!!!W!!! Prod{acc_dtype=int64}.0\n"
       ]
      },
      {
       "output_type": "stream",
       "stream": "stdout",
       "text": [
        "Batch\n",
        "!!!W!!! Prod{acc_dtype=int64}.0\n",
        "!!!W!!! Prod{acc_dtype=int64}.0\n",
        "!!!W!!! Prod{acc_dtype=int64}.0\n"
       ]
      },
      {
       "output_type": "stream",
       "stream": "stdout",
       "text": [
        "Batch\n",
        "!!!W!!! Prod{acc_dtype=int64}.0\n",
        "!!!W!!! Prod{acc_dtype=int64}.0\n",
        "!!!W!!! Prod{acc_dtype=int64}.0\n"
       ]
      },
      {
       "output_type": "stream",
       "stream": "stdout",
       "text": [
        "Batch\n",
        "!!!W!!! Prod{acc_dtype=int64}.0\n",
        "!!!W!!! Prod{acc_dtype=int64}.0\n",
        "!!!W!!! Prod{acc_dtype=int64}.0\n"
       ]
      },
      {
       "output_type": "stream",
       "stream": "stdout",
       "text": [
        "Batch\n",
        "!!!W!!! Prod{acc_dtype=int64}.0\n",
        "!!!W!!! Prod{acc_dtype=int64}.0\n",
        "!!!W!!! Prod{acc_dtype=int64}.0\n"
       ]
      },
      {
       "output_type": "stream",
       "stream": "stdout",
       "text": [
        "Batch\n",
        "!!!W!!! Prod{acc_dtype=int64}.0\n",
        "!!!W!!! Prod{acc_dtype=int64}.0\n",
        "!!!W!!! Prod{acc_dtype=int64}.0\n"
       ]
      },
      {
       "output_type": "stream",
       "stream": "stdout",
       "text": [
        "Batch\n",
        "!!!W!!! Prod{acc_dtype=int64}.0\n",
        "!!!W!!! Prod{acc_dtype=int64}.0\n",
        "!!!W!!! Prod{acc_dtype=int64}.0\n"
       ]
      },
      {
       "output_type": "stream",
       "stream": "stdout",
       "text": [
        "Batch\n",
        "!!!W!!! Prod{acc_dtype=int64}.0\n",
        "!!!W!!! Prod{acc_dtype=int64}.0\n",
        "!!!W!!! Prod{acc_dtype=int64}.0\n"
       ]
      },
      {
       "output_type": "stream",
       "stream": "stdout",
       "text": [
        "Batch\n",
        "!!!W!!! Prod{acc_dtype=int64}.0\n",
        "!!!W!!! Prod{acc_dtype=int64}.0\n",
        "!!!W!!! Prod{acc_dtype=int64}.0\n"
       ]
      },
      {
       "output_type": "stream",
       "stream": "stdout",
       "text": [
        "Batch\n",
        "!!!W!!! Prod{acc_dtype=int64}.0\n",
        "!!!W!!! Prod{acc_dtype=int64}.0\n",
        "!!!W!!! Prod{acc_dtype=int64}.0\n"
       ]
      },
      {
       "output_type": "stream",
       "stream": "stdout",
       "text": [
        "Batch\n",
        "!!!W!!! Prod{acc_dtype=int64}.0\n",
        "!!!W!!! Prod{acc_dtype=int64}.0\n",
        "!!!W!!! Prod{acc_dtype=int64}.0\n"
       ]
      },
      {
       "output_type": "stream",
       "stream": "stdout",
       "text": [
        "Batch\n",
        "!!!W!!! Prod{acc_dtype=int64}.0\n",
        "!!!W!!! Prod{acc_dtype=int64}.0\n",
        "!!!W!!! Prod{acc_dtype=int64}.0\n"
       ]
      },
      {
       "output_type": "stream",
       "stream": "stdout",
       "text": [
        "Batch\n",
        "!!!W!!! Prod{acc_dtype=int64}.0\n",
        "!!!W!!! Prod{acc_dtype=int64}.0\n",
        "!!!W!!! Prod{acc_dtype=int64}.0\n"
       ]
      },
      {
       "output_type": "stream",
       "stream": "stdout",
       "text": [
        "Batch\n",
        "!!!W!!! Prod{acc_dtype=int64}.0\n",
        "!!!W!!! Prod{acc_dtype=int64}.0\n",
        "!!!W!!! Prod{acc_dtype=int64}.0\n"
       ]
      },
      {
       "output_type": "stream",
       "stream": "stdout",
       "text": [
        "Batch\n",
        "!!!W!!! Prod{acc_dtype=int64}.0\n",
        "!!!W!!! Prod{acc_dtype=int64}.0\n",
        "!!!W!!! Prod{acc_dtype=int64}.0\n"
       ]
      },
      {
       "output_type": "stream",
       "stream": "stdout",
       "text": [
        "Batch\n",
        "!!!W!!! Prod{acc_dtype=int64}.0\n",
        "!!!W!!! Prod{acc_dtype=int64}.0\n",
        "!!!W!!! Prod{acc_dtype=int64}.0\n"
       ]
      },
      {
       "output_type": "stream",
       "stream": "stdout",
       "text": [
        "Batch\n",
        "!!!W!!! Prod{acc_dtype=int64}.0\n",
        "!!!W!!! Prod{acc_dtype=int64}.0\n",
        "!!!W!!! Prod{acc_dtype=int64}.0\n"
       ]
      },
      {
       "output_type": "stream",
       "stream": "stdout",
       "text": [
        "Batch\n",
        "!!!W!!! Prod{acc_dtype=int64}.0\n",
        "!!!W!!! Prod{acc_dtype=int64}.0\n",
        "!!!W!!! Prod{acc_dtype=int64}.0\n"
       ]
      },
      {
       "output_type": "stream",
       "stream": "stdout",
       "text": [
        "Batch\n",
        "!!!W!!! Prod{acc_dtype=int64}.0\n",
        "!!!W!!! Prod{acc_dtype=int64}.0\n",
        "!!!W!!! Prod{acc_dtype=int64}.0\n"
       ]
      },
      {
       "output_type": "stream",
       "stream": "stdout",
       "text": [
        "Batch\n",
        "!!!W!!! Prod{acc_dtype=int64}.0\n",
        "!!!W!!! Prod{acc_dtype=int64}.0\n",
        "!!!W!!! Prod{acc_dtype=int64}.0\n"
       ]
      },
      {
       "output_type": "stream",
       "stream": "stdout",
       "text": [
        "Batch\n",
        "!!!W!!! Prod{acc_dtype=int64}.0\n",
        "!!!W!!! Prod{acc_dtype=int64}.0\n",
        "!!!W!!! Prod{acc_dtype=int64}.0\n"
       ]
      },
      {
       "output_type": "stream",
       "stream": "stdout",
       "text": [
        "Batch\n",
        "!!!W!!! Prod{acc_dtype=int64}.0\n",
        "!!!W!!! Prod{acc_dtype=int64}.0\n",
        "!!!W!!! Prod{acc_dtype=int64}.0\n"
       ]
      },
      {
       "output_type": "stream",
       "stream": "stdout",
       "text": [
        "Batch\n",
        "!!!W!!! Prod{acc_dtype=int64}.0\n",
        "!!!W!!! Prod{acc_dtype=int64}.0\n",
        "!!!W!!! Prod{acc_dtype=int64}.0\n"
       ]
      },
      {
       "output_type": "stream",
       "stream": "stdout",
       "text": [
        "Batch\n",
        "!!!W!!! Prod{acc_dtype=int64}.0\n",
        "!!!W!!! Prod{acc_dtype=int64}.0\n",
        "!!!W!!! Prod{acc_dtype=int64}.0\n"
       ]
      },
      {
       "output_type": "stream",
       "stream": "stdout",
       "text": [
        "Batch\n",
        "!!!W!!! Prod{acc_dtype=int64}.0\n",
        "!!!W!!! Prod{acc_dtype=int64}.0\n",
        "!!!W!!! Prod{acc_dtype=int64}.0\n"
       ]
      },
      {
       "output_type": "stream",
       "stream": "stdout",
       "text": [
        "Batch\n",
        "!!!W!!! Prod{acc_dtype=int64}.0\n",
        "!!!W!!! Prod{acc_dtype=int64}.0\n",
        "!!!W!!! Prod{acc_dtype=int64}.0\n"
       ]
      },
      {
       "output_type": "stream",
       "stream": "stdout",
       "text": [
        "Batch\n",
        "!!!W!!! Prod{acc_dtype=int64}.0\n",
        "!!!W!!! Prod{acc_dtype=int64}.0\n",
        "!!!W!!! Prod{acc_dtype=int64}.0\n"
       ]
      },
      {
       "output_type": "stream",
       "stream": "stdout",
       "text": [
        "Batch\n",
        "!!!W!!! Prod{acc_dtype=int64}.0\n",
        "!!!W!!! Prod{acc_dtype=int64}.0\n",
        "!!!W!!! Prod{acc_dtype=int64}.0\n"
       ]
      },
      {
       "output_type": "stream",
       "stream": "stdout",
       "text": [
        "Batch\n",
        "!!!W!!! Prod{acc_dtype=int64}.0\n",
        "!!!W!!! Prod{acc_dtype=int64}.0\n",
        "!!!W!!! Prod{acc_dtype=int64}.0\n"
       ]
      },
      {
       "output_type": "stream",
       "stream": "stdout",
       "text": [
        "Batch\n",
        "!!!W!!! Prod{acc_dtype=int64}.0\n",
        "!!!W!!! Prod{acc_dtype=int64}.0\n",
        "!!!W!!! Prod{acc_dtype=int64}.0\n"
       ]
      },
      {
       "output_type": "stream",
       "stream": "stdout",
       "text": [
        "Batch\n",
        "!!!W!!! Prod{acc_dtype=int64}.0\n",
        "!!!W!!! Prod{acc_dtype=int64}.0\n",
        "!!!W!!! Prod{acc_dtype=int64}.0\n"
       ]
      },
      {
       "output_type": "stream",
       "stream": "stdout",
       "text": [
        "Batch\n",
        "!!!W!!! Prod{acc_dtype=int64}.0\n",
        "!!!W!!! Prod{acc_dtype=int64}.0\n",
        "!!!W!!! Prod{acc_dtype=int64}.0\n"
       ]
      },
      {
       "output_type": "stream",
       "stream": "stdout",
       "text": [
        "Batch\n",
        "!!!W!!! Prod{acc_dtype=int64}.0\n",
        "!!!W!!! Prod{acc_dtype=int64}.0\n",
        "!!!W!!! Prod{acc_dtype=int64}.0\n"
       ]
      },
      {
       "output_type": "stream",
       "stream": "stdout",
       "text": [
        "Batch\n",
        "!!!W!!! Prod{acc_dtype=int64}.0\n",
        "!!!W!!! Prod{acc_dtype=int64}.0\n",
        "!!!W!!! Prod{acc_dtype=int64}.0\n"
       ]
      },
      {
       "output_type": "stream",
       "stream": "stdout",
       "text": [
        "Batch\n",
        "!!!W!!! Prod{acc_dtype=int64}.0\n",
        "!!!W!!! Prod{acc_dtype=int64}.0\n",
        "!!!W!!! Prod{acc_dtype=int64}.0\n"
       ]
      },
      {
       "output_type": "stream",
       "stream": "stdout",
       "text": [
        "Batch\n",
        "!!!W!!! Prod{acc_dtype=int64}.0\n",
        "!!!W!!! Prod{acc_dtype=int64}.0\n",
        "!!!W!!! Prod{acc_dtype=int64}.0\n"
       ]
      },
      {
       "output_type": "stream",
       "stream": "stdout",
       "text": [
        "Batch\n",
        "!!!W!!! Prod{acc_dtype=int64}.0\n",
        "!!!W!!! Prod{acc_dtype=int64}.0\n",
        "!!!W!!! Prod{acc_dtype=int64}.0\n"
       ]
      },
      {
       "output_type": "stream",
       "stream": "stdout",
       "text": [
        "Batch\n",
        "!!!W!!! Prod{acc_dtype=int64}.0\n",
        "!!!W!!! Prod{acc_dtype=int64}.0\n",
        "!!!W!!! Prod{acc_dtype=int64}.0\n"
       ]
      },
      {
       "output_type": "stream",
       "stream": "stdout",
       "text": [
        "Batch\n",
        "!!!W!!! Prod{acc_dtype=int64}.0\n",
        "!!!W!!! Prod{acc_dtype=int64}.0\n",
        "!!!W!!! Prod{acc_dtype=int64}.0\n"
       ]
      },
      {
       "output_type": "stream",
       "stream": "stdout",
       "text": [
        "Batch\n",
        "!!!W!!! Prod{acc_dtype=int64}.0\n",
        "!!!W!!! Prod{acc_dtype=int64}.0\n",
        "!!!W!!! Prod{acc_dtype=int64}.0\n"
       ]
      },
      {
       "output_type": "stream",
       "stream": "stdout",
       "text": [
        "Batch\n",
        "!!!W!!! Prod{acc_dtype=int64}.0\n",
        "!!!W!!! Prod{acc_dtype=int64}.0\n",
        "!!!W!!! Prod{acc_dtype=int64}.0\n"
       ]
      },
      {
       "output_type": "stream",
       "stream": "stdout",
       "text": [
        "Batch\n",
        "!!!W!!! Prod{acc_dtype=int64}.0\n",
        "!!!W!!! Prod{acc_dtype=int64}.0\n",
        "!!!W!!! Prod{acc_dtype=int64}.0\n"
       ]
      },
      {
       "output_type": "stream",
       "stream": "stdout",
       "text": [
        "Batch\n",
        "!!!W!!! Prod{acc_dtype=int64}.0\n",
        "!!!W!!! Prod{acc_dtype=int64}.0\n",
        "!!!W!!! Prod{acc_dtype=int64}.0\n"
       ]
      },
      {
       "output_type": "stream",
       "stream": "stdout",
       "text": [
        "Batch\n",
        "!!!W!!! Prod{acc_dtype=int64}.0\n",
        "!!!W!!! Prod{acc_dtype=int64}.0\n",
        "!!!W!!! Prod{acc_dtype=int64}.0\n"
       ]
      },
      {
       "output_type": "stream",
       "stream": "stdout",
       "text": [
        "Batch\n",
        "!!!W!!! Prod{acc_dtype=int64}.0\n",
        "!!!W!!! Prod{acc_dtype=int64}.0\n",
        "!!!W!!! Prod{acc_dtype=int64}.0\n"
       ]
      },
      {
       "output_type": "stream",
       "stream": "stdout",
       "text": [
        "Batch\n",
        "!!!W!!! Prod{acc_dtype=int64}.0\n",
        "!!!W!!! Prod{acc_dtype=int64}.0\n",
        "!!!W!!! Prod{acc_dtype=int64}.0\n"
       ]
      },
      {
       "output_type": "stream",
       "stream": "stdout",
       "text": [
        "Batch\n",
        "!!!W!!! Prod{acc_dtype=int64}.0\n",
        "!!!W!!! Prod{acc_dtype=int64}.0\n",
        "!!!W!!! Prod{acc_dtype=int64}.0\n"
       ]
      },
      {
       "output_type": "stream",
       "stream": "stdout",
       "text": [
        "Batch\n",
        "!!!W!!! Prod{acc_dtype=int64}.0\n",
        "!!!W!!! Prod{acc_dtype=int64}.0\n",
        "!!!W!!! Prod{acc_dtype=int64}.0\n"
       ]
      },
      {
       "output_type": "stream",
       "stream": "stdout",
       "text": [
        "Batch\n",
        "!!!W!!! Prod{acc_dtype=int64}.0\n",
        "!!!W!!! Prod{acc_dtype=int64}.0\n",
        "!!!W!!! Prod{acc_dtype=int64}.0\n"
       ]
      },
      {
       "output_type": "stream",
       "stream": "stdout",
       "text": [
        "Batch\n",
        "!!!W!!! Prod{acc_dtype=int64}.0\n",
        "!!!W!!! Prod{acc_dtype=int64}.0\n",
        "!!!W!!! Prod{acc_dtype=int64}.0\n"
       ]
      },
      {
       "output_type": "stream",
       "stream": "stdout",
       "text": [
        "Batch\n",
        "!!!W!!! Prod{acc_dtype=int64}.0\n",
        "!!!W!!! Prod{acc_dtype=int64}.0\n",
        "!!!W!!! Prod{acc_dtype=int64}.0\n"
       ]
      },
      {
       "output_type": "stream",
       "stream": "stdout",
       "text": [
        "Batch\n",
        "!!!W!!! Prod{acc_dtype=int64}.0\n",
        "!!!W!!! Prod{acc_dtype=int64}.0\n",
        "!!!W!!! Prod{acc_dtype=int64}.0\n"
       ]
      },
      {
       "output_type": "stream",
       "stream": "stdout",
       "text": [
        "Batch\n",
        "!!!W!!! Prod{acc_dtype=int64}.0\n",
        "!!!W!!! Prod{acc_dtype=int64}.0\n",
        "!!!W!!! Prod{acc_dtype=int64}.0\n"
       ]
      },
      {
       "output_type": "stream",
       "stream": "stdout",
       "text": [
        "Batch\n",
        "!!!W!!! Prod{acc_dtype=int64}.0\n",
        "!!!W!!! Prod{acc_dtype=int64}.0\n",
        "!!!W!!! Prod{acc_dtype=int64}.0\n"
       ]
      },
      {
       "output_type": "stream",
       "stream": "stdout",
       "text": [
        "Batch\n",
        "!!!W!!! Prod{acc_dtype=int64}.0\n",
        "!!!W!!! Prod{acc_dtype=int64}.0\n",
        "!!!W!!! Prod{acc_dtype=int64}.0\n"
       ]
      },
      {
       "output_type": "stream",
       "stream": "stdout",
       "text": [
        "Batch\n",
        "!!!W!!! Prod{acc_dtype=int64}.0\n",
        "!!!W!!! Prod{acc_dtype=int64}.0\n",
        "!!!W!!! Prod{acc_dtype=int64}.0\n"
       ]
      },
      {
       "output_type": "stream",
       "stream": "stdout",
       "text": [
        "Batch\n",
        "!!!W!!! Prod{acc_dtype=int64}.0\n",
        "!!!W!!! Prod{acc_dtype=int64}.0\n",
        "!!!W!!! Prod{acc_dtype=int64}.0\n"
       ]
      },
      {
       "output_type": "stream",
       "stream": "stdout",
       "text": [
        "Batch\n",
        "!!!W!!! Prod{acc_dtype=int64}.0\n",
        "!!!W!!! Prod{acc_dtype=int64}.0\n",
        "!!!W!!! Prod{acc_dtype=int64}.0\n"
       ]
      },
      {
       "output_type": "stream",
       "stream": "stdout",
       "text": [
        "Batch\n",
        "!!!W!!! Prod{acc_dtype=int64}.0\n",
        "!!!W!!! Prod{acc_dtype=int64}.0\n",
        "!!!W!!! Prod{acc_dtype=int64}.0\n"
       ]
      },
      {
       "output_type": "stream",
       "stream": "stdout",
       "text": [
        "Batch\n",
        "!!!W!!! Prod{acc_dtype=int64}.0\n",
        "!!!W!!! Prod{acc_dtype=int64}.0\n",
        "!!!W!!! Prod{acc_dtype=int64}.0\n"
       ]
      },
      {
       "output_type": "stream",
       "stream": "stdout",
       "text": [
        "Batch\n",
        "!!!W!!! Prod{acc_dtype=int64}.0\n",
        "!!!W!!! Prod{acc_dtype=int64}.0\n",
        "!!!W!!! Prod{acc_dtype=int64}.0\n"
       ]
      },
      {
       "output_type": "stream",
       "stream": "stdout",
       "text": [
        "Batch\n",
        "!!!W!!! Prod{acc_dtype=int64}.0\n",
        "!!!W!!! Prod{acc_dtype=int64}.0\n",
        "!!!W!!! Prod{acc_dtype=int64}.0\n"
       ]
      },
      {
       "output_type": "stream",
       "stream": "stdout",
       "text": [
        "Batch\n",
        "!!!W!!! Prod{acc_dtype=int64}.0\n",
        "!!!W!!! Prod{acc_dtype=int64}.0\n",
        "!!!W!!! Prod{acc_dtype=int64}.0\n"
       ]
      },
      {
       "output_type": "stream",
       "stream": "stdout",
       "text": [
        "Batch\n",
        "!!!W!!! Prod{acc_dtype=int64}.0\n",
        "!!!W!!! Prod{acc_dtype=int64}.0\n",
        "!!!W!!! Prod{acc_dtype=int64}.0\n"
       ]
      },
      {
       "output_type": "stream",
       "stream": "stdout",
       "text": [
        "Batch\n",
        "!!!W!!! Prod{acc_dtype=int64}.0\n",
        "!!!W!!! Prod{acc_dtype=int64}.0\n",
        "!!!W!!! Prod{acc_dtype=int64}.0\n"
       ]
      },
      {
       "output_type": "stream",
       "stream": "stdout",
       "text": [
        "Batch\n",
        "!!!W!!! Prod{acc_dtype=int64}.0\n",
        "!!!W!!! Prod{acc_dtype=int64}.0\n",
        "!!!W!!! Prod{acc_dtype=int64}.0\n"
       ]
      },
      {
       "output_type": "stream",
       "stream": "stdout",
       "text": [
        "Batch\n",
        "!!!W!!! Prod{acc_dtype=int64}.0\n",
        "!!!W!!! Prod{acc_dtype=int64}.0\n",
        "!!!W!!! Prod{acc_dtype=int64}.0\n"
       ]
      },
      {
       "output_type": "stream",
       "stream": "stdout",
       "text": [
        "Batch\n",
        "!!!W!!! Prod{acc_dtype=int64}.0\n",
        "!!!W!!! Prod{acc_dtype=int64}.0\n",
        "!!!W!!! Prod{acc_dtype=int64}.0\n"
       ]
      },
      {
       "output_type": "stream",
       "stream": "stdout",
       "text": [
        "Batch\n",
        "!!!W!!! Prod{acc_dtype=int64}.0\n",
        "!!!W!!! Prod{acc_dtype=int64}.0\n",
        "!!!W!!! Prod{acc_dtype=int64}.0\n"
       ]
      },
      {
       "output_type": "stream",
       "stream": "stdout",
       "text": [
        "Batch\n",
        "!!!W!!! Prod{acc_dtype=int64}.0\n",
        "!!!W!!! Prod{acc_dtype=int64}.0\n",
        "!!!W!!! Prod{acc_dtype=int64}.0\n"
       ]
      },
      {
       "output_type": "stream",
       "stream": "stdout",
       "text": [
        "Batch\n",
        "!!!W!!! Prod{acc_dtype=int64}.0\n",
        "!!!W!!! Prod{acc_dtype=int64}.0\n",
        "!!!W!!! Prod{acc_dtype=int64}.0\n"
       ]
      },
      {
       "output_type": "stream",
       "stream": "stdout",
       "text": [
        "Batch\n",
        "!!!W!!! Prod{acc_dtype=int64}.0\n",
        "!!!W!!! Prod{acc_dtype=int64}.0\n",
        "!!!W!!! Prod{acc_dtype=int64}.0\n"
       ]
      },
      {
       "output_type": "stream",
       "stream": "stdout",
       "text": [
        "Batch\n",
        "!!!W!!! Prod{acc_dtype=int64}.0\n",
        "!!!W!!! Prod{acc_dtype=int64}.0\n",
        "!!!W!!! Prod{acc_dtype=int64}.0\n"
       ]
      },
      {
       "output_type": "stream",
       "stream": "stdout",
       "text": [
        "Batch\n",
        "!!!W!!! Prod{acc_dtype=int64}.0\n",
        "!!!W!!! Prod{acc_dtype=int64}.0\n",
        "!!!W!!! Prod{acc_dtype=int64}.0\n"
       ]
      },
      {
       "output_type": "stream",
       "stream": "stdout",
       "text": [
        "Batch\n",
        "!!!W!!! Prod{acc_dtype=int64}.0\n",
        "!!!W!!! Prod{acc_dtype=int64}.0\n",
        "!!!W!!! Prod{acc_dtype=int64}.0\n"
       ]
      },
      {
       "output_type": "stream",
       "stream": "stdout",
       "text": [
        "Batch\n",
        "!!!W!!! Prod{acc_dtype=int64}.0\n",
        "!!!W!!! Prod{acc_dtype=int64}.0\n",
        "!!!W!!! Prod{acc_dtype=int64}.0\n"
       ]
      },
      {
       "output_type": "stream",
       "stream": "stdout",
       "text": [
        "Batch\n",
        "!!!W!!! Prod{acc_dtype=int64}.0\n",
        "!!!W!!! Prod{acc_dtype=int64}.0\n",
        "!!!W!!! Prod{acc_dtype=int64}.0\n"
       ]
      },
      {
       "output_type": "stream",
       "stream": "stdout",
       "text": [
        "Batch\n",
        "!!!W!!! Prod{acc_dtype=int64}.0\n",
        "!!!W!!! Prod{acc_dtype=int64}.0\n",
        "!!!W!!! Prod{acc_dtype=int64}.0\n"
       ]
      },
      {
       "output_type": "stream",
       "stream": "stdout",
       "text": [
        "Batch\n",
        "!!!W!!! Prod{acc_dtype=int64}.0\n",
        "!!!W!!! Prod{acc_dtype=int64}.0\n",
        "!!!W!!! Prod{acc_dtype=int64}.0\n"
       ]
      },
      {
       "output_type": "stream",
       "stream": "stdout",
       "text": [
        "Batch\n",
        "!!!W!!! Prod{acc_dtype=int64}.0\n",
        "!!!W!!! Prod{acc_dtype=int64}.0\n",
        "!!!W!!! Prod{acc_dtype=int64}.0\n"
       ]
      },
      {
       "output_type": "stream",
       "stream": "stdout",
       "text": [
        "Batch\n",
        "!!!W!!! Prod{acc_dtype=int64}.0\n",
        "!!!W!!! Prod{acc_dtype=int64}.0\n",
        "!!!W!!! Prod{acc_dtype=int64}.0\n"
       ]
      },
      {
       "output_type": "stream",
       "stream": "stdout",
       "text": [
        "Batch\n",
        "!!!W!!! Prod{acc_dtype=int64}.0\n",
        "!!!W!!! Prod{acc_dtype=int64}.0\n",
        "!!!W!!! Prod{acc_dtype=int64}.0\n"
       ]
      },
      {
       "output_type": "stream",
       "stream": "stdout",
       "text": [
        "Batch\n",
        "!!!W!!! Prod{acc_dtype=int64}.0\n",
        "!!!W!!! Prod{acc_dtype=int64}.0\n",
        "!!!W!!! Prod{acc_dtype=int64}.0\n"
       ]
      },
      {
       "output_type": "stream",
       "stream": "stdout",
       "text": [
        "Batch\n",
        "!!!W!!! Prod{acc_dtype=int64}.0\n",
        "!!!W!!! Prod{acc_dtype=int64}.0\n",
        "!!!W!!! Prod{acc_dtype=int64}.0\n"
       ]
      },
      {
       "output_type": "stream",
       "stream": "stdout",
       "text": [
        "Batch\n",
        "!!!W!!! Prod{acc_dtype=int64}.0\n",
        "!!!W!!! Prod{acc_dtype=int64}.0\n",
        "!!!W!!! Prod{acc_dtype=int64}.0\n"
       ]
      },
      {
       "output_type": "stream",
       "stream": "stdout",
       "text": [
        "Batch\n",
        "!!!W!!! Prod{acc_dtype=int64}.0\n",
        "!!!W!!! Prod{acc_dtype=int64}.0\n",
        "!!!W!!! Prod{acc_dtype=int64}.0\n"
       ]
      },
      {
       "output_type": "stream",
       "stream": "stdout",
       "text": [
        "Batch\n",
        "!!!W!!! Prod{acc_dtype=int64}.0\n",
        "!!!W!!! Prod{acc_dtype=int64}.0\n",
        "!!!W!!! Prod{acc_dtype=int64}.0\n"
       ]
      },
      {
       "output_type": "stream",
       "stream": "stdout",
       "text": [
        "Batch\n",
        "!!!W!!! Prod{acc_dtype=int64}.0\n",
        "!!!W!!! Prod{acc_dtype=int64}.0\n",
        "!!!W!!! Prod{acc_dtype=int64}.0\n"
       ]
      },
      {
       "output_type": "stream",
       "stream": "stdout",
       "text": [
        "Batch\n",
        "!!!W!!! Prod{acc_dtype=int64}.0\n",
        "!!!W!!! Prod{acc_dtype=int64}.0\n",
        "!!!W!!! Prod{acc_dtype=int64}.0\n"
       ]
      },
      {
       "output_type": "stream",
       "stream": "stdout",
       "text": [
        "Batch\n",
        "!!!W!!! Prod{acc_dtype=int64}.0\n",
        "!!!W!!! Prod{acc_dtype=int64}.0\n",
        "!!!W!!! Prod{acc_dtype=int64}.0\n"
       ]
      },
      {
       "output_type": "stream",
       "stream": "stdout",
       "text": [
        "Batch\n",
        "!!!W!!! Prod{acc_dtype=int64}.0\n",
        "!!!W!!! Prod{acc_dtype=int64}.0\n",
        "!!!W!!! Prod{acc_dtype=int64}.0\n"
       ]
      },
      {
       "output_type": "stream",
       "stream": "stdout",
       "text": [
        "Batch\n",
        "!!!W!!! Prod{acc_dtype=int64}.0\n",
        "!!!W!!! Prod{acc_dtype=int64}.0\n",
        "!!!W!!! Prod{acc_dtype=int64}.0\n"
       ]
      },
      {
       "output_type": "stream",
       "stream": "stdout",
       "text": [
        "Batch\n",
        "!!!W!!! Prod{acc_dtype=int64}.0\n",
        "!!!W!!! Prod{acc_dtype=int64}.0\n",
        "!!!W!!! Prod{acc_dtype=int64}.0\n"
       ]
      },
      {
       "output_type": "stream",
       "stream": "stdout",
       "text": [
        "Batch\n",
        "!!!W!!! Prod{acc_dtype=int64}.0\n",
        "!!!W!!! Prod{acc_dtype=int64}.0\n",
        "!!!W!!! Prod{acc_dtype=int64}.0\n"
       ]
      },
      {
       "output_type": "stream",
       "stream": "stdout",
       "text": [
        "Batch\n",
        "!!!W!!! Prod{acc_dtype=int64}.0\n",
        "!!!W!!! Prod{acc_dtype=int64}.0\n",
        "!!!W!!! Prod{acc_dtype=int64}.0\n"
       ]
      },
      {
       "output_type": "stream",
       "stream": "stdout",
       "text": [
        "Batch\n",
        "!!!W!!! Prod{acc_dtype=int64}.0\n",
        "!!!W!!! Prod{acc_dtype=int64}.0\n",
        "!!!W!!! Prod{acc_dtype=int64}.0\n"
       ]
      },
      {
       "output_type": "stream",
       "stream": "stdout",
       "text": [
        "Batch\n",
        "!!!W!!! Prod{acc_dtype=int64}.0\n",
        "!!!W!!! Prod{acc_dtype=int64}.0\n",
        "!!!W!!! Prod{acc_dtype=int64}.0\n"
       ]
      },
      {
       "output_type": "stream",
       "stream": "stdout",
       "text": [
        "Batch\n",
        "!!!W!!! Prod{acc_dtype=int64}.0\n",
        "!!!W!!! Prod{acc_dtype=int64}.0\n",
        "!!!W!!! Prod{acc_dtype=int64}.0\n"
       ]
      },
      {
       "output_type": "stream",
       "stream": "stdout",
       "text": [
        "Outputs (448, 5, 614, 1)\n",
        "Filter\n",
        "Filter\n",
        "Filter\n",
        "Filter\n"
       ]
      },
      {
       "output_type": "stream",
       "stream": "stdout",
       "text": [
        "Filter\n",
        "[array([113,   0, 290,   0]), array([112,   0, 436,   0]), array([ 22,   0, 504,   0]), array([ 23,   0, 358,   0]), array([382,   0, 575,   0]), array([383,   0, 429,   0]), array([297,   0, 474,   0]), array([296,   0, 611,   0]), array([134,   0, 545,   0]), array([135,   0, 399,   0]), array([314,   0, 472,   0]), array([315,   0, 326,   0]), array([313,   0, 212,   0]), array([312,   0, 358,   0]), array([309,   0,  26,   0]), array([308,   0, 172,   0]), array([434,   0, 612,   0]), array([435,   0, 466,   0]), array([389,   0, 396,   0]), array([388,   0, 542,   0]), array([421,   0, 482,   0]), array([ 54,   0, 468,   0]), array([ 55,   0, 322,   0]), array([335,   0, 352,   0]), array([334,   0, 498,   0]), array([210,   0, 347,   0]), array([211,   0, 201,   0]), array([416,   0, 131,   0]), array([417,   0, 109,   0]), array([259,   0, 373,   0]), array([258,   0, 519,   0]), array([ 25,   0, 508,   0]), array([ 87,   0, 526,   0]), array([294,   0, 134,   0]), array([138,   0, 436,   0]), array([139,   0, 290,   0]), array([420,   0, 612,   0]), array([341,   0, 595,   0]), array([340,   0, 523,   0]), array([ 86,   0, 546,   0]), array([ 71,   0, 487,   0]), array([ 70,   0, 594,   0]), array([281,   0, 434,   0]), array([280,   0, 580,   0]), array([295,   0,  82,   0]), array([427,   0, 528,   0]), array([426,   0, 587,   0]), array([ 37,   0, 349,   0]), array([ 36,   0, 495,   0]), array([282,   0, 403,   0]), array([283,   0, 257,   0]), array([168,   0, 147,   0]), array([169,   0,   1,   0]), array([ 24,   0, 606,   0]), array([307,   0, 152,   0]), array([306,   0, 298,   0]), array([351,   0, 543,   0]), array([413,   0, 517,   0]), array([264,   0, 317,   0]), array([265,   0, 171,   0]), array([311,   0, 395,   0]), array([310,   0, 541,   0]), array([338,   0, 456,   0]), array([339,   0, 310,   0]), array([303,   0,   3,   0]), array([302,   0, 149,   0]), array([396,   0, 144,   0]), array([ 81,   0, 279,   0]), array([ 80,   0, 425,   0]), array([423,   0, 200,   0]), array([422,   0, 346,   0]), array([163,   0, 183,   0]), array([162,   0, 329,   0]), array([147,   0,  79,   0]), array([146,   0, 225,   0]), array([125,   0, 427,   0]), array([124,   0, 573,   0]), array([365,   0, 567,   0]), array([342,   0, 278,   0]), array([343,   0, 132,   0]), array([350,   0, 264,   0]), array([364,   0, 589,   0]), array([377,   0, 599,   0]), array([ 27,   0, 612,   0]), array([ 51,   0, 529,   0]), array([443,   0, 198,   0]), array([442,   0, 344,   0]), array([  5,   0, 563,   0]), array([193,   0, 347,   0]), array([192,   0, 493,   0]), array([286,   0, 535,   0]), array([287,   0, 389,   0]), array([436,   0, 456,   0]), array([437,   0, 310,   0]), array([397,   0,   0,   0]), array([415,   0, 377,   0]), array([414,   0, 523,   0]), array([133,   0, 561,   0]), array([129,   0, 613,   0]), array([407,   0, 530,   0]), array([ 46,   1, 259,   0]), array([ 47,   1, 113,   0]), array([244,   1, 329,   0]), array([245,   1, 183,   0]), array([387,   1,  94,   0]), array([386,   1, 240,   0]), array([111,   1,  96,   0]), array([110,   1, 242,   0]), array([183,   1,  96,   0]), array([182,   1, 242,   0]), array([237,   1, 113,   0]), array([236,   1, 259,   0]), array([  2,   1, 270,   0]), array([  3,   1, 124,   0]), array([114,   1, 336,   0]), array([115,   1, 190,   0]), array([ 22,   1, 198,   0]), array([23,  1, 52,  0]), array([ 37,   1, 127,   0]), array([ 36,   1, 273,   0]), array([ 28,   1, 250,   0]), array([ 29,   1, 104,   0]), array([165,   1, 112,   0]), array([164,   1, 258,   0]), array([246,   1, 222,   0]), array([247,   1,  76,   0]), array([210,   1, 331,   0]), array([211,   1, 185,   0]), array([322,   1, 308,   0]), array([323,   1, 162,   0]), array([184,   1, 215,   0]), array([185,   1,  69,   0]), array([109,   1, 108,   0]), array([108,   1, 254,   0]), array([ 74,   1, 269,   0]), array([ 75,   1, 123,   0]), array([137,   1,  74,   0]), array([136,   1, 220,   0]), array([ 98,   1, 240,   0]), array([99,  1, 94,  0]), array([97,  1, 78,  0]), array([ 96,   1, 224,   0]), array([100,   1, 238,   0]), array([101,   1,  92,   0]), array([117,   1,  88,   0]), array([116,   1, 234,   0]), array([157,   1, 102,   0]), array([156,   1, 248,   0]), array([ 24,   1, 251,   0]), array([ 25,   1, 105,   0]), array([420,   1, 243,   0]), array([421,   1,  97,   0]), array([139,   1,  89,   0]), array([138,   1, 235,   0]), array([125,   1, 125,   0]), array([124,   1, 271,   0]), array([416,   1,  73,   0]), array([180,   1, 243,   0]), array([181,   1,  97,   0]), array([378,   1, 267,   0]), array([379,   1, 121,   0]), array([143,   1,  80,   0]), array([142,   1, 226,   0]), array([ 60,   1, 217,   0]), array([61,  1, 71,  0]), array([146,   1, 211,   0]), array([147,   1,  65,   0]), array([ 76,   1, 273,   0]), array([ 77,   1, 127,   0]), array([368,   1, 236,   0]), array([369,   1,  90,   0]), array([ 26,   1, 266,   0]), array([ 27,   1, 120,   0]), array([168,   1, 237,   0]), array([169,   1,  91,   0]), array([197,   1, 187,   0]), array([196,   1, 333,   0]), array([171,   1, 104,   0]), array([170,   1, 250,   0]), array([ 90,   1, 288,   0]), array([ 91,   1, 142,   0]), array([ 85,   1, 119,   0]), array([ 84,   1, 265,   0]), array([ 66,   1, 256,   0]), array([ 67,   1, 110,   0]), array([  5,   1, 140,   0]), array([  4,   1, 286,   0]), array([104,   1, 235,   0]), array([105,   1,  89,   0]), array([396,   1, 249,   0]), array([397,   1, 103,   0]), array([ 40,   1, 255,   0]), array([ 41,   1, 109,   0]), array([ 32,   1, 262,   0]), array([ 33,   1, 116,   0]), array([228,   1, 295,   0]), array([229,   1, 149,   0]), array([261,   1,  74,   0]), array([260,   1, 220,   0]), array([418,   1, 122,   0]), array([383,   2, 423,   0]), array([382,   2, 569,   0]), array([ 22,   2, 504,   0]), array([ 23,   2, 358,   0]), array([112,   2, 436,   0]), array([113,   2, 290,   0]), array([135,   2, 526,   0]), array([314,   2, 472,   0]), array([315,   2, 326,   0]), array([134,   2, 544,   0]), array([297,   2, 447,   0]), array([296,   2, 593,   0]), array([313,   2, 212,   0]), array([312,   2, 358,   0]), array([259,   2, 358,   0]), array([258,   2, 504,   0]), array([ 55,   2, 319,   0]), array([ 54,   2, 465,   0]), array([434,   2, 606,   0]), array([435,   2, 460,   0]), array([389,   2, 396,   0]), array([388,   2, 542,   0]), array([421,   2, 480,   0]), array([ 86,   2, 500,   0]), array([ 87,   2, 354,   0]), array([ 70,   2, 594,   0]), array([ 71,   2, 448,   0]), array([416,   2, 119,   0]), array([334,   2, 499,   0]), array([335,   2, 353,   0]), array([420,   2, 612,   0]), array([427,   2, 528,   0]), array([413,   2, 529,   0]), array([340,   2, 525,   0]), array([341,   2, 379,   0]), array([311,   2, 383,   0]), array([310,   2, 529,   0]), array([283,   2, 224,   0]), array([282,   2, 370,   0]), array([417,   2,   5,   0]), array([338,   2, 597,   0]), array([339,   2, 451,   0]), array([ 25,   2, 517,   0]), array([309,   2,  60,   0]), array([308,   2, 206,   0]), array([280,   2, 574,   0]), array([281,   2, 428,   0]), array([210,   2, 347,   0]), array([211,   2, 201,   0]), array([294,   2, 336,   0]), array([295,   2, 190,   0]), array([287,   2, 380,   0]), array([286,   2, 526,   0]), array([306,   2, 473,   0]), array([307,   2, 327,   0]), array([169,   2,   4,   0]), array([168,   2, 150,   0]), array([139,   2, 589,   0]), array([ 81,   2, 396,   0]), array([ 80,   2, 542,   0]), array([436,   2, 450,   0]), array([437,   2, 304,   0]), array([426,   2, 542,   0]), array([124,   2, 580,   0]), array([125,   2, 434,   0]), array([369,   2, 352,   0]), array([368,   2, 498,   0]), array([138,   2, 496,   0]), array([423,   2, 418,   0]), array([422,   2, 564,   0]), array([ 24,   2, 591,   0]), array([397,   2, 115,   0]), array([396,   2, 261,   0]), array([365,   2, 567,   0]), array([320,   2, 463,   0]), array([321,   2, 317,   0]), array([ 51,   2, 535,   0]), array([147,   2,  61,   0]), array([146,   2, 207,   0]), array([350,   2, 234,   0]), array([351,   2,  88,   0]), array([431,   2, 496,   0]), array([264,   2, 310,   0]), array([265,   2, 164,   0]), array([443,   2, 198,   0]), array([442,   2, 344,   0]), array([269,   2, 501,   0]), array([162,   2, 329,   0]), array([163,   2, 183,   0]), array([411,   2, 611,   0]), array([193,   2, 341,   0]), array([192,   2, 487,   0]), array([348,   2, 513,   0]), array([349,   2, 367,   0]), array([415,   2, 371,   0]), array([414,   2, 517,   0]), array([353,   2, 117,   0]), array([352,   2, 263,   0]), array([430,   2, 612,   0]), array([412,   2, 504,   0]), array([236,   3, 250,   0]), array([237,   3, 104,   0]), array([ 47,   3, 113,   0]), array([ 46,   3, 259,   0]), array([  2,   3, 270,   0]), array([  3,   3, 124,   0]), array([245,   3, 183,   0]), array([244,   3, 329,   0]), array([ 60,   3, 211,   0]), array([61,  3, 65,  0]), array([125,   3, 134,   0]), array([124,   3, 280,   0]), array([387,   3, 105,   0]), array([386,   3, 251,   0]), array([421,   3,  88,   0]), array([420,   3, 234,   0]), array([323,   3, 150,   0]), array([322,   3, 296,   0]), array([ 74,   3, 279,   0]), array([ 75,   3, 133,   0]), array([183,   3,  69,   0]), array([182,   3, 215,   0]), array([111,   3, 115,   0]), array([110,   3, 261,   0]), array([101,   3,  82,   0]), array([100,   3, 228,   0]), array([ 84,   3, 275,   0]), array([ 85,   3, 129,   0]), array([419,   3,  43,   0]), array([418,   3, 189,   0]), array([246,   3, 222,   0]), array([247,   3,  76,   0]), array([196,   3, 333,   0]), array([197,   3, 187,   0]), array([ 77,   3, 139,   0]), array([ 76,   3, 285,   0]), array([143,   3,  92,   0]), array([142,   3, 238,   0]), array([108,   3, 275,   0]), array([109,   3, 129,   0]), array([ 67,   3, 119,   0]), array([ 66,   3, 265,   0]), array([23,  3, 42,  0]), array([ 22,   3, 188,   0]), array([171,   3, 113,   0]), array([170,   3, 259,   0]), array([ 41,   3, 120,   0]), array([ 40,   3, 266,   0]), array([ 24,   3, 251,   0]), array([ 25,   3, 105,   0]), array([181,   3, 109,   0]), array([180,   3, 255,   0]), array([241,   3, 191,   0]), array([240,   3, 337,   0]), array([147,   3,  55,   0]), array([146,   3, 201,   0]), array([340,   3,  46,   0]), array([ 90,   3, 279,   0]), array([ 91,   3, 133,   0]), array([210,   3, 205,   0]), array([211,   3,  59,   0]), array([115,   3, 178,   0]), array([114,   3, 324,   0]), array([105,   3,  65,   0]), array([104,   3, 211,   0]), array([369,   3,  80,   0]), array([368,   3, 226,   0]), array([  1,   3, 156,   0]), array([  0,   3, 302,   0]), array([137,   3, 220,   0]), array([136,   3, 366,   0]), array([139,   3,  89,   0]), array([138,   3, 235,   0]), array([29,  3, 92,  0]), array([ 28,   3, 238,   0]), array([ 32,   3, 262,   0]), array([ 33,   3, 116,   0]), array([168,   3, 227,   0]), array([169,   3,  81,   0]), array([97,  3, 81,  0]), array([ 96,   3, 227,   0]), array([235,   3, 120,   0]), array([234,   3, 266,   0]), array([229,   3, 140,   0]), array([228,   3, 286,   0]), array([370,   3, 243,   0]), array([371,   3,  97,   0]), array([113,   3, 120,   0]), array([112,   3, 266,   0]), array([430,   3,  71,   0]), array([135,   3,  68,   0]), array([134,   3, 214,   0]), array([156,   3, 258,   0]), array([157,   3, 112,   0]), array([117,   3,  88,   0]), array([116,   3, 234,   0]), array([185,   3,  36,   0]), array([184,   3, 182,   0]), array([126,   3, 281,   0]), array([127,   3, 135,   0]), array([383,   4, 429,   0]), array([382,   4, 575,   0]), array([135,   4, 519,   0]), array([296,   4, 602,   0]), array([297,   4, 456,   0]), array([113,   4, 468,   0]), array([ 22,   4, 522,   0]), array([ 23,   4, 376,   0]), array([315,   4, 317,   0]), array([314,   4, 463,   0]), array([434,   4, 605,   0]), array([435,   4, 459,   0]), array([134,   4, 544,   0]), array([112,   4, 601,   0]), array([ 86,   4, 536,   0]), array([ 87,   4, 390,   0]), array([436,   4, 456,   0]), array([437,   4, 310,   0]), array([ 71,   4, 559,   0]), array([339,   4, 454,   0]), array([338,   4, 600,   0]), array([287,   4, 371,   0]), array([286,   4, 517,   0]), array([312,   4, 409,   0]), array([313,   4, 263,   0]), array([ 70,   4, 589,   0]), array([282,   4, 376,   0]), array([283,   4, 230,   0]), array([413,   4, 526,   0]), array([ 55,   4, 376,   0]), array([ 54,   4, 522,   0]), array([259,   4,  92,   0]), array([258,   4, 238,   0]), array([369,   4, 355,   0]), array([368,   4, 501,   0]), array([442,   4, 539,   0]), array([443,   4, 393,   0]), array([416,   4, 124,   0]), array([388,   4, 599,   0]), array([389,   4, 453,   0]), array([335,   4, 352,   0]), array([334,   4, 498,   0]), array([397,   4, 400,   0]), array([396,   4, 546,   0]), array([281,   4, 419,   0]), array([280,   4, 565,   0]), array([421,   4, 501,   0]), array([311,   4, 376,   0]), array([310,   4, 522,   0]), array([146,   4, 213,   0]), array([147,   4,  67,   0]), array([426,   4, 541,   0]), array([427,   4, 395,   0]), array([381,   4, 339,   0]), array([380,   4, 485,   0]), array([211,   4, 331,   0]), array([210,   4, 477,   0]), array([ 80,   4, 548,   0]), array([ 81,   4, 402,   0]), array([328,   4, 522,   0]), array([329,   4, 376,   0]), array([279,   4, 384,   0]), array([278,   4, 530,   0]), array([423,   4, 418,   0]), array([422,   4, 564,   0]), array([420,   4, 610,   0]), array([417,   4, 115,   0]), array([ 52,   4, 302,   0]), array([ 53,   4, 156,   0]), array([ 25,   4, 517,   0]), array([309,   4, 180,   0]), array([308,   4, 326,   0]), array([307,   4, 345,   0]), array([306,   4, 491,   0]), array([139,   4, 595,   0]), array([320,   4, 472,   0]), array([321,   4, 326,   0]), array([365,   4, 416,   0]), array([364,   4, 562,   0]), array([133,   4, 423,   0]), array([132,   4, 569,   0]), array([120,   4, 246,   0]), array([121,   4, 100,   0]), array([341,   4, 560,   0]), array([161,   4, 525,   0]), array([294,   4, 495,   0]), array([295,   4, 349,   0]), array([ 24,   4, 609,   0]), array([340,   4, 510,   0]), array([299,   4, 218,   0]), array([298,   4, 364,   0]), array([ 20,   4, 255,   0]), array([ 21,   4, 109,   0]), array([350,   4, 229,   0]), array([351,   4,  83,   0]), array([ 11,   4, 610,   0]), array([375,   4, 573,   0]), array([377,   4, 438,   0]), array([376,   4, 584,   0]), array([212,   4, 273,   0])]\n",
        "max units\n",
        "[array([0, 1, 2, 3, 4]), array([5, 6, 7, 8, 9]), array([10, 11, 12, 13, 14]), array([15, 16, 17, 18, 19]), array([20, 21, 22, 23, 24]), array([25, 26, 27, 28, 29]), array([30, 31, 32, 33, 34]), array([35, 36, 37, 38, 39]), array([40, 41, 42, 43, 44]), array([45, 46, 47, 48, 49]), array([50, 51, 52, 53, 54]), array([55, 56, 57, 58, 59]), array([60, 61, 62, 63, 64]), array([65, 66, 67, 68, 69]), array([70, 71, 72, 73, 74]), array([75, 76, 77, 78, 79]), array([80, 81, 82, 83, 84]), array([85, 86, 87, 88, 89]), array([90, 91, 92, 93, 94]), array([95, 96, 97, 98, 99]), array([100, 101, 102, 103]), array([104, 105, 106, 107]), array([108, 109, 110, 111]), array([112, 113, 114, 115]), array([116, 117, 118, 119]), array([120, 121, 122, 123]), array([124, 125, 126, 127]), array([128, 129, 130, 131]), array([132, 133, 134, 135]), array([136, 137, 138, 139]), array([140, 141, 142, 143]), array([144, 145, 146, 147]), array([148, 149, 150, 151]), array([152, 153, 154, 155]), array([156, 157, 158, 159]), array([160, 161, 162, 163]), array([164, 165, 166, 167]), array([168, 169, 170, 171]), array([172, 173, 174, 175]), array([176, 177, 178, 179]), array([180, 181, 182, 183]), array([184, 185, 186, 187]), array([188, 189, 190, 191]), array([192, 193, 194, 195]), array([196, 197, 198, 199]), array([200, 201, 202, 203]), array([204, 205, 206, 207]), array([208, 209, 210, 211]), array([212, 213, 214, 215]), array([216, 217, 218, 219]), array([220, 221, 222, 223]), array([224, 225, 226, 227]), array([228, 229, 230, 231]), array([232, 233, 234, 235]), array([236, 237, 238, 239]), array([240, 241, 242, 243]), array([244, 245, 246, 247]), array([248, 249, 250, 251]), array([252, 253, 254, 255]), array([256, 257, 258, 259]), array([260, 261, 262, 263]), array([264, 265, 266, 267]), array([268, 269, 270, 271]), array([272, 273, 274, 275]), array([276, 277, 278, 279]), array([280, 281, 282, 283]), array([284, 285, 286, 287]), array([288, 289, 290, 291]), array([292, 293, 294, 295]), array([296, 297, 298, 299]), array([300, 301, 302, 303]), array([304, 305, 306, 307]), array([308, 309, 310, 311]), array([312, 313, 314, 315]), array([316, 317, 318, 319]), array([320, 321, 322, 323]), array([324, 325, 326, 327]), array([328, 329, 330, 331]), array([332, 333, 334, 335]), array([336, 337, 338, 339]), array([340, 341, 342, 343]), array([344, 345, 346, 347]), array([348, 349, 350, 351]), array([352, 353, 354, 355]), array([356, 357, 358, 359]), array([360, 361, 362, 363]), array([364, 365, 366, 367]), array([368, 369, 370, 371]), array([372, 373, 374, 375]), array([376, 377, 378, 379]), array([380, 381, 382, 383]), array([384, 385, 386, 387]), array([388, 389, 390, 391]), array([392, 393, 394, 395]), array([396, 397, 398, 399]), array([400, 401, 402, 403]), array([404, 405, 406, 407]), array([408, 409, 410, 411]), array([412, 413, 414, 415]), array([416, 417, 418, 419]), array([420, 421, 422, 423]), array([424, 425, 426, 427]), array([428, 429, 430, 431]), array([432, 433, 434, 435]), array([436, 437, 438, 439]), array([440, 441, 442, 443]), array([444, 445, 446, 447]), array([448, 449, 450, 451]), array([452, 453, 454, 455]), array([456, 457, 458, 459]), array([460, 461, 462, 463]), array([464, 465, 466, 467]), array([468, 469, 470, 471]), array([472, 473, 474, 475]), array([476, 477, 478, 479]), array([480, 481, 482, 483]), array([484, 485, 486, 487]), array([488, 489, 490, 491]), array([492, 493, 494, 495]), array([496, 497, 498, 499])]\n",
        "Batch\n",
        "!!!W!!! Prod{acc_dtype=int64}.0\n",
        "!!!W!!! Prod{acc_dtype=int64}.0\n",
        "!!!W!!! Prod{acc_dtype=int64}.0\n"
       ]
      },
      {
       "output_type": "stream",
       "stream": "stdout",
       "text": [
        "Batch\n",
        "!!!W!!! Prod{acc_dtype=int64}.0\n",
        "!!!W!!! Prod{acc_dtype=int64}.0\n",
        "!!!W!!! Prod{acc_dtype=int64}.0\n"
       ]
      },
      {
       "output_type": "stream",
       "stream": "stdout",
       "text": [
        "Batch\n",
        "!!!W!!! Prod{acc_dtype=int64}.0\n",
        "!!!W!!! Prod{acc_dtype=int64}.0\n",
        "!!!W!!! Prod{acc_dtype=int64}.0\n"
       ]
      },
      {
       "output_type": "stream",
       "stream": "stdout",
       "text": [
        "Batch\n",
        "!!!W!!! Prod{acc_dtype=int64}.0\n",
        "!!!W!!! Prod{acc_dtype=int64}.0\n",
        "!!!W!!! Prod{acc_dtype=int64}.0\n"
       ]
      },
      {
       "output_type": "stream",
       "stream": "stdout",
       "text": [
        "Batch\n",
        "!!!W!!! Prod{acc_dtype=int64}.0\n",
        "!!!W!!! Prod{acc_dtype=int64}.0\n",
        "!!!W!!! Prod{acc_dtype=int64}.0\n"
       ]
      },
      {
       "output_type": "stream",
       "stream": "stdout",
       "text": [
        "Batch\n",
        "!!!W!!! Prod{acc_dtype=int64}.0\n",
        "!!!W!!! Prod{acc_dtype=int64}.0\n",
        "!!!W!!! Prod{acc_dtype=int64}.0\n"
       ]
      },
      {
       "output_type": "stream",
       "stream": "stdout",
       "text": [
        "Batch\n",
        "!!!W!!! Prod{acc_dtype=int64}.0\n",
        "!!!W!!! Prod{acc_dtype=int64}.0\n",
        "!!!W!!! Prod{acc_dtype=int64}.0\n"
       ]
      },
      {
       "output_type": "stream",
       "stream": "stdout",
       "text": [
        "Batch\n",
        "!!!W!!! Prod{acc_dtype=int64}.0\n",
        "!!!W!!! Prod{acc_dtype=int64}.0\n",
        "!!!W!!! Prod{acc_dtype=int64}.0\n"
       ]
      },
      {
       "output_type": "stream",
       "stream": "stdout",
       "text": [
        "Batch\n",
        "!!!W!!! Prod{acc_dtype=int64}.0\n",
        "!!!W!!! Prod{acc_dtype=int64}.0\n",
        "!!!W!!! Prod{acc_dtype=int64}.0\n"
       ]
      },
      {
       "output_type": "stream",
       "stream": "stdout",
       "text": [
        "Batch\n",
        "!!!W!!! Prod{acc_dtype=int64}.0\n",
        "!!!W!!! Prod{acc_dtype=int64}.0\n",
        "!!!W!!! Prod{acc_dtype=int64}.0\n"
       ]
      },
      {
       "output_type": "stream",
       "stream": "stdout",
       "text": [
        "Batch\n",
        "!!!W!!! Prod{acc_dtype=int64}.0\n",
        "!!!W!!! Prod{acc_dtype=int64}.0\n",
        "!!!W!!! Prod{acc_dtype=int64}.0\n"
       ]
      },
      {
       "output_type": "stream",
       "stream": "stdout",
       "text": [
        "Batch\n",
        "!!!W!!! Prod{acc_dtype=int64}.0\n",
        "!!!W!!! Prod{acc_dtype=int64}.0\n",
        "!!!W!!! Prod{acc_dtype=int64}.0\n"
       ]
      },
      {
       "output_type": "stream",
       "stream": "stdout",
       "text": [
        "Batch\n",
        "!!!W!!! Prod{acc_dtype=int64}.0\n",
        "!!!W!!! Prod{acc_dtype=int64}.0\n",
        "!!!W!!! Prod{acc_dtype=int64}.0\n"
       ]
      },
      {
       "output_type": "stream",
       "stream": "stdout",
       "text": [
        "Batch\n",
        "!!!W!!! Prod{acc_dtype=int64}.0\n",
        "!!!W!!! Prod{acc_dtype=int64}.0\n",
        "!!!W!!! Prod{acc_dtype=int64}.0\n"
       ]
      },
      {
       "output_type": "stream",
       "stream": "stdout",
       "text": [
        "Batch\n",
        "!!!W!!! Prod{acc_dtype=int64}.0\n",
        "!!!W!!! Prod{acc_dtype=int64}.0\n",
        "!!!W!!! Prod{acc_dtype=int64}.0\n"
       ]
      },
      {
       "output_type": "stream",
       "stream": "stdout",
       "text": [
        "Batch\n",
        "!!!W!!! Prod{acc_dtype=int64}.0\n",
        "!!!W!!! Prod{acc_dtype=int64}.0\n",
        "!!!W!!! Prod{acc_dtype=int64}.0\n"
       ]
      },
      {
       "output_type": "stream",
       "stream": "stdout",
       "text": [
        "Batch\n",
        "!!!W!!! Prod{acc_dtype=int64}.0\n",
        "!!!W!!! Prod{acc_dtype=int64}.0\n",
        "!!!W!!! Prod{acc_dtype=int64}.0\n"
       ]
      },
      {
       "output_type": "stream",
       "stream": "stdout",
       "text": [
        "Batch\n",
        "!!!W!!! Prod{acc_dtype=int64}.0\n",
        "!!!W!!! Prod{acc_dtype=int64}.0\n",
        "!!!W!!! Prod{acc_dtype=int64}.0\n"
       ]
      },
      {
       "output_type": "stream",
       "stream": "stdout",
       "text": [
        "Batch\n",
        "!!!W!!! Prod{acc_dtype=int64}.0\n",
        "!!!W!!! Prod{acc_dtype=int64}.0\n",
        "!!!W!!! Prod{acc_dtype=int64}.0\n"
       ]
      },
      {
       "output_type": "stream",
       "stream": "stdout",
       "text": [
        "Batch\n",
        "!!!W!!! Prod{acc_dtype=int64}.0\n",
        "!!!W!!! Prod{acc_dtype=int64}.0\n",
        "!!!W!!! Prod{acc_dtype=int64}.0\n"
       ]
      },
      {
       "output_type": "stream",
       "stream": "stdout",
       "text": [
        "Batch\n",
        "!!!W!!! Prod{acc_dtype=int64}.0\n",
        "!!!W!!! Prod{acc_dtype=int64}.0\n",
        "!!!W!!! Prod{acc_dtype=int64}.0\n"
       ]
      },
      {
       "output_type": "stream",
       "stream": "stdout",
       "text": [
        "Batch\n",
        "!!!W!!! Prod{acc_dtype=int64}.0\n",
        "!!!W!!! Prod{acc_dtype=int64}.0\n",
        "!!!W!!! Prod{acc_dtype=int64}.0\n"
       ]
      },
      {
       "output_type": "stream",
       "stream": "stdout",
       "text": [
        "Batch\n",
        "!!!W!!! Prod{acc_dtype=int64}.0\n",
        "!!!W!!! Prod{acc_dtype=int64}.0\n",
        "!!!W!!! Prod{acc_dtype=int64}.0\n"
       ]
      },
      {
       "output_type": "stream",
       "stream": "stdout",
       "text": [
        "Batch\n",
        "!!!W!!! Prod{acc_dtype=int64}.0\n",
        "!!!W!!! Prod{acc_dtype=int64}.0\n",
        "!!!W!!! Prod{acc_dtype=int64}.0\n"
       ]
      },
      {
       "output_type": "stream",
       "stream": "stdout",
       "text": [
        "Batch\n",
        "!!!W!!! Prod{acc_dtype=int64}.0\n",
        "!!!W!!! Prod{acc_dtype=int64}.0\n",
        "!!!W!!! Prod{acc_dtype=int64}.0\n"
       ]
      },
      {
       "output_type": "stream",
       "stream": "stdout",
       "text": [
        "Batch\n",
        "!!!W!!! Prod{acc_dtype=int64}.0\n",
        "!!!W!!! Prod{acc_dtype=int64}.0\n",
        "!!!W!!! Prod{acc_dtype=int64}.0\n"
       ]
      },
      {
       "output_type": "stream",
       "stream": "stdout",
       "text": [
        "Batch\n",
        "!!!W!!! Prod{acc_dtype=int64}.0\n",
        "!!!W!!! Prod{acc_dtype=int64}.0\n",
        "!!!W!!! Prod{acc_dtype=int64}.0\n"
       ]
      },
      {
       "output_type": "stream",
       "stream": "stdout",
       "text": [
        "Batch\n",
        "!!!W!!! Prod{acc_dtype=int64}.0\n",
        "!!!W!!! Prod{acc_dtype=int64}.0\n",
        "!!!W!!! Prod{acc_dtype=int64}.0\n"
       ]
      },
      {
       "output_type": "stream",
       "stream": "stdout",
       "text": [
        "Batch\n",
        "!!!W!!! Prod{acc_dtype=int64}.0\n",
        "!!!W!!! Prod{acc_dtype=int64}.0\n",
        "!!!W!!! Prod{acc_dtype=int64}.0\n"
       ]
      },
      {
       "output_type": "stream",
       "stream": "stdout",
       "text": [
        "Batch\n",
        "!!!W!!! Prod{acc_dtype=int64}.0\n",
        "!!!W!!! Prod{acc_dtype=int64}.0\n",
        "!!!W!!! Prod{acc_dtype=int64}.0\n"
       ]
      },
      {
       "output_type": "stream",
       "stream": "stdout",
       "text": [
        "Batch\n",
        "!!!W!!! Prod{acc_dtype=int64}.0\n",
        "!!!W!!! Prod{acc_dtype=int64}.0\n",
        "!!!W!!! Prod{acc_dtype=int64}.0\n"
       ]
      },
      {
       "output_type": "stream",
       "stream": "stdout",
       "text": [
        "Batch\n",
        "!!!W!!! Prod{acc_dtype=int64}.0\n",
        "!!!W!!! Prod{acc_dtype=int64}.0\n",
        "!!!W!!! Prod{acc_dtype=int64}.0\n"
       ]
      },
      {
       "output_type": "stream",
       "stream": "stdout",
       "text": [
        "Batch\n",
        "!!!W!!! Prod{acc_dtype=int64}.0\n",
        "!!!W!!! Prod{acc_dtype=int64}.0\n",
        "!!!W!!! Prod{acc_dtype=int64}.0\n"
       ]
      },
      {
       "output_type": "stream",
       "stream": "stdout",
       "text": [
        "Batch\n",
        "!!!W!!! Prod{acc_dtype=int64}.0\n",
        "!!!W!!! Prod{acc_dtype=int64}.0\n",
        "!!!W!!! Prod{acc_dtype=int64}.0\n"
       ]
      },
      {
       "output_type": "stream",
       "stream": "stdout",
       "text": [
        "Batch\n",
        "!!!W!!! Prod{acc_dtype=int64}.0\n",
        "!!!W!!! Prod{acc_dtype=int64}.0\n",
        "!!!W!!! Prod{acc_dtype=int64}.0\n"
       ]
      },
      {
       "output_type": "stream",
       "stream": "stdout",
       "text": [
        "Batch\n",
        "!!!W!!! Prod{acc_dtype=int64}.0\n",
        "!!!W!!! Prod{acc_dtype=int64}.0\n",
        "!!!W!!! Prod{acc_dtype=int64}.0\n"
       ]
      },
      {
       "output_type": "stream",
       "stream": "stdout",
       "text": [
        "Batch\n",
        "!!!W!!! Prod{acc_dtype=int64}.0\n",
        "!!!W!!! Prod{acc_dtype=int64}.0\n",
        "!!!W!!! Prod{acc_dtype=int64}.0\n"
       ]
      },
      {
       "output_type": "stream",
       "stream": "stdout",
       "text": [
        "Batch\n",
        "!!!W!!! Prod{acc_dtype=int64}.0\n",
        "!!!W!!! Prod{acc_dtype=int64}.0\n",
        "!!!W!!! Prod{acc_dtype=int64}.0\n"
       ]
      },
      {
       "output_type": "stream",
       "stream": "stdout",
       "text": [
        "Batch\n",
        "!!!W!!! Prod{acc_dtype=int64}.0\n",
        "!!!W!!! Prod{acc_dtype=int64}.0\n",
        "!!!W!!! Prod{acc_dtype=int64}.0\n"
       ]
      },
      {
       "output_type": "stream",
       "stream": "stdout",
       "text": [
        "Batch\n",
        "!!!W!!! Prod{acc_dtype=int64}.0\n",
        "!!!W!!! Prod{acc_dtype=int64}.0\n",
        "!!!W!!! Prod{acc_dtype=int64}.0\n"
       ]
      },
      {
       "output_type": "stream",
       "stream": "stdout",
       "text": [
        "Batch\n",
        "!!!W!!! Prod{acc_dtype=int64}.0\n",
        "!!!W!!! Prod{acc_dtype=int64}.0\n",
        "!!!W!!! Prod{acc_dtype=int64}.0\n"
       ]
      },
      {
       "output_type": "stream",
       "stream": "stdout",
       "text": [
        "Batch\n",
        "!!!W!!! Prod{acc_dtype=int64}.0\n",
        "!!!W!!! Prod{acc_dtype=int64}.0\n",
        "!!!W!!! Prod{acc_dtype=int64}.0\n"
       ]
      },
      {
       "output_type": "stream",
       "stream": "stdout",
       "text": [
        "Batch\n",
        "!!!W!!! Prod{acc_dtype=int64}.0\n",
        "!!!W!!! Prod{acc_dtype=int64}.0\n",
        "!!!W!!! Prod{acc_dtype=int64}.0\n"
       ]
      },
      {
       "output_type": "stream",
       "stream": "stdout",
       "text": [
        "Batch\n",
        "!!!W!!! Prod{acc_dtype=int64}.0\n",
        "!!!W!!! Prod{acc_dtype=int64}.0\n",
        "!!!W!!! Prod{acc_dtype=int64}.0\n"
       ]
      },
      {
       "output_type": "stream",
       "stream": "stdout",
       "text": [
        "Batch\n",
        "!!!W!!! Prod{acc_dtype=int64}.0\n",
        "!!!W!!! Prod{acc_dtype=int64}.0\n",
        "!!!W!!! Prod{acc_dtype=int64}.0\n"
       ]
      },
      {
       "output_type": "stream",
       "stream": "stdout",
       "text": [
        "Batch\n",
        "!!!W!!! Prod{acc_dtype=int64}.0\n",
        "!!!W!!! Prod{acc_dtype=int64}.0\n",
        "!!!W!!! Prod{acc_dtype=int64}.0\n"
       ]
      },
      {
       "output_type": "stream",
       "stream": "stdout",
       "text": [
        "Batch\n",
        "!!!W!!! Prod{acc_dtype=int64}.0\n",
        "!!!W!!! Prod{acc_dtype=int64}.0\n",
        "!!!W!!! Prod{acc_dtype=int64}.0\n"
       ]
      },
      {
       "output_type": "stream",
       "stream": "stdout",
       "text": [
        "Batch\n",
        "!!!W!!! Prod{acc_dtype=int64}.0\n",
        "!!!W!!! Prod{acc_dtype=int64}.0\n",
        "!!!W!!! Prod{acc_dtype=int64}.0\n"
       ]
      },
      {
       "output_type": "stream",
       "stream": "stdout",
       "text": [
        "Batch\n",
        "!!!W!!! Prod{acc_dtype=int64}.0\n",
        "!!!W!!! Prod{acc_dtype=int64}.0\n",
        "!!!W!!! Prod{acc_dtype=int64}.0\n"
       ]
      },
      {
       "output_type": "stream",
       "stream": "stdout",
       "text": [
        "Batch\n",
        "!!!W!!! Prod{acc_dtype=int64}.0\n",
        "!!!W!!! Prod{acc_dtype=int64}.0\n",
        "!!!W!!! Prod{acc_dtype=int64}.0\n"
       ]
      },
      {
       "output_type": "stream",
       "stream": "stdout",
       "text": [
        "Batch\n",
        "!!!W!!! Prod{acc_dtype=int64}.0\n",
        "!!!W!!! Prod{acc_dtype=int64}.0\n",
        "!!!W!!! Prod{acc_dtype=int64}.0\n"
       ]
      },
      {
       "output_type": "stream",
       "stream": "stdout",
       "text": [
        "Batch\n",
        "!!!W!!! Prod{acc_dtype=int64}.0\n",
        "!!!W!!! Prod{acc_dtype=int64}.0\n",
        "!!!W!!! Prod{acc_dtype=int64}.0\n"
       ]
      },
      {
       "output_type": "stream",
       "stream": "stdout",
       "text": [
        "Batch\n",
        "!!!W!!! Prod{acc_dtype=int64}.0\n",
        "!!!W!!! Prod{acc_dtype=int64}.0\n",
        "!!!W!!! Prod{acc_dtype=int64}.0\n"
       ]
      },
      {
       "output_type": "stream",
       "stream": "stdout",
       "text": [
        "Batch\n",
        "!!!W!!! Prod{acc_dtype=int64}.0\n",
        "!!!W!!! Prod{acc_dtype=int64}.0\n",
        "!!!W!!! Prod{acc_dtype=int64}.0\n"
       ]
      },
      {
       "output_type": "stream",
       "stream": "stdout",
       "text": [
        "Batch\n",
        "!!!W!!! Prod{acc_dtype=int64}.0\n",
        "!!!W!!! Prod{acc_dtype=int64}.0\n",
        "!!!W!!! Prod{acc_dtype=int64}.0\n"
       ]
      },
      {
       "output_type": "stream",
       "stream": "stdout",
       "text": [
        "Batch\n",
        "!!!W!!! Prod{acc_dtype=int64}.0\n",
        "!!!W!!! Prod{acc_dtype=int64}.0\n",
        "!!!W!!! Prod{acc_dtype=int64}.0\n"
       ]
      },
      {
       "output_type": "stream",
       "stream": "stdout",
       "text": [
        "Batch\n",
        "!!!W!!! Prod{acc_dtype=int64}.0\n",
        "!!!W!!! Prod{acc_dtype=int64}.0\n",
        "!!!W!!! Prod{acc_dtype=int64}.0\n"
       ]
      },
      {
       "output_type": "stream",
       "stream": "stdout",
       "text": [
        "Batch\n",
        "!!!W!!! Prod{acc_dtype=int64}.0\n",
        "!!!W!!! Prod{acc_dtype=int64}.0\n",
        "!!!W!!! Prod{acc_dtype=int64}.0\n"
       ]
      },
      {
       "output_type": "stream",
       "stream": "stdout",
       "text": [
        "Batch\n",
        "!!!W!!! Prod{acc_dtype=int64}.0\n",
        "!!!W!!! Prod{acc_dtype=int64}.0\n",
        "!!!W!!! Prod{acc_dtype=int64}.0\n"
       ]
      },
      {
       "output_type": "stream",
       "stream": "stdout",
       "text": [
        "Batch\n",
        "!!!W!!! Prod{acc_dtype=int64}.0\n",
        "!!!W!!! Prod{acc_dtype=int64}.0\n",
        "!!!W!!! Prod{acc_dtype=int64}.0\n"
       ]
      },
      {
       "output_type": "stream",
       "stream": "stdout",
       "text": [
        "Batch\n",
        "!!!W!!! Prod{acc_dtype=int64}.0\n",
        "!!!W!!! Prod{acc_dtype=int64}.0\n",
        "!!!W!!! Prod{acc_dtype=int64}.0\n"
       ]
      },
      {
       "output_type": "stream",
       "stream": "stdout",
       "text": [
        "Batch\n",
        "!!!W!!! Prod{acc_dtype=int64}.0\n",
        "!!!W!!! Prod{acc_dtype=int64}.0\n",
        "!!!W!!! Prod{acc_dtype=int64}.0\n"
       ]
      },
      {
       "output_type": "stream",
       "stream": "stdout",
       "text": [
        "Batch\n",
        "!!!W!!! Prod{acc_dtype=int64}.0\n",
        "!!!W!!! Prod{acc_dtype=int64}.0\n",
        "!!!W!!! Prod{acc_dtype=int64}.0\n"
       ]
      },
      {
       "output_type": "stream",
       "stream": "stdout",
       "text": [
        "Batch\n",
        "!!!W!!! Prod{acc_dtype=int64}.0\n",
        "!!!W!!! Prod{acc_dtype=int64}.0\n",
        "!!!W!!! Prod{acc_dtype=int64}.0\n"
       ]
      },
      {
       "output_type": "stream",
       "stream": "stdout",
       "text": [
        "Batch\n",
        "!!!W!!! Prod{acc_dtype=int64}.0\n",
        "!!!W!!! Prod{acc_dtype=int64}.0\n",
        "!!!W!!! Prod{acc_dtype=int64}.0\n"
       ]
      },
      {
       "output_type": "stream",
       "stream": "stdout",
       "text": [
        "Batch\n",
        "!!!W!!! Prod{acc_dtype=int64}.0\n",
        "!!!W!!! Prod{acc_dtype=int64}.0\n",
        "!!!W!!! Prod{acc_dtype=int64}.0\n"
       ]
      },
      {
       "output_type": "stream",
       "stream": "stdout",
       "text": [
        "Batch\n",
        "!!!W!!! Prod{acc_dtype=int64}.0\n",
        "!!!W!!! Prod{acc_dtype=int64}.0\n",
        "!!!W!!! Prod{acc_dtype=int64}.0\n"
       ]
      },
      {
       "output_type": "stream",
       "stream": "stdout",
       "text": [
        "Batch\n",
        "!!!W!!! Prod{acc_dtype=int64}.0\n",
        "!!!W!!! Prod{acc_dtype=int64}.0\n",
        "!!!W!!! Prod{acc_dtype=int64}.0\n"
       ]
      },
      {
       "output_type": "stream",
       "stream": "stdout",
       "text": [
        "Batch\n",
        "!!!W!!! Prod{acc_dtype=int64}.0\n",
        "!!!W!!! Prod{acc_dtype=int64}.0\n",
        "!!!W!!! Prod{acc_dtype=int64}.0\n"
       ]
      },
      {
       "output_type": "stream",
       "stream": "stdout",
       "text": [
        "Batch\n",
        "!!!W!!! Prod{acc_dtype=int64}.0\n",
        "!!!W!!! Prod{acc_dtype=int64}.0\n",
        "!!!W!!! Prod{acc_dtype=int64}.0\n"
       ]
      },
      {
       "output_type": "stream",
       "stream": "stdout",
       "text": [
        "Batch\n",
        "!!!W!!! Prod{acc_dtype=int64}.0\n",
        "!!!W!!! Prod{acc_dtype=int64}.0\n",
        "!!!W!!! Prod{acc_dtype=int64}.0\n"
       ]
      },
      {
       "output_type": "stream",
       "stream": "stdout",
       "text": [
        "Batch\n",
        "!!!W!!! Prod{acc_dtype=int64}.0\n",
        "!!!W!!! Prod{acc_dtype=int64}.0\n",
        "!!!W!!! Prod{acc_dtype=int64}.0\n"
       ]
      },
      {
       "output_type": "stream",
       "stream": "stdout",
       "text": [
        "Batch\n",
        "!!!W!!! Prod{acc_dtype=int64}.0\n",
        "!!!W!!! Prod{acc_dtype=int64}.0\n",
        "!!!W!!! Prod{acc_dtype=int64}.0\n"
       ]
      },
      {
       "output_type": "stream",
       "stream": "stdout",
       "text": [
        "Batch\n",
        "!!!W!!! Prod{acc_dtype=int64}.0\n",
        "!!!W!!! Prod{acc_dtype=int64}.0\n",
        "!!!W!!! Prod{acc_dtype=int64}.0\n"
       ]
      },
      {
       "output_type": "stream",
       "stream": "stdout",
       "text": [
        "Batch\n",
        "!!!W!!! Prod{acc_dtype=int64}.0\n",
        "!!!W!!! Prod{acc_dtype=int64}.0\n",
        "!!!W!!! Prod{acc_dtype=int64}.0\n"
       ]
      },
      {
       "output_type": "stream",
       "stream": "stdout",
       "text": [
        "Batch\n",
        "!!!W!!! Prod{acc_dtype=int64}.0\n",
        "!!!W!!! Prod{acc_dtype=int64}.0\n",
        "!!!W!!! Prod{acc_dtype=int64}.0\n"
       ]
      },
      {
       "output_type": "stream",
       "stream": "stdout",
       "text": [
        "Batch\n",
        "!!!W!!! Prod{acc_dtype=int64}.0\n",
        "!!!W!!! Prod{acc_dtype=int64}.0\n",
        "!!!W!!! Prod{acc_dtype=int64}.0\n"
       ]
      },
      {
       "output_type": "stream",
       "stream": "stdout",
       "text": [
        "Batch\n",
        "!!!W!!! Prod{acc_dtype=int64}.0\n",
        "!!!W!!! Prod{acc_dtype=int64}.0\n",
        "!!!W!!! Prod{acc_dtype=int64}.0\n"
       ]
      },
      {
       "output_type": "stream",
       "stream": "stdout",
       "text": [
        "Batch\n",
        "!!!W!!! Prod{acc_dtype=int64}.0\n",
        "!!!W!!! Prod{acc_dtype=int64}.0\n",
        "!!!W!!! Prod{acc_dtype=int64}.0\n"
       ]
      },
      {
       "output_type": "stream",
       "stream": "stdout",
       "text": [
        "Batch\n",
        "!!!W!!! Prod{acc_dtype=int64}.0\n",
        "!!!W!!! Prod{acc_dtype=int64}.0\n",
        "!!!W!!! Prod{acc_dtype=int64}.0\n"
       ]
      },
      {
       "output_type": "stream",
       "stream": "stdout",
       "text": [
        "Batch\n",
        "!!!W!!! Prod{acc_dtype=int64}.0\n",
        "!!!W!!! Prod{acc_dtype=int64}.0\n",
        "!!!W!!! Prod{acc_dtype=int64}.0\n"
       ]
      },
      {
       "output_type": "stream",
       "stream": "stdout",
       "text": [
        "Batch\n",
        "!!!W!!! Prod{acc_dtype=int64}.0\n",
        "!!!W!!! Prod{acc_dtype=int64}.0\n",
        "!!!W!!! Prod{acc_dtype=int64}.0\n"
       ]
      },
      {
       "output_type": "stream",
       "stream": "stdout",
       "text": [
        "Batch\n",
        "!!!W!!! Prod{acc_dtype=int64}.0\n",
        "!!!W!!! Prod{acc_dtype=int64}.0\n",
        "!!!W!!! Prod{acc_dtype=int64}.0\n"
       ]
      },
      {
       "output_type": "stream",
       "stream": "stdout",
       "text": [
        "Batch\n",
        "!!!W!!! Prod{acc_dtype=int64}.0\n",
        "!!!W!!! Prod{acc_dtype=int64}.0\n",
        "!!!W!!! Prod{acc_dtype=int64}.0\n"
       ]
      },
      {
       "output_type": "stream",
       "stream": "stdout",
       "text": [
        "Batch\n",
        "!!!W!!! Prod{acc_dtype=int64}.0\n",
        "!!!W!!! Prod{acc_dtype=int64}.0\n",
        "!!!W!!! Prod{acc_dtype=int64}.0\n"
       ]
      },
      {
       "output_type": "stream",
       "stream": "stdout",
       "text": [
        "Batch\n",
        "!!!W!!! Prod{acc_dtype=int64}.0\n",
        "!!!W!!! Prod{acc_dtype=int64}.0\n",
        "!!!W!!! Prod{acc_dtype=int64}.0\n"
       ]
      },
      {
       "output_type": "stream",
       "stream": "stdout",
       "text": [
        "Batch\n",
        "!!!W!!! Prod{acc_dtype=int64}.0\n",
        "!!!W!!! Prod{acc_dtype=int64}.0\n",
        "!!!W!!! Prod{acc_dtype=int64}.0\n"
       ]
      },
      {
       "output_type": "stream",
       "stream": "stdout",
       "text": [
        "Batch\n",
        "!!!W!!! Prod{acc_dtype=int64}.0\n",
        "!!!W!!! Prod{acc_dtype=int64}.0\n",
        "!!!W!!! Prod{acc_dtype=int64}.0\n"
       ]
      },
      {
       "output_type": "stream",
       "stream": "stdout",
       "text": [
        "Batch\n",
        "!!!W!!! Prod{acc_dtype=int64}.0\n",
        "!!!W!!! Prod{acc_dtype=int64}.0\n",
        "!!!W!!! Prod{acc_dtype=int64}.0\n"
       ]
      },
      {
       "output_type": "stream",
       "stream": "stdout",
       "text": [
        "Batch\n",
        "!!!W!!! Prod{acc_dtype=int64}.0\n",
        "!!!W!!! Prod{acc_dtype=int64}.0\n",
        "!!!W!!! Prod{acc_dtype=int64}.0\n"
       ]
      },
      {
       "output_type": "stream",
       "stream": "stdout",
       "text": [
        "Batch\n",
        "!!!W!!! Prod{acc_dtype=int64}.0\n",
        "!!!W!!! Prod{acc_dtype=int64}.0\n",
        "!!!W!!! Prod{acc_dtype=int64}.0\n"
       ]
      },
      {
       "output_type": "stream",
       "stream": "stdout",
       "text": [
        "Batch\n",
        "!!!W!!! Prod{acc_dtype=int64}.0\n",
        "!!!W!!! Prod{acc_dtype=int64}.0\n",
        "!!!W!!! Prod{acc_dtype=int64}.0\n"
       ]
      },
      {
       "output_type": "stream",
       "stream": "stdout",
       "text": [
        "Batch\n",
        "!!!W!!! Prod{acc_dtype=int64}.0\n",
        "!!!W!!! Prod{acc_dtype=int64}.0\n",
        "!!!W!!! Prod{acc_dtype=int64}.0\n"
       ]
      },
      {
       "output_type": "stream",
       "stream": "stdout",
       "text": [
        "Batch\n",
        "!!!W!!! Prod{acc_dtype=int64}.0\n",
        "!!!W!!! Prod{acc_dtype=int64}.0\n",
        "!!!W!!! Prod{acc_dtype=int64}.0\n"
       ]
      },
      {
       "output_type": "stream",
       "stream": "stdout",
       "text": [
        "Batch\n",
        "!!!W!!! Prod{acc_dtype=int64}.0\n",
        "!!!W!!! Prod{acc_dtype=int64}.0\n",
        "!!!W!!! Prod{acc_dtype=int64}.0\n"
       ]
      },
      {
       "output_type": "stream",
       "stream": "stdout",
       "text": [
        "Batch\n",
        "!!!W!!! Prod{acc_dtype=int64}.0\n",
        "!!!W!!! Prod{acc_dtype=int64}.0\n",
        "!!!W!!! Prod{acc_dtype=int64}.0\n"
       ]
      },
      {
       "output_type": "stream",
       "stream": "stdout",
       "text": [
        "Batch\n",
        "!!!W!!! Prod{acc_dtype=int64}.0\n",
        "!!!W!!! Prod{acc_dtype=int64}.0\n",
        "!!!W!!! Prod{acc_dtype=int64}.0\n"
       ]
      },
      {
       "output_type": "stream",
       "stream": "stdout",
       "text": [
        "Batch\n",
        "!!!W!!! Prod{acc_dtype=int64}.0\n",
        "!!!W!!! Prod{acc_dtype=int64}.0\n",
        "!!!W!!! Prod{acc_dtype=int64}.0\n"
       ]
      },
      {
       "output_type": "stream",
       "stream": "stdout",
       "text": [
        "Batch\n",
        "!!!W!!! Prod{acc_dtype=int64}.0\n",
        "!!!W!!! Prod{acc_dtype=int64}.0\n",
        "!!!W!!! Prod{acc_dtype=int64}.0\n"
       ]
      },
      {
       "output_type": "stream",
       "stream": "stdout",
       "text": [
        "Batch\n",
        "!!!W!!! Prod{acc_dtype=int64}.0\n",
        "!!!W!!! Prod{acc_dtype=int64}.0\n",
        "!!!W!!! Prod{acc_dtype=int64}.0\n"
       ]
      },
      {
       "output_type": "stream",
       "stream": "stdout",
       "text": [
        "Batch\n",
        "!!!W!!! Prod{acc_dtype=int64}.0\n",
        "!!!W!!! Prod{acc_dtype=int64}.0\n",
        "!!!W!!! Prod{acc_dtype=int64}.0\n"
       ]
      },
      {
       "output_type": "stream",
       "stream": "stdout",
       "text": [
        "Batch\n",
        "!!!W!!! Prod{acc_dtype=int64}.0\n",
        "!!!W!!! Prod{acc_dtype=int64}.0\n",
        "!!!W!!! Prod{acc_dtype=int64}.0\n"
       ]
      },
      {
       "output_type": "stream",
       "stream": "stdout",
       "text": [
        "Batch\n",
        "!!!W!!! Prod{acc_dtype=int64}.0\n",
        "!!!W!!! Prod{acc_dtype=int64}.0\n",
        "!!!W!!! Prod{acc_dtype=int64}.0\n"
       ]
      },
      {
       "output_type": "stream",
       "stream": "stdout",
       "text": [
        "Batch\n",
        "!!!W!!! Prod{acc_dtype=int64}.0\n",
        "!!!W!!! Prod{acc_dtype=int64}.0\n",
        "!!!W!!! Prod{acc_dtype=int64}.0\n"
       ]
      },
      {
       "output_type": "stream",
       "stream": "stdout",
       "text": [
        "Batch\n",
        "!!!W!!! Prod{acc_dtype=int64}.0\n",
        "!!!W!!! Prod{acc_dtype=int64}.0\n",
        "!!!W!!! Prod{acc_dtype=int64}.0\n"
       ]
      },
      {
       "output_type": "stream",
       "stream": "stdout",
       "text": [
        "Batch\n",
        "!!!W!!! Prod{acc_dtype=int64}.0\n",
        "!!!W!!! Prod{acc_dtype=int64}.0\n",
        "!!!W!!! Prod{acc_dtype=int64}.0\n"
       ]
      },
      {
       "output_type": "stream",
       "stream": "stdout",
       "text": [
        "Batch\n",
        "!!!W!!! Prod{acc_dtype=int64}.0\n",
        "!!!W!!! Prod{acc_dtype=int64}.0\n",
        "!!!W!!! Prod{acc_dtype=int64}.0\n"
       ]
      },
      {
       "output_type": "stream",
       "stream": "stdout",
       "text": [
        "Batch\n",
        "!!!W!!! Prod{acc_dtype=int64}.0\n",
        "!!!W!!! Prod{acc_dtype=int64}.0\n",
        "!!!W!!! Prod{acc_dtype=int64}.0\n"
       ]
      },
      {
       "output_type": "stream",
       "stream": "stdout",
       "text": [
        "Batch\n",
        "!!!W!!! Prod{acc_dtype=int64}.0\n",
        "!!!W!!! Prod{acc_dtype=int64}.0\n",
        "!!!W!!! Prod{acc_dtype=int64}.0\n"
       ]
      },
      {
       "output_type": "stream",
       "stream": "stdout",
       "text": [
        "Batch\n",
        "!!!W!!! Prod{acc_dtype=int64}.0\n",
        "!!!W!!! Prod{acc_dtype=int64}.0\n",
        "!!!W!!! Prod{acc_dtype=int64}.0\n"
       ]
      },
      {
       "output_type": "stream",
       "stream": "stdout",
       "text": [
        "Batch\n",
        "!!!W!!! Prod{acc_dtype=int64}.0\n",
        "!!!W!!! Prod{acc_dtype=int64}.0\n",
        "!!!W!!! Prod{acc_dtype=int64}.0\n"
       ]
      },
      {
       "output_type": "stream",
       "stream": "stdout",
       "text": [
        "Batch\n",
        "!!!W!!! Prod{acc_dtype=int64}.0\n",
        "!!!W!!! Prod{acc_dtype=int64}.0\n",
        "!!!W!!! Prod{acc_dtype=int64}.0\n"
       ]
      },
      {
       "output_type": "stream",
       "stream": "stdout",
       "text": [
        "Batch\n",
        "!!!W!!! Prod{acc_dtype=int64}.0\n",
        "!!!W!!! Prod{acc_dtype=int64}.0\n",
        "!!!W!!! Prod{acc_dtype=int64}.0\n"
       ]
      },
      {
       "output_type": "stream",
       "stream": "stdout",
       "text": [
        "Batch\n",
        "!!!W!!! Prod{acc_dtype=int64}.0\n",
        "!!!W!!! Prod{acc_dtype=int64}.0\n",
        "!!!W!!! Prod{acc_dtype=int64}.0\n"
       ]
      },
      {
       "output_type": "stream",
       "stream": "stdout",
       "text": [
        "Batch\n",
        "!!!W!!! Prod{acc_dtype=int64}.0\n",
        "!!!W!!! Prod{acc_dtype=int64}.0\n",
        "!!!W!!! Prod{acc_dtype=int64}.0\n"
       ]
      },
      {
       "output_type": "stream",
       "stream": "stdout",
       "text": [
        "Batch\n",
        "!!!W!!! Prod{acc_dtype=int64}.0\n",
        "!!!W!!! Prod{acc_dtype=int64}.0\n",
        "!!!W!!! Prod{acc_dtype=int64}.0\n"
       ]
      },
      {
       "output_type": "stream",
       "stream": "stdout",
       "text": [
        "Batch\n",
        "!!!W!!! Prod{acc_dtype=int64}.0\n",
        "!!!W!!! Prod{acc_dtype=int64}.0\n",
        "!!!W!!! Prod{acc_dtype=int64}.0\n"
       ]
      },
      {
       "output_type": "stream",
       "stream": "stdout",
       "text": [
        "Batch\n",
        "!!!W!!! Prod{acc_dtype=int64}.0\n",
        "!!!W!!! Prod{acc_dtype=int64}.0\n",
        "!!!W!!! Prod{acc_dtype=int64}.0\n"
       ]
      },
      {
       "output_type": "stream",
       "stream": "stdout",
       "text": [
        "Batch\n",
        "!!!W!!! Prod{acc_dtype=int64}.0\n",
        "!!!W!!! Prod{acc_dtype=int64}.0\n",
        "!!!W!!! Prod{acc_dtype=int64}.0\n"
       ]
      },
      {
       "output_type": "stream",
       "stream": "stdout",
       "text": [
        "Batch\n",
        "!!!W!!! Prod{acc_dtype=int64}.0\n",
        "!!!W!!! Prod{acc_dtype=int64}.0\n",
        "!!!W!!! Prod{acc_dtype=int64}.0\n"
       ]
      },
      {
       "output_type": "stream",
       "stream": "stdout",
       "text": [
        "Outputs (446, 5, 614, 1)\n",
        "Filter\n",
        "Filter\n",
        "Filter\n",
        "Filter\n"
       ]
      },
      {
       "output_type": "stream",
       "stream": "stdout",
       "text": [
        "Filter\n",
        "[array([431,   0, 178,   0]), array([430,   0, 324,   0]), array([432,   0, 301,   0]), array([433,   0, 155,   0]), array([147,   0, 249,   0]), array([146,   0, 395,   0]), array([175,   0, 442,   0]), array([174,   0, 588,   0]), array([243,   0,  34,   0]), array([242,   0, 180,   0]), array([416,   0, 421,   0]), array([417,   0, 275,   0]), array([325,   0, 211,   0]), array([324,   0, 357,   0]), array([144,   0, 367,   0]), array([145,   0, 221,   0]), array([170,   0, 394,   0]), array([171,   0, 248,   0]), array([445,   0, 472,   0]), array([309,   0,  87,   0]), array([308,   0, 233,   0]), array([ 27,   0, 542,   0]), array([ 78,   0, 427,   0]), array([ 79,   0, 281,   0]), array([257,   0, 491,   0]), array([256,   0, 577,   0]), array([223,   0, 268,   0]), array([222,   0, 414,   0]), array([404,   0, 517,   0]), array([405,   0, 371,   0]), array([100,   0, 507,   0]), array([101,   0, 361,   0]), array([349,   0, 277,   0]), array([348,   0, 423,   0]), array([444,   0, 606,   0]), array([183,   0, 519,   0]), array([ 47,   0, 154,   0]), array([ 46,   0, 300,   0]), array([311,   0,  85,   0]), array([310,   0, 231,   0]), array([358,   0, 225,   0]), array([359,   0,  79,   0]), array([122,   0, 312,   0]), array([123,   0, 166,   0]), array([333,   0, 604,   0]), array([275,   0, 419,   0]), array([274,   0, 565,   0]), array([ 68,   0, 190,   0]), array([69,  0, 44,  0]), array([384,   0, 179,   0]), array([385,   0,  33,   0]), array([344,   0, 443,   0]), array([345,   0, 297,   0]), array([291,   0, 460,   0]), array([290,   0, 606,   0]), array([343,   0,  44,   0]), array([342,   0, 190,   0]), array([420,   0, 396,   0]), array([421,   0, 250,   0]), array([219,   0, 286,   0]), array([218,   0, 432,   0]), array([ 51,   0, 554,   0]), array([ 59,   0, 584,   0]), array([307,   0, 138,   0]), array([306,   0, 284,   0]), array([329,   0, 423,   0]), array([328,   0, 569,   0]), array([177,   0,  55,   0]), array([176,   0, 201,   0]), array([408,   0, 350,   0]), array([409,   0, 204,   0]), array([334,   0, 295,   0]), array([335,   0, 149,   0]), array([287,   0, 307,   0]), array([286,   0, 453,   0]), array([336,   0, 332,   0]), array([337,   0, 186,   0]), array([389,   0,  42,   0]), array([388,   0, 188,   0]), array([399,   0, 516,   0]), array([ 73,   0, 355,   0]), array([ 72,   0, 501,   0]), array([373,   0, 338,   0]), array([372,   0, 484,   0]), array([172,   0, 353,   0]), array([173,   0, 207,   0]), array([155,   0, 361,   0]), array([154,   0, 507,   0]), array([442,   0, 186,   0]), array([443,   0,  40,   0]), array([315,   0, 535,   0]), array([ 39,   0, 472,   0]), array([237,   0, 321,   0]), array([236,   0, 467,   0]), array([ 38,   0, 510,   0]), array([260,   0, 574,   0]), array([261,   0, 428,   0]), array([ 50,   0, 506,   0]), array([239,   0, 474,   0]), array([303,   0, 580,   0]), array([243,   1,  21,   0]), array([242,   1, 167,   0]), array([175,   1, 430,   0]), array([174,   1, 576,   0]), array([433,   1, 164,   0]), array([432,   1, 310,   0]), array([146,   1, 541,   0]), array([147,   1, 395,   0]), array([431,   1, 179,   0]), array([430,   1, 325,   0]), array([171,   1, 221,   0]), array([170,   1, 367,   0]), array([325,   1, 352,   0]), array([324,   1, 498,   0]), array([145,   1, 169,   0]), array([144,   1, 315,   0]), array([257,   1, 434,   0]), array([256,   1, 580,   0]), array([223,   1, 268,   0]), array([222,   1, 414,   0]), array([123,   1, 164,   0]), array([122,   1, 310,   0]), array([389,   1,  42,   0]), array([388,   1, 188,   0]), array([100,   1, 547,   0]), array([101,   1, 401,   0]), array([417,   1, 275,   0]), array([416,   1, 421,   0]), array([358,   1, 225,   0]), array([359,   1,  79,   0]), array([311,   1,  86,   0]), array([310,   1, 232,   0]), array([384,   1, 170,   0]), array([385,   1,  24,   0]), array([348,   1, 423,   0]), array([349,   1, 277,   0]), array([405,   1, 371,   0]), array([404,   1, 517,   0]), array([ 79,   1, 284,   0]), array([ 78,   1, 430,   0]), array([274,   1, 562,   0]), array([275,   1, 416,   0]), array([ 68,   1, 187,   0]), array([69,  1, 41,  0]), array([192,   1, 191,   0]), array([193,   1,  45,   0]), array([47,  1, 72,  0]), array([ 46,   1, 218,   0]), array([307,   1, 138,   0]), array([306,   1, 284,   0]), array([445,   1, 472,   0]), array([ 27,   1, 542,   0]), array([444,   1, 612,   0]), array([ 51,   1, 577,   0]), array([290,   1, 606,   0]), array([291,   1, 460,   0]), array([309,   1,  87,   0]), array([308,   1, 233,   0]), array([ 36,   1, 219,   0]), array([37,  1, 73,  0]), array([219,   1, 531,   0]), array([345,   1, 297,   0]), array([344,   1, 443,   0]), array([ 24,   1, 137,   0]), array([303,   1, 580,   0]), array([177,   1,  55,   0]), array([176,   1, 201,   0]), array([288,   1, 204,   0]), array([289,   1,  58,   0]), array([420,   1, 376,   0]), array([421,   1, 230,   0]), array([ 72,   1, 519,   0]), array([ 73,   1, 373,   0]), array([185,   1, 131,   0]), array([184,   1, 277,   0]), array([ 50,   1, 506,   0]), array([373,   1, 356,   0]), array([372,   1, 502,   0]), array([343,   1,  44,   0]), array([342,   1, 190,   0]), array([186,   1, 226,   0]), array([187,   1,  80,   0]), array([333,   1, 604,   0]), array([409,   1, 201,   0]), array([408,   1, 347,   0]), array([172,   1, 465,   0]), array([173,   1, 319,   0]), array([399,   1, 517,   0]), array([ 39,   1, 346,   0]), array([ 38,   1, 492,   0]), array([287,   1, 304,   0]), array([286,   1, 450,   0]), array([330,   1, 180,   0]), array([331,   1,  34,   0]), array([166,   1, 455,   0]), array([167,   1, 309,   0]), array([109,   1,  67,   0]), array([108,   1, 213,   0]), array([198,   1, 608,   0]), array([199,   1, 462,   0]), array([431,   2, 204,   0]), array([430,   2, 350,   0]), array([433,   2, 212,   0]), array([432,   2, 358,   0]), array([325,   2, 397,   0]), array([324,   2, 543,   0]), array([175,   2, 425,   0]), array([174,   2, 571,   0]), array([146,   2, 512,   0]), array([147,   2, 366,   0]), array([170,   2, 344,   0]), array([171,   2, 198,   0]), array([417,   2, 293,   0]), array([416,   2, 439,   0]), array([123,   2, 166,   0]), array([122,   2, 312,   0]), array([242,   2, 171,   0]), array([243,   2,  25,   0]), array([256,   2, 589,   0]), array([257,   2, 443,   0]), array([358,   2, 228,   0]), array([359,   2,  82,   0]), array([311,   2,  98,   0]), array([310,   2, 244,   0]), array([329,   2, 479,   0]), array([69,  2, 53,  0]), array([ 68,   2, 199,   0]), array([145,   2, 153,   0]), array([144,   2, 299,   0]), array([348,   2, 477,   0]), array([349,   2, 331,   0]), array([275,   2, 416,   0]), array([274,   2, 562,   0]), array([421,   2, 254,   0]), array([420,   2, 400,   0]), array([385,   2,  39,   0]), array([384,   2, 185,   0]), array([307,   2, 163,   0]), array([306,   2, 309,   0]), array([ 51,   2, 576,   0]), array([328,   2, 613,   0]), array([155,   2, 355,   0]), array([154,   2, 501,   0]), array([388,   2, 215,   0]), array([389,   2,  69,   0]), array([100,   2, 583,   0]), array([101,   2, 437,   0]), array([172,   2, 453,   0]), array([173,   2, 307,   0]), array([223,   2, 263,   0]), array([222,   2, 409,   0]), array([405,   2, 373,   0]), array([404,   2, 519,   0]), array([308,   2, 206,   0]), array([309,   2,  60,   0]), array([ 78,   2, 433,   0]), array([ 79,   2, 287,   0]), array([445,   2,  94,   0]), array([444,   2, 240,   0]), array([47,  2, 78,  0]), array([ 46,   2, 224,   0]), array([183,   2, 504,   0]), array([177,   2,  73,   0]), array([176,   2, 219,   0]), array([ 27,   2, 497,   0]), array([219,   2,  98,   0]), array([218,   2, 244,   0]), array([345,   2,  67,   0]), array([344,   2, 213,   0]), array([332,   2, 193,   0]), array([333,   2,  47,   0]), array([413,   2, 110,   0]), array([412,   2, 256,   0]), array([342,   2, 189,   0]), array([343,   2,  43,   0]), array([236,   2, 488,   0]), array([237,   2, 342,   0]), array([ 26,   2, 553,   0]), array([399,   2, 516,   0]), array([261,   2, 518,   0]), array([330,   2, 198,   0]), array([331,   2,  52,   0]), array([141,   2, 562,   0]), array([278,   2, 228,   0]), array([279,   2,  82,   0]), array([112,   2, 225,   0]), array([113,   2,  79,   0]), array([372,   2, 499,   0]), array([373,   2, 353,   0]), array([ 24,   2, 201,   0]), array([25,  2, 55,  0]), array([336,   2, 335,   0]), array([337,   2, 189,   0]), array([109,   2,  64,   0]), array([108,   2, 210,   0]), array([335,   2, 103,   0]), array([334,   2, 249,   0]), array([289,   2, 115,   0]), array([288,   2, 261,   0]), array([ 59,   2, 599,   0]), array([433,   3, 152,   0]), array([432,   3, 298,   0]), array([242,   3, 185,   0]), array([243,   3,  39,   0]), array([174,   3, 571,   0]), array([175,   3, 425,   0]), array([147,   3, 395,   0]), array([146,   3, 541,   0]), array([325,   3, 346,   0]), array([324,   3, 492,   0]), array([170,   3, 365,   0]), array([171,   3, 219,   0]), array([431,   3, 182,   0]), array([430,   3, 328,   0]), array([101,   3, 430,   0]), array([100,   3, 576,   0]), array([256,   3, 589,   0]), array([257,   3, 443,   0]), array([405,   3, 371,   0]), array([404,   3, 517,   0]), array([348,   3, 589,   0]), array([349,   3, 443,   0]), array([417,   3, 582,   0]), array([445,   3, 487,   0]), array([122,   3, 312,   0]), array([123,   3, 166,   0]), array([310,   3, 233,   0]), array([311,   3,  87,   0]), array([444,   3, 612,   0]), array([ 51,   3, 554,   0]), array([ 27,   3, 517,   0]), array([274,   3, 565,   0]), array([275,   3, 419,   0]), array([144,   3, 315,   0]), array([145,   3, 169,   0]), array([328,   3, 569,   0]), array([329,   3, 423,   0]), array([416,   3, 397,   0]), array([388,   3, 328,   0]), array([389,   3, 182,   0]), array([409,   3, 206,   0]), array([408,   3, 352,   0]), array([291,   3, 414,   0]), array([290,   3, 560,   0]), array([308,   3, 228,   0]), array([309,   3,  82,   0]), array([192,   3, 200,   0]), array([193,   3,  54,   0]), array([359,   3,  79,   0]), array([358,   3, 225,   0]), array([384,   3, 170,   0]), array([385,   3,  24,   0]), array([222,   3, 413,   0]), array([223,   3, 267,   0]), array([ 72,   3, 585,   0]), array([ 73,   3, 439,   0]), array([ 38,   3, 357,   0]), array([ 39,   3, 211,   0]), array([372,   3, 499,   0]), array([373,   3, 353,   0]), array([69,  3, 34,  0]), array([ 68,   3, 180,   0]), array([353,   3, 184,   0]), array([352,   3, 330,   0]), array([47,  3, 54,  0]), array([ 46,   3, 200,   0]), array([306,   3, 289,   0]), array([307,   3, 143,   0]), array([364,   3, 312,   0]), array([365,   3, 166,   0]), array([172,   3, 362,   0]), array([173,   3, 216,   0]), array([289,   3, 100,   0]), array([288,   3, 246,   0]), array([ 19,   3, 515,   0]), array([260,   3, 599,   0]), array([261,   3, 453,   0]), array([399,   3, 516,   0]), array([ 50,   3, 508,   0]), array([278,   3, 379,   0]), array([279,   3, 233,   0]), array([342,   3, 187,   0]), array([343,   3,  41,   0]), array([249,   3, 529,   0]), array([ 65,   3, 577,   0]), array([336,   3, 359,   0]), array([337,   3, 213,   0]), array([286,   3, 441,   0]), array([287,   3, 295,   0]), array([166,   3, 411,   0]), array([167,   3, 265,   0]), array([356,   3, 461,   0]), array([357,   3, 315,   0]), array([ 26,   3, 463,   0]), array([ 79,   3, 284,   0]), array([ 78,   3, 430,   0]), array([176,   3, 288,   0]), array([177,   3, 142,   0]), array([183,   3, 504,   0]), array([141,   3, 529,   0]), array([174,   4, 567,   0]), array([175,   4, 421,   0]), array([242,   4, 184,   0]), array([243,   4,  38,   0]), array([432,   4, 298,   0]), array([433,   4, 152,   0]), array([171,   4, 207,   0]), array([170,   4, 353,   0]), array([146,   4, 541,   0]), array([147,   4, 395,   0]), array([223,   4, 263,   0]), array([222,   4, 409,   0]), array([430,   4, 331,   0]), array([431,   4, 185,   0]), array([274,   4, 565,   0]), array([275,   4, 419,   0]), array([256,   4, 580,   0]), array([257,   4, 434,   0]), array([389,   4,  39,   0]), array([388,   4, 185,   0]), array([100,   4, 583,   0]), array([101,   4, 437,   0]), array([325,   4, 208,   0]), array([324,   4, 354,   0]), array([417,   4, 293,   0]), array([416,   4, 439,   0]), array([149,   4, 217,   0]), array([148,   4, 363,   0]), array([144,   4, 300,   0]), array([145,   4, 154,   0]), array([385,   4,  42,   0]), array([384,   4, 188,   0]), array([420,   4, 402,   0]), array([421,   4, 256,   0]), array([193,   4,  60,   0]), array([192,   4, 206,   0]), array([ 72,   4, 510,   0]), array([ 73,   4, 364,   0]), array([307,   4, 143,   0]), array([306,   4, 289,   0]), array([122,   4, 190,   0]), array([123,   4,  44,   0]), array([239,   4, 471,   0]), array([ 27,   4, 611,   0]), array([ 51,   4, 577,   0]), array([199,   4, 500,   0]), array([238,   4, 608,   0]), array([348,   4, 589,   0]), array([349,   4, 443,   0]), array([311,   4,  89,   0]), array([310,   4, 235,   0]), array([ 39,   4, 325,   0]), array([ 38,   4, 471,   0]), array([166,   4, 436,   0]), array([167,   4, 290,   0]), array([445,   4, 581,   0]), array([309,   4,  60,   0]), array([308,   4, 206,   0]), array([155,   4, 336,   0]), array([154,   4, 482,   0]), array([359,   4, 541,   0]), array([ 46,   4, 215,   0]), array([47,  4, 69,  0]), array([ 78,   4, 424,   0]), array([ 79,   4, 278,   0]), array([444,   4, 612,   0]), array([330,   4, 126,   0]), array([219,   4, 477,   0]), array([ 24,   4, 198,   0]), array([25,  4, 52,  0]), array([ 68,   4, 201,   0]), array([69,  4, 55,  0]), array([157,   4, 551,   0]), array([213,   4, 529,   0]), array([288,   4, 396,   0]), array([289,   4, 250,   0]), array([373,   4, 344,   0]), array([372,   4, 490,   0]), array([329,   4, 468,   0]), array([331,   4,   1,   0]), array([405,   4, 373,   0]), array([404,   4, 519,   0]), array([358,   4, 426,   0]), array([264,   4, 183,   0]), array([265,   4,  37,   0]), array([156,   4, 408,   0]), array([177,   4,  61,   0]), array([176,   4, 207,   0]), array([183,   4, 495,   0]), array([261,   4, 526,   0]), array([291,   4, 390,   0]), array([290,   4, 536,   0]), array([328,   4, 613,   0]), array([ 65,   4, 527,   0]), array([ 34,   4, 208,   0]), array([35,  4, 62,  0]), array([249,   4, 598,   0]), array([138,   4, 370,   0]), array([139,   4, 224,   0]), array([ 50,   4, 553,   0])]\n",
        "max units\n",
        "[array([0, 1, 2, 3, 4]), array([5, 6, 7, 8, 9]), array([10, 11, 12, 13, 14]), array([15, 16, 17, 18, 19]), array([20, 21, 22, 23, 24]), array([25, 26, 27, 28, 29]), array([30, 31, 32, 33, 34]), array([35, 36, 37, 38, 39]), array([40, 41, 42, 43, 44]), array([45, 46, 47, 48, 49]), array([50, 51, 52, 53, 54]), array([55, 56, 57, 58, 59]), array([60, 61, 62, 63, 64]), array([65, 66, 67, 68, 69]), array([70, 71, 72, 73, 74]), array([75, 76, 77, 78, 79]), array([80, 81, 82, 83, 84]), array([85, 86, 87, 88, 89]), array([90, 91, 92, 93, 94]), array([95, 96, 97, 98, 99]), array([100, 101, 102, 103]), array([104, 105, 106, 107]), array([108, 109, 110, 111]), array([112, 113, 114, 115]), array([116, 117, 118, 119]), array([120, 121, 122, 123]), array([124, 125, 126, 127]), array([128, 129, 130, 131]), array([132, 133, 134, 135]), array([136, 137, 138, 139]), array([140, 141, 142, 143]), array([144, 145, 146, 147]), array([148, 149, 150, 151]), array([152, 153, 154, 155]), array([156, 157, 158, 159]), array([160, 161, 162, 163]), array([164, 165, 166, 167]), array([168, 169, 170, 171]), array([172, 173, 174, 175]), array([176, 177, 178, 179]), array([180, 181, 182, 183]), array([184, 185, 186, 187]), array([188, 189, 190, 191]), array([192, 193, 194, 195]), array([196, 197, 198, 199]), array([200, 201, 202, 203]), array([204, 205, 206, 207]), array([208, 209, 210, 211]), array([212, 213, 214, 215]), array([216, 217, 218, 219]), array([220, 221, 222, 223]), array([224, 225, 226, 227]), array([228, 229, 230, 231]), array([232, 233, 234, 235]), array([236, 237, 238, 239]), array([240, 241, 242, 243]), array([244, 245, 246, 247]), array([248, 249, 250, 251]), array([252, 253, 254, 255]), array([256, 257, 258, 259]), array([260, 261, 262, 263]), array([264, 265, 266, 267]), array([268, 269, 270, 271]), array([272, 273, 274, 275]), array([276, 277, 278, 279]), array([280, 281, 282, 283]), array([284, 285, 286, 287]), array([288, 289, 290, 291]), array([292, 293, 294, 295]), array([296, 297, 298, 299]), array([300, 301, 302, 303]), array([304, 305, 306, 307]), array([308, 309, 310, 311]), array([312, 313, 314, 315]), array([316, 317, 318, 319]), array([320, 321, 322, 323]), array([324, 325, 326, 327]), array([328, 329, 330, 331]), array([332, 333, 334, 335]), array([336, 337, 338, 339]), array([340, 341, 342, 343]), array([344, 345, 346, 347]), array([348, 349, 350, 351]), array([352, 353, 354, 355]), array([356, 357, 358, 359]), array([360, 361, 362, 363]), array([364, 365, 366, 367]), array([368, 369, 370, 371]), array([372, 373, 374, 375]), array([376, 377, 378, 379]), array([380, 381, 382, 383]), array([384, 385, 386, 387]), array([388, 389, 390, 391]), array([392, 393, 394, 395]), array([396, 397, 398, 399]), array([400, 401, 402, 403]), array([404, 405, 406, 407]), array([408, 409, 410, 411]), array([412, 413, 414, 415]), array([416, 417, 418, 419]), array([420, 421, 422, 423]), array([424, 425, 426, 427]), array([428, 429, 430, 431]), array([432, 433, 434, 435]), array([436, 437, 438, 439]), array([440, 441, 442, 443]), array([444, 445, 446, 447]), array([448, 449, 450, 451]), array([452, 453, 454, 455]), array([456, 457, 458, 459]), array([460, 461, 462, 463]), array([464, 465, 466, 467]), array([468, 469, 470, 471]), array([472, 473, 474, 475]), array([476, 477, 478, 479]), array([480, 481, 482, 483]), array([484, 485, 486, 487]), array([488, 489, 490, 491]), array([492, 493, 494, 495]), array([496, 497, 498, 499])]\n",
        "Batch\n",
        "!!!W!!! Prod{acc_dtype=int64}.0\n",
        "!!!W!!! Prod{acc_dtype=int64}.0\n",
        "!!!W!!! Prod{acc_dtype=int64}.0\n"
       ]
      },
      {
       "output_type": "stream",
       "stream": "stdout",
       "text": [
        "Batch\n",
        "!!!W!!! Prod{acc_dtype=int64}.0\n",
        "!!!W!!! Prod{acc_dtype=int64}.0\n",
        "!!!W!!! Prod{acc_dtype=int64}.0\n"
       ]
      },
      {
       "output_type": "stream",
       "stream": "stdout",
       "text": [
        "Batch\n",
        "!!!W!!! Prod{acc_dtype=int64}.0\n",
        "!!!W!!! Prod{acc_dtype=int64}.0\n",
        "!!!W!!! Prod{acc_dtype=int64}.0\n"
       ]
      },
      {
       "output_type": "stream",
       "stream": "stdout",
       "text": [
        "Batch\n",
        "!!!W!!! Prod{acc_dtype=int64}.0\n",
        "!!!W!!! Prod{acc_dtype=int64}.0\n",
        "!!!W!!! Prod{acc_dtype=int64}.0\n"
       ]
      },
      {
       "output_type": "stream",
       "stream": "stdout",
       "text": [
        "Batch\n",
        "!!!W!!! Prod{acc_dtype=int64}.0\n",
        "!!!W!!! Prod{acc_dtype=int64}.0\n",
        "!!!W!!! Prod{acc_dtype=int64}.0\n"
       ]
      },
      {
       "output_type": "stream",
       "stream": "stdout",
       "text": [
        "Batch\n",
        "!!!W!!! Prod{acc_dtype=int64}.0\n",
        "!!!W!!! Prod{acc_dtype=int64}.0\n",
        "!!!W!!! Prod{acc_dtype=int64}.0\n"
       ]
      },
      {
       "output_type": "stream",
       "stream": "stdout",
       "text": [
        "Batch\n",
        "!!!W!!! Prod{acc_dtype=int64}.0\n",
        "!!!W!!! Prod{acc_dtype=int64}.0\n",
        "!!!W!!! Prod{acc_dtype=int64}.0\n"
       ]
      },
      {
       "output_type": "stream",
       "stream": "stdout",
       "text": [
        "Batch\n",
        "!!!W!!! Prod{acc_dtype=int64}.0\n",
        "!!!W!!! Prod{acc_dtype=int64}.0\n",
        "!!!W!!! Prod{acc_dtype=int64}.0\n"
       ]
      },
      {
       "output_type": "stream",
       "stream": "stdout",
       "text": [
        "Batch\n",
        "!!!W!!! Prod{acc_dtype=int64}.0\n",
        "!!!W!!! Prod{acc_dtype=int64}.0\n",
        "!!!W!!! Prod{acc_dtype=int64}.0\n"
       ]
      },
      {
       "output_type": "stream",
       "stream": "stdout",
       "text": [
        "Batch\n",
        "!!!W!!! Prod{acc_dtype=int64}.0\n",
        "!!!W!!! Prod{acc_dtype=int64}.0\n",
        "!!!W!!! Prod{acc_dtype=int64}.0\n"
       ]
      },
      {
       "output_type": "stream",
       "stream": "stdout",
       "text": [
        "Batch\n",
        "!!!W!!! Prod{acc_dtype=int64}.0\n",
        "!!!W!!! Prod{acc_dtype=int64}.0\n",
        "!!!W!!! Prod{acc_dtype=int64}.0\n"
       ]
      },
      {
       "output_type": "stream",
       "stream": "stdout",
       "text": [
        "Batch\n",
        "!!!W!!! Prod{acc_dtype=int64}.0\n",
        "!!!W!!! Prod{acc_dtype=int64}.0\n",
        "!!!W!!! Prod{acc_dtype=int64}.0\n"
       ]
      },
      {
       "output_type": "stream",
       "stream": "stdout",
       "text": [
        "Batch\n",
        "!!!W!!! Prod{acc_dtype=int64}.0\n",
        "!!!W!!! Prod{acc_dtype=int64}.0\n",
        "!!!W!!! Prod{acc_dtype=int64}.0\n"
       ]
      },
      {
       "output_type": "stream",
       "stream": "stdout",
       "text": [
        "Batch\n",
        "!!!W!!! Prod{acc_dtype=int64}.0\n",
        "!!!W!!! Prod{acc_dtype=int64}.0\n",
        "!!!W!!! Prod{acc_dtype=int64}.0\n"
       ]
      },
      {
       "output_type": "stream",
       "stream": "stdout",
       "text": [
        "Batch\n",
        "!!!W!!! Prod{acc_dtype=int64}.0\n",
        "!!!W!!! Prod{acc_dtype=int64}.0\n",
        "!!!W!!! Prod{acc_dtype=int64}.0\n"
       ]
      },
      {
       "output_type": "stream",
       "stream": "stdout",
       "text": [
        "Batch\n",
        "!!!W!!! Prod{acc_dtype=int64}.0\n",
        "!!!W!!! Prod{acc_dtype=int64}.0\n",
        "!!!W!!! Prod{acc_dtype=int64}.0\n"
       ]
      },
      {
       "output_type": "stream",
       "stream": "stdout",
       "text": [
        "Batch\n",
        "!!!W!!! Prod{acc_dtype=int64}.0\n",
        "!!!W!!! Prod{acc_dtype=int64}.0\n",
        "!!!W!!! Prod{acc_dtype=int64}.0\n"
       ]
      },
      {
       "output_type": "stream",
       "stream": "stdout",
       "text": [
        "Batch\n",
        "!!!W!!! Prod{acc_dtype=int64}.0\n",
        "!!!W!!! Prod{acc_dtype=int64}.0\n",
        "!!!W!!! Prod{acc_dtype=int64}.0\n"
       ]
      },
      {
       "output_type": "stream",
       "stream": "stdout",
       "text": [
        "Batch\n",
        "!!!W!!! Prod{acc_dtype=int64}.0\n",
        "!!!W!!! Prod{acc_dtype=int64}.0\n",
        "!!!W!!! Prod{acc_dtype=int64}.0\n"
       ]
      },
      {
       "output_type": "stream",
       "stream": "stdout",
       "text": [
        "Batch\n",
        "!!!W!!! Prod{acc_dtype=int64}.0\n",
        "!!!W!!! Prod{acc_dtype=int64}.0\n",
        "!!!W!!! Prod{acc_dtype=int64}.0\n"
       ]
      },
      {
       "output_type": "stream",
       "stream": "stdout",
       "text": [
        "Batch\n",
        "!!!W!!! Prod{acc_dtype=int64}.0\n",
        "!!!W!!! Prod{acc_dtype=int64}.0\n",
        "!!!W!!! Prod{acc_dtype=int64}.0\n"
       ]
      },
      {
       "output_type": "stream",
       "stream": "stdout",
       "text": [
        "Batch\n",
        "!!!W!!! Prod{acc_dtype=int64}.0\n",
        "!!!W!!! Prod{acc_dtype=int64}.0\n",
        "!!!W!!! Prod{acc_dtype=int64}.0\n"
       ]
      },
      {
       "output_type": "stream",
       "stream": "stdout",
       "text": [
        "Batch\n",
        "!!!W!!! Prod{acc_dtype=int64}.0\n",
        "!!!W!!! Prod{acc_dtype=int64}.0\n",
        "!!!W!!! Prod{acc_dtype=int64}.0\n"
       ]
      },
      {
       "output_type": "stream",
       "stream": "stdout",
       "text": [
        "Batch\n",
        "!!!W!!! Prod{acc_dtype=int64}.0\n",
        "!!!W!!! Prod{acc_dtype=int64}.0\n",
        "!!!W!!! Prod{acc_dtype=int64}.0\n"
       ]
      },
      {
       "output_type": "stream",
       "stream": "stdout",
       "text": [
        "Batch\n",
        "!!!W!!! Prod{acc_dtype=int64}.0\n",
        "!!!W!!! Prod{acc_dtype=int64}.0\n",
        "!!!W!!! Prod{acc_dtype=int64}.0\n"
       ]
      },
      {
       "output_type": "stream",
       "stream": "stdout",
       "text": [
        "Batch\n",
        "!!!W!!! Prod{acc_dtype=int64}.0\n",
        "!!!W!!! Prod{acc_dtype=int64}.0\n",
        "!!!W!!! Prod{acc_dtype=int64}.0\n"
       ]
      },
      {
       "output_type": "stream",
       "stream": "stdout",
       "text": [
        "Batch\n",
        "!!!W!!! Prod{acc_dtype=int64}.0\n",
        "!!!W!!! Prod{acc_dtype=int64}.0\n",
        "!!!W!!! Prod{acc_dtype=int64}.0\n"
       ]
      },
      {
       "output_type": "stream",
       "stream": "stdout",
       "text": [
        "Batch\n",
        "!!!W!!! Prod{acc_dtype=int64}.0\n",
        "!!!W!!! Prod{acc_dtype=int64}.0\n",
        "!!!W!!! Prod{acc_dtype=int64}.0\n"
       ]
      },
      {
       "output_type": "stream",
       "stream": "stdout",
       "text": [
        "Batch\n",
        "!!!W!!! Prod{acc_dtype=int64}.0\n",
        "!!!W!!! Prod{acc_dtype=int64}.0\n",
        "!!!W!!! Prod{acc_dtype=int64}.0\n"
       ]
      },
      {
       "output_type": "stream",
       "stream": "stdout",
       "text": [
        "Batch\n",
        "!!!W!!! Prod{acc_dtype=int64}.0\n",
        "!!!W!!! Prod{acc_dtype=int64}.0\n",
        "!!!W!!! Prod{acc_dtype=int64}.0\n"
       ]
      },
      {
       "output_type": "stream",
       "stream": "stdout",
       "text": [
        "Batch\n",
        "!!!W!!! Prod{acc_dtype=int64}.0\n",
        "!!!W!!! Prod{acc_dtype=int64}.0\n",
        "!!!W!!! Prod{acc_dtype=int64}.0\n"
       ]
      },
      {
       "output_type": "stream",
       "stream": "stdout",
       "text": [
        "Batch\n",
        "!!!W!!! Prod{acc_dtype=int64}.0\n",
        "!!!W!!! Prod{acc_dtype=int64}.0\n",
        "!!!W!!! Prod{acc_dtype=int64}.0\n"
       ]
      },
      {
       "output_type": "stream",
       "stream": "stdout",
       "text": [
        "Batch\n",
        "!!!W!!! Prod{acc_dtype=int64}.0\n",
        "!!!W!!! Prod{acc_dtype=int64}.0\n",
        "!!!W!!! Prod{acc_dtype=int64}.0\n"
       ]
      },
      {
       "output_type": "stream",
       "stream": "stdout",
       "text": [
        "Batch\n",
        "!!!W!!! Prod{acc_dtype=int64}.0\n",
        "!!!W!!! Prod{acc_dtype=int64}.0\n",
        "!!!W!!! Prod{acc_dtype=int64}.0\n"
       ]
      },
      {
       "output_type": "stream",
       "stream": "stdout",
       "text": [
        "Batch\n",
        "!!!W!!! Prod{acc_dtype=int64}.0\n",
        "!!!W!!! Prod{acc_dtype=int64}.0\n",
        "!!!W!!! Prod{acc_dtype=int64}.0\n"
       ]
      },
      {
       "output_type": "stream",
       "stream": "stdout",
       "text": [
        "Batch\n",
        "!!!W!!! Prod{acc_dtype=int64}.0\n",
        "!!!W!!! Prod{acc_dtype=int64}.0\n",
        "!!!W!!! Prod{acc_dtype=int64}.0\n"
       ]
      },
      {
       "output_type": "stream",
       "stream": "stdout",
       "text": [
        "Batch\n",
        "!!!W!!! Prod{acc_dtype=int64}.0\n",
        "!!!W!!! Prod{acc_dtype=int64}.0\n",
        "!!!W!!! Prod{acc_dtype=int64}.0\n"
       ]
      },
      {
       "output_type": "stream",
       "stream": "stdout",
       "text": [
        "Batch\n",
        "!!!W!!! Prod{acc_dtype=int64}.0\n",
        "!!!W!!! Prod{acc_dtype=int64}.0\n",
        "!!!W!!! Prod{acc_dtype=int64}.0\n"
       ]
      },
      {
       "output_type": "stream",
       "stream": "stdout",
       "text": [
        "Batch\n",
        "!!!W!!! Prod{acc_dtype=int64}.0\n",
        "!!!W!!! Prod{acc_dtype=int64}.0\n",
        "!!!W!!! Prod{acc_dtype=int64}.0\n"
       ]
      },
      {
       "output_type": "stream",
       "stream": "stdout",
       "text": [
        "Batch\n",
        "!!!W!!! Prod{acc_dtype=int64}.0\n",
        "!!!W!!! Prod{acc_dtype=int64}.0\n",
        "!!!W!!! Prod{acc_dtype=int64}.0\n"
       ]
      },
      {
       "output_type": "stream",
       "stream": "stdout",
       "text": [
        "Batch\n",
        "!!!W!!! Prod{acc_dtype=int64}.0\n",
        "!!!W!!! Prod{acc_dtype=int64}.0\n",
        "!!!W!!! Prod{acc_dtype=int64}.0\n"
       ]
      },
      {
       "output_type": "stream",
       "stream": "stdout",
       "text": [
        "Batch\n",
        "!!!W!!! Prod{acc_dtype=int64}.0\n",
        "!!!W!!! Prod{acc_dtype=int64}.0\n",
        "!!!W!!! Prod{acc_dtype=int64}.0\n"
       ]
      },
      {
       "output_type": "stream",
       "stream": "stdout",
       "text": [
        "Batch\n",
        "!!!W!!! Prod{acc_dtype=int64}.0\n",
        "!!!W!!! Prod{acc_dtype=int64}.0\n",
        "!!!W!!! Prod{acc_dtype=int64}.0\n"
       ]
      },
      {
       "output_type": "stream",
       "stream": "stdout",
       "text": [
        "Batch\n",
        "!!!W!!! Prod{acc_dtype=int64}.0\n",
        "!!!W!!! Prod{acc_dtype=int64}.0\n",
        "!!!W!!! Prod{acc_dtype=int64}.0\n"
       ]
      },
      {
       "output_type": "stream",
       "stream": "stdout",
       "text": [
        "Batch\n",
        "!!!W!!! Prod{acc_dtype=int64}.0\n",
        "!!!W!!! Prod{acc_dtype=int64}.0\n",
        "!!!W!!! Prod{acc_dtype=int64}.0\n"
       ]
      },
      {
       "output_type": "stream",
       "stream": "stdout",
       "text": [
        "Batch\n",
        "!!!W!!! Prod{acc_dtype=int64}.0\n",
        "!!!W!!! Prod{acc_dtype=int64}.0\n",
        "!!!W!!! Prod{acc_dtype=int64}.0\n"
       ]
      },
      {
       "output_type": "stream",
       "stream": "stdout",
       "text": [
        "Batch\n",
        "!!!W!!! Prod{acc_dtype=int64}.0\n",
        "!!!W!!! Prod{acc_dtype=int64}.0\n",
        "!!!W!!! Prod{acc_dtype=int64}.0\n"
       ]
      },
      {
       "output_type": "stream",
       "stream": "stdout",
       "text": [
        "Batch\n",
        "!!!W!!! Prod{acc_dtype=int64}.0\n",
        "!!!W!!! Prod{acc_dtype=int64}.0\n",
        "!!!W!!! Prod{acc_dtype=int64}.0\n"
       ]
      },
      {
       "output_type": "stream",
       "stream": "stdout",
       "text": [
        "Batch\n",
        "!!!W!!! Prod{acc_dtype=int64}.0\n",
        "!!!W!!! Prod{acc_dtype=int64}.0\n",
        "!!!W!!! Prod{acc_dtype=int64}.0\n"
       ]
      },
      {
       "output_type": "stream",
       "stream": "stdout",
       "text": [
        "Batch\n",
        "!!!W!!! Prod{acc_dtype=int64}.0\n",
        "!!!W!!! Prod{acc_dtype=int64}.0\n",
        "!!!W!!! Prod{acc_dtype=int64}.0\n"
       ]
      },
      {
       "output_type": "stream",
       "stream": "stdout",
       "text": [
        "Batch\n",
        "!!!W!!! Prod{acc_dtype=int64}.0\n",
        "!!!W!!! Prod{acc_dtype=int64}.0\n",
        "!!!W!!! Prod{acc_dtype=int64}.0\n"
       ]
      },
      {
       "output_type": "stream",
       "stream": "stdout",
       "text": [
        "Batch\n",
        "!!!W!!! Prod{acc_dtype=int64}.0\n",
        "!!!W!!! Prod{acc_dtype=int64}.0\n",
        "!!!W!!! Prod{acc_dtype=int64}.0\n"
       ]
      },
      {
       "output_type": "stream",
       "stream": "stdout",
       "text": [
        "Batch\n",
        "!!!W!!! Prod{acc_dtype=int64}.0\n",
        "!!!W!!! Prod{acc_dtype=int64}.0\n",
        "!!!W!!! Prod{acc_dtype=int64}.0\n"
       ]
      },
      {
       "output_type": "stream",
       "stream": "stdout",
       "text": [
        "Batch\n",
        "!!!W!!! Prod{acc_dtype=int64}.0\n",
        "!!!W!!! Prod{acc_dtype=int64}.0\n",
        "!!!W!!! Prod{acc_dtype=int64}.0\n"
       ]
      },
      {
       "output_type": "stream",
       "stream": "stdout",
       "text": [
        "Batch\n",
        "!!!W!!! Prod{acc_dtype=int64}.0\n",
        "!!!W!!! Prod{acc_dtype=int64}.0\n",
        "!!!W!!! Prod{acc_dtype=int64}.0\n"
       ]
      },
      {
       "output_type": "stream",
       "stream": "stdout",
       "text": [
        "Batch\n",
        "!!!W!!! Prod{acc_dtype=int64}.0\n",
        "!!!W!!! Prod{acc_dtype=int64}.0\n",
        "!!!W!!! Prod{acc_dtype=int64}.0\n"
       ]
      },
      {
       "output_type": "stream",
       "stream": "stdout",
       "text": [
        "Batch\n",
        "!!!W!!! Prod{acc_dtype=int64}.0\n",
        "!!!W!!! Prod{acc_dtype=int64}.0\n",
        "!!!W!!! Prod{acc_dtype=int64}.0\n"
       ]
      },
      {
       "output_type": "stream",
       "stream": "stdout",
       "text": [
        "Batch\n",
        "!!!W!!! Prod{acc_dtype=int64}.0\n",
        "!!!W!!! Prod{acc_dtype=int64}.0\n",
        "!!!W!!! Prod{acc_dtype=int64}.0\n"
       ]
      },
      {
       "output_type": "stream",
       "stream": "stdout",
       "text": [
        "Batch\n",
        "!!!W!!! Prod{acc_dtype=int64}.0\n",
        "!!!W!!! Prod{acc_dtype=int64}.0\n",
        "!!!W!!! Prod{acc_dtype=int64}.0\n"
       ]
      },
      {
       "output_type": "stream",
       "stream": "stdout",
       "text": [
        "Batch\n",
        "!!!W!!! Prod{acc_dtype=int64}.0\n",
        "!!!W!!! Prod{acc_dtype=int64}.0\n",
        "!!!W!!! Prod{acc_dtype=int64}.0\n"
       ]
      },
      {
       "output_type": "stream",
       "stream": "stdout",
       "text": [
        "Batch\n",
        "!!!W!!! Prod{acc_dtype=int64}.0\n",
        "!!!W!!! Prod{acc_dtype=int64}.0\n",
        "!!!W!!! Prod{acc_dtype=int64}.0\n"
       ]
      },
      {
       "output_type": "stream",
       "stream": "stdout",
       "text": [
        "Batch\n",
        "!!!W!!! Prod{acc_dtype=int64}.0\n",
        "!!!W!!! Prod{acc_dtype=int64}.0\n",
        "!!!W!!! Prod{acc_dtype=int64}.0\n"
       ]
      },
      {
       "output_type": "stream",
       "stream": "stdout",
       "text": [
        "Batch\n",
        "!!!W!!! Prod{acc_dtype=int64}.0\n",
        "!!!W!!! Prod{acc_dtype=int64}.0\n",
        "!!!W!!! Prod{acc_dtype=int64}.0\n"
       ]
      },
      {
       "output_type": "stream",
       "stream": "stdout",
       "text": [
        "Batch\n",
        "!!!W!!! Prod{acc_dtype=int64}.0\n",
        "!!!W!!! Prod{acc_dtype=int64}.0\n",
        "!!!W!!! Prod{acc_dtype=int64}.0\n"
       ]
      },
      {
       "output_type": "stream",
       "stream": "stdout",
       "text": [
        "Batch\n",
        "!!!W!!! Prod{acc_dtype=int64}.0\n",
        "!!!W!!! Prod{acc_dtype=int64}.0\n",
        "!!!W!!! Prod{acc_dtype=int64}.0\n"
       ]
      },
      {
       "output_type": "stream",
       "stream": "stdout",
       "text": [
        "Batch\n",
        "!!!W!!! Prod{acc_dtype=int64}.0\n",
        "!!!W!!! Prod{acc_dtype=int64}.0\n",
        "!!!W!!! Prod{acc_dtype=int64}.0\n"
       ]
      },
      {
       "output_type": "stream",
       "stream": "stdout",
       "text": [
        "Batch\n",
        "!!!W!!! Prod{acc_dtype=int64}.0\n",
        "!!!W!!! Prod{acc_dtype=int64}.0\n",
        "!!!W!!! Prod{acc_dtype=int64}.0\n"
       ]
      },
      {
       "output_type": "stream",
       "stream": "stdout",
       "text": [
        "Batch\n",
        "!!!W!!! Prod{acc_dtype=int64}.0\n",
        "!!!W!!! Prod{acc_dtype=int64}.0\n",
        "!!!W!!! Prod{acc_dtype=int64}.0\n"
       ]
      },
      {
       "output_type": "stream",
       "stream": "stdout",
       "text": [
        "Batch\n",
        "!!!W!!! Prod{acc_dtype=int64}.0\n",
        "!!!W!!! Prod{acc_dtype=int64}.0\n",
        "!!!W!!! Prod{acc_dtype=int64}.0\n"
       ]
      },
      {
       "output_type": "stream",
       "stream": "stdout",
       "text": [
        "Batch\n",
        "!!!W!!! Prod{acc_dtype=int64}.0\n",
        "!!!W!!! Prod{acc_dtype=int64}.0\n",
        "!!!W!!! Prod{acc_dtype=int64}.0\n"
       ]
      },
      {
       "output_type": "stream",
       "stream": "stdout",
       "text": [
        "Batch\n",
        "!!!W!!! Prod{acc_dtype=int64}.0\n",
        "!!!W!!! Prod{acc_dtype=int64}.0\n",
        "!!!W!!! Prod{acc_dtype=int64}.0\n"
       ]
      },
      {
       "output_type": "stream",
       "stream": "stdout",
       "text": [
        "Batch\n",
        "!!!W!!! Prod{acc_dtype=int64}.0\n",
        "!!!W!!! Prod{acc_dtype=int64}.0\n",
        "!!!W!!! Prod{acc_dtype=int64}.0\n"
       ]
      },
      {
       "output_type": "stream",
       "stream": "stdout",
       "text": [
        "Batch\n",
        "!!!W!!! Prod{acc_dtype=int64}.0\n",
        "!!!W!!! Prod{acc_dtype=int64}.0\n",
        "!!!W!!! Prod{acc_dtype=int64}.0\n"
       ]
      },
      {
       "output_type": "stream",
       "stream": "stdout",
       "text": [
        "Batch\n",
        "!!!W!!! Prod{acc_dtype=int64}.0\n",
        "!!!W!!! Prod{acc_dtype=int64}.0\n",
        "!!!W!!! Prod{acc_dtype=int64}.0\n"
       ]
      },
      {
       "output_type": "stream",
       "stream": "stdout",
       "text": [
        "Batch\n",
        "!!!W!!! Prod{acc_dtype=int64}.0\n",
        "!!!W!!! Prod{acc_dtype=int64}.0\n",
        "!!!W!!! Prod{acc_dtype=int64}.0\n"
       ]
      },
      {
       "output_type": "stream",
       "stream": "stdout",
       "text": [
        "Batch\n",
        "!!!W!!! Prod{acc_dtype=int64}.0\n",
        "!!!W!!! Prod{acc_dtype=int64}.0\n",
        "!!!W!!! Prod{acc_dtype=int64}.0\n"
       ]
      },
      {
       "output_type": "stream",
       "stream": "stdout",
       "text": [
        "Batch\n",
        "!!!W!!! Prod{acc_dtype=int64}.0\n",
        "!!!W!!! Prod{acc_dtype=int64}.0\n",
        "!!!W!!! Prod{acc_dtype=int64}.0\n"
       ]
      },
      {
       "output_type": "stream",
       "stream": "stdout",
       "text": [
        "Batch\n",
        "!!!W!!! Prod{acc_dtype=int64}.0\n",
        "!!!W!!! Prod{acc_dtype=int64}.0\n",
        "!!!W!!! Prod{acc_dtype=int64}.0\n"
       ]
      },
      {
       "output_type": "stream",
       "stream": "stdout",
       "text": [
        "Batch\n",
        "!!!W!!! Prod{acc_dtype=int64}.0\n",
        "!!!W!!! Prod{acc_dtype=int64}.0\n",
        "!!!W!!! Prod{acc_dtype=int64}.0\n"
       ]
      },
      {
       "output_type": "stream",
       "stream": "stdout",
       "text": [
        "Batch\n",
        "!!!W!!! Prod{acc_dtype=int64}.0\n",
        "!!!W!!! Prod{acc_dtype=int64}.0\n",
        "!!!W!!! Prod{acc_dtype=int64}.0\n"
       ]
      },
      {
       "output_type": "stream",
       "stream": "stdout",
       "text": [
        "Batch\n",
        "!!!W!!! Prod{acc_dtype=int64}.0\n",
        "!!!W!!! Prod{acc_dtype=int64}.0\n",
        "!!!W!!! Prod{acc_dtype=int64}.0\n"
       ]
      },
      {
       "output_type": "stream",
       "stream": "stdout",
       "text": [
        "Batch\n",
        "!!!W!!! Prod{acc_dtype=int64}.0\n",
        "!!!W!!! Prod{acc_dtype=int64}.0\n",
        "!!!W!!! Prod{acc_dtype=int64}.0\n"
       ]
      },
      {
       "output_type": "stream",
       "stream": "stdout",
       "text": [
        "Batch\n",
        "!!!W!!! Prod{acc_dtype=int64}.0\n",
        "!!!W!!! Prod{acc_dtype=int64}.0\n",
        "!!!W!!! Prod{acc_dtype=int64}.0\n"
       ]
      },
      {
       "output_type": "stream",
       "stream": "stdout",
       "text": [
        "Batch\n",
        "!!!W!!! Prod{acc_dtype=int64}.0\n",
        "!!!W!!! Prod{acc_dtype=int64}.0\n",
        "!!!W!!! Prod{acc_dtype=int64}.0\n"
       ]
      },
      {
       "output_type": "stream",
       "stream": "stdout",
       "text": [
        "Batch\n",
        "!!!W!!! Prod{acc_dtype=int64}.0\n",
        "!!!W!!! Prod{acc_dtype=int64}.0\n",
        "!!!W!!! Prod{acc_dtype=int64}.0\n"
       ]
      },
      {
       "output_type": "stream",
       "stream": "stdout",
       "text": [
        "Batch\n",
        "!!!W!!! Prod{acc_dtype=int64}.0\n",
        "!!!W!!! Prod{acc_dtype=int64}.0\n",
        "!!!W!!! Prod{acc_dtype=int64}.0\n"
       ]
      },
      {
       "output_type": "stream",
       "stream": "stdout",
       "text": [
        "Batch\n",
        "!!!W!!! Prod{acc_dtype=int64}.0\n",
        "!!!W!!! Prod{acc_dtype=int64}.0\n",
        "!!!W!!! Prod{acc_dtype=int64}.0\n"
       ]
      },
      {
       "output_type": "stream",
       "stream": "stdout",
       "text": [
        "Batch\n",
        "!!!W!!! Prod{acc_dtype=int64}.0\n",
        "!!!W!!! Prod{acc_dtype=int64}.0\n",
        "!!!W!!! Prod{acc_dtype=int64}.0\n"
       ]
      },
      {
       "output_type": "stream",
       "stream": "stdout",
       "text": [
        "Batch\n",
        "!!!W!!! Prod{acc_dtype=int64}.0\n",
        "!!!W!!! Prod{acc_dtype=int64}.0\n",
        "!!!W!!! Prod{acc_dtype=int64}.0\n"
       ]
      },
      {
       "output_type": "stream",
       "stream": "stdout",
       "text": [
        "Batch\n",
        "!!!W!!! Prod{acc_dtype=int64}.0\n",
        "!!!W!!! Prod{acc_dtype=int64}.0\n",
        "!!!W!!! Prod{acc_dtype=int64}.0\n"
       ]
      },
      {
       "output_type": "stream",
       "stream": "stdout",
       "text": [
        "Batch\n",
        "!!!W!!! Prod{acc_dtype=int64}.0\n",
        "!!!W!!! Prod{acc_dtype=int64}.0\n",
        "!!!W!!! Prod{acc_dtype=int64}.0\n"
       ]
      },
      {
       "output_type": "stream",
       "stream": "stdout",
       "text": [
        "Batch\n",
        "!!!W!!! Prod{acc_dtype=int64}.0\n",
        "!!!W!!! Prod{acc_dtype=int64}.0\n",
        "!!!W!!! Prod{acc_dtype=int64}.0\n"
       ]
      },
      {
       "output_type": "stream",
       "stream": "stdout",
       "text": [
        "Batch\n",
        "!!!W!!! Prod{acc_dtype=int64}.0\n",
        "!!!W!!! Prod{acc_dtype=int64}.0\n",
        "!!!W!!! Prod{acc_dtype=int64}.0\n"
       ]
      },
      {
       "output_type": "stream",
       "stream": "stdout",
       "text": [
        "Batch\n",
        "!!!W!!! Prod{acc_dtype=int64}.0\n",
        "!!!W!!! Prod{acc_dtype=int64}.0\n",
        "!!!W!!! Prod{acc_dtype=int64}.0\n"
       ]
      },
      {
       "output_type": "stream",
       "stream": "stdout",
       "text": [
        "Batch\n",
        "!!!W!!! Prod{acc_dtype=int64}.0\n",
        "!!!W!!! Prod{acc_dtype=int64}.0\n",
        "!!!W!!! Prod{acc_dtype=int64}.0\n"
       ]
      },
      {
       "output_type": "stream",
       "stream": "stdout",
       "text": [
        "Batch\n",
        "!!!W!!! Prod{acc_dtype=int64}.0\n",
        "!!!W!!! Prod{acc_dtype=int64}.0\n",
        "!!!W!!! Prod{acc_dtype=int64}.0\n"
       ]
      },
      {
       "output_type": "stream",
       "stream": "stdout",
       "text": [
        "Batch\n",
        "!!!W!!! Prod{acc_dtype=int64}.0\n",
        "!!!W!!! Prod{acc_dtype=int64}.0\n",
        "!!!W!!! Prod{acc_dtype=int64}.0\n"
       ]
      },
      {
       "output_type": "stream",
       "stream": "stdout",
       "text": [
        "Batch\n",
        "!!!W!!! Prod{acc_dtype=int64}.0\n",
        "!!!W!!! Prod{acc_dtype=int64}.0\n",
        "!!!W!!! Prod{acc_dtype=int64}.0\n"
       ]
      },
      {
       "output_type": "stream",
       "stream": "stdout",
       "text": [
        "Batch\n",
        "!!!W!!! Prod{acc_dtype=int64}.0\n",
        "!!!W!!! Prod{acc_dtype=int64}.0\n",
        "!!!W!!! Prod{acc_dtype=int64}.0\n"
       ]
      },
      {
       "output_type": "stream",
       "stream": "stdout",
       "text": [
        "Batch\n",
        "!!!W!!! Prod{acc_dtype=int64}.0\n",
        "!!!W!!! Prod{acc_dtype=int64}.0\n",
        "!!!W!!! Prod{acc_dtype=int64}.0\n"
       ]
      },
      {
       "output_type": "stream",
       "stream": "stdout",
       "text": [
        "Batch\n",
        "!!!W!!! Prod{acc_dtype=int64}.0\n",
        "!!!W!!! Prod{acc_dtype=int64}.0\n",
        "!!!W!!! Prod{acc_dtype=int64}.0\n"
       ]
      },
      {
       "output_type": "stream",
       "stream": "stdout",
       "text": [
        "Batch\n",
        "!!!W!!! Prod{acc_dtype=int64}.0\n",
        "!!!W!!! Prod{acc_dtype=int64}.0\n",
        "!!!W!!! Prod{acc_dtype=int64}.0\n"
       ]
      },
      {
       "output_type": "stream",
       "stream": "stdout",
       "text": [
        "Batch\n",
        "!!!W!!! Prod{acc_dtype=int64}.0\n",
        "!!!W!!! Prod{acc_dtype=int64}.0\n",
        "!!!W!!! Prod{acc_dtype=int64}.0\n"
       ]
      },
      {
       "output_type": "stream",
       "stream": "stdout",
       "text": [
        "Batch\n",
        "!!!W!!! Prod{acc_dtype=int64}.0\n",
        "!!!W!!! Prod{acc_dtype=int64}.0\n",
        "!!!W!!! Prod{acc_dtype=int64}.0\n"
       ]
      },
      {
       "output_type": "stream",
       "stream": "stdout",
       "text": [
        "Batch\n",
        "!!!W!!! Prod{acc_dtype=int64}.0\n",
        "!!!W!!! Prod{acc_dtype=int64}.0\n",
        "!!!W!!! Prod{acc_dtype=int64}.0\n"
       ]
      },
      {
       "output_type": "stream",
       "stream": "stdout",
       "text": [
        "Batch\n",
        "!!!W!!! Prod{acc_dtype=int64}.0\n",
        "!!!W!!! Prod{acc_dtype=int64}.0\n",
        "!!!W!!! Prod{acc_dtype=int64}.0\n"
       ]
      },
      {
       "output_type": "stream",
       "stream": "stdout",
       "text": [
        "Batch\n",
        "!!!W!!! Prod{acc_dtype=int64}.0\n",
        "!!!W!!! Prod{acc_dtype=int64}.0\n",
        "!!!W!!! Prod{acc_dtype=int64}.0\n"
       ]
      },
      {
       "output_type": "stream",
       "stream": "stdout",
       "text": [
        "Batch\n",
        "!!!W!!! Prod{acc_dtype=int64}.0\n",
        "!!!W!!! Prod{acc_dtype=int64}.0\n",
        "!!!W!!! Prod{acc_dtype=int64}.0\n"
       ]
      },
      {
       "output_type": "stream",
       "stream": "stdout",
       "text": [
        "Batch\n",
        "!!!W!!! Prod{acc_dtype=int64}.0\n",
        "!!!W!!! Prod{acc_dtype=int64}.0\n",
        "!!!W!!! Prod{acc_dtype=int64}.0\n"
       ]
      },
      {
       "output_type": "stream",
       "stream": "stdout",
       "text": [
        "Batch\n",
        "!!!W!!! Prod{acc_dtype=int64}.0\n",
        "!!!W!!! Prod{acc_dtype=int64}.0\n",
        "!!!W!!! Prod{acc_dtype=int64}.0\n"
       ]
      },
      {
       "output_type": "stream",
       "stream": "stdout",
       "text": [
        "Batch\n",
        "!!!W!!! Prod{acc_dtype=int64}.0\n",
        "!!!W!!! Prod{acc_dtype=int64}.0\n",
        "!!!W!!! Prod{acc_dtype=int64}.0\n"
       ]
      },
      {
       "output_type": "stream",
       "stream": "stdout",
       "text": [
        "Batch\n",
        "!!!W!!! Prod{acc_dtype=int64}.0\n",
        "!!!W!!! Prod{acc_dtype=int64}.0\n",
        "!!!W!!! Prod{acc_dtype=int64}.0\n"
       ]
      },
      {
       "output_type": "stream",
       "stream": "stdout",
       "text": [
        "Batch\n",
        "!!!W!!! Prod{acc_dtype=int64}.0\n",
        "!!!W!!! Prod{acc_dtype=int64}.0\n",
        "!!!W!!! Prod{acc_dtype=int64}.0\n"
       ]
      },
      {
       "output_type": "stream",
       "stream": "stdout",
       "text": [
        "Batch\n",
        "!!!W!!! Prod{acc_dtype=int64}.0\n",
        "!!!W!!! Prod{acc_dtype=int64}.0\n",
        "!!!W!!! Prod{acc_dtype=int64}.0\n"
       ]
      },
      {
       "output_type": "stream",
       "stream": "stdout",
       "text": [
        "Batch\n",
        "!!!W!!! Prod{acc_dtype=int64}.0\n",
        "!!!W!!! Prod{acc_dtype=int64}.0\n",
        "!!!W!!! Prod{acc_dtype=int64}.0\n"
       ]
      },
      {
       "output_type": "stream",
       "stream": "stdout",
       "text": [
        "Batch\n",
        "!!!W!!! Prod{acc_dtype=int64}.0\n",
        "!!!W!!! Prod{acc_dtype=int64}.0\n",
        "!!!W!!! Prod{acc_dtype=int64}.0\n"
       ]
      },
      {
       "output_type": "stream",
       "stream": "stdout",
       "text": [
        "Batch\n",
        "!!!W!!! Prod{acc_dtype=int64}.0\n",
        "!!!W!!! Prod{acc_dtype=int64}.0\n",
        "!!!W!!! Prod{acc_dtype=int64}.0\n"
       ]
      },
      {
       "output_type": "stream",
       "stream": "stdout",
       "text": [
        "Batch\n",
        "!!!W!!! Prod{acc_dtype=int64}.0\n",
        "!!!W!!! Prod{acc_dtype=int64}.0\n",
        "!!!W!!! Prod{acc_dtype=int64}.0\n"
       ]
      },
      {
       "output_type": "stream",
       "stream": "stdout",
       "text": [
        "Batch\n",
        "!!!W!!! Prod{acc_dtype=int64}.0\n",
        "!!!W!!! Prod{acc_dtype=int64}.0\n",
        "!!!W!!! Prod{acc_dtype=int64}.0\n"
       ]
      },
      {
       "output_type": "stream",
       "stream": "stdout",
       "text": [
        "Batch\n",
        "!!!W!!! Prod{acc_dtype=int64}.0\n",
        "!!!W!!! Prod{acc_dtype=int64}.0\n",
        "!!!W!!! Prod{acc_dtype=int64}.0\n"
       ]
      },
      {
       "output_type": "stream",
       "stream": "stdout",
       "text": [
        "Outputs (448, 5, 614, 1)\n",
        "Filter\n",
        "Filter\n",
        "Filter\n",
        "Filter\n"
       ]
      },
      {
       "output_type": "stream",
       "stream": "stdout",
       "text": [
        "Filter\n",
        "[array([ 40,   0, 352,   0]), array([ 41,   0, 206,   0]), array([143,   0,  68,   0]), array([142,   0, 214,   0]), array([431,   0, 557,   0]), array([ 53,   0, 489,   0]), array([ 27,   0, 510,   0]), array([217,   0,  92,   0]), array([216,   0, 238,   0]), array([ 52,   0, 404,   0]), array([57,  0, 51,  0]), array([ 56,   0, 197,   0]), array([ 29,   0, 281,   0]), array([ 28,   0, 427,   0]), array([175,   0, 145,   0]), array([174,   0, 291,   0]), array([434,   0, 366,   0]), array([435,   0, 220,   0]), array([332,   0, 447,   0]), array([333,   0, 301,   0]), array([ 18,   0, 333,   0]), array([ 19,   0, 187,   0]), array([430,   0, 464,   0]), array([ 71,   0, 139,   0]), array([ 70,   0, 285,   0]), array([400,   0, 568,   0]), array([401,   0, 422,   0]), array([ 17,   0, 122,   0]), array([ 16,   0, 268,   0]), array([144,   0, 491,   0]), array([145,   0, 345,   0]), array([323,   0, 181,   0]), array([322,   0, 327,   0]), array([136,   0, 473,   0]), array([137,   0, 327,   0]), array([ 80,   0, 272,   0]), array([ 81,   0, 126,   0]), array([181,   0, 496,   0]), array([103,   0, 316,   0]), array([102,   0, 462,   0]), array([320,   0, 328,   0]), array([321,   0, 182,   0]), array([ 91,   0, 400,   0]), array([ 90,   0, 546,   0]), array([167,   0, 329,   0]), array([166,   0, 475,   0]), array([307,   0, 418,   0]), array([306,   0, 564,   0]), array([334,   0, 475,   0]), array([335,   0, 329,   0]), array([378,   0, 475,   0]), array([379,   0, 329,   0]), array([317,   0, 429,   0]), array([316,   0, 575,   0]), array([131,   0, 146,   0]), array([130,   0, 292,   0]), array([110,   0, 446,   0]), array([111,   0, 300,   0]), array([420,   0, 279,   0]), array([421,   0, 133,   0]), array([257,   0,  83,   0]), array([256,   0, 229,   0]), array([ 49,   0, 114,   0]), array([ 48,   0, 260,   0]), array([267,   0, 190,   0]), array([266,   0, 336,   0]), array([229,   0, 132,   0]), array([228,   0, 278,   0]), array([274,   0, 204,   0]), array([275,   0,  58,   0]), array([284,   0, 258,   0]), array([285,   0, 112,   0]), array([222,   0, 306,   0]), array([223,   0, 160,   0]), array([349,   0, 139,   0]), array([348,   0, 285,   0]), array([180,   0, 372,   0]), array([ 34,   0, 281,   0]), array([ 35,   0, 135,   0]), array([301,   0,  60,   0]), array([300,   0, 206,   0]), array([426,   0, 317,   0]), array([427,   0, 171,   0]), array([439,   0, 141,   0]), array([438,   0, 287,   0]), array([445,   0, 222,   0]), array([444,   0, 368,   0]), array([330,   0, 372,   0]), array([331,   0, 226,   0]), array([ 26,   0, 611,   0]), array([211,   0,  97,   0]), array([210,   0, 243,   0]), array([194,   0, 394,   0]), array([195,   0, 248,   0]), array([203,   0, 165,   0]), array([202,   0, 311,   0]), array([135,   0, 181,   0]), array([134,   0, 327,   0]), array([ 66,   0, 374,   0]), array([ 67,   0, 228,   0]), array([ 41,   1, 206,   0]), array([ 40,   1, 352,   0]), array([431,   1, 548,   0]), array([216,   1, 241,   0]), array([217,   1,  95,   0]), array([434,   1, 366,   0]), array([435,   1, 220,   0]), array([ 53,   1, 261,   0]), array([ 52,   1, 407,   0]), array([ 56,   1, 230,   0]), array([57,  1, 84,  0]), array([142,   1, 373,   0]), array([143,   1, 227,   0]), array([ 29,   1, 287,   0]), array([ 28,   1, 433,   0]), array([ 27,   1, 504,   0]), array([ 70,   1, 289,   0]), array([ 71,   1, 143,   0]), array([ 19,   1, 202,   0]), array([ 18,   1, 348,   0]), array([400,   1, 568,   0]), array([401,   1, 422,   0]), array([174,   1, 247,   0]), array([175,   1, 101,   0]), array([430,   1, 464,   0]), array([102,   1, 495,   0]), array([103,   1, 349,   0]), array([ 81,   1, 126,   0]), array([ 80,   1, 272,   0]), array([333,   1, 283,   0]), array([332,   1, 429,   0]), array([ 16,   1, 268,   0]), array([ 17,   1, 122,   0]), array([379,   1, 332,   0]), array([378,   1, 478,   0]), array([320,   1, 271,   0]), array([321,   1, 125,   0]), array([136,   1, 534,   0]), array([137,   1, 388,   0]), array([267,   1, 190,   0]), array([266,   1, 336,   0]), array([ 91,   1, 127,   0]), array([ 90,   1, 273,   0]), array([144,   1, 488,   0]), array([145,   1, 342,   0]), array([335,   1, 185,   0]), array([334,   1, 331,   0]), array([181,   1, 493,   0]), array([222,   1, 282,   0]), array([223,   1, 136,   0]), array([322,   1, 309,   0]), array([323,   1, 163,   0]), array([ 67,   1, 216,   0]), array([ 66,   1, 362,   0]), array([306,   1, 564,   0]), array([307,   1, 418,   0]), array([275,   1,  58,   0]), array([274,   1, 204,   0]), array([349,   1, 139,   0]), array([348,   1, 285,   0]), array([111,   1, 282,   0]), array([110,   1, 428,   0]), array([134,   1, 332,   0]), array([135,   1, 186,   0]), array([130,   1, 283,   0]), array([131,   1, 137,   0]), array([210,   1, 387,   0]), array([211,   1, 241,   0]), array([314,   1, 422,   0]), array([315,   1, 276,   0]), array([ 49,   1, 115,   0]), array([ 48,   1, 261,   0]), array([380,   1, 288,   0]), array([381,   1, 142,   0]), array([285,   1, 115,   0]), array([284,   1, 261,   0]), array([203,   1, 165,   0]), array([202,   1, 311,   0]), array([ 35,   1, 142,   0]), array([ 34,   1, 288,   0]), array([420,   1, 272,   0]), array([421,   1, 126,   0]), array([300,   1, 336,   0]), array([301,   1, 190,   0]), array([316,   1, 575,   0]), array([317,   1, 429,   0]), array([427,   1, 107,   0]), array([426,   1, 253,   0]), array([179,   1, 418,   0]), array([178,   1, 564,   0]), array([150,   1, 285,   0]), array([151,   1, 139,   0]), array([166,   1, 481,   0]), array([167,   1, 335,   0]), array([228,   1, 278,   0]), array([229,   1, 132,   0]), array([224,   1, 481,   0]), array([225,   1, 335,   0]), array([422,   1, 268,   0]), array([423,   1, 122,   0]), array([431,   2, 539,   0]), array([ 41,   2, 206,   0]), array([ 40,   2, 352,   0]), array([217,   2,  91,   0]), array([216,   2, 237,   0]), array([ 53,   2, 489,   0]), array([142,   2, 223,   0]), array([143,   2,  77,   0]), array([ 56,   2, 239,   0]), array([57,  2, 93,  0]), array([434,   2, 366,   0]), array([435,   2, 220,   0]), array([ 52,   2, 538,   0]), array([ 27,   2, 495,   0]), array([175,   2, 101,   0]), array([174,   2, 247,   0]), array([ 29,   2, 281,   0]), array([ 28,   2, 427,   0]), array([333,   2, 292,   0]), array([332,   2, 438,   0]), array([ 70,   2, 289,   0]), array([ 71,   2, 143,   0]), array([400,   2, 568,   0]), array([401,   2, 422,   0]), array([ 18,   2, 333,   0]), array([ 19,   2, 187,   0]), array([430,   2, 608,   0]), array([ 17,   2, 125,   0]), array([ 16,   2, 271,   0]), array([137,   2, 327,   0]), array([136,   2, 473,   0]), array([321,   2, 182,   0]), array([320,   2, 328,   0]), array([323,   2, 163,   0]), array([322,   2, 309,   0]), array([334,   2, 349,   0]), array([335,   2, 203,   0]), array([103,   2, 349,   0]), array([102,   2, 495,   0]), array([ 81,   2, 127,   0]), array([ 80,   2, 273,   0]), array([ 91,   2, 409,   0]), array([ 90,   2, 555,   0]), array([275,   2,  54,   0]), array([274,   2, 200,   0]), array([307,   2, 418,   0]), array([306,   2, 564,   0]), array([145,   2, 342,   0]), array([144,   2, 488,   0]), array([223,   2, 121,   0]), array([222,   2, 267,   0]), array([131,   2, 137,   0]), array([130,   2, 283,   0]), array([420,   2, 279,   0]), array([421,   2, 133,   0]), array([267,   2, 190,   0]), array([266,   2, 336,   0]), array([284,   2, 261,   0]), array([285,   2, 115,   0]), array([181,   2, 493,   0]), array([349,   2, 139,   0]), array([348,   2, 285,   0]), array([111,   2, 282,   0]), array([110,   2, 428,   0]), array([378,   2, 472,   0]), array([379,   2, 326,   0]), array([166,   2, 481,   0]), array([167,   2, 335,   0]), array([ 34,   2, 278,   0]), array([ 35,   2, 132,   0]), array([301,   2,  60,   0]), array([300,   2, 206,   0]), array([445,   2, 294,   0]), array([444,   2, 440,   0]), array([211,   2, 256,   0]), array([210,   2, 402,   0]), array([151,   2, 124,   0]), array([150,   2, 270,   0]), array([ 48,   2, 258,   0]), array([ 49,   2, 112,   0]), array([178,   2, 573,   0]), array([179,   2, 427,   0]), array([438,   2, 287,   0]), array([439,   2, 141,   0]), array([ 66,   2, 368,   0]), array([ 67,   2, 222,   0]), array([257,   2,  83,   0]), array([256,   2, 229,   0]), array([397,   2, 146,   0]), array([396,   2, 292,   0]), array([ 26,   2, 611,   0]), array([317,   2, 414,   0]), array([316,   2, 560,   0]), array([202,   2, 293,   0]), array([203,   2, 147,   0]), array([380,   2, 288,   0]), array([381,   2, 142,   0]), array([427,   2, 171,   0]), array([426,   2, 317,   0]), array([225,   2, 307,   0]), array([ 41,   3, 206,   0]), array([ 40,   3, 352,   0]), array([431,   3, 557,   0]), array([142,   3, 421,   0]), array([143,   3, 275,   0]), array([ 27,   3, 510,   0]), array([ 53,   3, 392,   0]), array([ 52,   3, 538,   0]), array([ 19,   3, 202,   0]), array([ 18,   3, 348,   0]), array([175,   3, 145,   0]), array([174,   3, 291,   0]), array([217,   3,  92,   0]), array([216,   3, 238,   0]), array([430,   3, 464,   0]), array([ 56,   3, 197,   0]), array([57,  3, 51,  0]), array([434,   3, 366,   0]), array([435,   3, 220,   0]), array([ 29,   3, 281,   0]), array([ 28,   3, 427,   0]), array([ 17,   3, 125,   0]), array([ 16,   3, 271,   0]), array([ 71,   3, 143,   0]), array([ 70,   3, 289,   0]), array([145,   3, 363,   0]), array([144,   3, 509,   0]), array([167,   3, 335,   0]), array([166,   3, 481,   0]), array([401,   3, 404,   0]), array([400,   3, 550,   0]), array([ 80,   3, 272,   0]), array([ 81,   3, 126,   0]), array([317,   3, 442,   0]), array([316,   3, 588,   0]), array([ 90,   3, 555,   0]), array([ 91,   3, 409,   0]), array([257,   3,  83,   0]), array([256,   3, 229,   0]), array([332,   3, 441,   0]), array([333,   3, 295,   0]), array([136,   3, 482,   0]), array([137,   3, 336,   0]), array([181,   3, 502,   0]), array([307,   3, 418,   0]), array([306,   3, 564,   0]), array([103,   3, 347,   0]), array([102,   3, 493,   0]), array([ 26,   3, 521,   0]), array([229,   3, 125,   0]), array([228,   3, 271,   0]), array([421,   3, 136,   0]), array([420,   3, 282,   0]), array([300,   3, 158,   0]), array([301,   3,  12,   0]), array([169,   3, 497,   0]), array([322,   3, 351,   0]), array([323,   3, 205,   0]), array([320,   3, 271,   0]), array([321,   3, 125,   0]), array([378,   3, 490,   0]), array([379,   3, 344,   0]), array([438,   3, 287,   0]), array([439,   3, 141,   0]), array([275,   3,  51,   0]), array([274,   3, 197,   0]), array([335,   3, 266,   0]), array([334,   3, 412,   0]), array([223,   3, 181,   0]), array([222,   3, 327,   0]), array([210,   3, 252,   0]), array([211,   3, 106,   0]), array([426,   3, 308,   0]), array([427,   3, 162,   0]), array([180,   3, 381,   0]), array([111,   3, 345,   0]), array([110,   3, 491,   0]), array([208,   3, 159,   0]), array([209,   3,  13,   0]), array([ 37,   3, 552,   0]), array([444,   3, 368,   0]), array([445,   3, 222,   0]), array([381,   3, 151,   0]), array([380,   3, 297,   0]), array([331,   3, 217,   0]), array([330,   3, 363,   0]), array([ 36,   3, 604,   0]), array([178,   3, 573,   0]), array([179,   3, 427,   0]), array([ 60,   3, 135,   0]), array([203,   3, 162,   0]), array([202,   3, 308,   0]), array([ 55,   3, 500,   0]), array([267,   3, 208,   0]), array([266,   3, 354,   0]), array([115,   3, 244,   0]), array([114,   3, 390,   0]), array([100,   3, 250,   0]), array([101,   3, 104,   0]), array([130,   3, 286,   0]), array([431,   4, 548,   0]), array([217,   4,  94,   0]), array([216,   4, 240,   0]), array([435,   4, 220,   0]), array([434,   4, 366,   0]), array([142,   4, 417,   0]), array([143,   4, 271,   0]), array([ 40,   4, 352,   0]), array([ 41,   4, 206,   0]), array([ 53,   4, 497,   0]), array([ 56,   4, 232,   0]), array([57,  4, 86,  0]), array([ 52,   4, 553,   0]), array([174,   4, 244,   0]), array([175,   4,  98,   0]), array([ 28,   4, 426,   0]), array([ 29,   4, 280,   0]), array([ 18,   4, 333,   0]), array([ 19,   4, 187,   0]), array([401,   4, 431,   0]), array([400,   4, 577,   0]), array([ 27,   4, 510,   0]), array([321,   4, 134,   0]), array([320,   4, 280,   0]), array([333,   4, 286,   0]), array([332,   4, 432,   0]), array([ 71,   4, 143,   0]), array([ 70,   4, 289,   0]), array([136,   4, 534,   0]), array([137,   4, 388,   0]), array([335,   4, 266,   0]), array([334,   4, 412,   0]), array([322,   4, 306,   0]), array([323,   4, 160,   0]), array([222,   4, 306,   0]), array([223,   4, 160,   0]), array([103,   4, 349,   0]), array([102,   4, 495,   0]), array([ 16,   4, 367,   0]), array([ 17,   4, 221,   0]), array([430,   4, 608,   0]), array([306,   4, 564,   0]), array([307,   4, 418,   0]), array([266,   4, 336,   0]), array([267,   4, 190,   0]), array([284,   4, 261,   0]), array([285,   4, 115,   0]), array([ 67,   4, 216,   0]), array([ 66,   4, 362,   0]), array([444,   4, 440,   0]), array([445,   4, 294,   0]), array([110,   4, 446,   0]), array([111,   4, 300,   0]), array([181,   4, 496,   0]), array([349,   4, 139,   0]), array([348,   4, 285,   0]), array([ 81,   4, 127,   0]), array([ 80,   4, 273,   0]), array([203,   4, 156,   0]), array([202,   4, 302,   0]), array([420,   4, 272,   0]), array([421,   4, 126,   0]), array([211,   4, 241,   0]), array([210,   4, 387,   0]), array([ 34,   4, 288,   0]), array([ 35,   4, 142,   0]), array([ 91,   4, 121,   0]), array([ 90,   4, 267,   0]), array([275,   4, 121,   0]), array([274,   4, 267,   0]), array([396,   4, 292,   0]), array([397,   4, 146,   0]), array([151,   4, 130,   0]), array([150,   4, 276,   0]), array([130,   4, 292,   0]), array([131,   4, 146,   0]), array([402,   4, 541,   0]), array([403,   4, 395,   0]), array([166,   4, 374,   0]), array([167,   4, 228,   0]), array([225,   4, 308,   0]), array([224,   4, 454,   0]), array([381,   4, 154,   0]), array([380,   4, 300,   0]), array([144,   4, 464,   0]), array([145,   4, 318,   0]), array([134,   4, 327,   0]), array([135,   4, 181,   0]), array([178,   4, 573,   0]), array([179,   4, 427,   0]), array([422,   4, 259,   0]), array([423,   4, 113,   0]), array([316,   4, 588,   0]), array([317,   4, 442,   0]), array([229,   4, 125,   0]), array([228,   4, 271,   0]), array([314,   4, 422,   0]), array([315,   4, 276,   0]), array([ 48,   4, 261,   0]), array([ 49,   4, 115,   0])]\n",
        "max units\n",
        "[array([0, 1, 2, 3, 4]), array([5, 6, 7, 8, 9]), array([10, 11, 12, 13, 14]), array([15, 16, 17, 18, 19]), array([20, 21, 22, 23, 24]), array([25, 26, 27, 28, 29]), array([30, 31, 32, 33, 34]), array([35, 36, 37, 38, 39]), array([40, 41, 42, 43, 44]), array([45, 46, 47, 48, 49]), array([50, 51, 52, 53, 54]), array([55, 56, 57, 58, 59]), array([60, 61, 62, 63, 64]), array([65, 66, 67, 68, 69]), array([70, 71, 72, 73, 74]), array([75, 76, 77, 78, 79]), array([80, 81, 82, 83, 84]), array([85, 86, 87, 88, 89]), array([90, 91, 92, 93, 94]), array([95, 96, 97, 98, 99]), array([100, 101, 102, 103]), array([104, 105, 106, 107]), array([108, 109, 110, 111]), array([112, 113, 114, 115]), array([116, 117, 118, 119]), array([120, 121, 122, 123]), array([124, 125, 126, 127]), array([128, 129, 130, 131]), array([132, 133, 134, 135]), array([136, 137, 138, 139]), array([140, 141, 142, 143]), array([144, 145, 146, 147]), array([148, 149, 150, 151]), array([152, 153, 154, 155]), array([156, 157, 158, 159]), array([160, 161, 162, 163]), array([164, 165, 166, 167]), array([168, 169, 170, 171]), array([172, 173, 174, 175]), array([176, 177, 178, 179]), array([180, 181, 182, 183]), array([184, 185, 186, 187]), array([188, 189, 190, 191]), array([192, 193, 194, 195]), array([196, 197, 198, 199]), array([200, 201, 202, 203]), array([204, 205, 206, 207]), array([208, 209, 210, 211]), array([212, 213, 214, 215]), array([216, 217, 218, 219]), array([220, 221, 222, 223]), array([224, 225, 226, 227]), array([228, 229, 230, 231]), array([232, 233, 234, 235]), array([236, 237, 238, 239]), array([240, 241, 242, 243]), array([244, 245, 246, 247]), array([248, 249, 250, 251]), array([252, 253, 254, 255]), array([256, 257, 258, 259]), array([260, 261, 262, 263]), array([264, 265, 266, 267]), array([268, 269, 270, 271]), array([272, 273, 274, 275]), array([276, 277, 278, 279]), array([280, 281, 282, 283]), array([284, 285, 286, 287]), array([288, 289, 290, 291]), array([292, 293, 294, 295]), array([296, 297, 298, 299]), array([300, 301, 302, 303]), array([304, 305, 306, 307]), array([308, 309, 310, 311]), array([312, 313, 314, 315]), array([316, 317, 318, 319]), array([320, 321, 322, 323]), array([324, 325, 326, 327]), array([328, 329, 330, 331]), array([332, 333, 334, 335]), array([336, 337, 338, 339]), array([340, 341, 342, 343]), array([344, 345, 346, 347]), array([348, 349, 350, 351]), array([352, 353, 354, 355]), array([356, 357, 358, 359]), array([360, 361, 362, 363]), array([364, 365, 366, 367]), array([368, 369, 370, 371]), array([372, 373, 374, 375]), array([376, 377, 378, 379]), array([380, 381, 382, 383]), array([384, 385, 386, 387]), array([388, 389, 390, 391]), array([392, 393, 394, 395]), array([396, 397, 398, 399]), array([400, 401, 402, 403]), array([404, 405, 406, 407]), array([408, 409, 410, 411]), array([412, 413, 414, 415]), array([416, 417, 418, 419]), array([420, 421, 422, 423]), array([424, 425, 426, 427]), array([428, 429, 430, 431]), array([432, 433, 434, 435]), array([436, 437, 438, 439]), array([440, 441, 442, 443]), array([444, 445, 446, 447]), array([448, 449, 450, 451]), array([452, 453, 454, 455]), array([456, 457, 458, 459]), array([460, 461, 462, 463]), array([464, 465, 466, 467]), array([468, 469, 470, 471]), array([472, 473, 474, 475]), array([476, 477, 478, 479]), array([480, 481, 482, 483]), array([484, 485, 486, 487]), array([488, 489, 490, 491]), array([492, 493, 494, 495]), array([496, 497, 498, 499])]\n",
        "Batch\n",
        "!!!W!!! Prod{acc_dtype=int64}.0\n",
        "!!!W!!! Prod{acc_dtype=int64}.0\n",
        "!!!W!!! Prod{acc_dtype=int64}.0\n"
       ]
      },
      {
       "output_type": "stream",
       "stream": "stdout",
       "text": [
        "Batch\n",
        "!!!W!!! Prod{acc_dtype=int64}.0\n",
        "!!!W!!! Prod{acc_dtype=int64}.0\n",
        "!!!W!!! Prod{acc_dtype=int64}.0\n"
       ]
      },
      {
       "output_type": "stream",
       "stream": "stdout",
       "text": [
        "Batch\n",
        "!!!W!!! Prod{acc_dtype=int64}.0\n",
        "!!!W!!! Prod{acc_dtype=int64}.0\n",
        "!!!W!!! Prod{acc_dtype=int64}.0\n"
       ]
      },
      {
       "output_type": "stream",
       "stream": "stdout",
       "text": [
        "Batch\n",
        "!!!W!!! Prod{acc_dtype=int64}.0\n",
        "!!!W!!! Prod{acc_dtype=int64}.0\n",
        "!!!W!!! Prod{acc_dtype=int64}.0\n"
       ]
      },
      {
       "output_type": "stream",
       "stream": "stdout",
       "text": [
        "Batch\n",
        "!!!W!!! Prod{acc_dtype=int64}.0\n",
        "!!!W!!! Prod{acc_dtype=int64}.0\n",
        "!!!W!!! Prod{acc_dtype=int64}.0\n"
       ]
      },
      {
       "output_type": "stream",
       "stream": "stdout",
       "text": [
        "Batch\n",
        "!!!W!!! Prod{acc_dtype=int64}.0\n",
        "!!!W!!! Prod{acc_dtype=int64}.0\n",
        "!!!W!!! Prod{acc_dtype=int64}.0\n"
       ]
      },
      {
       "output_type": "stream",
       "stream": "stdout",
       "text": [
        "Batch\n",
        "!!!W!!! Prod{acc_dtype=int64}.0\n",
        "!!!W!!! Prod{acc_dtype=int64}.0\n",
        "!!!W!!! Prod{acc_dtype=int64}.0\n"
       ]
      },
      {
       "output_type": "stream",
       "stream": "stdout",
       "text": [
        "Batch\n",
        "!!!W!!! Prod{acc_dtype=int64}.0\n",
        "!!!W!!! Prod{acc_dtype=int64}.0\n",
        "!!!W!!! Prod{acc_dtype=int64}.0\n"
       ]
      },
      {
       "output_type": "stream",
       "stream": "stdout",
       "text": [
        "Batch\n",
        "!!!W!!! Prod{acc_dtype=int64}.0\n",
        "!!!W!!! Prod{acc_dtype=int64}.0\n",
        "!!!W!!! Prod{acc_dtype=int64}.0\n"
       ]
      },
      {
       "output_type": "stream",
       "stream": "stdout",
       "text": [
        "Batch\n",
        "!!!W!!! Prod{acc_dtype=int64}.0\n",
        "!!!W!!! Prod{acc_dtype=int64}.0\n",
        "!!!W!!! Prod{acc_dtype=int64}.0\n"
       ]
      },
      {
       "output_type": "stream",
       "stream": "stdout",
       "text": [
        "Batch\n",
        "!!!W!!! Prod{acc_dtype=int64}.0\n",
        "!!!W!!! Prod{acc_dtype=int64}.0\n",
        "!!!W!!! Prod{acc_dtype=int64}.0\n"
       ]
      },
      {
       "output_type": "stream",
       "stream": "stdout",
       "text": [
        "Batch\n",
        "!!!W!!! Prod{acc_dtype=int64}.0\n",
        "!!!W!!! Prod{acc_dtype=int64}.0\n",
        "!!!W!!! Prod{acc_dtype=int64}.0\n"
       ]
      },
      {
       "output_type": "stream",
       "stream": "stdout",
       "text": [
        "Batch\n",
        "!!!W!!! Prod{acc_dtype=int64}.0\n",
        "!!!W!!! Prod{acc_dtype=int64}.0\n",
        "!!!W!!! Prod{acc_dtype=int64}.0\n"
       ]
      },
      {
       "output_type": "stream",
       "stream": "stdout",
       "text": [
        "Batch\n",
        "!!!W!!! Prod{acc_dtype=int64}.0\n",
        "!!!W!!! Prod{acc_dtype=int64}.0\n",
        "!!!W!!! Prod{acc_dtype=int64}.0\n"
       ]
      },
      {
       "output_type": "stream",
       "stream": "stdout",
       "text": [
        "Batch\n",
        "!!!W!!! Prod{acc_dtype=int64}.0\n",
        "!!!W!!! Prod{acc_dtype=int64}.0\n",
        "!!!W!!! Prod{acc_dtype=int64}.0\n"
       ]
      },
      {
       "output_type": "stream",
       "stream": "stdout",
       "text": [
        "Batch\n",
        "!!!W!!! Prod{acc_dtype=int64}.0\n",
        "!!!W!!! Prod{acc_dtype=int64}.0\n",
        "!!!W!!! Prod{acc_dtype=int64}.0\n"
       ]
      },
      {
       "output_type": "stream",
       "stream": "stdout",
       "text": [
        "Batch\n",
        "!!!W!!! Prod{acc_dtype=int64}.0\n",
        "!!!W!!! Prod{acc_dtype=int64}.0\n",
        "!!!W!!! Prod{acc_dtype=int64}.0\n"
       ]
      },
      {
       "output_type": "stream",
       "stream": "stdout",
       "text": [
        "Batch\n",
        "!!!W!!! Prod{acc_dtype=int64}.0\n",
        "!!!W!!! Prod{acc_dtype=int64}.0\n",
        "!!!W!!! Prod{acc_dtype=int64}.0\n"
       ]
      },
      {
       "output_type": "stream",
       "stream": "stdout",
       "text": [
        "Batch\n",
        "!!!W!!! Prod{acc_dtype=int64}.0\n",
        "!!!W!!! Prod{acc_dtype=int64}.0\n",
        "!!!W!!! Prod{acc_dtype=int64}.0\n"
       ]
      },
      {
       "output_type": "stream",
       "stream": "stdout",
       "text": [
        "Batch\n",
        "!!!W!!! Prod{acc_dtype=int64}.0\n",
        "!!!W!!! Prod{acc_dtype=int64}.0\n",
        "!!!W!!! Prod{acc_dtype=int64}.0\n"
       ]
      },
      {
       "output_type": "stream",
       "stream": "stdout",
       "text": [
        "Batch\n",
        "!!!W!!! Prod{acc_dtype=int64}.0\n",
        "!!!W!!! Prod{acc_dtype=int64}.0\n",
        "!!!W!!! Prod{acc_dtype=int64}.0\n"
       ]
      },
      {
       "output_type": "stream",
       "stream": "stdout",
       "text": [
        "Batch\n",
        "!!!W!!! Prod{acc_dtype=int64}.0\n",
        "!!!W!!! Prod{acc_dtype=int64}.0\n",
        "!!!W!!! Prod{acc_dtype=int64}.0\n"
       ]
      },
      {
       "output_type": "stream",
       "stream": "stdout",
       "text": [
        "Batch\n",
        "!!!W!!! Prod{acc_dtype=int64}.0\n",
        "!!!W!!! Prod{acc_dtype=int64}.0\n",
        "!!!W!!! Prod{acc_dtype=int64}.0\n"
       ]
      },
      {
       "output_type": "stream",
       "stream": "stdout",
       "text": [
        "Batch\n",
        "!!!W!!! Prod{acc_dtype=int64}.0\n",
        "!!!W!!! Prod{acc_dtype=int64}.0\n",
        "!!!W!!! Prod{acc_dtype=int64}.0\n"
       ]
      },
      {
       "output_type": "stream",
       "stream": "stdout",
       "text": [
        "Batch\n",
        "!!!W!!! Prod{acc_dtype=int64}.0\n",
        "!!!W!!! Prod{acc_dtype=int64}.0\n",
        "!!!W!!! Prod{acc_dtype=int64}.0\n"
       ]
      },
      {
       "output_type": "stream",
       "stream": "stdout",
       "text": [
        "Batch\n",
        "!!!W!!! Prod{acc_dtype=int64}.0\n",
        "!!!W!!! Prod{acc_dtype=int64}.0\n",
        "!!!W!!! Prod{acc_dtype=int64}.0\n"
       ]
      },
      {
       "output_type": "stream",
       "stream": "stdout",
       "text": [
        "Batch\n",
        "!!!W!!! Prod{acc_dtype=int64}.0\n",
        "!!!W!!! Prod{acc_dtype=int64}.0\n",
        "!!!W!!! Prod{acc_dtype=int64}.0\n"
       ]
      },
      {
       "output_type": "stream",
       "stream": "stdout",
       "text": [
        "Batch\n",
        "!!!W!!! Prod{acc_dtype=int64}.0\n",
        "!!!W!!! Prod{acc_dtype=int64}.0\n",
        "!!!W!!! Prod{acc_dtype=int64}.0\n"
       ]
      },
      {
       "output_type": "stream",
       "stream": "stdout",
       "text": [
        "Batch\n",
        "!!!W!!! Prod{acc_dtype=int64}.0\n",
        "!!!W!!! Prod{acc_dtype=int64}.0\n",
        "!!!W!!! Prod{acc_dtype=int64}.0\n"
       ]
      },
      {
       "output_type": "stream",
       "stream": "stdout",
       "text": [
        "Batch\n",
        "!!!W!!! Prod{acc_dtype=int64}.0\n",
        "!!!W!!! Prod{acc_dtype=int64}.0\n",
        "!!!W!!! Prod{acc_dtype=int64}.0\n"
       ]
      },
      {
       "output_type": "stream",
       "stream": "stdout",
       "text": [
        "Batch\n",
        "!!!W!!! Prod{acc_dtype=int64}.0\n",
        "!!!W!!! Prod{acc_dtype=int64}.0\n",
        "!!!W!!! Prod{acc_dtype=int64}.0\n"
       ]
      },
      {
       "output_type": "stream",
       "stream": "stdout",
       "text": [
        "Batch\n",
        "!!!W!!! Prod{acc_dtype=int64}.0\n",
        "!!!W!!! Prod{acc_dtype=int64}.0\n",
        "!!!W!!! Prod{acc_dtype=int64}.0\n"
       ]
      },
      {
       "output_type": "stream",
       "stream": "stdout",
       "text": [
        "Batch\n",
        "!!!W!!! Prod{acc_dtype=int64}.0\n",
        "!!!W!!! Prod{acc_dtype=int64}.0\n",
        "!!!W!!! Prod{acc_dtype=int64}.0\n"
       ]
      },
      {
       "output_type": "stream",
       "stream": "stdout",
       "text": [
        "Batch\n",
        "!!!W!!! Prod{acc_dtype=int64}.0\n",
        "!!!W!!! Prod{acc_dtype=int64}.0\n",
        "!!!W!!! Prod{acc_dtype=int64}.0\n"
       ]
      },
      {
       "output_type": "stream",
       "stream": "stdout",
       "text": [
        "Batch\n",
        "!!!W!!! Prod{acc_dtype=int64}.0\n",
        "!!!W!!! Prod{acc_dtype=int64}.0\n",
        "!!!W!!! Prod{acc_dtype=int64}.0\n"
       ]
      },
      {
       "output_type": "stream",
       "stream": "stdout",
       "text": [
        "Batch\n",
        "!!!W!!! Prod{acc_dtype=int64}.0\n",
        "!!!W!!! Prod{acc_dtype=int64}.0\n",
        "!!!W!!! Prod{acc_dtype=int64}.0\n"
       ]
      },
      {
       "output_type": "stream",
       "stream": "stdout",
       "text": [
        "Batch\n",
        "!!!W!!! Prod{acc_dtype=int64}.0\n",
        "!!!W!!! Prod{acc_dtype=int64}.0\n",
        "!!!W!!! Prod{acc_dtype=int64}.0\n"
       ]
      },
      {
       "output_type": "stream",
       "stream": "stdout",
       "text": [
        "Batch\n",
        "!!!W!!! Prod{acc_dtype=int64}.0\n",
        "!!!W!!! Prod{acc_dtype=int64}.0\n",
        "!!!W!!! Prod{acc_dtype=int64}.0\n"
       ]
      },
      {
       "output_type": "stream",
       "stream": "stdout",
       "text": [
        "Batch\n",
        "!!!W!!! Prod{acc_dtype=int64}.0\n",
        "!!!W!!! Prod{acc_dtype=int64}.0\n",
        "!!!W!!! Prod{acc_dtype=int64}.0\n"
       ]
      },
      {
       "output_type": "stream",
       "stream": "stdout",
       "text": [
        "Batch\n",
        "!!!W!!! Prod{acc_dtype=int64}.0\n",
        "!!!W!!! Prod{acc_dtype=int64}.0\n",
        "!!!W!!! Prod{acc_dtype=int64}.0\n"
       ]
      },
      {
       "output_type": "stream",
       "stream": "stdout",
       "text": [
        "Batch\n",
        "!!!W!!! Prod{acc_dtype=int64}.0\n",
        "!!!W!!! Prod{acc_dtype=int64}.0\n",
        "!!!W!!! Prod{acc_dtype=int64}.0\n"
       ]
      },
      {
       "output_type": "stream",
       "stream": "stdout",
       "text": [
        "Batch\n",
        "!!!W!!! Prod{acc_dtype=int64}.0\n",
        "!!!W!!! Prod{acc_dtype=int64}.0\n",
        "!!!W!!! Prod{acc_dtype=int64}.0\n"
       ]
      },
      {
       "output_type": "stream",
       "stream": "stdout",
       "text": [
        "Batch\n",
        "!!!W!!! Prod{acc_dtype=int64}.0\n",
        "!!!W!!! Prod{acc_dtype=int64}.0\n",
        "!!!W!!! Prod{acc_dtype=int64}.0\n"
       ]
      },
      {
       "output_type": "stream",
       "stream": "stdout",
       "text": [
        "Batch\n",
        "!!!W!!! Prod{acc_dtype=int64}.0\n",
        "!!!W!!! Prod{acc_dtype=int64}.0\n",
        "!!!W!!! Prod{acc_dtype=int64}.0\n"
       ]
      },
      {
       "output_type": "stream",
       "stream": "stdout",
       "text": [
        "Batch\n",
        "!!!W!!! Prod{acc_dtype=int64}.0\n",
        "!!!W!!! Prod{acc_dtype=int64}.0\n",
        "!!!W!!! Prod{acc_dtype=int64}.0\n"
       ]
      },
      {
       "output_type": "stream",
       "stream": "stdout",
       "text": [
        "Batch\n",
        "!!!W!!! Prod{acc_dtype=int64}.0\n",
        "!!!W!!! Prod{acc_dtype=int64}.0\n",
        "!!!W!!! Prod{acc_dtype=int64}.0\n"
       ]
      },
      {
       "output_type": "stream",
       "stream": "stdout",
       "text": [
        "Batch\n",
        "!!!W!!! Prod{acc_dtype=int64}.0\n",
        "!!!W!!! Prod{acc_dtype=int64}.0\n",
        "!!!W!!! Prod{acc_dtype=int64}.0\n"
       ]
      },
      {
       "output_type": "stream",
       "stream": "stdout",
       "text": [
        "Batch\n",
        "!!!W!!! Prod{acc_dtype=int64}.0\n",
        "!!!W!!! Prod{acc_dtype=int64}.0\n",
        "!!!W!!! Prod{acc_dtype=int64}.0\n"
       ]
      },
      {
       "output_type": "stream",
       "stream": "stdout",
       "text": [
        "Batch\n",
        "!!!W!!! Prod{acc_dtype=int64}.0\n",
        "!!!W!!! Prod{acc_dtype=int64}.0\n",
        "!!!W!!! Prod{acc_dtype=int64}.0\n"
       ]
      },
      {
       "output_type": "stream",
       "stream": "stdout",
       "text": [
        "Batch\n",
        "!!!W!!! Prod{acc_dtype=int64}.0\n",
        "!!!W!!! Prod{acc_dtype=int64}.0\n",
        "!!!W!!! Prod{acc_dtype=int64}.0\n"
       ]
      },
      {
       "output_type": "stream",
       "stream": "stdout",
       "text": [
        "Batch\n",
        "!!!W!!! Prod{acc_dtype=int64}.0\n",
        "!!!W!!! Prod{acc_dtype=int64}.0\n",
        "!!!W!!! Prod{acc_dtype=int64}.0\n"
       ]
      },
      {
       "output_type": "stream",
       "stream": "stdout",
       "text": [
        "Batch\n",
        "!!!W!!! Prod{acc_dtype=int64}.0\n",
        "!!!W!!! Prod{acc_dtype=int64}.0\n",
        "!!!W!!! Prod{acc_dtype=int64}.0\n"
       ]
      },
      {
       "output_type": "stream",
       "stream": "stdout",
       "text": [
        "Batch\n",
        "!!!W!!! Prod{acc_dtype=int64}.0\n",
        "!!!W!!! Prod{acc_dtype=int64}.0\n",
        "!!!W!!! Prod{acc_dtype=int64}.0\n"
       ]
      },
      {
       "output_type": "stream",
       "stream": "stdout",
       "text": [
        "Batch\n",
        "!!!W!!! Prod{acc_dtype=int64}.0\n",
        "!!!W!!! Prod{acc_dtype=int64}.0\n",
        "!!!W!!! Prod{acc_dtype=int64}.0\n"
       ]
      },
      {
       "output_type": "stream",
       "stream": "stdout",
       "text": [
        "Batch\n",
        "!!!W!!! Prod{acc_dtype=int64}.0\n",
        "!!!W!!! Prod{acc_dtype=int64}.0\n",
        "!!!W!!! Prod{acc_dtype=int64}.0\n"
       ]
      },
      {
       "output_type": "stream",
       "stream": "stdout",
       "text": [
        "Batch\n",
        "!!!W!!! Prod{acc_dtype=int64}.0\n",
        "!!!W!!! Prod{acc_dtype=int64}.0\n",
        "!!!W!!! Prod{acc_dtype=int64}.0\n"
       ]
      },
      {
       "output_type": "stream",
       "stream": "stdout",
       "text": [
        "Batch\n",
        "!!!W!!! Prod{acc_dtype=int64}.0\n",
        "!!!W!!! Prod{acc_dtype=int64}.0\n",
        "!!!W!!! Prod{acc_dtype=int64}.0\n"
       ]
      },
      {
       "output_type": "stream",
       "stream": "stdout",
       "text": [
        "Batch\n",
        "!!!W!!! Prod{acc_dtype=int64}.0\n",
        "!!!W!!! Prod{acc_dtype=int64}.0\n",
        "!!!W!!! Prod{acc_dtype=int64}.0\n"
       ]
      },
      {
       "output_type": "stream",
       "stream": "stdout",
       "text": [
        "Batch\n",
        "!!!W!!! Prod{acc_dtype=int64}.0\n",
        "!!!W!!! Prod{acc_dtype=int64}.0\n",
        "!!!W!!! Prod{acc_dtype=int64}.0\n"
       ]
      },
      {
       "output_type": "stream",
       "stream": "stdout",
       "text": [
        "Batch\n",
        "!!!W!!! Prod{acc_dtype=int64}.0\n",
        "!!!W!!! Prod{acc_dtype=int64}.0\n",
        "!!!W!!! Prod{acc_dtype=int64}.0\n"
       ]
      },
      {
       "output_type": "stream",
       "stream": "stdout",
       "text": [
        "Batch\n",
        "!!!W!!! Prod{acc_dtype=int64}.0\n",
        "!!!W!!! Prod{acc_dtype=int64}.0\n",
        "!!!W!!! Prod{acc_dtype=int64}.0\n"
       ]
      },
      {
       "output_type": "stream",
       "stream": "stdout",
       "text": [
        "Batch\n",
        "!!!W!!! Prod{acc_dtype=int64}.0\n",
        "!!!W!!! Prod{acc_dtype=int64}.0\n",
        "!!!W!!! Prod{acc_dtype=int64}.0\n"
       ]
      },
      {
       "output_type": "stream",
       "stream": "stdout",
       "text": [
        "Batch\n",
        "!!!W!!! Prod{acc_dtype=int64}.0\n",
        "!!!W!!! Prod{acc_dtype=int64}.0\n",
        "!!!W!!! Prod{acc_dtype=int64}.0\n"
       ]
      },
      {
       "output_type": "stream",
       "stream": "stdout",
       "text": [
        "Batch\n",
        "!!!W!!! Prod{acc_dtype=int64}.0\n",
        "!!!W!!! Prod{acc_dtype=int64}.0\n",
        "!!!W!!! Prod{acc_dtype=int64}.0\n"
       ]
      },
      {
       "output_type": "stream",
       "stream": "stdout",
       "text": [
        "Batch\n",
        "!!!W!!! Prod{acc_dtype=int64}.0\n",
        "!!!W!!! Prod{acc_dtype=int64}.0\n",
        "!!!W!!! Prod{acc_dtype=int64}.0\n"
       ]
      },
      {
       "output_type": "stream",
       "stream": "stdout",
       "text": [
        "Batch\n",
        "!!!W!!! Prod{acc_dtype=int64}.0\n",
        "!!!W!!! Prod{acc_dtype=int64}.0\n",
        "!!!W!!! Prod{acc_dtype=int64}.0\n"
       ]
      },
      {
       "output_type": "stream",
       "stream": "stdout",
       "text": [
        "Batch\n",
        "!!!W!!! Prod{acc_dtype=int64}.0\n",
        "!!!W!!! Prod{acc_dtype=int64}.0\n",
        "!!!W!!! Prod{acc_dtype=int64}.0\n"
       ]
      },
      {
       "output_type": "stream",
       "stream": "stdout",
       "text": [
        "Batch\n",
        "!!!W!!! Prod{acc_dtype=int64}.0\n",
        "!!!W!!! Prod{acc_dtype=int64}.0\n",
        "!!!W!!! Prod{acc_dtype=int64}.0\n"
       ]
      },
      {
       "output_type": "stream",
       "stream": "stdout",
       "text": [
        "Batch\n",
        "!!!W!!! Prod{acc_dtype=int64}.0\n",
        "!!!W!!! Prod{acc_dtype=int64}.0\n",
        "!!!W!!! Prod{acc_dtype=int64}.0\n"
       ]
      },
      {
       "output_type": "stream",
       "stream": "stdout",
       "text": [
        "Batch\n",
        "!!!W!!! Prod{acc_dtype=int64}.0\n",
        "!!!W!!! Prod{acc_dtype=int64}.0\n",
        "!!!W!!! Prod{acc_dtype=int64}.0\n"
       ]
      },
      {
       "output_type": "stream",
       "stream": "stdout",
       "text": [
        "Batch\n",
        "!!!W!!! Prod{acc_dtype=int64}.0\n",
        "!!!W!!! Prod{acc_dtype=int64}.0\n",
        "!!!W!!! Prod{acc_dtype=int64}.0\n"
       ]
      },
      {
       "output_type": "stream",
       "stream": "stdout",
       "text": [
        "Batch\n",
        "!!!W!!! Prod{acc_dtype=int64}.0\n",
        "!!!W!!! Prod{acc_dtype=int64}.0\n",
        "!!!W!!! Prod{acc_dtype=int64}.0\n"
       ]
      },
      {
       "output_type": "stream",
       "stream": "stdout",
       "text": [
        "Batch\n",
        "!!!W!!! Prod{acc_dtype=int64}.0\n",
        "!!!W!!! Prod{acc_dtype=int64}.0\n",
        "!!!W!!! Prod{acc_dtype=int64}.0\n"
       ]
      },
      {
       "output_type": "stream",
       "stream": "stdout",
       "text": [
        "Batch\n",
        "!!!W!!! Prod{acc_dtype=int64}.0\n",
        "!!!W!!! Prod{acc_dtype=int64}.0\n",
        "!!!W!!! Prod{acc_dtype=int64}.0\n"
       ]
      },
      {
       "output_type": "stream",
       "stream": "stdout",
       "text": [
        "Batch\n",
        "!!!W!!! Prod{acc_dtype=int64}.0\n",
        "!!!W!!! Prod{acc_dtype=int64}.0\n",
        "!!!W!!! Prod{acc_dtype=int64}.0\n"
       ]
      },
      {
       "output_type": "stream",
       "stream": "stdout",
       "text": [
        "Batch\n",
        "!!!W!!! Prod{acc_dtype=int64}.0\n",
        "!!!W!!! Prod{acc_dtype=int64}.0\n",
        "!!!W!!! Prod{acc_dtype=int64}.0\n"
       ]
      },
      {
       "output_type": "stream",
       "stream": "stdout",
       "text": [
        "Batch\n",
        "!!!W!!! Prod{acc_dtype=int64}.0\n",
        "!!!W!!! Prod{acc_dtype=int64}.0\n",
        "!!!W!!! Prod{acc_dtype=int64}.0\n"
       ]
      },
      {
       "output_type": "stream",
       "stream": "stdout",
       "text": [
        "Batch\n",
        "!!!W!!! Prod{acc_dtype=int64}.0\n",
        "!!!W!!! Prod{acc_dtype=int64}.0\n",
        "!!!W!!! Prod{acc_dtype=int64}.0\n"
       ]
      },
      {
       "output_type": "stream",
       "stream": "stdout",
       "text": [
        "Batch\n",
        "!!!W!!! Prod{acc_dtype=int64}.0\n",
        "!!!W!!! Prod{acc_dtype=int64}.0\n",
        "!!!W!!! Prod{acc_dtype=int64}.0\n"
       ]
      },
      {
       "output_type": "stream",
       "stream": "stdout",
       "text": [
        "Batch\n",
        "!!!W!!! Prod{acc_dtype=int64}.0\n",
        "!!!W!!! Prod{acc_dtype=int64}.0\n",
        "!!!W!!! Prod{acc_dtype=int64}.0\n"
       ]
      },
      {
       "output_type": "stream",
       "stream": "stdout",
       "text": [
        "Batch\n",
        "!!!W!!! Prod{acc_dtype=int64}.0\n",
        "!!!W!!! Prod{acc_dtype=int64}.0\n",
        "!!!W!!! Prod{acc_dtype=int64}.0\n"
       ]
      },
      {
       "output_type": "stream",
       "stream": "stdout",
       "text": [
        "Batch\n",
        "!!!W!!! Prod{acc_dtype=int64}.0\n",
        "!!!W!!! Prod{acc_dtype=int64}.0\n",
        "!!!W!!! Prod{acc_dtype=int64}.0\n"
       ]
      },
      {
       "output_type": "stream",
       "stream": "stdout",
       "text": [
        "Batch\n",
        "!!!W!!! Prod{acc_dtype=int64}.0\n",
        "!!!W!!! Prod{acc_dtype=int64}.0\n",
        "!!!W!!! Prod{acc_dtype=int64}.0\n"
       ]
      },
      {
       "output_type": "stream",
       "stream": "stdout",
       "text": [
        "Batch\n",
        "!!!W!!! Prod{acc_dtype=int64}.0\n",
        "!!!W!!! Prod{acc_dtype=int64}.0\n",
        "!!!W!!! Prod{acc_dtype=int64}.0\n"
       ]
      },
      {
       "output_type": "stream",
       "stream": "stdout",
       "text": [
        "Batch\n",
        "!!!W!!! Prod{acc_dtype=int64}.0\n",
        "!!!W!!! Prod{acc_dtype=int64}.0\n",
        "!!!W!!! Prod{acc_dtype=int64}.0\n"
       ]
      },
      {
       "output_type": "stream",
       "stream": "stdout",
       "text": [
        "Batch\n",
        "!!!W!!! Prod{acc_dtype=int64}.0\n",
        "!!!W!!! Prod{acc_dtype=int64}.0\n",
        "!!!W!!! Prod{acc_dtype=int64}.0\n"
       ]
      },
      {
       "output_type": "stream",
       "stream": "stdout",
       "text": [
        "Batch\n",
        "!!!W!!! Prod{acc_dtype=int64}.0\n",
        "!!!W!!! Prod{acc_dtype=int64}.0\n",
        "!!!W!!! Prod{acc_dtype=int64}.0\n"
       ]
      },
      {
       "output_type": "stream",
       "stream": "stdout",
       "text": [
        "Batch\n",
        "!!!W!!! Prod{acc_dtype=int64}.0\n",
        "!!!W!!! Prod{acc_dtype=int64}.0\n",
        "!!!W!!! Prod{acc_dtype=int64}.0\n"
       ]
      },
      {
       "output_type": "stream",
       "stream": "stdout",
       "text": [
        "Batch\n",
        "!!!W!!! Prod{acc_dtype=int64}.0\n",
        "!!!W!!! Prod{acc_dtype=int64}.0\n",
        "!!!W!!! Prod{acc_dtype=int64}.0\n"
       ]
      },
      {
       "output_type": "stream",
       "stream": "stdout",
       "text": [
        "Batch\n",
        "!!!W!!! Prod{acc_dtype=int64}.0\n",
        "!!!W!!! Prod{acc_dtype=int64}.0\n",
        "!!!W!!! Prod{acc_dtype=int64}.0\n"
       ]
      },
      {
       "output_type": "stream",
       "stream": "stdout",
       "text": [
        "Batch\n",
        "!!!W!!! Prod{acc_dtype=int64}.0\n",
        "!!!W!!! Prod{acc_dtype=int64}.0\n",
        "!!!W!!! Prod{acc_dtype=int64}.0\n"
       ]
      },
      {
       "output_type": "stream",
       "stream": "stdout",
       "text": [
        "Batch\n",
        "!!!W!!! Prod{acc_dtype=int64}.0\n",
        "!!!W!!! Prod{acc_dtype=int64}.0\n",
        "!!!W!!! Prod{acc_dtype=int64}.0\n"
       ]
      },
      {
       "output_type": "stream",
       "stream": "stdout",
       "text": [
        "Batch\n",
        "!!!W!!! Prod{acc_dtype=int64}.0\n",
        "!!!W!!! Prod{acc_dtype=int64}.0\n",
        "!!!W!!! Prod{acc_dtype=int64}.0\n"
       ]
      },
      {
       "output_type": "stream",
       "stream": "stdout",
       "text": [
        "Batch\n",
        "!!!W!!! Prod{acc_dtype=int64}.0\n",
        "!!!W!!! Prod{acc_dtype=int64}.0\n",
        "!!!W!!! Prod{acc_dtype=int64}.0\n"
       ]
      },
      {
       "output_type": "stream",
       "stream": "stdout",
       "text": [
        "Batch\n",
        "!!!W!!! Prod{acc_dtype=int64}.0\n",
        "!!!W!!! Prod{acc_dtype=int64}.0\n",
        "!!!W!!! Prod{acc_dtype=int64}.0\n"
       ]
      },
      {
       "output_type": "stream",
       "stream": "stdout",
       "text": [
        "Batch\n",
        "!!!W!!! Prod{acc_dtype=int64}.0\n",
        "!!!W!!! Prod{acc_dtype=int64}.0\n",
        "!!!W!!! Prod{acc_dtype=int64}.0\n"
       ]
      },
      {
       "output_type": "stream",
       "stream": "stdout",
       "text": [
        "Batch\n",
        "!!!W!!! Prod{acc_dtype=int64}.0\n",
        "!!!W!!! Prod{acc_dtype=int64}.0\n",
        "!!!W!!! Prod{acc_dtype=int64}.0\n"
       ]
      },
      {
       "output_type": "stream",
       "stream": "stdout",
       "text": [
        "Batch\n",
        "!!!W!!! Prod{acc_dtype=int64}.0\n",
        "!!!W!!! Prod{acc_dtype=int64}.0\n",
        "!!!W!!! Prod{acc_dtype=int64}.0\n"
       ]
      },
      {
       "output_type": "stream",
       "stream": "stdout",
       "text": [
        "Batch\n",
        "!!!W!!! Prod{acc_dtype=int64}.0\n",
        "!!!W!!! Prod{acc_dtype=int64}.0\n",
        "!!!W!!! Prod{acc_dtype=int64}.0\n"
       ]
      },
      {
       "output_type": "stream",
       "stream": "stdout",
       "text": [
        "Batch\n",
        "!!!W!!! Prod{acc_dtype=int64}.0\n",
        "!!!W!!! Prod{acc_dtype=int64}.0\n",
        "!!!W!!! Prod{acc_dtype=int64}.0\n"
       ]
      },
      {
       "output_type": "stream",
       "stream": "stdout",
       "text": [
        "Batch\n",
        "!!!W!!! Prod{acc_dtype=int64}.0\n",
        "!!!W!!! Prod{acc_dtype=int64}.0\n",
        "!!!W!!! Prod{acc_dtype=int64}.0\n"
       ]
      },
      {
       "output_type": "stream",
       "stream": "stdout",
       "text": [
        "Batch\n",
        "!!!W!!! Prod{acc_dtype=int64}.0\n",
        "!!!W!!! Prod{acc_dtype=int64}.0\n",
        "!!!W!!! Prod{acc_dtype=int64}.0\n"
       ]
      },
      {
       "output_type": "stream",
       "stream": "stdout",
       "text": [
        "Batch\n",
        "!!!W!!! Prod{acc_dtype=int64}.0\n",
        "!!!W!!! Prod{acc_dtype=int64}.0\n",
        "!!!W!!! Prod{acc_dtype=int64}.0\n"
       ]
      },
      {
       "output_type": "stream",
       "stream": "stdout",
       "text": [
        "Batch\n",
        "!!!W!!! Prod{acc_dtype=int64}.0\n",
        "!!!W!!! Prod{acc_dtype=int64}.0\n",
        "!!!W!!! Prod{acc_dtype=int64}.0\n"
       ]
      },
      {
       "output_type": "stream",
       "stream": "stdout",
       "text": [
        "Batch\n",
        "!!!W!!! Prod{acc_dtype=int64}.0\n",
        "!!!W!!! Prod{acc_dtype=int64}.0\n",
        "!!!W!!! Prod{acc_dtype=int64}.0\n"
       ]
      },
      {
       "output_type": "stream",
       "stream": "stdout",
       "text": [
        "Batch\n",
        "!!!W!!! Prod{acc_dtype=int64}.0\n",
        "!!!W!!! Prod{acc_dtype=int64}.0\n",
        "!!!W!!! Prod{acc_dtype=int64}.0\n"
       ]
      },
      {
       "output_type": "stream",
       "stream": "stdout",
       "text": [
        "Batch\n",
        "!!!W!!! Prod{acc_dtype=int64}.0\n",
        "!!!W!!! Prod{acc_dtype=int64}.0\n",
        "!!!W!!! Prod{acc_dtype=int64}.0\n"
       ]
      },
      {
       "output_type": "stream",
       "stream": "stdout",
       "text": [
        "Batch\n",
        "!!!W!!! Prod{acc_dtype=int64}.0\n",
        "!!!W!!! Prod{acc_dtype=int64}.0\n",
        "!!!W!!! Prod{acc_dtype=int64}.0\n"
       ]
      },
      {
       "output_type": "stream",
       "stream": "stdout",
       "text": [
        "Batch\n",
        "!!!W!!! Prod{acc_dtype=int64}.0\n",
        "!!!W!!! Prod{acc_dtype=int64}.0\n",
        "!!!W!!! Prod{acc_dtype=int64}.0\n"
       ]
      },
      {
       "output_type": "stream",
       "stream": "stdout",
       "text": [
        "Batch\n",
        "!!!W!!! Prod{acc_dtype=int64}.0\n",
        "!!!W!!! Prod{acc_dtype=int64}.0\n",
        "!!!W!!! Prod{acc_dtype=int64}.0\n"
       ]
      },
      {
       "output_type": "stream",
       "stream": "stdout",
       "text": [
        "Batch\n",
        "!!!W!!! Prod{acc_dtype=int64}.0\n",
        "!!!W!!! Prod{acc_dtype=int64}.0\n",
        "!!!W!!! Prod{acc_dtype=int64}.0\n"
       ]
      },
      {
       "output_type": "stream",
       "stream": "stdout",
       "text": [
        "Batch\n",
        "!!!W!!! Prod{acc_dtype=int64}.0\n",
        "!!!W!!! Prod{acc_dtype=int64}.0\n",
        "!!!W!!! Prod{acc_dtype=int64}.0\n"
       ]
      },
      {
       "output_type": "stream",
       "stream": "stdout",
       "text": [
        "Batch\n",
        "!!!W!!! Prod{acc_dtype=int64}.0\n",
        "!!!W!!! Prod{acc_dtype=int64}.0\n",
        "!!!W!!! Prod{acc_dtype=int64}.0\n"
       ]
      },
      {
       "output_type": "stream",
       "stream": "stdout",
       "text": [
        "Batch\n",
        "!!!W!!! Prod{acc_dtype=int64}.0\n",
        "!!!W!!! Prod{acc_dtype=int64}.0\n",
        "!!!W!!! Prod{acc_dtype=int64}.0\n"
       ]
      },
      {
       "output_type": "stream",
       "stream": "stdout",
       "text": [
        "Batch\n",
        "!!!W!!! Prod{acc_dtype=int64}.0\n",
        "!!!W!!! Prod{acc_dtype=int64}.0\n",
        "!!!W!!! Prod{acc_dtype=int64}.0\n"
       ]
      },
      {
       "output_type": "stream",
       "stream": "stdout",
       "text": [
        "Batch\n",
        "!!!W!!! Prod{acc_dtype=int64}.0\n",
        "!!!W!!! Prod{acc_dtype=int64}.0\n",
        "!!!W!!! Prod{acc_dtype=int64}.0\n"
       ]
      },
      {
       "output_type": "stream",
       "stream": "stdout",
       "text": [
        "Batch\n",
        "!!!W!!! Prod{acc_dtype=int64}.0\n",
        "!!!W!!! Prod{acc_dtype=int64}.0\n",
        "!!!W!!! Prod{acc_dtype=int64}.0\n"
       ]
      },
      {
       "output_type": "stream",
       "stream": "stdout",
       "text": [
        "Batch\n",
        "!!!W!!! Prod{acc_dtype=int64}.0\n",
        "!!!W!!! Prod{acc_dtype=int64}.0\n",
        "!!!W!!! Prod{acc_dtype=int64}.0\n"
       ]
      },
      {
       "output_type": "stream",
       "stream": "stdout",
       "text": [
        "Batch\n",
        "!!!W!!! Prod{acc_dtype=int64}.0\n",
        "!!!W!!! Prod{acc_dtype=int64}.0\n",
        "!!!W!!! Prod{acc_dtype=int64}.0\n"
       ]
      },
      {
       "output_type": "stream",
       "stream": "stdout",
       "text": [
        "Batch\n",
        "!!!W!!! Prod{acc_dtype=int64}.0\n",
        "!!!W!!! Prod{acc_dtype=int64}.0\n",
        "!!!W!!! Prod{acc_dtype=int64}.0\n"
       ]
      },
      {
       "output_type": "stream",
       "stream": "stdout",
       "text": [
        "Outputs (448, 4, 479, 1)\n",
        "Filter\n",
        "Filter\n",
        "Filter\n",
        "Filter\n"
       ]
      },
      {
       "output_type": "stream",
       "stream": "stdout",
       "text": [
        "[array([ 41,   0, 154,   0]), array([ 40,   0, 300,   0]), array([  4,   0, 204,   0]), array([ 5,  0, 58,  0]), array([233,   0,  40,   0]), array([232,   0, 186,   0]), array([ 54,   0, 250,   0]), array([ 55,   0, 104,   0]), array([341,   0, 342,   0]), array([340,   0, 470,   0]), array([321,   0, 105,   0]), array([320,   0, 251,   0]), array([227,   0, 164,   0]), array([226,   0, 310,   0]), array([268,   0, 171,   0]), array([269,   0,  25,   0]), array([410,   0, 404,   0]), array([411,   0, 258,   0]), array([136,   0, 120,   0]), array([137,   0,  10,   0]), array([246,   0, 407,   0]), array([247,   0, 261,   0]), array([ 62,   0, 304,   0]), array([ 63,   0, 158,   0]), array([106,   0, 242,   0]), array([107,   0,  96,   0]), array([409,   0, 341,   0]), array([213,   0, 239,   0]), array([212,   0, 385,   0]), array([408,   0, 224,   0]), array([ 68,   0, 331,   0]), array([ 69,   0, 185,   0]), array([210,   0, 251,   0]), array([211,   0, 105,   0]), array([ 16,   0, 200,   0]), array([17,  0, 54,  0]), array([ 25,   0, 467,   0]), array([198,   0, 239,   0]), array([199,   0,  93,   0]), array([  0,   0, 300,   0]), array([  1,   0, 154,   0]), array([273,   0,  39,   0]), array([272,   0, 185,   0]), array([85,  0,  9,  0]), array([ 84,   0, 155,   0]), array([ 38,   0, 100,   0]), array([234,   0, 285,   0]), array([235,   0, 139,   0]), array([75,  0, 37,  0]), array([ 74,   0, 183,   0]), array([336,   0, 121,   0]), array([ 52,   0, 154,   0]), array([53,  0,  8,  0]), array([209,   0,  54,   0]), array([208,   0, 200,   0]), array([337,   0,   2,   0]), array([ 21,   0, 150,   0]), array([ 20,   0, 296,   0]), array([429,   0, 466,   0]), array([229,   0, 221,   0]), array([228,   0, 367,   0]), array([ 56,   0, 113,   0]), array([163,   0,  81,   0]), array([162,   0, 227,   0]), array([218,   0, 190,   0]), array([219,   0,  44,   0]), array([11,  0, 29,  0]), array([ 10,   0, 175,   0]), array([276,   0, 143,   0]), array([ 26,   0, 216,   0]), array([27,  0, 70,  0]), array([194,   0, 146,   0]), array([195,   0,   0,   0]), array([277,   0,   3,   0]), array([187,   0,  10,   0]), array([186,   0, 156,   0]), array([353,   0,  62,   0]), array([352,   0, 208,   0]), array([39,  0, 14,  0]), array([57,  0, 15,  0]), array([201,   0, 153,   0]), array([200,   0, 299,   0]), array([116,   0, 276,   0]), array([117,   0, 130,   0]), array([ 98,   0, 164,   0]), array([99,  0, 18,  0]), array([ 9,  0, 37,  0]), array([  8,   0, 183,   0]), array([331,   0,  53,   0]), array([330,   0, 199,   0]), array([239,   0, 130,   0]), array([238,   0, 276,   0]), array([420,   0, 122,   0]), array([176,   0, 208,   0]), array([177,   0,  62,   0]), array([181,   0,  80,   0]), array([180,   0, 226,   0]), array([122,   0, 144,   0]), array([123,   0,  25,   0]), array([ 22,   0, 157,   0]), array([189,   1, 472,   0]), array([376,   1,   3,   0]), array([149,   1, 409,   0]), array([436,   1,   9,   0]), array([148,   1, 478,   0]), array([ 33,   1, 314,   0]), array([ 32,   1, 460,   0]), array([375,   1, 352,   0]), array([188,   1, 435,   0]), array([ 45,   1, 440,   0]), array([311,   1, 474,   0]), array([ 22,   1, 462,   0]), array([ 23,   1, 316,   0]), array([445,   1, 474,   0]), array([123,   1, 378,   0]), array([122,   1, 452,   0]), array([ 46,   1, 455,   0]), array([ 47,   1, 309,   0]), array([ 31,   1, 478,   0]), array([ 53,   1, 478,   0]), array([401,   1, 473,   0]), array([285,   1, 418,   0]), array([279,   1, 336,   0]), array([283,   1,  96,   0]), array([282,   1, 242,   0]), array([220,   1,   2,   0]), array([399,   1, 474,   0]), array([389,   1, 356,   0]), array([278,   1, 474,   0]), array([292,   1,  69,   0]), array([374,   1, 478,   0]), array([388,   1, 475,   0]), array([403,   1, 394,   0]), array([406,   1,   0,   0]), array([402,   1, 474,   0]), array([ 30,   1, 478,   0]), array([432,   1, 282,   0]), array([433,   1, 136,   0]), array([440,   1,  62,   0]), array([387,   1, 271,   0]), array([386,   1, 417,   0]), array([299,   1, 180,   0]), array([298,   1, 326,   0]), array([ 95,   1, 421,   0]), array([425,   1, 429,   0]), array([385,   1, 282,   0]), array([384,   1, 428,   0]), array([ 49,   1, 427,   0]), array([ 94,   1, 420,   0]), array([100,   1,   4,   0]), array([424,   1,   5,   0]), array([36,  1,  0,  0]), array([419,   1, 478,   0]), array([413,   1, 474,   0]), array([237,   1, 468,   0]), array([417,   1, 190,   0]), array([416,   1, 336,   0]), array([303,   1, 477,   0]), array([308,   1,  66,   0]), array([196,   1, 429,   0]), array([197,   1, 283,   0]), array([ 99,   1, 424,   0]), array([229,   1, 442,   0]), array([ 57,   1, 476,   0]), array([397,   1, 320,   0]), array([396,   1, 466,   0]), array([124,   1,   3,   0]), array([418,   1, 373,   0]), array([427,   1, 356,   0]), array([ 39,   1, 317,   0]), array([ 38,   1, 463,   0]), array([293,   1,   4,   0]), array([111,   1, 210,   0]), array([110,   1, 356,   0]), array([395,   1, 476,   0]), array([315,   1, 470,   0]), array([ 59,   1, 478,   0]), array([441,   1,   0,   0]), array([ 35,   1, 477,   0]), array([275,   1, 335,   0]), array([274,   1, 463,   0]), array([400,   1, 258,   0]), array([ 48,   1, 477,   0]), array([ 13,   1, 319,   0]), array([ 12,   1, 465,   0]), array([117,   1, 456,   0]), array([391,   1, 340,   0]), array([444,   1,   5,   0]), array([377,   1,  99,   0]), array([284,   1, 438,   0]), array([245,   1, 477,   0]), array([129,   1, 377,   0]), array([322,   1,  14,   0]), array([179,   1, 445,   0]), array([121,   1, 317,   0]), array([120,   1, 463,   0]), array([398,   1, 478,   0]), array([167,   1, 445,   0]), array([277,   1, 476,   0]), array([68,  1,  1,  0]), array([410,   2,   4,   0]), array([30,  2,  5,  0]), array([402,   2,   4,   0]), array([186,   2,   1,   0]), array([270,   2,   9,   0]), array([244,   2,   2,   0]), array([274,   2,   3,   0]), array([40,  2,  5,  0]), array([278,   2,   1,   0]), array([78,  2,  2,  0]), array([106,   2,   1,   0]), array([104,   2,   4,   0]), array([258,   2,   1,   0]), array([174,   2,   2,   0]), array([112,   2,   0,   0]), array([242,   2,   5,   0]), array([280,   2,   1,   0]), array([216,   2,   6,   0]), array([262,   2,   0,   0]), array([226,   2,  15,   0]), array([44,  2,  0,  0]), array([412,   2,   4,   0]), array([384,   2,   2,   0]), array([368,   2,   0,   0]), array([12,  2,  1,  0]), array([14,  2,  0,  0]), array([217,   2, 473,   0]), array([240,   2,   4,   0]), array([164,   2,   4,   0]), array([284,   2,   0,   0]), array([50,  2,  1,  0]), array([318,   2,   0,   0]), array([398,   2,   0,   0]), array([128,   2,   1,   0]), array([ 73,   2, 476,   0]), array([396,   2,   0,   0]), array([18,  2,  1,  0]), array([62,  2, 95,  0]), array([380,   2,   0,   0]), array([430,   2,   1,   0]), array([362,   2,   3,   0]), array([250,   2,   2,   0]), array([337,   2, 455,   0]), array([294,   2,   6,   0]), array([442,   2,   1,   0]), array([158,   2,   4,   0]), array([172,   2,   0,   0]), array([360,   2,   4,   0]), array([54,  2,  0,  0]), array([90,  2,  4,  0]), array([126,   2,   4,   0]), array([100,   2,   0,   0]), array([272,   2,   6,   0]), array([356,   2,   1,   0]), array([248,   2,   0,   0]), array([178,   2,   5,   0]), array([221,   2, 475,   0]), array([227,   2,  24,   0]), array([118,   2,   2,   0]), array([394,   2,   0,   0]), array([72,  2,  3,  0]), array([170,   2,   4,   0]), array([134,   2,   7,   0]), array([88,  2,  2,  0]), array([275,   2, 442,   0]), array([314,   2,   2,   0]), array([223,   2, 473,   0]), array([140,   2,   0,   0]), array([400,   2,   0,   0]), array([63,  2, 37,  0]), array([238,   2,   3,   0]), array([276,   2,   0,   0]), array([130,   2,   0,   0]), array([182,   2,   2,   0]), array([446,   2,   0,   0]), array([374,   2,   3,   0]), array([283,   2, 465,   0]), array([20,  2,  2,  0]), array([390,   2,   1,   0]), array([235,   2, 476,   0]), array([180,   2,   0,   0]), array([74,  2,  7,  0]), array([326,   2,   0,   0]), array([246,   2,   3,   0]), array([252,   2,   1,   0]), array([124,   2,   0,   0]), array([115,   2, 175,   0]), array([114,   2, 321,   0]), array([259,   2, 382,   0]), array([211,   2, 473,   0]), array([335,   2, 472,   0]), array([4, 2, 1, 0]), array([144,   2,   5,   0]), array([ 37,   2, 478,   0]), array([224,   2,   6,   0]), array([336,   2, 472,   0]), array([286,   2,   0,   0]), array([176,   2,   3,   0]), array([287,   2, 473,   0]), array([378,   2,   0,   0]), array([40,  3,  2,  0]), array([24,  3,  1,  0]), array([300,   3,   0,   0]), array([392,   3,   6,   0]), array([348,   3,   1,   0]), array([218,   3,   5,   0]), array([68,  3,  2,  0]), array([240,   3,   0,   0]), array([231,   3,  98,   0]), array([230,   3, 244,   0]), array([70,  3,  0,  0]), array([234,   3,   2,   0]), array([197,   3, 476,   0]), array([370,   3,   2,   0]), array([194,   3,   0,   0]), array([380,   3,   1,   0]), array([110,   3,   0,   0]), array([164,   3,   0,   0]), array([69,  3, 19,  0]), array([60,  3,  0,  0]), array([32,  3,  4,  0]), array([410,   3,   2,   0]), array([98,  3,  4,  0]), array([0, 3, 9, 0]), array([82,  3,  8,  0]), array([313,   3, 477,   0]), array([216,   3,   1,   0]), array([150,   3,   2,   0]), array([438,   3,   0,   0]), array([390,   3,   2,   0]), array([338,   3, 228,   0]), array([339,   3,  82,   0]), array([336,   3,   2,   0]), array([386,   3,   2,   0]), array([  9,   3, 335,   0]), array([  8,   3, 454,   0]), array([116,   3,   1,   0]), array([264,   3,   2,   0]), array([130,   3,   6,   0]), array([214,   3,   6,   0]), array([64,  3,  8,  0]), array([241,   3, 353,   0]), array([208,   3,  10,   0]), array([426,   3,  22,   0]), array([219,   3,  24,   0]), array([312,   3,   8,   0]), array([340,   3,  15,   0]), array([26,  3,  4,  0]), array([168,   3,   0,   0]), array([22,  3,  4,  0]), array([254,   3,   2,   0]), array([195,   3, 378,   0]), array([128,   3,   8,   0]), array([323,   3, 340,   0]), array([ 71,   3, 417,   0]), array([144,   3,   3,   0]), array([61,  3, 67,  0]), array([129,   3, 251,   0]), array([322,   3, 468,   0]), array([246,   3,  17,   0]), array([247,   3, 475,   0]), array([10,  3,  2,  0]), array([305,   3, 369,   0]), array([422,   3,   0,   0]), array([371,   3, 471,   0]), array([326,   3,   2,   0]), array([200,   3,   7,   0]), array([148,   3,   3,   0]), array([366,   3,   0,   0]), array([ 99,   3, 272,   0]), array([140,   3,   1,   0]), array([25,  3,  2,  0]), array([304,   3, 187,   0]), array([381,   3, 420,   0]), array([256,   3,  23,   0]), array([138,   3,   0,   0]), array([161,   3, 329,   0]), array([160,   3, 475,   0]), array([102,   3,   2,   0]), array([196,   3, 478,   0]), array([223,   3, 110,   0]), array([222,   3, 256,   0]), array([151,   3, 163,   0]), array([14,  3,  2,  0]), array([363,   3, 303,   0]), array([362,   3, 449,   0]), array([106,   3,   1,   0]), array([58,  3, 11,  0]), array([ 59,   3, 108,   0]), array([170,   3,   0,   0]), array([236,   3,   0,   0]), array([377,   3, 478,   0]), array([133,   3, 368,   0]), array([182,   3,   1,   0]), array([ 78,   3, 292,   0]), array([ 79,   3, 146,   0]), array([349,   3,  56,   0]), array([54,  3,  5,  0]), array([414,   3,   2,   0]), array([382,   3,   2,   0])]\n",
        "max units\n",
        "[array([0, 1, 2, 3]), array([4, 5, 6, 7]), array([ 8,  9, 10, 11]), array([12, 13, 14, 15]), array([16, 17, 18, 19]), array([20, 21, 22, 23]), array([24, 25, 26, 27]), array([28, 29, 30, 31]), array([32, 33, 34, 35]), array([36, 37, 38, 39]), array([40, 41, 42, 43]), array([44, 45, 46, 47]), array([48, 49, 50, 51]), array([52, 53, 54, 55]), array([56, 57, 58, 59]), array([60, 61, 62, 63]), array([64, 65, 66, 67]), array([68, 69, 70, 71]), array([72, 73, 74, 75]), array([76, 77, 78, 79]), array([80, 81, 82, 83]), array([84, 85, 86, 87]), array([88, 89, 90, 91]), array([92, 93, 94, 95]), array([96, 97, 98, 99]), array([100, 101, 102, 103]), array([104, 105, 106, 107]), array([108, 109, 110, 111]), array([112, 113, 114, 115]), array([116, 117, 118, 119]), array([120, 121, 122, 123]), array([124, 125, 126, 127]), array([128, 129, 130, 131]), array([132, 133, 134, 135]), array([136, 137, 138, 139]), array([140, 141, 142, 143]), array([144, 145, 146, 147]), array([148, 149, 150, 151]), array([152, 153, 154, 155]), array([156, 157, 158, 159]), array([160, 161, 162]), array([163, 164, 165]), array([166, 167, 168]), array([169, 170, 171]), array([172, 173, 174]), array([175, 176, 177]), array([178, 179, 180]), array([181, 182, 183]), array([184, 185, 186]), array([187, 188, 189]), array([190, 191, 192]), array([193, 194, 195]), array([196, 197, 198]), array([199, 200, 201]), array([202, 203, 204]), array([205, 206, 207]), array([208, 209, 210]), array([211, 212, 213]), array([214, 215, 216]), array([217, 218, 219]), array([220, 221, 222]), array([223, 224, 225]), array([226, 227, 228]), array([229, 230, 231]), array([232, 233, 234]), array([235, 236, 237]), array([238, 239, 240]), array([241, 242, 243]), array([244, 245, 246]), array([247, 248, 249]), array([250, 251, 252]), array([253, 254, 255]), array([256, 257, 258]), array([259, 260, 261]), array([262, 263, 264]), array([265, 266, 267]), array([268, 269, 270]), array([271, 272, 273]), array([274, 275, 276]), array([277, 278, 279]), array([280, 281, 282]), array([283, 284, 285]), array([286, 287, 288]), array([289, 290, 291]), array([292, 293, 294]), array([295, 296, 297]), array([298, 299, 300]), array([301, 302, 303]), array([304, 305, 306]), array([307, 308, 309]), array([310, 311, 312]), array([313, 314, 315]), array([316, 317, 318]), array([319, 320, 321]), array([322, 323, 324]), array([325, 326, 327]), array([328, 329, 330]), array([331, 332, 333]), array([334, 335, 336]), array([337, 338, 339]), array([340, 341, 342]), array([343, 344, 345]), array([346, 347, 348]), array([349, 350, 351]), array([352, 353, 354]), array([355, 356, 357]), array([358, 359, 360]), array([361, 362, 363]), array([364, 365, 366]), array([367, 368, 369]), array([370, 371, 372]), array([373, 374, 375]), array([376, 377, 378]), array([379, 380, 381]), array([382, 383, 384]), array([385, 386, 387]), array([388, 389, 390]), array([391, 392, 393]), array([394, 395, 396]), array([397, 398, 399])]\n",
        "Batch\n",
        "!!!W!!! Prod{acc_dtype=int64}.0\n",
        "!!!W!!! Prod{acc_dtype=int64}.0\n",
        "!!!W!!! Prod{acc_dtype=int64}.0\n",
        "!!!W!!! Prod{acc_dtype=int64}.0\n"
       ]
      },
      {
       "output_type": "stream",
       "stream": "stdout",
       "text": [
        "Batch\n",
        "!!!W!!! Prod{acc_dtype=int64}.0\n",
        "!!!W!!! Prod{acc_dtype=int64}.0\n",
        "!!!W!!! Prod{acc_dtype=int64}.0\n",
        "!!!W!!! Prod{acc_dtype=int64}.0\n"
       ]
      },
      {
       "output_type": "stream",
       "stream": "stdout",
       "text": [
        "Batch\n",
        "!!!W!!! Prod{acc_dtype=int64}.0\n",
        "!!!W!!! Prod{acc_dtype=int64}.0\n",
        "!!!W!!! Prod{acc_dtype=int64}.0\n",
        "!!!W!!! Prod{acc_dtype=int64}.0\n"
       ]
      },
      {
       "output_type": "stream",
       "stream": "stdout",
       "text": [
        "Batch\n",
        "!!!W!!! Prod{acc_dtype=int64}.0\n",
        "!!!W!!! Prod{acc_dtype=int64}.0\n",
        "!!!W!!! Prod{acc_dtype=int64}.0\n",
        "!!!W!!! Prod{acc_dtype=int64}.0\n"
       ]
      },
      {
       "output_type": "stream",
       "stream": "stdout",
       "text": [
        "Batch\n",
        "!!!W!!! Prod{acc_dtype=int64}.0\n",
        "!!!W!!! Prod{acc_dtype=int64}.0\n",
        "!!!W!!! Prod{acc_dtype=int64}.0\n",
        "!!!W!!! Prod{acc_dtype=int64}.0\n"
       ]
      },
      {
       "output_type": "stream",
       "stream": "stdout",
       "text": [
        "Batch\n",
        "!!!W!!! Prod{acc_dtype=int64}.0\n",
        "!!!W!!! Prod{acc_dtype=int64}.0\n",
        "!!!W!!! Prod{acc_dtype=int64}.0\n",
        "!!!W!!! Prod{acc_dtype=int64}.0\n"
       ]
      },
      {
       "output_type": "stream",
       "stream": "stdout",
       "text": [
        "Batch\n",
        "!!!W!!! Prod{acc_dtype=int64}.0\n",
        "!!!W!!! Prod{acc_dtype=int64}.0\n",
        "!!!W!!! Prod{acc_dtype=int64}.0\n",
        "!!!W!!! Prod{acc_dtype=int64}.0\n"
       ]
      },
      {
       "output_type": "stream",
       "stream": "stdout",
       "text": [
        "Batch\n",
        "!!!W!!! Prod{acc_dtype=int64}.0\n",
        "!!!W!!! Prod{acc_dtype=int64}.0\n",
        "!!!W!!! Prod{acc_dtype=int64}.0\n",
        "!!!W!!! Prod{acc_dtype=int64}.0\n"
       ]
      },
      {
       "output_type": "stream",
       "stream": "stdout",
       "text": [
        "Batch\n",
        "!!!W!!! Prod{acc_dtype=int64}.0\n",
        "!!!W!!! Prod{acc_dtype=int64}.0\n",
        "!!!W!!! Prod{acc_dtype=int64}.0\n",
        "!!!W!!! Prod{acc_dtype=int64}.0\n"
       ]
      },
      {
       "output_type": "stream",
       "stream": "stdout",
       "text": [
        "Batch\n",
        "!!!W!!! Prod{acc_dtype=int64}.0\n",
        "!!!W!!! Prod{acc_dtype=int64}.0\n",
        "!!!W!!! Prod{acc_dtype=int64}.0\n",
        "!!!W!!! Prod{acc_dtype=int64}.0\n"
       ]
      },
      {
       "output_type": "stream",
       "stream": "stdout",
       "text": [
        "Batch\n",
        "!!!W!!! Prod{acc_dtype=int64}.0\n",
        "!!!W!!! Prod{acc_dtype=int64}.0\n",
        "!!!W!!! Prod{acc_dtype=int64}.0\n",
        "!!!W!!! Prod{acc_dtype=int64}.0\n"
       ]
      },
      {
       "output_type": "stream",
       "stream": "stdout",
       "text": [
        "Batch\n",
        "!!!W!!! Prod{acc_dtype=int64}.0\n",
        "!!!W!!! Prod{acc_dtype=int64}.0\n",
        "!!!W!!! Prod{acc_dtype=int64}.0\n",
        "!!!W!!! Prod{acc_dtype=int64}.0\n"
       ]
      },
      {
       "output_type": "stream",
       "stream": "stdout",
       "text": [
        "Batch\n",
        "!!!W!!! Prod{acc_dtype=int64}.0\n",
        "!!!W!!! Prod{acc_dtype=int64}.0\n",
        "!!!W!!! Prod{acc_dtype=int64}.0\n",
        "!!!W!!! Prod{acc_dtype=int64}.0\n"
       ]
      },
      {
       "output_type": "stream",
       "stream": "stdout",
       "text": [
        "Batch\n",
        "!!!W!!! Prod{acc_dtype=int64}.0\n",
        "!!!W!!! Prod{acc_dtype=int64}.0\n",
        "!!!W!!! Prod{acc_dtype=int64}.0\n",
        "!!!W!!! Prod{acc_dtype=int64}.0\n"
       ]
      },
      {
       "output_type": "stream",
       "stream": "stdout",
       "text": [
        "Batch\n",
        "!!!W!!! Prod{acc_dtype=int64}.0\n",
        "!!!W!!! Prod{acc_dtype=int64}.0\n",
        "!!!W!!! Prod{acc_dtype=int64}.0\n",
        "!!!W!!! Prod{acc_dtype=int64}.0\n"
       ]
      },
      {
       "output_type": "stream",
       "stream": "stdout",
       "text": [
        "Batch\n",
        "!!!W!!! Prod{acc_dtype=int64}.0\n",
        "!!!W!!! Prod{acc_dtype=int64}.0\n",
        "!!!W!!! Prod{acc_dtype=int64}.0\n",
        "!!!W!!! Prod{acc_dtype=int64}.0\n"
       ]
      },
      {
       "output_type": "stream",
       "stream": "stdout",
       "text": [
        "Batch\n",
        "!!!W!!! Prod{acc_dtype=int64}.0\n",
        "!!!W!!! Prod{acc_dtype=int64}.0\n",
        "!!!W!!! Prod{acc_dtype=int64}.0\n",
        "!!!W!!! Prod{acc_dtype=int64}.0\n"
       ]
      },
      {
       "output_type": "stream",
       "stream": "stdout",
       "text": [
        "Batch\n",
        "!!!W!!! Prod{acc_dtype=int64}.0\n",
        "!!!W!!! Prod{acc_dtype=int64}.0\n",
        "!!!W!!! Prod{acc_dtype=int64}.0\n",
        "!!!W!!! Prod{acc_dtype=int64}.0\n"
       ]
      },
      {
       "output_type": "stream",
       "stream": "stdout",
       "text": [
        "Batch\n",
        "!!!W!!! Prod{acc_dtype=int64}.0\n",
        "!!!W!!! Prod{acc_dtype=int64}.0\n",
        "!!!W!!! Prod{acc_dtype=int64}.0\n",
        "!!!W!!! Prod{acc_dtype=int64}.0\n"
       ]
      },
      {
       "output_type": "stream",
       "stream": "stdout",
       "text": [
        "Batch\n",
        "!!!W!!! Prod{acc_dtype=int64}.0\n",
        "!!!W!!! Prod{acc_dtype=int64}.0\n",
        "!!!W!!! Prod{acc_dtype=int64}.0\n",
        "!!!W!!! Prod{acc_dtype=int64}.0\n"
       ]
      },
      {
       "output_type": "stream",
       "stream": "stdout",
       "text": [
        "Batch\n",
        "!!!W!!! Prod{acc_dtype=int64}.0\n",
        "!!!W!!! Prod{acc_dtype=int64}.0\n",
        "!!!W!!! Prod{acc_dtype=int64}.0\n",
        "!!!W!!! Prod{acc_dtype=int64}.0\n"
       ]
      },
      {
       "output_type": "stream",
       "stream": "stdout",
       "text": [
        "Batch\n",
        "!!!W!!! Prod{acc_dtype=int64}.0\n",
        "!!!W!!! Prod{acc_dtype=int64}.0\n",
        "!!!W!!! Prod{acc_dtype=int64}.0\n",
        "!!!W!!! Prod{acc_dtype=int64}.0\n"
       ]
      },
      {
       "output_type": "stream",
       "stream": "stdout",
       "text": [
        "Batch\n",
        "!!!W!!! Prod{acc_dtype=int64}.0\n",
        "!!!W!!! Prod{acc_dtype=int64}.0\n",
        "!!!W!!! Prod{acc_dtype=int64}.0\n",
        "!!!W!!! Prod{acc_dtype=int64}.0\n"
       ]
      },
      {
       "output_type": "stream",
       "stream": "stdout",
       "text": [
        "Batch\n",
        "!!!W!!! Prod{acc_dtype=int64}.0\n",
        "!!!W!!! Prod{acc_dtype=int64}.0\n",
        "!!!W!!! Prod{acc_dtype=int64}.0\n",
        "!!!W!!! Prod{acc_dtype=int64}.0\n"
       ]
      },
      {
       "output_type": "stream",
       "stream": "stdout",
       "text": [
        "Batch\n",
        "!!!W!!! Prod{acc_dtype=int64}.0\n",
        "!!!W!!! Prod{acc_dtype=int64}.0\n",
        "!!!W!!! Prod{acc_dtype=int64}.0\n",
        "!!!W!!! Prod{acc_dtype=int64}.0\n"
       ]
      },
      {
       "output_type": "stream",
       "stream": "stdout",
       "text": [
        "Batch\n",
        "!!!W!!! Prod{acc_dtype=int64}.0\n",
        "!!!W!!! Prod{acc_dtype=int64}.0\n",
        "!!!W!!! Prod{acc_dtype=int64}.0\n",
        "!!!W!!! Prod{acc_dtype=int64}.0\n"
       ]
      },
      {
       "output_type": "stream",
       "stream": "stdout",
       "text": [
        "Batch\n",
        "!!!W!!! Prod{acc_dtype=int64}.0\n",
        "!!!W!!! Prod{acc_dtype=int64}.0\n",
        "!!!W!!! Prod{acc_dtype=int64}.0\n",
        "!!!W!!! Prod{acc_dtype=int64}.0\n"
       ]
      },
      {
       "output_type": "stream",
       "stream": "stdout",
       "text": [
        "Batch\n",
        "!!!W!!! Prod{acc_dtype=int64}.0\n",
        "!!!W!!! Prod{acc_dtype=int64}.0\n",
        "!!!W!!! Prod{acc_dtype=int64}.0\n",
        "!!!W!!! Prod{acc_dtype=int64}.0\n"
       ]
      },
      {
       "output_type": "stream",
       "stream": "stdout",
       "text": [
        "Batch\n",
        "!!!W!!! Prod{acc_dtype=int64}.0\n",
        "!!!W!!! Prod{acc_dtype=int64}.0\n",
        "!!!W!!! Prod{acc_dtype=int64}.0\n",
        "!!!W!!! Prod{acc_dtype=int64}.0\n"
       ]
      },
      {
       "output_type": "stream",
       "stream": "stdout",
       "text": [
        "Batch\n",
        "!!!W!!! Prod{acc_dtype=int64}.0\n",
        "!!!W!!! Prod{acc_dtype=int64}.0\n",
        "!!!W!!! Prod{acc_dtype=int64}.0\n",
        "!!!W!!! Prod{acc_dtype=int64}.0\n"
       ]
      },
      {
       "output_type": "stream",
       "stream": "stdout",
       "text": [
        "Batch\n",
        "!!!W!!! Prod{acc_dtype=int64}.0\n",
        "!!!W!!! Prod{acc_dtype=int64}.0\n",
        "!!!W!!! Prod{acc_dtype=int64}.0\n",
        "!!!W!!! Prod{acc_dtype=int64}.0\n"
       ]
      },
      {
       "output_type": "stream",
       "stream": "stdout",
       "text": [
        "Batch\n",
        "!!!W!!! Prod{acc_dtype=int64}.0\n",
        "!!!W!!! Prod{acc_dtype=int64}.0\n",
        "!!!W!!! Prod{acc_dtype=int64}.0\n",
        "!!!W!!! Prod{acc_dtype=int64}.0\n"
       ]
      },
      {
       "output_type": "stream",
       "stream": "stdout",
       "text": [
        "Batch\n",
        "!!!W!!! Prod{acc_dtype=int64}.0\n",
        "!!!W!!! Prod{acc_dtype=int64}.0\n",
        "!!!W!!! Prod{acc_dtype=int64}.0\n",
        "!!!W!!! Prod{acc_dtype=int64}.0\n"
       ]
      },
      {
       "output_type": "stream",
       "stream": "stdout",
       "text": [
        "Batch\n",
        "!!!W!!! Prod{acc_dtype=int64}.0\n",
        "!!!W!!! Prod{acc_dtype=int64}.0\n",
        "!!!W!!! Prod{acc_dtype=int64}.0\n",
        "!!!W!!! Prod{acc_dtype=int64}.0\n"
       ]
      },
      {
       "output_type": "stream",
       "stream": "stdout",
       "text": [
        "Batch\n",
        "!!!W!!! Prod{acc_dtype=int64}.0\n",
        "!!!W!!! Prod{acc_dtype=int64}.0\n",
        "!!!W!!! Prod{acc_dtype=int64}.0\n",
        "!!!W!!! Prod{acc_dtype=int64}.0\n"
       ]
      },
      {
       "output_type": "stream",
       "stream": "stdout",
       "text": [
        "Batch\n",
        "!!!W!!! Prod{acc_dtype=int64}.0\n",
        "!!!W!!! Prod{acc_dtype=int64}.0\n",
        "!!!W!!! Prod{acc_dtype=int64}.0\n",
        "!!!W!!! Prod{acc_dtype=int64}.0\n"
       ]
      },
      {
       "output_type": "stream",
       "stream": "stdout",
       "text": [
        "Batch\n",
        "!!!W!!! Prod{acc_dtype=int64}.0\n",
        "!!!W!!! Prod{acc_dtype=int64}.0\n",
        "!!!W!!! Prod{acc_dtype=int64}.0\n",
        "!!!W!!! Prod{acc_dtype=int64}.0\n"
       ]
      },
      {
       "output_type": "stream",
       "stream": "stdout",
       "text": [
        "Batch\n",
        "!!!W!!! Prod{acc_dtype=int64}.0\n",
        "!!!W!!! Prod{acc_dtype=int64}.0\n",
        "!!!W!!! Prod{acc_dtype=int64}.0\n",
        "!!!W!!! Prod{acc_dtype=int64}.0\n"
       ]
      },
      {
       "output_type": "stream",
       "stream": "stdout",
       "text": [
        "Batch\n",
        "!!!W!!! Prod{acc_dtype=int64}.0\n",
        "!!!W!!! Prod{acc_dtype=int64}.0\n",
        "!!!W!!! Prod{acc_dtype=int64}.0\n",
        "!!!W!!! Prod{acc_dtype=int64}.0\n"
       ]
      },
      {
       "output_type": "stream",
       "stream": "stdout",
       "text": [
        "Batch\n",
        "!!!W!!! Prod{acc_dtype=int64}.0\n",
        "!!!W!!! Prod{acc_dtype=int64}.0\n",
        "!!!W!!! Prod{acc_dtype=int64}.0\n",
        "!!!W!!! Prod{acc_dtype=int64}.0\n"
       ]
      },
      {
       "output_type": "stream",
       "stream": "stdout",
       "text": [
        "Batch\n",
        "!!!W!!! Prod{acc_dtype=int64}.0\n",
        "!!!W!!! Prod{acc_dtype=int64}.0\n",
        "!!!W!!! Prod{acc_dtype=int64}.0\n",
        "!!!W!!! Prod{acc_dtype=int64}.0\n"
       ]
      },
      {
       "output_type": "stream",
       "stream": "stdout",
       "text": [
        "Batch\n",
        "!!!W!!! Prod{acc_dtype=int64}.0\n"
       ]
      },
      {
       "output_type": "stream",
       "stream": "stdout",
       "text": [
        "!!!W!!! Prod{acc_dtype=int64}.0\n",
        "!!!W!!! Prod{acc_dtype=int64}.0\n",
        "!!!W!!! Prod{acc_dtype=int64}.0\n"
       ]
      },
      {
       "output_type": "stream",
       "stream": "stdout",
       "text": [
        "Batch\n",
        "!!!W!!! Prod{acc_dtype=int64}.0\n",
        "!!!W!!! Prod{acc_dtype=int64}.0\n",
        "!!!W!!! Prod{acc_dtype=int64}.0\n",
        "!!!W!!! Prod{acc_dtype=int64}.0\n"
       ]
      },
      {
       "output_type": "stream",
       "stream": "stdout",
       "text": [
        "Batch\n",
        "!!!W!!! Prod{acc_dtype=int64}.0\n",
        "!!!W!!! Prod{acc_dtype=int64}.0\n",
        "!!!W!!! Prod{acc_dtype=int64}.0\n",
        "!!!W!!! Prod{acc_dtype=int64}.0\n"
       ]
      },
      {
       "output_type": "stream",
       "stream": "stdout",
       "text": [
        "Batch\n",
        "!!!W!!! Prod{acc_dtype=int64}.0\n",
        "!!!W!!! Prod{acc_dtype=int64}.0\n",
        "!!!W!!! Prod{acc_dtype=int64}.0\n",
        "!!!W!!! Prod{acc_dtype=int64}.0\n"
       ]
      },
      {
       "output_type": "stream",
       "stream": "stdout",
       "text": [
        "Batch\n",
        "!!!W!!! Prod{acc_dtype=int64}.0\n",
        "!!!W!!! Prod{acc_dtype=int64}.0\n",
        "!!!W!!! Prod{acc_dtype=int64}.0\n",
        "!!!W!!! Prod{acc_dtype=int64}.0\n"
       ]
      },
      {
       "output_type": "stream",
       "stream": "stdout",
       "text": [
        "Batch\n",
        "!!!W!!! Prod{acc_dtype=int64}.0\n",
        "!!!W!!! Prod{acc_dtype=int64}.0\n",
        "!!!W!!! Prod{acc_dtype=int64}.0\n",
        "!!!W!!! Prod{acc_dtype=int64}.0\n"
       ]
      },
      {
       "output_type": "stream",
       "stream": "stdout",
       "text": [
        "Batch\n",
        "!!!W!!! Prod{acc_dtype=int64}.0\n",
        "!!!W!!! Prod{acc_dtype=int64}.0\n",
        "!!!W!!! Prod{acc_dtype=int64}.0\n",
        "!!!W!!! Prod{acc_dtype=int64}.0\n"
       ]
      },
      {
       "output_type": "stream",
       "stream": "stdout",
       "text": [
        "Batch\n",
        "!!!W!!! Prod{acc_dtype=int64}.0\n",
        "!!!W!!! Prod{acc_dtype=int64}.0\n",
        "!!!W!!! Prod{acc_dtype=int64}.0\n",
        "!!!W!!! Prod{acc_dtype=int64}.0\n"
       ]
      },
      {
       "output_type": "stream",
       "stream": "stdout",
       "text": [
        "Batch\n",
        "!!!W!!! Prod{acc_dtype=int64}.0\n",
        "!!!W!!! Prod{acc_dtype=int64}.0\n",
        "!!!W!!! Prod{acc_dtype=int64}.0\n",
        "!!!W!!! Prod{acc_dtype=int64}.0\n"
       ]
      },
      {
       "output_type": "stream",
       "stream": "stdout",
       "text": [
        "Batch\n",
        "!!!W!!! Prod{acc_dtype=int64}.0\n",
        "!!!W!!! Prod{acc_dtype=int64}.0\n",
        "!!!W!!! Prod{acc_dtype=int64}.0\n",
        "!!!W!!! Prod{acc_dtype=int64}.0\n"
       ]
      },
      {
       "output_type": "stream",
       "stream": "stdout",
       "text": [
        "Batch\n",
        "!!!W!!! Prod{acc_dtype=int64}.0\n",
        "!!!W!!! Prod{acc_dtype=int64}.0\n",
        "!!!W!!! Prod{acc_dtype=int64}.0\n",
        "!!!W!!! Prod{acc_dtype=int64}.0\n"
       ]
      },
      {
       "output_type": "stream",
       "stream": "stdout",
       "text": [
        "Batch\n",
        "!!!W!!! Prod{acc_dtype=int64}.0\n",
        "!!!W!!! Prod{acc_dtype=int64}.0\n",
        "!!!W!!! Prod{acc_dtype=int64}.0\n",
        "!!!W!!! Prod{acc_dtype=int64}.0\n"
       ]
      },
      {
       "output_type": "stream",
       "stream": "stdout",
       "text": [
        "Batch\n",
        "!!!W!!! Prod{acc_dtype=int64}.0\n",
        "!!!W!!! Prod{acc_dtype=int64}.0\n",
        "!!!W!!! Prod{acc_dtype=int64}.0\n",
        "!!!W!!! Prod{acc_dtype=int64}.0\n"
       ]
      },
      {
       "output_type": "stream",
       "stream": "stdout",
       "text": [
        "Batch\n",
        "!!!W!!! Prod{acc_dtype=int64}.0\n",
        "!!!W!!! Prod{acc_dtype=int64}.0\n",
        "!!!W!!! Prod{acc_dtype=int64}.0\n",
        "!!!W!!! Prod{acc_dtype=int64}.0\n"
       ]
      },
      {
       "output_type": "stream",
       "stream": "stdout",
       "text": [
        "Batch\n",
        "!!!W!!! Prod{acc_dtype=int64}.0\n",
        "!!!W!!! Prod{acc_dtype=int64}.0\n",
        "!!!W!!! Prod{acc_dtype=int64}.0\n",
        "!!!W!!! Prod{acc_dtype=int64}.0\n"
       ]
      },
      {
       "output_type": "stream",
       "stream": "stdout",
       "text": [
        "Batch\n",
        "!!!W!!! Prod{acc_dtype=int64}.0\n",
        "!!!W!!! Prod{acc_dtype=int64}.0\n",
        "!!!W!!! Prod{acc_dtype=int64}.0\n",
        "!!!W!!! Prod{acc_dtype=int64}.0\n"
       ]
      },
      {
       "output_type": "stream",
       "stream": "stdout",
       "text": [
        "Batch\n",
        "!!!W!!! Prod{acc_dtype=int64}.0\n",
        "!!!W!!! Prod{acc_dtype=int64}.0\n",
        "!!!W!!! Prod{acc_dtype=int64}.0\n",
        "!!!W!!! Prod{acc_dtype=int64}.0\n"
       ]
      },
      {
       "output_type": "stream",
       "stream": "stdout",
       "text": [
        "Batch\n",
        "!!!W!!! Prod{acc_dtype=int64}.0\n",
        "!!!W!!! Prod{acc_dtype=int64}.0\n",
        "!!!W!!! Prod{acc_dtype=int64}.0\n",
        "!!!W!!! Prod{acc_dtype=int64}.0\n"
       ]
      },
      {
       "output_type": "stream",
       "stream": "stdout",
       "text": [
        "Batch\n",
        "!!!W!!! Prod{acc_dtype=int64}.0\n",
        "!!!W!!! Prod{acc_dtype=int64}.0\n",
        "!!!W!!! Prod{acc_dtype=int64}.0\n",
        "!!!W!!! Prod{acc_dtype=int64}.0\n"
       ]
      },
      {
       "output_type": "stream",
       "stream": "stdout",
       "text": [
        "Batch\n",
        "!!!W!!! Prod{acc_dtype=int64}.0\n",
        "!!!W!!! Prod{acc_dtype=int64}.0\n",
        "!!!W!!! Prod{acc_dtype=int64}.0\n",
        "!!!W!!! Prod{acc_dtype=int64}.0\n"
       ]
      },
      {
       "output_type": "stream",
       "stream": "stdout",
       "text": [
        "Batch\n",
        "!!!W!!! Prod{acc_dtype=int64}.0\n",
        "!!!W!!! Prod{acc_dtype=int64}.0\n",
        "!!!W!!! Prod{acc_dtype=int64}.0\n",
        "!!!W!!! Prod{acc_dtype=int64}.0\n"
       ]
      },
      {
       "output_type": "stream",
       "stream": "stdout",
       "text": [
        "Batch\n",
        "!!!W!!! Prod{acc_dtype=int64}.0\n",
        "!!!W!!! Prod{acc_dtype=int64}.0\n",
        "!!!W!!! Prod{acc_dtype=int64}.0\n",
        "!!!W!!! Prod{acc_dtype=int64}.0\n"
       ]
      },
      {
       "output_type": "stream",
       "stream": "stdout",
       "text": [
        "Batch\n",
        "!!!W!!! Prod{acc_dtype=int64}.0\n",
        "!!!W!!! Prod{acc_dtype=int64}.0\n",
        "!!!W!!! Prod{acc_dtype=int64}.0\n",
        "!!!W!!! Prod{acc_dtype=int64}.0\n"
       ]
      },
      {
       "output_type": "stream",
       "stream": "stdout",
       "text": [
        "Batch\n",
        "!!!W!!! Prod{acc_dtype=int64}.0\n",
        "!!!W!!! Prod{acc_dtype=int64}.0\n",
        "!!!W!!! Prod{acc_dtype=int64}.0\n",
        "!!!W!!! Prod{acc_dtype=int64}.0\n"
       ]
      },
      {
       "output_type": "stream",
       "stream": "stdout",
       "text": [
        "Batch\n",
        "!!!W!!! Prod{acc_dtype=int64}.0\n",
        "!!!W!!! Prod{acc_dtype=int64}.0\n",
        "!!!W!!! Prod{acc_dtype=int64}.0\n",
        "!!!W!!! Prod{acc_dtype=int64}.0\n"
       ]
      },
      {
       "output_type": "stream",
       "stream": "stdout",
       "text": [
        "Batch\n",
        "!!!W!!! Prod{acc_dtype=int64}.0\n",
        "!!!W!!! Prod{acc_dtype=int64}.0\n",
        "!!!W!!! Prod{acc_dtype=int64}.0\n",
        "!!!W!!! Prod{acc_dtype=int64}.0\n"
       ]
      },
      {
       "output_type": "stream",
       "stream": "stdout",
       "text": [
        "Batch\n",
        "!!!W!!! Prod{acc_dtype=int64}.0\n",
        "!!!W!!! Prod{acc_dtype=int64}.0\n",
        "!!!W!!! Prod{acc_dtype=int64}.0\n",
        "!!!W!!! Prod{acc_dtype=int64}.0\n"
       ]
      },
      {
       "output_type": "stream",
       "stream": "stdout",
       "text": [
        "Batch\n",
        "!!!W!!! Prod{acc_dtype=int64}.0\n",
        "!!!W!!! Prod{acc_dtype=int64}.0\n",
        "!!!W!!! Prod{acc_dtype=int64}.0\n",
        "!!!W!!! Prod{acc_dtype=int64}.0\n"
       ]
      },
      {
       "output_type": "stream",
       "stream": "stdout",
       "text": [
        "Batch\n",
        "!!!W!!! Prod{acc_dtype=int64}.0\n",
        "!!!W!!! Prod{acc_dtype=int64}.0\n",
        "!!!W!!! Prod{acc_dtype=int64}.0\n",
        "!!!W!!! Prod{acc_dtype=int64}.0\n"
       ]
      },
      {
       "output_type": "stream",
       "stream": "stdout",
       "text": [
        "Batch\n",
        "!!!W!!! Prod{acc_dtype=int64}.0\n",
        "!!!W!!! Prod{acc_dtype=int64}.0\n",
        "!!!W!!! Prod{acc_dtype=int64}.0\n",
        "!!!W!!! Prod{acc_dtype=int64}.0\n"
       ]
      },
      {
       "output_type": "stream",
       "stream": "stdout",
       "text": [
        "Batch\n",
        "!!!W!!! Prod{acc_dtype=int64}.0\n",
        "!!!W!!! Prod{acc_dtype=int64}.0\n",
        "!!!W!!! Prod{acc_dtype=int64}.0\n",
        "!!!W!!! Prod{acc_dtype=int64}.0\n"
       ]
      },
      {
       "output_type": "stream",
       "stream": "stdout",
       "text": [
        "Batch\n",
        "!!!W!!! Prod{acc_dtype=int64}.0\n",
        "!!!W!!! Prod{acc_dtype=int64}.0\n",
        "!!!W!!! Prod{acc_dtype=int64}.0\n",
        "!!!W!!! Prod{acc_dtype=int64}.0\n"
       ]
      },
      {
       "output_type": "stream",
       "stream": "stdout",
       "text": [
        "Batch\n",
        "!!!W!!! Prod{acc_dtype=int64}.0\n",
        "!!!W!!! Prod{acc_dtype=int64}.0\n",
        "!!!W!!! Prod{acc_dtype=int64}.0\n",
        "!!!W!!! Prod{acc_dtype=int64}.0\n"
       ]
      },
      {
       "output_type": "stream",
       "stream": "stdout",
       "text": [
        "Batch\n",
        "!!!W!!! Prod{acc_dtype=int64}.0\n",
        "!!!W!!! Prod{acc_dtype=int64}.0\n",
        "!!!W!!! Prod{acc_dtype=int64}.0\n",
        "!!!W!!! Prod{acc_dtype=int64}.0\n"
       ]
      },
      {
       "output_type": "stream",
       "stream": "stdout",
       "text": [
        "Batch\n",
        "!!!W!!! Prod{acc_dtype=int64}.0\n",
        "!!!W!!! Prod{acc_dtype=int64}.0\n",
        "!!!W!!! Prod{acc_dtype=int64}.0\n",
        "!!!W!!! Prod{acc_dtype=int64}.0\n"
       ]
      },
      {
       "output_type": "stream",
       "stream": "stdout",
       "text": [
        "Batch\n",
        "!!!W!!! Prod{acc_dtype=int64}.0\n",
        "!!!W!!! Prod{acc_dtype=int64}.0\n",
        "!!!W!!! Prod{acc_dtype=int64}.0\n",
        "!!!W!!! Prod{acc_dtype=int64}.0\n"
       ]
      },
      {
       "output_type": "stream",
       "stream": "stdout",
       "text": [
        "Batch\n",
        "!!!W!!! Prod{acc_dtype=int64}.0\n",
        "!!!W!!! Prod{acc_dtype=int64}.0\n",
        "!!!W!!! Prod{acc_dtype=int64}.0\n",
        "!!!W!!! Prod{acc_dtype=int64}.0\n"
       ]
      },
      {
       "output_type": "stream",
       "stream": "stdout",
       "text": [
        "Batch\n",
        "!!!W!!! Prod{acc_dtype=int64}.0\n",
        "!!!W!!! Prod{acc_dtype=int64}.0\n",
        "!!!W!!! Prod{acc_dtype=int64}.0\n",
        "!!!W!!! Prod{acc_dtype=int64}.0\n"
       ]
      },
      {
       "output_type": "stream",
       "stream": "stdout",
       "text": [
        "Batch\n",
        "!!!W!!! Prod{acc_dtype=int64}.0\n"
       ]
      },
      {
       "output_type": "stream",
       "stream": "stdout",
       "text": [
        "!!!W!!! Prod{acc_dtype=int64}.0\n",
        "!!!W!!! Prod{acc_dtype=int64}.0\n",
        "!!!W!!! Prod{acc_dtype=int64}.0\n"
       ]
      },
      {
       "output_type": "stream",
       "stream": "stdout",
       "text": [
        "Batch\n",
        "!!!W!!! Prod{acc_dtype=int64}.0\n",
        "!!!W!!! Prod{acc_dtype=int64}.0\n",
        "!!!W!!! Prod{acc_dtype=int64}.0\n",
        "!!!W!!! Prod{acc_dtype=int64}.0\n"
       ]
      },
      {
       "output_type": "stream",
       "stream": "stdout",
       "text": [
        "Batch\n",
        "!!!W!!! Prod{acc_dtype=int64}.0\n",
        "!!!W!!! Prod{acc_dtype=int64}.0\n",
        "!!!W!!! Prod{acc_dtype=int64}.0\n",
        "!!!W!!! Prod{acc_dtype=int64}.0\n"
       ]
      },
      {
       "output_type": "stream",
       "stream": "stdout",
       "text": [
        "Batch\n",
        "!!!W!!! Prod{acc_dtype=int64}.0\n",
        "!!!W!!! Prod{acc_dtype=int64}.0\n",
        "!!!W!!! Prod{acc_dtype=int64}.0\n",
        "!!!W!!! Prod{acc_dtype=int64}.0\n"
       ]
      },
      {
       "output_type": "stream",
       "stream": "stdout",
       "text": [
        "Batch\n",
        "!!!W!!! Prod{acc_dtype=int64}.0\n",
        "!!!W!!! Prod{acc_dtype=int64}.0\n",
        "!!!W!!! Prod{acc_dtype=int64}.0\n",
        "!!!W!!! Prod{acc_dtype=int64}.0\n"
       ]
      },
      {
       "output_type": "stream",
       "stream": "stdout",
       "text": [
        "Batch\n",
        "!!!W!!! Prod{acc_dtype=int64}.0\n",
        "!!!W!!! Prod{acc_dtype=int64}.0\n",
        "!!!W!!! Prod{acc_dtype=int64}.0\n",
        "!!!W!!! Prod{acc_dtype=int64}.0\n"
       ]
      },
      {
       "output_type": "stream",
       "stream": "stdout",
       "text": [
        "Batch\n",
        "!!!W!!! Prod{acc_dtype=int64}.0\n",
        "!!!W!!! Prod{acc_dtype=int64}.0\n",
        "!!!W!!! Prod{acc_dtype=int64}.0\n",
        "!!!W!!! Prod{acc_dtype=int64}.0\n"
       ]
      },
      {
       "output_type": "stream",
       "stream": "stdout",
       "text": [
        "Batch\n",
        "!!!W!!! Prod{acc_dtype=int64}.0\n",
        "!!!W!!! Prod{acc_dtype=int64}.0\n",
        "!!!W!!! Prod{acc_dtype=int64}.0\n",
        "!!!W!!! Prod{acc_dtype=int64}.0\n"
       ]
      },
      {
       "output_type": "stream",
       "stream": "stdout",
       "text": [
        "Batch\n",
        "!!!W!!! Prod{acc_dtype=int64}.0\n",
        "!!!W!!! Prod{acc_dtype=int64}.0\n",
        "!!!W!!! Prod{acc_dtype=int64}.0\n",
        "!!!W!!! Prod{acc_dtype=int64}.0\n"
       ]
      },
      {
       "output_type": "stream",
       "stream": "stdout",
       "text": [
        "Batch\n",
        "!!!W!!! Prod{acc_dtype=int64}.0\n",
        "!!!W!!! Prod{acc_dtype=int64}.0\n",
        "!!!W!!! Prod{acc_dtype=int64}.0\n",
        "!!!W!!! Prod{acc_dtype=int64}.0\n"
       ]
      },
      {
       "output_type": "stream",
       "stream": "stdout",
       "text": [
        "Batch\n",
        "!!!W!!! Prod{acc_dtype=int64}.0\n",
        "!!!W!!! Prod{acc_dtype=int64}.0\n",
        "!!!W!!! Prod{acc_dtype=int64}.0\n",
        "!!!W!!! Prod{acc_dtype=int64}.0\n"
       ]
      },
      {
       "output_type": "stream",
       "stream": "stdout",
       "text": [
        "Batch\n",
        "!!!W!!! Prod{acc_dtype=int64}.0\n",
        "!!!W!!! Prod{acc_dtype=int64}.0\n",
        "!!!W!!! Prod{acc_dtype=int64}.0\n",
        "!!!W!!! Prod{acc_dtype=int64}.0\n"
       ]
      },
      {
       "output_type": "stream",
       "stream": "stdout",
       "text": [
        "Batch\n",
        "!!!W!!! Prod{acc_dtype=int64}.0\n",
        "!!!W!!! Prod{acc_dtype=int64}.0\n",
        "!!!W!!! Prod{acc_dtype=int64}.0\n",
        "!!!W!!! Prod{acc_dtype=int64}.0\n"
       ]
      },
      {
       "output_type": "stream",
       "stream": "stdout",
       "text": [
        "Batch\n",
        "!!!W!!! Prod{acc_dtype=int64}.0\n",
        "!!!W!!! Prod{acc_dtype=int64}.0\n",
        "!!!W!!! Prod{acc_dtype=int64}.0\n",
        "!!!W!!! Prod{acc_dtype=int64}.0\n"
       ]
      },
      {
       "output_type": "stream",
       "stream": "stdout",
       "text": [
        "Batch\n",
        "!!!W!!! Prod{acc_dtype=int64}.0\n",
        "!!!W!!! Prod{acc_dtype=int64}.0\n",
        "!!!W!!! Prod{acc_dtype=int64}.0\n",
        "!!!W!!! Prod{acc_dtype=int64}.0\n"
       ]
      },
      {
       "output_type": "stream",
       "stream": "stdout",
       "text": [
        "Batch\n",
        "!!!W!!! Prod{acc_dtype=int64}.0\n",
        "!!!W!!! Prod{acc_dtype=int64}.0\n",
        "!!!W!!! Prod{acc_dtype=int64}.0\n",
        "!!!W!!! Prod{acc_dtype=int64}.0\n"
       ]
      },
      {
       "output_type": "stream",
       "stream": "stdout",
       "text": [
        "Batch\n",
        "!!!W!!! Prod{acc_dtype=int64}.0\n",
        "!!!W!!! Prod{acc_dtype=int64}.0\n",
        "!!!W!!! Prod{acc_dtype=int64}.0\n",
        "!!!W!!! Prod{acc_dtype=int64}.0\n"
       ]
      },
      {
       "output_type": "stream",
       "stream": "stdout",
       "text": [
        "Batch\n",
        "!!!W!!! Prod{acc_dtype=int64}.0\n",
        "!!!W!!! Prod{acc_dtype=int64}.0\n",
        "!!!W!!! Prod{acc_dtype=int64}.0\n",
        "!!!W!!! Prod{acc_dtype=int64}.0\n"
       ]
      },
      {
       "output_type": "stream",
       "stream": "stdout",
       "text": [
        "Batch\n",
        "!!!W!!! Prod{acc_dtype=int64}.0\n",
        "!!!W!!! Prod{acc_dtype=int64}.0\n",
        "!!!W!!! Prod{acc_dtype=int64}.0\n",
        "!!!W!!! Prod{acc_dtype=int64}.0\n"
       ]
      },
      {
       "output_type": "stream",
       "stream": "stdout",
       "text": [
        "Batch\n",
        "!!!W!!! Prod{acc_dtype=int64}.0\n",
        "!!!W!!! Prod{acc_dtype=int64}.0\n",
        "!!!W!!! Prod{acc_dtype=int64}.0\n",
        "!!!W!!! Prod{acc_dtype=int64}.0\n"
       ]
      },
      {
       "output_type": "stream",
       "stream": "stdout",
       "text": [
        "Batch\n",
        "!!!W!!! Prod{acc_dtype=int64}.0\n",
        "!!!W!!! Prod{acc_dtype=int64}.0\n",
        "!!!W!!! Prod{acc_dtype=int64}.0\n",
        "!!!W!!! Prod{acc_dtype=int64}.0\n"
       ]
      },
      {
       "output_type": "stream",
       "stream": "stdout",
       "text": [
        "Batch\n",
        "!!!W!!! Prod{acc_dtype=int64}.0\n",
        "!!!W!!! Prod{acc_dtype=int64}.0\n",
        "!!!W!!! Prod{acc_dtype=int64}.0\n",
        "!!!W!!! Prod{acc_dtype=int64}.0\n"
       ]
      },
      {
       "output_type": "stream",
       "stream": "stdout",
       "text": [
        "Batch\n",
        "!!!W!!! Prod{acc_dtype=int64}.0\n",
        "!!!W!!! Prod{acc_dtype=int64}.0\n",
        "!!!W!!! Prod{acc_dtype=int64}.0\n",
        "!!!W!!! Prod{acc_dtype=int64}.0\n"
       ]
      },
      {
       "output_type": "stream",
       "stream": "stdout",
       "text": [
        "Batch\n",
        "!!!W!!! Prod{acc_dtype=int64}.0\n",
        "!!!W!!! Prod{acc_dtype=int64}.0\n",
        "!!!W!!! Prod{acc_dtype=int64}.0\n",
        "!!!W!!! Prod{acc_dtype=int64}.0\n"
       ]
      },
      {
       "output_type": "stream",
       "stream": "stdout",
       "text": [
        "Batch\n",
        "!!!W!!! Prod{acc_dtype=int64}.0\n",
        "!!!W!!! Prod{acc_dtype=int64}.0\n",
        "!!!W!!! Prod{acc_dtype=int64}.0\n",
        "!!!W!!! Prod{acc_dtype=int64}.0\n"
       ]
      },
      {
       "output_type": "stream",
       "stream": "stdout",
       "text": [
        "Batch\n",
        "!!!W!!! Prod{acc_dtype=int64}.0\n",
        "!!!W!!! Prod{acc_dtype=int64}.0\n",
        "!!!W!!! Prod{acc_dtype=int64}.0\n",
        "!!!W!!! Prod{acc_dtype=int64}.0\n"
       ]
      },
      {
       "output_type": "stream",
       "stream": "stdout",
       "text": [
        "Batch\n",
        "!!!W!!! Prod{acc_dtype=int64}.0\n",
        "!!!W!!! Prod{acc_dtype=int64}.0\n",
        "!!!W!!! Prod{acc_dtype=int64}.0\n",
        "!!!W!!! Prod{acc_dtype=int64}.0\n"
       ]
      },
      {
       "output_type": "stream",
       "stream": "stdout",
       "text": [
        "Batch\n",
        "!!!W!!! Prod{acc_dtype=int64}.0\n",
        "!!!W!!! Prod{acc_dtype=int64}.0\n",
        "!!!W!!! Prod{acc_dtype=int64}.0\n",
        "!!!W!!! Prod{acc_dtype=int64}.0\n"
       ]
      },
      {
       "output_type": "stream",
       "stream": "stdout",
       "text": [
        "Batch\n",
        "!!!W!!! Prod{acc_dtype=int64}.0\n",
        "!!!W!!! Prod{acc_dtype=int64}.0\n",
        "!!!W!!! Prod{acc_dtype=int64}.0\n",
        "!!!W!!! Prod{acc_dtype=int64}.0\n"
       ]
      },
      {
       "output_type": "stream",
       "stream": "stdout",
       "text": [
        "Batch\n",
        "!!!W!!! Prod{acc_dtype=int64}.0\n",
        "!!!W!!! Prod{acc_dtype=int64}.0\n",
        "!!!W!!! Prod{acc_dtype=int64}.0\n",
        "!!!W!!! Prod{acc_dtype=int64}.0\n"
       ]
      },
      {
       "output_type": "stream",
       "stream": "stdout",
       "text": [
        "Batch\n",
        "!!!W!!! Prod{acc_dtype=int64}.0\n",
        "!!!W!!! Prod{acc_dtype=int64}.0\n",
        "!!!W!!! Prod{acc_dtype=int64}.0\n",
        "!!!W!!! Prod{acc_dtype=int64}.0\n"
       ]
      },
      {
       "output_type": "stream",
       "stream": "stdout",
       "text": [
        "Batch\n",
        "!!!W!!! Prod{acc_dtype=int64}.0\n",
        "!!!W!!! Prod{acc_dtype=int64}.0\n",
        "!!!W!!! Prod{acc_dtype=int64}.0\n",
        "!!!W!!! Prod{acc_dtype=int64}.0\n"
       ]
      },
      {
       "output_type": "stream",
       "stream": "stdout",
       "text": [
        "Batch\n",
        "!!!W!!! Prod{acc_dtype=int64}.0\n",
        "!!!W!!! Prod{acc_dtype=int64}.0\n",
        "!!!W!!! Prod{acc_dtype=int64}.0\n",
        "!!!W!!! Prod{acc_dtype=int64}.0\n"
       ]
      },
      {
       "output_type": "stream",
       "stream": "stdout",
       "text": [
        "Batch\n",
        "!!!W!!! Prod{acc_dtype=int64}.0\n",
        "!!!W!!! Prod{acc_dtype=int64}.0\n",
        "!!!W!!! Prod{acc_dtype=int64}.0\n",
        "!!!W!!! Prod{acc_dtype=int64}.0\n"
       ]
      },
      {
       "output_type": "stream",
       "stream": "stdout",
       "text": [
        "Batch\n",
        "!!!W!!! Prod{acc_dtype=int64}.0\n",
        "!!!W!!! Prod{acc_dtype=int64}.0\n",
        "!!!W!!! Prod{acc_dtype=int64}.0\n",
        "!!!W!!! Prod{acc_dtype=int64}.0\n"
       ]
      },
      {
       "output_type": "stream",
       "stream": "stdout",
       "text": [
        "Batch\n",
        "!!!W!!! Prod{acc_dtype=int64}.0\n",
        "!!!W!!! Prod{acc_dtype=int64}.0\n",
        "!!!W!!! Prod{acc_dtype=int64}.0\n",
        "!!!W!!! Prod{acc_dtype=int64}.0\n"
       ]
      },
      {
       "output_type": "stream",
       "stream": "stdout",
       "text": [
        "Batch\n",
        "!!!W!!! Prod{acc_dtype=int64}.0\n",
        "!!!W!!! Prod{acc_dtype=int64}.0\n",
        "!!!W!!! Prod{acc_dtype=int64}.0\n",
        "!!!W!!! Prod{acc_dtype=int64}.0\n"
       ]
      },
      {
       "output_type": "stream",
       "stream": "stdout",
       "text": [
        "Batch\n",
        "!!!W!!! Prod{acc_dtype=int64}.0\n",
        "!!!W!!! Prod{acc_dtype=int64}.0\n",
        "!!!W!!! Prod{acc_dtype=int64}.0\n",
        "!!!W!!! Prod{acc_dtype=int64}.0\n"
       ]
      },
      {
       "output_type": "stream",
       "stream": "stdout",
       "text": [
        "Batch\n",
        "!!!W!!! Prod{acc_dtype=int64}.0\n",
        "!!!W!!! Prod{acc_dtype=int64}.0\n",
        "!!!W!!! Prod{acc_dtype=int64}.0\n",
        "!!!W!!! Prod{acc_dtype=int64}.0\n"
       ]
      },
      {
       "output_type": "stream",
       "stream": "stdout",
       "text": [
        "Batch\n",
        "!!!W!!! Prod{acc_dtype=int64}.0\n",
        "!!!W!!! Prod{acc_dtype=int64}.0\n",
        "!!!W!!! Prod{acc_dtype=int64}.0\n",
        "!!!W!!! Prod{acc_dtype=int64}.0\n"
       ]
      },
      {
       "output_type": "stream",
       "stream": "stdout",
       "text": [
        "Batch\n",
        "!!!W!!! Prod{acc_dtype=int64}.0\n",
        "!!!W!!! Prod{acc_dtype=int64}.0\n",
        "!!!W!!! Prod{acc_dtype=int64}.0\n",
        "!!!W!!! Prod{acc_dtype=int64}.0\n"
       ]
      },
      {
       "output_type": "stream",
       "stream": "stdout",
       "text": [
        "Outputs (448, 4, 479, 1)\n",
        "Filter\n",
        "Filter\n",
        "Filter\n",
        "Filter\n"
       ]
      },
      {
       "output_type": "stream",
       "stream": "stdout",
       "text": [
        "[array([ 46,   0, 196,   0]), array([47,  0, 50,  0]), array([211,   0,  50,   0]), array([210,   0, 196,   0]), array([386,   0, 213,   0]), array([387,   0,  67,   0]), array([146,   0, 145,   0]), array([147,   0,   8,   0]), array([112,   0, 348,   0]), array([113,   0, 202,   0]), array([168,   0, 168,   0]), array([169,   0,  22,   0]), array([416,   0,  16,   0]), array([137,   0,  32,   0]), array([136,   0, 178,   0]), array([139,   0,  35,   0]), array([138,   0, 181,   0]), array([322,   0, 240,   0]), array([323,   0,  94,   0]), array([ 22,   0, 122,   0]), array([134,   0, 311,   0]), array([135,   0, 165,   0]), array([ 28,   0, 184,   0]), array([29,  0, 38,  0]), array([114,   0, 261,   0]), array([115,   0, 115,   0]), array([23,  0, 21,  0]), array([236,   0, 224,   0]), array([237,   0,  78,   0]), array([ 24,   0, 265,   0]), array([ 25,   0, 119,   0]), array([378,   0, 186,   0]), array([379,   0,  40,   0]), array([342,   0, 198,   0]), array([343,   0,  52,   0]), array([244,   0, 281,   0]), array([245,   0, 135,   0]), array([37,  0, 73,  0]), array([ 36,   0, 219,   0]), array([ 52,   0, 284,   0]), array([ 53,   0, 138,   0]), array([91,  0, 79,  0]), array([ 90,   0, 225,   0]), array([383,   0,  76,   0]), array([382,   0, 222,   0]), array([142,   0, 151,   0]), array([143,   0,   5,   0]), array([67,  0, 45,  0]), array([ 66,   0, 191,   0]), array([ 84,   0, 200,   0]), array([85,  0, 54,  0]), array([417,   0,   0,   0]), array([259,   0,  20,   0]), array([258,   0, 166,   0]), array([335,   0, 219,   0]), array([334,   0, 365,   0]), array([397,   0,  43,   0]), array([396,   0, 189,   0]), array([196,   0, 279,   0]), array([197,   0, 133,   0]), array([308,   0, 152,   0]), array([309,   0,   6,   0]), array([183,   0,  40,   0]), array([182,   0, 186,   0]), array([260,   0, 148,   0]), array([261,   0,   2,   0]), array([125,   0,  53,   0]), array([124,   0, 199,   0]), array([ 26,   0, 194,   0]), array([27,  0, 48,  0]), array([247,   0,  19,   0]), array([246,   0, 165,   0]), array([213,   0,  42,   0]), array([212,   0, 188,   0]), array([181,   0, 123,   0]), array([180,   0, 269,   0]), array([ 31,   0, 109,   0]), array([ 30,   0, 255,   0]), array([231,   0,  55,   0]), array([230,   0, 201,   0]), array([368,   0, 204,   0]), array([369,   0,  58,   0]), array([366,   0, 169,   0]), array([367,   0,  23,   0]), array([108,   0, 197,   0]), array([109,   0,  51,   0]), array([421,   0,  25,   0]), array([420,   0, 171,   0]), array([164,   0, 184,   0]), array([165,   0,  38,   0]), array([162,   0, 230,   0]), array([163,   0,  84,   0]), array([423,   0,  72,   0]), array([422,   0, 218,   0]), array([431,   0,  41,   0]), array([430,   0, 187,   0]), array([295,   0,  18,   0]), array([294,   0, 164,   0]), array([156,   0, 174,   0]), array([157,   0,  28,   0]), array([427,   1, 346,   0]), array([426,   1, 465,   0]), array([292,   1,   4,   0]), array([155,   1, 358,   0]), array([357,   1, 474,   0]), array([373,   1, 476,   0]), array([ 27,   1, 471,   0]), array([ 31,   1, 449,   0]), array([ 23,   1, 316,   0]), array([ 22,   1, 462,   0]), array([272,   1,   3,   0]), array([123,   1, 470,   0]), array([359,   1, 473,   0]), array([433,   1, 327,   0]), array([432,   1, 473,   0]), array([372,   1, 472,   0]), array([189,   1, 477,   0]), array([154,   1, 477,   0]), array([ 45,   1, 471,   0]), array([ 59,   1, 451,   0]), array([158,   1,   4,   0]), array([132,   1,  14,   0]), array([411,   1, 453,   0]), array([ 49,   1, 408,   0]), array([129,   1, 474,   0]), array([275,   1, 437,   0]), array([274,   1, 403,   0]), array([192,   1,  53,   0]), array([391,   1, 473,   0]), array([362,   1,   0,   0]), array([303,   1, 379,   0]), array([412,   1,  23,   0]), array([12,  1,  3,  0]), array([435,   1, 229,   0]), array([434,   1, 375,   0]), array([349,   1, 367,   0]), array([424,   1, 453,   0]), array([425,   1, 307,   0]), array([ 15,   1, 441,   0]), array([242,   1,   7,   0]), array([ 79,   1, 472,   0]), array([302,   1, 462,   0]), array([345,   1, 476,   0]), array([239,   1, 477,   0]), array([341,   1, 469,   0]), array([ 39,   1, 388,   0]), array([431,   1, 477,   0]), array([ 58,   1, 476,   0]), array([187,   1, 459,   0]), array([ 87,   1, 414,   0]), array([255,   1, 472,   0]), array([ 71,   1, 406,   0]), array([ 67,   1, 326,   0]), array([ 66,   1, 472,   0]), array([238,   1,   4,   0]), array([265,   1, 279,   0]), array([264,   1, 425,   0]), array([118,   1, 385,   0]), array([119,   1, 239,   0]), array([415,   1, 419,   0]), array([ 73,   1, 342,   0]), array([393,   1, 406,   0]), array([405,   1, 478,   0]), array([200,   1,   3,   0]), array([179,   1, 473,   0]), array([ 57,   1, 425,   0]), array([331,   1, 431,   0]), array([317,   1, 258,   0]), array([316,   1, 404,   0]), array([256,   1,   0,   0]), array([157,   1, 435,   0]), array([ 21,   1, 474,   0]), array([392,   1, 428,   0]), array([165,   1, 478,   0]), array([88,  1, 10,  0]), array([348,   1, 477,   0]), array([ 85,   1, 434,   0]), array([355,   1, 193,   0]), array([354,   1, 339,   0]), array([323,   1, 474,   0]), array([374,   1,   3,   0]), array([ 95,   1, 368,   0]), array([367,   1, 470,   0]), array([153,   1, 356,   0]), array([ 38,   1, 452,   0]), array([295,   1, 181,   0]), array([294,   1, 327,   0]), array([340,   1, 478,   0]), array([358,   1,  27,   0]), array([44,  1,  2,  0]), array([344,   1, 476,   0]), array([325,   1, 467,   0]), array([235,   1, 474,   0]), array([20,  1,  0,  0]), array([223,   1, 450,   0]), array([ 86,   1, 476,   0]), array([338,   1, 310,   0]), array([339,   1, 164,   0]), array([414,   1, 470,   0]), array([285,   1, 443,   0]), array([313,   2, 475,   0]), array([410,   2,   0,   0]), array([228,   2,   3,   0]), array([414,   2,   0,   0]), array([222,   2,   2,   0]), array([267,   2, 473,   0]), array([322,   2,   1,   0]), array([412,   2,   0,   0]), array([124,   2,   0,   0]), array([2, 2, 0, 0]), array([304,   2,  11,   0]), array([252,   2,   0,   0]), array([266,   2,   4,   0]), array([6, 2, 0, 0]), array([236,   2,   2,   0]), array([240,   2,   1,   0]), array([173,   2, 478,   0]), array([174,   2,   7,   0]), array([318,   2,   1,   0]), array([272,   2,   0,   0]), array([144,   2,   8,   0]), array([61,  2, 30,  0]), array([ 60,   2, 176,   0]), array([84,  2,  0,  0]), array([220,   2,   1,   0]), array([32,  2,  0,  0]), array([0, 2, 2, 0]), array([238,   2,   5,   0]), array([262,   2,   1,   0]), array([108,   2,   6,   0]), array([216,   2,   5,   0]), array([277,   2, 437,   0]), array([159,   2, 476,   0]), array([432,   2,   2,   0]), array([438,   2,   0,   0]), array([142,   2,   0,   0]), array([370,   2,   0,   0]), array([38,  2,  0,  0]), array([256,   2,   2,   0]), array([198,   2,   0,   0]), array([229,   2, 436,   0]), array([105,   2, 438,   0]), array([247,   2, 477,   0]), array([388,   2,   0,   0]), array([418,   2,   8,   0]), array([82,  2,  1,  0]), array([94,  2,  1,  0]), array([48,  2,  2,  0]), array([219,   2, 359,   0]), array([195,   2, 478,   0]), array([30,  2,  1,  0]), array([334,   2,   1,   0]), array([  3,   2, 207,   0]), array([310,   2,   2,   0]), array([214,   2,   5,   0]), array([92,  2,  8,  0]), array([261,   2, 476,   0]), array([145,   2,   2,   0]), array([234,   2,   4,   0]), array([226,   2,   0,   0]), array([44,  2,  0,  0]), array([254,   2,   2,   0]), array([79,  2, 84,  0]), array([ 78,   2, 230,   0]), array([4, 2, 2, 0]), array([284,   2,   1,   0]), array([442,   2,   0,   0]), array([250,   2,   0,   0]), array([218,   2, 478,   0]), array([188,   2,   2,   0]), array([8, 2, 2, 0]), array([445,   2, 477,   0]), array([362,   2,   0,   0]), array([66,  2,  1,  0]), array([282,   2,   3,   0]), array([382,   2,   0,   0]), array([300,   2,   1,   0]), array([76,  2,  2,  0]), array([411,   2,   6,   0]), array([235,   2, 179,   0]), array([348,   2,   3,   0]), array([26,  2,  0,  0]), array([336,   2,   4,   0]), array([132,   2,   2,   0]), array([202,   2,   2,   0]), array([363,   2, 199,   0]), array([175,   2, 183,   0]), array([200,   2, 266,   0]), array([201,   2, 120,   0]), array([24,  2,  6,  0]), array([123,   2, 291,   0]), array([122,   2, 437,   0]), array([274,   2,   0,   0]), array([ 77,   2, 171,   0]), array([100,   2,   0,   0]), array([104,   2, 449,   0]), array([393,   2, 177,   0]), array([392,   2, 323,   0]), array([330,   2,   0,   0]), array([50,  2,  0,  0]), array([36,  3,  1,  0]), array([166,   3,  18,   0]), array([32,  3,  1,  0]), array([46,  3,  0,  0]), array([184,   3, 198,   0]), array([185,   3,  52,   0]), array([398,   3,   6,   0]), array([167,   3,   7,   0]), array([316,   3,   5,   0]), array([404,   3,   0,   0]), array([424,   3,   2,   0]), array([321,   3, 463,   0]), array([206,   3,   2,   0]), array([244,   3,   0,   0]), array([18,  3, 36,  0]), array([62,  3,  3,  0]), array([52,  3,  6,  0]), array([280,   3,  16,   0]), array([366,   3,   5,   0]), array([116,   3,  24,   0]), array([74,  3, 11,  0]), array([324,   3,   5,   0]), array([114,   3,   4,   0]), array([364,   3,   0,   0]), array([255,   3, 127,   0]), array([254,   3, 273,   0]), array([358,   3, 329,   0]), array([359,   3, 183,   0]), array([320,   3, 471,   0]), array([338,   3,  10,   0]), array([354,   3,   2,   0]), array([117,   3,  57,   0]), array([232,   3,   4,   0]), array([110,   3,   2,   0]), array([163,   3, 457,   0]), array([ 75,   3, 171,   0]), array([296,   3,   1,   0]), array([126,   3,   2,   0]), array([423,   3, 392,   0]), array([252,   3,   7,   0]), array([183,   3,  83,   0]), array([182,   3, 229,   0]), array([441,   3, 244,   0]), array([440,   3, 390,   0]), array([34,  3,  2,  0]), array([164,   3, 230,   0]), array([165,   3,  84,   0]), array([  7,   3, 308,   0]), array([  6,   3, 454,   0]), array([20,  3,  1,  0]), array([240,   3,   1,   0]), array([418,   3,   4,   0]), array([ 73,   3, 478,   0]), array([336,   3,   2,   0]), array([156,   3,   4,   0]), array([313,   3, 477,   0]), array([365,   3, 324,   0]), array([ 63,   3, 409,   0]), array([ 10,   3, 339,   0]), array([ 11,   3, 193,   0]), array([199,   3, 310,   0]), array([198,   3, 456,   0]), array([99,  3, 78,  0]), array([ 98,   3, 224,   0]), array([120,   3,   8,   0]), array([122,   3,   1,   0]), array([148,   3,   0,   0]), array([385,   3, 360,   0]), array([106,   3, 303,   0]), array([107,   3, 157,   0]), array([394,   3,   5,   0]), array([121,   3, 104,   0]), array([ 72,   3, 335,   0]), array([178,   3,   4,   0]), array([416,   3,   3,   0]), array([170,   3,   2,   0]), array([384,   3, 470,   0]), array([22,  3,  6,  0]), array([434,   3,   2,   0]), array([426,   3,   0,   0]), array([208,   3,   2,   0]), array([ 70,   3, 107,   0]), array([217,   3, 433,   0]), array([376,   3,   6,   0]), array([325,   3,   9,   0]), array([ 15,   3, 121,   0]), array([ 14,   3, 267,   0]), array([ 53,   3, 178,   0]), array([301,   3, 334,   0]), array([33,  3, 11,  0]), array([ 88,   3, 324,   0]), array([ 89,   3, 178,   0]), array([258,   3,   5,   0]), array([71,  3, 15,  0]), array([352,   3,   2,   0]), array([405,   3,  49,   0]), array([28,  3,  5,  0]), array([47,  3, 45,  0]), array([300,   3, 474,   0]), array([388,   3,   2,   0])]\n",
        "max units\n",
        "[array([0, 1, 2, 3]), array([4, 5, 6, 7]), array([ 8,  9, 10, 11]), array([12, 13, 14, 15]), array([16, 17, 18, 19]), array([20, 21, 22, 23]), array([24, 25, 26, 27]), array([28, 29, 30, 31]), array([32, 33, 34, 35]), array([36, 37, 38, 39]), array([40, 41, 42, 43]), array([44, 45, 46, 47]), array([48, 49, 50, 51]), array([52, 53, 54, 55]), array([56, 57, 58, 59]), array([60, 61, 62, 63]), array([64, 65, 66, 67]), array([68, 69, 70, 71]), array([72, 73, 74, 75]), array([76, 77, 78, 79]), array([80, 81, 82, 83]), array([84, 85, 86, 87]), array([88, 89, 90, 91]), array([92, 93, 94, 95]), array([96, 97, 98, 99]), array([100, 101, 102, 103]), array([104, 105, 106, 107]), array([108, 109, 110, 111]), array([112, 113, 114, 115]), array([116, 117, 118, 119]), array([120, 121, 122, 123]), array([124, 125, 126, 127]), array([128, 129, 130, 131]), array([132, 133, 134, 135]), array([136, 137, 138, 139]), array([140, 141, 142, 143]), array([144, 145, 146, 147]), array([148, 149, 150, 151]), array([152, 153, 154, 155]), array([156, 157, 158, 159]), array([160, 161, 162]), array([163, 164, 165]), array([166, 167, 168]), array([169, 170, 171]), array([172, 173, 174]), array([175, 176, 177]), array([178, 179, 180]), array([181, 182, 183]), array([184, 185, 186]), array([187, 188, 189]), array([190, 191, 192]), array([193, 194, 195]), array([196, 197, 198]), array([199, 200, 201]), array([202, 203, 204]), array([205, 206, 207]), array([208, 209, 210]), array([211, 212, 213]), array([214, 215, 216]), array([217, 218, 219]), array([220, 221, 222]), array([223, 224, 225]), array([226, 227, 228]), array([229, 230, 231]), array([232, 233, 234]), array([235, 236, 237]), array([238, 239, 240]), array([241, 242, 243]), array([244, 245, 246]), array([247, 248, 249]), array([250, 251, 252]), array([253, 254, 255]), array([256, 257, 258]), array([259, 260, 261]), array([262, 263, 264]), array([265, 266, 267]), array([268, 269, 270]), array([271, 272, 273]), array([274, 275, 276]), array([277, 278, 279]), array([280, 281, 282]), array([283, 284, 285]), array([286, 287, 288]), array([289, 290, 291]), array([292, 293, 294]), array([295, 296, 297]), array([298, 299, 300]), array([301, 302, 303]), array([304, 305, 306]), array([307, 308, 309]), array([310, 311, 312]), array([313, 314, 315]), array([316, 317, 318]), array([319, 320, 321]), array([322, 323, 324]), array([325, 326, 327]), array([328, 329, 330]), array([331, 332, 333]), array([334, 335, 336]), array([337, 338, 339]), array([340, 341, 342]), array([343, 344, 345]), array([346, 347, 348]), array([349, 350, 351]), array([352, 353, 354]), array([355, 356, 357]), array([358, 359, 360]), array([361, 362, 363]), array([364, 365, 366]), array([367, 368, 369]), array([370, 371, 372]), array([373, 374, 375]), array([376, 377, 378]), array([379, 380, 381]), array([382, 383, 384]), array([385, 386, 387]), array([388, 389, 390]), array([391, 392, 393]), array([394, 395, 396]), array([397, 398, 399])]\n",
        "Batch\n",
        "!!!W!!! Prod{acc_dtype=int64}.0\n",
        "!!!W!!! Prod{acc_dtype=int64}.0\n",
        "!!!W!!! Prod{acc_dtype=int64}.0\n",
        "!!!W!!! Prod{acc_dtype=int64}.0\n"
       ]
      },
      {
       "output_type": "stream",
       "stream": "stdout",
       "text": [
        "Batch\n",
        "!!!W!!! Prod{acc_dtype=int64}.0\n",
        "!!!W!!! Prod{acc_dtype=int64}.0\n",
        "!!!W!!! Prod{acc_dtype=int64}.0\n",
        "!!!W!!! Prod{acc_dtype=int64}.0\n"
       ]
      },
      {
       "output_type": "stream",
       "stream": "stdout",
       "text": [
        "Batch\n",
        "!!!W!!! Prod{acc_dtype=int64}.0\n",
        "!!!W!!! Prod{acc_dtype=int64}.0\n",
        "!!!W!!! Prod{acc_dtype=int64}.0\n",
        "!!!W!!! Prod{acc_dtype=int64}.0\n"
       ]
      },
      {
       "output_type": "stream",
       "stream": "stdout",
       "text": [
        "Batch\n",
        "!!!W!!! Prod{acc_dtype=int64}.0\n",
        "!!!W!!! Prod{acc_dtype=int64}.0\n",
        "!!!W!!! Prod{acc_dtype=int64}.0\n",
        "!!!W!!! Prod{acc_dtype=int64}.0\n"
       ]
      },
      {
       "output_type": "stream",
       "stream": "stdout",
       "text": [
        "Batch\n",
        "!!!W!!! Prod{acc_dtype=int64}.0\n",
        "!!!W!!! Prod{acc_dtype=int64}.0\n",
        "!!!W!!! Prod{acc_dtype=int64}.0\n",
        "!!!W!!! Prod{acc_dtype=int64}.0\n"
       ]
      },
      {
       "output_type": "stream",
       "stream": "stdout",
       "text": [
        "Batch\n",
        "!!!W!!! Prod{acc_dtype=int64}.0\n",
        "!!!W!!! Prod{acc_dtype=int64}.0\n",
        "!!!W!!! Prod{acc_dtype=int64}.0\n",
        "!!!W!!! Prod{acc_dtype=int64}.0\n"
       ]
      },
      {
       "output_type": "stream",
       "stream": "stdout",
       "text": [
        "Batch\n",
        "!!!W!!! Prod{acc_dtype=int64}.0\n",
        "!!!W!!! Prod{acc_dtype=int64}.0\n",
        "!!!W!!! Prod{acc_dtype=int64}.0\n",
        "!!!W!!! Prod{acc_dtype=int64}.0\n"
       ]
      },
      {
       "output_type": "stream",
       "stream": "stdout",
       "text": [
        "Batch\n",
        "!!!W!!! Prod{acc_dtype=int64}.0\n",
        "!!!W!!! Prod{acc_dtype=int64}.0\n",
        "!!!W!!! Prod{acc_dtype=int64}.0\n",
        "!!!W!!! Prod{acc_dtype=int64}.0\n"
       ]
      },
      {
       "output_type": "stream",
       "stream": "stdout",
       "text": [
        "Batch\n",
        "!!!W!!! Prod{acc_dtype=int64}.0\n",
        "!!!W!!! Prod{acc_dtype=int64}.0\n",
        "!!!W!!! Prod{acc_dtype=int64}.0\n",
        "!!!W!!! Prod{acc_dtype=int64}.0\n"
       ]
      },
      {
       "output_type": "stream",
       "stream": "stdout",
       "text": [
        "Batch\n",
        "!!!W!!! Prod{acc_dtype=int64}.0\n",
        "!!!W!!! Prod{acc_dtype=int64}.0\n",
        "!!!W!!! Prod{acc_dtype=int64}.0\n",
        "!!!W!!! Prod{acc_dtype=int64}.0\n"
       ]
      },
      {
       "output_type": "stream",
       "stream": "stdout",
       "text": [
        "Batch\n",
        "!!!W!!! Prod{acc_dtype=int64}.0\n",
        "!!!W!!! Prod{acc_dtype=int64}.0\n",
        "!!!W!!! Prod{acc_dtype=int64}.0\n",
        "!!!W!!! Prod{acc_dtype=int64}.0\n"
       ]
      },
      {
       "output_type": "stream",
       "stream": "stdout",
       "text": [
        "Batch\n",
        "!!!W!!! Prod{acc_dtype=int64}.0\n",
        "!!!W!!! Prod{acc_dtype=int64}.0\n",
        "!!!W!!! Prod{acc_dtype=int64}.0\n",
        "!!!W!!! Prod{acc_dtype=int64}.0\n"
       ]
      },
      {
       "output_type": "stream",
       "stream": "stdout",
       "text": [
        "Batch\n",
        "!!!W!!! Prod{acc_dtype=int64}.0\n",
        "!!!W!!! Prod{acc_dtype=int64}.0\n",
        "!!!W!!! Prod{acc_dtype=int64}.0\n",
        "!!!W!!! Prod{acc_dtype=int64}.0\n"
       ]
      },
      {
       "output_type": "stream",
       "stream": "stdout",
       "text": [
        "Batch\n",
        "!!!W!!! Prod{acc_dtype=int64}.0\n",
        "!!!W!!! Prod{acc_dtype=int64}.0\n",
        "!!!W!!! Prod{acc_dtype=int64}.0\n",
        "!!!W!!! Prod{acc_dtype=int64}.0\n"
       ]
      },
      {
       "output_type": "stream",
       "stream": "stdout",
       "text": [
        "Batch\n",
        "!!!W!!! Prod{acc_dtype=int64}.0\n",
        "!!!W!!! Prod{acc_dtype=int64}.0\n",
        "!!!W!!! Prod{acc_dtype=int64}.0\n",
        "!!!W!!! Prod{acc_dtype=int64}.0\n"
       ]
      },
      {
       "output_type": "stream",
       "stream": "stdout",
       "text": [
        "Batch\n",
        "!!!W!!! Prod{acc_dtype=int64}.0\n",
        "!!!W!!! Prod{acc_dtype=int64}.0\n",
        "!!!W!!! Prod{acc_dtype=int64}.0\n",
        "!!!W!!! Prod{acc_dtype=int64}.0\n"
       ]
      },
      {
       "output_type": "stream",
       "stream": "stdout",
       "text": [
        "Batch\n",
        "!!!W!!! Prod{acc_dtype=int64}.0\n",
        "!!!W!!! Prod{acc_dtype=int64}.0\n",
        "!!!W!!! Prod{acc_dtype=int64}.0\n",
        "!!!W!!! Prod{acc_dtype=int64}.0\n"
       ]
      },
      {
       "output_type": "stream",
       "stream": "stdout",
       "text": [
        "Batch\n",
        "!!!W!!! Prod{acc_dtype=int64}.0\n",
        "!!!W!!! Prod{acc_dtype=int64}.0\n",
        "!!!W!!! Prod{acc_dtype=int64}.0\n",
        "!!!W!!! Prod{acc_dtype=int64}.0\n"
       ]
      },
      {
       "output_type": "stream",
       "stream": "stdout",
       "text": [
        "Batch\n",
        "!!!W!!! Prod{acc_dtype=int64}.0\n",
        "!!!W!!! Prod{acc_dtype=int64}.0\n",
        "!!!W!!! Prod{acc_dtype=int64}.0\n",
        "!!!W!!! Prod{acc_dtype=int64}.0\n"
       ]
      },
      {
       "output_type": "stream",
       "stream": "stdout",
       "text": [
        "Batch\n",
        "!!!W!!! Prod{acc_dtype=int64}.0\n",
        "!!!W!!! Prod{acc_dtype=int64}.0\n",
        "!!!W!!! Prod{acc_dtype=int64}.0\n",
        "!!!W!!! Prod{acc_dtype=int64}.0\n"
       ]
      },
      {
       "output_type": "stream",
       "stream": "stdout",
       "text": [
        "Batch\n",
        "!!!W!!! Prod{acc_dtype=int64}.0\n",
        "!!!W!!! Prod{acc_dtype=int64}.0\n",
        "!!!W!!! Prod{acc_dtype=int64}.0\n",
        "!!!W!!! Prod{acc_dtype=int64}.0\n"
       ]
      },
      {
       "output_type": "stream",
       "stream": "stdout",
       "text": [
        "Batch\n",
        "!!!W!!! Prod{acc_dtype=int64}.0\n",
        "!!!W!!! Prod{acc_dtype=int64}.0\n",
        "!!!W!!! Prod{acc_dtype=int64}.0\n",
        "!!!W!!! Prod{acc_dtype=int64}.0\n"
       ]
      },
      {
       "output_type": "stream",
       "stream": "stdout",
       "text": [
        "Batch\n",
        "!!!W!!! Prod{acc_dtype=int64}.0\n",
        "!!!W!!! Prod{acc_dtype=int64}.0\n",
        "!!!W!!! Prod{acc_dtype=int64}.0\n",
        "!!!W!!! Prod{acc_dtype=int64}.0\n"
       ]
      },
      {
       "output_type": "stream",
       "stream": "stdout",
       "text": [
        "Batch\n",
        "!!!W!!! Prod{acc_dtype=int64}.0\n",
        "!!!W!!! Prod{acc_dtype=int64}.0\n",
        "!!!W!!! Prod{acc_dtype=int64}.0\n",
        "!!!W!!! Prod{acc_dtype=int64}.0\n"
       ]
      },
      {
       "output_type": "stream",
       "stream": "stdout",
       "text": [
        "Batch\n",
        "!!!W!!! Prod{acc_dtype=int64}.0\n",
        "!!!W!!! Prod{acc_dtype=int64}.0\n",
        "!!!W!!! Prod{acc_dtype=int64}.0\n",
        "!!!W!!! Prod{acc_dtype=int64}.0\n"
       ]
      },
      {
       "output_type": "stream",
       "stream": "stdout",
       "text": [
        "Batch\n",
        "!!!W!!! Prod{acc_dtype=int64}.0\n",
        "!!!W!!! Prod{acc_dtype=int64}.0\n",
        "!!!W!!! Prod{acc_dtype=int64}.0\n",
        "!!!W!!! Prod{acc_dtype=int64}.0\n"
       ]
      },
      {
       "output_type": "stream",
       "stream": "stdout",
       "text": [
        "Batch\n",
        "!!!W!!! Prod{acc_dtype=int64}.0\n",
        "!!!W!!! Prod{acc_dtype=int64}.0\n",
        "!!!W!!! Prod{acc_dtype=int64}.0\n",
        "!!!W!!! Prod{acc_dtype=int64}.0\n"
       ]
      },
      {
       "output_type": "stream",
       "stream": "stdout",
       "text": [
        "Batch\n",
        "!!!W!!! Prod{acc_dtype=int64}.0\n",
        "!!!W!!! Prod{acc_dtype=int64}.0\n",
        "!!!W!!! Prod{acc_dtype=int64}.0\n",
        "!!!W!!! Prod{acc_dtype=int64}.0\n"
       ]
      },
      {
       "output_type": "stream",
       "stream": "stdout",
       "text": [
        "Batch\n",
        "!!!W!!! Prod{acc_dtype=int64}.0\n",
        "!!!W!!! Prod{acc_dtype=int64}.0\n",
        "!!!W!!! Prod{acc_dtype=int64}.0\n",
        "!!!W!!! Prod{acc_dtype=int64}.0\n"
       ]
      },
      {
       "output_type": "stream",
       "stream": "stdout",
       "text": [
        "Batch\n",
        "!!!W!!! Prod{acc_dtype=int64}.0\n",
        "!!!W!!! Prod{acc_dtype=int64}.0\n",
        "!!!W!!! Prod{acc_dtype=int64}.0\n",
        "!!!W!!! Prod{acc_dtype=int64}.0\n"
       ]
      },
      {
       "output_type": "stream",
       "stream": "stdout",
       "text": [
        "Batch\n",
        "!!!W!!! Prod{acc_dtype=int64}.0\n",
        "!!!W!!! Prod{acc_dtype=int64}.0\n",
        "!!!W!!! Prod{acc_dtype=int64}.0\n",
        "!!!W!!! Prod{acc_dtype=int64}.0\n"
       ]
      },
      {
       "output_type": "stream",
       "stream": "stdout",
       "text": [
        "Batch\n",
        "!!!W!!! Prod{acc_dtype=int64}.0\n",
        "!!!W!!! Prod{acc_dtype=int64}.0\n",
        "!!!W!!! Prod{acc_dtype=int64}.0\n",
        "!!!W!!! Prod{acc_dtype=int64}.0\n"
       ]
      },
      {
       "output_type": "stream",
       "stream": "stdout",
       "text": [
        "Batch\n",
        "!!!W!!! Prod{acc_dtype=int64}.0\n",
        "!!!W!!! Prod{acc_dtype=int64}.0\n",
        "!!!W!!! Prod{acc_dtype=int64}.0\n",
        "!!!W!!! Prod{acc_dtype=int64}.0\n"
       ]
      },
      {
       "output_type": "stream",
       "stream": "stdout",
       "text": [
        "Batch\n",
        "!!!W!!! Prod{acc_dtype=int64}.0\n",
        "!!!W!!! Prod{acc_dtype=int64}.0\n",
        "!!!W!!! Prod{acc_dtype=int64}.0\n",
        "!!!W!!! Prod{acc_dtype=int64}.0\n"
       ]
      },
      {
       "output_type": "stream",
       "stream": "stdout",
       "text": [
        "Batch\n",
        "!!!W!!! Prod{acc_dtype=int64}.0\n",
        "!!!W!!! Prod{acc_dtype=int64}.0\n",
        "!!!W!!! Prod{acc_dtype=int64}.0\n",
        "!!!W!!! Prod{acc_dtype=int64}.0\n"
       ]
      },
      {
       "output_type": "stream",
       "stream": "stdout",
       "text": [
        "Batch\n",
        "!!!W!!! Prod{acc_dtype=int64}.0\n",
        "!!!W!!! Prod{acc_dtype=int64}.0\n",
        "!!!W!!! Prod{acc_dtype=int64}.0\n",
        "!!!W!!! Prod{acc_dtype=int64}.0\n"
       ]
      },
      {
       "output_type": "stream",
       "stream": "stdout",
       "text": [
        "Batch\n",
        "!!!W!!! Prod{acc_dtype=int64}.0\n",
        "!!!W!!! Prod{acc_dtype=int64}.0\n",
        "!!!W!!! Prod{acc_dtype=int64}.0\n",
        "!!!W!!! Prod{acc_dtype=int64}.0\n"
       ]
      },
      {
       "output_type": "stream",
       "stream": "stdout",
       "text": [
        "Batch\n",
        "!!!W!!! Prod{acc_dtype=int64}.0\n",
        "!!!W!!! Prod{acc_dtype=int64}.0\n",
        "!!!W!!! Prod{acc_dtype=int64}.0\n",
        "!!!W!!! Prod{acc_dtype=int64}.0\n"
       ]
      },
      {
       "output_type": "stream",
       "stream": "stdout",
       "text": [
        "Batch\n",
        "!!!W!!! Prod{acc_dtype=int64}.0\n",
        "!!!W!!! Prod{acc_dtype=int64}.0\n",
        "!!!W!!! Prod{acc_dtype=int64}.0\n",
        "!!!W!!! Prod{acc_dtype=int64}.0\n"
       ]
      },
      {
       "output_type": "stream",
       "stream": "stdout",
       "text": [
        "Batch\n",
        "!!!W!!! Prod{acc_dtype=int64}.0\n",
        "!!!W!!! Prod{acc_dtype=int64}.0\n",
        "!!!W!!! Prod{acc_dtype=int64}.0\n",
        "!!!W!!! Prod{acc_dtype=int64}.0\n"
       ]
      },
      {
       "output_type": "stream",
       "stream": "stdout",
       "text": [
        "Batch\n",
        "!!!W!!! Prod{acc_dtype=int64}.0\n",
        "!!!W!!! Prod{acc_dtype=int64}.0\n",
        "!!!W!!! Prod{acc_dtype=int64}.0\n",
        "!!!W!!! Prod{acc_dtype=int64}.0\n"
       ]
      },
      {
       "output_type": "stream",
       "stream": "stdout",
       "text": [
        "Batch\n",
        "!!!W!!! Prod{acc_dtype=int64}.0\n",
        "!!!W!!! Prod{acc_dtype=int64}.0\n",
        "!!!W!!! Prod{acc_dtype=int64}.0\n",
        "!!!W!!! Prod{acc_dtype=int64}.0\n"
       ]
      },
      {
       "output_type": "stream",
       "stream": "stdout",
       "text": [
        "Batch\n",
        "!!!W!!! Prod{acc_dtype=int64}.0\n",
        "!!!W!!! Prod{acc_dtype=int64}.0\n",
        "!!!W!!! Prod{acc_dtype=int64}.0\n",
        "!!!W!!! Prod{acc_dtype=int64}.0\n"
       ]
      },
      {
       "output_type": "stream",
       "stream": "stdout",
       "text": [
        "Batch\n",
        "!!!W!!! Prod{acc_dtype=int64}.0\n",
        "!!!W!!! Prod{acc_dtype=int64}.0\n",
        "!!!W!!! Prod{acc_dtype=int64}.0\n",
        "!!!W!!! Prod{acc_dtype=int64}.0\n"
       ]
      },
      {
       "output_type": "stream",
       "stream": "stdout",
       "text": [
        "Batch\n",
        "!!!W!!! Prod{acc_dtype=int64}.0\n",
        "!!!W!!! Prod{acc_dtype=int64}.0\n",
        "!!!W!!! Prod{acc_dtype=int64}.0\n",
        "!!!W!!! Prod{acc_dtype=int64}.0\n"
       ]
      },
      {
       "output_type": "stream",
       "stream": "stdout",
       "text": [
        "Batch\n",
        "!!!W!!! Prod{acc_dtype=int64}.0\n",
        "!!!W!!! Prod{acc_dtype=int64}.0\n",
        "!!!W!!! Prod{acc_dtype=int64}.0\n",
        "!!!W!!! Prod{acc_dtype=int64}.0\n"
       ]
      },
      {
       "output_type": "stream",
       "stream": "stdout",
       "text": [
        "Batch\n",
        "!!!W!!! Prod{acc_dtype=int64}.0\n",
        "!!!W!!! Prod{acc_dtype=int64}.0\n",
        "!!!W!!! Prod{acc_dtype=int64}.0\n",
        "!!!W!!! Prod{acc_dtype=int64}.0\n"
       ]
      },
      {
       "output_type": "stream",
       "stream": "stdout",
       "text": [
        "Batch\n",
        "!!!W!!! Prod{acc_dtype=int64}.0\n",
        "!!!W!!! Prod{acc_dtype=int64}.0\n",
        "!!!W!!! Prod{acc_dtype=int64}.0\n",
        "!!!W!!! Prod{acc_dtype=int64}.0\n"
       ]
      },
      {
       "output_type": "stream",
       "stream": "stdout",
       "text": [
        "Batch\n",
        "!!!W!!! Prod{acc_dtype=int64}.0\n",
        "!!!W!!! Prod{acc_dtype=int64}.0\n",
        "!!!W!!! Prod{acc_dtype=int64}.0\n",
        "!!!W!!! Prod{acc_dtype=int64}.0\n"
       ]
      },
      {
       "output_type": "stream",
       "stream": "stdout",
       "text": [
        "Batch\n",
        "!!!W!!! Prod{acc_dtype=int64}.0\n",
        "!!!W!!! Prod{acc_dtype=int64}.0\n",
        "!!!W!!! Prod{acc_dtype=int64}.0\n",
        "!!!W!!! Prod{acc_dtype=int64}.0\n"
       ]
      },
      {
       "output_type": "stream",
       "stream": "stdout",
       "text": [
        "Batch\n",
        "!!!W!!! Prod{acc_dtype=int64}.0\n",
        "!!!W!!! Prod{acc_dtype=int64}.0\n",
        "!!!W!!! Prod{acc_dtype=int64}.0\n",
        "!!!W!!! Prod{acc_dtype=int64}.0\n"
       ]
      },
      {
       "output_type": "stream",
       "stream": "stdout",
       "text": [
        "Batch\n",
        "!!!W!!! Prod{acc_dtype=int64}.0\n",
        "!!!W!!! Prod{acc_dtype=int64}.0\n",
        "!!!W!!! Prod{acc_dtype=int64}.0\n",
        "!!!W!!! Prod{acc_dtype=int64}.0\n"
       ]
      },
      {
       "output_type": "stream",
       "stream": "stdout",
       "text": [
        "Batch\n",
        "!!!W!!! Prod{acc_dtype=int64}.0\n",
        "!!!W!!! Prod{acc_dtype=int64}.0\n",
        "!!!W!!! Prod{acc_dtype=int64}.0\n",
        "!!!W!!! Prod{acc_dtype=int64}.0\n"
       ]
      },
      {
       "output_type": "stream",
       "stream": "stdout",
       "text": [
        "Batch\n",
        "!!!W!!! Prod{acc_dtype=int64}.0\n",
        "!!!W!!! Prod{acc_dtype=int64}.0\n",
        "!!!W!!! Prod{acc_dtype=int64}.0\n",
        "!!!W!!! Prod{acc_dtype=int64}.0\n"
       ]
      },
      {
       "output_type": "stream",
       "stream": "stdout",
       "text": [
        "Batch\n",
        "!!!W!!! Prod{acc_dtype=int64}.0\n",
        "!!!W!!! Prod{acc_dtype=int64}.0\n",
        "!!!W!!! Prod{acc_dtype=int64}.0\n",
        "!!!W!!! Prod{acc_dtype=int64}.0\n"
       ]
      },
      {
       "output_type": "stream",
       "stream": "stdout",
       "text": [
        "Batch\n",
        "!!!W!!! Prod{acc_dtype=int64}.0\n",
        "!!!W!!! Prod{acc_dtype=int64}.0\n",
        "!!!W!!! Prod{acc_dtype=int64}.0\n",
        "!!!W!!! Prod{acc_dtype=int64}.0\n"
       ]
      },
      {
       "output_type": "stream",
       "stream": "stdout",
       "text": [
        "Batch\n",
        "!!!W!!! Prod{acc_dtype=int64}.0\n",
        "!!!W!!! Prod{acc_dtype=int64}.0\n",
        "!!!W!!! Prod{acc_dtype=int64}.0\n",
        "!!!W!!! Prod{acc_dtype=int64}.0\n"
       ]
      },
      {
       "output_type": "stream",
       "stream": "stdout",
       "text": [
        "Batch\n",
        "!!!W!!! Prod{acc_dtype=int64}.0\n",
        "!!!W!!! Prod{acc_dtype=int64}.0\n",
        "!!!W!!! Prod{acc_dtype=int64}.0\n",
        "!!!W!!! Prod{acc_dtype=int64}.0\n"
       ]
      },
      {
       "output_type": "stream",
       "stream": "stdout",
       "text": [
        "Batch\n",
        "!!!W!!! Prod{acc_dtype=int64}.0\n",
        "!!!W!!! Prod{acc_dtype=int64}.0\n",
        "!!!W!!! Prod{acc_dtype=int64}.0\n",
        "!!!W!!! Prod{acc_dtype=int64}.0\n"
       ]
      },
      {
       "output_type": "stream",
       "stream": "stdout",
       "text": [
        "Batch\n",
        "!!!W!!! Prod{acc_dtype=int64}.0\n",
        "!!!W!!! Prod{acc_dtype=int64}.0\n",
        "!!!W!!! Prod{acc_dtype=int64}.0\n",
        "!!!W!!! Prod{acc_dtype=int64}.0\n"
       ]
      },
      {
       "output_type": "stream",
       "stream": "stdout",
       "text": [
        "Batch\n",
        "!!!W!!! Prod{acc_dtype=int64}.0\n",
        "!!!W!!! Prod{acc_dtype=int64}.0\n",
        "!!!W!!! Prod{acc_dtype=int64}.0\n",
        "!!!W!!! Prod{acc_dtype=int64}.0\n"
       ]
      },
      {
       "output_type": "stream",
       "stream": "stdout",
       "text": [
        "Batch\n",
        "!!!W!!! Prod{acc_dtype=int64}.0\n",
        "!!!W!!! Prod{acc_dtype=int64}.0\n",
        "!!!W!!! Prod{acc_dtype=int64}.0\n",
        "!!!W!!! Prod{acc_dtype=int64}.0\n"
       ]
      },
      {
       "output_type": "stream",
       "stream": "stdout",
       "text": [
        "Batch\n",
        "!!!W!!! Prod{acc_dtype=int64}.0\n",
        "!!!W!!! Prod{acc_dtype=int64}.0\n",
        "!!!W!!! Prod{acc_dtype=int64}.0\n",
        "!!!W!!! Prod{acc_dtype=int64}.0\n"
       ]
      },
      {
       "output_type": "stream",
       "stream": "stdout",
       "text": [
        "Batch\n",
        "!!!W!!! Prod{acc_dtype=int64}.0\n",
        "!!!W!!! Prod{acc_dtype=int64}.0\n",
        "!!!W!!! Prod{acc_dtype=int64}.0\n",
        "!!!W!!! Prod{acc_dtype=int64}.0\n"
       ]
      },
      {
       "output_type": "stream",
       "stream": "stdout",
       "text": [
        "Batch\n",
        "!!!W!!! Prod{acc_dtype=int64}.0\n",
        "!!!W!!! Prod{acc_dtype=int64}.0\n",
        "!!!W!!! Prod{acc_dtype=int64}.0\n",
        "!!!W!!! Prod{acc_dtype=int64}.0\n"
       ]
      },
      {
       "output_type": "stream",
       "stream": "stdout",
       "text": [
        "Batch\n",
        "!!!W!!! Prod{acc_dtype=int64}.0\n",
        "!!!W!!! Prod{acc_dtype=int64}.0\n",
        "!!!W!!! Prod{acc_dtype=int64}.0\n",
        "!!!W!!! Prod{acc_dtype=int64}.0\n"
       ]
      },
      {
       "output_type": "stream",
       "stream": "stdout",
       "text": [
        "Batch\n",
        "!!!W!!! Prod{acc_dtype=int64}.0\n",
        "!!!W!!! Prod{acc_dtype=int64}.0\n",
        "!!!W!!! Prod{acc_dtype=int64}.0\n",
        "!!!W!!! Prod{acc_dtype=int64}.0\n"
       ]
      },
      {
       "output_type": "stream",
       "stream": "stdout",
       "text": [
        "Batch\n",
        "!!!W!!! Prod{acc_dtype=int64}.0\n",
        "!!!W!!! Prod{acc_dtype=int64}.0\n",
        "!!!W!!! Prod{acc_dtype=int64}.0\n",
        "!!!W!!! Prod{acc_dtype=int64}.0\n"
       ]
      },
      {
       "output_type": "stream",
       "stream": "stdout",
       "text": [
        "Batch\n",
        "!!!W!!! Prod{acc_dtype=int64}.0\n",
        "!!!W!!! Prod{acc_dtype=int64}.0\n",
        "!!!W!!! Prod{acc_dtype=int64}.0\n",
        "!!!W!!! Prod{acc_dtype=int64}.0\n"
       ]
      },
      {
       "output_type": "stream",
       "stream": "stdout",
       "text": [
        "Batch\n",
        "!!!W!!! Prod{acc_dtype=int64}.0\n",
        "!!!W!!! Prod{acc_dtype=int64}.0\n",
        "!!!W!!! Prod{acc_dtype=int64}.0\n",
        "!!!W!!! Prod{acc_dtype=int64}.0\n"
       ]
      },
      {
       "output_type": "stream",
       "stream": "stdout",
       "text": [
        "Batch\n",
        "!!!W!!! Prod{acc_dtype=int64}.0\n",
        "!!!W!!! Prod{acc_dtype=int64}.0\n",
        "!!!W!!! Prod{acc_dtype=int64}.0\n",
        "!!!W!!! Prod{acc_dtype=int64}.0\n"
       ]
      },
      {
       "output_type": "stream",
       "stream": "stdout",
       "text": [
        "Batch\n",
        "!!!W!!! Prod{acc_dtype=int64}.0\n",
        "!!!W!!! Prod{acc_dtype=int64}.0\n",
        "!!!W!!! Prod{acc_dtype=int64}.0\n",
        "!!!W!!! Prod{acc_dtype=int64}.0\n"
       ]
      },
      {
       "output_type": "stream",
       "stream": "stdout",
       "text": [
        "Batch\n",
        "!!!W!!! Prod{acc_dtype=int64}.0\n",
        "!!!W!!! Prod{acc_dtype=int64}.0\n",
        "!!!W!!! Prod{acc_dtype=int64}.0\n",
        "!!!W!!! Prod{acc_dtype=int64}.0\n"
       ]
      },
      {
       "output_type": "stream",
       "stream": "stdout",
       "text": [
        "Batch\n",
        "!!!W!!! Prod{acc_dtype=int64}.0\n",
        "!!!W!!! Prod{acc_dtype=int64}.0\n",
        "!!!W!!! Prod{acc_dtype=int64}.0\n",
        "!!!W!!! Prod{acc_dtype=int64}.0\n"
       ]
      },
      {
       "output_type": "stream",
       "stream": "stdout",
       "text": [
        "Batch\n",
        "!!!W!!! Prod{acc_dtype=int64}.0\n",
        "!!!W!!! Prod{acc_dtype=int64}.0\n",
        "!!!W!!! Prod{acc_dtype=int64}.0\n",
        "!!!W!!! Prod{acc_dtype=int64}.0\n"
       ]
      },
      {
       "output_type": "stream",
       "stream": "stdout",
       "text": [
        "Batch\n",
        "!!!W!!! Prod{acc_dtype=int64}.0\n",
        "!!!W!!! Prod{acc_dtype=int64}.0\n",
        "!!!W!!! Prod{acc_dtype=int64}.0\n",
        "!!!W!!! Prod{acc_dtype=int64}.0\n"
       ]
      },
      {
       "output_type": "stream",
       "stream": "stdout",
       "text": [
        "Batch\n",
        "!!!W!!! Prod{acc_dtype=int64}.0\n",
        "!!!W!!! Prod{acc_dtype=int64}.0\n",
        "!!!W!!! Prod{acc_dtype=int64}.0\n",
        "!!!W!!! Prod{acc_dtype=int64}.0\n"
       ]
      },
      {
       "output_type": "stream",
       "stream": "stdout",
       "text": [
        "Batch\n",
        "!!!W!!! Prod{acc_dtype=int64}.0\n",
        "!!!W!!! Prod{acc_dtype=int64}.0\n",
        "!!!W!!! Prod{acc_dtype=int64}.0\n",
        "!!!W!!! Prod{acc_dtype=int64}.0\n"
       ]
      },
      {
       "output_type": "stream",
       "stream": "stdout",
       "text": [
        "Batch\n",
        "!!!W!!! Prod{acc_dtype=int64}.0\n",
        "!!!W!!! Prod{acc_dtype=int64}.0\n",
        "!!!W!!! Prod{acc_dtype=int64}.0\n",
        "!!!W!!! Prod{acc_dtype=int64}.0\n"
       ]
      },
      {
       "output_type": "stream",
       "stream": "stdout",
       "text": [
        "Batch\n",
        "!!!W!!! Prod{acc_dtype=int64}.0\n",
        "!!!W!!! Prod{acc_dtype=int64}.0\n",
        "!!!W!!! Prod{acc_dtype=int64}.0\n",
        "!!!W!!! Prod{acc_dtype=int64}.0\n"
       ]
      },
      {
       "output_type": "stream",
       "stream": "stdout",
       "text": [
        "Batch\n",
        "!!!W!!! Prod{acc_dtype=int64}.0\n",
        "!!!W!!! Prod{acc_dtype=int64}.0\n",
        "!!!W!!! Prod{acc_dtype=int64}.0\n",
        "!!!W!!! Prod{acc_dtype=int64}.0\n"
       ]
      },
      {
       "output_type": "stream",
       "stream": "stdout",
       "text": [
        "Batch\n",
        "!!!W!!! Prod{acc_dtype=int64}.0\n",
        "!!!W!!! Prod{acc_dtype=int64}.0\n",
        "!!!W!!! Prod{acc_dtype=int64}.0\n",
        "!!!W!!! Prod{acc_dtype=int64}.0\n"
       ]
      },
      {
       "output_type": "stream",
       "stream": "stdout",
       "text": [
        "Batch\n",
        "!!!W!!! Prod{acc_dtype=int64}.0\n",
        "!!!W!!! Prod{acc_dtype=int64}.0\n",
        "!!!W!!! Prod{acc_dtype=int64}.0\n",
        "!!!W!!! Prod{acc_dtype=int64}.0\n"
       ]
      },
      {
       "output_type": "stream",
       "stream": "stdout",
       "text": [
        "Batch\n",
        "!!!W!!! Prod{acc_dtype=int64}.0\n",
        "!!!W!!! Prod{acc_dtype=int64}.0\n",
        "!!!W!!! Prod{acc_dtype=int64}.0\n",
        "!!!W!!! Prod{acc_dtype=int64}.0\n"
       ]
      },
      {
       "output_type": "stream",
       "stream": "stdout",
       "text": [
        "Batch\n",
        "!!!W!!! Prod{acc_dtype=int64}.0\n",
        "!!!W!!! Prod{acc_dtype=int64}.0\n",
        "!!!W!!! Prod{acc_dtype=int64}.0\n",
        "!!!W!!! Prod{acc_dtype=int64}.0\n"
       ]
      },
      {
       "output_type": "stream",
       "stream": "stdout",
       "text": [
        "Batch\n",
        "!!!W!!! Prod{acc_dtype=int64}.0\n",
        "!!!W!!! Prod{acc_dtype=int64}.0\n",
        "!!!W!!! Prod{acc_dtype=int64}.0\n",
        "!!!W!!! Prod{acc_dtype=int64}.0\n"
       ]
      },
      {
       "output_type": "stream",
       "stream": "stdout",
       "text": [
        "Batch\n",
        "!!!W!!! Prod{acc_dtype=int64}.0\n",
        "!!!W!!! Prod{acc_dtype=int64}.0\n",
        "!!!W!!! Prod{acc_dtype=int64}.0\n",
        "!!!W!!! Prod{acc_dtype=int64}.0\n"
       ]
      },
      {
       "output_type": "stream",
       "stream": "stdout",
       "text": [
        "Batch\n",
        "!!!W!!! Prod{acc_dtype=int64}.0\n",
        "!!!W!!! Prod{acc_dtype=int64}.0\n",
        "!!!W!!! Prod{acc_dtype=int64}.0\n",
        "!!!W!!! Prod{acc_dtype=int64}.0\n"
       ]
      },
      {
       "output_type": "stream",
       "stream": "stdout",
       "text": [
        "Batch\n",
        "!!!W!!! Prod{acc_dtype=int64}.0\n",
        "!!!W!!! Prod{acc_dtype=int64}.0\n",
        "!!!W!!! Prod{acc_dtype=int64}.0\n",
        "!!!W!!! Prod{acc_dtype=int64}.0\n"
       ]
      },
      {
       "output_type": "stream",
       "stream": "stdout",
       "text": [
        "Batch\n",
        "!!!W!!! Prod{acc_dtype=int64}.0\n",
        "!!!W!!! Prod{acc_dtype=int64}.0\n",
        "!!!W!!! Prod{acc_dtype=int64}.0\n",
        "!!!W!!! Prod{acc_dtype=int64}.0\n"
       ]
      },
      {
       "output_type": "stream",
       "stream": "stdout",
       "text": [
        "Batch\n",
        "!!!W!!! Prod{acc_dtype=int64}.0\n"
       ]
      },
      {
       "output_type": "stream",
       "stream": "stdout",
       "text": [
        "!!!W!!! Prod{acc_dtype=int64}.0\n",
        "!!!W!!! Prod{acc_dtype=int64}.0\n",
        "!!!W!!! Prod{acc_dtype=int64}.0\n"
       ]
      },
      {
       "output_type": "stream",
       "stream": "stdout",
       "text": [
        "Batch\n",
        "!!!W!!! Prod{acc_dtype=int64}.0\n",
        "!!!W!!! Prod{acc_dtype=int64}.0\n",
        "!!!W!!! Prod{acc_dtype=int64}.0\n",
        "!!!W!!! Prod{acc_dtype=int64}.0\n"
       ]
      },
      {
       "output_type": "stream",
       "stream": "stdout",
       "text": [
        "Batch\n",
        "!!!W!!! Prod{acc_dtype=int64}.0\n",
        "!!!W!!! Prod{acc_dtype=int64}.0\n",
        "!!!W!!! Prod{acc_dtype=int64}.0\n",
        "!!!W!!! Prod{acc_dtype=int64}.0\n"
       ]
      },
      {
       "output_type": "stream",
       "stream": "stdout",
       "text": [
        "Batch\n",
        "!!!W!!! Prod{acc_dtype=int64}.0\n",
        "!!!W!!! Prod{acc_dtype=int64}.0\n",
        "!!!W!!! Prod{acc_dtype=int64}.0\n",
        "!!!W!!! Prod{acc_dtype=int64}.0\n"
       ]
      },
      {
       "output_type": "stream",
       "stream": "stdout",
       "text": [
        "Batch\n",
        "!!!W!!! Prod{acc_dtype=int64}.0\n",
        "!!!W!!! Prod{acc_dtype=int64}.0\n",
        "!!!W!!! Prod{acc_dtype=int64}.0\n",
        "!!!W!!! Prod{acc_dtype=int64}.0\n"
       ]
      },
      {
       "output_type": "stream",
       "stream": "stdout",
       "text": [
        "Batch\n",
        "!!!W!!! Prod{acc_dtype=int64}.0\n",
        "!!!W!!! Prod{acc_dtype=int64}.0\n",
        "!!!W!!! Prod{acc_dtype=int64}.0\n",
        "!!!W!!! Prod{acc_dtype=int64}.0\n"
       ]
      },
      {
       "output_type": "stream",
       "stream": "stdout",
       "text": [
        "Batch\n",
        "!!!W!!! Prod{acc_dtype=int64}.0\n",
        "!!!W!!! Prod{acc_dtype=int64}.0\n",
        "!!!W!!! Prod{acc_dtype=int64}.0\n",
        "!!!W!!! Prod{acc_dtype=int64}.0\n"
       ]
      },
      {
       "output_type": "stream",
       "stream": "stdout",
       "text": [
        "Batch\n",
        "!!!W!!! Prod{acc_dtype=int64}.0\n",
        "!!!W!!! Prod{acc_dtype=int64}.0\n",
        "!!!W!!! Prod{acc_dtype=int64}.0\n",
        "!!!W!!! Prod{acc_dtype=int64}.0\n"
       ]
      },
      {
       "output_type": "stream",
       "stream": "stdout",
       "text": [
        "Batch\n",
        "!!!W!!! Prod{acc_dtype=int64}.0\n",
        "!!!W!!! Prod{acc_dtype=int64}.0\n",
        "!!!W!!! Prod{acc_dtype=int64}.0\n",
        "!!!W!!! Prod{acc_dtype=int64}.0\n"
       ]
      },
      {
       "output_type": "stream",
       "stream": "stdout",
       "text": [
        "Batch\n",
        "!!!W!!! Prod{acc_dtype=int64}.0\n",
        "!!!W!!! Prod{acc_dtype=int64}.0\n",
        "!!!W!!! Prod{acc_dtype=int64}.0\n",
        "!!!W!!! Prod{acc_dtype=int64}.0\n"
       ]
      },
      {
       "output_type": "stream",
       "stream": "stdout",
       "text": [
        "Batch\n",
        "!!!W!!! Prod{acc_dtype=int64}.0\n",
        "!!!W!!! Prod{acc_dtype=int64}.0\n",
        "!!!W!!! Prod{acc_dtype=int64}.0\n",
        "!!!W!!! Prod{acc_dtype=int64}.0\n"
       ]
      },
      {
       "output_type": "stream",
       "stream": "stdout",
       "text": [
        "Batch\n",
        "!!!W!!! Prod{acc_dtype=int64}.0\n",
        "!!!W!!! Prod{acc_dtype=int64}.0\n",
        "!!!W!!! Prod{acc_dtype=int64}.0\n",
        "!!!W!!! Prod{acc_dtype=int64}.0\n"
       ]
      },
      {
       "output_type": "stream",
       "stream": "stdout",
       "text": [
        "Batch\n",
        "!!!W!!! Prod{acc_dtype=int64}.0\n",
        "!!!W!!! Prod{acc_dtype=int64}.0\n",
        "!!!W!!! Prod{acc_dtype=int64}.0\n",
        "!!!W!!! Prod{acc_dtype=int64}.0\n"
       ]
      },
      {
       "output_type": "stream",
       "stream": "stdout",
       "text": [
        "Batch\n",
        "!!!W!!! Prod{acc_dtype=int64}.0\n",
        "!!!W!!! Prod{acc_dtype=int64}.0\n",
        "!!!W!!! Prod{acc_dtype=int64}.0\n",
        "!!!W!!! Prod{acc_dtype=int64}.0\n"
       ]
      },
      {
       "output_type": "stream",
       "stream": "stdout",
       "text": [
        "Batch\n",
        "!!!W!!! Prod{acc_dtype=int64}.0\n",
        "!!!W!!! Prod{acc_dtype=int64}.0\n",
        "!!!W!!! Prod{acc_dtype=int64}.0\n",
        "!!!W!!! Prod{acc_dtype=int64}.0\n"
       ]
      },
      {
       "output_type": "stream",
       "stream": "stdout",
       "text": [
        "Batch\n",
        "!!!W!!! Prod{acc_dtype=int64}.0\n",
        "!!!W!!! Prod{acc_dtype=int64}.0\n",
        "!!!W!!! Prod{acc_dtype=int64}.0\n",
        "!!!W!!! Prod{acc_dtype=int64}.0\n"
       ]
      },
      {
       "output_type": "stream",
       "stream": "stdout",
       "text": [
        "Batch\n",
        "!!!W!!! Prod{acc_dtype=int64}.0\n",
        "!!!W!!! Prod{acc_dtype=int64}.0\n",
        "!!!W!!! Prod{acc_dtype=int64}.0\n",
        "!!!W!!! Prod{acc_dtype=int64}.0\n"
       ]
      },
      {
       "output_type": "stream",
       "stream": "stdout",
       "text": [
        "Batch\n",
        "!!!W!!! Prod{acc_dtype=int64}.0\n",
        "!!!W!!! Prod{acc_dtype=int64}.0\n",
        "!!!W!!! Prod{acc_dtype=int64}.0\n",
        "!!!W!!! Prod{acc_dtype=int64}.0\n"
       ]
      },
      {
       "output_type": "stream",
       "stream": "stdout",
       "text": [
        "Batch\n",
        "!!!W!!! Prod{acc_dtype=int64}.0\n",
        "!!!W!!! Prod{acc_dtype=int64}.0\n",
        "!!!W!!! Prod{acc_dtype=int64}.0\n",
        "!!!W!!! Prod{acc_dtype=int64}.0\n"
       ]
      },
      {
       "output_type": "stream",
       "stream": "stdout",
       "text": [
        "Batch\n",
        "!!!W!!! Prod{acc_dtype=int64}.0\n",
        "!!!W!!! Prod{acc_dtype=int64}.0\n",
        "!!!W!!! Prod{acc_dtype=int64}.0\n",
        "!!!W!!! Prod{acc_dtype=int64}.0\n"
       ]
      },
      {
       "output_type": "stream",
       "stream": "stdout",
       "text": [
        "Batch\n",
        "!!!W!!! Prod{acc_dtype=int64}.0\n",
        "!!!W!!! Prod{acc_dtype=int64}.0\n",
        "!!!W!!! Prod{acc_dtype=int64}.0\n",
        "!!!W!!! Prod{acc_dtype=int64}.0\n"
       ]
      },
      {
       "output_type": "stream",
       "stream": "stdout",
       "text": [
        "Batch\n",
        "!!!W!!! Prod{acc_dtype=int64}.0\n",
        "!!!W!!! Prod{acc_dtype=int64}.0\n",
        "!!!W!!! Prod{acc_dtype=int64}.0\n",
        "!!!W!!! Prod{acc_dtype=int64}.0\n"
       ]
      },
      {
       "output_type": "stream",
       "stream": "stdout",
       "text": [
        "Batch\n",
        "!!!W!!! Prod{acc_dtype=int64}.0\n",
        "!!!W!!! Prod{acc_dtype=int64}.0\n",
        "!!!W!!! Prod{acc_dtype=int64}.0\n",
        "!!!W!!! Prod{acc_dtype=int64}.0\n"
       ]
      },
      {
       "output_type": "stream",
       "stream": "stdout",
       "text": [
        "Batch\n",
        "!!!W!!! Prod{acc_dtype=int64}.0\n",
        "!!!W!!! Prod{acc_dtype=int64}.0\n",
        "!!!W!!! Prod{acc_dtype=int64}.0\n",
        "!!!W!!! Prod{acc_dtype=int64}.0\n"
       ]
      },
      {
       "output_type": "stream",
       "stream": "stdout",
       "text": [
        "Batch\n",
        "!!!W!!! Prod{acc_dtype=int64}.0\n",
        "!!!W!!! Prod{acc_dtype=int64}.0\n",
        "!!!W!!! Prod{acc_dtype=int64}.0\n",
        "!!!W!!! Prod{acc_dtype=int64}.0\n"
       ]
      },
      {
       "output_type": "stream",
       "stream": "stdout",
       "text": [
        "Batch\n",
        "!!!W!!! Prod{acc_dtype=int64}.0\n",
        "!!!W!!! Prod{acc_dtype=int64}.0\n",
        "!!!W!!! Prod{acc_dtype=int64}.0\n",
        "!!!W!!! Prod{acc_dtype=int64}.0\n"
       ]
      },
      {
       "output_type": "stream",
       "stream": "stdout",
       "text": [
        "Batch\n",
        "!!!W!!! Prod{acc_dtype=int64}.0\n",
        "!!!W!!! Prod{acc_dtype=int64}.0\n",
        "!!!W!!! Prod{acc_dtype=int64}.0\n",
        "!!!W!!! Prod{acc_dtype=int64}.0\n"
       ]
      },
      {
       "output_type": "stream",
       "stream": "stdout",
       "text": [
        "Batch\n",
        "!!!W!!! Prod{acc_dtype=int64}.0\n",
        "!!!W!!! Prod{acc_dtype=int64}.0\n",
        "!!!W!!! Prod{acc_dtype=int64}.0\n",
        "!!!W!!! Prod{acc_dtype=int64}.0\n"
       ]
      },
      {
       "output_type": "stream",
       "stream": "stdout",
       "text": [
        "Batch\n",
        "!!!W!!! Prod{acc_dtype=int64}.0\n",
        "!!!W!!! Prod{acc_dtype=int64}.0\n",
        "!!!W!!! Prod{acc_dtype=int64}.0\n",
        "!!!W!!! Prod{acc_dtype=int64}.0\n"
       ]
      },
      {
       "output_type": "stream",
       "stream": "stdout",
       "text": [
        "Batch\n",
        "!!!W!!! Prod{acc_dtype=int64}.0\n",
        "!!!W!!! Prod{acc_dtype=int64}.0\n",
        "!!!W!!! Prod{acc_dtype=int64}.0\n",
        "!!!W!!! Prod{acc_dtype=int64}.0\n"
       ]
      },
      {
       "output_type": "stream",
       "stream": "stdout",
       "text": [
        "Outputs (446, 4, 479, 1)\n",
        "Filter\n",
        "Filter\n",
        "Filter\n",
        "Filter\n"
       ]
      },
      {
       "output_type": "stream",
       "stream": "stdout",
       "text": [
        "[array([242,   0, 111,   0]), array([431,   0,  47,   0]), array([430,   0, 193,   0]), array([243,   0,   5,   0]), array([147,   0, 355,   0]), array([146,   0, 474,   0]), array([432,   0, 259,   0]), array([433,   0, 113,   0]), array([69,  0, 26,  0]), array([ 68,   0, 172,   0]), array([122,   0, 313,   0]), array([123,   0, 167,   0]), array([187,   0,  26,   0]), array([186,   0, 172,   0]), array([348,   0, 467,   0]), array([349,   0, 321,   0]), array([212,   0, 188,   0]), array([213,   0,  42,   0]), array([176,   0, 147,   0]), array([177,   0,   1,   0]), array([416,   0, 340,   0]), array([417,   0, 194,   0]), array([444,   0, 203,   0]), array([445,   0,  57,   0]), array([420,   0, 268,   0]), array([421,   0, 122,   0]), array([413,   0, 101,   0]), array([412,   0, 247,   0]), array([289,   0, 115,   0]), array([288,   0, 261,   0]), array([359,   0,  25,   0]), array([358,   0, 171,   0]), array([336,   0, 278,   0]), array([337,   0, 132,   0]), array([309,   0,  24,   0]), array([308,   0, 170,   0]), array([257,   0, 378,   0]), array([ 24,   0, 161,   0]), array([25,  0, 15,  0]), array([ 45,   0, 141,   0]), array([ 44,   0, 287,   0]), array([325,   0, 289,   0]), array([324,   0, 435,   0]), array([149,   0, 118,   0]), array([148,   0, 264,   0]), array([219,   0,  51,   0]), array([218,   0, 197,   0]), array([262,   0, 387,   0]), array([263,   0, 241,   0]), array([387,   0, 459,   0]), array([ 27,   0, 239,   0]), array([ 26,   0, 385,   0]), array([172,   0, 381,   0]), array([173,   0, 235,   0]), array([237,   0, 240,   0]), array([236,   0, 386,   0]), array([168,   0, 221,   0]), array([169,   0,  75,   0]), array([108,   0, 142,   0]), array([285,   0,  78,   0]), array([284,   0, 224,   0]), array([39,  0, 55,  0]), array([ 38,   0, 201,   0]), array([145,   0, 113,   0]), array([144,   0, 259,   0]), array([126,   0, 171,   0]), array([127,   0,  25,   0]), array([109,   0,  13,   0]), array([184,   0, 216,   0]), array([185,   0,  70,   0]), array([214,   0, 136,   0]), array([215,   0,  17,   0]), array([390,   0, 340,   0]), array([391,   0, 194,   0]), array([256,   0, 470,   0]), array([408,   0, 294,   0]), array([409,   0, 148,   0]), array([279,   0,   7,   0]), array([278,   0, 153,   0]), array([378,   0, 120,   0]), array([ 40,   0, 350,   0]), array([ 41,   0, 204,   0]), array([436,   0, 137,   0]), array([437,   0,   0,   0]), array([410,   0, 283,   0]), array([411,   0, 137,   0]), array([ 94,   0, 289,   0]), array([ 95,   0, 143,   0]), array([ 51,   0, 292,   0]), array([ 50,   0, 438,   0]), array([183,   0, 369,   0]), array([ 73,   0, 273,   0]), array([ 72,   0, 419,   0]), array([346,   0, 261,   0]), array([347,   0, 115,   0]), array([249,   0,  85,   0]), array([248,   0, 231,   0]), array([333,   0, 478,   0]), array([424,   0, 324,   0]), array([425,   0, 178,   0]), array([58,  1, 44,  0]), array([232,   1,  17,   0]), array([ 11,   1, 463,   0]), array([425,   1, 471,   0]), array([59,  1,  6,  0]), array([172,   1,  16,   0]), array([162,   1,   0,   0]), array([215,   1, 478,   0]), array([ 57,   1, 477,   0]), array([50,  1,  2,  0]), array([104,   1,   1,   0]), array([ 55,   1, 166,   0]), array([ 54,   1, 312,   0]), array([374,   1,   7,   0]), array([80,  1, 42,  0]), array([130,   1,  19,   0]), array([ 23,   1, 466,   0]), array([ 61,   1, 470,   0]), array([  1,   1, 473,   0]), array([435,   1, 467,   0]), array([180,   1,   1,   0]), array([179,   1, 457,   0]), array([153,   1, 467,   0]), array([ 53,   1, 357,   0]), array([346,   1,   2,   0]), array([206,   1,   2,   0]), array([279,   1, 477,   0]), array([152,   1, 436,   0]), array([ 89,   1, 451,   0]), array([191,   1, 453,   0]), array([20,  1,  2,  0]), array([355,   1, 478,   0]), array([187,   1, 385,   0]), array([347,   1, 388,   0]), array([121,   1, 310,   0]), array([120,   1, 456,   0]), array([256,   1,   5,   0]), array([224,   1,  78,   0]), array([419,   1, 466,   0]), array([82,  1,  3,  0]), array([198,   1,   8,   0]), array([40,  1,  2,  0]), array([163,   1, 473,   0]), array([131,   1, 474,   0]), array([276,   1,   1,   0]), array([391,   1, 468,   0]), array([ 33,   1, 333,   0]), array([313,   1, 441,   0]), array([56,  1,  0,  0]), array([270,   1,  11,   0]), array([295,   1, 478,   0]), array([ 32,   1, 476,   0]), array([212,   1,   4,   0]), array([251,   1, 429,   0]), array([ 52,   1, 476,   0]), array([365,   1, 474,   0]), array([86,  1,  1,  0]), array([38,  1,  7,  0]), array([64,  1,  0,  0]), array([287,   1, 471,   0]), array([184,   1,   0,   0]), array([361,   1, 472,   0]), array([309,   1, 399,   0]), array([109,   1, 476,   0]), array([280,   1,  39,   0]), array([444,   1,   6,   0]), array([278,   1,   0,   0]), array([273,   1, 478,   0]), array([ 6,  1, 10,  0]), array([436,   1, 440,   0]), array([437,   1, 294,   0]), array([ 10,   1, 477,   0]), array([292,   1,   2,   0]), array([117,   1, 452,   0]), array([ 97,   1, 415,   0]), array([403,   1, 312,   0]), array([402,   1, 458,   0]), array([360,   1, 476,   0]), array([298,   1,  13,   0]), array([362,   1, 371,   0]), array([363,   1, 225,   0]), array([81,  1,  4,  0]), array([228,   1,   0,   0]), array([289,   1, 387,   0]), array([274,   1,   1,   0]), array([ 22,   1, 478,   0]), array([443,   1, 465,   0]), array([70,  1,  7,  0]), array([ 16,   1, 369,   0]), array([ 17,   1, 223,   0]), array([415,   1, 473,   0]), array([319,   1, 467,   0]), array([66,  1, 20,  0]), array([  2,   1, 214,   0]), array([ 3,  1, 68,  0]), array([382,   1,   5,   0]), array([88,  1,  5,  0]), array([186,   1, 468,   0]), array([229,   1, 262,   0]), array([284,   1,   7,   0]), array([201,   2, 476,   0]), array([26,  2,  1,  0]), array([296,   2,   0,   0]), array([208,   2,  88,   0]), array([204,   2,   3,   0]), array([237,   2, 463,   0]), array([402,   2,   1,   0]), array([178,   2,  11,   0]), array([209,   2,  44,   0]), array([189,   2, 455,   0]), array([328,   2,   5,   0]), array([258,   2,  27,   0]), array([383,   2, 392,   0]), array([177,   2, 260,   0]), array([176,   2, 406,   0]), array([ 91,   2, 370,   0]), array([166,   2,   1,   0]), array([315,   2, 342,   0]), array([197,   2, 464,   0]), array([430,   2,   1,   0]), array([122,   2,   2,   0]), array([224,   2, 440,   0]), array([225,   2, 294,   0]), array([310,   2, 304,   0]), array([311,   2, 158,   0]), array([ 46,   2, 291,   0]), array([ 47,   2, 145,   0]), array([428,   2,   6,   0]), array([ 25,   2, 422,   0]), array([ 93,   2, 393,   0]), array([160,   2,   6,   0]), array([52,  2, 15,  0]), array([146,   2,   7,   0]), array([ 71,   2, 477,   0]), array([314,   2, 478,   0]), array([152,   2,   0,   0]), array([431,   2, 216,   0]), array([ 24,   2, 478,   0]), array([348,   2,   0,   0]), array([18,  2,  3,  0]), array([ 81,   2, 467,   0]), array([358,   2, 428,   0]), array([359,   2, 282,   0]), array([405,   2, 184,   0]), array([404,   2, 330,   0]), array([  4,   2, 354,   0]), array([  5,   2, 208,   0]), array([288,   2,   2,   0]), array([ 42,   2, 445,   0]), array([ 43,   2, 299,   0]), array([206,   2,   6,   0]), array([246,   2,  46,   0]), array([316,   2, 413,   0]), array([317,   2, 267,   0]), array([321,   2, 365,   0]), array([103,   2, 232,   0]), array([102,   2, 378,   0]), array([349,   2, 476,   0]), array([351,   2, 416,   0]), array([ 90,   2, 477,   0]), array([342,   2,  11,   0]), array([12,  2,  7,  0]), array([190,   2,   2,   0]), array([  7,   2, 473,   0]), array([343,   2, 343,   0]), array([398,   2,   6,   0]), array([196,   2, 429,   0]), array([188,   2, 478,   0]), array([78,  2, 40,  0]), array([382,   2, 478,   0]), array([429,   2, 371,   0]), array([227,   2, 414,   0]), array([36,  2,  0,  0]), array([142,   2,  16,   0]), array([341,   2, 475,   0]), array([219,   2, 171,   0]), array([218,   2, 317,   0]), array([320,   2, 478,   0]), array([34,  2,  0,  0]), array([393,   2, 467,   0]), array([80,  2,  5,  0]), array([385,   2, 154,   0]), array([384,   2, 300,   0]), array([ 92,   2, 467,   0]), array([389,   2, 282,   0]), array([388,   2, 428,   0]), array([272,   2,   8,   0]), array([179,   2,  51,   0]), array([175,   2, 465,   0]), array([137,   2, 470,   0]), array([96,  2,  6,  0]), array([115,   2, 340,   0]), array([360,   2, 103,   0]), array([294,   2,   0,   0]), array([256,   2, 282,   0]), array([257,   2, 136,   0]), array([114,   2, 477,   0]), array([20,  2,  6,  0]), array([375,   2, 258,   0]), array([374,   2, 404,   0]), array([171,   3, 343,   0]), array([388,   3,   1,   0]), array([170,   3, 471,   0]), array([233,   3, 477,   0]), array([28,  3,  8,  0]), array([0, 3, 1, 0]), array([ 47,   3, 437,   0]), array([ 64,   3, 419,   0]), array([ 65,   3, 273,   0]), array([195,   3, 160,   0]), array([194,   3, 306,   0]), array([18,  3,  1,  0]), array([196,   3,  71,   0]), array([380,   3,   1,   0]), array([440,   3,  13,   0]), array([384,   3,   8,   0]), array([164,   3,   4,   0]), array([238,   3,   4,   0]), array([223,   3, 476,   0]), array([234,   3,  20,   0]), array([216,   3,  63,   0]), array([106,   3,   2,   0]), array([201,   3, 233,   0]), array([200,   3, 379,   0]), array([314,   3,   1,   0]), array([389,   3,  10,   0]), array([275,   3, 464,   0]), array([199,   3, 460,   0]), array([197,   3,   6,   0]), array([262,   3,   8,   0]), array([386,   3,   0,   0]), array([271,   3, 459,   0]), array([10,  3,  3,  0]), array([42,  3,  1,  0]), array([ 73,   3, 473,   0]), array([144,   3,   0,   0]), array([438,   3,  50,   0]), array([ 92,   3, 434,   0]), array([ 93,   3, 288,   0]), array([ 69,   3, 478,   0]), array([84,  3,  1,  0]), array([192,   3, 108,   0]), array([426,   3,   0,   0]), array([127,   3, 361,   0]), array([48,  3,  1,  0]), array([359,   3, 379,   0]), array([315,   3,  26,   0]), array([270,   3, 412,   0]), array([155,   3, 477,   0]), array([286,   3,   0,   0]), array([306,   3,  52,   0]), array([174,   3,  51,   0]), array([439,   3, 221,   0]), array([ 46,   3, 469,   0]), array([136,   3,   0,   0]), array([ 72,   3, 114,   0]), array([318,   3,   5,   0]), array([264,   3,  10,   0]), array([304,   3,   3,   0]), array([396,   3,   6,   0]), array([56,  3,  1,  0]), array([114,   3,   4,   0]), array([  7,   3, 477,   0]), array([ 82,   3, 283,   0]), array([ 83,   3, 137,   0]), array([373,   3, 473,   0]), array([70,  3,  5,  0]), array([157,   3, 438,   0]), array([ 21,   3, 476,   0]), array([90,  3,  5,  0]), array([34,  3, 10,  0]), array([274,   3, 478,   0]), array([208,   3,   6,   0]), array([193,   3,   0,   0]), array([126,   3, 478,   0]), array([146,   3,   3,   0]), array([342,   3,   8,   0]), array([ 68,   3, 474,   0]), array([188,   3,   1,   0]), array([60,  3,  5,  0]), array([434,   3,   3,   0]), array([124,   3,   3,   0]), array([390,   3,  40,   0]), array([427,   3,  67,   0]), array([104,   3,  12,   0]), array([217,   3,   2,   0]), array([283,   3, 286,   0]), array([282,   3, 432,   0]), array([ 23,   3, 174,   0]), array([ 22,   3, 320,   0]), array([ 96,   3, 126,   0]), array([151,   3, 461,   0]), array([122,   3,  18,   0]), array([383,   3, 456,   0]), array([222,   3, 478,   0]), array([225,   3, 475,   0]), array([128,   3,   1,   0]), array([258,   3,  12,   0]), array([227,   3, 450,   0]), array([ 49,   3, 227,   0])]\n",
        "max units\n",
        "[array([0, 1, 2, 3]), array([4, 5, 6, 7]), array([ 8,  9, 10, 11]), array([12, 13, 14, 15]), array([16, 17, 18, 19]), array([20, 21, 22, 23]), array([24, 25, 26, 27]), array([28, 29, 30, 31]), array([32, 33, 34, 35]), array([36, 37, 38, 39]), array([40, 41, 42, 43]), array([44, 45, 46, 47]), array([48, 49, 50, 51]), array([52, 53, 54, 55]), array([56, 57, 58, 59]), array([60, 61, 62, 63]), array([64, 65, 66, 67]), array([68, 69, 70, 71]), array([72, 73, 74, 75]), array([76, 77, 78, 79]), array([80, 81, 82, 83]), array([84, 85, 86, 87]), array([88, 89, 90, 91]), array([92, 93, 94, 95]), array([96, 97, 98, 99]), array([100, 101, 102, 103]), array([104, 105, 106, 107]), array([108, 109, 110, 111]), array([112, 113, 114, 115]), array([116, 117, 118, 119]), array([120, 121, 122, 123]), array([124, 125, 126, 127]), array([128, 129, 130, 131]), array([132, 133, 134, 135]), array([136, 137, 138, 139]), array([140, 141, 142, 143]), array([144, 145, 146, 147]), array([148, 149, 150, 151]), array([152, 153, 154, 155]), array([156, 157, 158, 159]), array([160, 161, 162]), array([163, 164, 165]), array([166, 167, 168]), array([169, 170, 171]), array([172, 173, 174]), array([175, 176, 177]), array([178, 179, 180]), array([181, 182, 183]), array([184, 185, 186]), array([187, 188, 189]), array([190, 191, 192]), array([193, 194, 195]), array([196, 197, 198]), array([199, 200, 201]), array([202, 203, 204]), array([205, 206, 207]), array([208, 209, 210]), array([211, 212, 213]), array([214, 215, 216]), array([217, 218, 219]), array([220, 221, 222]), array([223, 224, 225]), array([226, 227, 228]), array([229, 230, 231]), array([232, 233, 234]), array([235, 236, 237]), array([238, 239, 240]), array([241, 242, 243]), array([244, 245, 246]), array([247, 248, 249]), array([250, 251, 252]), array([253, 254, 255]), array([256, 257, 258]), array([259, 260, 261]), array([262, 263, 264]), array([265, 266, 267]), array([268, 269, 270]), array([271, 272, 273]), array([274, 275, 276]), array([277, 278, 279]), array([280, 281, 282]), array([283, 284, 285]), array([286, 287, 288]), array([289, 290, 291]), array([292, 293, 294]), array([295, 296, 297]), array([298, 299, 300]), array([301, 302, 303]), array([304, 305, 306]), array([307, 308, 309]), array([310, 311, 312]), array([313, 314, 315]), array([316, 317, 318]), array([319, 320, 321]), array([322, 323, 324]), array([325, 326, 327]), array([328, 329, 330]), array([331, 332, 333]), array([334, 335, 336]), array([337, 338, 339]), array([340, 341, 342]), array([343, 344, 345]), array([346, 347, 348]), array([349, 350, 351]), array([352, 353, 354]), array([355, 356, 357]), array([358, 359, 360]), array([361, 362, 363]), array([364, 365, 366]), array([367, 368, 369]), array([370, 371, 372]), array([373, 374, 375]), array([376, 377, 378]), array([379, 380, 381]), array([382, 383, 384]), array([385, 386, 387]), array([388, 389, 390]), array([391, 392, 393]), array([394, 395, 396]), array([397, 398, 399])]\n",
        "Batch\n",
        "!!!W!!! Prod{acc_dtype=int64}.0\n",
        "!!!W!!! Prod{acc_dtype=int64}.0\n",
        "!!!W!!! Prod{acc_dtype=int64}.0\n",
        "!!!W!!! Prod{acc_dtype=int64}.0\n"
       ]
      },
      {
       "output_type": "stream",
       "stream": "stdout",
       "text": [
        "Batch\n",
        "!!!W!!! Prod{acc_dtype=int64}.0\n",
        "!!!W!!! Prod{acc_dtype=int64}.0\n",
        "!!!W!!! Prod{acc_dtype=int64}.0\n",
        "!!!W!!! Prod{acc_dtype=int64}.0\n"
       ]
      },
      {
       "output_type": "stream",
       "stream": "stdout",
       "text": [
        "Batch\n",
        "!!!W!!! Prod{acc_dtype=int64}.0\n",
        "!!!W!!! Prod{acc_dtype=int64}.0\n",
        "!!!W!!! Prod{acc_dtype=int64}.0\n",
        "!!!W!!! Prod{acc_dtype=int64}.0\n"
       ]
      },
      {
       "output_type": "stream",
       "stream": "stdout",
       "text": [
        "Batch\n",
        "!!!W!!! Prod{acc_dtype=int64}.0\n",
        "!!!W!!! Prod{acc_dtype=int64}.0\n",
        "!!!W!!! Prod{acc_dtype=int64}.0\n",
        "!!!W!!! Prod{acc_dtype=int64}.0\n"
       ]
      },
      {
       "output_type": "stream",
       "stream": "stdout",
       "text": [
        "Batch\n",
        "!!!W!!! Prod{acc_dtype=int64}.0\n",
        "!!!W!!! Prod{acc_dtype=int64}.0\n",
        "!!!W!!! Prod{acc_dtype=int64}.0\n",
        "!!!W!!! Prod{acc_dtype=int64}.0\n"
       ]
      },
      {
       "output_type": "stream",
       "stream": "stdout",
       "text": [
        "Batch\n",
        "!!!W!!! Prod{acc_dtype=int64}.0\n",
        "!!!W!!! Prod{acc_dtype=int64}.0\n",
        "!!!W!!! Prod{acc_dtype=int64}.0\n",
        "!!!W!!! Prod{acc_dtype=int64}.0\n"
       ]
      },
      {
       "output_type": "stream",
       "stream": "stdout",
       "text": [
        "Batch\n",
        "!!!W!!! Prod{acc_dtype=int64}.0\n",
        "!!!W!!! Prod{acc_dtype=int64}.0\n",
        "!!!W!!! Prod{acc_dtype=int64}.0\n",
        "!!!W!!! Prod{acc_dtype=int64}.0\n"
       ]
      },
      {
       "output_type": "stream",
       "stream": "stdout",
       "text": [
        "Batch\n",
        "!!!W!!! Prod{acc_dtype=int64}.0\n",
        "!!!W!!! Prod{acc_dtype=int64}.0\n",
        "!!!W!!! Prod{acc_dtype=int64}.0\n",
        "!!!W!!! Prod{acc_dtype=int64}.0\n"
       ]
      },
      {
       "output_type": "stream",
       "stream": "stdout",
       "text": [
        "Batch\n",
        "!!!W!!! Prod{acc_dtype=int64}.0\n",
        "!!!W!!! Prod{acc_dtype=int64}.0\n",
        "!!!W!!! Prod{acc_dtype=int64}.0\n",
        "!!!W!!! Prod{acc_dtype=int64}.0\n"
       ]
      },
      {
       "output_type": "stream",
       "stream": "stdout",
       "text": [
        "Batch\n",
        "!!!W!!! Prod{acc_dtype=int64}.0\n",
        "!!!W!!! Prod{acc_dtype=int64}.0\n",
        "!!!W!!! Prod{acc_dtype=int64}.0\n",
        "!!!W!!! Prod{acc_dtype=int64}.0\n"
       ]
      },
      {
       "output_type": "stream",
       "stream": "stdout",
       "text": [
        "Batch\n",
        "!!!W!!! Prod{acc_dtype=int64}.0\n",
        "!!!W!!! Prod{acc_dtype=int64}.0\n",
        "!!!W!!! Prod{acc_dtype=int64}.0\n",
        "!!!W!!! Prod{acc_dtype=int64}.0\n"
       ]
      },
      {
       "output_type": "stream",
       "stream": "stdout",
       "text": [
        "Batch\n",
        "!!!W!!! Prod{acc_dtype=int64}.0\n",
        "!!!W!!! Prod{acc_dtype=int64}.0\n",
        "!!!W!!! Prod{acc_dtype=int64}.0\n",
        "!!!W!!! Prod{acc_dtype=int64}.0\n"
       ]
      },
      {
       "output_type": "stream",
       "stream": "stdout",
       "text": [
        "Batch\n",
        "!!!W!!! Prod{acc_dtype=int64}.0\n",
        "!!!W!!! Prod{acc_dtype=int64}.0\n",
        "!!!W!!! Prod{acc_dtype=int64}.0\n",
        "!!!W!!! Prod{acc_dtype=int64}.0\n"
       ]
      },
      {
       "output_type": "stream",
       "stream": "stdout",
       "text": [
        "Batch\n",
        "!!!W!!! Prod{acc_dtype=int64}.0\n",
        "!!!W!!! Prod{acc_dtype=int64}.0\n",
        "!!!W!!! Prod{acc_dtype=int64}.0\n",
        "!!!W!!! Prod{acc_dtype=int64}.0\n"
       ]
      },
      {
       "output_type": "stream",
       "stream": "stdout",
       "text": [
        "Batch\n",
        "!!!W!!! Prod{acc_dtype=int64}.0\n",
        "!!!W!!! Prod{acc_dtype=int64}.0\n",
        "!!!W!!! Prod{acc_dtype=int64}.0\n",
        "!!!W!!! Prod{acc_dtype=int64}.0\n"
       ]
      },
      {
       "output_type": "stream",
       "stream": "stdout",
       "text": [
        "Batch\n",
        "!!!W!!! Prod{acc_dtype=int64}.0\n",
        "!!!W!!! Prod{acc_dtype=int64}.0\n",
        "!!!W!!! Prod{acc_dtype=int64}.0\n",
        "!!!W!!! Prod{acc_dtype=int64}.0\n"
       ]
      },
      {
       "output_type": "stream",
       "stream": "stdout",
       "text": [
        "Batch\n",
        "!!!W!!! Prod{acc_dtype=int64}.0\n",
        "!!!W!!! Prod{acc_dtype=int64}.0\n",
        "!!!W!!! Prod{acc_dtype=int64}.0\n",
        "!!!W!!! Prod{acc_dtype=int64}.0\n"
       ]
      },
      {
       "output_type": "stream",
       "stream": "stdout",
       "text": [
        "Batch\n",
        "!!!W!!! Prod{acc_dtype=int64}.0\n",
        "!!!W!!! Prod{acc_dtype=int64}.0\n",
        "!!!W!!! Prod{acc_dtype=int64}.0\n",
        "!!!W!!! Prod{acc_dtype=int64}.0\n"
       ]
      },
      {
       "output_type": "stream",
       "stream": "stdout",
       "text": [
        "Batch\n",
        "!!!W!!! Prod{acc_dtype=int64}.0\n",
        "!!!W!!! Prod{acc_dtype=int64}.0\n",
        "!!!W!!! Prod{acc_dtype=int64}.0\n",
        "!!!W!!! Prod{acc_dtype=int64}.0\n"
       ]
      },
      {
       "output_type": "stream",
       "stream": "stdout",
       "text": [
        "Batch\n",
        "!!!W!!! Prod{acc_dtype=int64}.0\n",
        "!!!W!!! Prod{acc_dtype=int64}.0\n",
        "!!!W!!! Prod{acc_dtype=int64}.0\n",
        "!!!W!!! Prod{acc_dtype=int64}.0\n"
       ]
      },
      {
       "output_type": "stream",
       "stream": "stdout",
       "text": [
        "Batch\n",
        "!!!W!!! Prod{acc_dtype=int64}.0\n",
        "!!!W!!! Prod{acc_dtype=int64}.0\n",
        "!!!W!!! Prod{acc_dtype=int64}.0\n",
        "!!!W!!! Prod{acc_dtype=int64}.0\n"
       ]
      },
      {
       "output_type": "stream",
       "stream": "stdout",
       "text": [
        "Batch\n",
        "!!!W!!! Prod{acc_dtype=int64}.0\n",
        "!!!W!!! Prod{acc_dtype=int64}.0\n",
        "!!!W!!! Prod{acc_dtype=int64}.0\n",
        "!!!W!!! Prod{acc_dtype=int64}.0\n"
       ]
      },
      {
       "output_type": "stream",
       "stream": "stdout",
       "text": [
        "Batch\n",
        "!!!W!!! Prod{acc_dtype=int64}.0\n",
        "!!!W!!! Prod{acc_dtype=int64}.0\n",
        "!!!W!!! Prod{acc_dtype=int64}.0\n",
        "!!!W!!! Prod{acc_dtype=int64}.0\n"
       ]
      },
      {
       "output_type": "stream",
       "stream": "stdout",
       "text": [
        "Batch\n",
        "!!!W!!! Prod{acc_dtype=int64}.0\n",
        "!!!W!!! Prod{acc_dtype=int64}.0\n",
        "!!!W!!! Prod{acc_dtype=int64}.0\n",
        "!!!W!!! Prod{acc_dtype=int64}.0\n"
       ]
      },
      {
       "output_type": "stream",
       "stream": "stdout",
       "text": [
        "Batch\n",
        "!!!W!!! Prod{acc_dtype=int64}.0\n",
        "!!!W!!! Prod{acc_dtype=int64}.0\n",
        "!!!W!!! Prod{acc_dtype=int64}.0\n",
        "!!!W!!! Prod{acc_dtype=int64}.0\n"
       ]
      },
      {
       "output_type": "stream",
       "stream": "stdout",
       "text": [
        "Batch\n",
        "!!!W!!! Prod{acc_dtype=int64}.0\n",
        "!!!W!!! Prod{acc_dtype=int64}.0\n",
        "!!!W!!! Prod{acc_dtype=int64}.0\n",
        "!!!W!!! Prod{acc_dtype=int64}.0\n"
       ]
      },
      {
       "output_type": "stream",
       "stream": "stdout",
       "text": [
        "Batch\n",
        "!!!W!!! Prod{acc_dtype=int64}.0\n",
        "!!!W!!! Prod{acc_dtype=int64}.0\n",
        "!!!W!!! Prod{acc_dtype=int64}.0\n",
        "!!!W!!! Prod{acc_dtype=int64}.0\n"
       ]
      },
      {
       "output_type": "stream",
       "stream": "stdout",
       "text": [
        "Batch\n",
        "!!!W!!! Prod{acc_dtype=int64}.0\n",
        "!!!W!!! Prod{acc_dtype=int64}.0\n",
        "!!!W!!! Prod{acc_dtype=int64}.0\n",
        "!!!W!!! Prod{acc_dtype=int64}.0\n"
       ]
      },
      {
       "output_type": "stream",
       "stream": "stdout",
       "text": [
        "Batch\n",
        "!!!W!!! Prod{acc_dtype=int64}.0\n",
        "!!!W!!! Prod{acc_dtype=int64}.0\n",
        "!!!W!!! Prod{acc_dtype=int64}.0\n",
        "!!!W!!! Prod{acc_dtype=int64}.0\n"
       ]
      },
      {
       "output_type": "stream",
       "stream": "stdout",
       "text": [
        "Batch\n",
        "!!!W!!! Prod{acc_dtype=int64}.0\n",
        "!!!W!!! Prod{acc_dtype=int64}.0\n",
        "!!!W!!! Prod{acc_dtype=int64}.0\n",
        "!!!W!!! Prod{acc_dtype=int64}.0\n"
       ]
      },
      {
       "output_type": "stream",
       "stream": "stdout",
       "text": [
        "Batch\n",
        "!!!W!!! Prod{acc_dtype=int64}.0\n",
        "!!!W!!! Prod{acc_dtype=int64}.0\n",
        "!!!W!!! Prod{acc_dtype=int64}.0\n",
        "!!!W!!! Prod{acc_dtype=int64}.0\n"
       ]
      },
      {
       "output_type": "stream",
       "stream": "stdout",
       "text": [
        "Batch\n",
        "!!!W!!! Prod{acc_dtype=int64}.0\n",
        "!!!W!!! Prod{acc_dtype=int64}.0\n",
        "!!!W!!! Prod{acc_dtype=int64}.0\n",
        "!!!W!!! Prod{acc_dtype=int64}.0\n"
       ]
      },
      {
       "output_type": "stream",
       "stream": "stdout",
       "text": [
        "Batch\n",
        "!!!W!!! Prod{acc_dtype=int64}.0\n",
        "!!!W!!! Prod{acc_dtype=int64}.0\n",
        "!!!W!!! Prod{acc_dtype=int64}.0\n",
        "!!!W!!! Prod{acc_dtype=int64}.0\n"
       ]
      },
      {
       "output_type": "stream",
       "stream": "stdout",
       "text": [
        "Batch\n",
        "!!!W!!! Prod{acc_dtype=int64}.0\n",
        "!!!W!!! Prod{acc_dtype=int64}.0\n",
        "!!!W!!! Prod{acc_dtype=int64}.0\n",
        "!!!W!!! Prod{acc_dtype=int64}.0\n"
       ]
      },
      {
       "output_type": "stream",
       "stream": "stdout",
       "text": [
        "Batch\n",
        "!!!W!!! Prod{acc_dtype=int64}.0\n",
        "!!!W!!! Prod{acc_dtype=int64}.0\n",
        "!!!W!!! Prod{acc_dtype=int64}.0\n",
        "!!!W!!! Prod{acc_dtype=int64}.0\n"
       ]
      },
      {
       "output_type": "stream",
       "stream": "stdout",
       "text": [
        "Batch\n",
        "!!!W!!! Prod{acc_dtype=int64}.0\n",
        "!!!W!!! Prod{acc_dtype=int64}.0\n",
        "!!!W!!! Prod{acc_dtype=int64}.0\n",
        "!!!W!!! Prod{acc_dtype=int64}.0\n"
       ]
      },
      {
       "output_type": "stream",
       "stream": "stdout",
       "text": [
        "Batch\n",
        "!!!W!!! Prod{acc_dtype=int64}.0\n",
        "!!!W!!! Prod{acc_dtype=int64}.0\n",
        "!!!W!!! Prod{acc_dtype=int64}.0\n",
        "!!!W!!! Prod{acc_dtype=int64}.0\n"
       ]
      },
      {
       "output_type": "stream",
       "stream": "stdout",
       "text": [
        "Batch\n",
        "!!!W!!! Prod{acc_dtype=int64}.0\n",
        "!!!W!!! Prod{acc_dtype=int64}.0\n",
        "!!!W!!! Prod{acc_dtype=int64}.0\n",
        "!!!W!!! Prod{acc_dtype=int64}.0\n"
       ]
      },
      {
       "output_type": "stream",
       "stream": "stdout",
       "text": [
        "Batch\n",
        "!!!W!!! Prod{acc_dtype=int64}.0\n"
       ]
      },
      {
       "output_type": "stream",
       "stream": "stdout",
       "text": [
        "!!!W!!! Prod{acc_dtype=int64}.0\n",
        "!!!W!!! Prod{acc_dtype=int64}.0\n",
        "!!!W!!! Prod{acc_dtype=int64}.0\n"
       ]
      },
      {
       "output_type": "stream",
       "stream": "stdout",
       "text": [
        "Batch\n",
        "!!!W!!! Prod{acc_dtype=int64}.0\n",
        "!!!W!!! Prod{acc_dtype=int64}.0\n",
        "!!!W!!! Prod{acc_dtype=int64}.0\n",
        "!!!W!!! Prod{acc_dtype=int64}.0\n"
       ]
      },
      {
       "output_type": "stream",
       "stream": "stdout",
       "text": [
        "Batch\n",
        "!!!W!!! Prod{acc_dtype=int64}.0\n",
        "!!!W!!! Prod{acc_dtype=int64}.0\n",
        "!!!W!!! Prod{acc_dtype=int64}.0\n",
        "!!!W!!! Prod{acc_dtype=int64}.0\n"
       ]
      },
      {
       "output_type": "stream",
       "stream": "stdout",
       "text": [
        "Batch\n",
        "!!!W!!! Prod{acc_dtype=int64}.0\n",
        "!!!W!!! Prod{acc_dtype=int64}.0\n",
        "!!!W!!! Prod{acc_dtype=int64}.0\n",
        "!!!W!!! Prod{acc_dtype=int64}.0\n"
       ]
      },
      {
       "output_type": "stream",
       "stream": "stdout",
       "text": [
        "Batch\n",
        "!!!W!!! Prod{acc_dtype=int64}.0\n",
        "!!!W!!! Prod{acc_dtype=int64}.0\n",
        "!!!W!!! Prod{acc_dtype=int64}.0\n",
        "!!!W!!! Prod{acc_dtype=int64}.0\n"
       ]
      },
      {
       "output_type": "stream",
       "stream": "stdout",
       "text": [
        "Batch\n",
        "!!!W!!! Prod{acc_dtype=int64}.0\n",
        "!!!W!!! Prod{acc_dtype=int64}.0\n",
        "!!!W!!! Prod{acc_dtype=int64}.0\n",
        "!!!W!!! Prod{acc_dtype=int64}.0\n"
       ]
      },
      {
       "output_type": "stream",
       "stream": "stdout",
       "text": [
        "Batch\n",
        "!!!W!!! Prod{acc_dtype=int64}.0\n",
        "!!!W!!! Prod{acc_dtype=int64}.0\n",
        "!!!W!!! Prod{acc_dtype=int64}.0\n",
        "!!!W!!! Prod{acc_dtype=int64}.0\n"
       ]
      },
      {
       "output_type": "stream",
       "stream": "stdout",
       "text": [
        "Batch\n",
        "!!!W!!! Prod{acc_dtype=int64}.0\n",
        "!!!W!!! Prod{acc_dtype=int64}.0\n",
        "!!!W!!! Prod{acc_dtype=int64}.0\n",
        "!!!W!!! Prod{acc_dtype=int64}.0\n"
       ]
      },
      {
       "output_type": "stream",
       "stream": "stdout",
       "text": [
        "Batch\n",
        "!!!W!!! Prod{acc_dtype=int64}.0\n",
        "!!!W!!! Prod{acc_dtype=int64}.0\n",
        "!!!W!!! Prod{acc_dtype=int64}.0\n",
        "!!!W!!! Prod{acc_dtype=int64}.0\n"
       ]
      },
      {
       "output_type": "stream",
       "stream": "stdout",
       "text": [
        "Batch\n",
        "!!!W!!! Prod{acc_dtype=int64}.0\n",
        "!!!W!!! Prod{acc_dtype=int64}.0\n",
        "!!!W!!! Prod{acc_dtype=int64}.0\n",
        "!!!W!!! Prod{acc_dtype=int64}.0\n"
       ]
      },
      {
       "output_type": "stream",
       "stream": "stdout",
       "text": [
        "Batch\n",
        "!!!W!!! Prod{acc_dtype=int64}.0\n",
        "!!!W!!! Prod{acc_dtype=int64}.0\n",
        "!!!W!!! Prod{acc_dtype=int64}.0\n",
        "!!!W!!! Prod{acc_dtype=int64}.0\n"
       ]
      },
      {
       "output_type": "stream",
       "stream": "stdout",
       "text": [
        "Batch\n",
        "!!!W!!! Prod{acc_dtype=int64}.0\n",
        "!!!W!!! Prod{acc_dtype=int64}.0\n",
        "!!!W!!! Prod{acc_dtype=int64}.0\n",
        "!!!W!!! Prod{acc_dtype=int64}.0\n"
       ]
      },
      {
       "output_type": "stream",
       "stream": "stdout",
       "text": [
        "Batch\n",
        "!!!W!!! Prod{acc_dtype=int64}.0\n",
        "!!!W!!! Prod{acc_dtype=int64}.0\n",
        "!!!W!!! Prod{acc_dtype=int64}.0\n",
        "!!!W!!! Prod{acc_dtype=int64}.0\n"
       ]
      },
      {
       "output_type": "stream",
       "stream": "stdout",
       "text": [
        "Batch\n",
        "!!!W!!! Prod{acc_dtype=int64}.0\n",
        "!!!W!!! Prod{acc_dtype=int64}.0\n",
        "!!!W!!! Prod{acc_dtype=int64}.0\n",
        "!!!W!!! Prod{acc_dtype=int64}.0\n"
       ]
      },
      {
       "output_type": "stream",
       "stream": "stdout",
       "text": [
        "Batch\n",
        "!!!W!!! Prod{acc_dtype=int64}.0\n",
        "!!!W!!! Prod{acc_dtype=int64}.0\n",
        "!!!W!!! Prod{acc_dtype=int64}.0\n",
        "!!!W!!! Prod{acc_dtype=int64}.0\n"
       ]
      },
      {
       "output_type": "stream",
       "stream": "stdout",
       "text": [
        "Batch\n",
        "!!!W!!! Prod{acc_dtype=int64}.0\n",
        "!!!W!!! Prod{acc_dtype=int64}.0\n",
        "!!!W!!! Prod{acc_dtype=int64}.0\n",
        "!!!W!!! Prod{acc_dtype=int64}.0\n"
       ]
      },
      {
       "output_type": "stream",
       "stream": "stdout",
       "text": [
        "Batch\n",
        "!!!W!!! Prod{acc_dtype=int64}.0\n",
        "!!!W!!! Prod{acc_dtype=int64}.0\n",
        "!!!W!!! Prod{acc_dtype=int64}.0\n",
        "!!!W!!! Prod{acc_dtype=int64}.0\n"
       ]
      },
      {
       "output_type": "stream",
       "stream": "stdout",
       "text": [
        "Batch\n",
        "!!!W!!! Prod{acc_dtype=int64}.0\n",
        "!!!W!!! Prod{acc_dtype=int64}.0\n",
        "!!!W!!! Prod{acc_dtype=int64}.0\n",
        "!!!W!!! Prod{acc_dtype=int64}.0\n"
       ]
      },
      {
       "output_type": "stream",
       "stream": "stdout",
       "text": [
        "Batch\n",
        "!!!W!!! Prod{acc_dtype=int64}.0\n",
        "!!!W!!! Prod{acc_dtype=int64}.0\n",
        "!!!W!!! Prod{acc_dtype=int64}.0\n",
        "!!!W!!! Prod{acc_dtype=int64}.0\n"
       ]
      },
      {
       "output_type": "stream",
       "stream": "stdout",
       "text": [
        "Batch\n",
        "!!!W!!! Prod{acc_dtype=int64}.0\n",
        "!!!W!!! Prod{acc_dtype=int64}.0\n",
        "!!!W!!! Prod{acc_dtype=int64}.0\n",
        "!!!W!!! Prod{acc_dtype=int64}.0\n"
       ]
      },
      {
       "output_type": "stream",
       "stream": "stdout",
       "text": [
        "Batch\n",
        "!!!W!!! Prod{acc_dtype=int64}.0\n",
        "!!!W!!! Prod{acc_dtype=int64}.0\n",
        "!!!W!!! Prod{acc_dtype=int64}.0\n",
        "!!!W!!! Prod{acc_dtype=int64}.0\n"
       ]
      },
      {
       "output_type": "stream",
       "stream": "stdout",
       "text": [
        "Batch\n",
        "!!!W!!! Prod{acc_dtype=int64}.0\n",
        "!!!W!!! Prod{acc_dtype=int64}.0\n",
        "!!!W!!! Prod{acc_dtype=int64}.0\n",
        "!!!W!!! Prod{acc_dtype=int64}.0\n"
       ]
      },
      {
       "output_type": "stream",
       "stream": "stdout",
       "text": [
        "Batch\n",
        "!!!W!!! Prod{acc_dtype=int64}.0\n",
        "!!!W!!! Prod{acc_dtype=int64}.0\n",
        "!!!W!!! Prod{acc_dtype=int64}.0\n",
        "!!!W!!! Prod{acc_dtype=int64}.0\n"
       ]
      },
      {
       "output_type": "stream",
       "stream": "stdout",
       "text": [
        "Batch\n",
        "!!!W!!! Prod{acc_dtype=int64}.0\n",
        "!!!W!!! Prod{acc_dtype=int64}.0\n",
        "!!!W!!! Prod{acc_dtype=int64}.0\n",
        "!!!W!!! Prod{acc_dtype=int64}.0\n"
       ]
      },
      {
       "output_type": "stream",
       "stream": "stdout",
       "text": [
        "Batch\n",
        "!!!W!!! Prod{acc_dtype=int64}.0\n",
        "!!!W!!! Prod{acc_dtype=int64}.0\n",
        "!!!W!!! Prod{acc_dtype=int64}.0\n",
        "!!!W!!! Prod{acc_dtype=int64}.0\n"
       ]
      },
      {
       "output_type": "stream",
       "stream": "stdout",
       "text": [
        "Batch\n",
        "!!!W!!! Prod{acc_dtype=int64}.0\n",
        "!!!W!!! Prod{acc_dtype=int64}.0\n",
        "!!!W!!! Prod{acc_dtype=int64}.0\n",
        "!!!W!!! Prod{acc_dtype=int64}.0\n"
       ]
      },
      {
       "output_type": "stream",
       "stream": "stdout",
       "text": [
        "Batch\n",
        "!!!W!!! Prod{acc_dtype=int64}.0\n",
        "!!!W!!! Prod{acc_dtype=int64}.0\n",
        "!!!W!!! Prod{acc_dtype=int64}.0\n",
        "!!!W!!! Prod{acc_dtype=int64}.0\n"
       ]
      },
      {
       "output_type": "stream",
       "stream": "stdout",
       "text": [
        "Batch\n",
        "!!!W!!! Prod{acc_dtype=int64}.0\n",
        "!!!W!!! Prod{acc_dtype=int64}.0\n",
        "!!!W!!! Prod{acc_dtype=int64}.0\n",
        "!!!W!!! Prod{acc_dtype=int64}.0\n"
       ]
      },
      {
       "output_type": "stream",
       "stream": "stdout",
       "text": [
        "Batch\n",
        "!!!W!!! Prod{acc_dtype=int64}.0\n",
        "!!!W!!! Prod{acc_dtype=int64}.0\n",
        "!!!W!!! Prod{acc_dtype=int64}.0\n",
        "!!!W!!! Prod{acc_dtype=int64}.0\n"
       ]
      },
      {
       "output_type": "stream",
       "stream": "stdout",
       "text": [
        "Batch\n",
        "!!!W!!! Prod{acc_dtype=int64}.0\n",
        "!!!W!!! Prod{acc_dtype=int64}.0\n",
        "!!!W!!! Prod{acc_dtype=int64}.0\n",
        "!!!W!!! Prod{acc_dtype=int64}.0\n"
       ]
      },
      {
       "output_type": "stream",
       "stream": "stdout",
       "text": [
        "Batch\n",
        "!!!W!!! Prod{acc_dtype=int64}.0\n",
        "!!!W!!! Prod{acc_dtype=int64}.0\n",
        "!!!W!!! Prod{acc_dtype=int64}.0\n",
        "!!!W!!! Prod{acc_dtype=int64}.0\n"
       ]
      },
      {
       "output_type": "stream",
       "stream": "stdout",
       "text": [
        "Batch\n",
        "!!!W!!! Prod{acc_dtype=int64}.0\n",
        "!!!W!!! Prod{acc_dtype=int64}.0\n",
        "!!!W!!! Prod{acc_dtype=int64}.0\n",
        "!!!W!!! Prod{acc_dtype=int64}.0\n"
       ]
      },
      {
       "output_type": "stream",
       "stream": "stdout",
       "text": [
        "Batch\n",
        "!!!W!!! Prod{acc_dtype=int64}.0\n",
        "!!!W!!! Prod{acc_dtype=int64}.0\n",
        "!!!W!!! Prod{acc_dtype=int64}.0\n",
        "!!!W!!! Prod{acc_dtype=int64}.0\n"
       ]
      },
      {
       "output_type": "stream",
       "stream": "stdout",
       "text": [
        "Batch\n",
        "!!!W!!! Prod{acc_dtype=int64}.0\n",
        "!!!W!!! Prod{acc_dtype=int64}.0\n",
        "!!!W!!! Prod{acc_dtype=int64}.0\n",
        "!!!W!!! Prod{acc_dtype=int64}.0\n"
       ]
      },
      {
       "output_type": "stream",
       "stream": "stdout",
       "text": [
        "Batch\n",
        "!!!W!!! Prod{acc_dtype=int64}.0\n",
        "!!!W!!! Prod{acc_dtype=int64}.0\n",
        "!!!W!!! Prod{acc_dtype=int64}.0\n",
        "!!!W!!! Prod{acc_dtype=int64}.0\n"
       ]
      },
      {
       "output_type": "stream",
       "stream": "stdout",
       "text": [
        "Batch\n",
        "!!!W!!! Prod{acc_dtype=int64}.0\n",
        "!!!W!!! Prod{acc_dtype=int64}.0\n",
        "!!!W!!! Prod{acc_dtype=int64}.0\n",
        "!!!W!!! Prod{acc_dtype=int64}.0\n"
       ]
      },
      {
       "output_type": "stream",
       "stream": "stdout",
       "text": [
        "Batch\n",
        "!!!W!!! Prod{acc_dtype=int64}.0\n",
        "!!!W!!! Prod{acc_dtype=int64}.0\n",
        "!!!W!!! Prod{acc_dtype=int64}.0\n",
        "!!!W!!! Prod{acc_dtype=int64}.0\n"
       ]
      },
      {
       "output_type": "stream",
       "stream": "stdout",
       "text": [
        "Batch\n",
        "!!!W!!! Prod{acc_dtype=int64}.0\n",
        "!!!W!!! Prod{acc_dtype=int64}.0\n",
        "!!!W!!! Prod{acc_dtype=int64}.0\n",
        "!!!W!!! Prod{acc_dtype=int64}.0\n"
       ]
      },
      {
       "output_type": "stream",
       "stream": "stdout",
       "text": [
        "Batch\n",
        "!!!W!!! Prod{acc_dtype=int64}.0\n",
        "!!!W!!! Prod{acc_dtype=int64}.0\n",
        "!!!W!!! Prod{acc_dtype=int64}.0\n",
        "!!!W!!! Prod{acc_dtype=int64}.0\n"
       ]
      },
      {
       "output_type": "stream",
       "stream": "stdout",
       "text": [
        "Batch\n",
        "!!!W!!! Prod{acc_dtype=int64}.0\n",
        "!!!W!!! Prod{acc_dtype=int64}.0\n",
        "!!!W!!! Prod{acc_dtype=int64}.0\n",
        "!!!W!!! Prod{acc_dtype=int64}.0\n"
       ]
      },
      {
       "output_type": "stream",
       "stream": "stdout",
       "text": [
        "Batch\n",
        "!!!W!!! Prod{acc_dtype=int64}.0\n",
        "!!!W!!! Prod{acc_dtype=int64}.0\n",
        "!!!W!!! Prod{acc_dtype=int64}.0\n",
        "!!!W!!! Prod{acc_dtype=int64}.0\n"
       ]
      },
      {
       "output_type": "stream",
       "stream": "stdout",
       "text": [
        "Batch\n",
        "!!!W!!! Prod{acc_dtype=int64}.0\n",
        "!!!W!!! Prod{acc_dtype=int64}.0\n",
        "!!!W!!! Prod{acc_dtype=int64}.0\n",
        "!!!W!!! Prod{acc_dtype=int64}.0\n"
       ]
      },
      {
       "output_type": "stream",
       "stream": "stdout",
       "text": [
        "Batch\n",
        "!!!W!!! Prod{acc_dtype=int64}.0\n",
        "!!!W!!! Prod{acc_dtype=int64}.0\n",
        "!!!W!!! Prod{acc_dtype=int64}.0\n",
        "!!!W!!! Prod{acc_dtype=int64}.0\n"
       ]
      },
      {
       "output_type": "stream",
       "stream": "stdout",
       "text": [
        "Batch\n",
        "!!!W!!! Prod{acc_dtype=int64}.0\n",
        "!!!W!!! Prod{acc_dtype=int64}.0\n",
        "!!!W!!! Prod{acc_dtype=int64}.0\n",
        "!!!W!!! Prod{acc_dtype=int64}.0\n"
       ]
      },
      {
       "output_type": "stream",
       "stream": "stdout",
       "text": [
        "Batch\n",
        "!!!W!!! Prod{acc_dtype=int64}.0\n",
        "!!!W!!! Prod{acc_dtype=int64}.0\n",
        "!!!W!!! Prod{acc_dtype=int64}.0\n",
        "!!!W!!! Prod{acc_dtype=int64}.0\n"
       ]
      },
      {
       "output_type": "stream",
       "stream": "stdout",
       "text": [
        "Batch\n",
        "!!!W!!! Prod{acc_dtype=int64}.0\n",
        "!!!W!!! Prod{acc_dtype=int64}.0\n",
        "!!!W!!! Prod{acc_dtype=int64}.0\n",
        "!!!W!!! Prod{acc_dtype=int64}.0\n"
       ]
      },
      {
       "output_type": "stream",
       "stream": "stdout",
       "text": [
        "Batch\n",
        "!!!W!!! Prod{acc_dtype=int64}.0\n",
        "!!!W!!! Prod{acc_dtype=int64}.0\n",
        "!!!W!!! Prod{acc_dtype=int64}.0\n",
        "!!!W!!! Prod{acc_dtype=int64}.0\n"
       ]
      },
      {
       "output_type": "stream",
       "stream": "stdout",
       "text": [
        "Batch\n",
        "!!!W!!! Prod{acc_dtype=int64}.0\n",
        "!!!W!!! Prod{acc_dtype=int64}.0\n",
        "!!!W!!! Prod{acc_dtype=int64}.0\n",
        "!!!W!!! Prod{acc_dtype=int64}.0\n"
       ]
      },
      {
       "output_type": "stream",
       "stream": "stdout",
       "text": [
        "Batch\n",
        "!!!W!!! Prod{acc_dtype=int64}.0\n",
        "!!!W!!! Prod{acc_dtype=int64}.0\n",
        "!!!W!!! Prod{acc_dtype=int64}.0\n",
        "!!!W!!! Prod{acc_dtype=int64}.0\n"
       ]
      },
      {
       "output_type": "stream",
       "stream": "stdout",
       "text": [
        "Batch\n",
        "!!!W!!! Prod{acc_dtype=int64}.0\n",
        "!!!W!!! Prod{acc_dtype=int64}.0\n",
        "!!!W!!! Prod{acc_dtype=int64}.0\n",
        "!!!W!!! Prod{acc_dtype=int64}.0\n"
       ]
      },
      {
       "output_type": "stream",
       "stream": "stdout",
       "text": [
        "Batch\n",
        "!!!W!!! Prod{acc_dtype=int64}.0\n",
        "!!!W!!! Prod{acc_dtype=int64}.0\n",
        "!!!W!!! Prod{acc_dtype=int64}.0\n",
        "!!!W!!! Prod{acc_dtype=int64}.0\n"
       ]
      },
      {
       "output_type": "stream",
       "stream": "stdout",
       "text": [
        "Batch\n",
        "!!!W!!! Prod{acc_dtype=int64}.0\n",
        "!!!W!!! Prod{acc_dtype=int64}.0\n",
        "!!!W!!! Prod{acc_dtype=int64}.0\n",
        "!!!W!!! Prod{acc_dtype=int64}.0\n"
       ]
      },
      {
       "output_type": "stream",
       "stream": "stdout",
       "text": [
        "Batch\n",
        "!!!W!!! Prod{acc_dtype=int64}.0\n"
       ]
      },
      {
       "output_type": "stream",
       "stream": "stdout",
       "text": [
        "!!!W!!! Prod{acc_dtype=int64}.0\n",
        "!!!W!!! Prod{acc_dtype=int64}.0\n",
        "!!!W!!! Prod{acc_dtype=int64}.0\n"
       ]
      },
      {
       "output_type": "stream",
       "stream": "stdout",
       "text": [
        "Batch\n",
        "!!!W!!! Prod{acc_dtype=int64}.0\n",
        "!!!W!!! Prod{acc_dtype=int64}.0\n",
        "!!!W!!! Prod{acc_dtype=int64}.0\n",
        "!!!W!!! Prod{acc_dtype=int64}.0\n"
       ]
      },
      {
       "output_type": "stream",
       "stream": "stdout",
       "text": [
        "Batch\n",
        "!!!W!!! Prod{acc_dtype=int64}.0\n",
        "!!!W!!! Prod{acc_dtype=int64}.0\n",
        "!!!W!!! Prod{acc_dtype=int64}.0\n",
        "!!!W!!! Prod{acc_dtype=int64}.0\n"
       ]
      },
      {
       "output_type": "stream",
       "stream": "stdout",
       "text": [
        "Batch\n",
        "!!!W!!! Prod{acc_dtype=int64}.0\n",
        "!!!W!!! Prod{acc_dtype=int64}.0\n",
        "!!!W!!! Prod{acc_dtype=int64}.0\n",
        "!!!W!!! Prod{acc_dtype=int64}.0\n"
       ]
      },
      {
       "output_type": "stream",
       "stream": "stdout",
       "text": [
        "Batch\n",
        "!!!W!!! Prod{acc_dtype=int64}.0\n",
        "!!!W!!! Prod{acc_dtype=int64}.0\n",
        "!!!W!!! Prod{acc_dtype=int64}.0\n",
        "!!!W!!! Prod{acc_dtype=int64}.0\n"
       ]
      },
      {
       "output_type": "stream",
       "stream": "stdout",
       "text": [
        "Batch\n",
        "!!!W!!! Prod{acc_dtype=int64}.0\n",
        "!!!W!!! Prod{acc_dtype=int64}.0\n",
        "!!!W!!! Prod{acc_dtype=int64}.0\n",
        "!!!W!!! Prod{acc_dtype=int64}.0\n"
       ]
      },
      {
       "output_type": "stream",
       "stream": "stdout",
       "text": [
        "Batch\n",
        "!!!W!!! Prod{acc_dtype=int64}.0\n",
        "!!!W!!! Prod{acc_dtype=int64}.0\n",
        "!!!W!!! Prod{acc_dtype=int64}.0\n",
        "!!!W!!! Prod{acc_dtype=int64}.0\n"
       ]
      },
      {
       "output_type": "stream",
       "stream": "stdout",
       "text": [
        "Batch\n",
        "!!!W!!! Prod{acc_dtype=int64}.0\n",
        "!!!W!!! Prod{acc_dtype=int64}.0\n",
        "!!!W!!! Prod{acc_dtype=int64}.0\n",
        "!!!W!!! Prod{acc_dtype=int64}.0\n"
       ]
      },
      {
       "output_type": "stream",
       "stream": "stdout",
       "text": [
        "Batch\n",
        "!!!W!!! Prod{acc_dtype=int64}.0\n"
       ]
      },
      {
       "output_type": "stream",
       "stream": "stdout",
       "text": [
        "!!!W!!! Prod{acc_dtype=int64}.0\n",
        "!!!W!!! Prod{acc_dtype=int64}.0\n",
        "!!!W!!! Prod{acc_dtype=int64}.0\n"
       ]
      },
      {
       "output_type": "stream",
       "stream": "stdout",
       "text": [
        "Batch\n",
        "!!!W!!! Prod{acc_dtype=int64}.0\n",
        "!!!W!!! Prod{acc_dtype=int64}.0\n",
        "!!!W!!! Prod{acc_dtype=int64}.0\n",
        "!!!W!!! Prod{acc_dtype=int64}.0\n"
       ]
      },
      {
       "output_type": "stream",
       "stream": "stdout",
       "text": [
        "Batch\n",
        "!!!W!!! Prod{acc_dtype=int64}.0\n",
        "!!!W!!! Prod{acc_dtype=int64}.0\n",
        "!!!W!!! Prod{acc_dtype=int64}.0\n",
        "!!!W!!! Prod{acc_dtype=int64}.0\n"
       ]
      },
      {
       "output_type": "stream",
       "stream": "stdout",
       "text": [
        "Batch\n",
        "!!!W!!! Prod{acc_dtype=int64}.0\n",
        "!!!W!!! Prod{acc_dtype=int64}.0\n",
        "!!!W!!! Prod{acc_dtype=int64}.0\n",
        "!!!W!!! Prod{acc_dtype=int64}.0\n"
       ]
      },
      {
       "output_type": "stream",
       "stream": "stdout",
       "text": [
        "Batch\n",
        "!!!W!!! Prod{acc_dtype=int64}.0\n",
        "!!!W!!! Prod{acc_dtype=int64}.0\n",
        "!!!W!!! Prod{acc_dtype=int64}.0\n",
        "!!!W!!! Prod{acc_dtype=int64}.0\n"
       ]
      },
      {
       "output_type": "stream",
       "stream": "stdout",
       "text": [
        "Batch\n",
        "!!!W!!! Prod{acc_dtype=int64}.0\n",
        "!!!W!!! Prod{acc_dtype=int64}.0\n",
        "!!!W!!! Prod{acc_dtype=int64}.0\n",
        "!!!W!!! Prod{acc_dtype=int64}.0\n"
       ]
      },
      {
       "output_type": "stream",
       "stream": "stdout",
       "text": [
        "Batch\n",
        "!!!W!!! Prod{acc_dtype=int64}.0\n",
        "!!!W!!! Prod{acc_dtype=int64}.0\n",
        "!!!W!!! Prod{acc_dtype=int64}.0\n",
        "!!!W!!! Prod{acc_dtype=int64}.0\n"
       ]
      },
      {
       "output_type": "stream",
       "stream": "stdout",
       "text": [
        "Batch\n",
        "!!!W!!! Prod{acc_dtype=int64}.0\n",
        "!!!W!!! Prod{acc_dtype=int64}.0\n",
        "!!!W!!! Prod{acc_dtype=int64}.0\n",
        "!!!W!!! Prod{acc_dtype=int64}.0\n"
       ]
      },
      {
       "output_type": "stream",
       "stream": "stdout",
       "text": [
        "Batch\n",
        "!!!W!!! Prod{acc_dtype=int64}.0\n",
        "!!!W!!! Prod{acc_dtype=int64}.0\n",
        "!!!W!!! Prod{acc_dtype=int64}.0\n",
        "!!!W!!! Prod{acc_dtype=int64}.0\n"
       ]
      },
      {
       "output_type": "stream",
       "stream": "stdout",
       "text": [
        "Batch\n",
        "!!!W!!! Prod{acc_dtype=int64}.0\n",
        "!!!W!!! Prod{acc_dtype=int64}.0\n",
        "!!!W!!! Prod{acc_dtype=int64}.0\n",
        "!!!W!!! Prod{acc_dtype=int64}.0\n"
       ]
      },
      {
       "output_type": "stream",
       "stream": "stdout",
       "text": [
        "Batch\n",
        "!!!W!!! Prod{acc_dtype=int64}.0\n",
        "!!!W!!! Prod{acc_dtype=int64}.0\n",
        "!!!W!!! Prod{acc_dtype=int64}.0\n",
        "!!!W!!! Prod{acc_dtype=int64}.0\n"
       ]
      },
      {
       "output_type": "stream",
       "stream": "stdout",
       "text": [
        "Batch\n",
        "!!!W!!! Prod{acc_dtype=int64}.0\n",
        "!!!W!!! Prod{acc_dtype=int64}.0\n",
        "!!!W!!! Prod{acc_dtype=int64}.0\n",
        "!!!W!!! Prod{acc_dtype=int64}.0\n"
       ]
      },
      {
       "output_type": "stream",
       "stream": "stdout",
       "text": [
        "Batch\n",
        "!!!W!!! Prod{acc_dtype=int64}.0\n",
        "!!!W!!! Prod{acc_dtype=int64}.0\n",
        "!!!W!!! Prod{acc_dtype=int64}.0\n",
        "!!!W!!! Prod{acc_dtype=int64}.0\n"
       ]
      },
      {
       "output_type": "stream",
       "stream": "stdout",
       "text": [
        "Batch\n",
        "!!!W!!! Prod{acc_dtype=int64}.0\n",
        "!!!W!!! Prod{acc_dtype=int64}.0\n",
        "!!!W!!! Prod{acc_dtype=int64}.0\n",
        "!!!W!!! Prod{acc_dtype=int64}.0\n"
       ]
      },
      {
       "output_type": "stream",
       "stream": "stdout",
       "text": [
        "Batch\n",
        "!!!W!!! Prod{acc_dtype=int64}.0\n",
        "!!!W!!! Prod{acc_dtype=int64}.0\n",
        "!!!W!!! Prod{acc_dtype=int64}.0\n",
        "!!!W!!! Prod{acc_dtype=int64}.0\n"
       ]
      },
      {
       "output_type": "stream",
       "stream": "stdout",
       "text": [
        "Batch\n",
        "!!!W!!! Prod{acc_dtype=int64}.0\n",
        "!!!W!!! Prod{acc_dtype=int64}.0\n",
        "!!!W!!! Prod{acc_dtype=int64}.0\n",
        "!!!W!!! Prod{acc_dtype=int64}.0\n"
       ]
      },
      {
       "output_type": "stream",
       "stream": "stdout",
       "text": [
        "Batch\n",
        "!!!W!!! Prod{acc_dtype=int64}.0\n",
        "!!!W!!! Prod{acc_dtype=int64}.0\n",
        "!!!W!!! Prod{acc_dtype=int64}.0\n",
        "!!!W!!! Prod{acc_dtype=int64}.0\n"
       ]
      },
      {
       "output_type": "stream",
       "stream": "stdout",
       "text": [
        "Batch\n",
        "!!!W!!! Prod{acc_dtype=int64}.0\n",
        "!!!W!!! Prod{acc_dtype=int64}.0\n",
        "!!!W!!! Prod{acc_dtype=int64}.0\n",
        "!!!W!!! Prod{acc_dtype=int64}.0\n"
       ]
      },
      {
       "output_type": "stream",
       "stream": "stdout",
       "text": [
        "Batch\n",
        "!!!W!!! Prod{acc_dtype=int64}.0\n",
        "!!!W!!! Prod{acc_dtype=int64}.0\n",
        "!!!W!!! Prod{acc_dtype=int64}.0\n",
        "!!!W!!! Prod{acc_dtype=int64}.0\n"
       ]
      },
      {
       "output_type": "stream",
       "stream": "stdout",
       "text": [
        "Batch\n",
        "!!!W!!! Prod{acc_dtype=int64}.0\n",
        "!!!W!!! Prod{acc_dtype=int64}.0\n",
        "!!!W!!! Prod{acc_dtype=int64}.0\n",
        "!!!W!!! Prod{acc_dtype=int64}.0\n"
       ]
      },
      {
       "output_type": "stream",
       "stream": "stdout",
       "text": [
        "Batch\n",
        "!!!W!!! Prod{acc_dtype=int64}.0\n",
        "!!!W!!! Prod{acc_dtype=int64}.0\n",
        "!!!W!!! Prod{acc_dtype=int64}.0\n",
        "!!!W!!! Prod{acc_dtype=int64}.0\n"
       ]
      },
      {
       "output_type": "stream",
       "stream": "stdout",
       "text": [
        "Batch\n",
        "!!!W!!! Prod{acc_dtype=int64}.0\n",
        "!!!W!!! Prod{acc_dtype=int64}.0\n",
        "!!!W!!! Prod{acc_dtype=int64}.0\n",
        "!!!W!!! Prod{acc_dtype=int64}.0\n"
       ]
      },
      {
       "output_type": "stream",
       "stream": "stdout",
       "text": [
        "Outputs (448, 4, 479, 1)\n",
        "Filter\n",
        "Filter\n",
        "Filter\n",
        "Filter\n"
       ]
      },
      {
       "output_type": "stream",
       "stream": "stdout",
       "text": [
        "[array([143,   0, 173,   0]), array([142,   0, 319,   0]), array([175,   0,  71,   0]), array([174,   0, 217,   0]), array([ 53,   0, 425,   0]), array([332,   0, 333,   0]), array([333,   0, 187,   0]), array([ 41,   0, 442,   0]), array([431,   0, 476,   0]), array([ 29,   0, 212,   0]), array([ 28,   0, 358,   0]), array([ 52,   0, 466,   0]), array([223,   0, 109,   0]), array([222,   0, 255,   0]), array([ 40,   0, 298,   0]), array([ 18,   0, 474,   0]), array([ 19,   0, 328,   0]), array([ 90,   0, 204,   0]), array([91,  0, 58,  0]), array([335,   0, 257,   0]), array([334,   0, 403,   0]), array([ 27,   0, 438,   0]), array([321,   0,  56,   0]), array([320,   0, 202,   0]), array([217,   0,  17,   0]), array([216,   0, 163,   0]), array([137,   0, 219,   0]), array([136,   0, 365,   0]), array([401,   0, 377,   0]), array([323,   0,  91,   0]), array([322,   0, 237,   0]), array([349,   0,  63,   0]), array([348,   0, 209,   0]), array([181,   0, 469,   0]), array([400,   0, 433,   0]), array([267,   0,  64,   0]), array([266,   0, 210,   0]), array([432,   0, 319,   0]), array([433,   0, 173,   0]), array([150,   0, 213,   0]), array([151,   0,  67,   0]), array([421,   0,  54,   0]), array([420,   0, 200,   0]), array([275,   0,  61,   0]), array([274,   0, 207,   0]), array([180,   0, 315,   0]), array([233,   0, 121,   0]), array([232,   0, 267,   0]), array([445,   0, 168,   0]), array([444,   0, 314,   0]), array([284,   0, 180,   0]), array([285,   0,  34,   0]), array([145,   0, 408,   0]), array([111,   0, 147,   0]), array([110,   0, 293,   0]), array([212,   0, 235,   0]), array([213,   0,  89,   0]), array([ 16,   0, 208,   0]), array([17,  0, 62,  0]), array([144,   0, 428,   0]), array([224,   0, 346,   0]), array([225,   0, 200,   0]), array([229,   0,  63,   0]), array([228,   0, 209,   0]), array([ 67,   0, 159,   0]), array([ 66,   0, 305,   0]), array([166,   0, 374,   0]), array([167,   0, 228,   0]), array([57,  0,  5,  0]), array([ 56,   0, 151,   0]), array([314,   0, 372,   0]), array([315,   0, 226,   0]), array([427,   0, 345,   0]), array([276,   0, 232,   0]), array([277,   0,  86,   0]), array([403,   0, 255,   0]), array([402,   0, 401,   0]), array([ 48,   0, 180,   0]), array([49,  0, 34,  0]), array([115,   0, 163,   0]), array([114,   0, 309,   0]), array([169,   0, 139,   0]), array([168,   0, 285,   0]), array([426,   0, 236,   0]), array([430,   0, 382,   0]), array([301,   0,  66,   0]), array([300,   0, 212,   0]), array([130,   0, 229,   0]), array([131,   0,  83,   0]), array([ 35,   0, 133,   0]), array([ 34,   0, 279,   0]), array([383,   0, 242,   0]), array([382,   0, 388,   0]), array([280,   0, 380,   0]), array([281,   0, 234,   0]), array([307,   0, 358,   0]), array([ 26,   0, 476,   0]), array([438,   0, 223,   0]), array([439,   0,  77,   0]), array([134,   0, 261,   0]), array([288,   1,   2,   0]), array([157,   1, 477,   0]), array([402,   1,   1,   0]), array([428,   1,   0,   0]), array([444,   1,   9,   0]), array([418,   1,   2,   0]), array([204,   1,   1,   0]), array([321,   1, 478,   0]), array([447,   1, 475,   0]), array([147,   1, 475,   0]), array([394,   1,   0,   0]), array([304,   1,   1,   0]), array([113,   1, 478,   0]), array([252,   1,   8,   0]), array([42,  1,  1,  0]), array([302,   1,   7,   0]), array([123,   1, 465,   0]), array([382,   1,   2,   0]), array([298,   1,   2,   0]), array([ 85,   1, 464,   0]), array([196,   1,   1,   0]), array([121,   1, 477,   0]), array([272,   1,   0,   0]), array([306,   1,   4,   0]), array([ 67,   1, 477,   0]), array([337,   1, 476,   0]), array([349,   1, 462,   0]), array([84,  1, 19,  0]), array([348,   1,   0,   0]), array([244,   1,   2,   0]), array([374,   1,  10,   0]), array([133,   1, 469,   0]), array([318,   1,   0,   0]), array([390,   1,   1,   0]), array([296,   1,   3,   0]), array([312,   1,   4,   0]), array([151,   1, 473,   0]), array([249,   1, 473,   0]), array([ 43,   1, 475,   0]), array([282,   1,  19,   0]), array([100,   1,   0,   0]), array([279,   1, 477,   0]), array([24,  1,  2,  0]), array([138,   1,   6,   0]), array([124,   1,   2,   0]), array([107,   1, 478,   0]), array([46,  1, 20,  0]), array([384,   1,   1,   0]), array([2, 1, 7, 0]), array([366,   1,   0,   0]), array([178,   1,  51,   0]), array([329,   1, 456,   0]), array([86,  1, 27,  0]), array([227,   1, 477,   0]), array([346,   1,   0,   0]), array([309,   1, 473,   0]), array([64,  1,  4,  0]), array([269,   1, 477,   0]), array([146,   1,   0,   0]), array([248,   1,   4,   0]), array([182,   1,   0,   0]), array([342,   1,   5,   0]), array([177,   1, 461,   0]), array([168,   1,   1,   0]), array([ 49,   1, 475,   0]), array([221,   1, 469,   0]), array([ 97,   1, 476,   0]), array([268,   1,   5,   0]), array([360,   1,   1,   0]), array([441,   1, 475,   0]), array([400,   1,   3,   0]), array([40,  1, 26,  0]), array([354,   1,   1,   0]), array([ 61,   1, 473,   0]), array([368,   1,   1,   0]), array([278,   1,   4,   0]), array([331,   1, 468,   0]), array([ 71,   1, 472,   0]), array([144,   1,   1,   0]), array([120,   1,   0,   0]), array([415,   1, 477,   0]), array([231,   1, 477,   0]), array([206,   1,  16,   0]), array([224,   1,   2,   0]), array([369,   1, 445,   0]), array([88,  1, 18,  0]), array([ 33,   1, 476,   0]), array([ 11,   1, 475,   0]), array([232,   1,   0,   0]), array([101,   1, 478,   0]), array([347,   1, 477,   0]), array([344,   1,  18,   0]), array([158,   1,   0,   0]), array([433,   1, 474,   0]), array([125,   1, 477,   0]), array([160,   1,   0,   0]), array([442,   1,  14,   0]), array([260,   1,   2,   0]), array([109,   1, 425,   0]), array([116,   1,   3,   0]), array([193,   2, 477,   0]), array([326,   2,   5,   0]), array([238,   2,   1,   0]), array([188,   2,   2,   0]), array([ 33,   2, 306,   0]), array([ 32,   2, 452,   0]), array([10,  2,  1,  0]), array([ 31,   2, 222,   0]), array([ 30,   2, 368,   0]), array([418,   2,   1,   0]), array([243,   2, 477,   0]), array([ 83,   2, 454,   0]), array([219,   2, 467,   0]), array([338,   2,   0,   0]), array([141,   2, 236,   0]), array([140,   2, 382,   0]), array([12,  2,  1,  0]), array([264,   2,  41,   0]), array([408,   2,  17,   0]), array([6, 2, 8, 0]), array([371,   2, 382,   0]), array([397,   2, 326,   0]), array([396,   2, 472,   0]), array([176,   2,  24,   0]), array([2, 2, 4, 0]), array([357,   2, 449,   0]), array([131,   2, 428,   0]), array([410,   2, 181,   0]), array([411,   2,  35,   0]), array([182,   2,  80,   0]), array([434,   2,   1,   0]), array([198,   2,  53,   0]), array([387,   2, 345,   0]), array([110,   2,   1,   0]), array([128,   2,   5,   0]), array([129,   2, 401,   0]), array([386,   2, 473,   0]), array([334,   2,  17,   0]), array([180,   2,   1,   0]), array([360,   2,   0,   0]), array([ 46,   2, 263,   0]), array([ 47,   2, 117,   0]), array([428,   2,   1,   0]), array([  0,   2, 468,   0]), array([  1,   2, 322,   0]), array([ 95,   2, 459,   0]), array([435,   2, 386,   0]), array([92,  2,  8,  0]), array([254,   2,  38,   0]), array([394,   2,  18,   0]), array([ 44,   2, 456,   0]), array([ 45,   2, 310,   0]), array([242,   2,   1,   0]), array([70,  2, 19,  0]), array([26,  2, 21,  0]), array([320,   2,   1,   0]), array([267,   2, 405,   0]), array([318,   2,  46,   0]), array([368,   2,  47,   0]), array([36,  2, 67,  0]), array([126,   2,  38,   0]), array([130,   2, 387,   0]), array([178,   2,   7,   0]), array([ 82,   2, 253,   0]), array([ 60,   2, 296,   0]), array([ 61,   2, 150,   0]), array([398,   2,  29,   0]), array([336,   2, 145,   0]), array([  5,   2, 290,   0]), array([  4,   2, 436,   0]), array([337,   2,   5,   0]), array([299,   2, 300,   0]), array([298,   2, 446,   0]), array([366,   2, 249,   0]), array([367,   2, 103,   0]), array([364,   2,   1,   0]), array([252,   2,   1,   0]), array([369,   2, 298,   0]), array([18,  2, 16,  0]), array([218,   2,   1,   0]), array([430,   2,   2,   0]), array([339,   2,  16,   0]), array([134,   2,   1,   0]), array([433,   2, 461,   0]), array([319,   2,  28,   0]), array([132,   2,   6,   0]), array([340,   2,  13,   0]), array([71,  2, 51,  0]), array([173,   2, 436,   0]), array([370,   2, 474,   0]), array([440,   2, 279,   0]), array([441,   2, 133,   0]), array([172,   2, 363,   0]), array([ 51,   2, 460,   0]), array([135,   2, 310,   0]), array([ 13,   2, 142,   0]), array([ 56,   2, 236,   0]), array([57,  2, 90,  0]), array([268,   2, 326,   0]), array([269,   2, 180,   0]), array([18,  3,  2,  0]), array([70,  3, 24,  0]), array([166,   3,   3,   0]), array([ 95,   3, 472,   0]), array([240,   3,  62,   0]), array([ 22,   3, 293,   0]), array([ 23,   3, 147,   0]), array([430,   3,   4,   0]), array([238,   3,   6,   0]), array([167,   3, 278,   0]), array([ 55,   3, 403,   0]), array([371,   3, 420,   0]), array([362,   3,   7,   0]), array([ 79,   3, 471,   0]), array([ 75,   3, 343,   0]), array([230,   3,   0,   0]), array([74,  3,  8,  0]), array([16,  3,  2,  0]), array([370,   3, 471,   0]), array([435,   3, 392,   0]), array([290,   3,   3,   0]), array([364,   3, 377,   0]), array([365,   3, 231,   0]), array([71,  3,  1,  0]), array([300,   3,   7,   0]), array([386,   3,   4,   0]), array([196,   3,   1,   0]), array([241,   3,   6,   0]), array([436,   3,  80,   0]), array([38,  3,  6,  0]), array([387,   3, 177,   0]), array([244,   3,   2,   0]), array([396,   3,   1,   0]), array([405,   3, 475,   0]), array([76,  3,  0,  0]), array([392,   3,   2,   0]), array([439,   3, 356,   0]), array([438,   3, 475,   0]), array([372,   3,  21,   0]), array([ 54,   3, 477,   0]), array([247,   3, 474,   0]), array([376,   3,   3,   0]), array([ 77,   3, 350,   0]), array([160,   3,   0,   0]), array([279,   3, 395,   0]), array([118,   3, 319,   0]), array([119,   3, 173,   0]), array([275,   3, 468,   0]), array([410,   3, 270,   0]), array([411,   3, 124,   0]), array([176,   3, 207,   0]), array([177,   3,  61,   0]), array([373,   3, 320,   0]), array([214,   3,   2,   0]), array([ 58,   3, 334,   0]), array([ 59,   3, 188,   0]), array([169,   3, 432,   0]), array([126,   3,   1,   0]), array([298,   3, 442,   0]), array([299,   3, 296,   0]), array([257,   3,  77,   0]), array([256,   3, 223,   0]), array([ 17,   3, 248,   0]), array([414,   3,   2,   0]), array([138,   3,   2,   0]), array([323,   3, 384,   0]), array([10,  3, 22,  0]), array([322,   3, 458,   0]), array([314,   3,   6,   0]), array([19,  3,  3,  0]), array([78,  3,  1,  0]), array([200,   3,   2,   0]), array([437,   3,   1,   0]), array([102,   3,   0,   0]), array([404,   3, 473,   0]), array([ 21,   3, 379,   0]), array([ 37,   3, 355,   0]), array([161,   3,  61,   0]), array([115,   3, 351,   0]), array([445,   3, 311,   0]), array([444,   3, 457,   0]), array([427,   3, 305,   0]), array([426,   3, 451,   0]), array([289,   3, 476,   0]), array([0, 3, 5, 0]), array([ 57,   3, 473,   0]), array([ 50,   3, 442,   0]), array([ 51,   3, 296,   0]), array([380,   3,   2,   0]), array([114,   3, 473,   0]), array([208,   3,   2,   0]), array([278,   3, 466,   0]), array([194,   3, 340,   0]), array([195,   3, 194,   0]), array([94,  3,  2,  0]), array([184,   3,  24,   0]), array([96,  3,  8,  0]), array([ 25,   3, 379,   0]), array([143,   3, 272,   0]), array([142,   3, 418,   0])]\n",
        "max units\n",
        "[array([0, 1, 2, 3]), array([4, 5, 6, 7]), array([ 8,  9, 10, 11]), array([12, 13, 14, 15]), array([16, 17, 18, 19]), array([20, 21, 22, 23]), array([24, 25, 26, 27]), array([28, 29, 30, 31]), array([32, 33, 34, 35]), array([36, 37, 38, 39]), array([40, 41, 42, 43]), array([44, 45, 46, 47]), array([48, 49, 50, 51]), array([52, 53, 54, 55]), array([56, 57, 58, 59]), array([60, 61, 62, 63]), array([64, 65, 66, 67]), array([68, 69, 70, 71]), array([72, 73, 74, 75]), array([76, 77, 78, 79]), array([80, 81, 82, 83]), array([84, 85, 86, 87]), array([88, 89, 90, 91]), array([92, 93, 94, 95]), array([96, 97, 98, 99]), array([100, 101, 102, 103]), array([104, 105, 106, 107]), array([108, 109, 110, 111]), array([112, 113, 114, 115]), array([116, 117, 118, 119]), array([120, 121, 122, 123]), array([124, 125, 126, 127]), array([128, 129, 130, 131]), array([132, 133, 134, 135]), array([136, 137, 138, 139]), array([140, 141, 142, 143]), array([144, 145, 146, 147]), array([148, 149, 150, 151]), array([152, 153, 154, 155]), array([156, 157, 158, 159]), array([160, 161, 162]), array([163, 164, 165]), array([166, 167, 168]), array([169, 170, 171]), array([172, 173, 174]), array([175, 176, 177]), array([178, 179, 180]), array([181, 182, 183]), array([184, 185, 186]), array([187, 188, 189]), array([190, 191, 192]), array([193, 194, 195]), array([196, 197, 198]), array([199, 200, 201]), array([202, 203, 204]), array([205, 206, 207]), array([208, 209, 210]), array([211, 212, 213]), array([214, 215, 216]), array([217, 218, 219]), array([220, 221, 222]), array([223, 224, 225]), array([226, 227, 228]), array([229, 230, 231]), array([232, 233, 234]), array([235, 236, 237]), array([238, 239, 240]), array([241, 242, 243]), array([244, 245, 246]), array([247, 248, 249]), array([250, 251, 252]), array([253, 254, 255]), array([256, 257, 258]), array([259, 260, 261]), array([262, 263, 264]), array([265, 266, 267]), array([268, 269, 270]), array([271, 272, 273]), array([274, 275, 276]), array([277, 278, 279]), array([280, 281, 282]), array([283, 284, 285]), array([286, 287, 288]), array([289, 290, 291]), array([292, 293, 294]), array([295, 296, 297]), array([298, 299, 300]), array([301, 302, 303]), array([304, 305, 306]), array([307, 308, 309]), array([310, 311, 312]), array([313, 314, 315]), array([316, 317, 318]), array([319, 320, 321]), array([322, 323, 324]), array([325, 326, 327]), array([328, 329, 330]), array([331, 332, 333]), array([334, 335, 336]), array([337, 338, 339]), array([340, 341, 342]), array([343, 344, 345]), array([346, 347, 348]), array([349, 350, 351]), array([352, 353, 354]), array([355, 356, 357]), array([358, 359, 360]), array([361, 362, 363]), array([364, 365, 366]), array([367, 368, 369]), array([370, 371, 372]), array([373, 374, 375]), array([376, 377, 378]), array([379, 380, 381]), array([382, 383, 384]), array([385, 386, 387]), array([388, 389, 390]), array([391, 392, 393]), array([394, 395, 396]), array([397, 398, 399])]\n",
        "Batch\n",
        "!!!W!!! Prod{acc_dtype=int64}.0\n",
        "!!!W!!! Prod{acc_dtype=int64}.0\n",
        "!!!W!!! Prod{acc_dtype=int64}.0\n",
        "!!!W!!! Prod{acc_dtype=int64}.0\n"
       ]
      },
      {
       "output_type": "stream",
       "stream": "stdout",
       "text": [
        "Batch\n",
        "!!!W!!! Prod{acc_dtype=int64}.0\n"
       ]
      },
      {
       "output_type": "stream",
       "stream": "stdout",
       "text": [
        "!!!W!!! Prod{acc_dtype=int64}.0\n",
        "!!!W!!! Prod{acc_dtype=int64}.0\n",
        "!!!W!!! Prod{acc_dtype=int64}.0\n"
       ]
      },
      {
       "output_type": "stream",
       "stream": "stdout",
       "text": [
        "Batch\n",
        "!!!W!!! Prod{acc_dtype=int64}.0\n",
        "!!!W!!! Prod{acc_dtype=int64}.0\n",
        "!!!W!!! Prod{acc_dtype=int64}.0\n",
        "!!!W!!! Prod{acc_dtype=int64}.0\n"
       ]
      },
      {
       "output_type": "stream",
       "stream": "stdout",
       "text": [
        "Batch\n",
        "!!!W!!! Prod{acc_dtype=int64}.0\n",
        "!!!W!!! Prod{acc_dtype=int64}.0\n",
        "!!!W!!! Prod{acc_dtype=int64}.0\n",
        "!!!W!!! Prod{acc_dtype=int64}.0\n"
       ]
      },
      {
       "output_type": "stream",
       "stream": "stdout",
       "text": [
        "Batch\n",
        "!!!W!!! Prod{acc_dtype=int64}.0\n",
        "!!!W!!! Prod{acc_dtype=int64}.0\n",
        "!!!W!!! Prod{acc_dtype=int64}.0\n",
        "!!!W!!! Prod{acc_dtype=int64}.0\n"
       ]
      },
      {
       "output_type": "stream",
       "stream": "stdout",
       "text": [
        "Batch\n",
        "!!!W!!! Prod{acc_dtype=int64}.0\n",
        "!!!W!!! Prod{acc_dtype=int64}.0\n",
        "!!!W!!! Prod{acc_dtype=int64}.0\n",
        "!!!W!!! Prod{acc_dtype=int64}.0\n"
       ]
      },
      {
       "output_type": "stream",
       "stream": "stdout",
       "text": [
        "Batch\n",
        "!!!W!!! Prod{acc_dtype=int64}.0\n",
        "!!!W!!! Prod{acc_dtype=int64}.0\n",
        "!!!W!!! Prod{acc_dtype=int64}.0\n",
        "!!!W!!! Prod{acc_dtype=int64}.0\n"
       ]
      },
      {
       "output_type": "stream",
       "stream": "stdout",
       "text": [
        "Batch\n",
        "!!!W!!! Prod{acc_dtype=int64}.0\n",
        "!!!W!!! Prod{acc_dtype=int64}.0\n",
        "!!!W!!! Prod{acc_dtype=int64}.0\n",
        "!!!W!!! Prod{acc_dtype=int64}.0\n"
       ]
      },
      {
       "output_type": "stream",
       "stream": "stdout",
       "text": [
        "Batch\n",
        "!!!W!!! Prod{acc_dtype=int64}.0\n",
        "!!!W!!! Prod{acc_dtype=int64}.0\n",
        "!!!W!!! Prod{acc_dtype=int64}.0\n",
        "!!!W!!! Prod{acc_dtype=int64}.0\n"
       ]
      },
      {
       "output_type": "stream",
       "stream": "stdout",
       "text": [
        "Batch\n",
        "!!!W!!! Prod{acc_dtype=int64}.0\n",
        "!!!W!!! Prod{acc_dtype=int64}.0\n",
        "!!!W!!! Prod{acc_dtype=int64}.0\n",
        "!!!W!!! Prod{acc_dtype=int64}.0\n"
       ]
      },
      {
       "output_type": "stream",
       "stream": "stdout",
       "text": [
        "Batch\n",
        "!!!W!!! Prod{acc_dtype=int64}.0\n",
        "!!!W!!! Prod{acc_dtype=int64}.0\n",
        "!!!W!!! Prod{acc_dtype=int64}.0\n",
        "!!!W!!! Prod{acc_dtype=int64}.0\n"
       ]
      },
      {
       "output_type": "stream",
       "stream": "stdout",
       "text": [
        "Batch\n",
        "!!!W!!! Prod{acc_dtype=int64}.0\n",
        "!!!W!!! Prod{acc_dtype=int64}.0\n",
        "!!!W!!! Prod{acc_dtype=int64}.0\n",
        "!!!W!!! Prod{acc_dtype=int64}.0\n"
       ]
      },
      {
       "output_type": "stream",
       "stream": "stdout",
       "text": [
        "Batch\n",
        "!!!W!!! Prod{acc_dtype=int64}.0\n",
        "!!!W!!! Prod{acc_dtype=int64}.0\n",
        "!!!W!!! Prod{acc_dtype=int64}.0\n",
        "!!!W!!! Prod{acc_dtype=int64}.0\n"
       ]
      },
      {
       "output_type": "stream",
       "stream": "stdout",
       "text": [
        "Batch\n",
        "!!!W!!! Prod{acc_dtype=int64}.0\n",
        "!!!W!!! Prod{acc_dtype=int64}.0\n",
        "!!!W!!! Prod{acc_dtype=int64}.0\n",
        "!!!W!!! Prod{acc_dtype=int64}.0\n"
       ]
      },
      {
       "output_type": "stream",
       "stream": "stdout",
       "text": [
        "Batch\n",
        "!!!W!!! Prod{acc_dtype=int64}.0\n",
        "!!!W!!! Prod{acc_dtype=int64}.0\n",
        "!!!W!!! Prod{acc_dtype=int64}.0\n",
        "!!!W!!! Prod{acc_dtype=int64}.0\n"
       ]
      },
      {
       "output_type": "stream",
       "stream": "stdout",
       "text": [
        "Batch\n",
        "!!!W!!! Prod{acc_dtype=int64}.0\n",
        "!!!W!!! Prod{acc_dtype=int64}.0\n",
        "!!!W!!! Prod{acc_dtype=int64}.0\n",
        "!!!W!!! Prod{acc_dtype=int64}.0\n"
       ]
      },
      {
       "output_type": "stream",
       "stream": "stdout",
       "text": [
        "Batch\n",
        "!!!W!!! Prod{acc_dtype=int64}.0\n",
        "!!!W!!! Prod{acc_dtype=int64}.0\n",
        "!!!W!!! Prod{acc_dtype=int64}.0\n",
        "!!!W!!! Prod{acc_dtype=int64}.0\n"
       ]
      },
      {
       "output_type": "stream",
       "stream": "stdout",
       "text": [
        "Batch\n",
        "!!!W!!! Prod{acc_dtype=int64}.0\n",
        "!!!W!!! Prod{acc_dtype=int64}.0\n",
        "!!!W!!! Prod{acc_dtype=int64}.0\n",
        "!!!W!!! Prod{acc_dtype=int64}.0\n"
       ]
      },
      {
       "output_type": "stream",
       "stream": "stdout",
       "text": [
        "Batch\n",
        "!!!W!!! Prod{acc_dtype=int64}.0\n",
        "!!!W!!! Prod{acc_dtype=int64}.0\n",
        "!!!W!!! Prod{acc_dtype=int64}.0\n",
        "!!!W!!! Prod{acc_dtype=int64}.0\n"
       ]
      },
      {
       "output_type": "stream",
       "stream": "stdout",
       "text": [
        "Batch\n",
        "!!!W!!! Prod{acc_dtype=int64}.0\n",
        "!!!W!!! Prod{acc_dtype=int64}.0\n",
        "!!!W!!! Prod{acc_dtype=int64}.0\n",
        "!!!W!!! Prod{acc_dtype=int64}.0\n"
       ]
      },
      {
       "output_type": "stream",
       "stream": "stdout",
       "text": [
        "Batch\n",
        "!!!W!!! Prod{acc_dtype=int64}.0\n",
        "!!!W!!! Prod{acc_dtype=int64}.0\n",
        "!!!W!!! Prod{acc_dtype=int64}.0\n",
        "!!!W!!! Prod{acc_dtype=int64}.0\n"
       ]
      },
      {
       "output_type": "stream",
       "stream": "stdout",
       "text": [
        "Batch\n",
        "!!!W!!! Prod{acc_dtype=int64}.0\n",
        "!!!W!!! Prod{acc_dtype=int64}.0\n",
        "!!!W!!! Prod{acc_dtype=int64}.0\n",
        "!!!W!!! Prod{acc_dtype=int64}.0\n"
       ]
      },
      {
       "output_type": "stream",
       "stream": "stdout",
       "text": [
        "Batch\n",
        "!!!W!!! Prod{acc_dtype=int64}.0\n",
        "!!!W!!! Prod{acc_dtype=int64}.0\n",
        "!!!W!!! Prod{acc_dtype=int64}.0\n",
        "!!!W!!! Prod{acc_dtype=int64}.0\n"
       ]
      },
      {
       "output_type": "stream",
       "stream": "stdout",
       "text": [
        "Batch\n",
        "!!!W!!! Prod{acc_dtype=int64}.0\n"
       ]
      },
      {
       "output_type": "stream",
       "stream": "stdout",
       "text": [
        "!!!W!!! Prod{acc_dtype=int64}.0\n",
        "!!!W!!! Prod{acc_dtype=int64}.0\n",
        "!!!W!!! Prod{acc_dtype=int64}.0\n"
       ]
      },
      {
       "output_type": "stream",
       "stream": "stdout",
       "text": [
        "Batch\n",
        "!!!W!!! Prod{acc_dtype=int64}.0\n",
        "!!!W!!! Prod{acc_dtype=int64}.0\n",
        "!!!W!!! Prod{acc_dtype=int64}.0\n",
        "!!!W!!! Prod{acc_dtype=int64}.0\n"
       ]
      },
      {
       "output_type": "stream",
       "stream": "stdout",
       "text": [
        "Batch\n",
        "!!!W!!! Prod{acc_dtype=int64}.0\n",
        "!!!W!!! Prod{acc_dtype=int64}.0\n",
        "!!!W!!! Prod{acc_dtype=int64}.0\n",
        "!!!W!!! Prod{acc_dtype=int64}.0\n"
       ]
      },
      {
       "output_type": "stream",
       "stream": "stdout",
       "text": [
        "Batch\n",
        "!!!W!!! Prod{acc_dtype=int64}.0\n",
        "!!!W!!! Prod{acc_dtype=int64}.0\n",
        "!!!W!!! Prod{acc_dtype=int64}.0\n",
        "!!!W!!! Prod{acc_dtype=int64}.0\n"
       ]
      },
      {
       "output_type": "stream",
       "stream": "stdout",
       "text": [
        "Batch\n",
        "!!!W!!! Prod{acc_dtype=int64}.0\n",
        "!!!W!!! Prod{acc_dtype=int64}.0\n",
        "!!!W!!! Prod{acc_dtype=int64}.0\n",
        "!!!W!!! Prod{acc_dtype=int64}.0\n"
       ]
      },
      {
       "output_type": "stream",
       "stream": "stdout",
       "text": [
        "Batch\n",
        "!!!W!!! Prod{acc_dtype=int64}.0\n",
        "!!!W!!! Prod{acc_dtype=int64}.0\n",
        "!!!W!!! Prod{acc_dtype=int64}.0\n",
        "!!!W!!! Prod{acc_dtype=int64}.0\n"
       ]
      },
      {
       "output_type": "stream",
       "stream": "stdout",
       "text": [
        "Batch\n",
        "!!!W!!! Prod{acc_dtype=int64}.0\n",
        "!!!W!!! Prod{acc_dtype=int64}.0\n",
        "!!!W!!! Prod{acc_dtype=int64}.0\n",
        "!!!W!!! Prod{acc_dtype=int64}.0\n"
       ]
      },
      {
       "output_type": "stream",
       "stream": "stdout",
       "text": [
        "Batch\n",
        "!!!W!!! Prod{acc_dtype=int64}.0\n",
        "!!!W!!! Prod{acc_dtype=int64}.0\n",
        "!!!W!!! Prod{acc_dtype=int64}.0\n",
        "!!!W!!! Prod{acc_dtype=int64}.0\n"
       ]
      },
      {
       "output_type": "stream",
       "stream": "stdout",
       "text": [
        "Batch\n",
        "!!!W!!! Prod{acc_dtype=int64}.0\n",
        "!!!W!!! Prod{acc_dtype=int64}.0\n",
        "!!!W!!! Prod{acc_dtype=int64}.0\n",
        "!!!W!!! Prod{acc_dtype=int64}.0\n"
       ]
      },
      {
       "output_type": "stream",
       "stream": "stdout",
       "text": [
        "Batch\n",
        "!!!W!!! Prod{acc_dtype=int64}.0\n",
        "!!!W!!! Prod{acc_dtype=int64}.0\n",
        "!!!W!!! Prod{acc_dtype=int64}.0\n",
        "!!!W!!! Prod{acc_dtype=int64}.0\n"
       ]
      },
      {
       "output_type": "stream",
       "stream": "stdout",
       "text": [
        "Batch\n",
        "!!!W!!! Prod{acc_dtype=int64}.0\n",
        "!!!W!!! Prod{acc_dtype=int64}.0\n",
        "!!!W!!! Prod{acc_dtype=int64}.0\n",
        "!!!W!!! Prod{acc_dtype=int64}.0\n"
       ]
      },
      {
       "output_type": "stream",
       "stream": "stdout",
       "text": [
        "Batch\n",
        "!!!W!!! Prod{acc_dtype=int64}.0\n",
        "!!!W!!! Prod{acc_dtype=int64}.0\n",
        "!!!W!!! Prod{acc_dtype=int64}.0\n",
        "!!!W!!! Prod{acc_dtype=int64}.0\n"
       ]
      },
      {
       "output_type": "stream",
       "stream": "stdout",
       "text": [
        "Batch\n",
        "!!!W!!! Prod{acc_dtype=int64}.0\n",
        "!!!W!!! Prod{acc_dtype=int64}.0\n",
        "!!!W!!! Prod{acc_dtype=int64}.0\n",
        "!!!W!!! Prod{acc_dtype=int64}.0\n"
       ]
      },
      {
       "output_type": "stream",
       "stream": "stdout",
       "text": [
        "Batch\n",
        "!!!W!!! Prod{acc_dtype=int64}.0\n",
        "!!!W!!! Prod{acc_dtype=int64}.0\n",
        "!!!W!!! Prod{acc_dtype=int64}.0\n",
        "!!!W!!! Prod{acc_dtype=int64}.0\n"
       ]
      },
      {
       "output_type": "stream",
       "stream": "stdout",
       "text": [
        "Batch\n",
        "!!!W!!! Prod{acc_dtype=int64}.0\n",
        "!!!W!!! Prod{acc_dtype=int64}.0\n",
        "!!!W!!! Prod{acc_dtype=int64}.0\n",
        "!!!W!!! Prod{acc_dtype=int64}.0\n"
       ]
      },
      {
       "output_type": "stream",
       "stream": "stdout",
       "text": [
        "Batch\n",
        "!!!W!!! Prod{acc_dtype=int64}.0\n",
        "!!!W!!! Prod{acc_dtype=int64}.0\n",
        "!!!W!!! Prod{acc_dtype=int64}.0\n",
        "!!!W!!! Prod{acc_dtype=int64}.0\n"
       ]
      },
      {
       "output_type": "stream",
       "stream": "stdout",
       "text": [
        "Batch\n",
        "!!!W!!! Prod{acc_dtype=int64}.0\n",
        "!!!W!!! Prod{acc_dtype=int64}.0\n",
        "!!!W!!! Prod{acc_dtype=int64}.0\n",
        "!!!W!!! Prod{acc_dtype=int64}.0\n"
       ]
      },
      {
       "output_type": "stream",
       "stream": "stdout",
       "text": [
        "Batch\n",
        "!!!W!!! Prod{acc_dtype=int64}.0\n",
        "!!!W!!! Prod{acc_dtype=int64}.0\n",
        "!!!W!!! Prod{acc_dtype=int64}.0\n",
        "!!!W!!! Prod{acc_dtype=int64}.0\n"
       ]
      },
      {
       "output_type": "stream",
       "stream": "stdout",
       "text": [
        "Batch\n",
        "!!!W!!! Prod{acc_dtype=int64}.0\n"
       ]
      },
      {
       "output_type": "stream",
       "stream": "stdout",
       "text": [
        "!!!W!!! Prod{acc_dtype=int64}.0\n",
        "!!!W!!! Prod{acc_dtype=int64}.0\n",
        "!!!W!!! Prod{acc_dtype=int64}.0\n"
       ]
      },
      {
       "output_type": "stream",
       "stream": "stdout",
       "text": [
        "Batch\n",
        "!!!W!!! Prod{acc_dtype=int64}.0\n",
        "!!!W!!! Prod{acc_dtype=int64}.0\n",
        "!!!W!!! Prod{acc_dtype=int64}.0\n",
        "!!!W!!! Prod{acc_dtype=int64}.0\n"
       ]
      },
      {
       "output_type": "stream",
       "stream": "stdout",
       "text": [
        "Batch\n",
        "!!!W!!! Prod{acc_dtype=int64}.0\n",
        "!!!W!!! Prod{acc_dtype=int64}.0\n",
        "!!!W!!! Prod{acc_dtype=int64}.0\n",
        "!!!W!!! Prod{acc_dtype=int64}.0\n"
       ]
      },
      {
       "output_type": "stream",
       "stream": "stdout",
       "text": [
        "Batch\n",
        "!!!W!!! Prod{acc_dtype=int64}.0\n",
        "!!!W!!! Prod{acc_dtype=int64}.0\n",
        "!!!W!!! Prod{acc_dtype=int64}.0\n",
        "!!!W!!! Prod{acc_dtype=int64}.0\n"
       ]
      },
      {
       "output_type": "stream",
       "stream": "stdout",
       "text": [
        "Batch\n",
        "!!!W!!! Prod{acc_dtype=int64}.0\n",
        "!!!W!!! Prod{acc_dtype=int64}.0\n",
        "!!!W!!! Prod{acc_dtype=int64}.0\n",
        "!!!W!!! Prod{acc_dtype=int64}.0\n"
       ]
      },
      {
       "output_type": "stream",
       "stream": "stdout",
       "text": [
        "Batch\n",
        "!!!W!!! Prod{acc_dtype=int64}.0\n",
        "!!!W!!! Prod{acc_dtype=int64}.0\n",
        "!!!W!!! Prod{acc_dtype=int64}.0\n",
        "!!!W!!! Prod{acc_dtype=int64}.0\n"
       ]
      },
      {
       "output_type": "stream",
       "stream": "stdout",
       "text": [
        "Batch\n",
        "!!!W!!! Prod{acc_dtype=int64}.0\n",
        "!!!W!!! Prod{acc_dtype=int64}.0\n",
        "!!!W!!! Prod{acc_dtype=int64}.0\n",
        "!!!W!!! Prod{acc_dtype=int64}.0\n"
       ]
      },
      {
       "output_type": "stream",
       "stream": "stdout",
       "text": [
        "Batch\n",
        "!!!W!!! Prod{acc_dtype=int64}.0\n",
        "!!!W!!! Prod{acc_dtype=int64}.0\n",
        "!!!W!!! Prod{acc_dtype=int64}.0\n",
        "!!!W!!! Prod{acc_dtype=int64}.0\n"
       ]
      },
      {
       "output_type": "stream",
       "stream": "stdout",
       "text": [
        "Batch\n",
        "!!!W!!! Prod{acc_dtype=int64}.0\n",
        "!!!W!!! Prod{acc_dtype=int64}.0\n",
        "!!!W!!! Prod{acc_dtype=int64}.0\n",
        "!!!W!!! Prod{acc_dtype=int64}.0\n"
       ]
      },
      {
       "output_type": "stream",
       "stream": "stdout",
       "text": [
        "Batch\n",
        "!!!W!!! Prod{acc_dtype=int64}.0\n",
        "!!!W!!! Prod{acc_dtype=int64}.0\n",
        "!!!W!!! Prod{acc_dtype=int64}.0\n",
        "!!!W!!! Prod{acc_dtype=int64}.0\n"
       ]
      },
      {
       "output_type": "stream",
       "stream": "stdout",
       "text": [
        "Batch\n",
        "!!!W!!! Prod{acc_dtype=int64}.0\n",
        "!!!W!!! Prod{acc_dtype=int64}.0\n",
        "!!!W!!! Prod{acc_dtype=int64}.0\n",
        "!!!W!!! Prod{acc_dtype=int64}.0\n"
       ]
      },
      {
       "output_type": "stream",
       "stream": "stdout",
       "text": [
        "Batch\n",
        "!!!W!!! Prod{acc_dtype=int64}.0\n",
        "!!!W!!! Prod{acc_dtype=int64}.0\n",
        "!!!W!!! Prod{acc_dtype=int64}.0\n",
        "!!!W!!! Prod{acc_dtype=int64}.0\n"
       ]
      },
      {
       "output_type": "stream",
       "stream": "stdout",
       "text": [
        "Batch\n",
        "!!!W!!! Prod{acc_dtype=int64}.0\n",
        "!!!W!!! Prod{acc_dtype=int64}.0\n",
        "!!!W!!! Prod{acc_dtype=int64}.0\n",
        "!!!W!!! Prod{acc_dtype=int64}.0\n"
       ]
      },
      {
       "output_type": "stream",
       "stream": "stdout",
       "text": [
        "Batch\n",
        "!!!W!!! Prod{acc_dtype=int64}.0\n",
        "!!!W!!! Prod{acc_dtype=int64}.0\n",
        "!!!W!!! Prod{acc_dtype=int64}.0\n",
        "!!!W!!! Prod{acc_dtype=int64}.0\n"
       ]
      },
      {
       "output_type": "stream",
       "stream": "stdout",
       "text": [
        "Batch\n",
        "!!!W!!! Prod{acc_dtype=int64}.0\n",
        "!!!W!!! Prod{acc_dtype=int64}.0\n",
        "!!!W!!! Prod{acc_dtype=int64}.0\n",
        "!!!W!!! Prod{acc_dtype=int64}.0\n"
       ]
      },
      {
       "output_type": "stream",
       "stream": "stdout",
       "text": [
        "Batch\n",
        "!!!W!!! Prod{acc_dtype=int64}.0\n",
        "!!!W!!! Prod{acc_dtype=int64}.0\n",
        "!!!W!!! Prod{acc_dtype=int64}.0\n",
        "!!!W!!! Prod{acc_dtype=int64}.0\n"
       ]
      },
      {
       "output_type": "stream",
       "stream": "stdout",
       "text": [
        "Batch\n",
        "!!!W!!! Prod{acc_dtype=int64}.0\n",
        "!!!W!!! Prod{acc_dtype=int64}.0\n",
        "!!!W!!! Prod{acc_dtype=int64}.0\n",
        "!!!W!!! Prod{acc_dtype=int64}.0\n"
       ]
      },
      {
       "output_type": "stream",
       "stream": "stdout",
       "text": [
        "Batch\n",
        "!!!W!!! Prod{acc_dtype=int64}.0\n",
        "!!!W!!! Prod{acc_dtype=int64}.0\n",
        "!!!W!!! Prod{acc_dtype=int64}.0\n",
        "!!!W!!! Prod{acc_dtype=int64}.0\n"
       ]
      },
      {
       "output_type": "stream",
       "stream": "stdout",
       "text": [
        "Batch\n",
        "!!!W!!! Prod{acc_dtype=int64}.0\n",
        "!!!W!!! Prod{acc_dtype=int64}.0\n",
        "!!!W!!! Prod{acc_dtype=int64}.0\n",
        "!!!W!!! Prod{acc_dtype=int64}.0\n"
       ]
      },
      {
       "output_type": "stream",
       "stream": "stdout",
       "text": [
        "Batch\n",
        "!!!W!!! Prod{acc_dtype=int64}.0\n",
        "!!!W!!! Prod{acc_dtype=int64}.0\n",
        "!!!W!!! Prod{acc_dtype=int64}.0\n",
        "!!!W!!! Prod{acc_dtype=int64}.0\n"
       ]
      },
      {
       "output_type": "stream",
       "stream": "stdout",
       "text": [
        "Batch\n",
        "!!!W!!! Prod{acc_dtype=int64}.0\n",
        "!!!W!!! Prod{acc_dtype=int64}.0\n",
        "!!!W!!! Prod{acc_dtype=int64}.0\n",
        "!!!W!!! Prod{acc_dtype=int64}.0\n"
       ]
      },
      {
       "output_type": "stream",
       "stream": "stdout",
       "text": [
        "Batch\n",
        "!!!W!!! Prod{acc_dtype=int64}.0\n",
        "!!!W!!! Prod{acc_dtype=int64}.0\n",
        "!!!W!!! Prod{acc_dtype=int64}.0\n",
        "!!!W!!! Prod{acc_dtype=int64}.0\n"
       ]
      },
      {
       "output_type": "stream",
       "stream": "stdout",
       "text": [
        "Batch\n",
        "!!!W!!! Prod{acc_dtype=int64}.0\n",
        "!!!W!!! Prod{acc_dtype=int64}.0\n",
        "!!!W!!! Prod{acc_dtype=int64}.0\n",
        "!!!W!!! Prod{acc_dtype=int64}.0\n"
       ]
      },
      {
       "output_type": "stream",
       "stream": "stdout",
       "text": [
        "Batch\n",
        "!!!W!!! Prod{acc_dtype=int64}.0\n",
        "!!!W!!! Prod{acc_dtype=int64}.0\n",
        "!!!W!!! Prod{acc_dtype=int64}.0\n",
        "!!!W!!! Prod{acc_dtype=int64}.0\n"
       ]
      },
      {
       "output_type": "stream",
       "stream": "stdout",
       "text": [
        "Batch\n",
        "!!!W!!! Prod{acc_dtype=int64}.0\n",
        "!!!W!!! Prod{acc_dtype=int64}.0\n",
        "!!!W!!! Prod{acc_dtype=int64}.0\n",
        "!!!W!!! Prod{acc_dtype=int64}.0\n"
       ]
      },
      {
       "output_type": "stream",
       "stream": "stdout",
       "text": [
        "Batch\n",
        "!!!W!!! Prod{acc_dtype=int64}.0\n",
        "!!!W!!! Prod{acc_dtype=int64}.0\n",
        "!!!W!!! Prod{acc_dtype=int64}.0\n",
        "!!!W!!! Prod{acc_dtype=int64}.0\n"
       ]
      },
      {
       "output_type": "stream",
       "stream": "stdout",
       "text": [
        "Batch\n",
        "!!!W!!! Prod{acc_dtype=int64}.0\n",
        "!!!W!!! Prod{acc_dtype=int64}.0\n",
        "!!!W!!! Prod{acc_dtype=int64}.0\n",
        "!!!W!!! Prod{acc_dtype=int64}.0\n"
       ]
      },
      {
       "output_type": "stream",
       "stream": "stdout",
       "text": [
        "Batch\n",
        "!!!W!!! Prod{acc_dtype=int64}.0\n",
        "!!!W!!! Prod{acc_dtype=int64}.0\n",
        "!!!W!!! Prod{acc_dtype=int64}.0\n",
        "!!!W!!! Prod{acc_dtype=int64}.0\n"
       ]
      },
      {
       "output_type": "stream",
       "stream": "stdout",
       "text": [
        "Batch\n",
        "!!!W!!! Prod{acc_dtype=int64}.0\n",
        "!!!W!!! Prod{acc_dtype=int64}.0\n",
        "!!!W!!! Prod{acc_dtype=int64}.0\n",
        "!!!W!!! Prod{acc_dtype=int64}.0\n"
       ]
      },
      {
       "output_type": "stream",
       "stream": "stdout",
       "text": [
        "Batch\n",
        "!!!W!!! Prod{acc_dtype=int64}.0\n"
       ]
      },
      {
       "output_type": "stream",
       "stream": "stdout",
       "text": [
        "!!!W!!! Prod{acc_dtype=int64}.0\n",
        "!!!W!!! Prod{acc_dtype=int64}.0\n",
        "!!!W!!! Prod{acc_dtype=int64}.0\n"
       ]
      },
      {
       "output_type": "stream",
       "stream": "stdout",
       "text": [
        "Batch\n",
        "!!!W!!! Prod{acc_dtype=int64}.0\n",
        "!!!W!!! Prod{acc_dtype=int64}.0\n",
        "!!!W!!! Prod{acc_dtype=int64}.0\n",
        "!!!W!!! Prod{acc_dtype=int64}.0\n"
       ]
      },
      {
       "output_type": "stream",
       "stream": "stdout",
       "text": [
        "Batch\n",
        "!!!W!!! Prod{acc_dtype=int64}.0\n",
        "!!!W!!! Prod{acc_dtype=int64}.0\n",
        "!!!W!!! Prod{acc_dtype=int64}.0\n",
        "!!!W!!! Prod{acc_dtype=int64}.0\n"
       ]
      },
      {
       "output_type": "stream",
       "stream": "stdout",
       "text": [
        "Batch\n",
        "!!!W!!! Prod{acc_dtype=int64}.0\n",
        "!!!W!!! Prod{acc_dtype=int64}.0\n",
        "!!!W!!! Prod{acc_dtype=int64}.0\n",
        "!!!W!!! Prod{acc_dtype=int64}.0\n"
       ]
      },
      {
       "output_type": "stream",
       "stream": "stdout",
       "text": [
        "Batch\n",
        "!!!W!!! Prod{acc_dtype=int64}.0\n",
        "!!!W!!! Prod{acc_dtype=int64}.0\n",
        "!!!W!!! Prod{acc_dtype=int64}.0\n",
        "!!!W!!! Prod{acc_dtype=int64}.0\n"
       ]
      },
      {
       "output_type": "stream",
       "stream": "stdout",
       "text": [
        "Batch\n",
        "!!!W!!! Prod{acc_dtype=int64}.0\n",
        "!!!W!!! Prod{acc_dtype=int64}.0\n",
        "!!!W!!! Prod{acc_dtype=int64}.0\n",
        "!!!W!!! Prod{acc_dtype=int64}.0\n"
       ]
      },
      {
       "output_type": "stream",
       "stream": "stdout",
       "text": [
        "Batch\n",
        "!!!W!!! Prod{acc_dtype=int64}.0\n",
        "!!!W!!! Prod{acc_dtype=int64}.0\n",
        "!!!W!!! Prod{acc_dtype=int64}.0\n",
        "!!!W!!! Prod{acc_dtype=int64}.0\n"
       ]
      },
      {
       "output_type": "stream",
       "stream": "stdout",
       "text": [
        "Batch\n",
        "!!!W!!! Prod{acc_dtype=int64}.0\n",
        "!!!W!!! Prod{acc_dtype=int64}.0\n",
        "!!!W!!! Prod{acc_dtype=int64}.0\n",
        "!!!W!!! Prod{acc_dtype=int64}.0\n"
       ]
      },
      {
       "output_type": "stream",
       "stream": "stdout",
       "text": [
        "Batch\n",
        "!!!W!!! Prod{acc_dtype=int64}.0\n",
        "!!!W!!! Prod{acc_dtype=int64}.0\n",
        "!!!W!!! Prod{acc_dtype=int64}.0\n",
        "!!!W!!! Prod{acc_dtype=int64}.0\n"
       ]
      },
      {
       "output_type": "stream",
       "stream": "stdout",
       "text": [
        "Batch\n",
        "!!!W!!! Prod{acc_dtype=int64}.0\n",
        "!!!W!!! Prod{acc_dtype=int64}.0\n",
        "!!!W!!! Prod{acc_dtype=int64}.0\n",
        "!!!W!!! Prod{acc_dtype=int64}.0\n"
       ]
      },
      {
       "output_type": "stream",
       "stream": "stdout",
       "text": [
        "Batch\n",
        "!!!W!!! Prod{acc_dtype=int64}.0\n",
        "!!!W!!! Prod{acc_dtype=int64}.0\n",
        "!!!W!!! Prod{acc_dtype=int64}.0\n",
        "!!!W!!! Prod{acc_dtype=int64}.0\n"
       ]
      },
      {
       "output_type": "stream",
       "stream": "stdout",
       "text": [
        "Batch\n",
        "!!!W!!! Prod{acc_dtype=int64}.0\n",
        "!!!W!!! Prod{acc_dtype=int64}.0\n",
        "!!!W!!! Prod{acc_dtype=int64}.0\n",
        "!!!W!!! Prod{acc_dtype=int64}.0\n"
       ]
      },
      {
       "output_type": "stream",
       "stream": "stdout",
       "text": [
        "Batch\n",
        "!!!W!!! Prod{acc_dtype=int64}.0\n",
        "!!!W!!! Prod{acc_dtype=int64}.0\n",
        "!!!W!!! Prod{acc_dtype=int64}.0\n",
        "!!!W!!! Prod{acc_dtype=int64}.0\n"
       ]
      },
      {
       "output_type": "stream",
       "stream": "stdout",
       "text": [
        "Batch\n",
        "!!!W!!! Prod{acc_dtype=int64}.0\n",
        "!!!W!!! Prod{acc_dtype=int64}.0\n",
        "!!!W!!! Prod{acc_dtype=int64}.0\n",
        "!!!W!!! Prod{acc_dtype=int64}.0\n"
       ]
      },
      {
       "output_type": "stream",
       "stream": "stdout",
       "text": [
        "Batch\n",
        "!!!W!!! Prod{acc_dtype=int64}.0\n",
        "!!!W!!! Prod{acc_dtype=int64}.0\n",
        "!!!W!!! Prod{acc_dtype=int64}.0\n",
        "!!!W!!! Prod{acc_dtype=int64}.0\n"
       ]
      },
      {
       "output_type": "stream",
       "stream": "stdout",
       "text": [
        "Batch\n",
        "!!!W!!! Prod{acc_dtype=int64}.0\n",
        "!!!W!!! Prod{acc_dtype=int64}.0\n",
        "!!!W!!! Prod{acc_dtype=int64}.0\n",
        "!!!W!!! Prod{acc_dtype=int64}.0\n"
       ]
      },
      {
       "output_type": "stream",
       "stream": "stdout",
       "text": [
        "Batch\n",
        "!!!W!!! Prod{acc_dtype=int64}.0\n",
        "!!!W!!! Prod{acc_dtype=int64}.0\n",
        "!!!W!!! Prod{acc_dtype=int64}.0\n",
        "!!!W!!! Prod{acc_dtype=int64}.0\n"
       ]
      },
      {
       "output_type": "stream",
       "stream": "stdout",
       "text": [
        "Batch\n",
        "!!!W!!! Prod{acc_dtype=int64}.0\n",
        "!!!W!!! Prod{acc_dtype=int64}.0\n",
        "!!!W!!! Prod{acc_dtype=int64}.0\n",
        "!!!W!!! Prod{acc_dtype=int64}.0\n"
       ]
      },
      {
       "output_type": "stream",
       "stream": "stdout",
       "text": [
        "Batch\n",
        "!!!W!!! Prod{acc_dtype=int64}.0\n",
        "!!!W!!! Prod{acc_dtype=int64}.0\n",
        "!!!W!!! Prod{acc_dtype=int64}.0\n",
        "!!!W!!! Prod{acc_dtype=int64}.0\n"
       ]
      },
      {
       "output_type": "stream",
       "stream": "stdout",
       "text": [
        "Batch\n",
        "!!!W!!! Prod{acc_dtype=int64}.0\n",
        "!!!W!!! Prod{acc_dtype=int64}.0\n",
        "!!!W!!! Prod{acc_dtype=int64}.0\n",
        "!!!W!!! Prod{acc_dtype=int64}.0\n"
       ]
      },
      {
       "output_type": "stream",
       "stream": "stdout",
       "text": [
        "Batch\n",
        "!!!W!!! Prod{acc_dtype=int64}.0\n",
        "!!!W!!! Prod{acc_dtype=int64}.0\n",
        "!!!W!!! Prod{acc_dtype=int64}.0\n",
        "!!!W!!! Prod{acc_dtype=int64}.0\n"
       ]
      },
      {
       "output_type": "stream",
       "stream": "stdout",
       "text": [
        "Batch\n",
        "!!!W!!! Prod{acc_dtype=int64}.0\n"
       ]
      },
      {
       "output_type": "stream",
       "stream": "stdout",
       "text": [
        "!!!W!!! Prod{acc_dtype=int64}.0\n",
        "!!!W!!! Prod{acc_dtype=int64}.0\n",
        "!!!W!!! Prod{acc_dtype=int64}.0\n"
       ]
      },
      {
       "output_type": "stream",
       "stream": "stdout",
       "text": [
        "Batch\n",
        "!!!W!!! Prod{acc_dtype=int64}.0\n",
        "!!!W!!! Prod{acc_dtype=int64}.0\n",
        "!!!W!!! Prod{acc_dtype=int64}.0\n",
        "!!!W!!! Prod{acc_dtype=int64}.0\n"
       ]
      },
      {
       "output_type": "stream",
       "stream": "stdout",
       "text": [
        "Batch\n",
        "!!!W!!! Prod{acc_dtype=int64}.0\n",
        "!!!W!!! Prod{acc_dtype=int64}.0\n",
        "!!!W!!! Prod{acc_dtype=int64}.0\n",
        "!!!W!!! Prod{acc_dtype=int64}.0\n"
       ]
      },
      {
       "output_type": "stream",
       "stream": "stdout",
       "text": [
        "Batch\n",
        "!!!W!!! Prod{acc_dtype=int64}.0\n",
        "!!!W!!! Prod{acc_dtype=int64}.0\n",
        "!!!W!!! Prod{acc_dtype=int64}.0\n",
        "!!!W!!! Prod{acc_dtype=int64}.0\n"
       ]
      },
      {
       "output_type": "stream",
       "stream": "stdout",
       "text": [
        "Batch\n",
        "!!!W!!! Prod{acc_dtype=int64}.0\n",
        "!!!W!!! Prod{acc_dtype=int64}.0\n",
        "!!!W!!! Prod{acc_dtype=int64}.0\n",
        "!!!W!!! Prod{acc_dtype=int64}.0\n"
       ]
      },
      {
       "output_type": "stream",
       "stream": "stdout",
       "text": [
        "Batch\n",
        "!!!W!!! Prod{acc_dtype=int64}.0\n",
        "!!!W!!! Prod{acc_dtype=int64}.0\n",
        "!!!W!!! Prod{acc_dtype=int64}.0\n",
        "!!!W!!! Prod{acc_dtype=int64}.0\n"
       ]
      },
      {
       "output_type": "stream",
       "stream": "stdout",
       "text": [
        "Batch\n",
        "!!!W!!! Prod{acc_dtype=int64}.0\n",
        "!!!W!!! Prod{acc_dtype=int64}.0\n",
        "!!!W!!! Prod{acc_dtype=int64}.0\n",
        "!!!W!!! Prod{acc_dtype=int64}.0\n"
       ]
      },
      {
       "output_type": "stream",
       "stream": "stdout",
       "text": [
        "Batch\n",
        "!!!W!!! Prod{acc_dtype=int64}.0\n",
        "!!!W!!! Prod{acc_dtype=int64}.0\n",
        "!!!W!!! Prod{acc_dtype=int64}.0\n",
        "!!!W!!! Prod{acc_dtype=int64}.0\n"
       ]
      },
      {
       "output_type": "stream",
       "stream": "stdout",
       "text": [
        "Batch\n",
        "!!!W!!! Prod{acc_dtype=int64}.0\n",
        "!!!W!!! Prod{acc_dtype=int64}.0\n",
        "!!!W!!! Prod{acc_dtype=int64}.0\n",
        "!!!W!!! Prod{acc_dtype=int64}.0\n"
       ]
      },
      {
       "output_type": "stream",
       "stream": "stdout",
       "text": [
        "Batch\n",
        "!!!W!!! Prod{acc_dtype=int64}.0\n",
        "!!!W!!! Prod{acc_dtype=int64}.0\n",
        "!!!W!!! Prod{acc_dtype=int64}.0\n",
        "!!!W!!! Prod{acc_dtype=int64}.0\n"
       ]
      },
      {
       "output_type": "stream",
       "stream": "stdout",
       "text": [
        "Batch\n",
        "!!!W!!! Prod{acc_dtype=int64}.0\n",
        "!!!W!!! Prod{acc_dtype=int64}.0\n",
        "!!!W!!! Prod{acc_dtype=int64}.0\n",
        "!!!W!!! Prod{acc_dtype=int64}.0\n"
       ]
      },
      {
       "output_type": "stream",
       "stream": "stdout",
       "text": [
        "Batch\n",
        "!!!W!!! Prod{acc_dtype=int64}.0\n",
        "!!!W!!! Prod{acc_dtype=int64}.0\n",
        "!!!W!!! Prod{acc_dtype=int64}.0\n",
        "!!!W!!! Prod{acc_dtype=int64}.0\n"
       ]
      },
      {
       "output_type": "stream",
       "stream": "stdout",
       "text": [
        "Batch\n",
        "!!!W!!! Prod{acc_dtype=int64}.0\n",
        "!!!W!!! Prod{acc_dtype=int64}.0\n",
        "!!!W!!! Prod{acc_dtype=int64}.0\n",
        "!!!W!!! Prod{acc_dtype=int64}.0\n"
       ]
      },
      {
       "output_type": "stream",
       "stream": "stdout",
       "text": [
        "Batch\n",
        "!!!W!!! Prod{acc_dtype=int64}.0\n",
        "!!!W!!! Prod{acc_dtype=int64}.0\n",
        "!!!W!!! Prod{acc_dtype=int64}.0\n",
        "!!!W!!! Prod{acc_dtype=int64}.0\n"
       ]
      },
      {
       "output_type": "stream",
       "stream": "stdout",
       "text": [
        "Batch\n",
        "!!!W!!! Prod{acc_dtype=int64}.0\n",
        "!!!W!!! Prod{acc_dtype=int64}.0\n",
        "!!!W!!! Prod{acc_dtype=int64}.0\n",
        "!!!W!!! Prod{acc_dtype=int64}.0\n"
       ]
      },
      {
       "output_type": "stream",
       "stream": "stdout",
       "text": [
        "Batch\n",
        "!!!W!!! Prod{acc_dtype=int64}.0\n",
        "!!!W!!! Prod{acc_dtype=int64}.0\n",
        "!!!W!!! Prod{acc_dtype=int64}.0\n",
        "!!!W!!! Prod{acc_dtype=int64}.0\n"
       ]
      },
      {
       "output_type": "stream",
       "stream": "stdout",
       "text": [
        "Batch\n",
        "!!!W!!! Prod{acc_dtype=int64}.0\n",
        "!!!W!!! Prod{acc_dtype=int64}.0\n",
        "!!!W!!! Prod{acc_dtype=int64}.0\n",
        "!!!W!!! Prod{acc_dtype=int64}.0\n"
       ]
      },
      {
       "output_type": "stream",
       "stream": "stdout",
       "text": [
        "Batch\n",
        "!!!W!!! Prod{acc_dtype=int64}.0\n",
        "!!!W!!! Prod{acc_dtype=int64}.0\n",
        "!!!W!!! Prod{acc_dtype=int64}.0\n",
        "!!!W!!! Prod{acc_dtype=int64}.0\n"
       ]
      },
      {
       "output_type": "stream",
       "stream": "stdout",
       "text": [
        "Batch\n",
        "!!!W!!! Prod{acc_dtype=int64}.0\n",
        "!!!W!!! Prod{acc_dtype=int64}.0\n",
        "!!!W!!! Prod{acc_dtype=int64}.0\n",
        "!!!W!!! Prod{acc_dtype=int64}.0\n"
       ]
      },
      {
       "output_type": "stream",
       "stream": "stdout",
       "text": [
        "Batch\n",
        "!!!W!!! Prod{acc_dtype=int64}.0\n",
        "!!!W!!! Prod{acc_dtype=int64}.0\n",
        "!!!W!!! Prod{acc_dtype=int64}.0\n",
        "!!!W!!! Prod{acc_dtype=int64}.0\n"
       ]
      },
      {
       "output_type": "stream",
       "stream": "stdout",
       "text": [
        "Batch\n",
        "!!!W!!! Prod{acc_dtype=int64}.0\n",
        "!!!W!!! Prod{acc_dtype=int64}.0\n",
        "!!!W!!! Prod{acc_dtype=int64}.0\n",
        "!!!W!!! Prod{acc_dtype=int64}.0\n"
       ]
      },
      {
       "output_type": "stream",
       "stream": "stdout",
       "text": [
        "Batch\n",
        "!!!W!!! Prod{acc_dtype=int64}.0\n",
        "!!!W!!! Prod{acc_dtype=int64}.0\n",
        "!!!W!!! Prod{acc_dtype=int64}.0\n",
        "!!!W!!! Prod{acc_dtype=int64}.0\n"
       ]
      },
      {
       "output_type": "stream",
       "stream": "stdout",
       "text": [
        "Batch\n",
        "!!!W!!! Prod{acc_dtype=int64}.0\n",
        "!!!W!!! Prod{acc_dtype=int64}.0\n",
        "!!!W!!! Prod{acc_dtype=int64}.0\n",
        "!!!W!!! Prod{acc_dtype=int64}.0\n"
       ]
      },
      {
       "output_type": "stream",
       "stream": "stdout",
       "text": [
        "Batch\n",
        "!!!W!!! Prod{acc_dtype=int64}.0\n",
        "!!!W!!! Prod{acc_dtype=int64}.0\n",
        "!!!W!!! Prod{acc_dtype=int64}.0\n",
        "!!!W!!! Prod{acc_dtype=int64}.0\n"
       ]
      },
      {
       "output_type": "stream",
       "stream": "stdout",
       "text": [
        "Batch\n",
        "!!!W!!! Prod{acc_dtype=int64}.0\n",
        "!!!W!!! Prod{acc_dtype=int64}.0\n",
        "!!!W!!! Prod{acc_dtype=int64}.0\n",
        "!!!W!!! Prod{acc_dtype=int64}.0\n"
       ]
      },
      {
       "output_type": "stream",
       "stream": "stdout",
       "text": [
        "Batch\n",
        "!!!W!!! Prod{acc_dtype=int64}.0\n",
        "!!!W!!! Prod{acc_dtype=int64}.0\n",
        "!!!W!!! Prod{acc_dtype=int64}.0\n",
        "!!!W!!! Prod{acc_dtype=int64}.0\n"
       ]
      },
      {
       "output_type": "stream",
       "stream": "stdout",
       "text": [
        "Batch\n",
        "!!!W!!! Prod{acc_dtype=int64}.0\n",
        "!!!W!!! Prod{acc_dtype=int64}.0\n",
        "!!!W!!! Prod{acc_dtype=int64}.0\n",
        "!!!W!!! Prod{acc_dtype=int64}.0\n"
       ]
      },
      {
       "output_type": "stream",
       "stream": "stdout",
       "text": [
        "Batch\n",
        "!!!W!!! Prod{acc_dtype=int64}.0\n",
        "!!!W!!! Prod{acc_dtype=int64}.0\n",
        "!!!W!!! Prod{acc_dtype=int64}.0\n",
        "!!!W!!! Prod{acc_dtype=int64}.0\n"
       ]
      },
      {
       "output_type": "stream",
       "stream": "stdout",
       "text": [
        "Batch\n",
        "!!!W!!! Prod{acc_dtype=int64}.0\n",
        "!!!W!!! Prod{acc_dtype=int64}.0\n",
        "!!!W!!! Prod{acc_dtype=int64}.0\n",
        "!!!W!!! Prod{acc_dtype=int64}.0\n"
       ]
      }
     ],
     "prompt_number": 5
    }
   ],
   "metadata": {}
  }
 ]
}
