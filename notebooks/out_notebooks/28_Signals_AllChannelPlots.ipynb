{
 "cells": [
  {
   "cell_type": "code",
   "execution_count": 1,
   "metadata": {
    "collapsed": false
   },
   "outputs": [
    {
     "name": "stderr",
     "output_type": "stream",
     "text": [
      "Using gpu device 0: GeForce GTX 780 (CNMeM is disabled, cuDNN 5005)\n"
     ]
    }
   ],
   "source": [
    "import theano\n",
    "import numpy as np\n",
    "\n",
    "import joblib\n",
    "\n",
    "from braindecode.veganlasagne.layer_util import print_layers\n",
    "from braindecode.analysis.plot_util import plot_head_signals_tight,plot_head_signals_tight_with_tube\n",
    "from braindecode.datasets.sensor_positions import tight_cap_positions\n",
    "import lasagne\n",
    "\n",
    "import os\n",
    "\n",
    "%load_ext autoreload\n",
    "%autoreload 2"
   ]
  },
  {
   "cell_type": "code",
   "execution_count": 2,
   "metadata": {
    "collapsed": true
   },
   "outputs": [],
   "source": [
    "from matplotlib import pyplot as plt\n",
    "import seaborn as sns"
   ]
  },
  {
   "cell_type": "code",
   "execution_count": 3,
   "metadata": {
    "collapsed": false
   },
   "outputs": [
    {
     "name": "stderr",
     "output_type": "stream",
     "text": [
      "/home/hartmank/braindecode/vienv/local/lib/python2.7/site-packages/sklearn/cross_validation.py:44: DeprecationWarning: This module was deprecated in version 0.18 in favor of the model_selection module into which all the refactored classes and functions are moved. Also note that the interface of the new CV iterators are different from that of this module. This module will be removed in 0.20.\n",
      "  \"This module will be removed in 0.20.\", DeprecationWarning)\n"
     ]
    }
   ],
   "source": [
    "import convvisual.receptive_field.receptive_field as receptive_field\n",
    "import convvisual.analysis.analysis as analysis\n",
    "import convvisual.analysis.utils as utils\n",
    "import convvisual.analysis.plot as plot"
   ]
  },
  {
   "cell_type": "code",
   "execution_count": 4,
   "metadata": {
    "collapsed": true
   },
   "outputs": [],
   "source": [
    "modelpath = '/home/hartmank/braindecode/data/models/'\n",
    "modelname = 'paper/ours/cnt/deep4/car/22'\n",
    "savepath  = '/home/hartmank/data/convvisual/RF_data/'"
   ]
  },
  {
   "cell_type": "code",
   "execution_count": 5,
   "metadata": {
    "collapsed": true
   },
   "outputs": [],
   "source": [
    "import os\n",
    "n_class_inputs = 50\n",
    "max_baseline_inputs = 5000 # Number of signal windows used for baseline\n",
    "wins_per_input = 3"
   ]
  },
  {
   "cell_type": "code",
   "execution_count": 6,
   "metadata": {
    "collapsed": true
   },
   "outputs": [],
   "source": [
    "def make_plot(RF_Data,RF_Result,filt,n_chans,sensor_names):\n",
    "    max_units_in_filters = np.asarray(RF_Result.max_units_in_filters)\n",
    "    filt_input_indeces = max_units_in_filters[:,1]==filt\n",
    "    max_units_in_filters = max_units_in_filters[filt_input_indeces]\n",
    "\n",
    "    round_numbers = max_units_in_filters[np.mod(max_units_in_filters[:,0],2)==0,0]\n",
    "    round_numbers += 1\n",
    "\n",
    "    X_RF_cropped = utils.get_RF(RF_Result,filt,n_chans)\n",
    "    X_RF_cropped = X_RF_cropped[np.in1d(max_units_in_filters[:,0],round_numbers)==False][:n_class_inputs]\n",
    "\n",
    "    plot_head_signals_tight_with_tube(np.median(X_RF_cropped,axis=0),np.std(X_RF_cropped,axis=0), sensor_names=sensor_names, \n",
    "        figsize=(30, 30), sensor_map=tight_cap_positions)\n",
    "    plt.ylim([-25,25])"
   ]
  },
  {
   "cell_type": "markdown",
   "metadata": {},
   "source": [
    "# Layer 04"
   ]
  },
  {
   "cell_type": "code",
   "execution_count": 7,
   "metadata": {
    "collapsed": false,
    "scrolled": true
   },
   "outputs": [],
   "source": [
    "RF_Data = receptive_field.load_ExtractorData(os.path.join(savepath,modelname,'ClassAnalysis_AllFilters_NoClass_nUnits200'))\n",
    "RF_Result = receptive_field.load_ClassData(os.path.join(savepath,modelname,'ClassAnalysis_AllFilters_NoClass_nUnits200'),4,None)\n",
    "\n",
    "n_chans = RF_Data.n_chans\n",
    "sensor_names = RF_Data.sensor_names"
   ]
  },
  {
   "cell_type": "code",
   "execution_count": 8,
   "metadata": {
    "collapsed": false
   },
   "outputs": [
    {
     "name": "stderr",
     "output_type": "stream",
     "text": [
      "/home/hartmank/braindecode/vienv/local/lib/python2.7/site-packages/matplotlib/pyplot.py:524: RuntimeWarning: More than 20 figures have been opened. Figures created through the pyplot interface (`matplotlib.pyplot.figure`) are retained until explicitly closed and may consume too much memory. (To control this warning, see the rcParam `figure.max_open_warning`).\n",
      "  max_open_warning, RuntimeWarning)\n"
     ]
    }
   ],
   "source": [
    "directory = os.path.join(savepath,'figures','L4')\n",
    "if not os.path.exists(directory):\n",
    "    os.makedirs(directory)\n",
    "\n",
    "for filt in RF_Result.max_filters:\n",
    "    make_plot(RF_Data,RF_Result,filt,n_chans,sensor_names)\n",
    "    \n",
    "    plt.savefig(os.path.join(directory,'Filt%d.png'%filt))"
   ]
  },
  {
   "cell_type": "markdown",
   "metadata": {},
   "source": [
    "# Layer 10"
   ]
  },
  {
   "cell_type": "code",
   "execution_count": 9,
   "metadata": {
    "collapsed": false,
    "scrolled": true
   },
   "outputs": [],
   "source": [
    "RF_Data = receptive_field.load_ExtractorData(os.path.join(savepath,modelname,'ClassAnalysis_AllFilters_NoClass_nUnits200'))\n",
    "RF_Result = receptive_field.load_ClassData(os.path.join(savepath,modelname,'ClassAnalysis_AllFilters_NoClass_nUnits200'),10,None)\n",
    "\n",
    "n_chans = RF_Data.n_chans\n",
    "sensor_names = RF_Data.sensor_names"
   ]
  },
  {
   "cell_type": "code",
   "execution_count": 10,
   "metadata": {
    "collapsed": false,
    "scrolled": true
   },
   "outputs": [],
   "source": [
    "directory = os.path.join(savepath,'figures','L10')\n",
    "if not os.path.exists(directory):\n",
    "    os.makedirs(directory)\n",
    "\n",
    "for filt in RF_Result.max_filters:\n",
    "    make_plot(RF_Data,RF_Result,filt,n_chans,sensor_names)\n",
    "    \n",
    "    plt.savefig(os.path.join(directory,'Filt%d.png'%filt))"
   ]
  },
  {
   "cell_type": "markdown",
   "metadata": {},
   "source": [
    "# Layer 16"
   ]
  },
  {
   "cell_type": "code",
   "execution_count": 11,
   "metadata": {
    "collapsed": false,
    "scrolled": true
   },
   "outputs": [],
   "source": [
    "RF_Data = receptive_field.load_ExtractorData(os.path.join(savepath,modelname,'ClassAnalysis_AllFilters_NoClass_nUnits200'))\n",
    "RF_Result = receptive_field.load_ClassData(os.path.join(savepath,modelname,'ClassAnalysis_AllFilters_NoClass_nUnits200'),16,None)\n",
    "\n",
    "n_chans = RF_Data.n_chans\n",
    "sensor_names = RF_Data.sensor_names"
   ]
  },
  {
   "cell_type": "code",
   "execution_count": 12,
   "metadata": {
    "collapsed": false,
    "scrolled": true
   },
   "outputs": [],
   "source": [
    "directory = os.path.join(savepath,'figures','L16')\n",
    "if not os.path.exists(directory):\n",
    "    os.makedirs(directory)\n",
    "\n",
    "for filt in RF_Result.max_filters:\n",
    "    make_plot(RF_Data,RF_Result,filt,n_chans,sensor_names)\n",
    "    \n",
    "    plt.savefig(os.path.join(directory,'Filt%d.png'%filt))"
   ]
  },
  {
   "cell_type": "markdown",
   "metadata": {},
   "source": [
    "# Layer 22"
   ]
  },
  {
   "cell_type": "code",
   "execution_count": 7,
   "metadata": {
    "collapsed": false,
    "scrolled": true
   },
   "outputs": [],
   "source": [
    "RF_Data = receptive_field.load_ExtractorData(os.path.join(savepath,modelname,'ClassAnalysis_AllFilters_NoClass_nUnits200'))\n",
    "RF_Result = receptive_field.load_ClassData(os.path.join(savepath,modelname,'ClassAnalysis_AllFilters_NoClass_nUnits200'),22,None)\n",
    "\n",
    "n_chans = RF_Data.n_chans\n",
    "sensor_names = RF_Data.sensor_names"
   ]
  },
  {
   "cell_type": "code",
   "execution_count": null,
   "metadata": {
    "collapsed": false,
    "scrolled": true
   },
   "outputs": [
    {
     "name": "stdout",
     "output_type": "stream",
     "text": [
      "(100, 128, 1000) [100, 128, -1] (4953600,) ([0], 128, -1)\n",
      "(100, 128, 1000) [100, 128, -1] (4953600,) ([0], 128, -1)\n",
      "(100, 128, 1000) [100, 128, -1] (4953600,) ([0], 128, -1)\n",
      "(100, 128, 1000) [100, 128, -1] (4953600,) ([0], 128, -1)\n",
      "(100, 128, 1000) [100, 128, -1] (4953600,) ([0], 128, -1)\n",
      "(100, 128, 1000) [100, 128, -1] (4953600,) ([0], 128, -1)\n",
      "(100, 128, 1000) [100, 128, -1] (4953600,) ([0], 128, -1)\n",
      "(100, 128, 1000) [100, 128, -1] (4953600,) ([0], 128, -1)\n",
      "(100, 128, 1000) [100, 128, -1] (4953600,) ([0], 128, -1)\n",
      "(100, 128, 1000) [100, 128, -1] (4953600,) ([0], 128, -1)\n",
      "(100, 128, 1000) [100, 128, -1] (4953600,) ([0], 128, -1)\n",
      "(100, 128, 1000) [100, 128, -1] (4953600,) ([0], 128, -1)\n"
     ]
    }
   ],
   "source": [
    "directory = os.path.join(savepath,'figures','L22')\n",
    "if not os.path.exists(directory):\n",
    "    os.makedirs(directory)\n",
    "\n",
    "for filt in RF_Result.max_filters[104:]:\n",
    "    make_plot(RF_Data,RF_Result,filt,n_chans,sensor_names)\n",
    "    \n",
    "    plt.savefig(os.path.join(directory,'Filt%d.png'%filt))\n",
    "    plt.close()"
   ]
  },
  {
   "cell_type": "code",
   "execution_count": 24,
   "metadata": {
    "collapsed": false
   },
   "outputs": [],
   "source": [
    "tmp = RF_Result.X_RF_complete[1]"
   ]
  },
  {
   "cell_type": "code",
   "execution_count": 14,
   "metadata": {
    "collapsed": false
   },
   "outputs": [],
   "source": [
    "plt.close('all')"
   ]
  },
  {
   "cell_type": "code",
   "execution_count": null,
   "metadata": {
    "collapsed": true
   },
   "outputs": [],
   "source": []
  }
 ],
 "metadata": {
  "kernelspec": {
   "display_name": "Python 2",
   "language": "python",
   "name": "python2"
  },
  "language_info": {
   "codemirror_mode": {
    "name": "ipython",
    "version": 2
   },
   "file_extension": ".py",
   "mimetype": "text/x-python",
   "name": "python",
   "nbconvert_exporter": "python",
   "pygments_lexer": "ipython2",
   "version": "2.7.12"
  }
 },
 "nbformat": 4,
 "nbformat_minor": 0
}
