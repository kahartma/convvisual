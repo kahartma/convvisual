{
 "metadata": {
  "kernelspec": {
   "display_name": "Python 2",
   "language": "python",
   "name": "python2"
  },
  "language_info": {
   "codemirror_mode": {
    "name": "ipython",
    "version": 2
   },
   "file_extension": ".py",
   "mimetype": "text/x-python",
   "name": "python",
   "nbconvert_exporter": "python",
   "pygments_lexer": "ipython2",
   "version": "2.7.12"
  },
  "name": ""
 },
 "nbformat": 3,
 "nbformat_minor": 0,
 "worksheets": [
  {
   "cells": [
    {
     "cell_type": "code",
     "collapsed": true,
     "input": [
      "import os\n",
      "subject = 36\n",
      "if \"SUBJECT\" in os.environ:\n",
      "    subject = int(os.environ['SUBJECT'])"
     ],
     "language": "python",
     "metadata": {},
     "outputs": [],
     "prompt_number": 1
    },
    {
     "cell_type": "code",
     "collapsed": false,
     "input": [
      "import numpy as np\n",
      "import datetime as dt\n",
      "import scipy\n",
      "import joblib\n",
      "\n",
      "import convvisual.analysis.data_preparation as cdp\n",
      "import convvisual.analysis.utils as cu\n",
      "import convvisual.analysis.plot_new as plot\n",
      "import convvisual.receptive_field.receptive_field as crf\n",
      "\n",
      "\n",
      "from braindecode.analysis.plot_util import plot_head_signals_tight,plot_head_signals_tight_with_tube\n",
      "from braindecode.datasets.sensor_positions import tight_cap_positions\n",
      "\n",
      "import matplotlib.pyplot as plt\n",
      "from PIL import Image\n",
      "\n",
      "%load_ext autoreload\n",
      "%autoreload 2"
     ],
     "language": "python",
     "metadata": {},
     "outputs": [
      {
       "output_type": "stream",
       "stream": "stderr",
       "text": [
        "Using gpu device 0: GeForce GTX TITAN X (CNMeM is disabled, cuDNN 5005)\n"
       ]
      },
      {
       "output_type": "stream",
       "stream": "stderr",
       "text": [
        "/home/hartmank/braindecode/vienv/local/lib/python2.7/site-packages/sklearn/cross_validation.py:44: DeprecationWarning: This module was deprecated in version 0.18 in favor of the model_selection module into which all the refactored classes and functions are moved. Also note that the interface of the new CV iterators are different from that of this module. This module will be removed in 0.20.\n",
        "  \"This module will be removed in 0.20.\", DeprecationWarning)\n"
       ]
      }
     ],
     "prompt_number": 2
    },
    {
     "cell_type": "code",
     "collapsed": false,
     "input": [
      "modelpath = '/home/hartmank/braindecode/data/models/'\n",
      "modelname = 'paper/ours/cnt/deep4/car/%d'%subject\n",
      "savepath  = '/home/hartmank/data/convvisual/RF_data_paper/'\n",
      "#folder = 'FilterAnalysis_nUnits100'\n",
      "folder = 'ClassAnalysis_FilterDiff_nUnits100_nFilters05'"
     ],
     "language": "python",
     "metadata": {},
     "outputs": [],
     "prompt_number": 3
    },
    {
     "cell_type": "code",
     "collapsed": false,
     "input": [
      "datapath = os.path.join(savepath,modelname,folder)\n",
      "figurepath = os.path.join(savepath,'figures',str(subject),folder)"
     ],
     "language": "python",
     "metadata": {},
     "outputs": [],
     "prompt_number": 4
    },
    {
     "cell_type": "code",
     "collapsed": false,
     "input": [
      "misc_data = cdp.load_misc_data(datapath)\n",
      "sensor_names = misc_data['sensor_names']\n",
      "nFilters = 100\n",
      "nFeatures=7\n",
      "fig_h = 10\n",
      "fig_h_big = 50\n",
      "sampling_rate = misc_data['sampling_rate']\n",
      "targets = misc_data['targets']"
     ],
     "language": "python",
     "metadata": {},
     "outputs": [],
     "prompt_number": 5
    },
    {
     "cell_type": "code",
     "collapsed": true,
     "input": [
      "def save_fig_compress(fname):\n",
      "    plt.savefig(fname)\n",
      "    im = Image.open(fname)\n",
      "    im2 = im.convert('RGB').convert('P', palette=Image.ADAPTIVE)\n",
      "    im2.save( fname , format='PNG')\n",
      "    \n",
      "def join_and_mk_path(oldpath,newpath):\n",
      "    newpath = os.path.join(oldpath,newpath)\n",
      "    if not os.path.isdir(newpath):\n",
      "        os.makedirs(newpath)\n",
      "    return newpath\n",
      "\n",
      "def save_data(data,path,fname):\n",
      "    joblib.dump(data,os.path.join(path,fname))\n",
      "    \n",
      "def save_str(data,path,fname):\n",
      "    f=open(os.path.join(path,fname),'w')\n",
      "    print >> f,data\n",
      "    f.close()"
     ],
     "language": "python",
     "metadata": {},
     "outputs": [],
     "prompt_number": 6
    },
    {
     "cell_type": "code",
     "collapsed": false,
     "input": [
      "n1=dt.datetime.now()\n",
      "\n",
      "KS_percentages_sum = np.zeros((nFeatures,len(misc_data['layer_indeces']),len(misc_data['classes'])))\n",
      "KS_percentages_mean = np.zeros((nFeatures,len(misc_data['layer_indeces']),len(misc_data['classes'])))\n",
      "KS_percentages_max = np.zeros((nFeatures,len(misc_data['layer_indeces']),len(misc_data['classes'])))\n",
      "\n",
      "for i_lay,layer_ind in enumerate(misc_data['layer_indeces']):#misc_data['layer_indeces']:\n",
      "    print 'Layer%d'%layer_ind\n",
      "    tmppath_layer = join_and_mk_path(figurepath,'Layer%d'%layer_ind)\n",
      "    \n",
      "    X_baseline = cdp.load_baseline_data(datapath,layer_ind)\n",
      "    F_baseline = cdp.load_baseline_feature_data(datapath,layer_ind)\n",
      "    labels = cdp.load_labels_data(datapath,layer_ind)\n",
      "    labels['FFT'] = labels\n",
      "    labels_flat = cu.create_flattened_featurearr(labels['labels'])\n",
      "    \n",
      "    feature_entry_flat = cu.create_flattened_featurearr(F_baseline['feature_labels'])\n",
      "    F_baseline_flat = cu.create_flattened_featurearr(F_baseline['features'],shape=(F_baseline['features'][0].shape[0],-1))\n",
      "    \n",
      "    for i_cl,cl in enumerate(misc_data['classes']):\n",
      "        print 'Class%s'%str(cl)\n",
      "        tmppath_cl = join_and_mk_path(tmppath_layer,'%s'%str(cl))\n",
      "        \n",
      "        RF_class = crf.load_ClassData(datapath,layer_ind,cl)\n",
      "        \n",
      "        \n",
      "        KS_counts = np.zeros((len(F_baseline['feature_names']),len(RF_class.max_filters)))\n",
      "        KS_means = np.zeros((len(F_baseline['feature_names']),len(RF_class.max_filters)))\n",
      "        KS_max = np.zeros((len(F_baseline['feature_names']),len(RF_class.max_filters)))\n",
      "        \n",
      "        tmp_FFT_shape = F_baseline['features'][0].shape\n",
      "        FFT_diff = np.zeros((tmp_FFT_shape[2],len(RF_class.max_filters)))\n",
      "        FFT_KS = np.zeros((tmp_FFT_shape[2],len(RF_class.max_filters)))\n",
      "        Phase_diff = np.zeros((tmp_FFT_shape[2],len(RF_class.max_filters)))\n",
      "        Phase_KS = np.zeros((tmp_FFT_shape[2],len(RF_class.max_filters)))\n",
      "        Electrode_KS = np.zeros((tmp_FFT_shape[1],len(RF_class.max_filters)))\n",
      "        Electrode_KS_max = np.zeros((tmp_FFT_shape[1],len(RF_class.max_filters)))\n",
      "        \n",
      "        frequencies = scipy.fftpack.fftfreq(X_baseline['X_baseline'].shape[2], 1./sampling_rate)\n",
      "        frequencies = frequencies[:frequencies.shape[0]/2].astype(str)[1:]\n",
      "        \n",
      "        \n",
      "        for i_filt,filter_ind in enumerate(RF_class.max_filters):#in RF_class.max_filters:\n",
      "            print 'Filter%d'%filter_ind\n",
      "            tmppath_filter = join_and_mk_path(tmppath_cl,'Filter%d'%filter_ind)\n",
      "            \n",
      "            X_RF = cdp.load_RF_data(datapath,layer_ind,cl,filter_ind)\n",
      "            F_RF = cdp.load_RF_feature_data(datapath,layer_ind,cl,filter_ind)\n",
      "            KS = cdp.load_KS_score_data(datapath,layer_ind,cl,filter_ind)\n",
      "            \n",
      "            max_units = X_RF['max_units_in_filters'][:,0]\n",
      "            tmp_targets = targets[max_units]\n",
      "            tmp_target_count = np.bincount(tmp_targets)\n",
      "            save_str(tmp_target_count.tolist(),tmppath_filter,'targets')\n",
      "            \n",
      "            n = float(len(X_baseline['X_baseline']))\n",
      "            n2 = float(len(X_RF['X_RF_cropped']))\n",
      "            KS_D_critical = np.sqrt(-1/2*np.log(0.05/2))*np.sqrt((n+n2)/(n*n2))\n",
      "            \n",
      "            all_KS = list()\n",
      "            all_p = list()\n",
      "            for feat_name in F_baseline['feature_names']:\n",
      "                all_KS.extend(KS[feat_name]['KS_kuiper'])\n",
      "                all_p.extend(KS[feat_name]['p_kuiper'])\n",
      "            all_KS = np.asarray(all_KS)\n",
      "            all_p = np.asarray(all_p)\n",
      "            \n",
      "            bonferroni_n = len(all_KS)\n",
      "            all_p *= bonferroni_n\n",
      "            \n",
      "            F_RF_flat = cu.create_flattened_featurearr(F_RF['features'],shape=(F_RF['features'][0].shape[0],-1))\n",
      "            \n",
      "            #valid_indeces = np.where(np.logical_and(all_p<0.05,all_KS>KS_D_critical))[0]\n",
      "            valid_indeces = np.where(all_p<0.05)[0]\n",
      "            sort_mean_diff = all_KS[valid_indeces].argsort()[::-1]\n",
      "            sort_mean_diff = valid_indeces[sort_mean_diff]\n",
      "            \n",
      "                \n",
      "            plot.print_features(tmppath_filter,all_KS,all_p,labels_flat,sort_mean_diff)\n",
      "            \n",
      "            \n",
      "            print 'Head'\n",
      "            if layer_ind != 3:\n",
      "                tmp_s = cu.percentile_deviation(X_RF['X_RF_cropped'],axis=0)\n",
      "                plot_head_signals_tight_with_tube(np.median(X_RF['X_RF_cropped'],axis=0),tmp_s, sensor_names=sensor_names, \n",
      "                    figsize=(25, 25), sensor_map=tight_cap_positions)\n",
      "                plt.ylim([-25,25])\n",
      "                save_fig_compress(os.path.join(tmppath_filter,'HeadSignals.png'))\n",
      "                plt.close()\n",
      "            \n",
      "            \n",
      "            print 'FeatDist'\n",
      "            tmppath_dist = join_and_mk_path(tmppath_filter,'Dist_plots')\n",
      "            tmp_root = int(np.sqrt(len(sort_mean_diff[:99])))+1\n",
      "            f, ax = plt.subplots(tmp_root,tmp_root,figsize=(8*tmp_root,7*tmp_root))\n",
      "            if tmp_root>1:\n",
      "                ax = ax.flatten()\n",
      "            else:\n",
      "                ax = [ax]\n",
      "            for i,idx in enumerate(sort_mean_diff[:99]):\n",
      "                plt.sca(ax[i])\n",
      "                plot.plot_dist_comparison(F_RF_flat,F_baseline_flat,labels_flat,idx,title='KS: %f  p:%f'%(all_KS[idx],all_p[idx]))\n",
      "            save_fig_compress(os.path.join(tmppath_dist,'FeatDist.png'))\n",
      "            plt.close()\n",
      "            \n",
      "            \n",
      "            print 'Ch'\n",
      "            use_channels = list()\n",
      "            for entry in feature_entry_flat[valid_indeces]:\n",
      "                use_channels.append(entry[1][0])\n",
      "            use_channels = np.unique(use_channels)\n",
      "            tmppath_chan = join_and_mk_path(tmppath_filter,'Channel_plots')\n",
      "            tmp_root = int(np.sqrt(len(use_channels)))+1\n",
      "            f, ax = plt.subplots(tmp_root,tmp_root,figsize=(8*tmp_root,7*tmp_root))\n",
      "            if tmp_root>1:\n",
      "                ax = ax.flatten()\n",
      "            else:\n",
      "                ax = [ax]\n",
      "            for i,chan in enumerate(use_channels):\n",
      "                plt.sca(ax[i])\n",
      "                plot.plot_channel_avg(X_RF['X_RF_cropped'],chan,title='Channel %s'%sensor_names[chan])\n",
      "            save_fig_compress(os.path.join(tmppath_chan,'Ch.png'))\n",
      "            plt.close()\n",
      "            \n",
      "            \n",
      "            \n",
      "            FFT_base = F_baseline['features'][0]\n",
      "            FFT_filt = F_RF['features'][0]\n",
      "            Phase_base = F_baseline['features'][2]\n",
      "            Phase_filt = F_RF['features'][2]\n",
      "            \n",
      "            KS_FFT_tmp = KS['FFT']['KS_kuiper']\n",
      "            #FFT_tmp_vali = np.logical_and(KS['FFT']['KS']>KS_D_critical,KS['FFT']['p']*bonferroni_n<0.05)\n",
      "            FFT_tmp_vali = KS['FFT']['p_kuiper']*bonferroni_n<0.05\n",
      "            KS_Phase_tmp = KS['Phase']['KS_kuiper']\n",
      "            #Phase_tmp_vali = np.logical_and(KS['Phase']['KS']>KS_D_critical,KS['Phase']['p']*bonferroni_n<0.05)\n",
      "            Phase_tmp_vali = KS['Phase']['p_kuiper']*bonferroni_n<0.05\n",
      "            KS_FFT_tmp[FFT_tmp_vali==False] = 0\n",
      "            KS_Phase_tmp[Phase_tmp_vali==False] = 0\n",
      "            \n",
      "            KS_FFT_tmp = KS_FFT_tmp.reshape(FFT_filt.shape[1:])\n",
      "            FFT_tmp_vali = FFT_tmp_vali.reshape(FFT_filt.shape[1:])\n",
      "            KS_Phase_tmp = KS_Phase_tmp.reshape(Phase_filt.shape[1:])\n",
      "            Phase_tmp_vali = Phase_tmp_vali.reshape(Phase_filt.shape[1:])\n",
      "            \n",
      "            FFT_tmp_vali_sum = FFT_tmp_vali.sum(axis=1)\n",
      "            FFT_tmp_vali_sum[FFT_tmp_vali_sum==0] = 1\n",
      "            Phase_tmp_vali_sum = Phase_tmp_vali.sum(axis=1)\n",
      "            Phase_tmp_vali_sum[Phase_tmp_vali_sum==0] = 1\n",
      "            Electrode_KS[:,i_filt] = (KS_FFT_tmp.sum(axis=1)+KS_Phase_tmp.sum(axis=1))/(FFT_tmp_vali_sum+Phase_tmp_vali_sum)\n",
      "            Electrode_KS[np.isnan(Electrode_KS[:,i_filt]),i_filt]=0\n",
      "            Electrode_KS_max[:,i_filt] = np.maximum(KS_FFT_tmp.max(axis=1),KS_Phase_tmp.max(axis=1))\n",
      "\n",
      "            \n",
      "            FFT_tmp_vali_sum = FFT_tmp_vali.sum(axis=0)\n",
      "            FFT_tmp_vali_sum[FFT_tmp_vali_sum==0] = 1\n",
      "            Phase_tmp_vali_sum = Phase_tmp_vali.sum(axis=0)\n",
      "            Phase_tmp_vali_sum[Phase_tmp_vali_sum==0] = 1\n",
      "            FFT_KS[:,i_filt] = KS_FFT_tmp.sum(axis=0)/FFT_tmp_vali_sum\n",
      "            FFT_KS[np.isnan(FFT_KS[:,i_filt]),i_filt]=0\n",
      "            Phase_KS[:,i_filt] = KS_Phase_tmp.sum(axis=0)/Phase_tmp_vali_sum\n",
      "            Phase_KS[np.isnan(Phase_KS[:,i_filt]),i_filt]=0\n",
      "\n",
      "            FFT_diff[:,i_filt] = np.mean(np.log2(np.divide(np.median(FFT_filt,axis=0),np.median(FFT_base,axis=0))),axis=0)\n",
      "            Phase_diff[:,i_filt] = -1*np.mean(np.log2(np.divide(scipy.stats.circvar(Phase_filt,axis=0),scipy.stats.circvar(Phase_base,axis=0))),axis=0)\n",
      "            \n",
      "            print 'KS'\n",
      "            for i,feat_name in enumerate(F_baseline['feature_names']):\n",
      "                tmp_KS = KS[feat_name]['KS_kuiper']\n",
      "                tmp_p = KS[feat_name]['p_kuiper']*bonferroni_n\n",
      "                #tmp_valid = np.logical_and(tmp_KS>KS_D_critical,tmp_p<0.05)\n",
      "                tmp_valid = tmp_p<0.05\n",
      "                if len(tmp_KS[tmp_valid])>0:\n",
      "                    KS_counts[i,i_filt] = tmp_KS[tmp_valid].sum()\n",
      "                    KS_means[i,i_filt] = tmp_KS[tmp_valid].mean()\n",
      "                    KS_max[i,i_filt] = tmp_KS[tmp_valid].max()\n",
      "                else:\n",
      "                    KS_counts[i,i_filt] = 0\n",
      "                    KS_means[i,i_filt] = 0\n",
      "                    KS_max[i,i_filt] = 0\n",
      "                \n",
      "                \n",
      "            ctrl_counts = KS_counts[:,i_filt].sum()\n",
      "            ctrl_means = KS_means[:,i_filt].sum()\n",
      "            ctrl_max = KS_max[:,i_filt].sum()\n",
      "            \n",
      "            if ctrl_counts==0:\n",
      "                ctrl_counts = 1\n",
      "            if ctrl_means==0:\n",
      "                ctrl_means = 1\n",
      "            if ctrl_max==0:\n",
      "                ctrl_max = 1\n",
      "                \n",
      "            KS_percentages_sum[:,i_lay,i_cl] += KS_counts[:,i_filt]/ctrl_counts\n",
      "            KS_percentages_mean[:,i_lay,i_cl] += KS_means[:,i_filt]/ctrl_means\n",
      "            KS_percentages_max[:,i_lay,i_cl] += KS_max[:,i_filt]/ctrl_max\n",
      "            plt.cla()\n",
      "                \n",
      "            \n",
      "        KS_percentages_sum[:,i_lay,i_cl] /= len(RF_class.max_filters)\n",
      "        KS_percentages_mean[:,i_lay,i_cl] /= len(RF_class.max_filters)\n",
      "        KS_percentages_max[:,i_lay,i_cl] /= len(RF_class.max_filters)\n",
      "            \n",
      "            \n",
      "        plot.KS_bar_plot(KS_counts,F_baseline['feature_names'],KS_D_critical,fig_h)\n",
      "        save_fig_compress(os.path.join(tmppath_cl,'FiltKSScores.png'))\n",
      "        plt.close()\n",
      "        save_data(KS_counts,tmppath_cl,'KS_counts')\n",
      "        \n",
      "        \n",
      "        plot.grid_plot(FFT_diff,sensor_names,frequencies,fig_h_big,\n",
      "                       (range(FFT_diff.shape[1]),range(FFT_diff.shape[1])),\n",
      "                       (range(FFT_diff.shape[0]),frequencies),\n",
      "                       ('Filter','Frequency'),'Mean difference of median amplitude over all electrodes','jet')\n",
      "        save_fig_compress(os.path.join(tmppath_cl,'FFT_meanDiff.png'))\n",
      "        plt.close()\n",
      "        save_data(FFT_diff,tmppath_cl,'FFT_diff')\n",
      "        \n",
      "        plot.grid_plot(FFT_KS,sensor_names,frequencies,fig_h_big,\n",
      "                       (range(FFT_KS.shape[1]),range(FFT_KS.shape[1])),\n",
      "                       (range(FFT_KS.shape[0]),frequencies),\n",
      "                       ('Filter','Frequency'),'Mean KS Score of amplitude distributions over all electrodes','winter')\n",
      "        save_fig_compress(os.path.join(tmppath_cl,'FFT_meanKS.png'))\n",
      "        plt.close()\n",
      "        save_data(FFT_KS,tmppath_cl,'FFT_KS')\n",
      "        \n",
      "        plot.grid_plot(Phase_diff,sensor_names,frequencies[1:],fig_h_big,\n",
      "                       (range(Phase_diff.shape[1]),range(Phase_diff.shape[1])),\n",
      "                       (range(Phase_diff.shape[0]),frequencies),\n",
      "                       ('Filter','Frequency'),'Mean difference in phase variance over all electrodes','jet')\n",
      "        save_fig_compress(os.path.join(tmppath_cl,'Phase_meanDiff.png'))\n",
      "        plt.close()\n",
      "        save_data(Phase_diff,tmppath_cl,'Phase_diff')\n",
      "        \n",
      "        plot.grid_plot(Phase_KS,sensor_names,frequencies[1:],fig_h_big,\n",
      "                       (range(Phase_KS.shape[1]),range(Phase_KS.shape[1])),\n",
      "                       (range(Phase_KS.shape[0]),frequencies),\n",
      "                       ('Filter','Frequency'),'Mean KS Score of phase distribution over all electrodes','winter')\n",
      "        save_fig_compress(os.path.join(tmppath_cl,'Phase_meanKS.png'))\n",
      "        plt.close()\n",
      "        save_data(Phase_KS,tmppath_cl,'Phase_KS')\n",
      "        \n",
      "        plot.grid_plot(Electrode_KS,sensor_names,frequencies,fig_h_big,\n",
      "                       (range(Electrode_KS.shape[1]),range(Electrode_KS.shape[1])),\n",
      "                       (range(Electrode_KS.shape[0]),sensor_names[range(Electrode_KS.shape[0])]),\n",
      "                       ('Filter','Electrode'),'Mean KS Score of Electrodes','winter')\n",
      "        save_fig_compress(os.path.join(tmppath_cl,'Electrode_meanKS.png'))\n",
      "        plt.close()\n",
      "        save_data(Electrode_KS,tmppath_cl,'Electrode_KS')\n",
      "        \n",
      "        plot.grid_plot(Electrode_KS_max,sensor_names,frequencies,fig_h_big,\n",
      "                       (range(Electrode_KS.shape[1]),range(Electrode_KS.shape[1])),\n",
      "                       (range(Electrode_KS.shape[0]),sensor_names[range(Electrode_KS.shape[0])]),\n",
      "                       ('Filter','Electrode'),'Max KS Score of Electrodes','cool')\n",
      "        save_fig_compress(os.path.join(tmppath_cl,'Electrode_maxKS.png'))\n",
      "        plt.close()\n",
      "        save_data(Electrode_KS_max,tmppath_cl,'Electrode_KS_max')\n",
      "        \n",
      "        \n",
      "    \n",
      "for i,cl in enumerate(misc_data['classes']):\n",
      "    tmp_percentages = KS_percentages_sum[:,:,i]\n",
      "    plt.cla()\n",
      "    colors = plt.cm.jet(np.linspace(0, 0.9,len(F_baseline['feature_names'])))\n",
      "    plt.figure()\n",
      "    for j in range(len(F_baseline['feature_names'])):\n",
      "        tmp = plt.plot(tmp_percentages[j].T,color=colors[j],label=F_baseline['feature_names'][j])\n",
      "    plt.legend()\n",
      "    plt.ylim([0,1])\n",
      "    plt.gca().set_xticklabels(misc_data['layer_indeces'])\n",
      "    save_fig_compress(os.path.join(figurepath,'KS_Evolution_sum_Class%s.png'%str(cl)))\n",
      "    plt.title('(Sum) Percentual Evolution of KS scores Class%s'%str(cl))\n",
      "    plt.close()\n",
      "save_data(KS_percentages_sum,figurepath,'KS_percentages_sum')\n",
      "    \n",
      "for i,cl in enumerate(misc_data['classes']):\n",
      "    tmp_percentages = KS_percentages_mean[:,:,i]\n",
      "    plt.cla()\n",
      "    colors = plt.cm.jet(np.linspace(0, 0.9,len(F_baseline['feature_names'])))\n",
      "    plt.figure()\n",
      "    for j in range(len(F_baseline['feature_names'])):\n",
      "        tmp = plt.plot(tmp_percentages[j].T,color=colors[j],label=F_baseline['feature_names'][j])\n",
      "    plt.legend()\n",
      "    plt.ylim([0,1])\n",
      "    plt.gca().set_xticklabels(misc_data['layer_indeces'])\n",
      "    save_fig_compress(os.path.join(figurepath,'KS_Evolution_mean_Class%s.png'%str(cl)))\n",
      "    plt.title('(Mean) Percentual Evolution of KS scores Class%s'%str(cl))\n",
      "    plt.close()\n",
      "save_data(KS_percentages_mean,figurepath,'KS_percentages_mean')\n",
      "    \n",
      "for i,cl in enumerate(misc_data['classes']):\n",
      "    tmp_percentages = KS_percentages_max[:,:,i]\n",
      "    plt.cla()\n",
      "    colors = plt.cm.jet(np.linspace(0, 0.9,len(F_baseline['feature_names'])))\n",
      "    plt.figure()\n",
      "    for j in range(len(F_baseline['feature_names'])):\n",
      "        tmp = plt.plot(tmp_percentages[j].T,color=colors[j],label=F_baseline['feature_names'][j])\n",
      "    plt.legend()\n",
      "    plt.ylim([0,1])\n",
      "    plt.gca().set_xticklabels(misc_data['layer_indeces'])\n",
      "    save_fig_compress(os.path.join(figurepath,'KS_Evolution_max_Class%s.png'%str(cl)))\n",
      "    plt.title('(Max) Percentual Evolution of KS scores Class%s'%str(cl))\n",
      "    plt.close()\n",
      "save_data(KS_percentages_max,figurepath,'KS_percentages_max')\n",
      "        \n",
      "        \n",
      "n2=dt.datetime.now()\n",
      "print (n2-n1).seconds"
     ],
     "language": "python",
     "metadata": {},
     "outputs": [
      {
       "output_type": "stream",
       "stream": "stdout",
       "text": [
        "Layer3\n",
        "Class0\n",
        "Filter0\n",
        "Head\n",
        "FeatDist\n"
       ]
      },
      {
       "output_type": "stream",
       "stream": "stdout",
       "text": [
        "Ch\n"
       ]
      },
      {
       "output_type": "stream",
       "stream": "stdout",
       "text": [
        "KS\n",
        "Filter7\n",
        "Head\n",
        "FeatDist\n"
       ]
      },
      {
       "output_type": "stream",
       "stream": "stdout",
       "text": [
        "Ch\n"
       ]
      },
      {
       "output_type": "stream",
       "stream": "stdout",
       "text": [
        "KS\n",
        "Filter17\n",
        "Head\n",
        "FeatDist\n"
       ]
      },
      {
       "output_type": "stream",
       "stream": "stdout",
       "text": [
        "Ch\n"
       ]
      },
      {
       "output_type": "stream",
       "stream": "stdout",
       "text": [
        "KS\n",
        "Filter13\n",
        "Head\n",
        "FeatDist\n"
       ]
      },
      {
       "output_type": "stream",
       "stream": "stdout",
       "text": [
        "Ch\n"
       ]
      },
      {
       "output_type": "stream",
       "stream": "stdout",
       "text": [
        "KS\n",
        "Filter2\n",
        "Head\n",
        "FeatDist\n"
       ]
      },
      {
       "output_type": "stream",
       "stream": "stdout",
       "text": [
        "Ch\n"
       ]
      },
      {
       "output_type": "stream",
       "stream": "stdout",
       "text": [
        "KS\n"
       ]
      },
      {
       "output_type": "stream",
       "stream": "stdout",
       "text": [
        "Class1\n",
        "Filter0\n",
        "Head\n",
        "FeatDist\n"
       ]
      },
      {
       "output_type": "stream",
       "stream": "stdout",
       "text": [
        "Ch\n"
       ]
      },
      {
       "output_type": "stream",
       "stream": "stdout",
       "text": [
        "KS\n",
        "Filter7\n",
        "Head\n",
        "FeatDist\n"
       ]
      },
      {
       "output_type": "stream",
       "stream": "stdout",
       "text": [
        "Ch\n"
       ]
      },
      {
       "output_type": "stream",
       "stream": "stdout",
       "text": [
        "KS\n",
        "Filter17\n",
        "Head\n",
        "FeatDist\n"
       ]
      },
      {
       "output_type": "stream",
       "stream": "stdout",
       "text": [
        "Ch\n"
       ]
      },
      {
       "output_type": "stream",
       "stream": "stdout",
       "text": [
        "KS\n",
        "Filter2\n",
        "Head\n",
        "FeatDist\n"
       ]
      },
      {
       "output_type": "stream",
       "stream": "stdout",
       "text": [
        "Ch\n"
       ]
      },
      {
       "output_type": "stream",
       "stream": "stdout",
       "text": [
        "KS\n",
        "Filter13\n",
        "Head\n",
        "FeatDist\n"
       ]
      },
      {
       "output_type": "stream",
       "stream": "stdout",
       "text": [
        "Ch\n"
       ]
      },
      {
       "output_type": "stream",
       "stream": "stdout",
       "text": [
        "KS\n"
       ]
      },
      {
       "output_type": "stream",
       "stream": "stdout",
       "text": [
        "Class2\n",
        "Filter0\n",
        "Head\n",
        "FeatDist\n"
       ]
      },
      {
       "output_type": "stream",
       "stream": "stdout",
       "text": [
        "Ch\n"
       ]
      },
      {
       "output_type": "stream",
       "stream": "stdout",
       "text": [
        "KS\n",
        "Filter7\n",
        "Head\n",
        "FeatDist\n"
       ]
      },
      {
       "output_type": "stream",
       "stream": "stdout",
       "text": [
        "Ch\n"
       ]
      },
      {
       "output_type": "stream",
       "stream": "stdout",
       "text": [
        "KS\n",
        "Filter17\n",
        "Head\n",
        "FeatDist\n"
       ]
      },
      {
       "output_type": "stream",
       "stream": "stdout",
       "text": [
        "Ch\n"
       ]
      },
      {
       "output_type": "stream",
       "stream": "stdout",
       "text": [
        "KS\n",
        "Filter2\n",
        "Head\n",
        "FeatDist\n"
       ]
      },
      {
       "output_type": "stream",
       "stream": "stdout",
       "text": [
        "Ch\n"
       ]
      },
      {
       "output_type": "stream",
       "stream": "stdout",
       "text": [
        "KS\n",
        "Filter13\n",
        "Head\n",
        "FeatDist\n"
       ]
      },
      {
       "output_type": "stream",
       "stream": "stdout",
       "text": [
        "Ch\n"
       ]
      },
      {
       "output_type": "stream",
       "stream": "stdout",
       "text": [
        "KS\n"
       ]
      },
      {
       "output_type": "stream",
       "stream": "stdout",
       "text": [
        "Class3\n",
        "Filter0\n",
        "Head\n",
        "FeatDist\n"
       ]
      },
      {
       "output_type": "stream",
       "stream": "stdout",
       "text": [
        "Ch\n"
       ]
      },
      {
       "output_type": "stream",
       "stream": "stdout",
       "text": [
        "KS\n",
        "Filter7\n",
        "Head\n",
        "FeatDist\n"
       ]
      },
      {
       "output_type": "stream",
       "stream": "stdout",
       "text": [
        "Ch\n"
       ]
      },
      {
       "output_type": "stream",
       "stream": "stdout",
       "text": [
        "KS\n",
        "Filter17\n",
        "Head\n",
        "FeatDist\n"
       ]
      },
      {
       "output_type": "stream",
       "stream": "stdout",
       "text": [
        "Ch\n"
       ]
      },
      {
       "output_type": "stream",
       "stream": "stdout",
       "text": [
        "KS\n",
        "Filter2\n",
        "Head\n",
        "FeatDist\n"
       ]
      },
      {
       "output_type": "stream",
       "stream": "stdout",
       "text": [
        "Ch\n"
       ]
      },
      {
       "output_type": "stream",
       "stream": "stdout",
       "text": [
        "KS\n",
        "Filter14\n",
        "Head\n",
        "FeatDist\n"
       ]
      },
      {
       "output_type": "stream",
       "stream": "stdout",
       "text": [
        "Ch\n"
       ]
      },
      {
       "output_type": "stream",
       "stream": "stdout",
       "text": [
        "KS\n"
       ]
      },
      {
       "output_type": "stream",
       "stream": "stdout",
       "text": [
        "Layer4\n"
       ]
      },
      {
       "output_type": "stream",
       "stream": "stdout",
       "text": [
        "Class0\n",
        "Filter14\n",
        "Head\n"
       ]
      },
      {
       "output_type": "stream",
       "stream": "stdout",
       "text": [
        "FeatDist\n"
       ]
      },
      {
       "output_type": "stream",
       "stream": "stdout",
       "text": [
        "Ch\n"
       ]
      },
      {
       "output_type": "stream",
       "stream": "stdout",
       "text": [
        "KS\n",
        "Filter2\n",
        "Head\n"
       ]
      },
      {
       "output_type": "stream",
       "stream": "stdout",
       "text": [
        "FeatDist\n"
       ]
      },
      {
       "output_type": "stream",
       "stream": "stdout",
       "text": [
        "Ch\n"
       ]
      },
      {
       "output_type": "stream",
       "stream": "stdout",
       "text": [
        "KS\n",
        "Filter18\n",
        "Head\n"
       ]
      },
      {
       "output_type": "stream",
       "stream": "stdout",
       "text": [
        "FeatDist\n"
       ]
      },
      {
       "output_type": "stream",
       "stream": "stdout",
       "text": [
        "Ch\n"
       ]
      },
      {
       "output_type": "stream",
       "stream": "stdout",
       "text": [
        "KS\n",
        "Filter12\n",
        "Head\n"
       ]
      },
      {
       "output_type": "stream",
       "stream": "stdout",
       "text": [
        "FeatDist\n"
       ]
      },
      {
       "output_type": "stream",
       "stream": "stdout",
       "text": [
        "Ch\n"
       ]
      },
      {
       "output_type": "stream",
       "stream": "stdout",
       "text": [
        "KS\n"
       ]
      },
      {
       "output_type": "stream",
       "stream": "stdout",
       "text": [
        "Filter4\n",
        "Head\n"
       ]
      },
      {
       "output_type": "stream",
       "stream": "stdout",
       "text": [
        "FeatDist\n"
       ]
      },
      {
       "output_type": "stream",
       "stream": "stdout",
       "text": [
        "Ch\n"
       ]
      },
      {
       "output_type": "stream",
       "stream": "stdout",
       "text": [
        "KS\n"
       ]
      },
      {
       "output_type": "stream",
       "stream": "stdout",
       "text": [
        "Class1\n",
        "Filter11\n",
        "Head\n"
       ]
      },
      {
       "output_type": "stream",
       "stream": "stdout",
       "text": [
        "FeatDist\n"
       ]
      },
      {
       "output_type": "stream",
       "stream": "stdout",
       "text": [
        "Ch\n"
       ]
      },
      {
       "output_type": "stream",
       "stream": "stdout",
       "text": [
        "KS\n",
        "Filter6\n",
        "Head\n"
       ]
      },
      {
       "output_type": "stream",
       "stream": "stdout",
       "text": [
        "FeatDist\n"
       ]
      },
      {
       "output_type": "stream",
       "stream": "stdout",
       "text": [
        "Ch\n"
       ]
      },
      {
       "output_type": "stream",
       "stream": "stdout",
       "text": [
        "KS\n",
        "Filter23\n",
        "Head\n"
       ]
      },
      {
       "output_type": "stream",
       "stream": "stdout",
       "text": [
        "FeatDist\n"
       ]
      },
      {
       "output_type": "stream",
       "stream": "stdout",
       "text": [
        "Ch\n"
       ]
      },
      {
       "output_type": "stream",
       "stream": "stdout",
       "text": [
        "KS\n",
        "Filter1\n",
        "Head\n"
       ]
      },
      {
       "output_type": "stream",
       "stream": "stdout",
       "text": [
        "FeatDist\n"
       ]
      },
      {
       "output_type": "stream",
       "stream": "stdout",
       "text": [
        "Ch\n"
       ]
      },
      {
       "output_type": "stream",
       "stream": "stdout",
       "text": [
        "KS\n",
        "Filter14\n",
        "Head\n"
       ]
      },
      {
       "output_type": "stream",
       "stream": "stdout",
       "text": [
        "FeatDist\n"
       ]
      },
      {
       "output_type": "stream",
       "stream": "stdout",
       "text": [
        "Ch\n"
       ]
      },
      {
       "output_type": "stream",
       "stream": "stdout",
       "text": [
        "KS\n"
       ]
      },
      {
       "output_type": "stream",
       "stream": "stdout",
       "text": [
        "Class2\n",
        "Filter15\n",
        "Head\n"
       ]
      },
      {
       "output_type": "stream",
       "stream": "stdout",
       "text": [
        "FeatDist\n"
       ]
      },
      {
       "output_type": "stream",
       "stream": "stdout",
       "text": [
        "Ch\n"
       ]
      },
      {
       "output_type": "stream",
       "stream": "stdout",
       "text": [
        "KS\n",
        "Filter9\n",
        "Head\n"
       ]
      },
      {
       "output_type": "stream",
       "stream": "stdout",
       "text": [
        "FeatDist\n"
       ]
      },
      {
       "output_type": "stream",
       "stream": "stdout",
       "text": [
        "Ch\n"
       ]
      },
      {
       "output_type": "stream",
       "stream": "stdout",
       "text": [
        "KS\n",
        "Filter0\n"
       ]
      },
      {
       "output_type": "stream",
       "stream": "stdout",
       "text": [
        "Head\n"
       ]
      },
      {
       "output_type": "stream",
       "stream": "stdout",
       "text": [
        "FeatDist\n"
       ]
      },
      {
       "output_type": "stream",
       "stream": "stdout",
       "text": [
        "Ch\n"
       ]
      },
      {
       "output_type": "stream",
       "stream": "stdout",
       "text": [
        "KS\n",
        "Filter8\n",
        "Head\n"
       ]
      },
      {
       "output_type": "stream",
       "stream": "stdout",
       "text": [
        "FeatDist\n"
       ]
      },
      {
       "output_type": "stream",
       "stream": "stdout",
       "text": [
        "Ch\n"
       ]
      },
      {
       "output_type": "stream",
       "stream": "stdout",
       "text": [
        "KS\n",
        "Filter20\n",
        "Head\n"
       ]
      },
      {
       "output_type": "stream",
       "stream": "stdout",
       "text": [
        "FeatDist\n"
       ]
      },
      {
       "output_type": "stream",
       "stream": "stdout",
       "text": [
        "Ch\n"
       ]
      },
      {
       "output_type": "stream",
       "stream": "stdout",
       "text": [
        "KS\n"
       ]
      },
      {
       "output_type": "stream",
       "stream": "stdout",
       "text": [
        "Class3\n",
        "Filter19\n",
        "Head\n"
       ]
      },
      {
       "output_type": "stream",
       "stream": "stdout",
       "text": [
        "FeatDist\n"
       ]
      },
      {
       "output_type": "stream",
       "stream": "stdout",
       "text": [
        "Ch\n"
       ]
      },
      {
       "output_type": "stream",
       "stream": "stdout",
       "text": [
        "KS\n",
        "Filter10\n"
       ]
      },
      {
       "output_type": "stream",
       "stream": "stdout",
       "text": [
        "Head\n"
       ]
      },
      {
       "output_type": "stream",
       "stream": "stdout",
       "text": [
        "FeatDist\n"
       ]
      },
      {
       "output_type": "stream",
       "stream": "stdout",
       "text": [
        "Ch\n"
       ]
      },
      {
       "output_type": "stream",
       "stream": "stdout",
       "text": [
        "KS\n",
        "Filter13\n",
        "Head\n"
       ]
      },
      {
       "output_type": "stream",
       "stream": "stdout",
       "text": [
        "FeatDist\n"
       ]
      },
      {
       "output_type": "stream",
       "stream": "stdout",
       "text": [
        "Ch\n"
       ]
      },
      {
       "output_type": "stream",
       "stream": "stdout",
       "text": [
        "KS\n",
        "Filter14\n",
        "Head\n"
       ]
      },
      {
       "output_type": "stream",
       "stream": "stdout",
       "text": [
        "FeatDist\n"
       ]
      },
      {
       "output_type": "stream",
       "stream": "stdout",
       "text": [
        "Ch\n"
       ]
      },
      {
       "output_type": "stream",
       "stream": "stdout",
       "text": [
        "KS\n",
        "Filter21\n",
        "Head\n"
       ]
      },
      {
       "output_type": "stream",
       "stream": "stdout",
       "text": [
        "FeatDist\n"
       ]
      },
      {
       "output_type": "stream",
       "stream": "stdout",
       "text": [
        "Ch\n"
       ]
      },
      {
       "output_type": "stream",
       "stream": "stdout",
       "text": [
        "KS\n"
       ]
      },
      {
       "output_type": "stream",
       "stream": "stdout",
       "text": [
        "Layer10\n"
       ]
      },
      {
       "output_type": "stream",
       "stream": "stdout",
       "text": [
        "Class0\n",
        "Filter32\n"
       ]
      },
      {
       "output_type": "stream",
       "stream": "stdout",
       "text": [
        "Head\n"
       ]
      },
      {
       "output_type": "stream",
       "stream": "stdout",
       "text": [
        "FeatDist\n"
       ]
      },
      {
       "output_type": "stream",
       "stream": "stdout",
       "text": [
        "Ch\n"
       ]
      },
      {
       "output_type": "stream",
       "stream": "stdout",
       "text": [
        "KS\n",
        "Filter2\n"
       ]
      },
      {
       "output_type": "stream",
       "stream": "stdout",
       "text": [
        "Head\n"
       ]
      },
      {
       "output_type": "stream",
       "stream": "stdout",
       "text": [
        "FeatDist\n"
       ]
      },
      {
       "output_type": "stream",
       "stream": "stdout",
       "text": [
        "Ch\n"
       ]
      },
      {
       "output_type": "stream",
       "stream": "stdout",
       "text": [
        "KS\n",
        "Filter9\n"
       ]
      },
      {
       "output_type": "stream",
       "stream": "stdout",
       "text": [
        "Head\n"
       ]
      },
      {
       "output_type": "stream",
       "stream": "stdout",
       "text": [
        "FeatDist\n"
       ]
      },
      {
       "output_type": "stream",
       "stream": "stdout",
       "text": [
        "Ch\n"
       ]
      },
      {
       "output_type": "stream",
       "stream": "stdout",
       "text": [
        "KS\n",
        "Filter15\n"
       ]
      },
      {
       "output_type": "stream",
       "stream": "stdout",
       "text": [
        "Head\n"
       ]
      },
      {
       "output_type": "stream",
       "stream": "stdout",
       "text": [
        "FeatDist\n"
       ]
      },
      {
       "output_type": "stream",
       "stream": "stdout",
       "text": [
        "Ch\n"
       ]
      },
      {
       "output_type": "stream",
       "stream": "stdout",
       "text": [
        "KS\n",
        "Filter5\n"
       ]
      },
      {
       "output_type": "stream",
       "stream": "stdout",
       "text": [
        "Head\n"
       ]
      },
      {
       "output_type": "stream",
       "stream": "stdout",
       "text": [
        "FeatDist\n"
       ]
      },
      {
       "output_type": "stream",
       "stream": "stdout",
       "text": [
        "Ch\n"
       ]
      },
      {
       "output_type": "stream",
       "stream": "stdout",
       "text": [
        "KS\n"
       ]
      },
      {
       "output_type": "stream",
       "stream": "stdout",
       "text": [
        "Class1\n",
        "Filter11\n"
       ]
      },
      {
       "output_type": "stream",
       "stream": "stdout",
       "text": [
        "Head\n"
       ]
      },
      {
       "output_type": "stream",
       "stream": "stdout",
       "text": [
        "FeatDist\n"
       ]
      },
      {
       "output_type": "stream",
       "stream": "stdout",
       "text": [
        "Ch\n"
       ]
      },
      {
       "output_type": "stream",
       "stream": "stdout",
       "text": [
        "KS\n",
        "Filter0\n"
       ]
      },
      {
       "output_type": "stream",
       "stream": "stdout",
       "text": [
        "Head\n"
       ]
      },
      {
       "output_type": "stream",
       "stream": "stdout",
       "text": [
        "FeatDist\n"
       ]
      },
      {
       "output_type": "stream",
       "stream": "stdout",
       "text": [
        "Ch\n"
       ]
      },
      {
       "output_type": "stream",
       "stream": "stdout",
       "text": [
        "KS\n",
        "Filter30\n"
       ]
      },
      {
       "output_type": "stream",
       "stream": "stdout",
       "text": [
        "Head\n"
       ]
      },
      {
       "output_type": "stream",
       "stream": "stdout",
       "text": [
        "FeatDist\n"
       ]
      },
      {
       "output_type": "stream",
       "stream": "stdout",
       "text": [
        "Ch\n"
       ]
      },
      {
       "output_type": "stream",
       "stream": "stdout",
       "text": [
        "KS\n",
        "Filter3\n"
       ]
      },
      {
       "output_type": "stream",
       "stream": "stdout",
       "text": [
        "Head\n"
       ]
      },
      {
       "output_type": "stream",
       "stream": "stdout",
       "text": [
        "FeatDist\n"
       ]
      },
      {
       "output_type": "stream",
       "stream": "stdout",
       "text": [
        "Ch\n"
       ]
      },
      {
       "output_type": "stream",
       "stream": "stdout",
       "text": [
        "KS\n",
        "Filter25\n"
       ]
      },
      {
       "output_type": "stream",
       "stream": "stdout",
       "text": [
        "Head\n"
       ]
      },
      {
       "output_type": "stream",
       "stream": "stdout",
       "text": [
        "FeatDist\n"
       ]
      },
      {
       "output_type": "stream",
       "stream": "stdout",
       "text": [
        "Ch\n"
       ]
      },
      {
       "output_type": "stream",
       "stream": "stdout",
       "text": [
        "KS\n"
       ]
      },
      {
       "output_type": "stream",
       "stream": "stdout",
       "text": [
        "Class2\n",
        "Filter33\n"
       ]
      },
      {
       "output_type": "stream",
       "stream": "stdout",
       "text": [
        "Head\n"
       ]
      },
      {
       "output_type": "stream",
       "stream": "stdout",
       "text": [
        "FeatDist\n"
       ]
      },
      {
       "output_type": "stream",
       "stream": "stdout",
       "text": [
        "Ch\n"
       ]
      },
      {
       "output_type": "stream",
       "stream": "stdout",
       "text": [
        "KS\n",
        "Filter27\n"
       ]
      },
      {
       "output_type": "stream",
       "stream": "stdout",
       "text": [
        "Head\n"
       ]
      },
      {
       "output_type": "stream",
       "stream": "stdout",
       "text": [
        "FeatDist\n"
       ]
      },
      {
       "output_type": "stream",
       "stream": "stdout",
       "text": [
        "Ch\n"
       ]
      },
      {
       "output_type": "stream",
       "stream": "stdout",
       "text": [
        "KS\n",
        "Filter10\n"
       ]
      },
      {
       "output_type": "stream",
       "stream": "stdout",
       "text": [
        "Head\n"
       ]
      },
      {
       "output_type": "stream",
       "stream": "stdout",
       "text": [
        "FeatDist\n"
       ]
      },
      {
       "output_type": "stream",
       "stream": "stdout",
       "text": [
        "Ch\n"
       ]
      },
      {
       "output_type": "stream",
       "stream": "stdout",
       "text": [
        "KS\n",
        "Filter26\n"
       ]
      },
      {
       "output_type": "stream",
       "stream": "stdout",
       "text": [
        "Head\n"
       ]
      },
      {
       "output_type": "stream",
       "stream": "stdout",
       "text": [
        "FeatDist\n"
       ]
      },
      {
       "output_type": "stream",
       "stream": "stdout",
       "text": [
        "Ch\n"
       ]
      },
      {
       "output_type": "stream",
       "stream": "stdout",
       "text": [
        "KS\n",
        "Filter31\n"
       ]
      },
      {
       "output_type": "stream",
       "stream": "stdout",
       "text": [
        "Head\n"
       ]
      },
      {
       "output_type": "stream",
       "stream": "stdout",
       "text": [
        "FeatDist\n"
       ]
      },
      {
       "output_type": "stream",
       "stream": "stdout",
       "text": [
        "Ch\n"
       ]
      },
      {
       "output_type": "stream",
       "stream": "stdout",
       "text": [
        "KS\n"
       ]
      },
      {
       "output_type": "stream",
       "stream": "stdout",
       "text": [
        "Class3\n",
        "Filter35\n"
       ]
      },
      {
       "output_type": "stream",
       "stream": "stdout",
       "text": [
        "Head\n"
       ]
      },
      {
       "output_type": "stream",
       "stream": "stdout",
       "text": [
        "FeatDist\n"
       ]
      },
      {
       "output_type": "stream",
       "stream": "stdout",
       "text": [
        "Ch\n"
       ]
      },
      {
       "output_type": "stream",
       "stream": "stdout",
       "text": [
        "KS\n"
       ]
      },
      {
       "output_type": "stream",
       "stream": "stdout",
       "text": [
        "Filter42\n",
        "Head\n"
       ]
      },
      {
       "output_type": "stream",
       "stream": "stdout",
       "text": [
        "FeatDist\n"
       ]
      },
      {
       "output_type": "stream",
       "stream": "stdout",
       "text": [
        "Ch\n"
       ]
      },
      {
       "output_type": "stream",
       "stream": "stdout",
       "text": [
        "KS\n",
        "Filter22\n"
       ]
      },
      {
       "output_type": "stream",
       "stream": "stdout",
       "text": [
        "Head\n"
       ]
      },
      {
       "output_type": "stream",
       "stream": "stdout",
       "text": [
        "FeatDist\n"
       ]
      },
      {
       "output_type": "stream",
       "stream": "stdout",
       "text": [
        "Ch\n"
       ]
      },
      {
       "output_type": "stream",
       "stream": "stdout",
       "text": [
        "KS\n",
        "Filter34\n"
       ]
      },
      {
       "output_type": "stream",
       "stream": "stdout",
       "text": [
        "Head\n"
       ]
      },
      {
       "output_type": "stream",
       "stream": "stdout",
       "text": [
        "FeatDist\n"
       ]
      },
      {
       "output_type": "stream",
       "stream": "stdout",
       "text": [
        "Ch\n"
       ]
      },
      {
       "output_type": "stream",
       "stream": "stdout",
       "text": [
        "KS\n",
        "Filter4\n"
       ]
      },
      {
       "output_type": "stream",
       "stream": "stdout",
       "text": [
        "Head\n"
       ]
      },
      {
       "output_type": "stream",
       "stream": "stdout",
       "text": [
        "FeatDist\n"
       ]
      },
      {
       "output_type": "stream",
       "stream": "stdout",
       "text": [
        "Ch\n"
       ]
      },
      {
       "output_type": "stream",
       "stream": "stdout",
       "text": [
        "KS\n"
       ]
      },
      {
       "output_type": "stream",
       "stream": "stdout",
       "text": [
        "Layer16\n"
       ]
      },
      {
       "output_type": "stream",
       "stream": "stdout",
       "text": [
        "Class0\n",
        "Filter67\n"
       ]
      },
      {
       "output_type": "stream",
       "stream": "stdout",
       "text": [
        "Head\n"
       ]
      },
      {
       "output_type": "stream",
       "stream": "stdout",
       "text": [
        "FeatDist\n"
       ]
      },
      {
       "output_type": "stream",
       "stream": "stdout",
       "text": [
        "Ch\n"
       ]
      },
      {
       "output_type": "stream",
       "stream": "stdout",
       "text": [
        "KS\n",
        "Filter55\n"
       ]
      },
      {
       "output_type": "stream",
       "stream": "stdout",
       "text": [
        "Head\n"
       ]
      },
      {
       "output_type": "stream",
       "stream": "stdout",
       "text": [
        "FeatDist\n"
       ]
      },
      {
       "output_type": "stream",
       "stream": "stdout",
       "text": [
        "Ch\n"
       ]
      },
      {
       "output_type": "stream",
       "stream": "stdout",
       "text": [
        "KS\n",
        "Filter43\n"
       ]
      },
      {
       "output_type": "stream",
       "stream": "stdout",
       "text": [
        "Head\n"
       ]
      },
      {
       "output_type": "stream",
       "stream": "stdout",
       "text": [
        "FeatDist\n"
       ]
      },
      {
       "output_type": "stream",
       "stream": "stdout",
       "text": [
        "Ch\n"
       ]
      },
      {
       "output_type": "stream",
       "stream": "stdout",
       "text": [
        "KS\n",
        "Filter95\n"
       ]
      },
      {
       "output_type": "stream",
       "stream": "stdout",
       "text": [
        "Head\n"
       ]
      },
      {
       "output_type": "stream",
       "stream": "stdout",
       "text": [
        "FeatDist\n"
       ]
      },
      {
       "output_type": "stream",
       "stream": "stdout",
       "text": [
        "Ch\n"
       ]
      },
      {
       "output_type": "stream",
       "stream": "stdout",
       "text": [
        "KS\n",
        "Filter62\n"
       ]
      },
      {
       "output_type": "stream",
       "stream": "stdout",
       "text": [
        "Head\n"
       ]
      },
      {
       "output_type": "stream",
       "stream": "stdout",
       "text": [
        "FeatDist\n"
       ]
      },
      {
       "output_type": "stream",
       "stream": "stdout",
       "text": [
        "Ch\n"
       ]
      },
      {
       "output_type": "stream",
       "stream": "stdout",
       "text": [
        "KS\n"
       ]
      },
      {
       "output_type": "stream",
       "stream": "stdout",
       "text": [
        "Class1\n",
        "Filter9\n"
       ]
      },
      {
       "output_type": "stream",
       "stream": "stdout",
       "text": [
        "Head\n"
       ]
      },
      {
       "output_type": "stream",
       "stream": "stdout",
       "text": [
        "FeatDist\n"
       ]
      },
      {
       "output_type": "stream",
       "stream": "stdout",
       "text": [
        "Ch\n"
       ]
      },
      {
       "output_type": "stream",
       "stream": "stdout",
       "text": [
        "KS\n",
        "Filter37\n"
       ]
      },
      {
       "output_type": "stream",
       "stream": "stdout",
       "text": [
        "Head\n"
       ]
      },
      {
       "output_type": "stream",
       "stream": "stdout",
       "text": [
        "FeatDist\n"
       ]
      },
      {
       "output_type": "stream",
       "stream": "stdout",
       "text": [
        "Ch\n"
       ]
      },
      {
       "output_type": "stream",
       "stream": "stdout",
       "text": [
        "KS\n",
        "Filter88\n"
       ]
      },
      {
       "output_type": "stream",
       "stream": "stdout",
       "text": [
        "Head\n"
       ]
      },
      {
       "output_type": "stream",
       "stream": "stdout",
       "text": [
        "FeatDist\n"
       ]
      },
      {
       "output_type": "stream",
       "stream": "stdout",
       "text": [
        "Ch\n"
       ]
      },
      {
       "output_type": "stream",
       "stream": "stdout",
       "text": [
        "KS\n",
        "Filter34\n"
       ]
      },
      {
       "output_type": "stream",
       "stream": "stdout",
       "text": [
        "Head\n"
       ]
      },
      {
       "output_type": "stream",
       "stream": "stdout",
       "text": [
        "FeatDist\n"
       ]
      },
      {
       "output_type": "stream",
       "stream": "stdout",
       "text": [
        "Ch\n"
       ]
      },
      {
       "output_type": "stream",
       "stream": "stdout",
       "text": [
        "KS\n",
        "Filter0\n"
       ]
      },
      {
       "output_type": "stream",
       "stream": "stdout",
       "text": [
        "Head\n"
       ]
      },
      {
       "output_type": "stream",
       "stream": "stdout",
       "text": [
        "FeatDist\n"
       ]
      },
      {
       "output_type": "stream",
       "stream": "stdout",
       "text": [
        "Ch\n"
       ]
      },
      {
       "output_type": "stream",
       "stream": "stdout",
       "text": [
        "KS\n"
       ]
      },
      {
       "output_type": "stream",
       "stream": "stdout",
       "text": [
        "Class2\n",
        "Filter13\n"
       ]
      },
      {
       "output_type": "stream",
       "stream": "stdout",
       "text": [
        "Head\n"
       ]
      },
      {
       "output_type": "stream",
       "stream": "stdout",
       "text": [
        "FeatDist\n"
       ]
      },
      {
       "output_type": "stream",
       "stream": "stdout",
       "text": [
        "Ch\n"
       ]
      },
      {
       "output_type": "stream",
       "stream": "stdout",
       "text": [
        "KS\n",
        "Filter40\n"
       ]
      },
      {
       "output_type": "stream",
       "stream": "stdout",
       "text": [
        "Head\n"
       ]
      },
      {
       "output_type": "stream",
       "stream": "stdout",
       "text": [
        "FeatDist\n"
       ]
      },
      {
       "output_type": "stream",
       "stream": "stdout",
       "text": [
        "Ch\n"
       ]
      },
      {
       "output_type": "stream",
       "stream": "stdout",
       "text": [
        "KS\n"
       ]
      },
      {
       "output_type": "stream",
       "stream": "stdout",
       "text": [
        "Filter78\n"
       ]
      },
      {
       "output_type": "stream",
       "stream": "stdout",
       "text": [
        "Head\n"
       ]
      },
      {
       "output_type": "stream",
       "stream": "stdout",
       "text": [
        "FeatDist\n"
       ]
      },
      {
       "output_type": "stream",
       "stream": "stdout",
       "text": [
        "Ch\n"
       ]
      },
      {
       "output_type": "stream",
       "stream": "stdout",
       "text": [
        "KS\n",
        "Filter85\n"
       ]
      },
      {
       "output_type": "stream",
       "stream": "stdout",
       "text": [
        "Head\n"
       ]
      },
      {
       "output_type": "stream",
       "stream": "stdout",
       "text": [
        "FeatDist\n"
       ]
      },
      {
       "output_type": "stream",
       "stream": "stdout",
       "text": [
        "Ch\n"
       ]
      },
      {
       "output_type": "stream",
       "stream": "stdout",
       "text": [
        "KS\n",
        "Filter24\n"
       ]
      },
      {
       "output_type": "stream",
       "stream": "stdout",
       "text": [
        "Head\n"
       ]
      },
      {
       "output_type": "stream",
       "stream": "stdout",
       "text": [
        "FeatDist\n"
       ]
      },
      {
       "output_type": "stream",
       "stream": "stdout",
       "text": [
        "Ch\n"
       ]
      },
      {
       "output_type": "stream",
       "stream": "stdout",
       "text": [
        "KS\n"
       ]
      },
      {
       "output_type": "stream",
       "stream": "stdout",
       "text": [
        "Class3\n",
        "Filter14\n"
       ]
      },
      {
       "output_type": "stream",
       "stream": "stdout",
       "text": [
        "Head\n"
       ]
      },
      {
       "output_type": "stream",
       "stream": "stdout",
       "text": [
        "FeatDist\n"
       ]
      },
      {
       "output_type": "stream",
       "stream": "stdout",
       "text": [
        "Ch\n"
       ]
      },
      {
       "output_type": "stream",
       "stream": "stdout",
       "text": [
        "KS\n",
        "Filter56\n"
       ]
      },
      {
       "output_type": "stream",
       "stream": "stdout",
       "text": [
        "Head\n"
       ]
      },
      {
       "output_type": "stream",
       "stream": "stdout",
       "text": [
        "FeatDist\n"
       ]
      },
      {
       "output_type": "stream",
       "stream": "stdout",
       "text": [
        "Ch\n"
       ]
      },
      {
       "output_type": "stream",
       "stream": "stdout",
       "text": [
        "KS\n",
        "Filter92\n"
       ]
      },
      {
       "output_type": "stream",
       "stream": "stdout",
       "text": [
        "Head\n"
       ]
      },
      {
       "output_type": "stream",
       "stream": "stdout",
       "text": [
        "FeatDist\n"
       ]
      },
      {
       "output_type": "stream",
       "stream": "stdout",
       "text": [
        "Ch\n"
       ]
      },
      {
       "output_type": "stream",
       "stream": "stdout",
       "text": [
        "KS\n"
       ]
      },
      {
       "output_type": "stream",
       "stream": "stdout",
       "text": [
        "Filter25\n"
       ]
      },
      {
       "output_type": "stream",
       "stream": "stdout",
       "text": [
        "Head\n"
       ]
      },
      {
       "output_type": "stream",
       "stream": "stdout",
       "text": [
        "FeatDist\n"
       ]
      },
      {
       "output_type": "stream",
       "stream": "stdout",
       "text": [
        "Ch\n"
       ]
      },
      {
       "output_type": "stream",
       "stream": "stdout",
       "text": [
        "KS\n",
        "Filter59\n"
       ]
      },
      {
       "output_type": "stream",
       "stream": "stdout",
       "text": [
        "Head\n"
       ]
      },
      {
       "output_type": "stream",
       "stream": "stdout",
       "text": [
        "FeatDist\n"
       ]
      },
      {
       "output_type": "stream",
       "stream": "stdout",
       "text": [
        "Ch\n"
       ]
      },
      {
       "output_type": "stream",
       "stream": "stdout",
       "text": [
        "KS\n"
       ]
      },
      {
       "output_type": "stream",
       "stream": "stdout",
       "text": [
        "Layer22\n"
       ]
      },
      {
       "output_type": "stream",
       "stream": "stdout",
       "text": [
        "Class0\n",
        "Filter121\n"
       ]
      },
      {
       "output_type": "stream",
       "stream": "stdout",
       "text": [
        "Head\n"
       ]
      },
      {
       "output_type": "stream",
       "stream": "stdout",
       "text": [
        "FeatDist\n"
       ]
      },
      {
       "output_type": "stream",
       "stream": "stdout",
       "text": [
        "Ch\n"
       ]
      },
      {
       "output_type": "stream",
       "stream": "stdout",
       "text": [
        "KS\n",
        "Filter168\n"
       ]
      },
      {
       "output_type": "stream",
       "stream": "stdout",
       "text": [
        "Head\n"
       ]
      },
      {
       "output_type": "stream",
       "stream": "stdout",
       "text": [
        "FeatDist\n"
       ]
      },
      {
       "output_type": "stream",
       "stream": "stdout",
       "text": [
        "Ch\n"
       ]
      },
      {
       "output_type": "stream",
       "stream": "stdout",
       "text": [
        "KS\n",
        "Filter125\n"
       ]
      },
      {
       "output_type": "stream",
       "stream": "stdout",
       "text": [
        "Head\n"
       ]
      },
      {
       "output_type": "stream",
       "stream": "stdout",
       "text": [
        "FeatDist\n"
       ]
      },
      {
       "output_type": "stream",
       "stream": "stdout",
       "text": [
        "Ch\n"
       ]
      },
      {
       "output_type": "stream",
       "stream": "stdout",
       "text": [
        "KS\n",
        "Filter128\n"
       ]
      },
      {
       "output_type": "stream",
       "stream": "stdout",
       "text": [
        "Head\n"
       ]
      },
      {
       "output_type": "stream",
       "stream": "stdout",
       "text": [
        "FeatDist\n"
       ]
      },
      {
       "output_type": "stream",
       "stream": "stdout",
       "text": [
        "Ch\n"
       ]
      },
      {
       "output_type": "stream",
       "stream": "stdout",
       "text": [
        "KS\n",
        "Filter53\n"
       ]
      },
      {
       "output_type": "stream",
       "stream": "stdout",
       "text": [
        "Head\n"
       ]
      },
      {
       "output_type": "stream",
       "stream": "stdout",
       "text": [
        "FeatDist\n"
       ]
      },
      {
       "output_type": "stream",
       "stream": "stdout",
       "text": [
        "Ch\n"
       ]
      },
      {
       "output_type": "stream",
       "stream": "stdout",
       "text": [
        "KS\n"
       ]
      },
      {
       "output_type": "stream",
       "stream": "stdout",
       "text": [
        "Class1\n",
        "Filter64\n"
       ]
      },
      {
       "output_type": "stream",
       "stream": "stdout",
       "text": [
        "Head\n"
       ]
      },
      {
       "output_type": "stream",
       "stream": "stdout",
       "text": [
        "FeatDist\n"
       ]
      },
      {
       "output_type": "stream",
       "stream": "stdout",
       "text": [
        "Ch\n"
       ]
      },
      {
       "output_type": "stream",
       "stream": "stdout",
       "text": [
        "KS\n",
        "Filter46\n"
       ]
      },
      {
       "output_type": "stream",
       "stream": "stdout",
       "text": [
        "Head\n"
       ]
      },
      {
       "output_type": "stream",
       "stream": "stdout",
       "text": [
        "FeatDist\n"
       ]
      },
      {
       "output_type": "stream",
       "stream": "stdout",
       "text": [
        "Ch\n"
       ]
      },
      {
       "output_type": "stream",
       "stream": "stdout",
       "text": [
        "KS\n",
        "Filter130\n"
       ]
      },
      {
       "output_type": "stream",
       "stream": "stdout",
       "text": [
        "Head\n"
       ]
      },
      {
       "output_type": "stream",
       "stream": "stdout",
       "text": [
        "FeatDist\n"
       ]
      },
      {
       "output_type": "stream",
       "stream": "stdout",
       "text": [
        "Ch\n"
       ]
      },
      {
       "output_type": "stream",
       "stream": "stdout",
       "text": [
        "KS\n",
        "Filter188\n"
       ]
      },
      {
       "output_type": "stream",
       "stream": "stdout",
       "text": [
        "Head\n"
       ]
      },
      {
       "output_type": "stream",
       "stream": "stdout",
       "text": [
        "FeatDist\n"
       ]
      },
      {
       "output_type": "stream",
       "stream": "stdout",
       "text": [
        "Ch\n"
       ]
      },
      {
       "output_type": "stream",
       "stream": "stdout",
       "text": [
        "KS\n",
        "Filter171\n"
       ]
      },
      {
       "output_type": "stream",
       "stream": "stdout",
       "text": [
        "Head\n"
       ]
      },
      {
       "output_type": "stream",
       "stream": "stdout",
       "text": [
        "FeatDist\n"
       ]
      },
      {
       "output_type": "stream",
       "stream": "stdout",
       "text": [
        "Ch\n"
       ]
      },
      {
       "output_type": "stream",
       "stream": "stdout",
       "text": [
        "KS\n"
       ]
      },
      {
       "output_type": "stream",
       "stream": "stdout",
       "text": [
        "Class2\n",
        "Filter122\n"
       ]
      },
      {
       "output_type": "stream",
       "stream": "stdout",
       "text": [
        "Head\n"
       ]
      },
      {
       "output_type": "stream",
       "stream": "stdout",
       "text": [
        "FeatDist\n"
       ]
      },
      {
       "output_type": "stream",
       "stream": "stdout",
       "text": [
        "Ch\n"
       ]
      },
      {
       "output_type": "stream",
       "stream": "stdout",
       "text": [
        "KS\n",
        "Filter72\n"
       ]
      },
      {
       "output_type": "stream",
       "stream": "stdout",
       "text": [
        "Head\n"
       ]
      },
      {
       "output_type": "stream",
       "stream": "stdout",
       "text": [
        "FeatDist\n"
       ]
      },
      {
       "output_type": "stream",
       "stream": "stdout",
       "text": [
        "Ch\n"
       ]
      },
      {
       "output_type": "stream",
       "stream": "stdout",
       "text": [
        "KS\n",
        "Filter195\n"
       ]
      },
      {
       "output_type": "stream",
       "stream": "stdout",
       "text": [
        "Head\n"
       ]
      },
      {
       "output_type": "stream",
       "stream": "stdout",
       "text": [
        "FeatDist\n"
       ]
      },
      {
       "output_type": "stream",
       "stream": "stdout",
       "text": [
        "Ch\n"
       ]
      },
      {
       "output_type": "stream",
       "stream": "stdout",
       "text": [
        "KS\n",
        "Filter92\n"
       ]
      },
      {
       "output_type": "stream",
       "stream": "stdout",
       "text": [
        "Head\n"
       ]
      },
      {
       "output_type": "stream",
       "stream": "stdout",
       "text": [
        "FeatDist\n"
       ]
      },
      {
       "output_type": "stream",
       "stream": "stdout",
       "text": [
        "Ch\n"
       ]
      },
      {
       "output_type": "stream",
       "stream": "stdout",
       "text": [
        "KS\n",
        "Filter152\n"
       ]
      },
      {
       "output_type": "stream",
       "stream": "stdout",
       "text": [
        "Head\n"
       ]
      },
      {
       "output_type": "stream",
       "stream": "stdout",
       "text": [
        "FeatDist\n"
       ]
      },
      {
       "output_type": "stream",
       "stream": "stdout",
       "text": [
        "Ch\n"
       ]
      },
      {
       "output_type": "stream",
       "stream": "stdout",
       "text": [
        "KS\n"
       ]
      },
      {
       "output_type": "stream",
       "stream": "stdout",
       "text": [
        "Class3\n",
        "Filter118\n"
       ]
      },
      {
       "output_type": "stream",
       "stream": "stdout",
       "text": [
        "Head\n"
       ]
      },
      {
       "output_type": "stream",
       "stream": "stdout",
       "text": [
        "FeatDist\n"
       ]
      },
      {
       "output_type": "stream",
       "stream": "stdout",
       "text": [
        "Ch\n"
       ]
      },
      {
       "output_type": "stream",
       "stream": "stdout",
       "text": [
        "KS\n",
        "Filter185\n"
       ]
      },
      {
       "output_type": "stream",
       "stream": "stdout",
       "text": [
        "Head\n"
       ]
      },
      {
       "output_type": "stream",
       "stream": "stdout",
       "text": [
        "FeatDist\n"
       ]
      },
      {
       "output_type": "stream",
       "stream": "stdout",
       "text": [
        "Ch\n"
       ]
      },
      {
       "output_type": "stream",
       "stream": "stdout",
       "text": [
        "KS\n",
        "Filter28\n"
       ]
      },
      {
       "output_type": "stream",
       "stream": "stdout",
       "text": [
        "Head\n"
       ]
      },
      {
       "output_type": "stream",
       "stream": "stdout",
       "text": [
        "FeatDist\n"
       ]
      },
      {
       "output_type": "stream",
       "stream": "stdout",
       "text": [
        "Ch\n"
       ]
      },
      {
       "output_type": "stream",
       "stream": "stdout",
       "text": [
        "KS\n",
        "Filter19\n"
       ]
      },
      {
       "output_type": "stream",
       "stream": "stdout",
       "text": [
        "Head\n"
       ]
      },
      {
       "output_type": "stream",
       "stream": "stdout",
       "text": [
        "FeatDist\n"
       ]
      },
      {
       "output_type": "stream",
       "stream": "stdout",
       "text": [
        "Ch\n"
       ]
      },
      {
       "output_type": "stream",
       "stream": "stdout",
       "text": [
        "KS\n",
        "Filter107\n"
       ]
      },
      {
       "output_type": "stream",
       "stream": "stdout",
       "text": [
        "Head\n"
       ]
      },
      {
       "output_type": "stream",
       "stream": "stdout",
       "text": [
        "FeatDist\n"
       ]
      },
      {
       "output_type": "stream",
       "stream": "stdout",
       "text": [
        "Ch\n"
       ]
      },
      {
       "output_type": "stream",
       "stream": "stdout",
       "text": [
        "KS\n"
       ]
      },
      {
       "output_type": "stream",
       "stream": "stdout",
       "text": [
        "Layer28\n"
       ]
      },
      {
       "output_type": "stream",
       "stream": "stdout",
       "text": [
        "Class0\n",
        "Filter0\n"
       ]
      },
      {
       "output_type": "stream",
       "stream": "stdout",
       "text": [
        "Head\n"
       ]
      },
      {
       "output_type": "stream",
       "stream": "stdout",
       "text": [
        "FeatDist\n"
       ]
      },
      {
       "output_type": "stream",
       "stream": "stdout",
       "text": [
        "Ch\n"
       ]
      },
      {
       "output_type": "stream",
       "stream": "stdout",
       "text": [
        "KS\n",
        "Filter1\n"
       ]
      },
      {
       "output_type": "stream",
       "stream": "stdout",
       "text": [
        "Head\n"
       ]
      },
      {
       "output_type": "stream",
       "stream": "stdout",
       "text": [
        "FeatDist\n"
       ]
      },
      {
       "output_type": "stream",
       "stream": "stdout",
       "text": [
        "Ch\n"
       ]
      },
      {
       "output_type": "stream",
       "stream": "stdout",
       "text": [
        "KS\n",
        "Filter3\n"
       ]
      },
      {
       "output_type": "stream",
       "stream": "stdout",
       "text": [
        "Head\n"
       ]
      },
      {
       "output_type": "stream",
       "stream": "stdout",
       "text": [
        "FeatDist\n"
       ]
      },
      {
       "output_type": "stream",
       "stream": "stdout",
       "text": [
        "Ch\n"
       ]
      },
      {
       "output_type": "stream",
       "stream": "stdout",
       "text": [
        "KS\n",
        "Filter2\n"
       ]
      },
      {
       "output_type": "stream",
       "stream": "stdout",
       "text": [
        "Head\n"
       ]
      },
      {
       "output_type": "stream",
       "stream": "stdout",
       "text": [
        "FeatDist\n"
       ]
      },
      {
       "output_type": "stream",
       "stream": "stdout",
       "text": [
        "Ch\n"
       ]
      },
      {
       "output_type": "stream",
       "stream": "stdout",
       "text": [
        "KS\n"
       ]
      },
      {
       "output_type": "stream",
       "stream": "stdout",
       "text": [
        "Class1\n",
        "Filter1\n"
       ]
      },
      {
       "output_type": "stream",
       "stream": "stdout",
       "text": [
        "Head\n"
       ]
      },
      {
       "output_type": "stream",
       "stream": "stdout",
       "text": [
        "FeatDist\n"
       ]
      },
      {
       "output_type": "stream",
       "stream": "stdout",
       "text": [
        "Ch\n"
       ]
      },
      {
       "output_type": "stream",
       "stream": "stdout",
       "text": [
        "KS\n",
        "Filter0\n"
       ]
      },
      {
       "output_type": "stream",
       "stream": "stdout",
       "text": [
        "Head\n"
       ]
      },
      {
       "output_type": "stream",
       "stream": "stdout",
       "text": [
        "FeatDist\n"
       ]
      },
      {
       "output_type": "stream",
       "stream": "stdout",
       "text": [
        "Ch\n"
       ]
      },
      {
       "output_type": "stream",
       "stream": "stdout",
       "text": [
        "KS\n",
        "Filter2\n"
       ]
      },
      {
       "output_type": "stream",
       "stream": "stdout",
       "text": [
        "Head\n"
       ]
      },
      {
       "output_type": "stream",
       "stream": "stdout",
       "text": [
        "FeatDist\n"
       ]
      },
      {
       "output_type": "stream",
       "stream": "stdout",
       "text": [
        "Ch\n"
       ]
      },
      {
       "output_type": "stream",
       "stream": "stdout",
       "text": [
        "KS\n",
        "Filter3\n"
       ]
      },
      {
       "output_type": "stream",
       "stream": "stdout",
       "text": [
        "Head\n"
       ]
      },
      {
       "output_type": "stream",
       "stream": "stdout",
       "text": [
        "FeatDist\n"
       ]
      },
      {
       "output_type": "stream",
       "stream": "stdout",
       "text": [
        "Ch\n"
       ]
      },
      {
       "output_type": "stream",
       "stream": "stdout",
       "text": [
        "KS\n"
       ]
      },
      {
       "output_type": "stream",
       "stream": "stdout",
       "text": [
        "Class2\n",
        "Filter2\n"
       ]
      },
      {
       "output_type": "stream",
       "stream": "stdout",
       "text": [
        "Head\n"
       ]
      },
      {
       "output_type": "stream",
       "stream": "stdout",
       "text": [
        "FeatDist\n"
       ]
      },
      {
       "output_type": "stream",
       "stream": "stdout",
       "text": [
        "Ch\n"
       ]
      },
      {
       "output_type": "stream",
       "stream": "stdout",
       "text": [
        "KS\n",
        "Filter1\n"
       ]
      },
      {
       "output_type": "stream",
       "stream": "stdout",
       "text": [
        "Head\n"
       ]
      },
      {
       "output_type": "stream",
       "stream": "stdout",
       "text": [
        "FeatDist\n"
       ]
      },
      {
       "output_type": "stream",
       "stream": "stdout",
       "text": [
        "Ch\n"
       ]
      },
      {
       "output_type": "stream",
       "stream": "stdout",
       "text": [
        "KS\n",
        "Filter3\n"
       ]
      },
      {
       "output_type": "stream",
       "stream": "stdout",
       "text": [
        "Head\n"
       ]
      },
      {
       "output_type": "stream",
       "stream": "stdout",
       "text": [
        "FeatDist\n"
       ]
      },
      {
       "output_type": "stream",
       "stream": "stdout",
       "text": [
        "Ch\n"
       ]
      },
      {
       "output_type": "stream",
       "stream": "stdout",
       "text": [
        "KS\n",
        "Filter0\n"
       ]
      },
      {
       "output_type": "stream",
       "stream": "stdout",
       "text": [
        "Head\n"
       ]
      },
      {
       "output_type": "stream",
       "stream": "stdout",
       "text": [
        "FeatDist\n"
       ]
      },
      {
       "output_type": "stream",
       "stream": "stdout",
       "text": [
        "Ch\n"
       ]
      },
      {
       "output_type": "stream",
       "stream": "stdout",
       "text": [
        "KS\n"
       ]
      },
      {
       "output_type": "stream",
       "stream": "stdout",
       "text": [
        "Class3\n",
        "Filter3\n"
       ]
      },
      {
       "output_type": "stream",
       "stream": "stdout",
       "text": [
        "Head\n"
       ]
      },
      {
       "output_type": "stream",
       "stream": "stdout",
       "text": [
        "FeatDist\n"
       ]
      },
      {
       "output_type": "stream",
       "stream": "stdout",
       "text": [
        "Ch\n"
       ]
      },
      {
       "output_type": "stream",
       "stream": "stdout",
       "text": [
        "KS\n",
        "Filter1\n"
       ]
      },
      {
       "output_type": "stream",
       "stream": "stdout",
       "text": [
        "Head\n"
       ]
      },
      {
       "output_type": "stream",
       "stream": "stdout",
       "text": [
        "FeatDist\n"
       ]
      },
      {
       "output_type": "stream",
       "stream": "stdout",
       "text": [
        "Ch\n"
       ]
      },
      {
       "output_type": "stream",
       "stream": "stdout",
       "text": [
        "KS\n",
        "Filter2\n"
       ]
      },
      {
       "output_type": "stream",
       "stream": "stdout",
       "text": [
        "Head\n"
       ]
      },
      {
       "output_type": "stream",
       "stream": "stdout",
       "text": [
        "FeatDist\n"
       ]
      },
      {
       "output_type": "stream",
       "stream": "stdout",
       "text": [
        "Ch\n"
       ]
      },
      {
       "output_type": "stream",
       "stream": "stdout",
       "text": [
        "KS\n",
        "Filter0\n"
       ]
      },
      {
       "output_type": "stream",
       "stream": "stdout",
       "text": [
        "Head\n"
       ]
      },
      {
       "output_type": "stream",
       "stream": "stdout",
       "text": [
        "FeatDist\n"
       ]
      },
      {
       "output_type": "stream",
       "stream": "stdout",
       "text": [
        "Ch\n"
       ]
      },
      {
       "output_type": "stream",
       "stream": "stdout",
       "text": [
        "KS\n"
       ]
      },
      {
       "output_type": "stream",
       "stream": "stdout",
       "text": [
        "9543\n"
       ]
      }
     ],
     "prompt_number": 7
    },
    {
     "cell_type": "code",
     "collapsed": false,
     "input": [
      "KS_Phase_tmp.shape"
     ],
     "language": "python",
     "metadata": {},
     "outputs": [
      {
       "output_type": "pyout",
       "prompt_number": 8,
       "text": [
        "(128, 260)"
       ]
      }
     ],
     "prompt_number": 8
    },
    {
     "cell_type": "code",
     "collapsed": false,
     "input": [
      "labels"
     ],
     "language": "python",
     "metadata": {},
     "outputs": [
      {
       "output_type": "pyout",
       "prompt_number": 9,
       "text": [
        "{'FFT': {...},\n",
        " 'feature_names': ('FFT', 'FFTc', 'Phase', 'Phasec', 'Mean', 'Meanc', 'Power'),\n",
        " 'labels': [['FFT Fp1 0.478927203065',\n",
        "   'FFT Fp1 0.95785440613',\n",
        "   'FFT Fp1 1.4367816092',\n",
        "   'FFT Fp1 1.91570881226',\n",
        "   'FFT Fp1 2.39463601533',\n",
        "   'FFT Fp1 2.87356321839',\n",
        "   'FFT Fp1 3.35249042146',\n",
        "   'FFT Fp1 3.83141762452',\n",
        "   'FFT Fp1 4.31034482759',\n",
        "   'FFT Fp1 4.78927203065',\n",
        "   'FFT Fp1 5.26819923372',\n",
        "   'FFT Fp1 5.74712643678',\n",
        "   'FFT Fp1 6.22605363985',\n",
        "   'FFT Fp1 6.70498084291',\n",
        "   'FFT Fp1 7.18390804598',\n",
        "   'FFT Fp1 7.66283524904',\n",
        "   'FFT Fp1 8.14176245211',\n",
        "   'FFT Fp1 8.62068965517',\n",
        "   'FFT Fp1 9.09961685824',\n",
        "   'FFT Fp1 9.5785440613',\n",
        "   'FFT Fp1 10.0574712644',\n",
        "   'FFT Fp1 10.5363984674',\n",
        "   'FFT Fp1 11.0153256705',\n",
        "   'FFT Fp1 11.4942528736',\n",
        "   'FFT Fp1 11.9731800766',\n",
        "   'FFT Fp1 12.4521072797',\n",
        "   'FFT Fp1 12.9310344828',\n",
        "   'FFT Fp1 13.4099616858',\n",
        "   'FFT Fp1 13.8888888889',\n",
        "   'FFT Fp1 14.367816092',\n",
        "   'FFT Fp1 14.846743295',\n",
        "   'FFT Fp1 15.3256704981',\n",
        "   'FFT Fp1 15.8045977011',\n",
        "   'FFT Fp1 16.2835249042',\n",
        "   'FFT Fp1 16.7624521073',\n",
        "   'FFT Fp1 17.2413793103',\n",
        "   'FFT Fp1 17.7203065134',\n",
        "   'FFT Fp1 18.1992337165',\n",
        "   'FFT Fp1 18.6781609195',\n",
        "   'FFT Fp1 19.1570881226',\n",
        "   'FFT Fp1 19.6360153257',\n",
        "   'FFT Fp1 20.1149425287',\n",
        "   'FFT Fp1 20.5938697318',\n",
        "   'FFT Fp1 21.0727969349',\n",
        "   'FFT Fp1 21.5517241379',\n",
        "   'FFT Fp1 22.030651341',\n",
        "   'FFT Fp1 22.5095785441',\n",
        "   'FFT Fp1 22.9885057471',\n",
        "   'FFT Fp1 23.4674329502',\n",
        "   'FFT Fp1 23.9463601533',\n",
        "   'FFT Fp1 24.4252873563',\n",
        "   'FFT Fp1 24.9042145594',\n",
        "   'FFT Fp1 25.3831417625',\n",
        "   'FFT Fp1 25.8620689655',\n",
        "   'FFT Fp1 26.3409961686',\n",
        "   'FFT Fp1 26.8199233716',\n",
        "   'FFT Fp1 27.2988505747',\n",
        "   'FFT Fp1 27.7777777778',\n",
        "   'FFT Fp1 28.2567049808',\n",
        "   'FFT Fp1 28.7356321839',\n",
        "   'FFT Fp1 29.214559387',\n",
        "   'FFT Fp1 29.69348659',\n",
        "   'FFT Fp1 30.1724137931',\n",
        "   'FFT Fp1 30.6513409962',\n",
        "   'FFT Fp1 31.1302681992',\n",
        "   'FFT Fp1 31.6091954023',\n",
        "   'FFT Fp1 32.0881226054',\n",
        "   'FFT Fp1 32.5670498084',\n",
        "   'FFT Fp1 33.0459770115',\n",
        "   'FFT Fp1 33.5249042146',\n",
        "   'FFT Fp1 34.0038314176',\n",
        "   'FFT Fp1 34.4827586207',\n",
        "   'FFT Fp1 34.9616858238',\n",
        "   'FFT Fp1 35.4406130268',\n",
        "   'FFT Fp1 35.9195402299',\n",
        "   'FFT Fp1 36.398467433',\n",
        "   'FFT Fp1 36.877394636',\n",
        "   'FFT Fp1 37.3563218391',\n",
        "   'FFT Fp1 37.8352490421',\n",
        "   'FFT Fp1 38.3141762452',\n",
        "   'FFT Fp1 38.7931034483',\n",
        "   'FFT Fp1 39.2720306513',\n",
        "   'FFT Fp1 39.7509578544',\n",
        "   'FFT Fp1 40.2298850575',\n",
        "   'FFT Fp1 40.7088122605',\n",
        "   'FFT Fp1 41.1877394636',\n",
        "   'FFT Fp1 41.6666666667',\n",
        "   'FFT Fp1 42.1455938697',\n",
        "   'FFT Fp1 42.6245210728',\n",
        "   'FFT Fp1 43.1034482759',\n",
        "   'FFT Fp1 43.5823754789',\n",
        "   'FFT Fp1 44.061302682',\n",
        "   'FFT Fp1 44.5402298851',\n",
        "   'FFT Fp1 45.0191570881',\n",
        "   'FFT Fp1 45.4980842912',\n",
        "   'FFT Fp1 45.9770114943',\n",
        "   'FFT Fp1 46.4559386973',\n",
        "   'FFT Fp1 46.9348659004',\n",
        "   'FFT Fp1 47.4137931034',\n",
        "   'FFT Fp1 47.8927203065',\n",
        "   'FFT Fp1 48.3716475096',\n",
        "   'FFT Fp1 48.8505747126',\n",
        "   'FFT Fp1 49.3295019157',\n",
        "   'FFT Fp1 49.8084291188',\n",
        "   'FFT Fp1 50.2873563218',\n",
        "   'FFT Fp1 50.7662835249',\n",
        "   'FFT Fp1 51.245210728',\n",
        "   'FFT Fp1 51.724137931',\n",
        "   'FFT Fp1 52.2030651341',\n",
        "   'FFT Fp1 52.6819923372',\n",
        "   'FFT Fp1 53.1609195402',\n",
        "   'FFT Fp1 53.6398467433',\n",
        "   'FFT Fp1 54.1187739464',\n",
        "   'FFT Fp1 54.5977011494',\n",
        "   'FFT Fp1 55.0766283525',\n",
        "   'FFT Fp1 55.5555555556',\n",
        "   'FFT Fp1 56.0344827586',\n",
        "   'FFT Fp1 56.5134099617',\n",
        "   'FFT Fp1 56.9923371648',\n",
        "   'FFT Fp1 57.4712643678',\n",
        "   'FFT Fp1 57.9501915709',\n",
        "   'FFT Fp1 58.4291187739',\n",
        "   'FFT Fp1 58.908045977',\n",
        "   'FFT Fp1 59.3869731801',\n",
        "   'FFT Fp1 59.8659003831',\n",
        "   'FFT Fp1 60.3448275862',\n",
        "   'FFT Fp1 60.8237547893',\n",
        "   'FFT Fp1 61.3026819923',\n",
        "   'FFT Fp1 61.7816091954',\n",
        "   'FFT Fp1 62.2605363985',\n",
        "   'FFT Fp1 62.7394636015',\n",
        "   'FFT Fp1 63.2183908046',\n",
        "   'FFT Fp1 63.6973180077',\n",
        "   'FFT Fp1 64.1762452107',\n",
        "   'FFT Fp1 64.6551724138',\n",
        "   'FFT Fp1 65.1340996169',\n",
        "   'FFT Fp1 65.6130268199',\n",
        "   'FFT Fp1 66.091954023',\n",
        "   'FFT Fp1 66.5708812261',\n",
        "   'FFT Fp1 67.0498084291',\n",
        "   'FFT Fp1 67.5287356322',\n",
        "   'FFT Fp1 68.0076628352',\n",
        "   'FFT Fp1 68.4865900383',\n",
        "   'FFT Fp1 68.9655172414',\n",
        "   'FFT Fp1 69.4444444444',\n",
        "   'FFT Fp1 69.9233716475',\n",
        "   'FFT Fp1 70.4022988506',\n",
        "   'FFT Fp1 70.8812260536',\n",
        "   'FFT Fp1 71.3601532567',\n",
        "   'FFT Fp1 71.8390804598',\n",
        "   'FFT Fp1 72.3180076628',\n",
        "   'FFT Fp1 72.7969348659',\n",
        "   'FFT Fp1 73.275862069',\n",
        "   'FFT Fp1 73.754789272',\n",
        "   'FFT Fp1 74.2337164751',\n",
        "   'FFT Fp1 74.7126436782',\n",
        "   'FFT Fp1 75.1915708812',\n",
        "   'FFT Fp1 75.6704980843',\n",
        "   'FFT Fp1 76.1494252874',\n",
        "   'FFT Fp1 76.6283524904',\n",
        "   'FFT Fp1 77.1072796935',\n",
        "   'FFT Fp1 77.5862068966',\n",
        "   'FFT Fp1 78.0651340996',\n",
        "   'FFT Fp1 78.5440613027',\n",
        "   'FFT Fp1 79.0229885057',\n",
        "   'FFT Fp1 79.5019157088',\n",
        "   'FFT Fp1 79.9808429119',\n",
        "   'FFT Fp1 80.4597701149',\n",
        "   'FFT Fp1 80.938697318',\n",
        "   'FFT Fp1 81.4176245211',\n",
        "   'FFT Fp1 81.8965517241',\n",
        "   'FFT Fp1 82.3754789272',\n",
        "   'FFT Fp1 82.8544061303',\n",
        "   'FFT Fp1 83.3333333333',\n",
        "   'FFT Fp1 83.8122605364',\n",
        "   'FFT Fp1 84.2911877395',\n",
        "   'FFT Fp1 84.7701149425',\n",
        "   'FFT Fp1 85.2490421456',\n",
        "   'FFT Fp1 85.7279693487',\n",
        "   'FFT Fp1 86.2068965517',\n",
        "   'FFT Fp1 86.6858237548',\n",
        "   'FFT Fp1 87.1647509579',\n",
        "   'FFT Fp1 87.6436781609',\n",
        "   'FFT Fp1 88.122605364',\n",
        "   'FFT Fp1 88.601532567',\n",
        "   'FFT Fp1 89.0804597701',\n",
        "   'FFT Fp1 89.5593869732',\n",
        "   'FFT Fp1 90.0383141762',\n",
        "   'FFT Fp1 90.5172413793',\n",
        "   'FFT Fp1 90.9961685824',\n",
        "   'FFT Fp1 91.4750957854',\n",
        "   'FFT Fp1 91.9540229885',\n",
        "   'FFT Fp1 92.4329501916',\n",
        "   'FFT Fp1 92.9118773946',\n",
        "   'FFT Fp1 93.3908045977',\n",
        "   'FFT Fp1 93.8697318008',\n",
        "   'FFT Fp1 94.3486590038',\n",
        "   'FFT Fp1 94.8275862069',\n",
        "   'FFT Fp1 95.30651341',\n",
        "   'FFT Fp1 95.785440613',\n",
        "   'FFT Fp1 96.2643678161',\n",
        "   'FFT Fp1 96.7432950192',\n",
        "   'FFT Fp1 97.2222222222',\n",
        "   'FFT Fp1 97.7011494253',\n",
        "   'FFT Fp1 98.1800766284',\n",
        "   'FFT Fp1 98.6590038314',\n",
        "   'FFT Fp1 99.1379310345',\n",
        "   'FFT Fp1 99.6168582375',\n",
        "   'FFT Fp1 100.095785441',\n",
        "   'FFT Fp1 100.574712644',\n",
        "   'FFT Fp1 101.053639847',\n",
        "   'FFT Fp1 101.53256705',\n",
        "   'FFT Fp1 102.011494253',\n",
        "   'FFT Fp1 102.490421456',\n",
        "   'FFT Fp1 102.969348659',\n",
        "   'FFT Fp1 103.448275862',\n",
        "   'FFT Fp1 103.927203065',\n",
        "   'FFT Fp1 104.406130268',\n",
        "   'FFT Fp1 104.885057471',\n",
        "   'FFT Fp1 105.363984674',\n",
        "   'FFT Fp1 105.842911877',\n",
        "   'FFT Fp1 106.32183908',\n",
        "   'FFT Fp1 106.800766284',\n",
        "   'FFT Fp1 107.279693487',\n",
        "   'FFT Fp1 107.75862069',\n",
        "   'FFT Fp1 108.237547893',\n",
        "   'FFT Fp1 108.716475096',\n",
        "   'FFT Fp1 109.195402299',\n",
        "   'FFT Fp1 109.674329502',\n",
        "   'FFT Fp1 110.153256705',\n",
        "   'FFT Fp1 110.632183908',\n",
        "   'FFT Fp1 111.111111111',\n",
        "   'FFT Fp1 111.590038314',\n",
        "   'FFT Fp1 112.068965517',\n",
        "   'FFT Fp1 112.54789272',\n",
        "   'FFT Fp1 113.026819923',\n",
        "   'FFT Fp1 113.505747126',\n",
        "   'FFT Fp1 113.98467433',\n",
        "   'FFT Fp1 114.463601533',\n",
        "   'FFT Fp1 114.942528736',\n",
        "   'FFT Fp1 115.421455939',\n",
        "   'FFT Fp1 115.900383142',\n",
        "   'FFT Fp1 116.379310345',\n",
        "   'FFT Fp1 116.858237548',\n",
        "   'FFT Fp1 117.337164751',\n",
        "   'FFT Fp1 117.816091954',\n",
        "   'FFT Fp1 118.295019157',\n",
        "   'FFT Fp1 118.77394636',\n",
        "   'FFT Fp1 119.252873563',\n",
        "   'FFT Fp1 119.731800766',\n",
        "   'FFT Fp1 120.210727969',\n",
        "   'FFT Fp1 120.689655172',\n",
        "   'FFT Fp1 121.168582375',\n",
        "   'FFT Fp1 121.647509579',\n",
        "   'FFT Fp1 122.126436782',\n",
        "   'FFT Fp1 122.605363985',\n",
        "   'FFT Fp1 123.084291188',\n",
        "   'FFT Fp1 123.563218391',\n",
        "   'FFT Fp1 124.042145594',\n",
        "   'FFT Fp1 124.521072797',\n",
        "   'FFT Fpz 0.478927203065',\n",
        "   'FFT Fpz 0.95785440613',\n",
        "   'FFT Fpz 1.4367816092',\n",
        "   'FFT Fpz 1.91570881226',\n",
        "   'FFT Fpz 2.39463601533',\n",
        "   'FFT Fpz 2.87356321839',\n",
        "   'FFT Fpz 3.35249042146',\n",
        "   'FFT Fpz 3.83141762452',\n",
        "   'FFT Fpz 4.31034482759',\n",
        "   'FFT Fpz 4.78927203065',\n",
        "   'FFT Fpz 5.26819923372',\n",
        "   'FFT Fpz 5.74712643678',\n",
        "   'FFT Fpz 6.22605363985',\n",
        "   'FFT Fpz 6.70498084291',\n",
        "   'FFT Fpz 7.18390804598',\n",
        "   'FFT Fpz 7.66283524904',\n",
        "   'FFT Fpz 8.14176245211',\n",
        "   'FFT Fpz 8.62068965517',\n",
        "   'FFT Fpz 9.09961685824',\n",
        "   'FFT Fpz 9.5785440613',\n",
        "   'FFT Fpz 10.0574712644',\n",
        "   'FFT Fpz 10.5363984674',\n",
        "   'FFT Fpz 11.0153256705',\n",
        "   'FFT Fpz 11.4942528736',\n",
        "   'FFT Fpz 11.9731800766',\n",
        "   'FFT Fpz 12.4521072797',\n",
        "   'FFT Fpz 12.9310344828',\n",
        "   'FFT Fpz 13.4099616858',\n",
        "   'FFT Fpz 13.8888888889',\n",
        "   'FFT Fpz 14.367816092',\n",
        "   'FFT Fpz 14.846743295',\n",
        "   'FFT Fpz 15.3256704981',\n",
        "   'FFT Fpz 15.8045977011',\n",
        "   'FFT Fpz 16.2835249042',\n",
        "   'FFT Fpz 16.7624521073',\n",
        "   'FFT Fpz 17.2413793103',\n",
        "   'FFT Fpz 17.7203065134',\n",
        "   'FFT Fpz 18.1992337165',\n",
        "   'FFT Fpz 18.6781609195',\n",
        "   'FFT Fpz 19.1570881226',\n",
        "   'FFT Fpz 19.6360153257',\n",
        "   'FFT Fpz 20.1149425287',\n",
        "   'FFT Fpz 20.5938697318',\n",
        "   'FFT Fpz 21.0727969349',\n",
        "   'FFT Fpz 21.5517241379',\n",
        "   'FFT Fpz 22.030651341',\n",
        "   'FFT Fpz 22.5095785441',\n",
        "   'FFT Fpz 22.9885057471',\n",
        "   'FFT Fpz 23.4674329502',\n",
        "   'FFT Fpz 23.9463601533',\n",
        "   'FFT Fpz 24.4252873563',\n",
        "   'FFT Fpz 24.9042145594',\n",
        "   'FFT Fpz 25.3831417625',\n",
        "   'FFT Fpz 25.8620689655',\n",
        "   'FFT Fpz 26.3409961686',\n",
        "   'FFT Fpz 26.8199233716',\n",
        "   'FFT Fpz 27.2988505747',\n",
        "   'FFT Fpz 27.7777777778',\n",
        "   'FFT Fpz 28.2567049808',\n",
        "   'FFT Fpz 28.7356321839',\n",
        "   'FFT Fpz 29.214559387',\n",
        "   'FFT Fpz 29.69348659',\n",
        "   'FFT Fpz 30.1724137931',\n",
        "   'FFT Fpz 30.6513409962',\n",
        "   'FFT Fpz 31.1302681992',\n",
        "   'FFT Fpz 31.6091954023',\n",
        "   'FFT Fpz 32.0881226054',\n",
        "   'FFT Fpz 32.5670498084',\n",
        "   'FFT Fpz 33.0459770115',\n",
        "   'FFT Fpz 33.5249042146',\n",
        "   'FFT Fpz 34.0038314176',\n",
        "   'FFT Fpz 34.4827586207',\n",
        "   'FFT Fpz 34.9616858238',\n",
        "   'FFT Fpz 35.4406130268',\n",
        "   'FFT Fpz 35.9195402299',\n",
        "   'FFT Fpz 36.398467433',\n",
        "   'FFT Fpz 36.877394636',\n",
        "   'FFT Fpz 37.3563218391',\n",
        "   'FFT Fpz 37.8352490421',\n",
        "   'FFT Fpz 38.3141762452',\n",
        "   'FFT Fpz 38.7931034483',\n",
        "   'FFT Fpz 39.2720306513',\n",
        "   'FFT Fpz 39.7509578544',\n",
        "   'FFT Fpz 40.2298850575',\n",
        "   'FFT Fpz 40.7088122605',\n",
        "   'FFT Fpz 41.1877394636',\n",
        "   'FFT Fpz 41.6666666667',\n",
        "   'FFT Fpz 42.1455938697',\n",
        "   'FFT Fpz 42.6245210728',\n",
        "   'FFT Fpz 43.1034482759',\n",
        "   'FFT Fpz 43.5823754789',\n",
        "   'FFT Fpz 44.061302682',\n",
        "   'FFT Fpz 44.5402298851',\n",
        "   'FFT Fpz 45.0191570881',\n",
        "   'FFT Fpz 45.4980842912',\n",
        "   'FFT Fpz 45.9770114943',\n",
        "   'FFT Fpz 46.4559386973',\n",
        "   'FFT Fpz 46.9348659004',\n",
        "   'FFT Fpz 47.4137931034',\n",
        "   'FFT Fpz 47.8927203065',\n",
        "   'FFT Fpz 48.3716475096',\n",
        "   'FFT Fpz 48.8505747126',\n",
        "   'FFT Fpz 49.3295019157',\n",
        "   'FFT Fpz 49.8084291188',\n",
        "   'FFT Fpz 50.2873563218',\n",
        "   'FFT Fpz 50.7662835249',\n",
        "   'FFT Fpz 51.245210728',\n",
        "   'FFT Fpz 51.724137931',\n",
        "   'FFT Fpz 52.2030651341',\n",
        "   'FFT Fpz 52.6819923372',\n",
        "   'FFT Fpz 53.1609195402',\n",
        "   'FFT Fpz 53.6398467433',\n",
        "   'FFT Fpz 54.1187739464',\n",
        "   'FFT Fpz 54.5977011494',\n",
        "   'FFT Fpz 55.0766283525',\n",
        "   'FFT Fpz 55.5555555556',\n",
        "   'FFT Fpz 56.0344827586',\n",
        "   'FFT Fpz 56.5134099617',\n",
        "   'FFT Fpz 56.9923371648',\n",
        "   'FFT Fpz 57.4712643678',\n",
        "   'FFT Fpz 57.9501915709',\n",
        "   'FFT Fpz 58.4291187739',\n",
        "   'FFT Fpz 58.908045977',\n",
        "   'FFT Fpz 59.3869731801',\n",
        "   'FFT Fpz 59.8659003831',\n",
        "   'FFT Fpz 60.3448275862',\n",
        "   'FFT Fpz 60.8237547893',\n",
        "   'FFT Fpz 61.3026819923',\n",
        "   'FFT Fpz 61.7816091954',\n",
        "   'FFT Fpz 62.2605363985',\n",
        "   'FFT Fpz 62.7394636015',\n",
        "   'FFT Fpz 63.2183908046',\n",
        "   'FFT Fpz 63.6973180077',\n",
        "   'FFT Fpz 64.1762452107',\n",
        "   'FFT Fpz 64.6551724138',\n",
        "   'FFT Fpz 65.1340996169',\n",
        "   'FFT Fpz 65.6130268199',\n",
        "   'FFT Fpz 66.091954023',\n",
        "   'FFT Fpz 66.5708812261',\n",
        "   'FFT Fpz 67.0498084291',\n",
        "   'FFT Fpz 67.5287356322',\n",
        "   'FFT Fpz 68.0076628352',\n",
        "   'FFT Fpz 68.4865900383',\n",
        "   'FFT Fpz 68.9655172414',\n",
        "   'FFT Fpz 69.4444444444',\n",
        "   'FFT Fpz 69.9233716475',\n",
        "   'FFT Fpz 70.4022988506',\n",
        "   'FFT Fpz 70.8812260536',\n",
        "   'FFT Fpz 71.3601532567',\n",
        "   'FFT Fpz 71.8390804598',\n",
        "   'FFT Fpz 72.3180076628',\n",
        "   'FFT Fpz 72.7969348659',\n",
        "   'FFT Fpz 73.275862069',\n",
        "   'FFT Fpz 73.754789272',\n",
        "   'FFT Fpz 74.2337164751',\n",
        "   'FFT Fpz 74.7126436782',\n",
        "   'FFT Fpz 75.1915708812',\n",
        "   'FFT Fpz 75.6704980843',\n",
        "   'FFT Fpz 76.1494252874',\n",
        "   'FFT Fpz 76.6283524904',\n",
        "   'FFT Fpz 77.1072796935',\n",
        "   'FFT Fpz 77.5862068966',\n",
        "   'FFT Fpz 78.0651340996',\n",
        "   'FFT Fpz 78.5440613027',\n",
        "   'FFT Fpz 79.0229885057',\n",
        "   'FFT Fpz 79.5019157088',\n",
        "   'FFT Fpz 79.9808429119',\n",
        "   'FFT Fpz 80.4597701149',\n",
        "   'FFT Fpz 80.938697318',\n",
        "   'FFT Fpz 81.4176245211',\n",
        "   'FFT Fpz 81.8965517241',\n",
        "   'FFT Fpz 82.3754789272',\n",
        "   'FFT Fpz 82.8544061303',\n",
        "   'FFT Fpz 83.3333333333',\n",
        "   'FFT Fpz 83.8122605364',\n",
        "   'FFT Fpz 84.2911877395',\n",
        "   'FFT Fpz 84.7701149425',\n",
        "   'FFT Fpz 85.2490421456',\n",
        "   'FFT Fpz 85.7279693487',\n",
        "   'FFT Fpz 86.2068965517',\n",
        "   'FFT Fpz 86.6858237548',\n",
        "   'FFT Fpz 87.1647509579',\n",
        "   'FFT Fpz 87.6436781609',\n",
        "   'FFT Fpz 88.122605364',\n",
        "   'FFT Fpz 88.601532567',\n",
        "   'FFT Fpz 89.0804597701',\n",
        "   'FFT Fpz 89.5593869732',\n",
        "   'FFT Fpz 90.0383141762',\n",
        "   'FFT Fpz 90.5172413793',\n",
        "   'FFT Fpz 90.9961685824',\n",
        "   'FFT Fpz 91.4750957854',\n",
        "   'FFT Fpz 91.9540229885',\n",
        "   'FFT Fpz 92.4329501916',\n",
        "   'FFT Fpz 92.9118773946',\n",
        "   'FFT Fpz 93.3908045977',\n",
        "   'FFT Fpz 93.8697318008',\n",
        "   'FFT Fpz 94.3486590038',\n",
        "   'FFT Fpz 94.8275862069',\n",
        "   'FFT Fpz 95.30651341',\n",
        "   'FFT Fpz 95.785440613',\n",
        "   'FFT Fpz 96.2643678161',\n",
        "   'FFT Fpz 96.7432950192',\n",
        "   'FFT Fpz 97.2222222222',\n",
        "   'FFT Fpz 97.7011494253',\n",
        "   'FFT Fpz 98.1800766284',\n",
        "   'FFT Fpz 98.6590038314',\n",
        "   'FFT Fpz 99.1379310345',\n",
        "   'FFT Fpz 99.6168582375',\n",
        "   'FFT Fpz 100.095785441',\n",
        "   'FFT Fpz 100.574712644',\n",
        "   'FFT Fpz 101.053639847',\n",
        "   'FFT Fpz 101.53256705',\n",
        "   'FFT Fpz 102.011494253',\n",
        "   'FFT Fpz 102.490421456',\n",
        "   'FFT Fpz 102.969348659',\n",
        "   'FFT Fpz 103.448275862',\n",
        "   'FFT Fpz 103.927203065',\n",
        "   'FFT Fpz 104.406130268',\n",
        "   'FFT Fpz 104.885057471',\n",
        "   'FFT Fpz 105.363984674',\n",
        "   'FFT Fpz 105.842911877',\n",
        "   'FFT Fpz 106.32183908',\n",
        "   'FFT Fpz 106.800766284',\n",
        "   'FFT Fpz 107.279693487',\n",
        "   'FFT Fpz 107.75862069',\n",
        "   'FFT Fpz 108.237547893',\n",
        "   'FFT Fpz 108.716475096',\n",
        "   'FFT Fpz 109.195402299',\n",
        "   'FFT Fpz 109.674329502',\n",
        "   'FFT Fpz 110.153256705',\n",
        "   'FFT Fpz 110.632183908',\n",
        "   'FFT Fpz 111.111111111',\n",
        "   'FFT Fpz 111.590038314',\n",
        "   'FFT Fpz 112.068965517',\n",
        "   'FFT Fpz 112.54789272',\n",
        "   'FFT Fpz 113.026819923',\n",
        "   'FFT Fpz 113.505747126',\n",
        "   'FFT Fpz 113.98467433',\n",
        "   'FFT Fpz 114.463601533',\n",
        "   'FFT Fpz 114.942528736',\n",
        "   'FFT Fpz 115.421455939',\n",
        "   'FFT Fpz 115.900383142',\n",
        "   'FFT Fpz 116.379310345',\n",
        "   'FFT Fpz 116.858237548',\n",
        "   'FFT Fpz 117.337164751',\n",
        "   'FFT Fpz 117.816091954',\n",
        "   'FFT Fpz 118.295019157',\n",
        "   'FFT Fpz 118.77394636',\n",
        "   'FFT Fpz 119.252873563',\n",
        "   'FFT Fpz 119.731800766',\n",
        "   'FFT Fpz 120.210727969',\n",
        "   'FFT Fpz 120.689655172',\n",
        "   'FFT Fpz 121.168582375',\n",
        "   'FFT Fpz 121.647509579',\n",
        "   'FFT Fpz 122.126436782',\n",
        "   'FFT Fpz 122.605363985',\n",
        "   'FFT Fpz 123.084291188',\n",
        "   'FFT Fpz 123.563218391',\n",
        "   'FFT Fpz 124.042145594',\n",
        "   'FFT Fpz 124.521072797',\n",
        "   'FFT Fp2 0.478927203065',\n",
        "   'FFT Fp2 0.95785440613',\n",
        "   'FFT Fp2 1.4367816092',\n",
        "   'FFT Fp2 1.91570881226',\n",
        "   'FFT Fp2 2.39463601533',\n",
        "   'FFT Fp2 2.87356321839',\n",
        "   'FFT Fp2 3.35249042146',\n",
        "   'FFT Fp2 3.83141762452',\n",
        "   'FFT Fp2 4.31034482759',\n",
        "   'FFT Fp2 4.78927203065',\n",
        "   'FFT Fp2 5.26819923372',\n",
        "   'FFT Fp2 5.74712643678',\n",
        "   'FFT Fp2 6.22605363985',\n",
        "   'FFT Fp2 6.70498084291',\n",
        "   'FFT Fp2 7.18390804598',\n",
        "   'FFT Fp2 7.66283524904',\n",
        "   'FFT Fp2 8.14176245211',\n",
        "   'FFT Fp2 8.62068965517',\n",
        "   'FFT Fp2 9.09961685824',\n",
        "   'FFT Fp2 9.5785440613',\n",
        "   'FFT Fp2 10.0574712644',\n",
        "   'FFT Fp2 10.5363984674',\n",
        "   'FFT Fp2 11.0153256705',\n",
        "   'FFT Fp2 11.4942528736',\n",
        "   'FFT Fp2 11.9731800766',\n",
        "   'FFT Fp2 12.4521072797',\n",
        "   'FFT Fp2 12.9310344828',\n",
        "   'FFT Fp2 13.4099616858',\n",
        "   'FFT Fp2 13.8888888889',\n",
        "   'FFT Fp2 14.367816092',\n",
        "   'FFT Fp2 14.846743295',\n",
        "   'FFT Fp2 15.3256704981',\n",
        "   'FFT Fp2 15.8045977011',\n",
        "   'FFT Fp2 16.2835249042',\n",
        "   'FFT Fp2 16.7624521073',\n",
        "   'FFT Fp2 17.2413793103',\n",
        "   'FFT Fp2 17.7203065134',\n",
        "   'FFT Fp2 18.1992337165',\n",
        "   'FFT Fp2 18.6781609195',\n",
        "   'FFT Fp2 19.1570881226',\n",
        "   'FFT Fp2 19.6360153257',\n",
        "   'FFT Fp2 20.1149425287',\n",
        "   'FFT Fp2 20.5938697318',\n",
        "   'FFT Fp2 21.0727969349',\n",
        "   'FFT Fp2 21.5517241379',\n",
        "   'FFT Fp2 22.030651341',\n",
        "   'FFT Fp2 22.5095785441',\n",
        "   'FFT Fp2 22.9885057471',\n",
        "   'FFT Fp2 23.4674329502',\n",
        "   'FFT Fp2 23.9463601533',\n",
        "   'FFT Fp2 24.4252873563',\n",
        "   'FFT Fp2 24.9042145594',\n",
        "   'FFT Fp2 25.3831417625',\n",
        "   'FFT Fp2 25.8620689655',\n",
        "   'FFT Fp2 26.3409961686',\n",
        "   'FFT Fp2 26.8199233716',\n",
        "   'FFT Fp2 27.2988505747',\n",
        "   'FFT Fp2 27.7777777778',\n",
        "   'FFT Fp2 28.2567049808',\n",
        "   'FFT Fp2 28.7356321839',\n",
        "   'FFT Fp2 29.214559387',\n",
        "   'FFT Fp2 29.69348659',\n",
        "   'FFT Fp2 30.1724137931',\n",
        "   'FFT Fp2 30.6513409962',\n",
        "   'FFT Fp2 31.1302681992',\n",
        "   'FFT Fp2 31.6091954023',\n",
        "   'FFT Fp2 32.0881226054',\n",
        "   'FFT Fp2 32.5670498084',\n",
        "   'FFT Fp2 33.0459770115',\n",
        "   'FFT Fp2 33.5249042146',\n",
        "   'FFT Fp2 34.0038314176',\n",
        "   'FFT Fp2 34.4827586207',\n",
        "   'FFT Fp2 34.9616858238',\n",
        "   'FFT Fp2 35.4406130268',\n",
        "   'FFT Fp2 35.9195402299',\n",
        "   'FFT Fp2 36.398467433',\n",
        "   'FFT Fp2 36.877394636',\n",
        "   'FFT Fp2 37.3563218391',\n",
        "   'FFT Fp2 37.8352490421',\n",
        "   'FFT Fp2 38.3141762452',\n",
        "   'FFT Fp2 38.7931034483',\n",
        "   'FFT Fp2 39.2720306513',\n",
        "   'FFT Fp2 39.7509578544',\n",
        "   'FFT Fp2 40.2298850575',\n",
        "   'FFT Fp2 40.7088122605',\n",
        "   'FFT Fp2 41.1877394636',\n",
        "   'FFT Fp2 41.6666666667',\n",
        "   'FFT Fp2 42.1455938697',\n",
        "   'FFT Fp2 42.6245210728',\n",
        "   'FFT Fp2 43.1034482759',\n",
        "   'FFT Fp2 43.5823754789',\n",
        "   'FFT Fp2 44.061302682',\n",
        "   'FFT Fp2 44.5402298851',\n",
        "   'FFT Fp2 45.0191570881',\n",
        "   'FFT Fp2 45.4980842912',\n",
        "   'FFT Fp2 45.9770114943',\n",
        "   'FFT Fp2 46.4559386973',\n",
        "   'FFT Fp2 46.9348659004',\n",
        "   'FFT Fp2 47.4137931034',\n",
        "   'FFT Fp2 47.8927203065',\n",
        "   'FFT Fp2 48.3716475096',\n",
        "   'FFT Fp2 48.8505747126',\n",
        "   'FFT Fp2 49.3295019157',\n",
        "   'FFT Fp2 49.8084291188',\n",
        "   'FFT Fp2 50.2873563218',\n",
        "   'FFT Fp2 50.7662835249',\n",
        "   'FFT Fp2 51.245210728',\n",
        "   'FFT Fp2 51.724137931',\n",
        "   'FFT Fp2 52.2030651341',\n",
        "   'FFT Fp2 52.6819923372',\n",
        "   'FFT Fp2 53.1609195402',\n",
        "   'FFT Fp2 53.6398467433',\n",
        "   'FFT Fp2 54.1187739464',\n",
        "   'FFT Fp2 54.5977011494',\n",
        "   'FFT Fp2 55.0766283525',\n",
        "   'FFT Fp2 55.5555555556',\n",
        "   'FFT Fp2 56.0344827586',\n",
        "   'FFT Fp2 56.5134099617',\n",
        "   'FFT Fp2 56.9923371648',\n",
        "   'FFT Fp2 57.4712643678',\n",
        "   'FFT Fp2 57.9501915709',\n",
        "   'FFT Fp2 58.4291187739',\n",
        "   'FFT Fp2 58.908045977',\n",
        "   'FFT Fp2 59.3869731801',\n",
        "   'FFT Fp2 59.8659003831',\n",
        "   'FFT Fp2 60.3448275862',\n",
        "   'FFT Fp2 60.8237547893',\n",
        "   'FFT Fp2 61.3026819923',\n",
        "   'FFT Fp2 61.7816091954',\n",
        "   'FFT Fp2 62.2605363985',\n",
        "   'FFT Fp2 62.7394636015',\n",
        "   'FFT Fp2 63.2183908046',\n",
        "   'FFT Fp2 63.6973180077',\n",
        "   'FFT Fp2 64.1762452107',\n",
        "   'FFT Fp2 64.6551724138',\n",
        "   'FFT Fp2 65.1340996169',\n",
        "   'FFT Fp2 65.6130268199',\n",
        "   'FFT Fp2 66.091954023',\n",
        "   'FFT Fp2 66.5708812261',\n",
        "   'FFT Fp2 67.0498084291',\n",
        "   'FFT Fp2 67.5287356322',\n",
        "   'FFT Fp2 68.0076628352',\n",
        "   'FFT Fp2 68.4865900383',\n",
        "   'FFT Fp2 68.9655172414',\n",
        "   'FFT Fp2 69.4444444444',\n",
        "   'FFT Fp2 69.9233716475',\n",
        "   'FFT Fp2 70.4022988506',\n",
        "   'FFT Fp2 70.8812260536',\n",
        "   'FFT Fp2 71.3601532567',\n",
        "   'FFT Fp2 71.8390804598',\n",
        "   'FFT Fp2 72.3180076628',\n",
        "   'FFT Fp2 72.7969348659',\n",
        "   'FFT Fp2 73.275862069',\n",
        "   'FFT Fp2 73.754789272',\n",
        "   'FFT Fp2 74.2337164751',\n",
        "   'FFT Fp2 74.7126436782',\n",
        "   'FFT Fp2 75.1915708812',\n",
        "   'FFT Fp2 75.6704980843',\n",
        "   'FFT Fp2 76.1494252874',\n",
        "   'FFT Fp2 76.6283524904',\n",
        "   'FFT Fp2 77.1072796935',\n",
        "   'FFT Fp2 77.5862068966',\n",
        "   'FFT Fp2 78.0651340996',\n",
        "   'FFT Fp2 78.5440613027',\n",
        "   'FFT Fp2 79.0229885057',\n",
        "   'FFT Fp2 79.5019157088',\n",
        "   'FFT Fp2 79.9808429119',\n",
        "   'FFT Fp2 80.4597701149',\n",
        "   'FFT Fp2 80.938697318',\n",
        "   'FFT Fp2 81.4176245211',\n",
        "   'FFT Fp2 81.8965517241',\n",
        "   'FFT Fp2 82.3754789272',\n",
        "   'FFT Fp2 82.8544061303',\n",
        "   'FFT Fp2 83.3333333333',\n",
        "   'FFT Fp2 83.8122605364',\n",
        "   'FFT Fp2 84.2911877395',\n",
        "   'FFT Fp2 84.7701149425',\n",
        "   'FFT Fp2 85.2490421456',\n",
        "   'FFT Fp2 85.7279693487',\n",
        "   'FFT Fp2 86.2068965517',\n",
        "   'FFT Fp2 86.6858237548',\n",
        "   'FFT Fp2 87.1647509579',\n",
        "   'FFT Fp2 87.6436781609',\n",
        "   'FFT Fp2 88.122605364',\n",
        "   'FFT Fp2 88.601532567',\n",
        "   'FFT Fp2 89.0804597701',\n",
        "   'FFT Fp2 89.5593869732',\n",
        "   'FFT Fp2 90.0383141762',\n",
        "   'FFT Fp2 90.5172413793',\n",
        "   'FFT Fp2 90.9961685824',\n",
        "   'FFT Fp2 91.4750957854',\n",
        "   'FFT Fp2 91.9540229885',\n",
        "   'FFT Fp2 92.4329501916',\n",
        "   'FFT Fp2 92.9118773946',\n",
        "   'FFT Fp2 93.3908045977',\n",
        "   'FFT Fp2 93.8697318008',\n",
        "   'FFT Fp2 94.3486590038',\n",
        "   'FFT Fp2 94.8275862069',\n",
        "   'FFT Fp2 95.30651341',\n",
        "   'FFT Fp2 95.785440613',\n",
        "   'FFT Fp2 96.2643678161',\n",
        "   'FFT Fp2 96.7432950192',\n",
        "   'FFT Fp2 97.2222222222',\n",
        "   'FFT Fp2 97.7011494253',\n",
        "   'FFT Fp2 98.1800766284',\n",
        "   'FFT Fp2 98.6590038314',\n",
        "   'FFT Fp2 99.1379310345',\n",
        "   'FFT Fp2 99.6168582375',\n",
        "   'FFT Fp2 100.095785441',\n",
        "   'FFT Fp2 100.574712644',\n",
        "   'FFT Fp2 101.053639847',\n",
        "   'FFT Fp2 101.53256705',\n",
        "   'FFT Fp2 102.011494253',\n",
        "   'FFT Fp2 102.490421456',\n",
        "   'FFT Fp2 102.969348659',\n",
        "   'FFT Fp2 103.448275862',\n",
        "   'FFT Fp2 103.927203065',\n",
        "   'FFT Fp2 104.406130268',\n",
        "   'FFT Fp2 104.885057471',\n",
        "   'FFT Fp2 105.363984674',\n",
        "   'FFT Fp2 105.842911877',\n",
        "   'FFT Fp2 106.32183908',\n",
        "   'FFT Fp2 106.800766284',\n",
        "   'FFT Fp2 107.279693487',\n",
        "   'FFT Fp2 107.75862069',\n",
        "   'FFT Fp2 108.237547893',\n",
        "   'FFT Fp2 108.716475096',\n",
        "   'FFT Fp2 109.195402299',\n",
        "   'FFT Fp2 109.674329502',\n",
        "   'FFT Fp2 110.153256705',\n",
        "   'FFT Fp2 110.632183908',\n",
        "   'FFT Fp2 111.111111111',\n",
        "   'FFT Fp2 111.590038314',\n",
        "   'FFT Fp2 112.068965517',\n",
        "   'FFT Fp2 112.54789272',\n",
        "   'FFT Fp2 113.026819923',\n",
        "   'FFT Fp2 113.505747126',\n",
        "   'FFT Fp2 113.98467433',\n",
        "   'FFT Fp2 114.463601533',\n",
        "   'FFT Fp2 114.942528736',\n",
        "   'FFT Fp2 115.421455939',\n",
        "   'FFT Fp2 115.900383142',\n",
        "   'FFT Fp2 116.379310345',\n",
        "   'FFT Fp2 116.858237548',\n",
        "   'FFT Fp2 117.337164751',\n",
        "   'FFT Fp2 117.816091954',\n",
        "   'FFT Fp2 118.295019157',\n",
        "   'FFT Fp2 118.77394636',\n",
        "   'FFT Fp2 119.252873563',\n",
        "   'FFT Fp2 119.731800766',\n",
        "   'FFT Fp2 120.210727969',\n",
        "   'FFT Fp2 120.689655172',\n",
        "   'FFT Fp2 121.168582375',\n",
        "   'FFT Fp2 121.647509579',\n",
        "   'FFT Fp2 122.126436782',\n",
        "   'FFT Fp2 122.605363985',\n",
        "   'FFT Fp2 123.084291188',\n",
        "   'FFT Fp2 123.563218391',\n",
        "   'FFT Fp2 124.042145594',\n",
        "   'FFT Fp2 124.521072797',\n",
        "   'FFT AFp3h 0.478927203065',\n",
        "   'FFT AFp3h 0.95785440613',\n",
        "   'FFT AFp3h 1.4367816092',\n",
        "   'FFT AFp3h 1.91570881226',\n",
        "   'FFT AFp3h 2.39463601533',\n",
        "   'FFT AFp3h 2.87356321839',\n",
        "   'FFT AFp3h 3.35249042146',\n",
        "   'FFT AFp3h 3.83141762452',\n",
        "   'FFT AFp3h 4.31034482759',\n",
        "   'FFT AFp3h 4.78927203065',\n",
        "   'FFT AFp3h 5.26819923372',\n",
        "   'FFT AFp3h 5.74712643678',\n",
        "   'FFT AFp3h 6.22605363985',\n",
        "   'FFT AFp3h 6.70498084291',\n",
        "   'FFT AFp3h 7.18390804598',\n",
        "   'FFT AFp3h 7.66283524904',\n",
        "   'FFT AFp3h 8.14176245211',\n",
        "   'FFT AFp3h 8.62068965517',\n",
        "   'FFT AFp3h 9.09961685824',\n",
        "   'FFT AFp3h 9.5785440613',\n",
        "   'FFT AFp3h 10.0574712644',\n",
        "   'FFT AFp3h 10.5363984674',\n",
        "   'FFT AFp3h 11.0153256705',\n",
        "   'FFT AFp3h 11.4942528736',\n",
        "   'FFT AFp3h 11.9731800766',\n",
        "   'FFT AFp3h 12.4521072797',\n",
        "   'FFT AFp3h 12.9310344828',\n",
        "   'FFT AFp3h 13.4099616858',\n",
        "   'FFT AFp3h 13.8888888889',\n",
        "   'FFT AFp3h 14.367816092',\n",
        "   'FFT AFp3h 14.846743295',\n",
        "   'FFT AFp3h 15.3256704981',\n",
        "   'FFT AFp3h 15.8045977011',\n",
        "   'FFT AFp3h 16.2835249042',\n",
        "   'FFT AFp3h 16.7624521073',\n",
        "   'FFT AFp3h 17.2413793103',\n",
        "   'FFT AFp3h 17.7203065134',\n",
        "   'FFT AFp3h 18.1992337165',\n",
        "   'FFT AFp3h 18.6781609195',\n",
        "   'FFT AFp3h 19.1570881226',\n",
        "   'FFT AFp3h 19.6360153257',\n",
        "   'FFT AFp3h 20.1149425287',\n",
        "   'FFT AFp3h 20.5938697318',\n",
        "   'FFT AFp3h 21.0727969349',\n",
        "   'FFT AFp3h 21.5517241379',\n",
        "   'FFT AFp3h 22.030651341',\n",
        "   'FFT AFp3h 22.5095785441',\n",
        "   'FFT AFp3h 22.9885057471',\n",
        "   'FFT AFp3h 23.4674329502',\n",
        "   'FFT AFp3h 23.9463601533',\n",
        "   'FFT AFp3h 24.4252873563',\n",
        "   'FFT AFp3h 24.9042145594',\n",
        "   'FFT AFp3h 25.3831417625',\n",
        "   'FFT AFp3h 25.8620689655',\n",
        "   'FFT AFp3h 26.3409961686',\n",
        "   'FFT AFp3h 26.8199233716',\n",
        "   'FFT AFp3h 27.2988505747',\n",
        "   'FFT AFp3h 27.7777777778',\n",
        "   'FFT AFp3h 28.2567049808',\n",
        "   'FFT AFp3h 28.7356321839',\n",
        "   'FFT AFp3h 29.214559387',\n",
        "   'FFT AFp3h 29.69348659',\n",
        "   'FFT AFp3h 30.1724137931',\n",
        "   'FFT AFp3h 30.6513409962',\n",
        "   'FFT AFp3h 31.1302681992',\n",
        "   'FFT AFp3h 31.6091954023',\n",
        "   'FFT AFp3h 32.0881226054',\n",
        "   'FFT AFp3h 32.5670498084',\n",
        "   'FFT AFp3h 33.0459770115',\n",
        "   'FFT AFp3h 33.5249042146',\n",
        "   'FFT AFp3h 34.0038314176',\n",
        "   'FFT AFp3h 34.4827586207',\n",
        "   'FFT AFp3h 34.9616858238',\n",
        "   'FFT AFp3h 35.4406130268',\n",
        "   'FFT AFp3h 35.9195402299',\n",
        "   'FFT AFp3h 36.398467433',\n",
        "   'FFT AFp3h 36.877394636',\n",
        "   'FFT AFp3h 37.3563218391',\n",
        "   'FFT AFp3h 37.8352490421',\n",
        "   'FFT AFp3h 38.3141762452',\n",
        "   'FFT AFp3h 38.7931034483',\n",
        "   'FFT AFp3h 39.2720306513',\n",
        "   'FFT AFp3h 39.7509578544',\n",
        "   'FFT AFp3h 40.2298850575',\n",
        "   'FFT AFp3h 40.7088122605',\n",
        "   'FFT AFp3h 41.1877394636',\n",
        "   'FFT AFp3h 41.6666666667',\n",
        "   'FFT AFp3h 42.1455938697',\n",
        "   'FFT AFp3h 42.6245210728',\n",
        "   'FFT AFp3h 43.1034482759',\n",
        "   'FFT AFp3h 43.5823754789',\n",
        "   'FFT AFp3h 44.061302682',\n",
        "   'FFT AFp3h 44.5402298851',\n",
        "   'FFT AFp3h 45.0191570881',\n",
        "   'FFT AFp3h 45.4980842912',\n",
        "   'FFT AFp3h 45.9770114943',\n",
        "   'FFT AFp3h 46.4559386973',\n",
        "   'FFT AFp3h 46.9348659004',\n",
        "   'FFT AFp3h 47.4137931034',\n",
        "   'FFT AFp3h 47.8927203065',\n",
        "   'FFT AFp3h 48.3716475096',\n",
        "   'FFT AFp3h 48.8505747126',\n",
        "   'FFT AFp3h 49.3295019157',\n",
        "   'FFT AFp3h 49.8084291188',\n",
        "   'FFT AFp3h 50.2873563218',\n",
        "   'FFT AFp3h 50.7662835249',\n",
        "   'FFT AFp3h 51.245210728',\n",
        "   'FFT AFp3h 51.724137931',\n",
        "   'FFT AFp3h 52.2030651341',\n",
        "   'FFT AFp3h 52.6819923372',\n",
        "   'FFT AFp3h 53.1609195402',\n",
        "   'FFT AFp3h 53.6398467433',\n",
        "   'FFT AFp3h 54.1187739464',\n",
        "   'FFT AFp3h 54.5977011494',\n",
        "   'FFT AFp3h 55.0766283525',\n",
        "   'FFT AFp3h 55.5555555556',\n",
        "   'FFT AFp3h 56.0344827586',\n",
        "   'FFT AFp3h 56.5134099617',\n",
        "   'FFT AFp3h 56.9923371648',\n",
        "   'FFT AFp3h 57.4712643678',\n",
        "   'FFT AFp3h 57.9501915709',\n",
        "   'FFT AFp3h 58.4291187739',\n",
        "   'FFT AFp3h 58.908045977',\n",
        "   'FFT AFp3h 59.3869731801',\n",
        "   'FFT AFp3h 59.8659003831',\n",
        "   'FFT AFp3h 60.3448275862',\n",
        "   'FFT AFp3h 60.8237547893',\n",
        "   'FFT AFp3h 61.3026819923',\n",
        "   'FFT AFp3h 61.7816091954',\n",
        "   'FFT AFp3h 62.2605363985',\n",
        "   'FFT AFp3h 62.7394636015',\n",
        "   'FFT AFp3h 63.2183908046',\n",
        "   'FFT AFp3h 63.6973180077',\n",
        "   'FFT AFp3h 64.1762452107',\n",
        "   'FFT AFp3h 64.6551724138',\n",
        "   'FFT AFp3h 65.1340996169',\n",
        "   'FFT AFp3h 65.6130268199',\n",
        "   'FFT AFp3h 66.091954023',\n",
        "   'FFT AFp3h 66.5708812261',\n",
        "   'FFT AFp3h 67.0498084291',\n",
        "   'FFT AFp3h 67.5287356322',\n",
        "   'FFT AFp3h 68.0076628352',\n",
        "   'FFT AFp3h 68.4865900383',\n",
        "   'FFT AFp3h 68.9655172414',\n",
        "   'FFT AFp3h 69.4444444444',\n",
        "   'FFT AFp3h 69.9233716475',\n",
        "   'FFT AFp3h 70.4022988506',\n",
        "   'FFT AFp3h 70.8812260536',\n",
        "   'FFT AFp3h 71.3601532567',\n",
        "   'FFT AFp3h 71.8390804598',\n",
        "   'FFT AFp3h 72.3180076628',\n",
        "   'FFT AFp3h 72.7969348659',\n",
        "   'FFT AFp3h 73.275862069',\n",
        "   'FFT AFp3h 73.754789272',\n",
        "   'FFT AFp3h 74.2337164751',\n",
        "   'FFT AFp3h 74.7126436782',\n",
        "   'FFT AFp3h 75.1915708812',\n",
        "   'FFT AFp3h 75.6704980843',\n",
        "   'FFT AFp3h 76.1494252874',\n",
        "   'FFT AFp3h 76.6283524904',\n",
        "   'FFT AFp3h 77.1072796935',\n",
        "   'FFT AFp3h 77.5862068966',\n",
        "   'FFT AFp3h 78.0651340996',\n",
        "   'FFT AFp3h 78.5440613027',\n",
        "   'FFT AFp3h 79.0229885057',\n",
        "   'FFT AFp3h 79.5019157088',\n",
        "   'FFT AFp3h 79.9808429119',\n",
        "   'FFT AFp3h 80.4597701149',\n",
        "   'FFT AFp3h 80.938697318',\n",
        "   'FFT AFp3h 81.4176245211',\n",
        "   'FFT AFp3h 81.8965517241',\n",
        "   'FFT AFp3h 82.3754789272',\n",
        "   'FFT AFp3h 82.8544061303',\n",
        "   'FFT AFp3h 83.3333333333',\n",
        "   'FFT AFp3h 83.8122605364',\n",
        "   'FFT AFp3h 84.2911877395',\n",
        "   'FFT AFp3h 84.7701149425',\n",
        "   'FFT AFp3h 85.2490421456',\n",
        "   'FFT AFp3h 85.7279693487',\n",
        "   'FFT AFp3h 86.2068965517',\n",
        "   'FFT AFp3h 86.6858237548',\n",
        "   'FFT AFp3h 87.1647509579',\n",
        "   'FFT AFp3h 87.6436781609',\n",
        "   'FFT AFp3h 88.122605364',\n",
        "   'FFT AFp3h 88.601532567',\n",
        "   'FFT AFp3h 89.0804597701',\n",
        "   'FFT AFp3h 89.5593869732',\n",
        "   'FFT AFp3h 90.0383141762',\n",
        "   'FFT AFp3h 90.5172413793',\n",
        "   'FFT AFp3h 90.9961685824',\n",
        "   'FFT AFp3h 91.4750957854',\n",
        "   'FFT AFp3h 91.9540229885',\n",
        "   'FFT AFp3h 92.4329501916',\n",
        "   'FFT AFp3h 92.9118773946',\n",
        "   'FFT AFp3h 93.3908045977',\n",
        "   'FFT AFp3h 93.8697318008',\n",
        "   'FFT AFp3h 94.3486590038',\n",
        "   'FFT AFp3h 94.8275862069',\n",
        "   'FFT AFp3h 95.30651341',\n",
        "   'FFT AFp3h 95.785440613',\n",
        "   'FFT AFp3h 96.2643678161',\n",
        "   'FFT AFp3h 96.7432950192',\n",
        "   'FFT AFp3h 97.2222222222',\n",
        "   'FFT AFp3h 97.7011494253',\n",
        "   'FFT AFp3h 98.1800766284',\n",
        "   'FFT AFp3h 98.6590038314',\n",
        "   'FFT AFp3h 99.1379310345',\n",
        "   'FFT AFp3h 99.6168582375',\n",
        "   'FFT AFp3h 100.095785441',\n",
        "   'FFT AFp3h 100.574712644',\n",
        "   'FFT AFp3h 101.053639847',\n",
        "   'FFT AFp3h 101.53256705',\n",
        "   'FFT AFp3h 102.011494253',\n",
        "   'FFT AFp3h 102.490421456',\n",
        "   'FFT AFp3h 102.969348659',\n",
        "   'FFT AFp3h 103.448275862',\n",
        "   'FFT AFp3h 103.927203065',\n",
        "   'FFT AFp3h 104.406130268',\n",
        "   'FFT AFp3h 104.885057471',\n",
        "   'FFT AFp3h 105.363984674',\n",
        "   ...],\n",
        "  ['FFTc Fp1 0.478927203065',\n",
        "   'FFTc Fp1 0.95785440613',\n",
        "   'FFTc Fp1 1.4367816092',\n",
        "   'FFTc Fp1 1.91570881226',\n",
        "   'FFTc Fp1 2.39463601533',\n",
        "   'FFTc Fp1 2.87356321839',\n",
        "   'FFTc Fp1 3.35249042146',\n",
        "   'FFTc Fp1 3.83141762452',\n",
        "   'FFTc Fp1 4.31034482759',\n",
        "   'FFTc Fp1 4.78927203065',\n",
        "   'FFTc Fp1 5.26819923372',\n",
        "   'FFTc Fp1 5.74712643678',\n",
        "   'FFTc Fp1 6.22605363985',\n",
        "   'FFTc Fp1 6.70498084291',\n",
        "   'FFTc Fp1 7.18390804598',\n",
        "   'FFTc Fp1 7.66283524904',\n",
        "   'FFTc Fp1 8.14176245211',\n",
        "   'FFTc Fp1 8.62068965517',\n",
        "   'FFTc Fp1 9.09961685824',\n",
        "   'FFTc Fp1 9.5785440613',\n",
        "   'FFTc Fp1 10.0574712644',\n",
        "   'FFTc Fp1 10.5363984674',\n",
        "   'FFTc Fp1 11.0153256705',\n",
        "   'FFTc Fp1 11.4942528736',\n",
        "   'FFTc Fp1 11.9731800766',\n",
        "   'FFTc Fp1 12.4521072797',\n",
        "   'FFTc Fp1 12.9310344828',\n",
        "   'FFTc Fp1 13.4099616858',\n",
        "   'FFTc Fp1 13.8888888889',\n",
        "   'FFTc Fp1 14.367816092',\n",
        "   'FFTc Fp1 14.846743295',\n",
        "   'FFTc Fp1 15.3256704981',\n",
        "   'FFTc Fp1 15.8045977011',\n",
        "   'FFTc Fp1 16.2835249042',\n",
        "   'FFTc Fp1 16.7624521073',\n",
        "   'FFTc Fp1 17.2413793103',\n",
        "   'FFTc Fp1 17.7203065134',\n",
        "   'FFTc Fp1 18.1992337165',\n",
        "   'FFTc Fp1 18.6781609195',\n",
        "   'FFTc Fp1 19.1570881226',\n",
        "   'FFTc Fp1 19.6360153257',\n",
        "   'FFTc Fp1 20.1149425287',\n",
        "   'FFTc Fp1 20.5938697318',\n",
        "   'FFTc Fp1 21.0727969349',\n",
        "   'FFTc Fp1 21.5517241379',\n",
        "   'FFTc Fp1 22.030651341',\n",
        "   'FFTc Fp1 22.5095785441',\n",
        "   'FFTc Fp1 22.9885057471',\n",
        "   'FFTc Fp1 23.4674329502',\n",
        "   'FFTc Fp1 23.9463601533',\n",
        "   'FFTc Fp1 24.4252873563',\n",
        "   'FFTc Fp1 24.9042145594',\n",
        "   'FFTc Fp1 25.3831417625',\n",
        "   'FFTc Fp1 25.8620689655',\n",
        "   'FFTc Fp1 26.3409961686',\n",
        "   'FFTc Fp1 26.8199233716',\n",
        "   'FFTc Fp1 27.2988505747',\n",
        "   'FFTc Fp1 27.7777777778',\n",
        "   'FFTc Fp1 28.2567049808',\n",
        "   'FFTc Fp1 28.7356321839',\n",
        "   'FFTc Fp1 29.214559387',\n",
        "   'FFTc Fp1 29.69348659',\n",
        "   'FFTc Fp1 30.1724137931',\n",
        "   'FFTc Fp1 30.6513409962',\n",
        "   'FFTc Fp1 31.1302681992',\n",
        "   'FFTc Fp1 31.6091954023',\n",
        "   'FFTc Fp1 32.0881226054',\n",
        "   'FFTc Fp1 32.5670498084',\n",
        "   'FFTc Fp1 33.0459770115',\n",
        "   'FFTc Fp1 33.5249042146',\n",
        "   'FFTc Fp1 34.0038314176',\n",
        "   'FFTc Fp1 34.4827586207',\n",
        "   'FFTc Fp1 34.9616858238',\n",
        "   'FFTc Fp1 35.4406130268',\n",
        "   'FFTc Fp1 35.9195402299',\n",
        "   'FFTc Fp1 36.398467433',\n",
        "   'FFTc Fp1 36.877394636',\n",
        "   'FFTc Fp1 37.3563218391',\n",
        "   'FFTc Fp1 37.8352490421',\n",
        "   'FFTc Fp1 38.3141762452',\n",
        "   'FFTc Fp1 38.7931034483',\n",
        "   'FFTc Fp1 39.2720306513',\n",
        "   'FFTc Fp1 39.7509578544',\n",
        "   'FFTc Fp1 40.2298850575',\n",
        "   'FFTc Fp1 40.7088122605',\n",
        "   'FFTc Fp1 41.1877394636',\n",
        "   'FFTc Fp1 41.6666666667',\n",
        "   'FFTc Fp1 42.1455938697',\n",
        "   'FFTc Fp1 42.6245210728',\n",
        "   'FFTc Fp1 43.1034482759',\n",
        "   'FFTc Fp1 43.5823754789',\n",
        "   'FFTc Fp1 44.061302682',\n",
        "   'FFTc Fp1 44.5402298851',\n",
        "   'FFTc Fp1 45.0191570881',\n",
        "   'FFTc Fp1 45.4980842912',\n",
        "   'FFTc Fp1 45.9770114943',\n",
        "   'FFTc Fp1 46.4559386973',\n",
        "   'FFTc Fp1 46.9348659004',\n",
        "   'FFTc Fp1 47.4137931034',\n",
        "   'FFTc Fp1 47.8927203065',\n",
        "   'FFTc Fp1 48.3716475096',\n",
        "   'FFTc Fp1 48.8505747126',\n",
        "   'FFTc Fp1 49.3295019157',\n",
        "   'FFTc Fp1 49.8084291188',\n",
        "   'FFTc Fp1 50.2873563218',\n",
        "   'FFTc Fp1 50.7662835249',\n",
        "   'FFTc Fp1 51.245210728',\n",
        "   'FFTc Fp1 51.724137931',\n",
        "   'FFTc Fp1 52.2030651341',\n",
        "   'FFTc Fp1 52.6819923372',\n",
        "   'FFTc Fp1 53.1609195402',\n",
        "   'FFTc Fp1 53.6398467433',\n",
        "   'FFTc Fp1 54.1187739464',\n",
        "   'FFTc Fp1 54.5977011494',\n",
        "   'FFTc Fp1 55.0766283525',\n",
        "   'FFTc Fp1 55.5555555556',\n",
        "   'FFTc Fp1 56.0344827586',\n",
        "   'FFTc Fp1 56.5134099617',\n",
        "   'FFTc Fp1 56.9923371648',\n",
        "   'FFTc Fp1 57.4712643678',\n",
        "   'FFTc Fp1 57.9501915709',\n",
        "   'FFTc Fp1 58.4291187739',\n",
        "   'FFTc Fp1 58.908045977',\n",
        "   'FFTc Fp1 59.3869731801',\n",
        "   'FFTc Fp1 59.8659003831',\n",
        "   'FFTc Fp1 60.3448275862',\n",
        "   'FFTc Fp1 60.8237547893',\n",
        "   'FFTc Fp1 61.3026819923',\n",
        "   'FFTc Fp1 61.7816091954',\n",
        "   'FFTc Fpz 0.478927203065',\n",
        "   'FFTc Fpz 0.95785440613',\n",
        "   'FFTc Fpz 1.4367816092',\n",
        "   'FFTc Fpz 1.91570881226',\n",
        "   'FFTc Fpz 2.39463601533',\n",
        "   'FFTc Fpz 2.87356321839',\n",
        "   'FFTc Fpz 3.35249042146',\n",
        "   'FFTc Fpz 3.83141762452',\n",
        "   'FFTc Fpz 4.31034482759',\n",
        "   'FFTc Fpz 4.78927203065',\n",
        "   'FFTc Fpz 5.26819923372',\n",
        "   'FFTc Fpz 5.74712643678',\n",
        "   'FFTc Fpz 6.22605363985',\n",
        "   'FFTc Fpz 6.70498084291',\n",
        "   'FFTc Fpz 7.18390804598',\n",
        "   'FFTc Fpz 7.66283524904',\n",
        "   'FFTc Fpz 8.14176245211',\n",
        "   'FFTc Fpz 8.62068965517',\n",
        "   'FFTc Fpz 9.09961685824',\n",
        "   'FFTc Fpz 9.5785440613',\n",
        "   'FFTc Fpz 10.0574712644',\n",
        "   'FFTc Fpz 10.5363984674',\n",
        "   'FFTc Fpz 11.0153256705',\n",
        "   'FFTc Fpz 11.4942528736',\n",
        "   'FFTc Fpz 11.9731800766',\n",
        "   'FFTc Fpz 12.4521072797',\n",
        "   'FFTc Fpz 12.9310344828',\n",
        "   'FFTc Fpz 13.4099616858',\n",
        "   'FFTc Fpz 13.8888888889',\n",
        "   'FFTc Fpz 14.367816092',\n",
        "   'FFTc Fpz 14.846743295',\n",
        "   'FFTc Fpz 15.3256704981',\n",
        "   'FFTc Fpz 15.8045977011',\n",
        "   'FFTc Fpz 16.2835249042',\n",
        "   'FFTc Fpz 16.7624521073',\n",
        "   'FFTc Fpz 17.2413793103',\n",
        "   'FFTc Fpz 17.7203065134',\n",
        "   'FFTc Fpz 18.1992337165',\n",
        "   'FFTc Fpz 18.6781609195',\n",
        "   'FFTc Fpz 19.1570881226',\n",
        "   'FFTc Fpz 19.6360153257',\n",
        "   'FFTc Fpz 20.1149425287',\n",
        "   'FFTc Fpz 20.5938697318',\n",
        "   'FFTc Fpz 21.0727969349',\n",
        "   'FFTc Fpz 21.5517241379',\n",
        "   'FFTc Fpz 22.030651341',\n",
        "   'FFTc Fpz 22.5095785441',\n",
        "   'FFTc Fpz 22.9885057471',\n",
        "   'FFTc Fpz 23.4674329502',\n",
        "   'FFTc Fpz 23.9463601533',\n",
        "   'FFTc Fpz 24.4252873563',\n",
        "   'FFTc Fpz 24.9042145594',\n",
        "   'FFTc Fpz 25.3831417625',\n",
        "   'FFTc Fpz 25.8620689655',\n",
        "   'FFTc Fpz 26.3409961686',\n",
        "   'FFTc Fpz 26.8199233716',\n",
        "   'FFTc Fpz 27.2988505747',\n",
        "   'FFTc Fpz 27.7777777778',\n",
        "   'FFTc Fpz 28.2567049808',\n",
        "   'FFTc Fpz 28.7356321839',\n",
        "   'FFTc Fpz 29.214559387',\n",
        "   'FFTc Fpz 29.69348659',\n",
        "   'FFTc Fpz 30.1724137931',\n",
        "   'FFTc Fpz 30.6513409962',\n",
        "   'FFTc Fpz 31.1302681992',\n",
        "   'FFTc Fpz 31.6091954023',\n",
        "   'FFTc Fpz 32.0881226054',\n",
        "   'FFTc Fpz 32.5670498084',\n",
        "   'FFTc Fpz 33.0459770115',\n",
        "   'FFTc Fpz 33.5249042146',\n",
        "   'FFTc Fpz 34.0038314176',\n",
        "   'FFTc Fpz 34.4827586207',\n",
        "   'FFTc Fpz 34.9616858238',\n",
        "   'FFTc Fpz 35.4406130268',\n",
        "   'FFTc Fpz 35.9195402299',\n",
        "   'FFTc Fpz 36.398467433',\n",
        "   'FFTc Fpz 36.877394636',\n",
        "   'FFTc Fpz 37.3563218391',\n",
        "   'FFTc Fpz 37.8352490421',\n",
        "   'FFTc Fpz 38.3141762452',\n",
        "   'FFTc Fpz 38.7931034483',\n",
        "   'FFTc Fpz 39.2720306513',\n",
        "   'FFTc Fpz 39.7509578544',\n",
        "   'FFTc Fpz 40.2298850575',\n",
        "   'FFTc Fpz 40.7088122605',\n",
        "   'FFTc Fpz 41.1877394636',\n",
        "   'FFTc Fpz 41.6666666667',\n",
        "   'FFTc Fpz 42.1455938697',\n",
        "   'FFTc Fpz 42.6245210728',\n",
        "   'FFTc Fpz 43.1034482759',\n",
        "   'FFTc Fpz 43.5823754789',\n",
        "   'FFTc Fpz 44.061302682',\n",
        "   'FFTc Fpz 44.5402298851',\n",
        "   'FFTc Fpz 45.0191570881',\n",
        "   'FFTc Fpz 45.4980842912',\n",
        "   'FFTc Fpz 45.9770114943',\n",
        "   'FFTc Fpz 46.4559386973',\n",
        "   'FFTc Fpz 46.9348659004',\n",
        "   'FFTc Fpz 47.4137931034',\n",
        "   'FFTc Fpz 47.8927203065',\n",
        "   'FFTc Fpz 48.3716475096',\n",
        "   'FFTc Fpz 48.8505747126',\n",
        "   'FFTc Fpz 49.3295019157',\n",
        "   'FFTc Fpz 49.8084291188',\n",
        "   'FFTc Fpz 50.2873563218',\n",
        "   'FFTc Fpz 50.7662835249',\n",
        "   'FFTc Fpz 51.245210728',\n",
        "   'FFTc Fpz 51.724137931',\n",
        "   'FFTc Fpz 52.2030651341',\n",
        "   'FFTc Fpz 52.6819923372',\n",
        "   'FFTc Fpz 53.1609195402',\n",
        "   'FFTc Fpz 53.6398467433',\n",
        "   'FFTc Fpz 54.1187739464',\n",
        "   'FFTc Fpz 54.5977011494',\n",
        "   'FFTc Fpz 55.0766283525',\n",
        "   'FFTc Fpz 55.5555555556',\n",
        "   'FFTc Fpz 56.0344827586',\n",
        "   'FFTc Fpz 56.5134099617',\n",
        "   'FFTc Fpz 56.9923371648',\n",
        "   'FFTc Fpz 57.4712643678',\n",
        "   'FFTc Fpz 57.9501915709',\n",
        "   'FFTc Fpz 58.4291187739',\n",
        "   'FFTc Fpz 58.908045977',\n",
        "   'FFTc Fpz 59.3869731801',\n",
        "   'FFTc Fpz 59.8659003831',\n",
        "   'FFTc Fpz 60.3448275862',\n",
        "   'FFTc Fpz 60.8237547893',\n",
        "   'FFTc Fpz 61.3026819923',\n",
        "   'FFTc Fpz 61.7816091954',\n",
        "   'FFTc Fp2 0.478927203065',\n",
        "   'FFTc Fp2 0.95785440613',\n",
        "   'FFTc Fp2 1.4367816092',\n",
        "   'FFTc Fp2 1.91570881226',\n",
        "   'FFTc Fp2 2.39463601533',\n",
        "   'FFTc Fp2 2.87356321839',\n",
        "   'FFTc Fp2 3.35249042146',\n",
        "   'FFTc Fp2 3.83141762452',\n",
        "   'FFTc Fp2 4.31034482759',\n",
        "   'FFTc Fp2 4.78927203065',\n",
        "   'FFTc Fp2 5.26819923372',\n",
        "   'FFTc Fp2 5.74712643678',\n",
        "   'FFTc Fp2 6.22605363985',\n",
        "   'FFTc Fp2 6.70498084291',\n",
        "   'FFTc Fp2 7.18390804598',\n",
        "   'FFTc Fp2 7.66283524904',\n",
        "   'FFTc Fp2 8.14176245211',\n",
        "   'FFTc Fp2 8.62068965517',\n",
        "   'FFTc Fp2 9.09961685824',\n",
        "   'FFTc Fp2 9.5785440613',\n",
        "   'FFTc Fp2 10.0574712644',\n",
        "   'FFTc Fp2 10.5363984674',\n",
        "   'FFTc Fp2 11.0153256705',\n",
        "   'FFTc Fp2 11.4942528736',\n",
        "   'FFTc Fp2 11.9731800766',\n",
        "   'FFTc Fp2 12.4521072797',\n",
        "   'FFTc Fp2 12.9310344828',\n",
        "   'FFTc Fp2 13.4099616858',\n",
        "   'FFTc Fp2 13.8888888889',\n",
        "   'FFTc Fp2 14.367816092',\n",
        "   'FFTc Fp2 14.846743295',\n",
        "   'FFTc Fp2 15.3256704981',\n",
        "   'FFTc Fp2 15.8045977011',\n",
        "   'FFTc Fp2 16.2835249042',\n",
        "   'FFTc Fp2 16.7624521073',\n",
        "   'FFTc Fp2 17.2413793103',\n",
        "   'FFTc Fp2 17.7203065134',\n",
        "   'FFTc Fp2 18.1992337165',\n",
        "   'FFTc Fp2 18.6781609195',\n",
        "   'FFTc Fp2 19.1570881226',\n",
        "   'FFTc Fp2 19.6360153257',\n",
        "   'FFTc Fp2 20.1149425287',\n",
        "   'FFTc Fp2 20.5938697318',\n",
        "   'FFTc Fp2 21.0727969349',\n",
        "   'FFTc Fp2 21.5517241379',\n",
        "   'FFTc Fp2 22.030651341',\n",
        "   'FFTc Fp2 22.5095785441',\n",
        "   'FFTc Fp2 22.9885057471',\n",
        "   'FFTc Fp2 23.4674329502',\n",
        "   'FFTc Fp2 23.9463601533',\n",
        "   'FFTc Fp2 24.4252873563',\n",
        "   'FFTc Fp2 24.9042145594',\n",
        "   'FFTc Fp2 25.3831417625',\n",
        "   'FFTc Fp2 25.8620689655',\n",
        "   'FFTc Fp2 26.3409961686',\n",
        "   'FFTc Fp2 26.8199233716',\n",
        "   'FFTc Fp2 27.2988505747',\n",
        "   'FFTc Fp2 27.7777777778',\n",
        "   'FFTc Fp2 28.2567049808',\n",
        "   'FFTc Fp2 28.7356321839',\n",
        "   'FFTc Fp2 29.214559387',\n",
        "   'FFTc Fp2 29.69348659',\n",
        "   'FFTc Fp2 30.1724137931',\n",
        "   'FFTc Fp2 30.6513409962',\n",
        "   'FFTc Fp2 31.1302681992',\n",
        "   'FFTc Fp2 31.6091954023',\n",
        "   'FFTc Fp2 32.0881226054',\n",
        "   'FFTc Fp2 32.5670498084',\n",
        "   'FFTc Fp2 33.0459770115',\n",
        "   'FFTc Fp2 33.5249042146',\n",
        "   'FFTc Fp2 34.0038314176',\n",
        "   'FFTc Fp2 34.4827586207',\n",
        "   'FFTc Fp2 34.9616858238',\n",
        "   'FFTc Fp2 35.4406130268',\n",
        "   'FFTc Fp2 35.9195402299',\n",
        "   'FFTc Fp2 36.398467433',\n",
        "   'FFTc Fp2 36.877394636',\n",
        "   'FFTc Fp2 37.3563218391',\n",
        "   'FFTc Fp2 37.8352490421',\n",
        "   'FFTc Fp2 38.3141762452',\n",
        "   'FFTc Fp2 38.7931034483',\n",
        "   'FFTc Fp2 39.2720306513',\n",
        "   'FFTc Fp2 39.7509578544',\n",
        "   'FFTc Fp2 40.2298850575',\n",
        "   'FFTc Fp2 40.7088122605',\n",
        "   'FFTc Fp2 41.1877394636',\n",
        "   'FFTc Fp2 41.6666666667',\n",
        "   'FFTc Fp2 42.1455938697',\n",
        "   'FFTc Fp2 42.6245210728',\n",
        "   'FFTc Fp2 43.1034482759',\n",
        "   'FFTc Fp2 43.5823754789',\n",
        "   'FFTc Fp2 44.061302682',\n",
        "   'FFTc Fp2 44.5402298851',\n",
        "   'FFTc Fp2 45.0191570881',\n",
        "   'FFTc Fp2 45.4980842912',\n",
        "   'FFTc Fp2 45.9770114943',\n",
        "   'FFTc Fp2 46.4559386973',\n",
        "   'FFTc Fp2 46.9348659004',\n",
        "   'FFTc Fp2 47.4137931034',\n",
        "   'FFTc Fp2 47.8927203065',\n",
        "   'FFTc Fp2 48.3716475096',\n",
        "   'FFTc Fp2 48.8505747126',\n",
        "   'FFTc Fp2 49.3295019157',\n",
        "   'FFTc Fp2 49.8084291188',\n",
        "   'FFTc Fp2 50.2873563218',\n",
        "   'FFTc Fp2 50.7662835249',\n",
        "   'FFTc Fp2 51.245210728',\n",
        "   'FFTc Fp2 51.724137931',\n",
        "   'FFTc Fp2 52.2030651341',\n",
        "   'FFTc Fp2 52.6819923372',\n",
        "   'FFTc Fp2 53.1609195402',\n",
        "   'FFTc Fp2 53.6398467433',\n",
        "   'FFTc Fp2 54.1187739464',\n",
        "   'FFTc Fp2 54.5977011494',\n",
        "   'FFTc Fp2 55.0766283525',\n",
        "   'FFTc Fp2 55.5555555556',\n",
        "   'FFTc Fp2 56.0344827586',\n",
        "   'FFTc Fp2 56.5134099617',\n",
        "   'FFTc Fp2 56.9923371648',\n",
        "   'FFTc Fp2 57.4712643678',\n",
        "   'FFTc Fp2 57.9501915709',\n",
        "   'FFTc Fp2 58.4291187739',\n",
        "   'FFTc Fp2 58.908045977',\n",
        "   'FFTc Fp2 59.3869731801',\n",
        "   'FFTc Fp2 59.8659003831',\n",
        "   'FFTc Fp2 60.3448275862',\n",
        "   'FFTc Fp2 60.8237547893',\n",
        "   'FFTc Fp2 61.3026819923',\n",
        "   'FFTc Fp2 61.7816091954',\n",
        "   'FFTc AFp3h 0.478927203065',\n",
        "   'FFTc AFp3h 0.95785440613',\n",
        "   'FFTc AFp3h 1.4367816092',\n",
        "   'FFTc AFp3h 1.91570881226',\n",
        "   'FFTc AFp3h 2.39463601533',\n",
        "   'FFTc AFp3h 2.87356321839',\n",
        "   'FFTc AFp3h 3.35249042146',\n",
        "   'FFTc AFp3h 3.83141762452',\n",
        "   'FFTc AFp3h 4.31034482759',\n",
        "   'FFTc AFp3h 4.78927203065',\n",
        "   'FFTc AFp3h 5.26819923372',\n",
        "   'FFTc AFp3h 5.74712643678',\n",
        "   'FFTc AFp3h 6.22605363985',\n",
        "   'FFTc AFp3h 6.70498084291',\n",
        "   'FFTc AFp3h 7.18390804598',\n",
        "   'FFTc AFp3h 7.66283524904',\n",
        "   'FFTc AFp3h 8.14176245211',\n",
        "   'FFTc AFp3h 8.62068965517',\n",
        "   'FFTc AFp3h 9.09961685824',\n",
        "   'FFTc AFp3h 9.5785440613',\n",
        "   'FFTc AFp3h 10.0574712644',\n",
        "   'FFTc AFp3h 10.5363984674',\n",
        "   'FFTc AFp3h 11.0153256705',\n",
        "   'FFTc AFp3h 11.4942528736',\n",
        "   'FFTc AFp3h 11.9731800766',\n",
        "   'FFTc AFp3h 12.4521072797',\n",
        "   'FFTc AFp3h 12.9310344828',\n",
        "   'FFTc AFp3h 13.4099616858',\n",
        "   'FFTc AFp3h 13.8888888889',\n",
        "   'FFTc AFp3h 14.367816092',\n",
        "   'FFTc AFp3h 14.846743295',\n",
        "   'FFTc AFp3h 15.3256704981',\n",
        "   'FFTc AFp3h 15.8045977011',\n",
        "   'FFTc AFp3h 16.2835249042',\n",
        "   'FFTc AFp3h 16.7624521073',\n",
        "   'FFTc AFp3h 17.2413793103',\n",
        "   'FFTc AFp3h 17.7203065134',\n",
        "   'FFTc AFp3h 18.1992337165',\n",
        "   'FFTc AFp3h 18.6781609195',\n",
        "   'FFTc AFp3h 19.1570881226',\n",
        "   'FFTc AFp3h 19.6360153257',\n",
        "   'FFTc AFp3h 20.1149425287',\n",
        "   'FFTc AFp3h 20.5938697318',\n",
        "   'FFTc AFp3h 21.0727969349',\n",
        "   'FFTc AFp3h 21.5517241379',\n",
        "   'FFTc AFp3h 22.030651341',\n",
        "   'FFTc AFp3h 22.5095785441',\n",
        "   'FFTc AFp3h 22.9885057471',\n",
        "   'FFTc AFp3h 23.4674329502',\n",
        "   'FFTc AFp3h 23.9463601533',\n",
        "   'FFTc AFp3h 24.4252873563',\n",
        "   'FFTc AFp3h 24.9042145594',\n",
        "   'FFTc AFp3h 25.3831417625',\n",
        "   'FFTc AFp3h 25.8620689655',\n",
        "   'FFTc AFp3h 26.3409961686',\n",
        "   'FFTc AFp3h 26.8199233716',\n",
        "   'FFTc AFp3h 27.2988505747',\n",
        "   'FFTc AFp3h 27.7777777778',\n",
        "   'FFTc AFp3h 28.2567049808',\n",
        "   'FFTc AFp3h 28.7356321839',\n",
        "   'FFTc AFp3h 29.214559387',\n",
        "   'FFTc AFp3h 29.69348659',\n",
        "   'FFTc AFp3h 30.1724137931',\n",
        "   'FFTc AFp3h 30.6513409962',\n",
        "   'FFTc AFp3h 31.1302681992',\n",
        "   'FFTc AFp3h 31.6091954023',\n",
        "   'FFTc AFp3h 32.0881226054',\n",
        "   'FFTc AFp3h 32.5670498084',\n",
        "   'FFTc AFp3h 33.0459770115',\n",
        "   'FFTc AFp3h 33.5249042146',\n",
        "   'FFTc AFp3h 34.0038314176',\n",
        "   'FFTc AFp3h 34.4827586207',\n",
        "   'FFTc AFp3h 34.9616858238',\n",
        "   'FFTc AFp3h 35.4406130268',\n",
        "   'FFTc AFp3h 35.9195402299',\n",
        "   'FFTc AFp3h 36.398467433',\n",
        "   'FFTc AFp3h 36.877394636',\n",
        "   'FFTc AFp3h 37.3563218391',\n",
        "   'FFTc AFp3h 37.8352490421',\n",
        "   'FFTc AFp3h 38.3141762452',\n",
        "   'FFTc AFp3h 38.7931034483',\n",
        "   'FFTc AFp3h 39.2720306513',\n",
        "   'FFTc AFp3h 39.7509578544',\n",
        "   'FFTc AFp3h 40.2298850575',\n",
        "   'FFTc AFp3h 40.7088122605',\n",
        "   'FFTc AFp3h 41.1877394636',\n",
        "   'FFTc AFp3h 41.6666666667',\n",
        "   'FFTc AFp3h 42.1455938697',\n",
        "   'FFTc AFp3h 42.6245210728',\n",
        "   'FFTc AFp3h 43.1034482759',\n",
        "   'FFTc AFp3h 43.5823754789',\n",
        "   'FFTc AFp3h 44.061302682',\n",
        "   'FFTc AFp3h 44.5402298851',\n",
        "   'FFTc AFp3h 45.0191570881',\n",
        "   'FFTc AFp3h 45.4980842912',\n",
        "   'FFTc AFp3h 45.9770114943',\n",
        "   'FFTc AFp3h 46.4559386973',\n",
        "   'FFTc AFp3h 46.9348659004',\n",
        "   'FFTc AFp3h 47.4137931034',\n",
        "   'FFTc AFp3h 47.8927203065',\n",
        "   'FFTc AFp3h 48.3716475096',\n",
        "   'FFTc AFp3h 48.8505747126',\n",
        "   'FFTc AFp3h 49.3295019157',\n",
        "   'FFTc AFp3h 49.8084291188',\n",
        "   'FFTc AFp3h 50.2873563218',\n",
        "   'FFTc AFp3h 50.7662835249',\n",
        "   'FFTc AFp3h 51.245210728',\n",
        "   'FFTc AFp3h 51.724137931',\n",
        "   'FFTc AFp3h 52.2030651341',\n",
        "   'FFTc AFp3h 52.6819923372',\n",
        "   'FFTc AFp3h 53.1609195402',\n",
        "   'FFTc AFp3h 53.6398467433',\n",
        "   'FFTc AFp3h 54.1187739464',\n",
        "   'FFTc AFp3h 54.5977011494',\n",
        "   'FFTc AFp3h 55.0766283525',\n",
        "   'FFTc AFp3h 55.5555555556',\n",
        "   'FFTc AFp3h 56.0344827586',\n",
        "   'FFTc AFp3h 56.5134099617',\n",
        "   'FFTc AFp3h 56.9923371648',\n",
        "   'FFTc AFp3h 57.4712643678',\n",
        "   'FFTc AFp3h 57.9501915709',\n",
        "   'FFTc AFp3h 58.4291187739',\n",
        "   'FFTc AFp3h 58.908045977',\n",
        "   'FFTc AFp3h 59.3869731801',\n",
        "   'FFTc AFp3h 59.8659003831',\n",
        "   'FFTc AFp3h 60.3448275862',\n",
        "   'FFTc AFp3h 60.8237547893',\n",
        "   'FFTc AFp3h 61.3026819923',\n",
        "   'FFTc AFp3h 61.7816091954',\n",
        "   'FFTc AFp4h 0.478927203065',\n",
        "   'FFTc AFp4h 0.95785440613',\n",
        "   'FFTc AFp4h 1.4367816092',\n",
        "   'FFTc AFp4h 1.91570881226',\n",
        "   'FFTc AFp4h 2.39463601533',\n",
        "   'FFTc AFp4h 2.87356321839',\n",
        "   'FFTc AFp4h 3.35249042146',\n",
        "   'FFTc AFp4h 3.83141762452',\n",
        "   'FFTc AFp4h 4.31034482759',\n",
        "   'FFTc AFp4h 4.78927203065',\n",
        "   'FFTc AFp4h 5.26819923372',\n",
        "   'FFTc AFp4h 5.74712643678',\n",
        "   'FFTc AFp4h 6.22605363985',\n",
        "   'FFTc AFp4h 6.70498084291',\n",
        "   'FFTc AFp4h 7.18390804598',\n",
        "   'FFTc AFp4h 7.66283524904',\n",
        "   'FFTc AFp4h 8.14176245211',\n",
        "   'FFTc AFp4h 8.62068965517',\n",
        "   'FFTc AFp4h 9.09961685824',\n",
        "   'FFTc AFp4h 9.5785440613',\n",
        "   'FFTc AFp4h 10.0574712644',\n",
        "   'FFTc AFp4h 10.5363984674',\n",
        "   'FFTc AFp4h 11.0153256705',\n",
        "   'FFTc AFp4h 11.4942528736',\n",
        "   'FFTc AFp4h 11.9731800766',\n",
        "   'FFTc AFp4h 12.4521072797',\n",
        "   'FFTc AFp4h 12.9310344828',\n",
        "   'FFTc AFp4h 13.4099616858',\n",
        "   'FFTc AFp4h 13.8888888889',\n",
        "   'FFTc AFp4h 14.367816092',\n",
        "   'FFTc AFp4h 14.846743295',\n",
        "   'FFTc AFp4h 15.3256704981',\n",
        "   'FFTc AFp4h 15.8045977011',\n",
        "   'FFTc AFp4h 16.2835249042',\n",
        "   'FFTc AFp4h 16.7624521073',\n",
        "   'FFTc AFp4h 17.2413793103',\n",
        "   'FFTc AFp4h 17.7203065134',\n",
        "   'FFTc AFp4h 18.1992337165',\n",
        "   'FFTc AFp4h 18.6781609195',\n",
        "   'FFTc AFp4h 19.1570881226',\n",
        "   'FFTc AFp4h 19.6360153257',\n",
        "   'FFTc AFp4h 20.1149425287',\n",
        "   'FFTc AFp4h 20.5938697318',\n",
        "   'FFTc AFp4h 21.0727969349',\n",
        "   'FFTc AFp4h 21.5517241379',\n",
        "   'FFTc AFp4h 22.030651341',\n",
        "   'FFTc AFp4h 22.5095785441',\n",
        "   'FFTc AFp4h 22.9885057471',\n",
        "   'FFTc AFp4h 23.4674329502',\n",
        "   'FFTc AFp4h 23.9463601533',\n",
        "   'FFTc AFp4h 24.4252873563',\n",
        "   'FFTc AFp4h 24.9042145594',\n",
        "   'FFTc AFp4h 25.3831417625',\n",
        "   'FFTc AFp4h 25.8620689655',\n",
        "   'FFTc AFp4h 26.3409961686',\n",
        "   'FFTc AFp4h 26.8199233716',\n",
        "   'FFTc AFp4h 27.2988505747',\n",
        "   'FFTc AFp4h 27.7777777778',\n",
        "   'FFTc AFp4h 28.2567049808',\n",
        "   'FFTc AFp4h 28.7356321839',\n",
        "   'FFTc AFp4h 29.214559387',\n",
        "   'FFTc AFp4h 29.69348659',\n",
        "   'FFTc AFp4h 30.1724137931',\n",
        "   'FFTc AFp4h 30.6513409962',\n",
        "   'FFTc AFp4h 31.1302681992',\n",
        "   'FFTc AFp4h 31.6091954023',\n",
        "   'FFTc AFp4h 32.0881226054',\n",
        "   'FFTc AFp4h 32.5670498084',\n",
        "   'FFTc AFp4h 33.0459770115',\n",
        "   'FFTc AFp4h 33.5249042146',\n",
        "   'FFTc AFp4h 34.0038314176',\n",
        "   'FFTc AFp4h 34.4827586207',\n",
        "   'FFTc AFp4h 34.9616858238',\n",
        "   'FFTc AFp4h 35.4406130268',\n",
        "   'FFTc AFp4h 35.9195402299',\n",
        "   'FFTc AFp4h 36.398467433',\n",
        "   'FFTc AFp4h 36.877394636',\n",
        "   'FFTc AFp4h 37.3563218391',\n",
        "   'FFTc AFp4h 37.8352490421',\n",
        "   'FFTc AFp4h 38.3141762452',\n",
        "   'FFTc AFp4h 38.7931034483',\n",
        "   'FFTc AFp4h 39.2720306513',\n",
        "   'FFTc AFp4h 39.7509578544',\n",
        "   'FFTc AFp4h 40.2298850575',\n",
        "   'FFTc AFp4h 40.7088122605',\n",
        "   'FFTc AFp4h 41.1877394636',\n",
        "   'FFTc AFp4h 41.6666666667',\n",
        "   'FFTc AFp4h 42.1455938697',\n",
        "   'FFTc AFp4h 42.6245210728',\n",
        "   'FFTc AFp4h 43.1034482759',\n",
        "   'FFTc AFp4h 43.5823754789',\n",
        "   'FFTc AFp4h 44.061302682',\n",
        "   'FFTc AFp4h 44.5402298851',\n",
        "   'FFTc AFp4h 45.0191570881',\n",
        "   'FFTc AFp4h 45.4980842912',\n",
        "   'FFTc AFp4h 45.9770114943',\n",
        "   'FFTc AFp4h 46.4559386973',\n",
        "   'FFTc AFp4h 46.9348659004',\n",
        "   'FFTc AFp4h 47.4137931034',\n",
        "   'FFTc AFp4h 47.8927203065',\n",
        "   'FFTc AFp4h 48.3716475096',\n",
        "   'FFTc AFp4h 48.8505747126',\n",
        "   'FFTc AFp4h 49.3295019157',\n",
        "   'FFTc AFp4h 49.8084291188',\n",
        "   'FFTc AFp4h 50.2873563218',\n",
        "   'FFTc AFp4h 50.7662835249',\n",
        "   'FFTc AFp4h 51.245210728',\n",
        "   'FFTc AFp4h 51.724137931',\n",
        "   'FFTc AFp4h 52.2030651341',\n",
        "   'FFTc AFp4h 52.6819923372',\n",
        "   'FFTc AFp4h 53.1609195402',\n",
        "   'FFTc AFp4h 53.6398467433',\n",
        "   'FFTc AFp4h 54.1187739464',\n",
        "   'FFTc AFp4h 54.5977011494',\n",
        "   'FFTc AFp4h 55.0766283525',\n",
        "   'FFTc AFp4h 55.5555555556',\n",
        "   'FFTc AFp4h 56.0344827586',\n",
        "   'FFTc AFp4h 56.5134099617',\n",
        "   'FFTc AFp4h 56.9923371648',\n",
        "   'FFTc AFp4h 57.4712643678',\n",
        "   'FFTc AFp4h 57.9501915709',\n",
        "   'FFTc AFp4h 58.4291187739',\n",
        "   'FFTc AFp4h 58.908045977',\n",
        "   'FFTc AFp4h 59.3869731801',\n",
        "   'FFTc AFp4h 59.8659003831',\n",
        "   'FFTc AFp4h 60.3448275862',\n",
        "   'FFTc AFp4h 60.8237547893',\n",
        "   'FFTc AFp4h 61.3026819923',\n",
        "   'FFTc AFp4h 61.7816091954',\n",
        "   'FFTc AF7 0.478927203065',\n",
        "   'FFTc AF7 0.95785440613',\n",
        "   'FFTc AF7 1.4367816092',\n",
        "   'FFTc AF7 1.91570881226',\n",
        "   'FFTc AF7 2.39463601533',\n",
        "   'FFTc AF7 2.87356321839',\n",
        "   'FFTc AF7 3.35249042146',\n",
        "   'FFTc AF7 3.83141762452',\n",
        "   'FFTc AF7 4.31034482759',\n",
        "   'FFTc AF7 4.78927203065',\n",
        "   'FFTc AF7 5.26819923372',\n",
        "   'FFTc AF7 5.74712643678',\n",
        "   'FFTc AF7 6.22605363985',\n",
        "   'FFTc AF7 6.70498084291',\n",
        "   'FFTc AF7 7.18390804598',\n",
        "   'FFTc AF7 7.66283524904',\n",
        "   'FFTc AF7 8.14176245211',\n",
        "   'FFTc AF7 8.62068965517',\n",
        "   'FFTc AF7 9.09961685824',\n",
        "   'FFTc AF7 9.5785440613',\n",
        "   'FFTc AF7 10.0574712644',\n",
        "   'FFTc AF7 10.5363984674',\n",
        "   'FFTc AF7 11.0153256705',\n",
        "   'FFTc AF7 11.4942528736',\n",
        "   'FFTc AF7 11.9731800766',\n",
        "   'FFTc AF7 12.4521072797',\n",
        "   'FFTc AF7 12.9310344828',\n",
        "   'FFTc AF7 13.4099616858',\n",
        "   'FFTc AF7 13.8888888889',\n",
        "   'FFTc AF7 14.367816092',\n",
        "   'FFTc AF7 14.846743295',\n",
        "   'FFTc AF7 15.3256704981',\n",
        "   'FFTc AF7 15.8045977011',\n",
        "   'FFTc AF7 16.2835249042',\n",
        "   'FFTc AF7 16.7624521073',\n",
        "   'FFTc AF7 17.2413793103',\n",
        "   'FFTc AF7 17.7203065134',\n",
        "   'FFTc AF7 18.1992337165',\n",
        "   'FFTc AF7 18.6781609195',\n",
        "   'FFTc AF7 19.1570881226',\n",
        "   'FFTc AF7 19.6360153257',\n",
        "   'FFTc AF7 20.1149425287',\n",
        "   'FFTc AF7 20.5938697318',\n",
        "   'FFTc AF7 21.0727969349',\n",
        "   'FFTc AF7 21.5517241379',\n",
        "   'FFTc AF7 22.030651341',\n",
        "   'FFTc AF7 22.5095785441',\n",
        "   'FFTc AF7 22.9885057471',\n",
        "   'FFTc AF7 23.4674329502',\n",
        "   'FFTc AF7 23.9463601533',\n",
        "   'FFTc AF7 24.4252873563',\n",
        "   'FFTc AF7 24.9042145594',\n",
        "   'FFTc AF7 25.3831417625',\n",
        "   'FFTc AF7 25.8620689655',\n",
        "   'FFTc AF7 26.3409961686',\n",
        "   'FFTc AF7 26.8199233716',\n",
        "   'FFTc AF7 27.2988505747',\n",
        "   'FFTc AF7 27.7777777778',\n",
        "   'FFTc AF7 28.2567049808',\n",
        "   'FFTc AF7 28.7356321839',\n",
        "   'FFTc AF7 29.214559387',\n",
        "   'FFTc AF7 29.69348659',\n",
        "   'FFTc AF7 30.1724137931',\n",
        "   'FFTc AF7 30.6513409962',\n",
        "   'FFTc AF7 31.1302681992',\n",
        "   'FFTc AF7 31.6091954023',\n",
        "   'FFTc AF7 32.0881226054',\n",
        "   'FFTc AF7 32.5670498084',\n",
        "   'FFTc AF7 33.0459770115',\n",
        "   'FFTc AF7 33.5249042146',\n",
        "   'FFTc AF7 34.0038314176',\n",
        "   'FFTc AF7 34.4827586207',\n",
        "   'FFTc AF7 34.9616858238',\n",
        "   'FFTc AF7 35.4406130268',\n",
        "   'FFTc AF7 35.9195402299',\n",
        "   'FFTc AF7 36.398467433',\n",
        "   'FFTc AF7 36.877394636',\n",
        "   'FFTc AF7 37.3563218391',\n",
        "   'FFTc AF7 37.8352490421',\n",
        "   'FFTc AF7 38.3141762452',\n",
        "   'FFTc AF7 38.7931034483',\n",
        "   'FFTc AF7 39.2720306513',\n",
        "   'FFTc AF7 39.7509578544',\n",
        "   'FFTc AF7 40.2298850575',\n",
        "   'FFTc AF7 40.7088122605',\n",
        "   'FFTc AF7 41.1877394636',\n",
        "   'FFTc AF7 41.6666666667',\n",
        "   'FFTc AF7 42.1455938697',\n",
        "   'FFTc AF7 42.6245210728',\n",
        "   'FFTc AF7 43.1034482759',\n",
        "   'FFTc AF7 43.5823754789',\n",
        "   'FFTc AF7 44.061302682',\n",
        "   'FFTc AF7 44.5402298851',\n",
        "   'FFTc AF7 45.0191570881',\n",
        "   'FFTc AF7 45.4980842912',\n",
        "   'FFTc AF7 45.9770114943',\n",
        "   'FFTc AF7 46.4559386973',\n",
        "   'FFTc AF7 46.9348659004',\n",
        "   'FFTc AF7 47.4137931034',\n",
        "   'FFTc AF7 47.8927203065',\n",
        "   'FFTc AF7 48.3716475096',\n",
        "   'FFTc AF7 48.8505747126',\n",
        "   'FFTc AF7 49.3295019157',\n",
        "   'FFTc AF7 49.8084291188',\n",
        "   'FFTc AF7 50.2873563218',\n",
        "   'FFTc AF7 50.7662835249',\n",
        "   'FFTc AF7 51.245210728',\n",
        "   'FFTc AF7 51.724137931',\n",
        "   'FFTc AF7 52.2030651341',\n",
        "   'FFTc AF7 52.6819923372',\n",
        "   'FFTc AF7 53.1609195402',\n",
        "   'FFTc AF7 53.6398467433',\n",
        "   'FFTc AF7 54.1187739464',\n",
        "   'FFTc AF7 54.5977011494',\n",
        "   'FFTc AF7 55.0766283525',\n",
        "   'FFTc AF7 55.5555555556',\n",
        "   'FFTc AF7 56.0344827586',\n",
        "   'FFTc AF7 56.5134099617',\n",
        "   'FFTc AF7 56.9923371648',\n",
        "   'FFTc AF7 57.4712643678',\n",
        "   'FFTc AF7 57.9501915709',\n",
        "   'FFTc AF7 58.4291187739',\n",
        "   'FFTc AF7 58.908045977',\n",
        "   'FFTc AF7 59.3869731801',\n",
        "   'FFTc AF7 59.8659003831',\n",
        "   'FFTc AF7 60.3448275862',\n",
        "   'FFTc AF7 60.8237547893',\n",
        "   'FFTc AF7 61.3026819923',\n",
        "   'FFTc AF7 61.7816091954',\n",
        "   'FFTc AF3 0.478927203065',\n",
        "   'FFTc AF3 0.95785440613',\n",
        "   'FFTc AF3 1.4367816092',\n",
        "   'FFTc AF3 1.91570881226',\n",
        "   'FFTc AF3 2.39463601533',\n",
        "   'FFTc AF3 2.87356321839',\n",
        "   'FFTc AF3 3.35249042146',\n",
        "   'FFTc AF3 3.83141762452',\n",
        "   'FFTc AF3 4.31034482759',\n",
        "   'FFTc AF3 4.78927203065',\n",
        "   'FFTc AF3 5.26819923372',\n",
        "   'FFTc AF3 5.74712643678',\n",
        "   'FFTc AF3 6.22605363985',\n",
        "   'FFTc AF3 6.70498084291',\n",
        "   'FFTc AF3 7.18390804598',\n",
        "   'FFTc AF3 7.66283524904',\n",
        "   'FFTc AF3 8.14176245211',\n",
        "   'FFTc AF3 8.62068965517',\n",
        "   'FFTc AF3 9.09961685824',\n",
        "   'FFTc AF3 9.5785440613',\n",
        "   'FFTc AF3 10.0574712644',\n",
        "   'FFTc AF3 10.5363984674',\n",
        "   'FFTc AF3 11.0153256705',\n",
        "   'FFTc AF3 11.4942528736',\n",
        "   'FFTc AF3 11.9731800766',\n",
        "   'FFTc AF3 12.4521072797',\n",
        "   'FFTc AF3 12.9310344828',\n",
        "   'FFTc AF3 13.4099616858',\n",
        "   'FFTc AF3 13.8888888889',\n",
        "   'FFTc AF3 14.367816092',\n",
        "   'FFTc AF3 14.846743295',\n",
        "   'FFTc AF3 15.3256704981',\n",
        "   'FFTc AF3 15.8045977011',\n",
        "   'FFTc AF3 16.2835249042',\n",
        "   'FFTc AF3 16.7624521073',\n",
        "   'FFTc AF3 17.2413793103',\n",
        "   'FFTc AF3 17.7203065134',\n",
        "   'FFTc AF3 18.1992337165',\n",
        "   'FFTc AF3 18.6781609195',\n",
        "   'FFTc AF3 19.1570881226',\n",
        "   'FFTc AF3 19.6360153257',\n",
        "   'FFTc AF3 20.1149425287',\n",
        "   'FFTc AF3 20.5938697318',\n",
        "   'FFTc AF3 21.0727969349',\n",
        "   'FFTc AF3 21.5517241379',\n",
        "   'FFTc AF3 22.030651341',\n",
        "   'FFTc AF3 22.5095785441',\n",
        "   'FFTc AF3 22.9885057471',\n",
        "   'FFTc AF3 23.4674329502',\n",
        "   'FFTc AF3 23.9463601533',\n",
        "   'FFTc AF3 24.4252873563',\n",
        "   'FFTc AF3 24.9042145594',\n",
        "   'FFTc AF3 25.3831417625',\n",
        "   'FFTc AF3 25.8620689655',\n",
        "   'FFTc AF3 26.3409961686',\n",
        "   'FFTc AF3 26.8199233716',\n",
        "   'FFTc AF3 27.2988505747',\n",
        "   'FFTc AF3 27.7777777778',\n",
        "   'FFTc AF3 28.2567049808',\n",
        "   'FFTc AF3 28.7356321839',\n",
        "   'FFTc AF3 29.214559387',\n",
        "   'FFTc AF3 29.69348659',\n",
        "   'FFTc AF3 30.1724137931',\n",
        "   'FFTc AF3 30.6513409962',\n",
        "   'FFTc AF3 31.1302681992',\n",
        "   'FFTc AF3 31.6091954023',\n",
        "   'FFTc AF3 32.0881226054',\n",
        "   'FFTc AF3 32.5670498084',\n",
        "   'FFTc AF3 33.0459770115',\n",
        "   'FFTc AF3 33.5249042146',\n",
        "   'FFTc AF3 34.0038314176',\n",
        "   'FFTc AF3 34.4827586207',\n",
        "   'FFTc AF3 34.9616858238',\n",
        "   'FFTc AF3 35.4406130268',\n",
        "   'FFTc AF3 35.9195402299',\n",
        "   'FFTc AF3 36.398467433',\n",
        "   'FFTc AF3 36.877394636',\n",
        "   'FFTc AF3 37.3563218391',\n",
        "   'FFTc AF3 37.8352490421',\n",
        "   'FFTc AF3 38.3141762452',\n",
        "   'FFTc AF3 38.7931034483',\n",
        "   'FFTc AF3 39.2720306513',\n",
        "   'FFTc AF3 39.7509578544',\n",
        "   'FFTc AF3 40.2298850575',\n",
        "   'FFTc AF3 40.7088122605',\n",
        "   'FFTc AF3 41.1877394636',\n",
        "   'FFTc AF3 41.6666666667',\n",
        "   'FFTc AF3 42.1455938697',\n",
        "   'FFTc AF3 42.6245210728',\n",
        "   'FFTc AF3 43.1034482759',\n",
        "   'FFTc AF3 43.5823754789',\n",
        "   'FFTc AF3 44.061302682',\n",
        "   'FFTc AF3 44.5402298851',\n",
        "   'FFTc AF3 45.0191570881',\n",
        "   'FFTc AF3 45.4980842912',\n",
        "   'FFTc AF3 45.9770114943',\n",
        "   'FFTc AF3 46.4559386973',\n",
        "   'FFTc AF3 46.9348659004',\n",
        "   'FFTc AF3 47.4137931034',\n",
        "   'FFTc AF3 47.8927203065',\n",
        "   'FFTc AF3 48.3716475096',\n",
        "   'FFTc AF3 48.8505747126',\n",
        "   'FFTc AF3 49.3295019157',\n",
        "   'FFTc AF3 49.8084291188',\n",
        "   'FFTc AF3 50.2873563218',\n",
        "   'FFTc AF3 50.7662835249',\n",
        "   'FFTc AF3 51.245210728',\n",
        "   'FFTc AF3 51.724137931',\n",
        "   'FFTc AF3 52.2030651341',\n",
        "   'FFTc AF3 52.6819923372',\n",
        "   'FFTc AF3 53.1609195402',\n",
        "   'FFTc AF3 53.6398467433',\n",
        "   'FFTc AF3 54.1187739464',\n",
        "   'FFTc AF3 54.5977011494',\n",
        "   'FFTc AF3 55.0766283525',\n",
        "   'FFTc AF3 55.5555555556',\n",
        "   'FFTc AF3 56.0344827586',\n",
        "   'FFTc AF3 56.5134099617',\n",
        "   'FFTc AF3 56.9923371648',\n",
        "   'FFTc AF3 57.4712643678',\n",
        "   'FFTc AF3 57.9501915709',\n",
        "   'FFTc AF3 58.4291187739',\n",
        "   'FFTc AF3 58.908045977',\n",
        "   'FFTc AF3 59.3869731801',\n",
        "   'FFTc AF3 59.8659003831',\n",
        "   'FFTc AF3 60.3448275862',\n",
        "   'FFTc AF3 60.8237547893',\n",
        "   'FFTc AF3 61.3026819923',\n",
        "   'FFTc AF3 61.7816091954',\n",
        "   'FFTc AFz 0.478927203065',\n",
        "   'FFTc AFz 0.95785440613',\n",
        "   'FFTc AFz 1.4367816092',\n",
        "   'FFTc AFz 1.91570881226',\n",
        "   'FFTc AFz 2.39463601533',\n",
        "   'FFTc AFz 2.87356321839',\n",
        "   'FFTc AFz 3.35249042146',\n",
        "   'FFTc AFz 3.83141762452',\n",
        "   'FFTc AFz 4.31034482759',\n",
        "   'FFTc AFz 4.78927203065',\n",
        "   'FFTc AFz 5.26819923372',\n",
        "   'FFTc AFz 5.74712643678',\n",
        "   'FFTc AFz 6.22605363985',\n",
        "   'FFTc AFz 6.70498084291',\n",
        "   'FFTc AFz 7.18390804598',\n",
        "   'FFTc AFz 7.66283524904',\n",
        "   'FFTc AFz 8.14176245211',\n",
        "   'FFTc AFz 8.62068965517',\n",
        "   'FFTc AFz 9.09961685824',\n",
        "   'FFTc AFz 9.5785440613',\n",
        "   'FFTc AFz 10.0574712644',\n",
        "   'FFTc AFz 10.5363984674',\n",
        "   'FFTc AFz 11.0153256705',\n",
        "   'FFTc AFz 11.4942528736',\n",
        "   'FFTc AFz 11.9731800766',\n",
        "   'FFTc AFz 12.4521072797',\n",
        "   'FFTc AFz 12.9310344828',\n",
        "   'FFTc AFz 13.4099616858',\n",
        "   'FFTc AFz 13.8888888889',\n",
        "   'FFTc AFz 14.367816092',\n",
        "   'FFTc AFz 14.846743295',\n",
        "   'FFTc AFz 15.3256704981',\n",
        "   'FFTc AFz 15.8045977011',\n",
        "   'FFTc AFz 16.2835249042',\n",
        "   'FFTc AFz 16.7624521073',\n",
        "   'FFTc AFz 17.2413793103',\n",
        "   'FFTc AFz 17.7203065134',\n",
        "   'FFTc AFz 18.1992337165',\n",
        "   'FFTc AFz 18.6781609195',\n",
        "   'FFTc AFz 19.1570881226',\n",
        "   'FFTc AFz 19.6360153257',\n",
        "   'FFTc AFz 20.1149425287',\n",
        "   'FFTc AFz 20.5938697318',\n",
        "   'FFTc AFz 21.0727969349',\n",
        "   'FFTc AFz 21.5517241379',\n",
        "   'FFTc AFz 22.030651341',\n",
        "   'FFTc AFz 22.5095785441',\n",
        "   'FFTc AFz 22.9885057471',\n",
        "   'FFTc AFz 23.4674329502',\n",
        "   'FFTc AFz 23.9463601533',\n",
        "   'FFTc AFz 24.4252873563',\n",
        "   'FFTc AFz 24.9042145594',\n",
        "   'FFTc AFz 25.3831417625',\n",
        "   'FFTc AFz 25.8620689655',\n",
        "   'FFTc AFz 26.3409961686',\n",
        "   'FFTc AFz 26.8199233716',\n",
        "   'FFTc AFz 27.2988505747',\n",
        "   'FFTc AFz 27.7777777778',\n",
        "   'FFTc AFz 28.2567049808',\n",
        "   'FFTc AFz 28.7356321839',\n",
        "   'FFTc AFz 29.214559387',\n",
        "   'FFTc AFz 29.69348659',\n",
        "   'FFTc AFz 30.1724137931',\n",
        "   'FFTc AFz 30.6513409962',\n",
        "   'FFTc AFz 31.1302681992',\n",
        "   'FFTc AFz 31.6091954023',\n",
        "   'FFTc AFz 32.0881226054',\n",
        "   'FFTc AFz 32.5670498084',\n",
        "   'FFTc AFz 33.0459770115',\n",
        "   'FFTc AFz 33.5249042146',\n",
        "   'FFTc AFz 34.0038314176',\n",
        "   'FFTc AFz 34.4827586207',\n",
        "   'FFTc AFz 34.9616858238',\n",
        "   'FFTc AFz 35.4406130268',\n",
        "   'FFTc AFz 35.9195402299',\n",
        "   'FFTc AFz 36.398467433',\n",
        "   'FFTc AFz 36.877394636',\n",
        "   'FFTc AFz 37.3563218391',\n",
        "   'FFTc AFz 37.8352490421',\n",
        "   'FFTc AFz 38.3141762452',\n",
        "   'FFTc AFz 38.7931034483',\n",
        "   'FFTc AFz 39.2720306513',\n",
        "   'FFTc AFz 39.7509578544',\n",
        "   'FFTc AFz 40.2298850575',\n",
        "   'FFTc AFz 40.7088122605',\n",
        "   'FFTc AFz 41.1877394636',\n",
        "   'FFTc AFz 41.6666666667',\n",
        "   'FFTc AFz 42.1455938697',\n",
        "   'FFTc AFz 42.6245210728',\n",
        "   'FFTc AFz 43.1034482759',\n",
        "   'FFTc AFz 43.5823754789',\n",
        "   'FFTc AFz 44.061302682',\n",
        "   'FFTc AFz 44.5402298851',\n",
        "   'FFTc AFz 45.0191570881',\n",
        "   'FFTc AFz 45.4980842912',\n",
        "   'FFTc AFz 45.9770114943',\n",
        "   'FFTc AFz 46.4559386973',\n",
        "   ...],\n",
        "  ['Phase Fp1 0.478927203065',\n",
        "   'Phase Fp1 0.95785440613',\n",
        "   'Phase Fp1 1.4367816092',\n",
        "   'Phase Fp1 1.91570881226',\n",
        "   'Phase Fp1 2.39463601533',\n",
        "   'Phase Fp1 2.87356321839',\n",
        "   'Phase Fp1 3.35249042146',\n",
        "   'Phase Fp1 3.83141762452',\n",
        "   'Phase Fp1 4.31034482759',\n",
        "   'Phase Fp1 4.78927203065',\n",
        "   'Phase Fp1 5.26819923372',\n",
        "   'Phase Fp1 5.74712643678',\n",
        "   'Phase Fp1 6.22605363985',\n",
        "   'Phase Fp1 6.70498084291',\n",
        "   'Phase Fp1 7.18390804598',\n",
        "   'Phase Fp1 7.66283524904',\n",
        "   'Phase Fp1 8.14176245211',\n",
        "   'Phase Fp1 8.62068965517',\n",
        "   'Phase Fp1 9.09961685824',\n",
        "   'Phase Fp1 9.5785440613',\n",
        "   'Phase Fp1 10.0574712644',\n",
        "   'Phase Fp1 10.5363984674',\n",
        "   'Phase Fp1 11.0153256705',\n",
        "   'Phase Fp1 11.4942528736',\n",
        "   'Phase Fp1 11.9731800766',\n",
        "   'Phase Fp1 12.4521072797',\n",
        "   'Phase Fp1 12.9310344828',\n",
        "   'Phase Fp1 13.4099616858',\n",
        "   'Phase Fp1 13.8888888889',\n",
        "   'Phase Fp1 14.367816092',\n",
        "   'Phase Fp1 14.846743295',\n",
        "   'Phase Fp1 15.3256704981',\n",
        "   'Phase Fp1 15.8045977011',\n",
        "   'Phase Fp1 16.2835249042',\n",
        "   'Phase Fp1 16.7624521073',\n",
        "   'Phase Fp1 17.2413793103',\n",
        "   'Phase Fp1 17.7203065134',\n",
        "   'Phase Fp1 18.1992337165',\n",
        "   'Phase Fp1 18.6781609195',\n",
        "   'Phase Fp1 19.1570881226',\n",
        "   'Phase Fp1 19.6360153257',\n",
        "   'Phase Fp1 20.1149425287',\n",
        "   'Phase Fp1 20.5938697318',\n",
        "   'Phase Fp1 21.0727969349',\n",
        "   'Phase Fp1 21.5517241379',\n",
        "   'Phase Fp1 22.030651341',\n",
        "   'Phase Fp1 22.5095785441',\n",
        "   'Phase Fp1 22.9885057471',\n",
        "   'Phase Fp1 23.4674329502',\n",
        "   'Phase Fp1 23.9463601533',\n",
        "   'Phase Fp1 24.4252873563',\n",
        "   'Phase Fp1 24.9042145594',\n",
        "   'Phase Fp1 25.3831417625',\n",
        "   'Phase Fp1 25.8620689655',\n",
        "   'Phase Fp1 26.3409961686',\n",
        "   'Phase Fp1 26.8199233716',\n",
        "   'Phase Fp1 27.2988505747',\n",
        "   'Phase Fp1 27.7777777778',\n",
        "   'Phase Fp1 28.2567049808',\n",
        "   'Phase Fp1 28.7356321839',\n",
        "   'Phase Fp1 29.214559387',\n",
        "   'Phase Fp1 29.69348659',\n",
        "   'Phase Fp1 30.1724137931',\n",
        "   'Phase Fp1 30.6513409962',\n",
        "   'Phase Fp1 31.1302681992',\n",
        "   'Phase Fp1 31.6091954023',\n",
        "   'Phase Fp1 32.0881226054',\n",
        "   'Phase Fp1 32.5670498084',\n",
        "   'Phase Fp1 33.0459770115',\n",
        "   'Phase Fp1 33.5249042146',\n",
        "   'Phase Fp1 34.0038314176',\n",
        "   'Phase Fp1 34.4827586207',\n",
        "   'Phase Fp1 34.9616858238',\n",
        "   'Phase Fp1 35.4406130268',\n",
        "   'Phase Fp1 35.9195402299',\n",
        "   'Phase Fp1 36.398467433',\n",
        "   'Phase Fp1 36.877394636',\n",
        "   'Phase Fp1 37.3563218391',\n",
        "   'Phase Fp1 37.8352490421',\n",
        "   'Phase Fp1 38.3141762452',\n",
        "   'Phase Fp1 38.7931034483',\n",
        "   'Phase Fp1 39.2720306513',\n",
        "   'Phase Fp1 39.7509578544',\n",
        "   'Phase Fp1 40.2298850575',\n",
        "   'Phase Fp1 40.7088122605',\n",
        "   'Phase Fp1 41.1877394636',\n",
        "   'Phase Fp1 41.6666666667',\n",
        "   'Phase Fp1 42.1455938697',\n",
        "   'Phase Fp1 42.6245210728',\n",
        "   'Phase Fp1 43.1034482759',\n",
        "   'Phase Fp1 43.5823754789',\n",
        "   'Phase Fp1 44.061302682',\n",
        "   'Phase Fp1 44.5402298851',\n",
        "   'Phase Fp1 45.0191570881',\n",
        "   'Phase Fp1 45.4980842912',\n",
        "   'Phase Fp1 45.9770114943',\n",
        "   'Phase Fp1 46.4559386973',\n",
        "   'Phase Fp1 46.9348659004',\n",
        "   'Phase Fp1 47.4137931034',\n",
        "   'Phase Fp1 47.8927203065',\n",
        "   'Phase Fp1 48.3716475096',\n",
        "   'Phase Fp1 48.8505747126',\n",
        "   'Phase Fp1 49.3295019157',\n",
        "   'Phase Fp1 49.8084291188',\n",
        "   'Phase Fp1 50.2873563218',\n",
        "   'Phase Fp1 50.7662835249',\n",
        "   'Phase Fp1 51.245210728',\n",
        "   'Phase Fp1 51.724137931',\n",
        "   'Phase Fp1 52.2030651341',\n",
        "   'Phase Fp1 52.6819923372',\n",
        "   'Phase Fp1 53.1609195402',\n",
        "   'Phase Fp1 53.6398467433',\n",
        "   'Phase Fp1 54.1187739464',\n",
        "   'Phase Fp1 54.5977011494',\n",
        "   'Phase Fp1 55.0766283525',\n",
        "   'Phase Fp1 55.5555555556',\n",
        "   'Phase Fp1 56.0344827586',\n",
        "   'Phase Fp1 56.5134099617',\n",
        "   'Phase Fp1 56.9923371648',\n",
        "   'Phase Fp1 57.4712643678',\n",
        "   'Phase Fp1 57.9501915709',\n",
        "   'Phase Fp1 58.4291187739',\n",
        "   'Phase Fp1 58.908045977',\n",
        "   'Phase Fp1 59.3869731801',\n",
        "   'Phase Fp1 59.8659003831',\n",
        "   'Phase Fp1 60.3448275862',\n",
        "   'Phase Fp1 60.8237547893',\n",
        "   'Phase Fp1 61.3026819923',\n",
        "   'Phase Fp1 61.7816091954',\n",
        "   'Phase Fp1 62.2605363985',\n",
        "   'Phase Fp1 62.7394636015',\n",
        "   'Phase Fp1 63.2183908046',\n",
        "   'Phase Fp1 63.6973180077',\n",
        "   'Phase Fp1 64.1762452107',\n",
        "   'Phase Fp1 64.6551724138',\n",
        "   'Phase Fp1 65.1340996169',\n",
        "   'Phase Fp1 65.6130268199',\n",
        "   'Phase Fp1 66.091954023',\n",
        "   'Phase Fp1 66.5708812261',\n",
        "   'Phase Fp1 67.0498084291',\n",
        "   'Phase Fp1 67.5287356322',\n",
        "   'Phase Fp1 68.0076628352',\n",
        "   'Phase Fp1 68.4865900383',\n",
        "   'Phase Fp1 68.9655172414',\n",
        "   'Phase Fp1 69.4444444444',\n",
        "   'Phase Fp1 69.9233716475',\n",
        "   'Phase Fp1 70.4022988506',\n",
        "   'Phase Fp1 70.8812260536',\n",
        "   'Phase Fp1 71.3601532567',\n",
        "   'Phase Fp1 71.8390804598',\n",
        "   'Phase Fp1 72.3180076628',\n",
        "   'Phase Fp1 72.7969348659',\n",
        "   'Phase Fp1 73.275862069',\n",
        "   'Phase Fp1 73.754789272',\n",
        "   'Phase Fp1 74.2337164751',\n",
        "   'Phase Fp1 74.7126436782',\n",
        "   'Phase Fp1 75.1915708812',\n",
        "   'Phase Fp1 75.6704980843',\n",
        "   'Phase Fp1 76.1494252874',\n",
        "   'Phase Fp1 76.6283524904',\n",
        "   'Phase Fp1 77.1072796935',\n",
        "   'Phase Fp1 77.5862068966',\n",
        "   'Phase Fp1 78.0651340996',\n",
        "   'Phase Fp1 78.5440613027',\n",
        "   'Phase Fp1 79.0229885057',\n",
        "   'Phase Fp1 79.5019157088',\n",
        "   'Phase Fp1 79.9808429119',\n",
        "   'Phase Fp1 80.4597701149',\n",
        "   'Phase Fp1 80.938697318',\n",
        "   'Phase Fp1 81.4176245211',\n",
        "   'Phase Fp1 81.8965517241',\n",
        "   'Phase Fp1 82.3754789272',\n",
        "   'Phase Fp1 82.8544061303',\n",
        "   'Phase Fp1 83.3333333333',\n",
        "   'Phase Fp1 83.8122605364',\n",
        "   'Phase Fp1 84.2911877395',\n",
        "   'Phase Fp1 84.7701149425',\n",
        "   'Phase Fp1 85.2490421456',\n",
        "   'Phase Fp1 85.7279693487',\n",
        "   'Phase Fp1 86.2068965517',\n",
        "   'Phase Fp1 86.6858237548',\n",
        "   'Phase Fp1 87.1647509579',\n",
        "   'Phase Fp1 87.6436781609',\n",
        "   'Phase Fp1 88.122605364',\n",
        "   'Phase Fp1 88.601532567',\n",
        "   'Phase Fp1 89.0804597701',\n",
        "   'Phase Fp1 89.5593869732',\n",
        "   'Phase Fp1 90.0383141762',\n",
        "   'Phase Fp1 90.5172413793',\n",
        "   'Phase Fp1 90.9961685824',\n",
        "   'Phase Fp1 91.4750957854',\n",
        "   'Phase Fp1 91.9540229885',\n",
        "   'Phase Fp1 92.4329501916',\n",
        "   'Phase Fp1 92.9118773946',\n",
        "   'Phase Fp1 93.3908045977',\n",
        "   'Phase Fp1 93.8697318008',\n",
        "   'Phase Fp1 94.3486590038',\n",
        "   'Phase Fp1 94.8275862069',\n",
        "   'Phase Fp1 95.30651341',\n",
        "   'Phase Fp1 95.785440613',\n",
        "   'Phase Fp1 96.2643678161',\n",
        "   'Phase Fp1 96.7432950192',\n",
        "   'Phase Fp1 97.2222222222',\n",
        "   'Phase Fp1 97.7011494253',\n",
        "   'Phase Fp1 98.1800766284',\n",
        "   'Phase Fp1 98.6590038314',\n",
        "   'Phase Fp1 99.1379310345',\n",
        "   'Phase Fp1 99.6168582375',\n",
        "   'Phase Fp1 100.095785441',\n",
        "   'Phase Fp1 100.574712644',\n",
        "   'Phase Fp1 101.053639847',\n",
        "   'Phase Fp1 101.53256705',\n",
        "   'Phase Fp1 102.011494253',\n",
        "   'Phase Fp1 102.490421456',\n",
        "   'Phase Fp1 102.969348659',\n",
        "   'Phase Fp1 103.448275862',\n",
        "   'Phase Fp1 103.927203065',\n",
        "   'Phase Fp1 104.406130268',\n",
        "   'Phase Fp1 104.885057471',\n",
        "   'Phase Fp1 105.363984674',\n",
        "   'Phase Fp1 105.842911877',\n",
        "   'Phase Fp1 106.32183908',\n",
        "   'Phase Fp1 106.800766284',\n",
        "   'Phase Fp1 107.279693487',\n",
        "   'Phase Fp1 107.75862069',\n",
        "   'Phase Fp1 108.237547893',\n",
        "   'Phase Fp1 108.716475096',\n",
        "   'Phase Fp1 109.195402299',\n",
        "   'Phase Fp1 109.674329502',\n",
        "   'Phase Fp1 110.153256705',\n",
        "   'Phase Fp1 110.632183908',\n",
        "   'Phase Fp1 111.111111111',\n",
        "   'Phase Fp1 111.590038314',\n",
        "   'Phase Fp1 112.068965517',\n",
        "   'Phase Fp1 112.54789272',\n",
        "   'Phase Fp1 113.026819923',\n",
        "   'Phase Fp1 113.505747126',\n",
        "   'Phase Fp1 113.98467433',\n",
        "   'Phase Fp1 114.463601533',\n",
        "   'Phase Fp1 114.942528736',\n",
        "   'Phase Fp1 115.421455939',\n",
        "   'Phase Fp1 115.900383142',\n",
        "   'Phase Fp1 116.379310345',\n",
        "   'Phase Fp1 116.858237548',\n",
        "   'Phase Fp1 117.337164751',\n",
        "   'Phase Fp1 117.816091954',\n",
        "   'Phase Fp1 118.295019157',\n",
        "   'Phase Fp1 118.77394636',\n",
        "   'Phase Fp1 119.252873563',\n",
        "   'Phase Fp1 119.731800766',\n",
        "   'Phase Fp1 120.210727969',\n",
        "   'Phase Fp1 120.689655172',\n",
        "   'Phase Fp1 121.168582375',\n",
        "   'Phase Fp1 121.647509579',\n",
        "   'Phase Fp1 122.126436782',\n",
        "   'Phase Fp1 122.605363985',\n",
        "   'Phase Fp1 123.084291188',\n",
        "   'Phase Fp1 123.563218391',\n",
        "   'Phase Fp1 124.042145594',\n",
        "   'Phase Fp1 124.521072797',\n",
        "   'Phase Fpz 0.478927203065',\n",
        "   'Phase Fpz 0.95785440613',\n",
        "   'Phase Fpz 1.4367816092',\n",
        "   'Phase Fpz 1.91570881226',\n",
        "   'Phase Fpz 2.39463601533',\n",
        "   'Phase Fpz 2.87356321839',\n",
        "   'Phase Fpz 3.35249042146',\n",
        "   'Phase Fpz 3.83141762452',\n",
        "   'Phase Fpz 4.31034482759',\n",
        "   'Phase Fpz 4.78927203065',\n",
        "   'Phase Fpz 5.26819923372',\n",
        "   'Phase Fpz 5.74712643678',\n",
        "   'Phase Fpz 6.22605363985',\n",
        "   'Phase Fpz 6.70498084291',\n",
        "   'Phase Fpz 7.18390804598',\n",
        "   'Phase Fpz 7.66283524904',\n",
        "   'Phase Fpz 8.14176245211',\n",
        "   'Phase Fpz 8.62068965517',\n",
        "   'Phase Fpz 9.09961685824',\n",
        "   'Phase Fpz 9.5785440613',\n",
        "   'Phase Fpz 10.0574712644',\n",
        "   'Phase Fpz 10.5363984674',\n",
        "   'Phase Fpz 11.0153256705',\n",
        "   'Phase Fpz 11.4942528736',\n",
        "   'Phase Fpz 11.9731800766',\n",
        "   'Phase Fpz 12.4521072797',\n",
        "   'Phase Fpz 12.9310344828',\n",
        "   'Phase Fpz 13.4099616858',\n",
        "   'Phase Fpz 13.8888888889',\n",
        "   'Phase Fpz 14.367816092',\n",
        "   'Phase Fpz 14.846743295',\n",
        "   'Phase Fpz 15.3256704981',\n",
        "   'Phase Fpz 15.8045977011',\n",
        "   'Phase Fpz 16.2835249042',\n",
        "   'Phase Fpz 16.7624521073',\n",
        "   'Phase Fpz 17.2413793103',\n",
        "   'Phase Fpz 17.7203065134',\n",
        "   'Phase Fpz 18.1992337165',\n",
        "   'Phase Fpz 18.6781609195',\n",
        "   'Phase Fpz 19.1570881226',\n",
        "   'Phase Fpz 19.6360153257',\n",
        "   'Phase Fpz 20.1149425287',\n",
        "   'Phase Fpz 20.5938697318',\n",
        "   'Phase Fpz 21.0727969349',\n",
        "   'Phase Fpz 21.5517241379',\n",
        "   'Phase Fpz 22.030651341',\n",
        "   'Phase Fpz 22.5095785441',\n",
        "   'Phase Fpz 22.9885057471',\n",
        "   'Phase Fpz 23.4674329502',\n",
        "   'Phase Fpz 23.9463601533',\n",
        "   'Phase Fpz 24.4252873563',\n",
        "   'Phase Fpz 24.9042145594',\n",
        "   'Phase Fpz 25.3831417625',\n",
        "   'Phase Fpz 25.8620689655',\n",
        "   'Phase Fpz 26.3409961686',\n",
        "   'Phase Fpz 26.8199233716',\n",
        "   'Phase Fpz 27.2988505747',\n",
        "   'Phase Fpz 27.7777777778',\n",
        "   'Phase Fpz 28.2567049808',\n",
        "   'Phase Fpz 28.7356321839',\n",
        "   'Phase Fpz 29.214559387',\n",
        "   'Phase Fpz 29.69348659',\n",
        "   'Phase Fpz 30.1724137931',\n",
        "   'Phase Fpz 30.6513409962',\n",
        "   'Phase Fpz 31.1302681992',\n",
        "   'Phase Fpz 31.6091954023',\n",
        "   'Phase Fpz 32.0881226054',\n",
        "   'Phase Fpz 32.5670498084',\n",
        "   'Phase Fpz 33.0459770115',\n",
        "   'Phase Fpz 33.5249042146',\n",
        "   'Phase Fpz 34.0038314176',\n",
        "   'Phase Fpz 34.4827586207',\n",
        "   'Phase Fpz 34.9616858238',\n",
        "   'Phase Fpz 35.4406130268',\n",
        "   'Phase Fpz 35.9195402299',\n",
        "   'Phase Fpz 36.398467433',\n",
        "   'Phase Fpz 36.877394636',\n",
        "   'Phase Fpz 37.3563218391',\n",
        "   'Phase Fpz 37.8352490421',\n",
        "   'Phase Fpz 38.3141762452',\n",
        "   'Phase Fpz 38.7931034483',\n",
        "   'Phase Fpz 39.2720306513',\n",
        "   'Phase Fpz 39.7509578544',\n",
        "   'Phase Fpz 40.2298850575',\n",
        "   'Phase Fpz 40.7088122605',\n",
        "   'Phase Fpz 41.1877394636',\n",
        "   'Phase Fpz 41.6666666667',\n",
        "   'Phase Fpz 42.1455938697',\n",
        "   'Phase Fpz 42.6245210728',\n",
        "   'Phase Fpz 43.1034482759',\n",
        "   'Phase Fpz 43.5823754789',\n",
        "   'Phase Fpz 44.061302682',\n",
        "   'Phase Fpz 44.5402298851',\n",
        "   'Phase Fpz 45.0191570881',\n",
        "   'Phase Fpz 45.4980842912',\n",
        "   'Phase Fpz 45.9770114943',\n",
        "   'Phase Fpz 46.4559386973',\n",
        "   'Phase Fpz 46.9348659004',\n",
        "   'Phase Fpz 47.4137931034',\n",
        "   'Phase Fpz 47.8927203065',\n",
        "   'Phase Fpz 48.3716475096',\n",
        "   'Phase Fpz 48.8505747126',\n",
        "   'Phase Fpz 49.3295019157',\n",
        "   'Phase Fpz 49.8084291188',\n",
        "   'Phase Fpz 50.2873563218',\n",
        "   'Phase Fpz 50.7662835249',\n",
        "   'Phase Fpz 51.245210728',\n",
        "   'Phase Fpz 51.724137931',\n",
        "   'Phase Fpz 52.2030651341',\n",
        "   'Phase Fpz 52.6819923372',\n",
        "   'Phase Fpz 53.1609195402',\n",
        "   'Phase Fpz 53.6398467433',\n",
        "   'Phase Fpz 54.1187739464',\n",
        "   'Phase Fpz 54.5977011494',\n",
        "   'Phase Fpz 55.0766283525',\n",
        "   'Phase Fpz 55.5555555556',\n",
        "   'Phase Fpz 56.0344827586',\n",
        "   'Phase Fpz 56.5134099617',\n",
        "   'Phase Fpz 56.9923371648',\n",
        "   'Phase Fpz 57.4712643678',\n",
        "   'Phase Fpz 57.9501915709',\n",
        "   'Phase Fpz 58.4291187739',\n",
        "   'Phase Fpz 58.908045977',\n",
        "   'Phase Fpz 59.3869731801',\n",
        "   'Phase Fpz 59.8659003831',\n",
        "   'Phase Fpz 60.3448275862',\n",
        "   'Phase Fpz 60.8237547893',\n",
        "   'Phase Fpz 61.3026819923',\n",
        "   'Phase Fpz 61.7816091954',\n",
        "   'Phase Fpz 62.2605363985',\n",
        "   'Phase Fpz 62.7394636015',\n",
        "   'Phase Fpz 63.2183908046',\n",
        "   'Phase Fpz 63.6973180077',\n",
        "   'Phase Fpz 64.1762452107',\n",
        "   'Phase Fpz 64.6551724138',\n",
        "   'Phase Fpz 65.1340996169',\n",
        "   'Phase Fpz 65.6130268199',\n",
        "   'Phase Fpz 66.091954023',\n",
        "   'Phase Fpz 66.5708812261',\n",
        "   'Phase Fpz 67.0498084291',\n",
        "   'Phase Fpz 67.5287356322',\n",
        "   'Phase Fpz 68.0076628352',\n",
        "   'Phase Fpz 68.4865900383',\n",
        "   'Phase Fpz 68.9655172414',\n",
        "   'Phase Fpz 69.4444444444',\n",
        "   'Phase Fpz 69.9233716475',\n",
        "   'Phase Fpz 70.4022988506',\n",
        "   'Phase Fpz 70.8812260536',\n",
        "   'Phase Fpz 71.3601532567',\n",
        "   'Phase Fpz 71.8390804598',\n",
        "   'Phase Fpz 72.3180076628',\n",
        "   'Phase Fpz 72.7969348659',\n",
        "   'Phase Fpz 73.275862069',\n",
        "   'Phase Fpz 73.754789272',\n",
        "   'Phase Fpz 74.2337164751',\n",
        "   'Phase Fpz 74.7126436782',\n",
        "   'Phase Fpz 75.1915708812',\n",
        "   'Phase Fpz 75.6704980843',\n",
        "   'Phase Fpz 76.1494252874',\n",
        "   'Phase Fpz 76.6283524904',\n",
        "   'Phase Fpz 77.1072796935',\n",
        "   'Phase Fpz 77.5862068966',\n",
        "   'Phase Fpz 78.0651340996',\n",
        "   'Phase Fpz 78.5440613027',\n",
        "   'Phase Fpz 79.0229885057',\n",
        "   'Phase Fpz 79.5019157088',\n",
        "   'Phase Fpz 79.9808429119',\n",
        "   'Phase Fpz 80.4597701149',\n",
        "   'Phase Fpz 80.938697318',\n",
        "   'Phase Fpz 81.4176245211',\n",
        "   'Phase Fpz 81.8965517241',\n",
        "   'Phase Fpz 82.3754789272',\n",
        "   'Phase Fpz 82.8544061303',\n",
        "   'Phase Fpz 83.3333333333',\n",
        "   'Phase Fpz 83.8122605364',\n",
        "   'Phase Fpz 84.2911877395',\n",
        "   'Phase Fpz 84.7701149425',\n",
        "   'Phase Fpz 85.2490421456',\n",
        "   'Phase Fpz 85.7279693487',\n",
        "   'Phase Fpz 86.2068965517',\n",
        "   'Phase Fpz 86.6858237548',\n",
        "   'Phase Fpz 87.1647509579',\n",
        "   'Phase Fpz 87.6436781609',\n",
        "   'Phase Fpz 88.122605364',\n",
        "   'Phase Fpz 88.601532567',\n",
        "   'Phase Fpz 89.0804597701',\n",
        "   'Phase Fpz 89.5593869732',\n",
        "   'Phase Fpz 90.0383141762',\n",
        "   'Phase Fpz 90.5172413793',\n",
        "   'Phase Fpz 90.9961685824',\n",
        "   'Phase Fpz 91.4750957854',\n",
        "   'Phase Fpz 91.9540229885',\n",
        "   'Phase Fpz 92.4329501916',\n",
        "   'Phase Fpz 92.9118773946',\n",
        "   'Phase Fpz 93.3908045977',\n",
        "   'Phase Fpz 93.8697318008',\n",
        "   'Phase Fpz 94.3486590038',\n",
        "   'Phase Fpz 94.8275862069',\n",
        "   'Phase Fpz 95.30651341',\n",
        "   'Phase Fpz 95.785440613',\n",
        "   'Phase Fpz 96.2643678161',\n",
        "   'Phase Fpz 96.7432950192',\n",
        "   'Phase Fpz 97.2222222222',\n",
        "   'Phase Fpz 97.7011494253',\n",
        "   'Phase Fpz 98.1800766284',\n",
        "   'Phase Fpz 98.6590038314',\n",
        "   'Phase Fpz 99.1379310345',\n",
        "   'Phase Fpz 99.6168582375',\n",
        "   'Phase Fpz 100.095785441',\n",
        "   'Phase Fpz 100.574712644',\n",
        "   'Phase Fpz 101.053639847',\n",
        "   'Phase Fpz 101.53256705',\n",
        "   'Phase Fpz 102.011494253',\n",
        "   'Phase Fpz 102.490421456',\n",
        "   'Phase Fpz 102.969348659',\n",
        "   'Phase Fpz 103.448275862',\n",
        "   'Phase Fpz 103.927203065',\n",
        "   'Phase Fpz 104.406130268',\n",
        "   'Phase Fpz 104.885057471',\n",
        "   'Phase Fpz 105.363984674',\n",
        "   'Phase Fpz 105.842911877',\n",
        "   'Phase Fpz 106.32183908',\n",
        "   'Phase Fpz 106.800766284',\n",
        "   'Phase Fpz 107.279693487',\n",
        "   'Phase Fpz 107.75862069',\n",
        "   'Phase Fpz 108.237547893',\n",
        "   'Phase Fpz 108.716475096',\n",
        "   'Phase Fpz 109.195402299',\n",
        "   'Phase Fpz 109.674329502',\n",
        "   'Phase Fpz 110.153256705',\n",
        "   'Phase Fpz 110.632183908',\n",
        "   'Phase Fpz 111.111111111',\n",
        "   'Phase Fpz 111.590038314',\n",
        "   'Phase Fpz 112.068965517',\n",
        "   'Phase Fpz 112.54789272',\n",
        "   'Phase Fpz 113.026819923',\n",
        "   'Phase Fpz 113.505747126',\n",
        "   'Phase Fpz 113.98467433',\n",
        "   'Phase Fpz 114.463601533',\n",
        "   'Phase Fpz 114.942528736',\n",
        "   'Phase Fpz 115.421455939',\n",
        "   'Phase Fpz 115.900383142',\n",
        "   'Phase Fpz 116.379310345',\n",
        "   'Phase Fpz 116.858237548',\n",
        "   'Phase Fpz 117.337164751',\n",
        "   'Phase Fpz 117.816091954',\n",
        "   'Phase Fpz 118.295019157',\n",
        "   'Phase Fpz 118.77394636',\n",
        "   'Phase Fpz 119.252873563',\n",
        "   'Phase Fpz 119.731800766',\n",
        "   'Phase Fpz 120.210727969',\n",
        "   'Phase Fpz 120.689655172',\n",
        "   'Phase Fpz 121.168582375',\n",
        "   'Phase Fpz 121.647509579',\n",
        "   'Phase Fpz 122.126436782',\n",
        "   'Phase Fpz 122.605363985',\n",
        "   'Phase Fpz 123.084291188',\n",
        "   'Phase Fpz 123.563218391',\n",
        "   'Phase Fpz 124.042145594',\n",
        "   'Phase Fpz 124.521072797',\n",
        "   'Phase Fp2 0.478927203065',\n",
        "   'Phase Fp2 0.95785440613',\n",
        "   'Phase Fp2 1.4367816092',\n",
        "   'Phase Fp2 1.91570881226',\n",
        "   'Phase Fp2 2.39463601533',\n",
        "   'Phase Fp2 2.87356321839',\n",
        "   'Phase Fp2 3.35249042146',\n",
        "   'Phase Fp2 3.83141762452',\n",
        "   'Phase Fp2 4.31034482759',\n",
        "   'Phase Fp2 4.78927203065',\n",
        "   'Phase Fp2 5.26819923372',\n",
        "   'Phase Fp2 5.74712643678',\n",
        "   'Phase Fp2 6.22605363985',\n",
        "   'Phase Fp2 6.70498084291',\n",
        "   'Phase Fp2 7.18390804598',\n",
        "   'Phase Fp2 7.66283524904',\n",
        "   'Phase Fp2 8.14176245211',\n",
        "   'Phase Fp2 8.62068965517',\n",
        "   'Phase Fp2 9.09961685824',\n",
        "   'Phase Fp2 9.5785440613',\n",
        "   'Phase Fp2 10.0574712644',\n",
        "   'Phase Fp2 10.5363984674',\n",
        "   'Phase Fp2 11.0153256705',\n",
        "   'Phase Fp2 11.4942528736',\n",
        "   'Phase Fp2 11.9731800766',\n",
        "   'Phase Fp2 12.4521072797',\n",
        "   'Phase Fp2 12.9310344828',\n",
        "   'Phase Fp2 13.4099616858',\n",
        "   'Phase Fp2 13.8888888889',\n",
        "   'Phase Fp2 14.367816092',\n",
        "   'Phase Fp2 14.846743295',\n",
        "   'Phase Fp2 15.3256704981',\n",
        "   'Phase Fp2 15.8045977011',\n",
        "   'Phase Fp2 16.2835249042',\n",
        "   'Phase Fp2 16.7624521073',\n",
        "   'Phase Fp2 17.2413793103',\n",
        "   'Phase Fp2 17.7203065134',\n",
        "   'Phase Fp2 18.1992337165',\n",
        "   'Phase Fp2 18.6781609195',\n",
        "   'Phase Fp2 19.1570881226',\n",
        "   'Phase Fp2 19.6360153257',\n",
        "   'Phase Fp2 20.1149425287',\n",
        "   'Phase Fp2 20.5938697318',\n",
        "   'Phase Fp2 21.0727969349',\n",
        "   'Phase Fp2 21.5517241379',\n",
        "   'Phase Fp2 22.030651341',\n",
        "   'Phase Fp2 22.5095785441',\n",
        "   'Phase Fp2 22.9885057471',\n",
        "   'Phase Fp2 23.4674329502',\n",
        "   'Phase Fp2 23.9463601533',\n",
        "   'Phase Fp2 24.4252873563',\n",
        "   'Phase Fp2 24.9042145594',\n",
        "   'Phase Fp2 25.3831417625',\n",
        "   'Phase Fp2 25.8620689655',\n",
        "   'Phase Fp2 26.3409961686',\n",
        "   'Phase Fp2 26.8199233716',\n",
        "   'Phase Fp2 27.2988505747',\n",
        "   'Phase Fp2 27.7777777778',\n",
        "   'Phase Fp2 28.2567049808',\n",
        "   'Phase Fp2 28.7356321839',\n",
        "   'Phase Fp2 29.214559387',\n",
        "   'Phase Fp2 29.69348659',\n",
        "   'Phase Fp2 30.1724137931',\n",
        "   'Phase Fp2 30.6513409962',\n",
        "   'Phase Fp2 31.1302681992',\n",
        "   'Phase Fp2 31.6091954023',\n",
        "   'Phase Fp2 32.0881226054',\n",
        "   'Phase Fp2 32.5670498084',\n",
        "   'Phase Fp2 33.0459770115',\n",
        "   'Phase Fp2 33.5249042146',\n",
        "   'Phase Fp2 34.0038314176',\n",
        "   'Phase Fp2 34.4827586207',\n",
        "   'Phase Fp2 34.9616858238',\n",
        "   'Phase Fp2 35.4406130268',\n",
        "   'Phase Fp2 35.9195402299',\n",
        "   'Phase Fp2 36.398467433',\n",
        "   'Phase Fp2 36.877394636',\n",
        "   'Phase Fp2 37.3563218391',\n",
        "   'Phase Fp2 37.8352490421',\n",
        "   'Phase Fp2 38.3141762452',\n",
        "   'Phase Fp2 38.7931034483',\n",
        "   'Phase Fp2 39.2720306513',\n",
        "   'Phase Fp2 39.7509578544',\n",
        "   'Phase Fp2 40.2298850575',\n",
        "   'Phase Fp2 40.7088122605',\n",
        "   'Phase Fp2 41.1877394636',\n",
        "   'Phase Fp2 41.6666666667',\n",
        "   'Phase Fp2 42.1455938697',\n",
        "   'Phase Fp2 42.6245210728',\n",
        "   'Phase Fp2 43.1034482759',\n",
        "   'Phase Fp2 43.5823754789',\n",
        "   'Phase Fp2 44.061302682',\n",
        "   'Phase Fp2 44.5402298851',\n",
        "   'Phase Fp2 45.0191570881',\n",
        "   'Phase Fp2 45.4980842912',\n",
        "   'Phase Fp2 45.9770114943',\n",
        "   'Phase Fp2 46.4559386973',\n",
        "   'Phase Fp2 46.9348659004',\n",
        "   'Phase Fp2 47.4137931034',\n",
        "   'Phase Fp2 47.8927203065',\n",
        "   'Phase Fp2 48.3716475096',\n",
        "   'Phase Fp2 48.8505747126',\n",
        "   'Phase Fp2 49.3295019157',\n",
        "   'Phase Fp2 49.8084291188',\n",
        "   'Phase Fp2 50.2873563218',\n",
        "   'Phase Fp2 50.7662835249',\n",
        "   'Phase Fp2 51.245210728',\n",
        "   'Phase Fp2 51.724137931',\n",
        "   'Phase Fp2 52.2030651341',\n",
        "   'Phase Fp2 52.6819923372',\n",
        "   'Phase Fp2 53.1609195402',\n",
        "   'Phase Fp2 53.6398467433',\n",
        "   'Phase Fp2 54.1187739464',\n",
        "   'Phase Fp2 54.5977011494',\n",
        "   'Phase Fp2 55.0766283525',\n",
        "   'Phase Fp2 55.5555555556',\n",
        "   'Phase Fp2 56.0344827586',\n",
        "   'Phase Fp2 56.5134099617',\n",
        "   'Phase Fp2 56.9923371648',\n",
        "   'Phase Fp2 57.4712643678',\n",
        "   'Phase Fp2 57.9501915709',\n",
        "   'Phase Fp2 58.4291187739',\n",
        "   'Phase Fp2 58.908045977',\n",
        "   'Phase Fp2 59.3869731801',\n",
        "   'Phase Fp2 59.8659003831',\n",
        "   'Phase Fp2 60.3448275862',\n",
        "   'Phase Fp2 60.8237547893',\n",
        "   'Phase Fp2 61.3026819923',\n",
        "   'Phase Fp2 61.7816091954',\n",
        "   'Phase Fp2 62.2605363985',\n",
        "   'Phase Fp2 62.7394636015',\n",
        "   'Phase Fp2 63.2183908046',\n",
        "   'Phase Fp2 63.6973180077',\n",
        "   'Phase Fp2 64.1762452107',\n",
        "   'Phase Fp2 64.6551724138',\n",
        "   'Phase Fp2 65.1340996169',\n",
        "   'Phase Fp2 65.6130268199',\n",
        "   'Phase Fp2 66.091954023',\n",
        "   'Phase Fp2 66.5708812261',\n",
        "   'Phase Fp2 67.0498084291',\n",
        "   'Phase Fp2 67.5287356322',\n",
        "   'Phase Fp2 68.0076628352',\n",
        "   'Phase Fp2 68.4865900383',\n",
        "   'Phase Fp2 68.9655172414',\n",
        "   'Phase Fp2 69.4444444444',\n",
        "   'Phase Fp2 69.9233716475',\n",
        "   'Phase Fp2 70.4022988506',\n",
        "   'Phase Fp2 70.8812260536',\n",
        "   'Phase Fp2 71.3601532567',\n",
        "   'Phase Fp2 71.8390804598',\n",
        "   'Phase Fp2 72.3180076628',\n",
        "   'Phase Fp2 72.7969348659',\n",
        "   'Phase Fp2 73.275862069',\n",
        "   'Phase Fp2 73.754789272',\n",
        "   'Phase Fp2 74.2337164751',\n",
        "   'Phase Fp2 74.7126436782',\n",
        "   'Phase Fp2 75.1915708812',\n",
        "   'Phase Fp2 75.6704980843',\n",
        "   'Phase Fp2 76.1494252874',\n",
        "   'Phase Fp2 76.6283524904',\n",
        "   'Phase Fp2 77.1072796935',\n",
        "   'Phase Fp2 77.5862068966',\n",
        "   'Phase Fp2 78.0651340996',\n",
        "   'Phase Fp2 78.5440613027',\n",
        "   'Phase Fp2 79.0229885057',\n",
        "   'Phase Fp2 79.5019157088',\n",
        "   'Phase Fp2 79.9808429119',\n",
        "   'Phase Fp2 80.4597701149',\n",
        "   'Phase Fp2 80.938697318',\n",
        "   'Phase Fp2 81.4176245211',\n",
        "   'Phase Fp2 81.8965517241',\n",
        "   'Phase Fp2 82.3754789272',\n",
        "   'Phase Fp2 82.8544061303',\n",
        "   'Phase Fp2 83.3333333333',\n",
        "   'Phase Fp2 83.8122605364',\n",
        "   'Phase Fp2 84.2911877395',\n",
        "   'Phase Fp2 84.7701149425',\n",
        "   'Phase Fp2 85.2490421456',\n",
        "   'Phase Fp2 85.7279693487',\n",
        "   'Phase Fp2 86.2068965517',\n",
        "   'Phase Fp2 86.6858237548',\n",
        "   'Phase Fp2 87.1647509579',\n",
        "   'Phase Fp2 87.6436781609',\n",
        "   'Phase Fp2 88.122605364',\n",
        "   'Phase Fp2 88.601532567',\n",
        "   'Phase Fp2 89.0804597701',\n",
        "   'Phase Fp2 89.5593869732',\n",
        "   'Phase Fp2 90.0383141762',\n",
        "   'Phase Fp2 90.5172413793',\n",
        "   'Phase Fp2 90.9961685824',\n",
        "   'Phase Fp2 91.4750957854',\n",
        "   'Phase Fp2 91.9540229885',\n",
        "   'Phase Fp2 92.4329501916',\n",
        "   'Phase Fp2 92.9118773946',\n",
        "   'Phase Fp2 93.3908045977',\n",
        "   'Phase Fp2 93.8697318008',\n",
        "   'Phase Fp2 94.3486590038',\n",
        "   'Phase Fp2 94.8275862069',\n",
        "   'Phase Fp2 95.30651341',\n",
        "   'Phase Fp2 95.785440613',\n",
        "   'Phase Fp2 96.2643678161',\n",
        "   'Phase Fp2 96.7432950192',\n",
        "   'Phase Fp2 97.2222222222',\n",
        "   'Phase Fp2 97.7011494253',\n",
        "   'Phase Fp2 98.1800766284',\n",
        "   'Phase Fp2 98.6590038314',\n",
        "   'Phase Fp2 99.1379310345',\n",
        "   'Phase Fp2 99.6168582375',\n",
        "   'Phase Fp2 100.095785441',\n",
        "   'Phase Fp2 100.574712644',\n",
        "   'Phase Fp2 101.053639847',\n",
        "   'Phase Fp2 101.53256705',\n",
        "   'Phase Fp2 102.011494253',\n",
        "   'Phase Fp2 102.490421456',\n",
        "   'Phase Fp2 102.969348659',\n",
        "   'Phase Fp2 103.448275862',\n",
        "   'Phase Fp2 103.927203065',\n",
        "   'Phase Fp2 104.406130268',\n",
        "   'Phase Fp2 104.885057471',\n",
        "   'Phase Fp2 105.363984674',\n",
        "   'Phase Fp2 105.842911877',\n",
        "   'Phase Fp2 106.32183908',\n",
        "   'Phase Fp2 106.800766284',\n",
        "   'Phase Fp2 107.279693487',\n",
        "   'Phase Fp2 107.75862069',\n",
        "   'Phase Fp2 108.237547893',\n",
        "   'Phase Fp2 108.716475096',\n",
        "   'Phase Fp2 109.195402299',\n",
        "   'Phase Fp2 109.674329502',\n",
        "   'Phase Fp2 110.153256705',\n",
        "   'Phase Fp2 110.632183908',\n",
        "   'Phase Fp2 111.111111111',\n",
        "   'Phase Fp2 111.590038314',\n",
        "   'Phase Fp2 112.068965517',\n",
        "   'Phase Fp2 112.54789272',\n",
        "   'Phase Fp2 113.026819923',\n",
        "   'Phase Fp2 113.505747126',\n",
        "   'Phase Fp2 113.98467433',\n",
        "   'Phase Fp2 114.463601533',\n",
        "   'Phase Fp2 114.942528736',\n",
        "   'Phase Fp2 115.421455939',\n",
        "   'Phase Fp2 115.900383142',\n",
        "   'Phase Fp2 116.379310345',\n",
        "   'Phase Fp2 116.858237548',\n",
        "   'Phase Fp2 117.337164751',\n",
        "   'Phase Fp2 117.816091954',\n",
        "   'Phase Fp2 118.295019157',\n",
        "   'Phase Fp2 118.77394636',\n",
        "   'Phase Fp2 119.252873563',\n",
        "   'Phase Fp2 119.731800766',\n",
        "   'Phase Fp2 120.210727969',\n",
        "   'Phase Fp2 120.689655172',\n",
        "   'Phase Fp2 121.168582375',\n",
        "   'Phase Fp2 121.647509579',\n",
        "   'Phase Fp2 122.126436782',\n",
        "   'Phase Fp2 122.605363985',\n",
        "   'Phase Fp2 123.084291188',\n",
        "   'Phase Fp2 123.563218391',\n",
        "   'Phase Fp2 124.042145594',\n",
        "   'Phase Fp2 124.521072797',\n",
        "   'Phase AFp3h 0.478927203065',\n",
        "   'Phase AFp3h 0.95785440613',\n",
        "   'Phase AFp3h 1.4367816092',\n",
        "   'Phase AFp3h 1.91570881226',\n",
        "   'Phase AFp3h 2.39463601533',\n",
        "   'Phase AFp3h 2.87356321839',\n",
        "   'Phase AFp3h 3.35249042146',\n",
        "   'Phase AFp3h 3.83141762452',\n",
        "   'Phase AFp3h 4.31034482759',\n",
        "   'Phase AFp3h 4.78927203065',\n",
        "   'Phase AFp3h 5.26819923372',\n",
        "   'Phase AFp3h 5.74712643678',\n",
        "   'Phase AFp3h 6.22605363985',\n",
        "   'Phase AFp3h 6.70498084291',\n",
        "   'Phase AFp3h 7.18390804598',\n",
        "   'Phase AFp3h 7.66283524904',\n",
        "   'Phase AFp3h 8.14176245211',\n",
        "   'Phase AFp3h 8.62068965517',\n",
        "   'Phase AFp3h 9.09961685824',\n",
        "   'Phase AFp3h 9.5785440613',\n",
        "   'Phase AFp3h 10.0574712644',\n",
        "   'Phase AFp3h 10.5363984674',\n",
        "   'Phase AFp3h 11.0153256705',\n",
        "   'Phase AFp3h 11.4942528736',\n",
        "   'Phase AFp3h 11.9731800766',\n",
        "   'Phase AFp3h 12.4521072797',\n",
        "   'Phase AFp3h 12.9310344828',\n",
        "   'Phase AFp3h 13.4099616858',\n",
        "   'Phase AFp3h 13.8888888889',\n",
        "   'Phase AFp3h 14.367816092',\n",
        "   'Phase AFp3h 14.846743295',\n",
        "   'Phase AFp3h 15.3256704981',\n",
        "   'Phase AFp3h 15.8045977011',\n",
        "   'Phase AFp3h 16.2835249042',\n",
        "   'Phase AFp3h 16.7624521073',\n",
        "   'Phase AFp3h 17.2413793103',\n",
        "   'Phase AFp3h 17.7203065134',\n",
        "   'Phase AFp3h 18.1992337165',\n",
        "   'Phase AFp3h 18.6781609195',\n",
        "   'Phase AFp3h 19.1570881226',\n",
        "   'Phase AFp3h 19.6360153257',\n",
        "   'Phase AFp3h 20.1149425287',\n",
        "   'Phase AFp3h 20.5938697318',\n",
        "   'Phase AFp3h 21.0727969349',\n",
        "   'Phase AFp3h 21.5517241379',\n",
        "   'Phase AFp3h 22.030651341',\n",
        "   'Phase AFp3h 22.5095785441',\n",
        "   'Phase AFp3h 22.9885057471',\n",
        "   'Phase AFp3h 23.4674329502',\n",
        "   'Phase AFp3h 23.9463601533',\n",
        "   'Phase AFp3h 24.4252873563',\n",
        "   'Phase AFp3h 24.9042145594',\n",
        "   'Phase AFp3h 25.3831417625',\n",
        "   'Phase AFp3h 25.8620689655',\n",
        "   'Phase AFp3h 26.3409961686',\n",
        "   'Phase AFp3h 26.8199233716',\n",
        "   'Phase AFp3h 27.2988505747',\n",
        "   'Phase AFp3h 27.7777777778',\n",
        "   'Phase AFp3h 28.2567049808',\n",
        "   'Phase AFp3h 28.7356321839',\n",
        "   'Phase AFp3h 29.214559387',\n",
        "   'Phase AFp3h 29.69348659',\n",
        "   'Phase AFp3h 30.1724137931',\n",
        "   'Phase AFp3h 30.6513409962',\n",
        "   'Phase AFp3h 31.1302681992',\n",
        "   'Phase AFp3h 31.6091954023',\n",
        "   'Phase AFp3h 32.0881226054',\n",
        "   'Phase AFp3h 32.5670498084',\n",
        "   'Phase AFp3h 33.0459770115',\n",
        "   'Phase AFp3h 33.5249042146',\n",
        "   'Phase AFp3h 34.0038314176',\n",
        "   'Phase AFp3h 34.4827586207',\n",
        "   'Phase AFp3h 34.9616858238',\n",
        "   'Phase AFp3h 35.4406130268',\n",
        "   'Phase AFp3h 35.9195402299',\n",
        "   'Phase AFp3h 36.398467433',\n",
        "   'Phase AFp3h 36.877394636',\n",
        "   'Phase AFp3h 37.3563218391',\n",
        "   'Phase AFp3h 37.8352490421',\n",
        "   'Phase AFp3h 38.3141762452',\n",
        "   'Phase AFp3h 38.7931034483',\n",
        "   'Phase AFp3h 39.2720306513',\n",
        "   'Phase AFp3h 39.7509578544',\n",
        "   'Phase AFp3h 40.2298850575',\n",
        "   'Phase AFp3h 40.7088122605',\n",
        "   'Phase AFp3h 41.1877394636',\n",
        "   'Phase AFp3h 41.6666666667',\n",
        "   'Phase AFp3h 42.1455938697',\n",
        "   'Phase AFp3h 42.6245210728',\n",
        "   'Phase AFp3h 43.1034482759',\n",
        "   'Phase AFp3h 43.5823754789',\n",
        "   'Phase AFp3h 44.061302682',\n",
        "   'Phase AFp3h 44.5402298851',\n",
        "   'Phase AFp3h 45.0191570881',\n",
        "   'Phase AFp3h 45.4980842912',\n",
        "   'Phase AFp3h 45.9770114943',\n",
        "   'Phase AFp3h 46.4559386973',\n",
        "   'Phase AFp3h 46.9348659004',\n",
        "   'Phase AFp3h 47.4137931034',\n",
        "   'Phase AFp3h 47.8927203065',\n",
        "   'Phase AFp3h 48.3716475096',\n",
        "   'Phase AFp3h 48.8505747126',\n",
        "   'Phase AFp3h 49.3295019157',\n",
        "   'Phase AFp3h 49.8084291188',\n",
        "   'Phase AFp3h 50.2873563218',\n",
        "   'Phase AFp3h 50.7662835249',\n",
        "   'Phase AFp3h 51.245210728',\n",
        "   'Phase AFp3h 51.724137931',\n",
        "   'Phase AFp3h 52.2030651341',\n",
        "   'Phase AFp3h 52.6819923372',\n",
        "   'Phase AFp3h 53.1609195402',\n",
        "   'Phase AFp3h 53.6398467433',\n",
        "   'Phase AFp3h 54.1187739464',\n",
        "   'Phase AFp3h 54.5977011494',\n",
        "   'Phase AFp3h 55.0766283525',\n",
        "   'Phase AFp3h 55.5555555556',\n",
        "   'Phase AFp3h 56.0344827586',\n",
        "   'Phase AFp3h 56.5134099617',\n",
        "   'Phase AFp3h 56.9923371648',\n",
        "   'Phase AFp3h 57.4712643678',\n",
        "   'Phase AFp3h 57.9501915709',\n",
        "   'Phase AFp3h 58.4291187739',\n",
        "   'Phase AFp3h 58.908045977',\n",
        "   'Phase AFp3h 59.3869731801',\n",
        "   'Phase AFp3h 59.8659003831',\n",
        "   'Phase AFp3h 60.3448275862',\n",
        "   'Phase AFp3h 60.8237547893',\n",
        "   'Phase AFp3h 61.3026819923',\n",
        "   'Phase AFp3h 61.7816091954',\n",
        "   'Phase AFp3h 62.2605363985',\n",
        "   'Phase AFp3h 62.7394636015',\n",
        "   'Phase AFp3h 63.2183908046',\n",
        "   'Phase AFp3h 63.6973180077',\n",
        "   'Phase AFp3h 64.1762452107',\n",
        "   'Phase AFp3h 64.6551724138',\n",
        "   'Phase AFp3h 65.1340996169',\n",
        "   'Phase AFp3h 65.6130268199',\n",
        "   'Phase AFp3h 66.091954023',\n",
        "   'Phase AFp3h 66.5708812261',\n",
        "   'Phase AFp3h 67.0498084291',\n",
        "   'Phase AFp3h 67.5287356322',\n",
        "   'Phase AFp3h 68.0076628352',\n",
        "   'Phase AFp3h 68.4865900383',\n",
        "   'Phase AFp3h 68.9655172414',\n",
        "   'Phase AFp3h 69.4444444444',\n",
        "   'Phase AFp3h 69.9233716475',\n",
        "   'Phase AFp3h 70.4022988506',\n",
        "   'Phase AFp3h 70.8812260536',\n",
        "   'Phase AFp3h 71.3601532567',\n",
        "   'Phase AFp3h 71.8390804598',\n",
        "   'Phase AFp3h 72.3180076628',\n",
        "   'Phase AFp3h 72.7969348659',\n",
        "   'Phase AFp3h 73.275862069',\n",
        "   'Phase AFp3h 73.754789272',\n",
        "   'Phase AFp3h 74.2337164751',\n",
        "   'Phase AFp3h 74.7126436782',\n",
        "   'Phase AFp3h 75.1915708812',\n",
        "   'Phase AFp3h 75.6704980843',\n",
        "   'Phase AFp3h 76.1494252874',\n",
        "   'Phase AFp3h 76.6283524904',\n",
        "   'Phase AFp3h 77.1072796935',\n",
        "   'Phase AFp3h 77.5862068966',\n",
        "   'Phase AFp3h 78.0651340996',\n",
        "   'Phase AFp3h 78.5440613027',\n",
        "   'Phase AFp3h 79.0229885057',\n",
        "   'Phase AFp3h 79.5019157088',\n",
        "   'Phase AFp3h 79.9808429119',\n",
        "   'Phase AFp3h 80.4597701149',\n",
        "   'Phase AFp3h 80.938697318',\n",
        "   'Phase AFp3h 81.4176245211',\n",
        "   'Phase AFp3h 81.8965517241',\n",
        "   'Phase AFp3h 82.3754789272',\n",
        "   'Phase AFp3h 82.8544061303',\n",
        "   'Phase AFp3h 83.3333333333',\n",
        "   'Phase AFp3h 83.8122605364',\n",
        "   'Phase AFp3h 84.2911877395',\n",
        "   'Phase AFp3h 84.7701149425',\n",
        "   'Phase AFp3h 85.2490421456',\n",
        "   'Phase AFp3h 85.7279693487',\n",
        "   'Phase AFp3h 86.2068965517',\n",
        "   'Phase AFp3h 86.6858237548',\n",
        "   'Phase AFp3h 87.1647509579',\n",
        "   'Phase AFp3h 87.6436781609',\n",
        "   'Phase AFp3h 88.122605364',\n",
        "   'Phase AFp3h 88.601532567',\n",
        "   'Phase AFp3h 89.0804597701',\n",
        "   'Phase AFp3h 89.5593869732',\n",
        "   'Phase AFp3h 90.0383141762',\n",
        "   'Phase AFp3h 90.5172413793',\n",
        "   'Phase AFp3h 90.9961685824',\n",
        "   'Phase AFp3h 91.4750957854',\n",
        "   'Phase AFp3h 91.9540229885',\n",
        "   'Phase AFp3h 92.4329501916',\n",
        "   'Phase AFp3h 92.9118773946',\n",
        "   'Phase AFp3h 93.3908045977',\n",
        "   'Phase AFp3h 93.8697318008',\n",
        "   'Phase AFp3h 94.3486590038',\n",
        "   'Phase AFp3h 94.8275862069',\n",
        "   'Phase AFp3h 95.30651341',\n",
        "   'Phase AFp3h 95.785440613',\n",
        "   'Phase AFp3h 96.2643678161',\n",
        "   'Phase AFp3h 96.7432950192',\n",
        "   'Phase AFp3h 97.2222222222',\n",
        "   'Phase AFp3h 97.7011494253',\n",
        "   'Phase AFp3h 98.1800766284',\n",
        "   'Phase AFp3h 98.6590038314',\n",
        "   'Phase AFp3h 99.1379310345',\n",
        "   'Phase AFp3h 99.6168582375',\n",
        "   'Phase AFp3h 100.095785441',\n",
        "   'Phase AFp3h 100.574712644',\n",
        "   'Phase AFp3h 101.053639847',\n",
        "   'Phase AFp3h 101.53256705',\n",
        "   'Phase AFp3h 102.011494253',\n",
        "   'Phase AFp3h 102.490421456',\n",
        "   'Phase AFp3h 102.969348659',\n",
        "   'Phase AFp3h 103.448275862',\n",
        "   'Phase AFp3h 103.927203065',\n",
        "   'Phase AFp3h 104.406130268',\n",
        "   'Phase AFp3h 104.885057471',\n",
        "   'Phase AFp3h 105.363984674',\n",
        "   ...],\n",
        "  ['Phasec Fp1 0.478927203065',\n",
        "   'Phasec Fp1 0.95785440613',\n",
        "   'Phasec Fp1 1.4367816092',\n",
        "   'Phasec Fp1 1.91570881226',\n",
        "   'Phasec Fp1 2.39463601533',\n",
        "   'Phasec Fp1 2.87356321839',\n",
        "   'Phasec Fp1 3.35249042146',\n",
        "   'Phasec Fp1 3.83141762452',\n",
        "   'Phasec Fp1 4.31034482759',\n",
        "   'Phasec Fp1 4.78927203065',\n",
        "   'Phasec Fp1 5.26819923372',\n",
        "   'Phasec Fp1 5.74712643678',\n",
        "   'Phasec Fp1 6.22605363985',\n",
        "   'Phasec Fp1 6.70498084291',\n",
        "   'Phasec Fp1 7.18390804598',\n",
        "   'Phasec Fp1 7.66283524904',\n",
        "   'Phasec Fp1 8.14176245211',\n",
        "   'Phasec Fp1 8.62068965517',\n",
        "   'Phasec Fp1 9.09961685824',\n",
        "   'Phasec Fp1 9.5785440613',\n",
        "   'Phasec Fp1 10.0574712644',\n",
        "   'Phasec Fp1 10.5363984674',\n",
        "   'Phasec Fp1 11.0153256705',\n",
        "   'Phasec Fp1 11.4942528736',\n",
        "   'Phasec Fp1 11.9731800766',\n",
        "   'Phasec Fp1 12.4521072797',\n",
        "   'Phasec Fp1 12.9310344828',\n",
        "   'Phasec Fp1 13.4099616858',\n",
        "   'Phasec Fp1 13.8888888889',\n",
        "   'Phasec Fp1 14.367816092',\n",
        "   'Phasec Fp1 14.846743295',\n",
        "   'Phasec Fp1 15.3256704981',\n",
        "   'Phasec Fp1 15.8045977011',\n",
        "   'Phasec Fp1 16.2835249042',\n",
        "   'Phasec Fp1 16.7624521073',\n",
        "   'Phasec Fp1 17.2413793103',\n",
        "   'Phasec Fp1 17.7203065134',\n",
        "   'Phasec Fp1 18.1992337165',\n",
        "   'Phasec Fp1 18.6781609195',\n",
        "   'Phasec Fp1 19.1570881226',\n",
        "   'Phasec Fp1 19.6360153257',\n",
        "   'Phasec Fp1 20.1149425287',\n",
        "   'Phasec Fp1 20.5938697318',\n",
        "   'Phasec Fp1 21.0727969349',\n",
        "   'Phasec Fp1 21.5517241379',\n",
        "   'Phasec Fp1 22.030651341',\n",
        "   'Phasec Fp1 22.5095785441',\n",
        "   'Phasec Fp1 22.9885057471',\n",
        "   'Phasec Fp1 23.4674329502',\n",
        "   'Phasec Fp1 23.9463601533',\n",
        "   'Phasec Fp1 24.4252873563',\n",
        "   'Phasec Fp1 24.9042145594',\n",
        "   'Phasec Fp1 25.3831417625',\n",
        "   'Phasec Fp1 25.8620689655',\n",
        "   'Phasec Fp1 26.3409961686',\n",
        "   'Phasec Fp1 26.8199233716',\n",
        "   'Phasec Fp1 27.2988505747',\n",
        "   'Phasec Fp1 27.7777777778',\n",
        "   'Phasec Fp1 28.2567049808',\n",
        "   'Phasec Fp1 28.7356321839',\n",
        "   'Phasec Fp1 29.214559387',\n",
        "   'Phasec Fp1 29.69348659',\n",
        "   'Phasec Fp1 30.1724137931',\n",
        "   'Phasec Fp1 30.6513409962',\n",
        "   'Phasec Fp1 31.1302681992',\n",
        "   'Phasec Fp1 31.6091954023',\n",
        "   'Phasec Fp1 32.0881226054',\n",
        "   'Phasec Fp1 32.5670498084',\n",
        "   'Phasec Fp1 33.0459770115',\n",
        "   'Phasec Fp1 33.5249042146',\n",
        "   'Phasec Fp1 34.0038314176',\n",
        "   'Phasec Fp1 34.4827586207',\n",
        "   'Phasec Fp1 34.9616858238',\n",
        "   'Phasec Fp1 35.4406130268',\n",
        "   'Phasec Fp1 35.9195402299',\n",
        "   'Phasec Fp1 36.398467433',\n",
        "   'Phasec Fp1 36.877394636',\n",
        "   'Phasec Fp1 37.3563218391',\n",
        "   'Phasec Fp1 37.8352490421',\n",
        "   'Phasec Fp1 38.3141762452',\n",
        "   'Phasec Fp1 38.7931034483',\n",
        "   'Phasec Fp1 39.2720306513',\n",
        "   'Phasec Fp1 39.7509578544',\n",
        "   'Phasec Fp1 40.2298850575',\n",
        "   'Phasec Fp1 40.7088122605',\n",
        "   'Phasec Fp1 41.1877394636',\n",
        "   'Phasec Fp1 41.6666666667',\n",
        "   'Phasec Fp1 42.1455938697',\n",
        "   'Phasec Fp1 42.6245210728',\n",
        "   'Phasec Fp1 43.1034482759',\n",
        "   'Phasec Fp1 43.5823754789',\n",
        "   'Phasec Fp1 44.061302682',\n",
        "   'Phasec Fp1 44.5402298851',\n",
        "   'Phasec Fp1 45.0191570881',\n",
        "   'Phasec Fp1 45.4980842912',\n",
        "   'Phasec Fp1 45.9770114943',\n",
        "   'Phasec Fp1 46.4559386973',\n",
        "   'Phasec Fp1 46.9348659004',\n",
        "   'Phasec Fp1 47.4137931034',\n",
        "   'Phasec Fp1 47.8927203065',\n",
        "   'Phasec Fp1 48.3716475096',\n",
        "   'Phasec Fp1 48.8505747126',\n",
        "   'Phasec Fp1 49.3295019157',\n",
        "   'Phasec Fp1 49.8084291188',\n",
        "   'Phasec Fp1 50.2873563218',\n",
        "   'Phasec Fp1 50.7662835249',\n",
        "   'Phasec Fp1 51.245210728',\n",
        "   'Phasec Fp1 51.724137931',\n",
        "   'Phasec Fp1 52.2030651341',\n",
        "   'Phasec Fp1 52.6819923372',\n",
        "   'Phasec Fp1 53.1609195402',\n",
        "   'Phasec Fp1 53.6398467433',\n",
        "   'Phasec Fp1 54.1187739464',\n",
        "   'Phasec Fp1 54.5977011494',\n",
        "   'Phasec Fp1 55.0766283525',\n",
        "   'Phasec Fp1 55.5555555556',\n",
        "   'Phasec Fp1 56.0344827586',\n",
        "   'Phasec Fp1 56.5134099617',\n",
        "   'Phasec Fp1 56.9923371648',\n",
        "   'Phasec Fp1 57.4712643678',\n",
        "   'Phasec Fp1 57.9501915709',\n",
        "   'Phasec Fp1 58.4291187739',\n",
        "   'Phasec Fp1 58.908045977',\n",
        "   'Phasec Fp1 59.3869731801',\n",
        "   'Phasec Fp1 59.8659003831',\n",
        "   'Phasec Fp1 60.3448275862',\n",
        "   'Phasec Fp1 60.8237547893',\n",
        "   'Phasec Fp1 61.3026819923',\n",
        "   'Phasec Fp1 61.7816091954',\n",
        "   'Phasec Fpz 0.478927203065',\n",
        "   'Phasec Fpz 0.95785440613',\n",
        "   'Phasec Fpz 1.4367816092',\n",
        "   'Phasec Fpz 1.91570881226',\n",
        "   'Phasec Fpz 2.39463601533',\n",
        "   'Phasec Fpz 2.87356321839',\n",
        "   'Phasec Fpz 3.35249042146',\n",
        "   'Phasec Fpz 3.83141762452',\n",
        "   'Phasec Fpz 4.31034482759',\n",
        "   'Phasec Fpz 4.78927203065',\n",
        "   'Phasec Fpz 5.26819923372',\n",
        "   'Phasec Fpz 5.74712643678',\n",
        "   'Phasec Fpz 6.22605363985',\n",
        "   'Phasec Fpz 6.70498084291',\n",
        "   'Phasec Fpz 7.18390804598',\n",
        "   'Phasec Fpz 7.66283524904',\n",
        "   'Phasec Fpz 8.14176245211',\n",
        "   'Phasec Fpz 8.62068965517',\n",
        "   'Phasec Fpz 9.09961685824',\n",
        "   'Phasec Fpz 9.5785440613',\n",
        "   'Phasec Fpz 10.0574712644',\n",
        "   'Phasec Fpz 10.5363984674',\n",
        "   'Phasec Fpz 11.0153256705',\n",
        "   'Phasec Fpz 11.4942528736',\n",
        "   'Phasec Fpz 11.9731800766',\n",
        "   'Phasec Fpz 12.4521072797',\n",
        "   'Phasec Fpz 12.9310344828',\n",
        "   'Phasec Fpz 13.4099616858',\n",
        "   'Phasec Fpz 13.8888888889',\n",
        "   'Phasec Fpz 14.367816092',\n",
        "   'Phasec Fpz 14.846743295',\n",
        "   'Phasec Fpz 15.3256704981',\n",
        "   'Phasec Fpz 15.8045977011',\n",
        "   'Phasec Fpz 16.2835249042',\n",
        "   'Phasec Fpz 16.7624521073',\n",
        "   'Phasec Fpz 17.2413793103',\n",
        "   'Phasec Fpz 17.7203065134',\n",
        "   'Phasec Fpz 18.1992337165',\n",
        "   'Phasec Fpz 18.6781609195',\n",
        "   'Phasec Fpz 19.1570881226',\n",
        "   'Phasec Fpz 19.6360153257',\n",
        "   'Phasec Fpz 20.1149425287',\n",
        "   'Phasec Fpz 20.5938697318',\n",
        "   'Phasec Fpz 21.0727969349',\n",
        "   'Phasec Fpz 21.5517241379',\n",
        "   'Phasec Fpz 22.030651341',\n",
        "   'Phasec Fpz 22.5095785441',\n",
        "   'Phasec Fpz 22.9885057471',\n",
        "   'Phasec Fpz 23.4674329502',\n",
        "   'Phasec Fpz 23.9463601533',\n",
        "   'Phasec Fpz 24.4252873563',\n",
        "   'Phasec Fpz 24.9042145594',\n",
        "   'Phasec Fpz 25.3831417625',\n",
        "   'Phasec Fpz 25.8620689655',\n",
        "   'Phasec Fpz 26.3409961686',\n",
        "   'Phasec Fpz 26.8199233716',\n",
        "   'Phasec Fpz 27.2988505747',\n",
        "   'Phasec Fpz 27.7777777778',\n",
        "   'Phasec Fpz 28.2567049808',\n",
        "   'Phasec Fpz 28.7356321839',\n",
        "   'Phasec Fpz 29.214559387',\n",
        "   'Phasec Fpz 29.69348659',\n",
        "   'Phasec Fpz 30.1724137931',\n",
        "   'Phasec Fpz 30.6513409962',\n",
        "   'Phasec Fpz 31.1302681992',\n",
        "   'Phasec Fpz 31.6091954023',\n",
        "   'Phasec Fpz 32.0881226054',\n",
        "   'Phasec Fpz 32.5670498084',\n",
        "   'Phasec Fpz 33.0459770115',\n",
        "   'Phasec Fpz 33.5249042146',\n",
        "   'Phasec Fpz 34.0038314176',\n",
        "   'Phasec Fpz 34.4827586207',\n",
        "   'Phasec Fpz 34.9616858238',\n",
        "   'Phasec Fpz 35.4406130268',\n",
        "   'Phasec Fpz 35.9195402299',\n",
        "   'Phasec Fpz 36.398467433',\n",
        "   'Phasec Fpz 36.877394636',\n",
        "   'Phasec Fpz 37.3563218391',\n",
        "   'Phasec Fpz 37.8352490421',\n",
        "   'Phasec Fpz 38.3141762452',\n",
        "   'Phasec Fpz 38.7931034483',\n",
        "   'Phasec Fpz 39.2720306513',\n",
        "   'Phasec Fpz 39.7509578544',\n",
        "   'Phasec Fpz 40.2298850575',\n",
        "   'Phasec Fpz 40.7088122605',\n",
        "   'Phasec Fpz 41.1877394636',\n",
        "   'Phasec Fpz 41.6666666667',\n",
        "   'Phasec Fpz 42.1455938697',\n",
        "   'Phasec Fpz 42.6245210728',\n",
        "   'Phasec Fpz 43.1034482759',\n",
        "   'Phasec Fpz 43.5823754789',\n",
        "   'Phasec Fpz 44.061302682',\n",
        "   'Phasec Fpz 44.5402298851',\n",
        "   'Phasec Fpz 45.0191570881',\n",
        "   'Phasec Fpz 45.4980842912',\n",
        "   'Phasec Fpz 45.9770114943',\n",
        "   'Phasec Fpz 46.4559386973',\n",
        "   'Phasec Fpz 46.9348659004',\n",
        "   'Phasec Fpz 47.4137931034',\n",
        "   'Phasec Fpz 47.8927203065',\n",
        "   'Phasec Fpz 48.3716475096',\n",
        "   'Phasec Fpz 48.8505747126',\n",
        "   'Phasec Fpz 49.3295019157',\n",
        "   'Phasec Fpz 49.8084291188',\n",
        "   'Phasec Fpz 50.2873563218',\n",
        "   'Phasec Fpz 50.7662835249',\n",
        "   'Phasec Fpz 51.245210728',\n",
        "   'Phasec Fpz 51.724137931',\n",
        "   'Phasec Fpz 52.2030651341',\n",
        "   'Phasec Fpz 52.6819923372',\n",
        "   'Phasec Fpz 53.1609195402',\n",
        "   'Phasec Fpz 53.6398467433',\n",
        "   'Phasec Fpz 54.1187739464',\n",
        "   'Phasec Fpz 54.5977011494',\n",
        "   'Phasec Fpz 55.0766283525',\n",
        "   'Phasec Fpz 55.5555555556',\n",
        "   'Phasec Fpz 56.0344827586',\n",
        "   'Phasec Fpz 56.5134099617',\n",
        "   'Phasec Fpz 56.9923371648',\n",
        "   'Phasec Fpz 57.4712643678',\n",
        "   'Phasec Fpz 57.9501915709',\n",
        "   'Phasec Fpz 58.4291187739',\n",
        "   'Phasec Fpz 58.908045977',\n",
        "   'Phasec Fpz 59.3869731801',\n",
        "   'Phasec Fpz 59.8659003831',\n",
        "   'Phasec Fpz 60.3448275862',\n",
        "   'Phasec Fpz 60.8237547893',\n",
        "   'Phasec Fpz 61.3026819923',\n",
        "   'Phasec Fpz 61.7816091954',\n",
        "   'Phasec Fp2 0.478927203065',\n",
        "   'Phasec Fp2 0.95785440613',\n",
        "   'Phasec Fp2 1.4367816092',\n",
        "   'Phasec Fp2 1.91570881226',\n",
        "   'Phasec Fp2 2.39463601533',\n",
        "   'Phasec Fp2 2.87356321839',\n",
        "   'Phasec Fp2 3.35249042146',\n",
        "   'Phasec Fp2 3.83141762452',\n",
        "   'Phasec Fp2 4.31034482759',\n",
        "   'Phasec Fp2 4.78927203065',\n",
        "   'Phasec Fp2 5.26819923372',\n",
        "   'Phasec Fp2 5.74712643678',\n",
        "   'Phasec Fp2 6.22605363985',\n",
        "   'Phasec Fp2 6.70498084291',\n",
        "   'Phasec Fp2 7.18390804598',\n",
        "   'Phasec Fp2 7.66283524904',\n",
        "   'Phasec Fp2 8.14176245211',\n",
        "   'Phasec Fp2 8.62068965517',\n",
        "   'Phasec Fp2 9.09961685824',\n",
        "   'Phasec Fp2 9.5785440613',\n",
        "   'Phasec Fp2 10.0574712644',\n",
        "   'Phasec Fp2 10.5363984674',\n",
        "   'Phasec Fp2 11.0153256705',\n",
        "   'Phasec Fp2 11.4942528736',\n",
        "   'Phasec Fp2 11.9731800766',\n",
        "   'Phasec Fp2 12.4521072797',\n",
        "   'Phasec Fp2 12.9310344828',\n",
        "   'Phasec Fp2 13.4099616858',\n",
        "   'Phasec Fp2 13.8888888889',\n",
        "   'Phasec Fp2 14.367816092',\n",
        "   'Phasec Fp2 14.846743295',\n",
        "   'Phasec Fp2 15.3256704981',\n",
        "   'Phasec Fp2 15.8045977011',\n",
        "   'Phasec Fp2 16.2835249042',\n",
        "   'Phasec Fp2 16.7624521073',\n",
        "   'Phasec Fp2 17.2413793103',\n",
        "   'Phasec Fp2 17.7203065134',\n",
        "   'Phasec Fp2 18.1992337165',\n",
        "   'Phasec Fp2 18.6781609195',\n",
        "   'Phasec Fp2 19.1570881226',\n",
        "   'Phasec Fp2 19.6360153257',\n",
        "   'Phasec Fp2 20.1149425287',\n",
        "   'Phasec Fp2 20.5938697318',\n",
        "   'Phasec Fp2 21.0727969349',\n",
        "   'Phasec Fp2 21.5517241379',\n",
        "   'Phasec Fp2 22.030651341',\n",
        "   'Phasec Fp2 22.5095785441',\n",
        "   'Phasec Fp2 22.9885057471',\n",
        "   'Phasec Fp2 23.4674329502',\n",
        "   'Phasec Fp2 23.9463601533',\n",
        "   'Phasec Fp2 24.4252873563',\n",
        "   'Phasec Fp2 24.9042145594',\n",
        "   'Phasec Fp2 25.3831417625',\n",
        "   'Phasec Fp2 25.8620689655',\n",
        "   'Phasec Fp2 26.3409961686',\n",
        "   'Phasec Fp2 26.8199233716',\n",
        "   'Phasec Fp2 27.2988505747',\n",
        "   'Phasec Fp2 27.7777777778',\n",
        "   'Phasec Fp2 28.2567049808',\n",
        "   'Phasec Fp2 28.7356321839',\n",
        "   'Phasec Fp2 29.214559387',\n",
        "   'Phasec Fp2 29.69348659',\n",
        "   'Phasec Fp2 30.1724137931',\n",
        "   'Phasec Fp2 30.6513409962',\n",
        "   'Phasec Fp2 31.1302681992',\n",
        "   'Phasec Fp2 31.6091954023',\n",
        "   'Phasec Fp2 32.0881226054',\n",
        "   'Phasec Fp2 32.5670498084',\n",
        "   'Phasec Fp2 33.0459770115',\n",
        "   'Phasec Fp2 33.5249042146',\n",
        "   'Phasec Fp2 34.0038314176',\n",
        "   'Phasec Fp2 34.4827586207',\n",
        "   'Phasec Fp2 34.9616858238',\n",
        "   'Phasec Fp2 35.4406130268',\n",
        "   'Phasec Fp2 35.9195402299',\n",
        "   'Phasec Fp2 36.398467433',\n",
        "   'Phasec Fp2 36.877394636',\n",
        "   'Phasec Fp2 37.3563218391',\n",
        "   'Phasec Fp2 37.8352490421',\n",
        "   'Phasec Fp2 38.3141762452',\n",
        "   'Phasec Fp2 38.7931034483',\n",
        "   'Phasec Fp2 39.2720306513',\n",
        "   'Phasec Fp2 39.7509578544',\n",
        "   'Phasec Fp2 40.2298850575',\n",
        "   'Phasec Fp2 40.7088122605',\n",
        "   'Phasec Fp2 41.1877394636',\n",
        "   'Phasec Fp2 41.6666666667',\n",
        "   'Phasec Fp2 42.1455938697',\n",
        "   'Phasec Fp2 42.6245210728',\n",
        "   'Phasec Fp2 43.1034482759',\n",
        "   'Phasec Fp2 43.5823754789',\n",
        "   'Phasec Fp2 44.061302682',\n",
        "   'Phasec Fp2 44.5402298851',\n",
        "   'Phasec Fp2 45.0191570881',\n",
        "   'Phasec Fp2 45.4980842912',\n",
        "   'Phasec Fp2 45.9770114943',\n",
        "   'Phasec Fp2 46.4559386973',\n",
        "   'Phasec Fp2 46.9348659004',\n",
        "   'Phasec Fp2 47.4137931034',\n",
        "   'Phasec Fp2 47.8927203065',\n",
        "   'Phasec Fp2 48.3716475096',\n",
        "   'Phasec Fp2 48.8505747126',\n",
        "   'Phasec Fp2 49.3295019157',\n",
        "   'Phasec Fp2 49.8084291188',\n",
        "   'Phasec Fp2 50.2873563218',\n",
        "   'Phasec Fp2 50.7662835249',\n",
        "   'Phasec Fp2 51.245210728',\n",
        "   'Phasec Fp2 51.724137931',\n",
        "   'Phasec Fp2 52.2030651341',\n",
        "   'Phasec Fp2 52.6819923372',\n",
        "   'Phasec Fp2 53.1609195402',\n",
        "   'Phasec Fp2 53.6398467433',\n",
        "   'Phasec Fp2 54.1187739464',\n",
        "   'Phasec Fp2 54.5977011494',\n",
        "   'Phasec Fp2 55.0766283525',\n",
        "   'Phasec Fp2 55.5555555556',\n",
        "   'Phasec Fp2 56.0344827586',\n",
        "   'Phasec Fp2 56.5134099617',\n",
        "   'Phasec Fp2 56.9923371648',\n",
        "   'Phasec Fp2 57.4712643678',\n",
        "   'Phasec Fp2 57.9501915709',\n",
        "   'Phasec Fp2 58.4291187739',\n",
        "   'Phasec Fp2 58.908045977',\n",
        "   'Phasec Fp2 59.3869731801',\n",
        "   'Phasec Fp2 59.8659003831',\n",
        "   'Phasec Fp2 60.3448275862',\n",
        "   'Phasec Fp2 60.8237547893',\n",
        "   'Phasec Fp2 61.3026819923',\n",
        "   'Phasec Fp2 61.7816091954',\n",
        "   'Phasec AFp3h 0.478927203065',\n",
        "   'Phasec AFp3h 0.95785440613',\n",
        "   'Phasec AFp3h 1.4367816092',\n",
        "   'Phasec AFp3h 1.91570881226',\n",
        "   'Phasec AFp3h 2.39463601533',\n",
        "   'Phasec AFp3h 2.87356321839',\n",
        "   'Phasec AFp3h 3.35249042146',\n",
        "   'Phasec AFp3h 3.83141762452',\n",
        "   'Phasec AFp3h 4.31034482759',\n",
        "   'Phasec AFp3h 4.78927203065',\n",
        "   'Phasec AFp3h 5.26819923372',\n",
        "   'Phasec AFp3h 5.74712643678',\n",
        "   'Phasec AFp3h 6.22605363985',\n",
        "   'Phasec AFp3h 6.70498084291',\n",
        "   'Phasec AFp3h 7.18390804598',\n",
        "   'Phasec AFp3h 7.66283524904',\n",
        "   'Phasec AFp3h 8.14176245211',\n",
        "   'Phasec AFp3h 8.62068965517',\n",
        "   'Phasec AFp3h 9.09961685824',\n",
        "   'Phasec AFp3h 9.5785440613',\n",
        "   'Phasec AFp3h 10.0574712644',\n",
        "   'Phasec AFp3h 10.5363984674',\n",
        "   'Phasec AFp3h 11.0153256705',\n",
        "   'Phasec AFp3h 11.4942528736',\n",
        "   'Phasec AFp3h 11.9731800766',\n",
        "   'Phasec AFp3h 12.4521072797',\n",
        "   'Phasec AFp3h 12.9310344828',\n",
        "   'Phasec AFp3h 13.4099616858',\n",
        "   'Phasec AFp3h 13.8888888889',\n",
        "   'Phasec AFp3h 14.367816092',\n",
        "   'Phasec AFp3h 14.846743295',\n",
        "   'Phasec AFp3h 15.3256704981',\n",
        "   'Phasec AFp3h 15.8045977011',\n",
        "   'Phasec AFp3h 16.2835249042',\n",
        "   'Phasec AFp3h 16.7624521073',\n",
        "   'Phasec AFp3h 17.2413793103',\n",
        "   'Phasec AFp3h 17.7203065134',\n",
        "   'Phasec AFp3h 18.1992337165',\n",
        "   'Phasec AFp3h 18.6781609195',\n",
        "   'Phasec AFp3h 19.1570881226',\n",
        "   'Phasec AFp3h 19.6360153257',\n",
        "   'Phasec AFp3h 20.1149425287',\n",
        "   'Phasec AFp3h 20.5938697318',\n",
        "   'Phasec AFp3h 21.0727969349',\n",
        "   'Phasec AFp3h 21.5517241379',\n",
        "   'Phasec AFp3h 22.030651341',\n",
        "   'Phasec AFp3h 22.5095785441',\n",
        "   'Phasec AFp3h 22.9885057471',\n",
        "   'Phasec AFp3h 23.4674329502',\n",
        "   'Phasec AFp3h 23.9463601533',\n",
        "   'Phasec AFp3h 24.4252873563',\n",
        "   'Phasec AFp3h 24.9042145594',\n",
        "   'Phasec AFp3h 25.3831417625',\n",
        "   'Phasec AFp3h 25.8620689655',\n",
        "   'Phasec AFp3h 26.3409961686',\n",
        "   'Phasec AFp3h 26.8199233716',\n",
        "   'Phasec AFp3h 27.2988505747',\n",
        "   'Phasec AFp3h 27.7777777778',\n",
        "   'Phasec AFp3h 28.2567049808',\n",
        "   'Phasec AFp3h 28.7356321839',\n",
        "   'Phasec AFp3h 29.214559387',\n",
        "   'Phasec AFp3h 29.69348659',\n",
        "   'Phasec AFp3h 30.1724137931',\n",
        "   'Phasec AFp3h 30.6513409962',\n",
        "   'Phasec AFp3h 31.1302681992',\n",
        "   'Phasec AFp3h 31.6091954023',\n",
        "   'Phasec AFp3h 32.0881226054',\n",
        "   'Phasec AFp3h 32.5670498084',\n",
        "   'Phasec AFp3h 33.0459770115',\n",
        "   'Phasec AFp3h 33.5249042146',\n",
        "   'Phasec AFp3h 34.0038314176',\n",
        "   'Phasec AFp3h 34.4827586207',\n",
        "   'Phasec AFp3h 34.9616858238',\n",
        "   'Phasec AFp3h 35.4406130268',\n",
        "   'Phasec AFp3h 35.9195402299',\n",
        "   'Phasec AFp3h 36.398467433',\n",
        "   'Phasec AFp3h 36.877394636',\n",
        "   'Phasec AFp3h 37.3563218391',\n",
        "   'Phasec AFp3h 37.8352490421',\n",
        "   'Phasec AFp3h 38.3141762452',\n",
        "   'Phasec AFp3h 38.7931034483',\n",
        "   'Phasec AFp3h 39.2720306513',\n",
        "   'Phasec AFp3h 39.7509578544',\n",
        "   'Phasec AFp3h 40.2298850575',\n",
        "   'Phasec AFp3h 40.7088122605',\n",
        "   'Phasec AFp3h 41.1877394636',\n",
        "   'Phasec AFp3h 41.6666666667',\n",
        "   'Phasec AFp3h 42.1455938697',\n",
        "   'Phasec AFp3h 42.6245210728',\n",
        "   'Phasec AFp3h 43.1034482759',\n",
        "   'Phasec AFp3h 43.5823754789',\n",
        "   'Phasec AFp3h 44.061302682',\n",
        "   'Phasec AFp3h 44.5402298851',\n",
        "   'Phasec AFp3h 45.0191570881',\n",
        "   'Phasec AFp3h 45.4980842912',\n",
        "   'Phasec AFp3h 45.9770114943',\n",
        "   'Phasec AFp3h 46.4559386973',\n",
        "   'Phasec AFp3h 46.9348659004',\n",
        "   'Phasec AFp3h 47.4137931034',\n",
        "   'Phasec AFp3h 47.8927203065',\n",
        "   'Phasec AFp3h 48.3716475096',\n",
        "   'Phasec AFp3h 48.8505747126',\n",
        "   'Phasec AFp3h 49.3295019157',\n",
        "   'Phasec AFp3h 49.8084291188',\n",
        "   'Phasec AFp3h 50.2873563218',\n",
        "   'Phasec AFp3h 50.7662835249',\n",
        "   'Phasec AFp3h 51.245210728',\n",
        "   'Phasec AFp3h 51.724137931',\n",
        "   'Phasec AFp3h 52.2030651341',\n",
        "   'Phasec AFp3h 52.6819923372',\n",
        "   'Phasec AFp3h 53.1609195402',\n",
        "   'Phasec AFp3h 53.6398467433',\n",
        "   'Phasec AFp3h 54.1187739464',\n",
        "   'Phasec AFp3h 54.5977011494',\n",
        "   'Phasec AFp3h 55.0766283525',\n",
        "   'Phasec AFp3h 55.5555555556',\n",
        "   'Phasec AFp3h 56.0344827586',\n",
        "   'Phasec AFp3h 56.5134099617',\n",
        "   'Phasec AFp3h 56.9923371648',\n",
        "   'Phasec AFp3h 57.4712643678',\n",
        "   'Phasec AFp3h 57.9501915709',\n",
        "   'Phasec AFp3h 58.4291187739',\n",
        "   'Phasec AFp3h 58.908045977',\n",
        "   'Phasec AFp3h 59.3869731801',\n",
        "   'Phasec AFp3h 59.8659003831',\n",
        "   'Phasec AFp3h 60.3448275862',\n",
        "   'Phasec AFp3h 60.8237547893',\n",
        "   'Phasec AFp3h 61.3026819923',\n",
        "   'Phasec AFp3h 61.7816091954',\n",
        "   'Phasec AFp4h 0.478927203065',\n",
        "   'Phasec AFp4h 0.95785440613',\n",
        "   'Phasec AFp4h 1.4367816092',\n",
        "   'Phasec AFp4h 1.91570881226',\n",
        "   'Phasec AFp4h 2.39463601533',\n",
        "   'Phasec AFp4h 2.87356321839',\n",
        "   'Phasec AFp4h 3.35249042146',\n",
        "   'Phasec AFp4h 3.83141762452',\n",
        "   'Phasec AFp4h 4.31034482759',\n",
        "   'Phasec AFp4h 4.78927203065',\n",
        "   'Phasec AFp4h 5.26819923372',\n",
        "   'Phasec AFp4h 5.74712643678',\n",
        "   'Phasec AFp4h 6.22605363985',\n",
        "   'Phasec AFp4h 6.70498084291',\n",
        "   'Phasec AFp4h 7.18390804598',\n",
        "   'Phasec AFp4h 7.66283524904',\n",
        "   'Phasec AFp4h 8.14176245211',\n",
        "   'Phasec AFp4h 8.62068965517',\n",
        "   'Phasec AFp4h 9.09961685824',\n",
        "   'Phasec AFp4h 9.5785440613',\n",
        "   'Phasec AFp4h 10.0574712644',\n",
        "   'Phasec AFp4h 10.5363984674',\n",
        "   'Phasec AFp4h 11.0153256705',\n",
        "   'Phasec AFp4h 11.4942528736',\n",
        "   'Phasec AFp4h 11.9731800766',\n",
        "   'Phasec AFp4h 12.4521072797',\n",
        "   'Phasec AFp4h 12.9310344828',\n",
        "   'Phasec AFp4h 13.4099616858',\n",
        "   'Phasec AFp4h 13.8888888889',\n",
        "   'Phasec AFp4h 14.367816092',\n",
        "   'Phasec AFp4h 14.846743295',\n",
        "   'Phasec AFp4h 15.3256704981',\n",
        "   'Phasec AFp4h 15.8045977011',\n",
        "   'Phasec AFp4h 16.2835249042',\n",
        "   'Phasec AFp4h 16.7624521073',\n",
        "   'Phasec AFp4h 17.2413793103',\n",
        "   'Phasec AFp4h 17.7203065134',\n",
        "   'Phasec AFp4h 18.1992337165',\n",
        "   'Phasec AFp4h 18.6781609195',\n",
        "   'Phasec AFp4h 19.1570881226',\n",
        "   'Phasec AFp4h 19.6360153257',\n",
        "   'Phasec AFp4h 20.1149425287',\n",
        "   'Phasec AFp4h 20.5938697318',\n",
        "   'Phasec AFp4h 21.0727969349',\n",
        "   'Phasec AFp4h 21.5517241379',\n",
        "   'Phasec AFp4h 22.030651341',\n",
        "   'Phasec AFp4h 22.5095785441',\n",
        "   'Phasec AFp4h 22.9885057471',\n",
        "   'Phasec AFp4h 23.4674329502',\n",
        "   'Phasec AFp4h 23.9463601533',\n",
        "   'Phasec AFp4h 24.4252873563',\n",
        "   'Phasec AFp4h 24.9042145594',\n",
        "   'Phasec AFp4h 25.3831417625',\n",
        "   'Phasec AFp4h 25.8620689655',\n",
        "   'Phasec AFp4h 26.3409961686',\n",
        "   'Phasec AFp4h 26.8199233716',\n",
        "   'Phasec AFp4h 27.2988505747',\n",
        "   'Phasec AFp4h 27.7777777778',\n",
        "   'Phasec AFp4h 28.2567049808',\n",
        "   'Phasec AFp4h 28.7356321839',\n",
        "   'Phasec AFp4h 29.214559387',\n",
        "   'Phasec AFp4h 29.69348659',\n",
        "   'Phasec AFp4h 30.1724137931',\n",
        "   'Phasec AFp4h 30.6513409962',\n",
        "   'Phasec AFp4h 31.1302681992',\n",
        "   'Phasec AFp4h 31.6091954023',\n",
        "   'Phasec AFp4h 32.0881226054',\n",
        "   'Phasec AFp4h 32.5670498084',\n",
        "   'Phasec AFp4h 33.0459770115',\n",
        "   'Phasec AFp4h 33.5249042146',\n",
        "   'Phasec AFp4h 34.0038314176',\n",
        "   'Phasec AFp4h 34.4827586207',\n",
        "   'Phasec AFp4h 34.9616858238',\n",
        "   'Phasec AFp4h 35.4406130268',\n",
        "   'Phasec AFp4h 35.9195402299',\n",
        "   'Phasec AFp4h 36.398467433',\n",
        "   'Phasec AFp4h 36.877394636',\n",
        "   'Phasec AFp4h 37.3563218391',\n",
        "   'Phasec AFp4h 37.8352490421',\n",
        "   'Phasec AFp4h 38.3141762452',\n",
        "   'Phasec AFp4h 38.7931034483',\n",
        "   'Phasec AFp4h 39.2720306513',\n",
        "   'Phasec AFp4h 39.7509578544',\n",
        "   'Phasec AFp4h 40.2298850575',\n",
        "   'Phasec AFp4h 40.7088122605',\n",
        "   'Phasec AFp4h 41.1877394636',\n",
        "   'Phasec AFp4h 41.6666666667',\n",
        "   'Phasec AFp4h 42.1455938697',\n",
        "   'Phasec AFp4h 42.6245210728',\n",
        "   'Phasec AFp4h 43.1034482759',\n",
        "   'Phasec AFp4h 43.5823754789',\n",
        "   'Phasec AFp4h 44.061302682',\n",
        "   'Phasec AFp4h 44.5402298851',\n",
        "   'Phasec AFp4h 45.0191570881',\n",
        "   'Phasec AFp4h 45.4980842912',\n",
        "   'Phasec AFp4h 45.9770114943',\n",
        "   'Phasec AFp4h 46.4559386973',\n",
        "   'Phasec AFp4h 46.9348659004',\n",
        "   'Phasec AFp4h 47.4137931034',\n",
        "   'Phasec AFp4h 47.8927203065',\n",
        "   'Phasec AFp4h 48.3716475096',\n",
        "   'Phasec AFp4h 48.8505747126',\n",
        "   'Phasec AFp4h 49.3295019157',\n",
        "   'Phasec AFp4h 49.8084291188',\n",
        "   'Phasec AFp4h 50.2873563218',\n",
        "   'Phasec AFp4h 50.7662835249',\n",
        "   'Phasec AFp4h 51.245210728',\n",
        "   'Phasec AFp4h 51.724137931',\n",
        "   'Phasec AFp4h 52.2030651341',\n",
        "   'Phasec AFp4h 52.6819923372',\n",
        "   'Phasec AFp4h 53.1609195402',\n",
        "   'Phasec AFp4h 53.6398467433',\n",
        "   'Phasec AFp4h 54.1187739464',\n",
        "   'Phasec AFp4h 54.5977011494',\n",
        "   'Phasec AFp4h 55.0766283525',\n",
        "   'Phasec AFp4h 55.5555555556',\n",
        "   'Phasec AFp4h 56.0344827586',\n",
        "   'Phasec AFp4h 56.5134099617',\n",
        "   'Phasec AFp4h 56.9923371648',\n",
        "   'Phasec AFp4h 57.4712643678',\n",
        "   'Phasec AFp4h 57.9501915709',\n",
        "   'Phasec AFp4h 58.4291187739',\n",
        "   'Phasec AFp4h 58.908045977',\n",
        "   'Phasec AFp4h 59.3869731801',\n",
        "   'Phasec AFp4h 59.8659003831',\n",
        "   'Phasec AFp4h 60.3448275862',\n",
        "   'Phasec AFp4h 60.8237547893',\n",
        "   'Phasec AFp4h 61.3026819923',\n",
        "   'Phasec AFp4h 61.7816091954',\n",
        "   'Phasec AF7 0.478927203065',\n",
        "   'Phasec AF7 0.95785440613',\n",
        "   'Phasec AF7 1.4367816092',\n",
        "   'Phasec AF7 1.91570881226',\n",
        "   'Phasec AF7 2.39463601533',\n",
        "   'Phasec AF7 2.87356321839',\n",
        "   'Phasec AF7 3.35249042146',\n",
        "   'Phasec AF7 3.83141762452',\n",
        "   'Phasec AF7 4.31034482759',\n",
        "   'Phasec AF7 4.78927203065',\n",
        "   'Phasec AF7 5.26819923372',\n",
        "   'Phasec AF7 5.74712643678',\n",
        "   'Phasec AF7 6.22605363985',\n",
        "   'Phasec AF7 6.70498084291',\n",
        "   'Phasec AF7 7.18390804598',\n",
        "   'Phasec AF7 7.66283524904',\n",
        "   'Phasec AF7 8.14176245211',\n",
        "   'Phasec AF7 8.62068965517',\n",
        "   'Phasec AF7 9.09961685824',\n",
        "   'Phasec AF7 9.5785440613',\n",
        "   'Phasec AF7 10.0574712644',\n",
        "   'Phasec AF7 10.5363984674',\n",
        "   'Phasec AF7 11.0153256705',\n",
        "   'Phasec AF7 11.4942528736',\n",
        "   'Phasec AF7 11.9731800766',\n",
        "   'Phasec AF7 12.4521072797',\n",
        "   'Phasec AF7 12.9310344828',\n",
        "   'Phasec AF7 13.4099616858',\n",
        "   'Phasec AF7 13.8888888889',\n",
        "   'Phasec AF7 14.367816092',\n",
        "   'Phasec AF7 14.846743295',\n",
        "   'Phasec AF7 15.3256704981',\n",
        "   'Phasec AF7 15.8045977011',\n",
        "   'Phasec AF7 16.2835249042',\n",
        "   'Phasec AF7 16.7624521073',\n",
        "   'Phasec AF7 17.2413793103',\n",
        "   'Phasec AF7 17.7203065134',\n",
        "   'Phasec AF7 18.1992337165',\n",
        "   'Phasec AF7 18.6781609195',\n",
        "   'Phasec AF7 19.1570881226',\n",
        "   'Phasec AF7 19.6360153257',\n",
        "   'Phasec AF7 20.1149425287',\n",
        "   'Phasec AF7 20.5938697318',\n",
        "   'Phasec AF7 21.0727969349',\n",
        "   'Phasec AF7 21.5517241379',\n",
        "   'Phasec AF7 22.030651341',\n",
        "   'Phasec AF7 22.5095785441',\n",
        "   'Phasec AF7 22.9885057471',\n",
        "   'Phasec AF7 23.4674329502',\n",
        "   'Phasec AF7 23.9463601533',\n",
        "   'Phasec AF7 24.4252873563',\n",
        "   'Phasec AF7 24.9042145594',\n",
        "   'Phasec AF7 25.3831417625',\n",
        "   'Phasec AF7 25.8620689655',\n",
        "   'Phasec AF7 26.3409961686',\n",
        "   'Phasec AF7 26.8199233716',\n",
        "   'Phasec AF7 27.2988505747',\n",
        "   'Phasec AF7 27.7777777778',\n",
        "   'Phasec AF7 28.2567049808',\n",
        "   'Phasec AF7 28.7356321839',\n",
        "   'Phasec AF7 29.214559387',\n",
        "   'Phasec AF7 29.69348659',\n",
        "   'Phasec AF7 30.1724137931',\n",
        "   'Phasec AF7 30.6513409962',\n",
        "   'Phasec AF7 31.1302681992',\n",
        "   'Phasec AF7 31.6091954023',\n",
        "   'Phasec AF7 32.0881226054',\n",
        "   'Phasec AF7 32.5670498084',\n",
        "   'Phasec AF7 33.0459770115',\n",
        "   'Phasec AF7 33.5249042146',\n",
        "   'Phasec AF7 34.0038314176',\n",
        "   'Phasec AF7 34.4827586207',\n",
        "   'Phasec AF7 34.9616858238',\n",
        "   'Phasec AF7 35.4406130268',\n",
        "   'Phasec AF7 35.9195402299',\n",
        "   'Phasec AF7 36.398467433',\n",
        "   'Phasec AF7 36.877394636',\n",
        "   'Phasec AF7 37.3563218391',\n",
        "   'Phasec AF7 37.8352490421',\n",
        "   'Phasec AF7 38.3141762452',\n",
        "   'Phasec AF7 38.7931034483',\n",
        "   'Phasec AF7 39.2720306513',\n",
        "   'Phasec AF7 39.7509578544',\n",
        "   'Phasec AF7 40.2298850575',\n",
        "   'Phasec AF7 40.7088122605',\n",
        "   'Phasec AF7 41.1877394636',\n",
        "   'Phasec AF7 41.6666666667',\n",
        "   'Phasec AF7 42.1455938697',\n",
        "   'Phasec AF7 42.6245210728',\n",
        "   'Phasec AF7 43.1034482759',\n",
        "   'Phasec AF7 43.5823754789',\n",
        "   'Phasec AF7 44.061302682',\n",
        "   'Phasec AF7 44.5402298851',\n",
        "   'Phasec AF7 45.0191570881',\n",
        "   'Phasec AF7 45.4980842912',\n",
        "   'Phasec AF7 45.9770114943',\n",
        "   'Phasec AF7 46.4559386973',\n",
        "   'Phasec AF7 46.9348659004',\n",
        "   'Phasec AF7 47.4137931034',\n",
        "   'Phasec AF7 47.8927203065',\n",
        "   'Phasec AF7 48.3716475096',\n",
        "   'Phasec AF7 48.8505747126',\n",
        "   'Phasec AF7 49.3295019157',\n",
        "   'Phasec AF7 49.8084291188',\n",
        "   'Phasec AF7 50.2873563218',\n",
        "   'Phasec AF7 50.7662835249',\n",
        "   'Phasec AF7 51.245210728',\n",
        "   'Phasec AF7 51.724137931',\n",
        "   'Phasec AF7 52.2030651341',\n",
        "   'Phasec AF7 52.6819923372',\n",
        "   'Phasec AF7 53.1609195402',\n",
        "   'Phasec AF7 53.6398467433',\n",
        "   'Phasec AF7 54.1187739464',\n",
        "   'Phasec AF7 54.5977011494',\n",
        "   'Phasec AF7 55.0766283525',\n",
        "   'Phasec AF7 55.5555555556',\n",
        "   'Phasec AF7 56.0344827586',\n",
        "   'Phasec AF7 56.5134099617',\n",
        "   'Phasec AF7 56.9923371648',\n",
        "   'Phasec AF7 57.4712643678',\n",
        "   'Phasec AF7 57.9501915709',\n",
        "   'Phasec AF7 58.4291187739',\n",
        "   'Phasec AF7 58.908045977',\n",
        "   'Phasec AF7 59.3869731801',\n",
        "   'Phasec AF7 59.8659003831',\n",
        "   'Phasec AF7 60.3448275862',\n",
        "   'Phasec AF7 60.8237547893',\n",
        "   'Phasec AF7 61.3026819923',\n",
        "   'Phasec AF7 61.7816091954',\n",
        "   'Phasec AF3 0.478927203065',\n",
        "   'Phasec AF3 0.95785440613',\n",
        "   'Phasec AF3 1.4367816092',\n",
        "   'Phasec AF3 1.91570881226',\n",
        "   'Phasec AF3 2.39463601533',\n",
        "   'Phasec AF3 2.87356321839',\n",
        "   'Phasec AF3 3.35249042146',\n",
        "   'Phasec AF3 3.83141762452',\n",
        "   'Phasec AF3 4.31034482759',\n",
        "   'Phasec AF3 4.78927203065',\n",
        "   'Phasec AF3 5.26819923372',\n",
        "   'Phasec AF3 5.74712643678',\n",
        "   'Phasec AF3 6.22605363985',\n",
        "   'Phasec AF3 6.70498084291',\n",
        "   'Phasec AF3 7.18390804598',\n",
        "   'Phasec AF3 7.66283524904',\n",
        "   'Phasec AF3 8.14176245211',\n",
        "   'Phasec AF3 8.62068965517',\n",
        "   'Phasec AF3 9.09961685824',\n",
        "   'Phasec AF3 9.5785440613',\n",
        "   'Phasec AF3 10.0574712644',\n",
        "   'Phasec AF3 10.5363984674',\n",
        "   'Phasec AF3 11.0153256705',\n",
        "   'Phasec AF3 11.4942528736',\n",
        "   'Phasec AF3 11.9731800766',\n",
        "   'Phasec AF3 12.4521072797',\n",
        "   'Phasec AF3 12.9310344828',\n",
        "   'Phasec AF3 13.4099616858',\n",
        "   'Phasec AF3 13.8888888889',\n",
        "   'Phasec AF3 14.367816092',\n",
        "   'Phasec AF3 14.846743295',\n",
        "   'Phasec AF3 15.3256704981',\n",
        "   'Phasec AF3 15.8045977011',\n",
        "   'Phasec AF3 16.2835249042',\n",
        "   'Phasec AF3 16.7624521073',\n",
        "   'Phasec AF3 17.2413793103',\n",
        "   'Phasec AF3 17.7203065134',\n",
        "   'Phasec AF3 18.1992337165',\n",
        "   'Phasec AF3 18.6781609195',\n",
        "   'Phasec AF3 19.1570881226',\n",
        "   'Phasec AF3 19.6360153257',\n",
        "   'Phasec AF3 20.1149425287',\n",
        "   'Phasec AF3 20.5938697318',\n",
        "   'Phasec AF3 21.0727969349',\n",
        "   'Phasec AF3 21.5517241379',\n",
        "   'Phasec AF3 22.030651341',\n",
        "   'Phasec AF3 22.5095785441',\n",
        "   'Phasec AF3 22.9885057471',\n",
        "   'Phasec AF3 23.4674329502',\n",
        "   'Phasec AF3 23.9463601533',\n",
        "   'Phasec AF3 24.4252873563',\n",
        "   'Phasec AF3 24.9042145594',\n",
        "   'Phasec AF3 25.3831417625',\n",
        "   'Phasec AF3 25.8620689655',\n",
        "   'Phasec AF3 26.3409961686',\n",
        "   'Phasec AF3 26.8199233716',\n",
        "   'Phasec AF3 27.2988505747',\n",
        "   'Phasec AF3 27.7777777778',\n",
        "   'Phasec AF3 28.2567049808',\n",
        "   'Phasec AF3 28.7356321839',\n",
        "   'Phasec AF3 29.214559387',\n",
        "   'Phasec AF3 29.69348659',\n",
        "   'Phasec AF3 30.1724137931',\n",
        "   'Phasec AF3 30.6513409962',\n",
        "   'Phasec AF3 31.1302681992',\n",
        "   'Phasec AF3 31.6091954023',\n",
        "   'Phasec AF3 32.0881226054',\n",
        "   'Phasec AF3 32.5670498084',\n",
        "   'Phasec AF3 33.0459770115',\n",
        "   'Phasec AF3 33.5249042146',\n",
        "   'Phasec AF3 34.0038314176',\n",
        "   'Phasec AF3 34.4827586207',\n",
        "   'Phasec AF3 34.9616858238',\n",
        "   'Phasec AF3 35.4406130268',\n",
        "   'Phasec AF3 35.9195402299',\n",
        "   'Phasec AF3 36.398467433',\n",
        "   'Phasec AF3 36.877394636',\n",
        "   'Phasec AF3 37.3563218391',\n",
        "   'Phasec AF3 37.8352490421',\n",
        "   'Phasec AF3 38.3141762452',\n",
        "   'Phasec AF3 38.7931034483',\n",
        "   'Phasec AF3 39.2720306513',\n",
        "   'Phasec AF3 39.7509578544',\n",
        "   'Phasec AF3 40.2298850575',\n",
        "   'Phasec AF3 40.7088122605',\n",
        "   'Phasec AF3 41.1877394636',\n",
        "   'Phasec AF3 41.6666666667',\n",
        "   'Phasec AF3 42.1455938697',\n",
        "   'Phasec AF3 42.6245210728',\n",
        "   'Phasec AF3 43.1034482759',\n",
        "   'Phasec AF3 43.5823754789',\n",
        "   'Phasec AF3 44.061302682',\n",
        "   'Phasec AF3 44.5402298851',\n",
        "   'Phasec AF3 45.0191570881',\n",
        "   'Phasec AF3 45.4980842912',\n",
        "   'Phasec AF3 45.9770114943',\n",
        "   'Phasec AF3 46.4559386973',\n",
        "   'Phasec AF3 46.9348659004',\n",
        "   'Phasec AF3 47.4137931034',\n",
        "   'Phasec AF3 47.8927203065',\n",
        "   'Phasec AF3 48.3716475096',\n",
        "   'Phasec AF3 48.8505747126',\n",
        "   'Phasec AF3 49.3295019157',\n",
        "   'Phasec AF3 49.8084291188',\n",
        "   'Phasec AF3 50.2873563218',\n",
        "   'Phasec AF3 50.7662835249',\n",
        "   'Phasec AF3 51.245210728',\n",
        "   'Phasec AF3 51.724137931',\n",
        "   'Phasec AF3 52.2030651341',\n",
        "   'Phasec AF3 52.6819923372',\n",
        "   'Phasec AF3 53.1609195402',\n",
        "   'Phasec AF3 53.6398467433',\n",
        "   'Phasec AF3 54.1187739464',\n",
        "   'Phasec AF3 54.5977011494',\n",
        "   'Phasec AF3 55.0766283525',\n",
        "   'Phasec AF3 55.5555555556',\n",
        "   'Phasec AF3 56.0344827586',\n",
        "   'Phasec AF3 56.5134099617',\n",
        "   'Phasec AF3 56.9923371648',\n",
        "   'Phasec AF3 57.4712643678',\n",
        "   'Phasec AF3 57.9501915709',\n",
        "   'Phasec AF3 58.4291187739',\n",
        "   'Phasec AF3 58.908045977',\n",
        "   'Phasec AF3 59.3869731801',\n",
        "   'Phasec AF3 59.8659003831',\n",
        "   'Phasec AF3 60.3448275862',\n",
        "   'Phasec AF3 60.8237547893',\n",
        "   'Phasec AF3 61.3026819923',\n",
        "   'Phasec AF3 61.7816091954',\n",
        "   'Phasec AFz 0.478927203065',\n",
        "   'Phasec AFz 0.95785440613',\n",
        "   'Phasec AFz 1.4367816092',\n",
        "   'Phasec AFz 1.91570881226',\n",
        "   'Phasec AFz 2.39463601533',\n",
        "   'Phasec AFz 2.87356321839',\n",
        "   'Phasec AFz 3.35249042146',\n",
        "   'Phasec AFz 3.83141762452',\n",
        "   'Phasec AFz 4.31034482759',\n",
        "   'Phasec AFz 4.78927203065',\n",
        "   'Phasec AFz 5.26819923372',\n",
        "   'Phasec AFz 5.74712643678',\n",
        "   'Phasec AFz 6.22605363985',\n",
        "   'Phasec AFz 6.70498084291',\n",
        "   'Phasec AFz 7.18390804598',\n",
        "   'Phasec AFz 7.66283524904',\n",
        "   'Phasec AFz 8.14176245211',\n",
        "   'Phasec AFz 8.62068965517',\n",
        "   'Phasec AFz 9.09961685824',\n",
        "   'Phasec AFz 9.5785440613',\n",
        "   'Phasec AFz 10.0574712644',\n",
        "   'Phasec AFz 10.5363984674',\n",
        "   'Phasec AFz 11.0153256705',\n",
        "   'Phasec AFz 11.4942528736',\n",
        "   'Phasec AFz 11.9731800766',\n",
        "   'Phasec AFz 12.4521072797',\n",
        "   'Phasec AFz 12.9310344828',\n",
        "   'Phasec AFz 13.4099616858',\n",
        "   'Phasec AFz 13.8888888889',\n",
        "   'Phasec AFz 14.367816092',\n",
        "   'Phasec AFz 14.846743295',\n",
        "   'Phasec AFz 15.3256704981',\n",
        "   'Phasec AFz 15.8045977011',\n",
        "   'Phasec AFz 16.2835249042',\n",
        "   'Phasec AFz 16.7624521073',\n",
        "   'Phasec AFz 17.2413793103',\n",
        "   'Phasec AFz 17.7203065134',\n",
        "   'Phasec AFz 18.1992337165',\n",
        "   'Phasec AFz 18.6781609195',\n",
        "   'Phasec AFz 19.1570881226',\n",
        "   'Phasec AFz 19.6360153257',\n",
        "   'Phasec AFz 20.1149425287',\n",
        "   'Phasec AFz 20.5938697318',\n",
        "   'Phasec AFz 21.0727969349',\n",
        "   'Phasec AFz 21.5517241379',\n",
        "   'Phasec AFz 22.030651341',\n",
        "   'Phasec AFz 22.5095785441',\n",
        "   'Phasec AFz 22.9885057471',\n",
        "   'Phasec AFz 23.4674329502',\n",
        "   'Phasec AFz 23.9463601533',\n",
        "   'Phasec AFz 24.4252873563',\n",
        "   'Phasec AFz 24.9042145594',\n",
        "   'Phasec AFz 25.3831417625',\n",
        "   'Phasec AFz 25.8620689655',\n",
        "   'Phasec AFz 26.3409961686',\n",
        "   'Phasec AFz 26.8199233716',\n",
        "   'Phasec AFz 27.2988505747',\n",
        "   'Phasec AFz 27.7777777778',\n",
        "   'Phasec AFz 28.2567049808',\n",
        "   'Phasec AFz 28.7356321839',\n",
        "   'Phasec AFz 29.214559387',\n",
        "   'Phasec AFz 29.69348659',\n",
        "   'Phasec AFz 30.1724137931',\n",
        "   'Phasec AFz 30.6513409962',\n",
        "   'Phasec AFz 31.1302681992',\n",
        "   'Phasec AFz 31.6091954023',\n",
        "   'Phasec AFz 32.0881226054',\n",
        "   'Phasec AFz 32.5670498084',\n",
        "   'Phasec AFz 33.0459770115',\n",
        "   'Phasec AFz 33.5249042146',\n",
        "   'Phasec AFz 34.0038314176',\n",
        "   'Phasec AFz 34.4827586207',\n",
        "   'Phasec AFz 34.9616858238',\n",
        "   'Phasec AFz 35.4406130268',\n",
        "   'Phasec AFz 35.9195402299',\n",
        "   'Phasec AFz 36.398467433',\n",
        "   'Phasec AFz 36.877394636',\n",
        "   'Phasec AFz 37.3563218391',\n",
        "   'Phasec AFz 37.8352490421',\n",
        "   'Phasec AFz 38.3141762452',\n",
        "   'Phasec AFz 38.7931034483',\n",
        "   'Phasec AFz 39.2720306513',\n",
        "   'Phasec AFz 39.7509578544',\n",
        "   'Phasec AFz 40.2298850575',\n",
        "   'Phasec AFz 40.7088122605',\n",
        "   'Phasec AFz 41.1877394636',\n",
        "   'Phasec AFz 41.6666666667',\n",
        "   'Phasec AFz 42.1455938697',\n",
        "   'Phasec AFz 42.6245210728',\n",
        "   'Phasec AFz 43.1034482759',\n",
        "   'Phasec AFz 43.5823754789',\n",
        "   'Phasec AFz 44.061302682',\n",
        "   'Phasec AFz 44.5402298851',\n",
        "   'Phasec AFz 45.0191570881',\n",
        "   'Phasec AFz 45.4980842912',\n",
        "   'Phasec AFz 45.9770114943',\n",
        "   'Phasec AFz 46.4559386973',\n",
        "   ...],\n",
        "  ['Mean Fp1',\n",
        "   'Mean Fpz',\n",
        "   'Mean Fp2',\n",
        "   'Mean AFp3h',\n",
        "   'Mean AFp4h',\n",
        "   'Mean AF7',\n",
        "   'Mean AF3',\n",
        "   'Mean AFz',\n",
        "   'Mean AF4',\n",
        "   'Mean AF8',\n",
        "   'Mean AFF5h',\n",
        "   'Mean AFF1',\n",
        "   'Mean AFF2',\n",
        "   'Mean AFF6h',\n",
        "   'Mean F7',\n",
        "   'Mean F5',\n",
        "   'Mean F3',\n",
        "   'Mean F1',\n",
        "   'Mean Fz',\n",
        "   'Mean F2',\n",
        "   'Mean F4',\n",
        "   'Mean F6',\n",
        "   'Mean F8',\n",
        "   'Mean FFT7h',\n",
        "   'Mean FFC5h',\n",
        "   'Mean FFC3h',\n",
        "   'Mean FFC1h',\n",
        "   'Mean FFC2h',\n",
        "   'Mean FFC4h',\n",
        "   'Mean FFC6h',\n",
        "   'Mean FFT8h',\n",
        "   'Mean FT9',\n",
        "   'Mean FT7',\n",
        "   'Mean FC5',\n",
        "   'Mean FC3',\n",
        "   'Mean FC1',\n",
        "   'Mean FCz',\n",
        "   'Mean FC2',\n",
        "   'Mean FC4',\n",
        "   'Mean FC6',\n",
        "   'Mean FT8',\n",
        "   'Mean FT10',\n",
        "   'Mean FTT9h',\n",
        "   'Mean FTT7h',\n",
        "   'Mean FCC5h',\n",
        "   'Mean FCC3h',\n",
        "   'Mean FCC1h',\n",
        "   'Mean FCC2h',\n",
        "   'Mean FCC4h',\n",
        "   'Mean FCC6h',\n",
        "   'Mean FTT8h',\n",
        "   'Mean FTT10h',\n",
        "   'Mean M1',\n",
        "   'Mean T7',\n",
        "   'Mean C5',\n",
        "   'Mean C3',\n",
        "   'Mean C1',\n",
        "   'Mean Cz',\n",
        "   'Mean C2',\n",
        "   'Mean C4',\n",
        "   'Mean C6',\n",
        "   'Mean T8',\n",
        "   'Mean M2',\n",
        "   'Mean TTP7h',\n",
        "   'Mean CCP5h',\n",
        "   'Mean CCP3h',\n",
        "   'Mean CCP1h',\n",
        "   'Mean CCP2h',\n",
        "   'Mean CCP4h',\n",
        "   'Mean CCP6h',\n",
        "   'Mean TTP8h',\n",
        "   'Mean TP7',\n",
        "   'Mean CP5',\n",
        "   'Mean CP3',\n",
        "   'Mean CP1',\n",
        "   'Mean CPz',\n",
        "   'Mean CP2',\n",
        "   'Mean CP4',\n",
        "   'Mean CP6',\n",
        "   'Mean TP8',\n",
        "   'Mean TPP9h',\n",
        "   'Mean TPP7h',\n",
        "   'Mean CPP5h',\n",
        "   'Mean CPP3h',\n",
        "   'Mean CPP1h',\n",
        "   'Mean CPP2h',\n",
        "   'Mean CPP4h',\n",
        "   'Mean CPP6h',\n",
        "   'Mean TPP8h',\n",
        "   'Mean TPP10h',\n",
        "   'Mean P9',\n",
        "   'Mean P7',\n",
        "   'Mean P5',\n",
        "   'Mean P3',\n",
        "   'Mean P1',\n",
        "   'Mean Pz',\n",
        "   'Mean P2',\n",
        "   'Mean P4',\n",
        "   'Mean P6',\n",
        "   'Mean P8',\n",
        "   'Mean P10',\n",
        "   'Mean PPO9h',\n",
        "   'Mean PPO5h',\n",
        "   'Mean PPO1',\n",
        "   'Mean PPO2',\n",
        "   'Mean PPO6h',\n",
        "   'Mean PPO10h',\n",
        "   'Mean PO9',\n",
        "   'Mean PO7',\n",
        "   'Mean PO5',\n",
        "   'Mean PO3',\n",
        "   'Mean POz',\n",
        "   'Mean PO4',\n",
        "   'Mean PO6',\n",
        "   'Mean PO8',\n",
        "   'Mean PO10',\n",
        "   'Mean POO9h',\n",
        "   'Mean POO3h',\n",
        "   'Mean POO4h',\n",
        "   'Mean POO10h',\n",
        "   'Mean O1',\n",
        "   'Mean Oz',\n",
        "   'Mean O2',\n",
        "   'Mean OI1h',\n",
        "   'Mean OI2h',\n",
        "   'Mean I1',\n",
        "   'Mean Iz',\n",
        "   'Mean I2'],\n",
        "  ['Meanc Fp1',\n",
        "   'Meanc Fpz',\n",
        "   'Meanc Fp2',\n",
        "   'Meanc AFp3h',\n",
        "   'Meanc AFp4h',\n",
        "   'Meanc AF7',\n",
        "   'Meanc AF3',\n",
        "   'Meanc AFz',\n",
        "   'Meanc AF4',\n",
        "   'Meanc AF8',\n",
        "   'Meanc AFF5h',\n",
        "   'Meanc AFF1',\n",
        "   'Meanc AFF2',\n",
        "   'Meanc AFF6h',\n",
        "   'Meanc F7',\n",
        "   'Meanc F5',\n",
        "   'Meanc F3',\n",
        "   'Meanc F1',\n",
        "   'Meanc Fz',\n",
        "   'Meanc F2',\n",
        "   'Meanc F4',\n",
        "   'Meanc F6',\n",
        "   'Meanc F8',\n",
        "   'Meanc FFT7h',\n",
        "   'Meanc FFC5h',\n",
        "   'Meanc FFC3h',\n",
        "   'Meanc FFC1h',\n",
        "   'Meanc FFC2h',\n",
        "   'Meanc FFC4h',\n",
        "   'Meanc FFC6h',\n",
        "   'Meanc FFT8h',\n",
        "   'Meanc FT9',\n",
        "   'Meanc FT7',\n",
        "   'Meanc FC5',\n",
        "   'Meanc FC3',\n",
        "   'Meanc FC1',\n",
        "   'Meanc FCz',\n",
        "   'Meanc FC2',\n",
        "   'Meanc FC4',\n",
        "   'Meanc FC6',\n",
        "   'Meanc FT8',\n",
        "   'Meanc FT10',\n",
        "   'Meanc FTT9h',\n",
        "   'Meanc FTT7h',\n",
        "   'Meanc FCC5h',\n",
        "   'Meanc FCC3h',\n",
        "   'Meanc FCC1h',\n",
        "   'Meanc FCC2h',\n",
        "   'Meanc FCC4h',\n",
        "   'Meanc FCC6h',\n",
        "   'Meanc FTT8h',\n",
        "   'Meanc FTT10h',\n",
        "   'Meanc M1',\n",
        "   'Meanc T7',\n",
        "   'Meanc C5',\n",
        "   'Meanc C3',\n",
        "   'Meanc C1',\n",
        "   'Meanc Cz',\n",
        "   'Meanc C2',\n",
        "   'Meanc C4',\n",
        "   'Meanc C6',\n",
        "   'Meanc T8',\n",
        "   'Meanc M2',\n",
        "   'Meanc TTP7h',\n",
        "   'Meanc CCP5h',\n",
        "   'Meanc CCP3h',\n",
        "   'Meanc CCP1h',\n",
        "   'Meanc CCP2h',\n",
        "   'Meanc CCP4h',\n",
        "   'Meanc CCP6h',\n",
        "   'Meanc TTP8h',\n",
        "   'Meanc TP7',\n",
        "   'Meanc CP5',\n",
        "   'Meanc CP3',\n",
        "   'Meanc CP1',\n",
        "   'Meanc CPz',\n",
        "   'Meanc CP2',\n",
        "   'Meanc CP4',\n",
        "   'Meanc CP6',\n",
        "   'Meanc TP8',\n",
        "   'Meanc TPP9h',\n",
        "   'Meanc TPP7h',\n",
        "   'Meanc CPP5h',\n",
        "   'Meanc CPP3h',\n",
        "   'Meanc CPP1h',\n",
        "   'Meanc CPP2h',\n",
        "   'Meanc CPP4h',\n",
        "   'Meanc CPP6h',\n",
        "   'Meanc TPP8h',\n",
        "   'Meanc TPP10h',\n",
        "   'Meanc P9',\n",
        "   'Meanc P7',\n",
        "   'Meanc P5',\n",
        "   'Meanc P3',\n",
        "   'Meanc P1',\n",
        "   'Meanc Pz',\n",
        "   'Meanc P2',\n",
        "   'Meanc P4',\n",
        "   'Meanc P6',\n",
        "   'Meanc P8',\n",
        "   'Meanc P10',\n",
        "   'Meanc PPO9h',\n",
        "   'Meanc PPO5h',\n",
        "   'Meanc PPO1',\n",
        "   'Meanc PPO2',\n",
        "   'Meanc PPO6h',\n",
        "   'Meanc PPO10h',\n",
        "   'Meanc PO9',\n",
        "   'Meanc PO7',\n",
        "   'Meanc PO5',\n",
        "   'Meanc PO3',\n",
        "   'Meanc POz',\n",
        "   'Meanc PO4',\n",
        "   'Meanc PO6',\n",
        "   'Meanc PO8',\n",
        "   'Meanc PO10',\n",
        "   'Meanc POO9h',\n",
        "   'Meanc POO3h',\n",
        "   'Meanc POO4h',\n",
        "   'Meanc POO10h',\n",
        "   'Meanc O1',\n",
        "   'Meanc Oz',\n",
        "   'Meanc O2',\n",
        "   'Meanc OI1h',\n",
        "   'Meanc OI2h',\n",
        "   'Meanc I1',\n",
        "   'Meanc Iz',\n",
        "   'Meanc I2'],\n",
        "  ['Power Fp1',\n",
        "   'Power Fpz',\n",
        "   'Power Fp2',\n",
        "   'Power AFp3h',\n",
        "   'Power AFp4h',\n",
        "   'Power AF7',\n",
        "   'Power AF3',\n",
        "   'Power AFz',\n",
        "   'Power AF4',\n",
        "   'Power AF8',\n",
        "   'Power AFF5h',\n",
        "   'Power AFF1',\n",
        "   'Power AFF2',\n",
        "   'Power AFF6h',\n",
        "   'Power F7',\n",
        "   'Power F5',\n",
        "   'Power F3',\n",
        "   'Power F1',\n",
        "   'Power Fz',\n",
        "   'Power F2',\n",
        "   'Power F4',\n",
        "   'Power F6',\n",
        "   'Power F8',\n",
        "   'Power FFT7h',\n",
        "   'Power FFC5h',\n",
        "   'Power FFC3h',\n",
        "   'Power FFC1h',\n",
        "   'Power FFC2h',\n",
        "   'Power FFC4h',\n",
        "   'Power FFC6h',\n",
        "   'Power FFT8h',\n",
        "   'Power FT9',\n",
        "   'Power FT7',\n",
        "   'Power FC5',\n",
        "   'Power FC3',\n",
        "   'Power FC1',\n",
        "   'Power FCz',\n",
        "   'Power FC2',\n",
        "   'Power FC4',\n",
        "   'Power FC6',\n",
        "   'Power FT8',\n",
        "   'Power FT10',\n",
        "   'Power FTT9h',\n",
        "   'Power FTT7h',\n",
        "   'Power FCC5h',\n",
        "   'Power FCC3h',\n",
        "   'Power FCC1h',\n",
        "   'Power FCC2h',\n",
        "   'Power FCC4h',\n",
        "   'Power FCC6h',\n",
        "   'Power FTT8h',\n",
        "   'Power FTT10h',\n",
        "   'Power M1',\n",
        "   'Power T7',\n",
        "   'Power C5',\n",
        "   'Power C3',\n",
        "   'Power C1',\n",
        "   'Power Cz',\n",
        "   'Power C2',\n",
        "   'Power C4',\n",
        "   'Power C6',\n",
        "   'Power T8',\n",
        "   'Power M2',\n",
        "   'Power TTP7h',\n",
        "   'Power CCP5h',\n",
        "   'Power CCP3h',\n",
        "   'Power CCP1h',\n",
        "   'Power CCP2h',\n",
        "   'Power CCP4h',\n",
        "   'Power CCP6h',\n",
        "   'Power TTP8h',\n",
        "   'Power TP7',\n",
        "   'Power CP5',\n",
        "   'Power CP3',\n",
        "   'Power CP1',\n",
        "   'Power CPz',\n",
        "   'Power CP2',\n",
        "   'Power CP4',\n",
        "   'Power CP6',\n",
        "   'Power TP8',\n",
        "   'Power TPP9h',\n",
        "   'Power TPP7h',\n",
        "   'Power CPP5h',\n",
        "   'Power CPP3h',\n",
        "   'Power CPP1h',\n",
        "   'Power CPP2h',\n",
        "   'Power CPP4h',\n",
        "   'Power CPP6h',\n",
        "   'Power TPP8h',\n",
        "   'Power TPP10h',\n",
        "   'Power P9',\n",
        "   'Power P7',\n",
        "   'Power P5',\n",
        "   'Power P3',\n",
        "   'Power P1',\n",
        "   'Power Pz',\n",
        "   'Power P2',\n",
        "   'Power P4',\n",
        "   'Power P6',\n",
        "   'Power P8',\n",
        "   'Power P10',\n",
        "   'Power PPO9h',\n",
        "   'Power PPO5h',\n",
        "   'Power PPO1',\n",
        "   'Power PPO2',\n",
        "   'Power PPO6h',\n",
        "   'Power PPO10h',\n",
        "   'Power PO9',\n",
        "   'Power PO7',\n",
        "   'Power PO5',\n",
        "   'Power PO3',\n",
        "   'Power POz',\n",
        "   'Power PO4',\n",
        "   'Power PO6',\n",
        "   'Power PO8',\n",
        "   'Power PO10',\n",
        "   'Power POO9h',\n",
        "   'Power POO3h',\n",
        "   'Power POO4h',\n",
        "   'Power POO10h',\n",
        "   'Power O1',\n",
        "   'Power Oz',\n",
        "   'Power O2',\n",
        "   'Power OI1h',\n",
        "   'Power OI2h',\n",
        "   'Power I1',\n",
        "   'Power Iz',\n",
        "   'Power I2']]}"
       ]
      }
     ],
     "prompt_number": 9
    },
    {
     "cell_type": "code",
     "collapsed": false,
     "input": [
      "F_baseline['feature_labels']"
     ],
     "language": "python",
     "metadata": {},
     "outputs": [
      {
       "output_type": "pyout",
       "prompt_number": 10,
       "text": [
        "[array([[['FFT', [0, 0]], ['FFT', [0, 1]], ['FFT', [0, 2]], ...,\n",
        "         ['FFT', [0, 257]], ['FFT', [0, 258]], ['FFT', [0, 259]]],\n",
        "        [['FFT', [1, 0]], ['FFT', [1, 1]], ['FFT', [1, 2]], ...,\n",
        "         ['FFT', [1, 257]], ['FFT', [1, 258]], ['FFT', [1, 259]]],\n",
        "        [['FFT', [2, 0]], ['FFT', [2, 1]], ['FFT', [2, 2]], ...,\n",
        "         ['FFT', [2, 257]], ['FFT', [2, 258]], ['FFT', [2, 259]]],\n",
        "        ..., \n",
        "        [['FFT', [125, 0]], ['FFT', [125, 1]], ['FFT', [125, 2]], ...,\n",
        "         ['FFT', [125, 257]], ['FFT', [125, 258]], ['FFT', [125, 259]]],\n",
        "        [['FFT', [126, 0]], ['FFT', [126, 1]], ['FFT', [126, 2]], ...,\n",
        "         ['FFT', [126, 257]], ['FFT', [126, 258]], ['FFT', [126, 259]]],\n",
        "        [['FFT', [127, 0]], ['FFT', [127, 1]], ['FFT', [127, 2]], ...,\n",
        "         ['FFT', [127, 257]], ['FFT', [127, 258]], ['FFT', [127, 259]]]], dtype=object),\n",
        " array([[['FFTc', [0, 0]], ['FFTc', [0, 1]], ['FFTc', [0, 2]], ...,\n",
        "         ['FFTc', [0, 126]], ['FFTc', [0, 127]], ['FFTc', [0, 128]]],\n",
        "        [['FFTc', [1, 0]], ['FFTc', [1, 1]], ['FFTc', [1, 2]], ...,\n",
        "         ['FFTc', [1, 126]], ['FFTc', [1, 127]], ['FFTc', [1, 128]]],\n",
        "        [['FFTc', [2, 0]], ['FFTc', [2, 1]], ['FFTc', [2, 2]], ...,\n",
        "         ['FFTc', [2, 126]], ['FFTc', [2, 127]], ['FFTc', [2, 128]]],\n",
        "        ..., \n",
        "        [['FFTc', [125, 0]], ['FFTc', [125, 1]], ['FFTc', [125, 2]], ...,\n",
        "         ['FFTc', [125, 126]], ['FFTc', [125, 127]], ['FFTc', [125, 128]]],\n",
        "        [['FFTc', [126, 0]], ['FFTc', [126, 1]], ['FFTc', [126, 2]], ...,\n",
        "         ['FFTc', [126, 126]], ['FFTc', [126, 127]], ['FFTc', [126, 128]]],\n",
        "        [['FFTc', [127, 0]], ['FFTc', [127, 1]], ['FFTc', [127, 2]], ...,\n",
        "         ['FFTc', [127, 126]], ['FFTc', [127, 127]], ['FFTc', [127, 128]]]], dtype=object),\n",
        " array([[['Phase', [0, 0]], ['Phase', [0, 1]], ['Phase', [0, 2]], ...,\n",
        "         ['Phase', [0, 257]], ['Phase', [0, 258]], ['Phase', [0, 259]]],\n",
        "        [['Phase', [1, 0]], ['Phase', [1, 1]], ['Phase', [1, 2]], ...,\n",
        "         ['Phase', [1, 257]], ['Phase', [1, 258]], ['Phase', [1, 259]]],\n",
        "        [['Phase', [2, 0]], ['Phase', [2, 1]], ['Phase', [2, 2]], ...,\n",
        "         ['Phase', [2, 257]], ['Phase', [2, 258]], ['Phase', [2, 259]]],\n",
        "        ..., \n",
        "        [['Phase', [125, 0]], ['Phase', [125, 1]], ['Phase', [125, 2]], ...,\n",
        "         ['Phase', [125, 257]], ['Phase', [125, 258]], ['Phase', [125, 259]]],\n",
        "        [['Phase', [126, 0]], ['Phase', [126, 1]], ['Phase', [126, 2]], ...,\n",
        "         ['Phase', [126, 257]], ['Phase', [126, 258]], ['Phase', [126, 259]]],\n",
        "        [['Phase', [127, 0]], ['Phase', [127, 1]], ['Phase', [127, 2]], ...,\n",
        "         ['Phase', [127, 257]], ['Phase', [127, 258]], ['Phase', [127, 259]]]], dtype=object),\n",
        " array([[['Phasec', [0, 0]], ['Phasec', [0, 1]], ['Phasec', [0, 2]], ...,\n",
        "         ['Phasec', [0, 126]], ['Phasec', [0, 127]], ['Phasec', [0, 128]]],\n",
        "        [['Phasec', [1, 0]], ['Phasec', [1, 1]], ['Phasec', [1, 2]], ...,\n",
        "         ['Phasec', [1, 126]], ['Phasec', [1, 127]], ['Phasec', [1, 128]]],\n",
        "        [['Phasec', [2, 0]], ['Phasec', [2, 1]], ['Phasec', [2, 2]], ...,\n",
        "         ['Phasec', [2, 126]], ['Phasec', [2, 127]], ['Phasec', [2, 128]]],\n",
        "        ..., \n",
        "        [['Phasec', [125, 0]], ['Phasec', [125, 1]], ['Phasec', [125, 2]],\n",
        "         ..., ['Phasec', [125, 126]], ['Phasec', [125, 127]],\n",
        "         ['Phasec', [125, 128]]],\n",
        "        [['Phasec', [126, 0]], ['Phasec', [126, 1]], ['Phasec', [126, 2]],\n",
        "         ..., ['Phasec', [126, 126]], ['Phasec', [126, 127]],\n",
        "         ['Phasec', [126, 128]]],\n",
        "        [['Phasec', [127, 0]], ['Phasec', [127, 1]], ['Phasec', [127, 2]],\n",
        "         ..., ['Phasec', [127, 126]], ['Phasec', [127, 127]],\n",
        "         ['Phasec', [127, 128]]]], dtype=object),\n",
        " array([['Mean', [0]], ['Mean', [1]], ['Mean', [2]], ['Mean', [3]],\n",
        "        ['Mean', [4]], ['Mean', [5]], ['Mean', [6]], ['Mean', [7]],\n",
        "        ['Mean', [8]], ['Mean', [9]], ['Mean', [10]], ['Mean', [11]],\n",
        "        ['Mean', [12]], ['Mean', [13]], ['Mean', [14]], ['Mean', [15]],\n",
        "        ['Mean', [16]], ['Mean', [17]], ['Mean', [18]], ['Mean', [19]],\n",
        "        ['Mean', [20]], ['Mean', [21]], ['Mean', [22]], ['Mean', [23]],\n",
        "        ['Mean', [24]], ['Mean', [25]], ['Mean', [26]], ['Mean', [27]],\n",
        "        ['Mean', [28]], ['Mean', [29]], ['Mean', [30]], ['Mean', [31]],\n",
        "        ['Mean', [32]], ['Mean', [33]], ['Mean', [34]], ['Mean', [35]],\n",
        "        ['Mean', [36]], ['Mean', [37]], ['Mean', [38]], ['Mean', [39]],\n",
        "        ['Mean', [40]], ['Mean', [41]], ['Mean', [42]], ['Mean', [43]],\n",
        "        ['Mean', [44]], ['Mean', [45]], ['Mean', [46]], ['Mean', [47]],\n",
        "        ['Mean', [48]], ['Mean', [49]], ['Mean', [50]], ['Mean', [51]],\n",
        "        ['Mean', [52]], ['Mean', [53]], ['Mean', [54]], ['Mean', [55]],\n",
        "        ['Mean', [56]], ['Mean', [57]], ['Mean', [58]], ['Mean', [59]],\n",
        "        ['Mean', [60]], ['Mean', [61]], ['Mean', [62]], ['Mean', [63]],\n",
        "        ['Mean', [64]], ['Mean', [65]], ['Mean', [66]], ['Mean', [67]],\n",
        "        ['Mean', [68]], ['Mean', [69]], ['Mean', [70]], ['Mean', [71]],\n",
        "        ['Mean', [72]], ['Mean', [73]], ['Mean', [74]], ['Mean', [75]],\n",
        "        ['Mean', [76]], ['Mean', [77]], ['Mean', [78]], ['Mean', [79]],\n",
        "        ['Mean', [80]], ['Mean', [81]], ['Mean', [82]], ['Mean', [83]],\n",
        "        ['Mean', [84]], ['Mean', [85]], ['Mean', [86]], ['Mean', [87]],\n",
        "        ['Mean', [88]], ['Mean', [89]], ['Mean', [90]], ['Mean', [91]],\n",
        "        ['Mean', [92]], ['Mean', [93]], ['Mean', [94]], ['Mean', [95]],\n",
        "        ['Mean', [96]], ['Mean', [97]], ['Mean', [98]], ['Mean', [99]],\n",
        "        ['Mean', [100]], ['Mean', [101]], ['Mean', [102]], ['Mean', [103]],\n",
        "        ['Mean', [104]], ['Mean', [105]], ['Mean', [106]], ['Mean', [107]],\n",
        "        ['Mean', [108]], ['Mean', [109]], ['Mean', [110]], ['Mean', [111]],\n",
        "        ['Mean', [112]], ['Mean', [113]], ['Mean', [114]], ['Mean', [115]],\n",
        "        ['Mean', [116]], ['Mean', [117]], ['Mean', [118]], ['Mean', [119]],\n",
        "        ['Mean', [120]], ['Mean', [121]], ['Mean', [122]], ['Mean', [123]],\n",
        "        ['Mean', [124]], ['Mean', [125]], ['Mean', [126]], ['Mean', [127]]], dtype=object),\n",
        " array([['Meanc', [0]], ['Meanc', [1]], ['Meanc', [2]], ['Meanc', [3]],\n",
        "        ['Meanc', [4]], ['Meanc', [5]], ['Meanc', [6]], ['Meanc', [7]],\n",
        "        ['Meanc', [8]], ['Meanc', [9]], ['Meanc', [10]], ['Meanc', [11]],\n",
        "        ['Meanc', [12]], ['Meanc', [13]], ['Meanc', [14]], ['Meanc', [15]],\n",
        "        ['Meanc', [16]], ['Meanc', [17]], ['Meanc', [18]], ['Meanc', [19]],\n",
        "        ['Meanc', [20]], ['Meanc', [21]], ['Meanc', [22]], ['Meanc', [23]],\n",
        "        ['Meanc', [24]], ['Meanc', [25]], ['Meanc', [26]], ['Meanc', [27]],\n",
        "        ['Meanc', [28]], ['Meanc', [29]], ['Meanc', [30]], ['Meanc', [31]],\n",
        "        ['Meanc', [32]], ['Meanc', [33]], ['Meanc', [34]], ['Meanc', [35]],\n",
        "        ['Meanc', [36]], ['Meanc', [37]], ['Meanc', [38]], ['Meanc', [39]],\n",
        "        ['Meanc', [40]], ['Meanc', [41]], ['Meanc', [42]], ['Meanc', [43]],\n",
        "        ['Meanc', [44]], ['Meanc', [45]], ['Meanc', [46]], ['Meanc', [47]],\n",
        "        ['Meanc', [48]], ['Meanc', [49]], ['Meanc', [50]], ['Meanc', [51]],\n",
        "        ['Meanc', [52]], ['Meanc', [53]], ['Meanc', [54]], ['Meanc', [55]],\n",
        "        ['Meanc', [56]], ['Meanc', [57]], ['Meanc', [58]], ['Meanc', [59]],\n",
        "        ['Meanc', [60]], ['Meanc', [61]], ['Meanc', [62]], ['Meanc', [63]],\n",
        "        ['Meanc', [64]], ['Meanc', [65]], ['Meanc', [66]], ['Meanc', [67]],\n",
        "        ['Meanc', [68]], ['Meanc', [69]], ['Meanc', [70]], ['Meanc', [71]],\n",
        "        ['Meanc', [72]], ['Meanc', [73]], ['Meanc', [74]], ['Meanc', [75]],\n",
        "        ['Meanc', [76]], ['Meanc', [77]], ['Meanc', [78]], ['Meanc', [79]],\n",
        "        ['Meanc', [80]], ['Meanc', [81]], ['Meanc', [82]], ['Meanc', [83]],\n",
        "        ['Meanc', [84]], ['Meanc', [85]], ['Meanc', [86]], ['Meanc', [87]],\n",
        "        ['Meanc', [88]], ['Meanc', [89]], ['Meanc', [90]], ['Meanc', [91]],\n",
        "        ['Meanc', [92]], ['Meanc', [93]], ['Meanc', [94]], ['Meanc', [95]],\n",
        "        ['Meanc', [96]], ['Meanc', [97]], ['Meanc', [98]], ['Meanc', [99]],\n",
        "        ['Meanc', [100]], ['Meanc', [101]], ['Meanc', [102]],\n",
        "        ['Meanc', [103]], ['Meanc', [104]], ['Meanc', [105]],\n",
        "        ['Meanc', [106]], ['Meanc', [107]], ['Meanc', [108]],\n",
        "        ['Meanc', [109]], ['Meanc', [110]], ['Meanc', [111]],\n",
        "        ['Meanc', [112]], ['Meanc', [113]], ['Meanc', [114]],\n",
        "        ['Meanc', [115]], ['Meanc', [116]], ['Meanc', [117]],\n",
        "        ['Meanc', [118]], ['Meanc', [119]], ['Meanc', [120]],\n",
        "        ['Meanc', [121]], ['Meanc', [122]], ['Meanc', [123]],\n",
        "        ['Meanc', [124]], ['Meanc', [125]], ['Meanc', [126]],\n",
        "        ['Meanc', [127]]], dtype=object),\n",
        " array([['Power', [0]], ['Power', [1]], ['Power', [2]], ['Power', [3]],\n",
        "        ['Power', [4]], ['Power', [5]], ['Power', [6]], ['Power', [7]],\n",
        "        ['Power', [8]], ['Power', [9]], ['Power', [10]], ['Power', [11]],\n",
        "        ['Power', [12]], ['Power', [13]], ['Power', [14]], ['Power', [15]],\n",
        "        ['Power', [16]], ['Power', [17]], ['Power', [18]], ['Power', [19]],\n",
        "        ['Power', [20]], ['Power', [21]], ['Power', [22]], ['Power', [23]],\n",
        "        ['Power', [24]], ['Power', [25]], ['Power', [26]], ['Power', [27]],\n",
        "        ['Power', [28]], ['Power', [29]], ['Power', [30]], ['Power', [31]],\n",
        "        ['Power', [32]], ['Power', [33]], ['Power', [34]], ['Power', [35]],\n",
        "        ['Power', [36]], ['Power', [37]], ['Power', [38]], ['Power', [39]],\n",
        "        ['Power', [40]], ['Power', [41]], ['Power', [42]], ['Power', [43]],\n",
        "        ['Power', [44]], ['Power', [45]], ['Power', [46]], ['Power', [47]],\n",
        "        ['Power', [48]], ['Power', [49]], ['Power', [50]], ['Power', [51]],\n",
        "        ['Power', [52]], ['Power', [53]], ['Power', [54]], ['Power', [55]],\n",
        "        ['Power', [56]], ['Power', [57]], ['Power', [58]], ['Power', [59]],\n",
        "        ['Power', [60]], ['Power', [61]], ['Power', [62]], ['Power', [63]],\n",
        "        ['Power', [64]], ['Power', [65]], ['Power', [66]], ['Power', [67]],\n",
        "        ['Power', [68]], ['Power', [69]], ['Power', [70]], ['Power', [71]],\n",
        "        ['Power', [72]], ['Power', [73]], ['Power', [74]], ['Power', [75]],\n",
        "        ['Power', [76]], ['Power', [77]], ['Power', [78]], ['Power', [79]],\n",
        "        ['Power', [80]], ['Power', [81]], ['Power', [82]], ['Power', [83]],\n",
        "        ['Power', [84]], ['Power', [85]], ['Power', [86]], ['Power', [87]],\n",
        "        ['Power', [88]], ['Power', [89]], ['Power', [90]], ['Power', [91]],\n",
        "        ['Power', [92]], ['Power', [93]], ['Power', [94]], ['Power', [95]],\n",
        "        ['Power', [96]], ['Power', [97]], ['Power', [98]], ['Power', [99]],\n",
        "        ['Power', [100]], ['Power', [101]], ['Power', [102]],\n",
        "        ['Power', [103]], ['Power', [104]], ['Power', [105]],\n",
        "        ['Power', [106]], ['Power', [107]], ['Power', [108]],\n",
        "        ['Power', [109]], ['Power', [110]], ['Power', [111]],\n",
        "        ['Power', [112]], ['Power', [113]], ['Power', [114]],\n",
        "        ['Power', [115]], ['Power', [116]], ['Power', [117]],\n",
        "        ['Power', [118]], ['Power', [119]], ['Power', [120]],\n",
        "        ['Power', [121]], ['Power', [122]], ['Power', [123]],\n",
        "        ['Power', [124]], ['Power', [125]], ['Power', [126]],\n",
        "        ['Power', [127]]], dtype=object)]"
       ]
      }
     ],
     "prompt_number": 10
    },
    {
     "cell_type": "code",
     "collapsed": true,
     "input": [],
     "language": "python",
     "metadata": {},
     "outputs": [],
     "prompt_number": 11
    }
   ],
   "metadata": {}
  }
 ]
}
